{
 "cells": [
  {
   "cell_type": "code",
   "execution_count": 1,
   "metadata": {
    "tags": []
   },
   "outputs": [
    {
     "name": "stderr",
     "output_type": "stream",
     "text": [
      "\u001b[34m\u001b[1mwandb\u001b[0m: Currently logged in as: \u001b[33mantoine-toffano\u001b[0m (\u001b[33mmlb\u001b[0m). Use \u001b[1m`wandb login --relogin`\u001b[0m to force relogin\n"
     ]
    },
    {
     "data": {
      "text/html": [
       "wandb version 0.15.3 is available!  To upgrade, please run:\n",
       " $ pip install wandb --upgrade"
      ],
      "text/plain": [
       "<IPython.core.display.HTML object>"
      ]
     },
     "metadata": {},
     "output_type": "display_data"
    },
    {
     "data": {
      "text/html": [
       "Tracking run with wandb version 0.14.0"
      ],
      "text/plain": [
       "<IPython.core.display.HTML object>"
      ]
     },
     "metadata": {},
     "output_type": "display_data"
    },
    {
     "data": {
      "text/html": [
       "Run data is saved locally in <code>/home/antoine/gene_pheno_pred/wandb/run-20230531_095941-ih1hnxe4</code>"
      ],
      "text/plain": [
       "<IPython.core.display.HTML object>"
      ]
     },
     "metadata": {},
     "output_type": "display_data"
    },
    {
     "data": {
      "text/html": [
       "Syncing run <strong><a href='https://wandb.ai/mlb/cigap-classif/runs/ih1hnxe4' target=\"_blank\">polar-grass-47</a></strong> to <a href='https://wandb.ai/mlb/cigap-classif' target=\"_blank\">Weights & Biases</a> (<a href='https://wandb.me/run' target=\"_blank\">docs</a>)<br/>"
      ],
      "text/plain": [
       "<IPython.core.display.HTML object>"
      ]
     },
     "metadata": {},
     "output_type": "display_data"
    },
    {
     "data": {
      "text/html": [
       " View project at <a href='https://wandb.ai/mlb/cigap-classif' target=\"_blank\">https://wandb.ai/mlb/cigap-classif</a>"
      ],
      "text/plain": [
       "<IPython.core.display.HTML object>"
      ]
     },
     "metadata": {},
     "output_type": "display_data"
    },
    {
     "data": {
      "text/html": [
       " View run at <a href='https://wandb.ai/mlb/cigap-classif/runs/ih1hnxe4' target=\"_blank\">https://wandb.ai/mlb/cigap-classif/runs/ih1hnxe4</a>"
      ],
      "text/plain": [
       "<IPython.core.display.HTML object>"
      ]
     },
     "metadata": {},
     "output_type": "display_data"
    },
    {
     "data": {
      "text/html": [
       "<button onClick=\"this.nextSibling.style.display='block';this.style.display='none';\">Display W&B run</button><iframe src='https://wandb.ai/mlb/cigap-classif/runs/ih1hnxe4?jupyter=true' style='border:none;width:100%;height:420px;display:none;'></iframe>"
      ],
      "text/plain": [
       "<wandb.sdk.wandb_run.Run at 0x7fdc73fbcd60>"
      ]
     },
     "execution_count": 1,
     "metadata": {},
     "output_type": "execute_result"
    }
   ],
   "source": [
    "from pycaret.classification import *\n",
    "import pandas as pd\n",
    "import os\n",
    "import wandb\n",
    "\n",
    "os.chdir('/home/antoine/gene_pheno_pred')\n",
    "os.environ[\"CUDA_VISIBLE_DEVICES\"]=\"1\"\n",
    "os.environ[\"WANDB_API_KEY\"]=\"4e5748d6c6f3917c78cdc38a516a1bac776faf58\"\n",
    "wandb.login()\n",
    "wandb.init(\n",
    "    project=\"cigap-classif\",\n",
    ")\n"
   ]
  },
  {
   "cell_type": "code",
   "execution_count": 2,
   "metadata": {
    "tags": []
   },
   "outputs": [
    {
     "data": {
      "text/html": [
       "<div>\n",
       "<style scoped>\n",
       "    .dataframe tbody tr th:only-of-type {\n",
       "        vertical-align: middle;\n",
       "    }\n",
       "\n",
       "    .dataframe tbody tr th {\n",
       "        vertical-align: top;\n",
       "    }\n",
       "\n",
       "    .dataframe thead th {\n",
       "        text-align: right;\n",
       "    }\n",
       "</style>\n",
       "<table border=\"1\" class=\"dataframe\">\n",
       "  <thead>\n",
       "    <tr style=\"text-align: right;\">\n",
       "      <th></th>\n",
       "      <th>0</th>\n",
       "      <th>1</th>\n",
       "      <th>2</th>\n",
       "      <th>3</th>\n",
       "      <th>4</th>\n",
       "      <th>5</th>\n",
       "      <th>6</th>\n",
       "      <th>7</th>\n",
       "      <th>8</th>\n",
       "      <th>9</th>\n",
       "      <th>...</th>\n",
       "      <th>94</th>\n",
       "      <th>95</th>\n",
       "      <th>96</th>\n",
       "      <th>97</th>\n",
       "      <th>98</th>\n",
       "      <th>99</th>\n",
       "      <th>head</th>\n",
       "      <th>relation</th>\n",
       "      <th>tail</th>\n",
       "      <th>link</th>\n",
       "    </tr>\n",
       "  </thead>\n",
       "  <tbody>\n",
       "    <tr>\n",
       "      <th>0</th>\n",
       "      <td>5.836996e-03</td>\n",
       "      <td>-5.836996e-03</td>\n",
       "      <td>5.836996e-03</td>\n",
       "      <td>-5.836996e-03</td>\n",
       "      <td>5.836996e-03</td>\n",
       "      <td>-5.836996e-03</td>\n",
       "      <td>-5.836996e-03</td>\n",
       "      <td>5.836996e-03</td>\n",
       "      <td>-5.836996e-03</td>\n",
       "      <td>5.836996e-03</td>\n",
       "      <td>...</td>\n",
       "      <td>7.402980e-40</td>\n",
       "      <td>-7.402980e-40</td>\n",
       "      <td>-7.402980e-40</td>\n",
       "      <td>-7.402980e-40</td>\n",
       "      <td>-7.402980e-40</td>\n",
       "      <td>7.402980e-40</td>\n",
       "      <td>https://wormbase.org/wbdata/pheno-304950</td>\n",
       "      <td>no_link_known</td>\n",
       "      <td>https://wormbase.org/wbdata/pheno-409784</td>\n",
       "      <td>0</td>\n",
       "    </tr>\n",
       "    <tr>\n",
       "      <th>1</th>\n",
       "      <td>-1.748095e-01</td>\n",
       "      <td>7.939203e-02</td>\n",
       "      <td>-3.909224e-02</td>\n",
       "      <td>1.680178e-01</td>\n",
       "      <td>1.940414e-01</td>\n",
       "      <td>1.019385e-01</td>\n",
       "      <td>-1.454500e-01</td>\n",
       "      <td>6.174701e-02</td>\n",
       "      <td>-9.770533e-02</td>\n",
       "      <td>2.707241e-01</td>\n",
       "      <td>...</td>\n",
       "      <td>2.809293e-01</td>\n",
       "      <td>-1.936861e-01</td>\n",
       "      <td>-3.528511e-01</td>\n",
       "      <td>-2.135466e-02</td>\n",
       "      <td>-8.366704e-02</td>\n",
       "      <td>1.177825e-01</td>\n",
       "      <td>https://wormbase.org/wbdata/dev-30713</td>\n",
       "      <td>no_link_known</td>\n",
       "      <td>https://wormbase.org/species/c_elegans/gene/WB...</td>\n",
       "      <td>0</td>\n",
       "    </tr>\n",
       "    <tr>\n",
       "      <th>2</th>\n",
       "      <td>2.041774e-02</td>\n",
       "      <td>-2.696791e-02</td>\n",
       "      <td>2.696791e-02</td>\n",
       "      <td>-2.041774e-02</td>\n",
       "      <td>-2.041774e-02</td>\n",
       "      <td>-2.041774e-02</td>\n",
       "      <td>-2.041774e-02</td>\n",
       "      <td>2.696791e-02</td>\n",
       "      <td>-2.696791e-02</td>\n",
       "      <td>2.696791e-02</td>\n",
       "      <td>...</td>\n",
       "      <td>1.446027e-01</td>\n",
       "      <td>-1.882798e-01</td>\n",
       "      <td>-7.995747e-03</td>\n",
       "      <td>-2.688991e-01</td>\n",
       "      <td>-7.134874e-03</td>\n",
       "      <td>8.519015e-03</td>\n",
       "      <td>https://wormbase.org/wbdata/pheno-103361</td>\n",
       "      <td>no_link_known</td>\n",
       "      <td>https://wormbase.org/species/c_elegans/gene/WB...</td>\n",
       "      <td>0</td>\n",
       "    </tr>\n",
       "    <tr>\n",
       "      <th>3</th>\n",
       "      <td>-5.827807e-03</td>\n",
       "      <td>-5.827807e-03</td>\n",
       "      <td>5.827807e-03</td>\n",
       "      <td>9.991676e-01</td>\n",
       "      <td>5.827807e-03</td>\n",
       "      <td>5.827807e-03</td>\n",
       "      <td>5.827807e-03</td>\n",
       "      <td>5.827807e-03</td>\n",
       "      <td>-5.827807e-03</td>\n",
       "      <td>-5.827807e-03</td>\n",
       "      <td>...</td>\n",
       "      <td>-8.091460e-40</td>\n",
       "      <td>1.000000e+00</td>\n",
       "      <td>8.091460e-40</td>\n",
       "      <td>8.091460e-40</td>\n",
       "      <td>-8.091460e-40</td>\n",
       "      <td>8.091460e-40</td>\n",
       "      <td>https://wormbase.org/wbinter/000566991</td>\n",
       "      <td>no_link_known</td>\n",
       "      <td>https://wormbase.org/wbinter/000569262</td>\n",
       "      <td>0</td>\n",
       "    </tr>\n",
       "    <tr>\n",
       "      <th>4</th>\n",
       "      <td>7.872350e-40</td>\n",
       "      <td>-7.672700e-40</td>\n",
       "      <td>7.672700e-40</td>\n",
       "      <td>7.672700e-40</td>\n",
       "      <td>8.266440e-40</td>\n",
       "      <td>-4.410170e-40</td>\n",
       "      <td>-8.266440e-40</td>\n",
       "      <td>-6.114330e-40</td>\n",
       "      <td>5.384010e-40</td>\n",
       "      <td>9.183330e-40</td>\n",
       "      <td>...</td>\n",
       "      <td>9.836293e-03</td>\n",
       "      <td>2.440207e-02</td>\n",
       "      <td>1.803210e-02</td>\n",
       "      <td>-1.803210e-02</td>\n",
       "      <td>-1.512230e-02</td>\n",
       "      <td>1.512230e-02</td>\n",
       "      <td>https://wormbase.org/wbdata/pheno-340331</td>\n",
       "      <td>http://semanticscience.org/resource/SIO_000281</td>\n",
       "      <td>https://wormbase.org/species/all/phenotype/WBP...</td>\n",
       "      <td>1</td>\n",
       "    </tr>\n",
       "    <tr>\n",
       "      <th>...</th>\n",
       "      <td>...</td>\n",
       "      <td>...</td>\n",
       "      <td>...</td>\n",
       "      <td>...</td>\n",
       "      <td>...</td>\n",
       "      <td>...</td>\n",
       "      <td>...</td>\n",
       "      <td>...</td>\n",
       "      <td>...</td>\n",
       "      <td>...</td>\n",
       "      <td>...</td>\n",
       "      <td>...</td>\n",
       "      <td>...</td>\n",
       "      <td>...</td>\n",
       "      <td>...</td>\n",
       "      <td>...</td>\n",
       "      <td>...</td>\n",
       "      <td>...</td>\n",
       "      <td>...</td>\n",
       "      <td>...</td>\n",
       "      <td>...</td>\n",
       "    </tr>\n",
       "    <tr>\n",
       "      <th>468719</th>\n",
       "      <td>3.016613e-03</td>\n",
       "      <td>3.016613e-03</td>\n",
       "      <td>-3.016613e-03</td>\n",
       "      <td>-3.016613e-03</td>\n",
       "      <td>-3.016613e-03</td>\n",
       "      <td>-3.016612e-03</td>\n",
       "      <td>-3.071832e-05</td>\n",
       "      <td>-3.016613e-03</td>\n",
       "      <td>3.016613e-03</td>\n",
       "      <td>-3.016612e-03</td>\n",
       "      <td>...</td>\n",
       "      <td>1.828470e-02</td>\n",
       "      <td>1.828470e-02</td>\n",
       "      <td>1.828470e-02</td>\n",
       "      <td>-1.828470e-02</td>\n",
       "      <td>-1.828470e-02</td>\n",
       "      <td>1.828470e-02</td>\n",
       "      <td>https://wormbase.org/wbdata/pheno-124635</td>\n",
       "      <td>http://semanticscience.org/resource/SIO_000281</td>\n",
       "      <td>https://wormbase.org/species/all/phenotype/WBP...</td>\n",
       "      <td>1</td>\n",
       "    </tr>\n",
       "    <tr>\n",
       "      <th>468720</th>\n",
       "      <td>7.038930e-40</td>\n",
       "      <td>-7.038930e-40</td>\n",
       "      <td>7.038930e-40</td>\n",
       "      <td>-7.038930e-40</td>\n",
       "      <td>7.038930e-40</td>\n",
       "      <td>5.288740e-40</td>\n",
       "      <td>-7.038930e-40</td>\n",
       "      <td>7.038930e-40</td>\n",
       "      <td>-7.038930e-40</td>\n",
       "      <td>7.038930e-40</td>\n",
       "      <td>...</td>\n",
       "      <td>1.230971e-01</td>\n",
       "      <td>-4.292348e-02</td>\n",
       "      <td>-2.041084e-02</td>\n",
       "      <td>9.341905e-03</td>\n",
       "      <td>-4.076541e-02</td>\n",
       "      <td>8.180007e-02</td>\n",
       "      <td>https://wormbase.org/wbdata/pheno-91418</td>\n",
       "      <td>http://www.semanticweb.org/needed-terms#001</td>\n",
       "      <td>https://wormbase.org/species/c_elegans/gene/WB...</td>\n",
       "      <td>1</td>\n",
       "    </tr>\n",
       "    <tr>\n",
       "      <th>468721</th>\n",
       "      <td>2.123445e-03</td>\n",
       "      <td>2.123445e-03</td>\n",
       "      <td>-2.123445e-03</td>\n",
       "      <td>-2.123445e-03</td>\n",
       "      <td>9.998896e-01</td>\n",
       "      <td>2.123445e-03</td>\n",
       "      <td>2.123445e-03</td>\n",
       "      <td>-2.123445e-03</td>\n",
       "      <td>2.123445e-03</td>\n",
       "      <td>2.123445e-03</td>\n",
       "      <td>...</td>\n",
       "      <td>-3.963084e-02</td>\n",
       "      <td>3.453416e-02</td>\n",
       "      <td>3.453416e-02</td>\n",
       "      <td>1.278986e-02</td>\n",
       "      <td>-3.963084e-02</td>\n",
       "      <td>1.278986e-02</td>\n",
       "      <td>https://wormbase.org/wbdata/pheno-107161</td>\n",
       "      <td>no_link_known</td>\n",
       "      <td>https://wormbase.org/wbdata/pheno-309351</td>\n",
       "      <td>0</td>\n",
       "    </tr>\n",
       "    <tr>\n",
       "      <th>468722</th>\n",
       "      <td>-1.289620e-28</td>\n",
       "      <td>1.289620e-28</td>\n",
       "      <td>-1.289620e-28</td>\n",
       "      <td>-1.289620e-28</td>\n",
       "      <td>-1.289620e-28</td>\n",
       "      <td>1.289620e-28</td>\n",
       "      <td>-1.289620e-28</td>\n",
       "      <td>1.289620e-28</td>\n",
       "      <td>-1.289620e-28</td>\n",
       "      <td>-1.289620e-28</td>\n",
       "      <td>...</td>\n",
       "      <td>-2.396431e-02</td>\n",
       "      <td>1.227127e-02</td>\n",
       "      <td>6.006362e-03</td>\n",
       "      <td>-6.006362e-03</td>\n",
       "      <td>-1.227127e-02</td>\n",
       "      <td>6.006362e-03</td>\n",
       "      <td>https://wormbase.org/wbdata/pheno-428005</td>\n",
       "      <td>http://semanticscience.org/resource/SIO_000281</td>\n",
       "      <td>https://wormbase.org/species/all/phenotype/WBP...</td>\n",
       "      <td>1</td>\n",
       "    </tr>\n",
       "    <tr>\n",
       "      <th>468723</th>\n",
       "      <td>1.965184e-01</td>\n",
       "      <td>-2.921452e-01</td>\n",
       "      <td>5.530585e-02</td>\n",
       "      <td>-1.206225e-01</td>\n",
       "      <td>5.314697e-02</td>\n",
       "      <td>1.170829e-02</td>\n",
       "      <td>-2.856669e-01</td>\n",
       "      <td>8.678138e-02</td>\n",
       "      <td>-5.575703e-02</td>\n",
       "      <td>1.887388e-01</td>\n",
       "      <td>...</td>\n",
       "      <td>9.117507e-03</td>\n",
       "      <td>9.117507e-03</td>\n",
       "      <td>9.117507e-03</td>\n",
       "      <td>-9.117507e-03</td>\n",
       "      <td>-9.117507e-03</td>\n",
       "      <td>9.117507e-03</td>\n",
       "      <td>https://wormbase.org/wbdata/dev-46347</td>\n",
       "      <td>http://www.semanticweb.org/needed-terms#004</td>\n",
       "      <td>https://wormbase.org/species/all/expr_pattern/...</td>\n",
       "      <td>1</td>\n",
       "    </tr>\n",
       "  </tbody>\n",
       "</table>\n",
       "<p>468724 rows × 104 columns</p>\n",
       "</div>"
      ],
      "text/plain": [
       "                   0             1             2             3             4  \\\n",
       "0       5.836996e-03 -5.836996e-03  5.836996e-03 -5.836996e-03  5.836996e-03   \n",
       "1      -1.748095e-01  7.939203e-02 -3.909224e-02  1.680178e-01  1.940414e-01   \n",
       "2       2.041774e-02 -2.696791e-02  2.696791e-02 -2.041774e-02 -2.041774e-02   \n",
       "3      -5.827807e-03 -5.827807e-03  5.827807e-03  9.991676e-01  5.827807e-03   \n",
       "4       7.872350e-40 -7.672700e-40  7.672700e-40  7.672700e-40  8.266440e-40   \n",
       "...              ...           ...           ...           ...           ...   \n",
       "468719  3.016613e-03  3.016613e-03 -3.016613e-03 -3.016613e-03 -3.016613e-03   \n",
       "468720  7.038930e-40 -7.038930e-40  7.038930e-40 -7.038930e-40  7.038930e-40   \n",
       "468721  2.123445e-03  2.123445e-03 -2.123445e-03 -2.123445e-03  9.998896e-01   \n",
       "468722 -1.289620e-28  1.289620e-28 -1.289620e-28 -1.289620e-28 -1.289620e-28   \n",
       "468723  1.965184e-01 -2.921452e-01  5.530585e-02 -1.206225e-01  5.314697e-02   \n",
       "\n",
       "                   5             6             7             8             9  \\\n",
       "0      -5.836996e-03 -5.836996e-03  5.836996e-03 -5.836996e-03  5.836996e-03   \n",
       "1       1.019385e-01 -1.454500e-01  6.174701e-02 -9.770533e-02  2.707241e-01   \n",
       "2      -2.041774e-02 -2.041774e-02  2.696791e-02 -2.696791e-02  2.696791e-02   \n",
       "3       5.827807e-03  5.827807e-03  5.827807e-03 -5.827807e-03 -5.827807e-03   \n",
       "4      -4.410170e-40 -8.266440e-40 -6.114330e-40  5.384010e-40  9.183330e-40   \n",
       "...              ...           ...           ...           ...           ...   \n",
       "468719 -3.016612e-03 -3.071832e-05 -3.016613e-03  3.016613e-03 -3.016612e-03   \n",
       "468720  5.288740e-40 -7.038930e-40  7.038930e-40 -7.038930e-40  7.038930e-40   \n",
       "468721  2.123445e-03  2.123445e-03 -2.123445e-03  2.123445e-03  2.123445e-03   \n",
       "468722  1.289620e-28 -1.289620e-28  1.289620e-28 -1.289620e-28 -1.289620e-28   \n",
       "468723  1.170829e-02 -2.856669e-01  8.678138e-02 -5.575703e-02  1.887388e-01   \n",
       "\n",
       "        ...            94            95            96            97  \\\n",
       "0       ...  7.402980e-40 -7.402980e-40 -7.402980e-40 -7.402980e-40   \n",
       "1       ...  2.809293e-01 -1.936861e-01 -3.528511e-01 -2.135466e-02   \n",
       "2       ...  1.446027e-01 -1.882798e-01 -7.995747e-03 -2.688991e-01   \n",
       "3       ... -8.091460e-40  1.000000e+00  8.091460e-40  8.091460e-40   \n",
       "4       ...  9.836293e-03  2.440207e-02  1.803210e-02 -1.803210e-02   \n",
       "...     ...           ...           ...           ...           ...   \n",
       "468719  ...  1.828470e-02  1.828470e-02  1.828470e-02 -1.828470e-02   \n",
       "468720  ...  1.230971e-01 -4.292348e-02 -2.041084e-02  9.341905e-03   \n",
       "468721  ... -3.963084e-02  3.453416e-02  3.453416e-02  1.278986e-02   \n",
       "468722  ... -2.396431e-02  1.227127e-02  6.006362e-03 -6.006362e-03   \n",
       "468723  ...  9.117507e-03  9.117507e-03  9.117507e-03 -9.117507e-03   \n",
       "\n",
       "                  98            99                                      head  \\\n",
       "0      -7.402980e-40  7.402980e-40  https://wormbase.org/wbdata/pheno-304950   \n",
       "1      -8.366704e-02  1.177825e-01     https://wormbase.org/wbdata/dev-30713   \n",
       "2      -7.134874e-03  8.519015e-03  https://wormbase.org/wbdata/pheno-103361   \n",
       "3      -8.091460e-40  8.091460e-40    https://wormbase.org/wbinter/000566991   \n",
       "4      -1.512230e-02  1.512230e-02  https://wormbase.org/wbdata/pheno-340331   \n",
       "...              ...           ...                                       ...   \n",
       "468719 -1.828470e-02  1.828470e-02  https://wormbase.org/wbdata/pheno-124635   \n",
       "468720 -4.076541e-02  8.180007e-02   https://wormbase.org/wbdata/pheno-91418   \n",
       "468721 -3.963084e-02  1.278986e-02  https://wormbase.org/wbdata/pheno-107161   \n",
       "468722 -1.227127e-02  6.006362e-03  https://wormbase.org/wbdata/pheno-428005   \n",
       "468723 -9.117507e-03  9.117507e-03     https://wormbase.org/wbdata/dev-46347   \n",
       "\n",
       "                                              relation  \\\n",
       "0                                        no_link_known   \n",
       "1                                        no_link_known   \n",
       "2                                        no_link_known   \n",
       "3                                        no_link_known   \n",
       "4       http://semanticscience.org/resource/SIO_000281   \n",
       "...                                                ...   \n",
       "468719  http://semanticscience.org/resource/SIO_000281   \n",
       "468720     http://www.semanticweb.org/needed-terms#001   \n",
       "468721                                   no_link_known   \n",
       "468722  http://semanticscience.org/resource/SIO_000281   \n",
       "468723     http://www.semanticweb.org/needed-terms#004   \n",
       "\n",
       "                                                     tail  link  \n",
       "0                https://wormbase.org/wbdata/pheno-409784     0  \n",
       "1       https://wormbase.org/species/c_elegans/gene/WB...     0  \n",
       "2       https://wormbase.org/species/c_elegans/gene/WB...     0  \n",
       "3                  https://wormbase.org/wbinter/000569262     0  \n",
       "4       https://wormbase.org/species/all/phenotype/WBP...     1  \n",
       "...                                                   ...   ...  \n",
       "468719  https://wormbase.org/species/all/phenotype/WBP...     1  \n",
       "468720  https://wormbase.org/species/c_elegans/gene/WB...     1  \n",
       "468721           https://wormbase.org/wbdata/pheno-309351     0  \n",
       "468722  https://wormbase.org/species/all/phenotype/WBP...     1  \n",
       "468723  https://wormbase.org/species/all/expr_pattern/...     1  \n",
       "\n",
       "[468724 rows x 104 columns]"
      ]
     },
     "execution_count": 2,
     "metadata": {},
     "output_type": "execute_result"
    }
   ],
   "source": [
    "# Load training set\n",
    "df = pd.read_csv('/home/antoine/gene_pheno_pred/TransE_2023-05-27_14-02-23_kg_test.csv' , header=0)\n",
    "\n",
    "df['link'] = df['relation'].apply(lambda x: 1 if x != 'no_link_known' else 0)\n",
    "df"
   ]
  },
  {
   "cell_type": "code",
   "execution_count": 3,
   "metadata": {
    "tags": []
   },
   "outputs": [],
   "source": [
    "df2 = df"
   ]
  },
  {
   "cell_type": "code",
   "execution_count": 4,
   "metadata": {},
   "outputs": [
    {
     "data": {
      "text/html": [
       "<div>\n",
       "<style scoped>\n",
       "    .dataframe tbody tr th:only-of-type {\n",
       "        vertical-align: middle;\n",
       "    }\n",
       "\n",
       "    .dataframe tbody tr th {\n",
       "        vertical-align: top;\n",
       "    }\n",
       "\n",
       "    .dataframe thead th {\n",
       "        text-align: right;\n",
       "    }\n",
       "</style>\n",
       "<table border=\"1\" class=\"dataframe\">\n",
       "  <thead>\n",
       "    <tr style=\"text-align: right;\">\n",
       "      <th></th>\n",
       "      <th>0</th>\n",
       "      <th>1</th>\n",
       "      <th>2</th>\n",
       "      <th>3</th>\n",
       "      <th>4</th>\n",
       "      <th>5</th>\n",
       "      <th>6</th>\n",
       "      <th>7</th>\n",
       "      <th>8</th>\n",
       "      <th>9</th>\n",
       "      <th>...</th>\n",
       "      <th>91</th>\n",
       "      <th>92</th>\n",
       "      <th>93</th>\n",
       "      <th>94</th>\n",
       "      <th>95</th>\n",
       "      <th>96</th>\n",
       "      <th>97</th>\n",
       "      <th>98</th>\n",
       "      <th>99</th>\n",
       "      <th>link</th>\n",
       "    </tr>\n",
       "  </thead>\n",
       "  <tbody>\n",
       "    <tr>\n",
       "      <th>0</th>\n",
       "      <td>5.836996e-03</td>\n",
       "      <td>-5.836996e-03</td>\n",
       "      <td>5.836996e-03</td>\n",
       "      <td>-5.836996e-03</td>\n",
       "      <td>5.836996e-03</td>\n",
       "      <td>-5.836996e-03</td>\n",
       "      <td>-5.836996e-03</td>\n",
       "      <td>5.836996e-03</td>\n",
       "      <td>-5.836996e-03</td>\n",
       "      <td>5.836996e-03</td>\n",
       "      <td>...</td>\n",
       "      <td>-7.402980e-40</td>\n",
       "      <td>-7.402980e-40</td>\n",
       "      <td>-7.402980e-40</td>\n",
       "      <td>7.402980e-40</td>\n",
       "      <td>-7.402980e-40</td>\n",
       "      <td>-7.402980e-40</td>\n",
       "      <td>-7.402980e-40</td>\n",
       "      <td>-7.402980e-40</td>\n",
       "      <td>7.402980e-40</td>\n",
       "      <td>0</td>\n",
       "    </tr>\n",
       "    <tr>\n",
       "      <th>1</th>\n",
       "      <td>-1.748095e-01</td>\n",
       "      <td>7.939203e-02</td>\n",
       "      <td>-3.909224e-02</td>\n",
       "      <td>1.680178e-01</td>\n",
       "      <td>1.940414e-01</td>\n",
       "      <td>1.019385e-01</td>\n",
       "      <td>-1.454500e-01</td>\n",
       "      <td>6.174701e-02</td>\n",
       "      <td>-9.770533e-02</td>\n",
       "      <td>2.707241e-01</td>\n",
       "      <td>...</td>\n",
       "      <td>-8.617318e-02</td>\n",
       "      <td>1.036367e-02</td>\n",
       "      <td>-4.107202e-02</td>\n",
       "      <td>2.809293e-01</td>\n",
       "      <td>-1.936861e-01</td>\n",
       "      <td>-3.528511e-01</td>\n",
       "      <td>-2.135466e-02</td>\n",
       "      <td>-8.366704e-02</td>\n",
       "      <td>1.177825e-01</td>\n",
       "      <td>0</td>\n",
       "    </tr>\n",
       "    <tr>\n",
       "      <th>2</th>\n",
       "      <td>2.041774e-02</td>\n",
       "      <td>-2.696791e-02</td>\n",
       "      <td>2.696791e-02</td>\n",
       "      <td>-2.041774e-02</td>\n",
       "      <td>-2.041774e-02</td>\n",
       "      <td>-2.041774e-02</td>\n",
       "      <td>-2.041774e-02</td>\n",
       "      <td>2.696791e-02</td>\n",
       "      <td>-2.696791e-02</td>\n",
       "      <td>2.696791e-02</td>\n",
       "      <td>...</td>\n",
       "      <td>-3.424598e-01</td>\n",
       "      <td>-2.440976e-01</td>\n",
       "      <td>-4.083187e-02</td>\n",
       "      <td>1.446027e-01</td>\n",
       "      <td>-1.882798e-01</td>\n",
       "      <td>-7.995747e-03</td>\n",
       "      <td>-2.688991e-01</td>\n",
       "      <td>-7.134874e-03</td>\n",
       "      <td>8.519015e-03</td>\n",
       "      <td>0</td>\n",
       "    </tr>\n",
       "    <tr>\n",
       "      <th>3</th>\n",
       "      <td>-5.827807e-03</td>\n",
       "      <td>-5.827807e-03</td>\n",
       "      <td>5.827807e-03</td>\n",
       "      <td>9.991676e-01</td>\n",
       "      <td>5.827807e-03</td>\n",
       "      <td>5.827807e-03</td>\n",
       "      <td>5.827807e-03</td>\n",
       "      <td>5.827807e-03</td>\n",
       "      <td>-5.827807e-03</td>\n",
       "      <td>-5.827807e-03</td>\n",
       "      <td>...</td>\n",
       "      <td>8.091460e-40</td>\n",
       "      <td>8.091460e-40</td>\n",
       "      <td>-8.091460e-40</td>\n",
       "      <td>-8.091460e-40</td>\n",
       "      <td>1.000000e+00</td>\n",
       "      <td>8.091460e-40</td>\n",
       "      <td>8.091460e-40</td>\n",
       "      <td>-8.091460e-40</td>\n",
       "      <td>8.091460e-40</td>\n",
       "      <td>0</td>\n",
       "    </tr>\n",
       "    <tr>\n",
       "      <th>4</th>\n",
       "      <td>7.872350e-40</td>\n",
       "      <td>-7.672700e-40</td>\n",
       "      <td>7.672700e-40</td>\n",
       "      <td>7.672700e-40</td>\n",
       "      <td>8.266440e-40</td>\n",
       "      <td>-4.410170e-40</td>\n",
       "      <td>-8.266440e-40</td>\n",
       "      <td>-6.114330e-40</td>\n",
       "      <td>5.384010e-40</td>\n",
       "      <td>9.183330e-40</td>\n",
       "      <td>...</td>\n",
       "      <td>2.974184e-02</td>\n",
       "      <td>-2.330632e-02</td>\n",
       "      <td>-9.897562e-01</td>\n",
       "      <td>9.836293e-03</td>\n",
       "      <td>2.440207e-02</td>\n",
       "      <td>1.803210e-02</td>\n",
       "      <td>-1.803210e-02</td>\n",
       "      <td>-1.512230e-02</td>\n",
       "      <td>1.512230e-02</td>\n",
       "      <td>1</td>\n",
       "    </tr>\n",
       "    <tr>\n",
       "      <th>...</th>\n",
       "      <td>...</td>\n",
       "      <td>...</td>\n",
       "      <td>...</td>\n",
       "      <td>...</td>\n",
       "      <td>...</td>\n",
       "      <td>...</td>\n",
       "      <td>...</td>\n",
       "      <td>...</td>\n",
       "      <td>...</td>\n",
       "      <td>...</td>\n",
       "      <td>...</td>\n",
       "      <td>...</td>\n",
       "      <td>...</td>\n",
       "      <td>...</td>\n",
       "      <td>...</td>\n",
       "      <td>...</td>\n",
       "      <td>...</td>\n",
       "      <td>...</td>\n",
       "      <td>...</td>\n",
       "      <td>...</td>\n",
       "      <td>...</td>\n",
       "    </tr>\n",
       "    <tr>\n",
       "      <th>468719</th>\n",
       "      <td>3.016613e-03</td>\n",
       "      <td>3.016613e-03</td>\n",
       "      <td>-3.016613e-03</td>\n",
       "      <td>-3.016613e-03</td>\n",
       "      <td>-3.016613e-03</td>\n",
       "      <td>-3.016612e-03</td>\n",
       "      <td>-3.071832e-05</td>\n",
       "      <td>-3.016613e-03</td>\n",
       "      <td>3.016613e-03</td>\n",
       "      <td>-3.016612e-03</td>\n",
       "      <td>...</td>\n",
       "      <td>1.828470e-02</td>\n",
       "      <td>-1.828470e-02</td>\n",
       "      <td>-1.828470e-02</td>\n",
       "      <td>1.828470e-02</td>\n",
       "      <td>1.828470e-02</td>\n",
       "      <td>1.828470e-02</td>\n",
       "      <td>-1.828470e-02</td>\n",
       "      <td>-1.828470e-02</td>\n",
       "      <td>1.828470e-02</td>\n",
       "      <td>1</td>\n",
       "    </tr>\n",
       "    <tr>\n",
       "      <th>468720</th>\n",
       "      <td>7.038930e-40</td>\n",
       "      <td>-7.038930e-40</td>\n",
       "      <td>7.038930e-40</td>\n",
       "      <td>-7.038930e-40</td>\n",
       "      <td>7.038930e-40</td>\n",
       "      <td>5.288740e-40</td>\n",
       "      <td>-7.038930e-40</td>\n",
       "      <td>7.038930e-40</td>\n",
       "      <td>-7.038930e-40</td>\n",
       "      <td>7.038930e-40</td>\n",
       "      <td>...</td>\n",
       "      <td>-1.339873e-03</td>\n",
       "      <td>1.842881e-02</td>\n",
       "      <td>-9.450238e-03</td>\n",
       "      <td>1.230971e-01</td>\n",
       "      <td>-4.292348e-02</td>\n",
       "      <td>-2.041084e-02</td>\n",
       "      <td>9.341905e-03</td>\n",
       "      <td>-4.076541e-02</td>\n",
       "      <td>8.180007e-02</td>\n",
       "      <td>1</td>\n",
       "    </tr>\n",
       "    <tr>\n",
       "      <th>468721</th>\n",
       "      <td>2.123445e-03</td>\n",
       "      <td>2.123445e-03</td>\n",
       "      <td>-2.123445e-03</td>\n",
       "      <td>-2.123445e-03</td>\n",
       "      <td>9.998896e-01</td>\n",
       "      <td>2.123445e-03</td>\n",
       "      <td>2.123445e-03</td>\n",
       "      <td>-2.123445e-03</td>\n",
       "      <td>2.123445e-03</td>\n",
       "      <td>2.123445e-03</td>\n",
       "      <td>...</td>\n",
       "      <td>-3.963084e-02</td>\n",
       "      <td>2.619006e-02</td>\n",
       "      <td>-3.453416e-02</td>\n",
       "      <td>-3.963084e-02</td>\n",
       "      <td>3.453416e-02</td>\n",
       "      <td>3.453416e-02</td>\n",
       "      <td>1.278986e-02</td>\n",
       "      <td>-3.963084e-02</td>\n",
       "      <td>1.278986e-02</td>\n",
       "      <td>0</td>\n",
       "    </tr>\n",
       "    <tr>\n",
       "      <th>468722</th>\n",
       "      <td>-1.289620e-28</td>\n",
       "      <td>1.289620e-28</td>\n",
       "      <td>-1.289620e-28</td>\n",
       "      <td>-1.289620e-28</td>\n",
       "      <td>-1.289620e-28</td>\n",
       "      <td>1.289620e-28</td>\n",
       "      <td>-1.289620e-28</td>\n",
       "      <td>1.289620e-28</td>\n",
       "      <td>-1.289620e-28</td>\n",
       "      <td>-1.289620e-28</td>\n",
       "      <td>...</td>\n",
       "      <td>-9.609431e-02</td>\n",
       "      <td>-1.227127e-02</td>\n",
       "      <td>-6.006362e-03</td>\n",
       "      <td>-2.396431e-02</td>\n",
       "      <td>1.227127e-02</td>\n",
       "      <td>6.006362e-03</td>\n",
       "      <td>-6.006362e-03</td>\n",
       "      <td>-1.227127e-02</td>\n",
       "      <td>6.006362e-03</td>\n",
       "      <td>1</td>\n",
       "    </tr>\n",
       "    <tr>\n",
       "      <th>468723</th>\n",
       "      <td>1.965184e-01</td>\n",
       "      <td>-2.921452e-01</td>\n",
       "      <td>5.530585e-02</td>\n",
       "      <td>-1.206225e-01</td>\n",
       "      <td>5.314697e-02</td>\n",
       "      <td>1.170829e-02</td>\n",
       "      <td>-2.856669e-01</td>\n",
       "      <td>8.678138e-02</td>\n",
       "      <td>-5.575703e-02</td>\n",
       "      <td>1.887388e-01</td>\n",
       "      <td>...</td>\n",
       "      <td>9.117507e-03</td>\n",
       "      <td>-9.117507e-03</td>\n",
       "      <td>-9.117507e-03</td>\n",
       "      <td>9.117507e-03</td>\n",
       "      <td>9.117507e-03</td>\n",
       "      <td>9.117507e-03</td>\n",
       "      <td>-9.117507e-03</td>\n",
       "      <td>-9.117507e-03</td>\n",
       "      <td>9.117507e-03</td>\n",
       "      <td>1</td>\n",
       "    </tr>\n",
       "  </tbody>\n",
       "</table>\n",
       "<p>468724 rows × 101 columns</p>\n",
       "</div>"
      ],
      "text/plain": [
       "                   0             1             2             3             4  \\\n",
       "0       5.836996e-03 -5.836996e-03  5.836996e-03 -5.836996e-03  5.836996e-03   \n",
       "1      -1.748095e-01  7.939203e-02 -3.909224e-02  1.680178e-01  1.940414e-01   \n",
       "2       2.041774e-02 -2.696791e-02  2.696791e-02 -2.041774e-02 -2.041774e-02   \n",
       "3      -5.827807e-03 -5.827807e-03  5.827807e-03  9.991676e-01  5.827807e-03   \n",
       "4       7.872350e-40 -7.672700e-40  7.672700e-40  7.672700e-40  8.266440e-40   \n",
       "...              ...           ...           ...           ...           ...   \n",
       "468719  3.016613e-03  3.016613e-03 -3.016613e-03 -3.016613e-03 -3.016613e-03   \n",
       "468720  7.038930e-40 -7.038930e-40  7.038930e-40 -7.038930e-40  7.038930e-40   \n",
       "468721  2.123445e-03  2.123445e-03 -2.123445e-03 -2.123445e-03  9.998896e-01   \n",
       "468722 -1.289620e-28  1.289620e-28 -1.289620e-28 -1.289620e-28 -1.289620e-28   \n",
       "468723  1.965184e-01 -2.921452e-01  5.530585e-02 -1.206225e-01  5.314697e-02   \n",
       "\n",
       "                   5             6             7             8             9  \\\n",
       "0      -5.836996e-03 -5.836996e-03  5.836996e-03 -5.836996e-03  5.836996e-03   \n",
       "1       1.019385e-01 -1.454500e-01  6.174701e-02 -9.770533e-02  2.707241e-01   \n",
       "2      -2.041774e-02 -2.041774e-02  2.696791e-02 -2.696791e-02  2.696791e-02   \n",
       "3       5.827807e-03  5.827807e-03  5.827807e-03 -5.827807e-03 -5.827807e-03   \n",
       "4      -4.410170e-40 -8.266440e-40 -6.114330e-40  5.384010e-40  9.183330e-40   \n",
       "...              ...           ...           ...           ...           ...   \n",
       "468719 -3.016612e-03 -3.071832e-05 -3.016613e-03  3.016613e-03 -3.016612e-03   \n",
       "468720  5.288740e-40 -7.038930e-40  7.038930e-40 -7.038930e-40  7.038930e-40   \n",
       "468721  2.123445e-03  2.123445e-03 -2.123445e-03  2.123445e-03  2.123445e-03   \n",
       "468722  1.289620e-28 -1.289620e-28  1.289620e-28 -1.289620e-28 -1.289620e-28   \n",
       "468723  1.170829e-02 -2.856669e-01  8.678138e-02 -5.575703e-02  1.887388e-01   \n",
       "\n",
       "        ...            91            92            93            94  \\\n",
       "0       ... -7.402980e-40 -7.402980e-40 -7.402980e-40  7.402980e-40   \n",
       "1       ... -8.617318e-02  1.036367e-02 -4.107202e-02  2.809293e-01   \n",
       "2       ... -3.424598e-01 -2.440976e-01 -4.083187e-02  1.446027e-01   \n",
       "3       ...  8.091460e-40  8.091460e-40 -8.091460e-40 -8.091460e-40   \n",
       "4       ...  2.974184e-02 -2.330632e-02 -9.897562e-01  9.836293e-03   \n",
       "...     ...           ...           ...           ...           ...   \n",
       "468719  ...  1.828470e-02 -1.828470e-02 -1.828470e-02  1.828470e-02   \n",
       "468720  ... -1.339873e-03  1.842881e-02 -9.450238e-03  1.230971e-01   \n",
       "468721  ... -3.963084e-02  2.619006e-02 -3.453416e-02 -3.963084e-02   \n",
       "468722  ... -9.609431e-02 -1.227127e-02 -6.006362e-03 -2.396431e-02   \n",
       "468723  ...  9.117507e-03 -9.117507e-03 -9.117507e-03  9.117507e-03   \n",
       "\n",
       "                  95            96            97            98            99  \\\n",
       "0      -7.402980e-40 -7.402980e-40 -7.402980e-40 -7.402980e-40  7.402980e-40   \n",
       "1      -1.936861e-01 -3.528511e-01 -2.135466e-02 -8.366704e-02  1.177825e-01   \n",
       "2      -1.882798e-01 -7.995747e-03 -2.688991e-01 -7.134874e-03  8.519015e-03   \n",
       "3       1.000000e+00  8.091460e-40  8.091460e-40 -8.091460e-40  8.091460e-40   \n",
       "4       2.440207e-02  1.803210e-02 -1.803210e-02 -1.512230e-02  1.512230e-02   \n",
       "...              ...           ...           ...           ...           ...   \n",
       "468719  1.828470e-02  1.828470e-02 -1.828470e-02 -1.828470e-02  1.828470e-02   \n",
       "468720 -4.292348e-02 -2.041084e-02  9.341905e-03 -4.076541e-02  8.180007e-02   \n",
       "468721  3.453416e-02  3.453416e-02  1.278986e-02 -3.963084e-02  1.278986e-02   \n",
       "468722  1.227127e-02  6.006362e-03 -6.006362e-03 -1.227127e-02  6.006362e-03   \n",
       "468723  9.117507e-03  9.117507e-03 -9.117507e-03 -9.117507e-03  9.117507e-03   \n",
       "\n",
       "        link  \n",
       "0          0  \n",
       "1          0  \n",
       "2          0  \n",
       "3          0  \n",
       "4          1  \n",
       "...      ...  \n",
       "468719     1  \n",
       "468720     1  \n",
       "468721     0  \n",
       "468722     1  \n",
       "468723     1  \n",
       "\n",
       "[468724 rows x 101 columns]"
      ]
     },
     "execution_count": 4,
     "metadata": {},
     "output_type": "execute_result"
    }
   ],
   "source": [
    "df_num = df.drop(['head', 'relation', 'tail'], axis=1)\n",
    "df_num"
   ]
  },
  {
   "cell_type": "code",
   "execution_count": 5,
   "metadata": {
    "tags": []
   },
   "outputs": [
    {
     "name": "stderr",
     "output_type": "stream",
     "text": [
      "[LightGBM] [Fatal] GPU Tree Learner was not enabled in this build.\n",
      "Please recompile with CMake option -DUSE_GPU=1\n",
      "[LightGBM] [Fatal] CUDA Tree Learner was not enabled in this build.\n",
      "Please recompile with CMake option -DUSE_CUDA=1\n",
      "[LightGBM] [Fatal] GPU Tree Learner was not enabled in this build.\n",
      "Please recompile with CMake option -DUSE_GPU=1\n",
      "[LightGBM] [Fatal] CUDA Tree Learner was not enabled in this build.\n",
      "Please recompile with CMake option -DUSE_CUDA=1\n",
      "[LightGBM] [Fatal] GPU Tree Learner was not enabled in this build.\n",
      "Please recompile with CMake option -DUSE_GPU=1\n",
      "[LightGBM] [Fatal] CUDA Tree Learner was not enabled in this build.\n",
      "Please recompile with CMake option -DUSE_CUDA=1\n",
      "[LightGBM] [Fatal] GPU Tree Learner was not enabled in this build.\n",
      "Please recompile with CMake option -DUSE_GPU=1\n",
      "[LightGBM] [Fatal] CUDA Tree Learner was not enabled in this build.\n",
      "Please recompile with CMake option -DUSE_CUDA=1\n",
      "[LightGBM] [Fatal] GPU Tree Learner was not enabled in this build.\n",
      "Please recompile with CMake option -DUSE_GPU=1\n",
      "[LightGBM] [Fatal] CUDA Tree Learner was not enabled in this build.\n",
      "Please recompile with CMake option -DUSE_CUDA=1\n",
      "[LightGBM] [Fatal] GPU Tree Learner was not enabled in this build.\n",
      "Please recompile with CMake option -DUSE_GPU=1\n",
      "[LightGBM] [Fatal] CUDA Tree Learner was not enabled in this build.\n",
      "Please recompile with CMake option -DUSE_CUDA=1\n"
     ]
    },
    {
     "data": {
      "text/html": [
       "<style type=\"text/css\">\n",
       "#T_f878e_row8_col1, #T_f878e_row15_col1 {\n",
       "  background-color: lightgreen;\n",
       "}\n",
       "</style>\n",
       "<table id=\"T_f878e\">\n",
       "  <thead>\n",
       "    <tr>\n",
       "      <th class=\"blank level0\" >&nbsp;</th>\n",
       "      <th id=\"T_f878e_level0_col0\" class=\"col_heading level0 col0\" >Description</th>\n",
       "      <th id=\"T_f878e_level0_col1\" class=\"col_heading level0 col1\" >Value</th>\n",
       "    </tr>\n",
       "  </thead>\n",
       "  <tbody>\n",
       "    <tr>\n",
       "      <th id=\"T_f878e_level0_row0\" class=\"row_heading level0 row0\" >0</th>\n",
       "      <td id=\"T_f878e_row0_col0\" class=\"data row0 col0\" >Session id</td>\n",
       "      <td id=\"T_f878e_row0_col1\" class=\"data row0 col1\" >5136</td>\n",
       "    </tr>\n",
       "    <tr>\n",
       "      <th id=\"T_f878e_level0_row1\" class=\"row_heading level0 row1\" >1</th>\n",
       "      <td id=\"T_f878e_row1_col0\" class=\"data row1 col0\" >Target</td>\n",
       "      <td id=\"T_f878e_row1_col1\" class=\"data row1 col1\" >link</td>\n",
       "    </tr>\n",
       "    <tr>\n",
       "      <th id=\"T_f878e_level0_row2\" class=\"row_heading level0 row2\" >2</th>\n",
       "      <td id=\"T_f878e_row2_col0\" class=\"data row2 col0\" >Target type</td>\n",
       "      <td id=\"T_f878e_row2_col1\" class=\"data row2 col1\" >Binary</td>\n",
       "    </tr>\n",
       "    <tr>\n",
       "      <th id=\"T_f878e_level0_row3\" class=\"row_heading level0 row3\" >3</th>\n",
       "      <td id=\"T_f878e_row3_col0\" class=\"data row3 col0\" >Original data shape</td>\n",
       "      <td id=\"T_f878e_row3_col1\" class=\"data row3 col1\" >(468724, 101)</td>\n",
       "    </tr>\n",
       "    <tr>\n",
       "      <th id=\"T_f878e_level0_row4\" class=\"row_heading level0 row4\" >4</th>\n",
       "      <td id=\"T_f878e_row4_col0\" class=\"data row4 col0\" >Transformed data shape</td>\n",
       "      <td id=\"T_f878e_row4_col1\" class=\"data row4 col1\" >(468724, 101)</td>\n",
       "    </tr>\n",
       "    <tr>\n",
       "      <th id=\"T_f878e_level0_row5\" class=\"row_heading level0 row5\" >5</th>\n",
       "      <td id=\"T_f878e_row5_col0\" class=\"data row5 col0\" >Transformed train set shape</td>\n",
       "      <td id=\"T_f878e_row5_col1\" class=\"data row5 col1\" >(374979, 101)</td>\n",
       "    </tr>\n",
       "    <tr>\n",
       "      <th id=\"T_f878e_level0_row6\" class=\"row_heading level0 row6\" >6</th>\n",
       "      <td id=\"T_f878e_row6_col0\" class=\"data row6 col0\" >Transformed test set shape</td>\n",
       "      <td id=\"T_f878e_row6_col1\" class=\"data row6 col1\" >(93745, 101)</td>\n",
       "    </tr>\n",
       "    <tr>\n",
       "      <th id=\"T_f878e_level0_row7\" class=\"row_heading level0 row7\" >7</th>\n",
       "      <td id=\"T_f878e_row7_col0\" class=\"data row7 col0\" >Numeric features</td>\n",
       "      <td id=\"T_f878e_row7_col1\" class=\"data row7 col1\" >100</td>\n",
       "    </tr>\n",
       "    <tr>\n",
       "      <th id=\"T_f878e_level0_row8\" class=\"row_heading level0 row8\" >8</th>\n",
       "      <td id=\"T_f878e_row8_col0\" class=\"data row8 col0\" >Preprocess</td>\n",
       "      <td id=\"T_f878e_row8_col1\" class=\"data row8 col1\" >True</td>\n",
       "    </tr>\n",
       "    <tr>\n",
       "      <th id=\"T_f878e_level0_row9\" class=\"row_heading level0 row9\" >9</th>\n",
       "      <td id=\"T_f878e_row9_col0\" class=\"data row9 col0\" >Imputation type</td>\n",
       "      <td id=\"T_f878e_row9_col1\" class=\"data row9 col1\" >simple</td>\n",
       "    </tr>\n",
       "    <tr>\n",
       "      <th id=\"T_f878e_level0_row10\" class=\"row_heading level0 row10\" >10</th>\n",
       "      <td id=\"T_f878e_row10_col0\" class=\"data row10 col0\" >Numeric imputation</td>\n",
       "      <td id=\"T_f878e_row10_col1\" class=\"data row10 col1\" >mean</td>\n",
       "    </tr>\n",
       "    <tr>\n",
       "      <th id=\"T_f878e_level0_row11\" class=\"row_heading level0 row11\" >11</th>\n",
       "      <td id=\"T_f878e_row11_col0\" class=\"data row11 col0\" >Categorical imputation</td>\n",
       "      <td id=\"T_f878e_row11_col1\" class=\"data row11 col1\" >mode</td>\n",
       "    </tr>\n",
       "    <tr>\n",
       "      <th id=\"T_f878e_level0_row12\" class=\"row_heading level0 row12\" >12</th>\n",
       "      <td id=\"T_f878e_row12_col0\" class=\"data row12 col0\" >Fold Generator</td>\n",
       "      <td id=\"T_f878e_row12_col1\" class=\"data row12 col1\" >StratifiedKFold</td>\n",
       "    </tr>\n",
       "    <tr>\n",
       "      <th id=\"T_f878e_level0_row13\" class=\"row_heading level0 row13\" >13</th>\n",
       "      <td id=\"T_f878e_row13_col0\" class=\"data row13 col0\" >Fold Number</td>\n",
       "      <td id=\"T_f878e_row13_col1\" class=\"data row13 col1\" >10</td>\n",
       "    </tr>\n",
       "    <tr>\n",
       "      <th id=\"T_f878e_level0_row14\" class=\"row_heading level0 row14\" >14</th>\n",
       "      <td id=\"T_f878e_row14_col0\" class=\"data row14 col0\" >CPU Jobs</td>\n",
       "      <td id=\"T_f878e_row14_col1\" class=\"data row14 col1\" >-1</td>\n",
       "    </tr>\n",
       "    <tr>\n",
       "      <th id=\"T_f878e_level0_row15\" class=\"row_heading level0 row15\" >15</th>\n",
       "      <td id=\"T_f878e_row15_col0\" class=\"data row15 col0\" >Use GPU</td>\n",
       "      <td id=\"T_f878e_row15_col1\" class=\"data row15 col1\" >True</td>\n",
       "    </tr>\n",
       "    <tr>\n",
       "      <th id=\"T_f878e_level0_row16\" class=\"row_heading level0 row16\" >16</th>\n",
       "      <td id=\"T_f878e_row16_col0\" class=\"data row16 col0\" >Log Experiment</td>\n",
       "      <td id=\"T_f878e_row16_col1\" class=\"data row16 col1\" >WandbLogger</td>\n",
       "    </tr>\n",
       "    <tr>\n",
       "      <th id=\"T_f878e_level0_row17\" class=\"row_heading level0 row17\" >17</th>\n",
       "      <td id=\"T_f878e_row17_col0\" class=\"data row17 col0\" >Experiment Name</td>\n",
       "      <td id=\"T_f878e_row17_col1\" class=\"data row17 col1\" >clf-default-name</td>\n",
       "    </tr>\n",
       "    <tr>\n",
       "      <th id=\"T_f878e_level0_row18\" class=\"row_heading level0 row18\" >18</th>\n",
       "      <td id=\"T_f878e_row18_col0\" class=\"data row18 col0\" >USI</td>\n",
       "      <td id=\"T_f878e_row18_col1\" class=\"data row18 col1\" >1322</td>\n",
       "    </tr>\n",
       "  </tbody>\n",
       "</table>\n"
      ],
      "text/plain": [
       "<pandas.io.formats.style.Styler at 0x7fdc70f6a3b0>"
      ]
     },
     "metadata": {},
     "output_type": "display_data"
    },
    {
     "name": "stderr",
     "output_type": "stream",
     "text": [
      "[LightGBM] [Fatal] GPU Tree Learner was not enabled in this build.\n",
      "Please recompile with CMake option -DUSE_GPU=1\n",
      "[LightGBM] [Fatal] CUDA Tree Learner was not enabled in this build.\n",
      "Please recompile with CMake option -DUSE_CUDA=1\n",
      "[LightGBM] [Fatal] GPU Tree Learner was not enabled in this build.\n",
      "Please recompile with CMake option -DUSE_GPU=1\n",
      "[LightGBM] [Fatal] CUDA Tree Learner was not enabled in this build.\n",
      "Please recompile with CMake option -DUSE_CUDA=1\n"
     ]
    }
   ],
   "source": [
    "# Experiment setup\n",
    "s = setup(df_num, target = 'link', fold_strategy = 'stratifiedkfold', fold=10, train_size = 0.8, n_jobs=-1, system_log=True, use_gpu = True, log_experiment='wandb')\n",
    "exp = ClassificationExperiment()"
   ]
  },
  {
   "cell_type": "markdown",
   "metadata": {},
   "source": [
    "# K Neighbors Classifier"
   ]
  },
  {
   "cell_type": "code",
   "execution_count": 6,
   "metadata": {
    "tags": []
   },
   "outputs": [
    {
     "data": {
      "text/html": [],
      "text/plain": [
       "<IPython.core.display.HTML object>"
      ]
     },
     "metadata": {},
     "output_type": "display_data"
    },
    {
     "data": {
      "text/html": [
       "<style type=\"text/css\">\n",
       "#T_b8902_row10_col0, #T_b8902_row10_col1, #T_b8902_row10_col2, #T_b8902_row10_col3, #T_b8902_row10_col4, #T_b8902_row10_col5, #T_b8902_row10_col6 {\n",
       "  background: yellow;\n",
       "}\n",
       "</style>\n",
       "<table id=\"T_b8902\">\n",
       "  <thead>\n",
       "    <tr>\n",
       "      <th class=\"blank level0\" >&nbsp;</th>\n",
       "      <th id=\"T_b8902_level0_col0\" class=\"col_heading level0 col0\" >Accuracy</th>\n",
       "      <th id=\"T_b8902_level0_col1\" class=\"col_heading level0 col1\" >AUC</th>\n",
       "      <th id=\"T_b8902_level0_col2\" class=\"col_heading level0 col2\" >Recall</th>\n",
       "      <th id=\"T_b8902_level0_col3\" class=\"col_heading level0 col3\" >Prec.</th>\n",
       "      <th id=\"T_b8902_level0_col4\" class=\"col_heading level0 col4\" >F1</th>\n",
       "      <th id=\"T_b8902_level0_col5\" class=\"col_heading level0 col5\" >Kappa</th>\n",
       "      <th id=\"T_b8902_level0_col6\" class=\"col_heading level0 col6\" >MCC</th>\n",
       "    </tr>\n",
       "    <tr>\n",
       "      <th class=\"index_name level0\" >Fold</th>\n",
       "      <th class=\"blank col0\" >&nbsp;</th>\n",
       "      <th class=\"blank col1\" >&nbsp;</th>\n",
       "      <th class=\"blank col2\" >&nbsp;</th>\n",
       "      <th class=\"blank col3\" >&nbsp;</th>\n",
       "      <th class=\"blank col4\" >&nbsp;</th>\n",
       "      <th class=\"blank col5\" >&nbsp;</th>\n",
       "      <th class=\"blank col6\" >&nbsp;</th>\n",
       "    </tr>\n",
       "  </thead>\n",
       "  <tbody>\n",
       "    <tr>\n",
       "      <th id=\"T_b8902_level0_row0\" class=\"row_heading level0 row0\" >0</th>\n",
       "      <td id=\"T_b8902_row0_col0\" class=\"data row0 col0\" >0.7055</td>\n",
       "      <td id=\"T_b8902_row0_col1\" class=\"data row0 col1\" >0.7754</td>\n",
       "      <td id=\"T_b8902_row0_col2\" class=\"data row0 col2\" >0.6249</td>\n",
       "      <td id=\"T_b8902_row0_col3\" class=\"data row0 col3\" >0.7449</td>\n",
       "      <td id=\"T_b8902_row0_col4\" class=\"data row0 col4\" >0.6797</td>\n",
       "      <td id=\"T_b8902_row0_col5\" class=\"data row0 col5\" >0.4109</td>\n",
       "      <td id=\"T_b8902_row0_col6\" class=\"data row0 col6\" >0.4163</td>\n",
       "    </tr>\n",
       "    <tr>\n",
       "      <th id=\"T_b8902_level0_row1\" class=\"row_heading level0 row1\" >1</th>\n",
       "      <td id=\"T_b8902_row1_col0\" class=\"data row1 col0\" >0.7130</td>\n",
       "      <td id=\"T_b8902_row1_col1\" class=\"data row1 col1\" >0.7834</td>\n",
       "      <td id=\"T_b8902_row1_col2\" class=\"data row1 col2\" >0.6287</td>\n",
       "      <td id=\"T_b8902_row1_col3\" class=\"data row1 col3\" >0.7562</td>\n",
       "      <td id=\"T_b8902_row1_col4\" class=\"data row1 col4\" >0.6865</td>\n",
       "      <td id=\"T_b8902_row1_col5\" class=\"data row1 col5\" >0.4259</td>\n",
       "      <td id=\"T_b8902_row1_col6\" class=\"data row1 col6\" >0.4321</td>\n",
       "    </tr>\n",
       "    <tr>\n",
       "      <th id=\"T_b8902_level0_row2\" class=\"row_heading level0 row2\" >2</th>\n",
       "      <td id=\"T_b8902_row2_col0\" class=\"data row2 col0\" >0.7127</td>\n",
       "      <td id=\"T_b8902_row2_col1\" class=\"data row2 col1\" >0.7840</td>\n",
       "      <td id=\"T_b8902_row2_col2\" class=\"data row2 col2\" >0.6319</td>\n",
       "      <td id=\"T_b8902_row2_col3\" class=\"data row2 col3\" >0.7537</td>\n",
       "      <td id=\"T_b8902_row2_col4\" class=\"data row2 col4\" >0.6875</td>\n",
       "      <td id=\"T_b8902_row2_col5\" class=\"data row2 col5\" >0.4254</td>\n",
       "      <td id=\"T_b8902_row2_col6\" class=\"data row2 col6\" >0.4311</td>\n",
       "    </tr>\n",
       "    <tr>\n",
       "      <th id=\"T_b8902_level0_row3\" class=\"row_heading level0 row3\" >3</th>\n",
       "      <td id=\"T_b8902_row3_col0\" class=\"data row3 col0\" >0.7097</td>\n",
       "      <td id=\"T_b8902_row3_col1\" class=\"data row3 col1\" >0.7802</td>\n",
       "      <td id=\"T_b8902_row3_col2\" class=\"data row3 col2\" >0.6322</td>\n",
       "      <td id=\"T_b8902_row3_col3\" class=\"data row3 col3\" >0.7482</td>\n",
       "      <td id=\"T_b8902_row3_col4\" class=\"data row3 col4\" >0.6853</td>\n",
       "      <td id=\"T_b8902_row3_col5\" class=\"data row3 col5\" >0.4194</td>\n",
       "      <td id=\"T_b8902_row3_col6\" class=\"data row3 col6\" >0.4245</td>\n",
       "    </tr>\n",
       "    <tr>\n",
       "      <th id=\"T_b8902_level0_row4\" class=\"row_heading level0 row4\" >4</th>\n",
       "      <td id=\"T_b8902_row4_col0\" class=\"data row4 col0\" >0.7081</td>\n",
       "      <td id=\"T_b8902_row4_col1\" class=\"data row4 col1\" >0.7795</td>\n",
       "      <td id=\"T_b8902_row4_col2\" class=\"data row4 col2\" >0.6264</td>\n",
       "      <td id=\"T_b8902_row4_col3\" class=\"data row4 col3\" >0.7487</td>\n",
       "      <td id=\"T_b8902_row4_col4\" class=\"data row4 col4\" >0.6821</td>\n",
       "      <td id=\"T_b8902_row4_col5\" class=\"data row4 col5\" >0.4161</td>\n",
       "      <td id=\"T_b8902_row4_col6\" class=\"data row4 col6\" >0.4218</td>\n",
       "    </tr>\n",
       "    <tr>\n",
       "      <th id=\"T_b8902_level0_row5\" class=\"row_heading level0 row5\" >5</th>\n",
       "      <td id=\"T_b8902_row5_col0\" class=\"data row5 col0\" >0.7125</td>\n",
       "      <td id=\"T_b8902_row5_col1\" class=\"data row5 col1\" >0.7831</td>\n",
       "      <td id=\"T_b8902_row5_col2\" class=\"data row5 col2\" >0.6345</td>\n",
       "      <td id=\"T_b8902_row5_col3\" class=\"data row5 col3\" >0.7518</td>\n",
       "      <td id=\"T_b8902_row5_col4\" class=\"data row5 col4\" >0.6882</td>\n",
       "      <td id=\"T_b8902_row5_col5\" class=\"data row5 col5\" >0.4251</td>\n",
       "      <td id=\"T_b8902_row5_col6\" class=\"data row5 col6\" >0.4304</td>\n",
       "    </tr>\n",
       "    <tr>\n",
       "      <th id=\"T_b8902_level0_row6\" class=\"row_heading level0 row6\" >6</th>\n",
       "      <td id=\"T_b8902_row6_col0\" class=\"data row6 col0\" >0.7087</td>\n",
       "      <td id=\"T_b8902_row6_col1\" class=\"data row6 col1\" >0.7808</td>\n",
       "      <td id=\"T_b8902_row6_col2\" class=\"data row6 col2\" >0.6286</td>\n",
       "      <td id=\"T_b8902_row6_col3\" class=\"data row6 col3\" >0.7484</td>\n",
       "      <td id=\"T_b8902_row6_col4\" class=\"data row6 col4\" >0.6833</td>\n",
       "      <td id=\"T_b8902_row6_col5\" class=\"data row6 col5\" >0.4173</td>\n",
       "      <td id=\"T_b8902_row6_col6\" class=\"data row6 col6\" >0.4228</td>\n",
       "    </tr>\n",
       "    <tr>\n",
       "      <th id=\"T_b8902_level0_row7\" class=\"row_heading level0 row7\" >7</th>\n",
       "      <td id=\"T_b8902_row7_col0\" class=\"data row7 col0\" >0.7118</td>\n",
       "      <td id=\"T_b8902_row7_col1\" class=\"data row7 col1\" >0.7814</td>\n",
       "      <td id=\"T_b8902_row7_col2\" class=\"data row7 col2\" >0.6395</td>\n",
       "      <td id=\"T_b8902_row7_col3\" class=\"data row7 col3\" >0.7476</td>\n",
       "      <td id=\"T_b8902_row7_col4\" class=\"data row7 col4\" >0.6894</td>\n",
       "      <td id=\"T_b8902_row7_col5\" class=\"data row7 col5\" >0.4236</td>\n",
       "      <td id=\"T_b8902_row7_col6\" class=\"data row7 col6\" >0.4282</td>\n",
       "    </tr>\n",
       "    <tr>\n",
       "      <th id=\"T_b8902_level0_row8\" class=\"row_heading level0 row8\" >8</th>\n",
       "      <td id=\"T_b8902_row8_col0\" class=\"data row8 col0\" >0.7099</td>\n",
       "      <td id=\"T_b8902_row8_col1\" class=\"data row8 col1\" >0.7793</td>\n",
       "      <td id=\"T_b8902_row8_col2\" class=\"data row8 col2\" >0.6317</td>\n",
       "      <td id=\"T_b8902_row8_col3\" class=\"data row8 col3\" >0.7489</td>\n",
       "      <td id=\"T_b8902_row8_col4\" class=\"data row8 col4\" >0.6853</td>\n",
       "      <td id=\"T_b8902_row8_col5\" class=\"data row8 col5\" >0.4199</td>\n",
       "      <td id=\"T_b8902_row8_col6\" class=\"data row8 col6\" >0.4251</td>\n",
       "    </tr>\n",
       "    <tr>\n",
       "      <th id=\"T_b8902_level0_row9\" class=\"row_heading level0 row9\" >9</th>\n",
       "      <td id=\"T_b8902_row9_col0\" class=\"data row9 col0\" >0.7042</td>\n",
       "      <td id=\"T_b8902_row9_col1\" class=\"data row9 col1\" >0.7758</td>\n",
       "      <td id=\"T_b8902_row9_col2\" class=\"data row9 col2\" >0.6204</td>\n",
       "      <td id=\"T_b8902_row9_col3\" class=\"data row9 col3\" >0.7454</td>\n",
       "      <td id=\"T_b8902_row9_col4\" class=\"data row9 col4\" >0.6772</td>\n",
       "      <td id=\"T_b8902_row9_col5\" class=\"data row9 col5\" >0.4085</td>\n",
       "      <td id=\"T_b8902_row9_col6\" class=\"data row9 col6\" >0.4144</td>\n",
       "    </tr>\n",
       "    <tr>\n",
       "      <th id=\"T_b8902_level0_row10\" class=\"row_heading level0 row10\" >Mean</th>\n",
       "      <td id=\"T_b8902_row10_col0\" class=\"data row10 col0\" >0.7096</td>\n",
       "      <td id=\"T_b8902_row10_col1\" class=\"data row10 col1\" >0.7803</td>\n",
       "      <td id=\"T_b8902_row10_col2\" class=\"data row10 col2\" >0.6299</td>\n",
       "      <td id=\"T_b8902_row10_col3\" class=\"data row10 col3\" >0.7494</td>\n",
       "      <td id=\"T_b8902_row10_col4\" class=\"data row10 col4\" >0.6844</td>\n",
       "      <td id=\"T_b8902_row10_col5\" class=\"data row10 col5\" >0.4192</td>\n",
       "      <td id=\"T_b8902_row10_col6\" class=\"data row10 col6\" >0.4247</td>\n",
       "    </tr>\n",
       "    <tr>\n",
       "      <th id=\"T_b8902_level0_row11\" class=\"row_heading level0 row11\" >Std</th>\n",
       "      <td id=\"T_b8902_row11_col0\" class=\"data row11 col0\" >0.0029</td>\n",
       "      <td id=\"T_b8902_row11_col1\" class=\"data row11 col1\" >0.0028</td>\n",
       "      <td id=\"T_b8902_row11_col2\" class=\"data row11 col2\" >0.0051</td>\n",
       "      <td id=\"T_b8902_row11_col3\" class=\"data row11 col3\" >0.0034</td>\n",
       "      <td id=\"T_b8902_row11_col4\" class=\"data row11 col4\" >0.0037</td>\n",
       "      <td id=\"T_b8902_row11_col5\" class=\"data row11 col5\" >0.0058</td>\n",
       "      <td id=\"T_b8902_row11_col6\" class=\"data row11 col6\" >0.0057</td>\n",
       "    </tr>\n",
       "  </tbody>\n",
       "</table>\n"
      ],
      "text/plain": [
       "<pandas.io.formats.style.Styler at 0x7fdc5e692920>"
      ]
     },
     "metadata": {},
     "output_type": "display_data"
    },
    {
     "data": {
      "text/html": [],
      "text/plain": [
       "<IPython.core.display.HTML object>"
      ]
     },
     "metadata": {},
     "output_type": "display_data"
    }
   ],
   "source": [
    "knn = create_model('knn')"
   ]
  },
  {
   "cell_type": "code",
   "execution_count": 7,
   "metadata": {},
   "outputs": [
    {
     "data": {
      "text/html": [],
      "text/plain": [
       "<IPython.core.display.HTML object>"
      ]
     },
     "metadata": {},
     "output_type": "display_data"
    },
    {
     "data": {
      "image/png": "[encoded data removed]",
      "text/plain": [
       "<Figure size 800x550 with 1 Axes>"
      ]
     },
     "metadata": {},
     "output_type": "display_data"
    }
   ],
   "source": [
    "plot_model(knn, plot = 'confusion_matrix')"
   ]
  },
  {
   "cell_type": "code",
   "execution_count": 8,
   "metadata": {},
   "outputs": [
    {
     "data": {
      "text/html": [],
      "text/plain": [
       "<IPython.core.display.HTML object>"
      ]
     },
     "metadata": {},
     "output_type": "display_data"
    },
    {
     "data": {
      "image/png": "[encoded data removed]",
      "text/plain": [
       "<Figure size 800x550 with 1 Axes>"
      ]
     },
     "metadata": {},
     "output_type": "display_data"
    }
   ],
   "source": [
    "plot_model(knn, plot = 'error')"
   ]
  },
  {
   "cell_type": "code",
   "execution_count": 9,
   "metadata": {},
   "outputs": [
    {
     "data": {
      "text/html": [],
      "text/plain": [
       "<IPython.core.display.HTML object>"
      ]
     },
     "metadata": {},
     "output_type": "display_data"
    },
    {
     "data": {
      "text/html": [
       "<div>\n",
       "<style scoped>\n",
       "    .dataframe tbody tr th:only-of-type {\n",
       "        vertical-align: middle;\n",
       "    }\n",
       "\n",
       "    .dataframe tbody tr th {\n",
       "        vertical-align: top;\n",
       "    }\n",
       "\n",
       "    .dataframe thead th {\n",
       "        text-align: right;\n",
       "    }\n",
       "</style>\n",
       "<table border=\"1\" class=\"dataframe\">\n",
       "  <thead>\n",
       "    <tr style=\"text-align: right;\">\n",
       "      <th></th>\n",
       "      <th>Parameters</th>\n",
       "    </tr>\n",
       "  </thead>\n",
       "  <tbody>\n",
       "    <tr>\n",
       "      <th>algorithm</th>\n",
       "      <td>auto</td>\n",
       "    </tr>\n",
       "    <tr>\n",
       "      <th>leaf_size</th>\n",
       "      <td>30</td>\n",
       "    </tr>\n",
       "    <tr>\n",
       "      <th>metric</th>\n",
       "      <td>minkowski</td>\n",
       "    </tr>\n",
       "    <tr>\n",
       "      <th>metric_params</th>\n",
       "      <td>None</td>\n",
       "    </tr>\n",
       "    <tr>\n",
       "      <th>n_jobs</th>\n",
       "      <td>-1</td>\n",
       "    </tr>\n",
       "    <tr>\n",
       "      <th>n_neighbors</th>\n",
       "      <td>5</td>\n",
       "    </tr>\n",
       "    <tr>\n",
       "      <th>p</th>\n",
       "      <td>2</td>\n",
       "    </tr>\n",
       "    <tr>\n",
       "      <th>weights</th>\n",
       "      <td>uniform</td>\n",
       "    </tr>\n",
       "  </tbody>\n",
       "</table>\n",
       "</div>"
      ],
      "text/plain": [
       "              Parameters\n",
       "algorithm           auto\n",
       "leaf_size             30\n",
       "metric         minkowski\n",
       "metric_params       None\n",
       "n_jobs                -1\n",
       "n_neighbors            5\n",
       "p                      2\n",
       "weights          uniform"
      ]
     },
     "metadata": {},
     "output_type": "display_data"
    }
   ],
   "source": [
    "plot_model(knn, plot = 'parameter')"
   ]
  },
  {
   "cell_type": "code",
   "execution_count": 10,
   "metadata": {},
   "outputs": [
    {
     "name": "stdout",
     "output_type": "stream",
     "text": [
      "Transformation Pipeline and Model Successfully Saved\n"
     ]
    },
    {
     "data": {
      "text/plain": [
       "(Pipeline(memory=FastMemory(location=/tmp/joblib),\n",
       "          steps=[('numerical_imputer',\n",
       "                  TransformerWrapper(exclude=None,\n",
       "                                     include=['0', '1', '2', '3', '4', '5', '6',\n",
       "                                              '7', '8', '9', '10', '11', '12',\n",
       "                                              '13', '14', '15', '16', '17', '18',\n",
       "                                              '19', '20', '21', '22', '23', '24',\n",
       "                                              '25', '26', '27', '28', '29', ...],\n",
       "                                     transformer=SimpleImputer(add_indicator=False,\n",
       "                                                               copy=True,\n",
       "                                                               fill_value=None,\n",
       "                                                               keep_empty_feat...\n",
       "                  TransformerWrapper(exclude=None, include=[],\n",
       "                                     transformer=SimpleImputer(add_indicator=False,\n",
       "                                                               copy=True,\n",
       "                                                               fill_value=None,\n",
       "                                                               keep_empty_features=False,\n",
       "                                                               missing_values=nan,\n",
       "                                                               strategy='most_frequent',\n",
       "                                                               verbose='deprecated'))),\n",
       "                 ('trained_model',\n",
       "                  KNeighborsClassifier(algorithm='auto', leaf_size=30,\n",
       "                                       metric='minkowski', metric_params=None,\n",
       "                                       n_jobs=-1, n_neighbors=5, p=2,\n",
       "                                       weights='uniform'))],\n",
       "          verbose=False),\n",
       " 'models_classif/convkb/binary_emb_val/knn.pkl')"
      ]
     },
     "execution_count": 10,
     "metadata": {},
     "output_type": "execute_result"
    }
   ],
   "source": [
    "save_model(knn, 'models_classif/convkb/binary_emb_val/knn')"
   ]
  },
  {
   "cell_type": "markdown",
   "metadata": {},
   "source": [
    "# Naive Bayes"
   ]
  },
  {
   "cell_type": "code",
   "execution_count": 11,
   "metadata": {
    "tags": []
   },
   "outputs": [
    {
     "data": {
      "text/html": [],
      "text/plain": [
       "<IPython.core.display.HTML object>"
      ]
     },
     "metadata": {},
     "output_type": "display_data"
    },
    {
     "data": {
      "text/html": [
       "<style type=\"text/css\">\n",
       "#T_64deb_row10_col0, #T_64deb_row10_col1, #T_64deb_row10_col2, #T_64deb_row10_col3, #T_64deb_row10_col4, #T_64deb_row10_col5, #T_64deb_row10_col6 {\n",
       "  background: yellow;\n",
       "}\n",
       "</style>\n",
       "<table id=\"T_64deb\">\n",
       "  <thead>\n",
       "    <tr>\n",
       "      <th class=\"blank level0\" >&nbsp;</th>\n",
       "      <th id=\"T_64deb_level0_col0\" class=\"col_heading level0 col0\" >Accuracy</th>\n",
       "      <th id=\"T_64deb_level0_col1\" class=\"col_heading level0 col1\" >AUC</th>\n",
       "      <th id=\"T_64deb_level0_col2\" class=\"col_heading level0 col2\" >Recall</th>\n",
       "      <th id=\"T_64deb_level0_col3\" class=\"col_heading level0 col3\" >Prec.</th>\n",
       "      <th id=\"T_64deb_level0_col4\" class=\"col_heading level0 col4\" >F1</th>\n",
       "      <th id=\"T_64deb_level0_col5\" class=\"col_heading level0 col5\" >Kappa</th>\n",
       "      <th id=\"T_64deb_level0_col6\" class=\"col_heading level0 col6\" >MCC</th>\n",
       "    </tr>\n",
       "    <tr>\n",
       "      <th class=\"index_name level0\" >Fold</th>\n",
       "      <th class=\"blank col0\" >&nbsp;</th>\n",
       "      <th class=\"blank col1\" >&nbsp;</th>\n",
       "      <th class=\"blank col2\" >&nbsp;</th>\n",
       "      <th class=\"blank col3\" >&nbsp;</th>\n",
       "      <th class=\"blank col4\" >&nbsp;</th>\n",
       "      <th class=\"blank col5\" >&nbsp;</th>\n",
       "      <th class=\"blank col6\" >&nbsp;</th>\n",
       "    </tr>\n",
       "  </thead>\n",
       "  <tbody>\n",
       "    <tr>\n",
       "      <th id=\"T_64deb_level0_row0\" class=\"row_heading level0 row0\" >0</th>\n",
       "      <td id=\"T_64deb_row0_col0\" class=\"data row0 col0\" >0.6173</td>\n",
       "      <td id=\"T_64deb_row0_col1\" class=\"data row0 col1\" >0.6644</td>\n",
       "      <td id=\"T_64deb_row0_col2\" class=\"data row0 col2\" >0.5213</td>\n",
       "      <td id=\"T_64deb_row0_col3\" class=\"data row0 col3\" >0.6452</td>\n",
       "      <td id=\"T_64deb_row0_col4\" class=\"data row0 col4\" >0.5767</td>\n",
       "      <td id=\"T_64deb_row0_col5\" class=\"data row0 col5\" >0.2347</td>\n",
       "      <td id=\"T_64deb_row0_col6\" class=\"data row0 col6\" >0.2391</td>\n",
       "    </tr>\n",
       "    <tr>\n",
       "      <th id=\"T_64deb_level0_row1\" class=\"row_heading level0 row1\" >1</th>\n",
       "      <td id=\"T_64deb_row1_col0\" class=\"data row1 col0\" >0.6241</td>\n",
       "      <td id=\"T_64deb_row1_col1\" class=\"data row1 col1\" >0.6677</td>\n",
       "      <td id=\"T_64deb_row1_col2\" class=\"data row1 col2\" >0.5303</td>\n",
       "      <td id=\"T_64deb_row1_col3\" class=\"data row1 col3\" >0.6528</td>\n",
       "      <td id=\"T_64deb_row1_col4\" class=\"data row1 col4\" >0.5852</td>\n",
       "      <td id=\"T_64deb_row1_col5\" class=\"data row1 col5\" >0.2483</td>\n",
       "      <td id=\"T_64deb_row1_col6\" class=\"data row1 col6\" >0.2528</td>\n",
       "    </tr>\n",
       "    <tr>\n",
       "      <th id=\"T_64deb_level0_row2\" class=\"row_heading level0 row2\" >2</th>\n",
       "      <td id=\"T_64deb_row2_col0\" class=\"data row2 col0\" >0.6268</td>\n",
       "      <td id=\"T_64deb_row2_col1\" class=\"data row2 col1\" >0.6692</td>\n",
       "      <td id=\"T_64deb_row2_col2\" class=\"data row2 col2\" >0.5280</td>\n",
       "      <td id=\"T_64deb_row2_col3\" class=\"data row2 col3\" >0.6581</td>\n",
       "      <td id=\"T_64deb_row2_col4\" class=\"data row2 col4\" >0.5859</td>\n",
       "      <td id=\"T_64deb_row2_col5\" class=\"data row2 col5\" >0.2537</td>\n",
       "      <td id=\"T_64deb_row2_col6\" class=\"data row2 col6\" >0.2588</td>\n",
       "    </tr>\n",
       "    <tr>\n",
       "      <th id=\"T_64deb_level0_row3\" class=\"row_heading level0 row3\" >3</th>\n",
       "      <td id=\"T_64deb_row3_col0\" class=\"data row3 col0\" >0.6220</td>\n",
       "      <td id=\"T_64deb_row3_col1\" class=\"data row3 col1\" >0.6662</td>\n",
       "      <td id=\"T_64deb_row3_col2\" class=\"data row3 col2\" >0.5215</td>\n",
       "      <td id=\"T_64deb_row3_col3\" class=\"data row3 col3\" >0.6527</td>\n",
       "      <td id=\"T_64deb_row3_col4\" class=\"data row3 col4\" >0.5798</td>\n",
       "      <td id=\"T_64deb_row3_col5\" class=\"data row3 col5\" >0.2440</td>\n",
       "      <td id=\"T_64deb_row3_col6\" class=\"data row3 col6\" >0.2491</td>\n",
       "    </tr>\n",
       "    <tr>\n",
       "      <th id=\"T_64deb_level0_row4\" class=\"row_heading level0 row4\" >4</th>\n",
       "      <td id=\"T_64deb_row4_col0\" class=\"data row4 col0\" >0.6236</td>\n",
       "      <td id=\"T_64deb_row4_col1\" class=\"data row4 col1\" >0.6709</td>\n",
       "      <td id=\"T_64deb_row4_col2\" class=\"data row4 col2\" >0.5244</td>\n",
       "      <td id=\"T_64deb_row4_col3\" class=\"data row4 col3\" >0.6542</td>\n",
       "      <td id=\"T_64deb_row4_col4\" class=\"data row4 col4\" >0.5821</td>\n",
       "      <td id=\"T_64deb_row4_col5\" class=\"data row4 col5\" >0.2472</td>\n",
       "      <td id=\"T_64deb_row4_col6\" class=\"data row4 col6\" >0.2522</td>\n",
       "    </tr>\n",
       "    <tr>\n",
       "      <th id=\"T_64deb_level0_row5\" class=\"row_heading level0 row5\" >5</th>\n",
       "      <td id=\"T_64deb_row5_col0\" class=\"data row5 col0\" >0.6250</td>\n",
       "      <td id=\"T_64deb_row5_col1\" class=\"data row5 col1\" >0.6695</td>\n",
       "      <td id=\"T_64deb_row5_col2\" class=\"data row5 col2\" >0.5302</td>\n",
       "      <td id=\"T_64deb_row5_col3\" class=\"data row5 col3\" >0.6542</td>\n",
       "      <td id=\"T_64deb_row5_col4\" class=\"data row5 col4\" >0.5857</td>\n",
       "      <td id=\"T_64deb_row5_col5\" class=\"data row5 col5\" >0.2500</td>\n",
       "      <td id=\"T_64deb_row5_col6\" class=\"data row5 col6\" >0.2546</td>\n",
       "    </tr>\n",
       "    <tr>\n",
       "      <th id=\"T_64deb_level0_row6\" class=\"row_heading level0 row6\" >6</th>\n",
       "      <td id=\"T_64deb_row6_col0\" class=\"data row6 col0\" >0.6254</td>\n",
       "      <td id=\"T_64deb_row6_col1\" class=\"data row6 col1\" >0.6678</td>\n",
       "      <td id=\"T_64deb_row6_col2\" class=\"data row6 col2\" >0.5335</td>\n",
       "      <td id=\"T_64deb_row6_col3\" class=\"data row6 col3\" >0.6537</td>\n",
       "      <td id=\"T_64deb_row6_col4\" class=\"data row6 col4\" >0.5875</td>\n",
       "      <td id=\"T_64deb_row6_col5\" class=\"data row6 col5\" >0.2508</td>\n",
       "      <td id=\"T_64deb_row6_col6\" class=\"data row6 col6\" >0.2552</td>\n",
       "    </tr>\n",
       "    <tr>\n",
       "      <th id=\"T_64deb_level0_row7\" class=\"row_heading level0 row7\" >7</th>\n",
       "      <td id=\"T_64deb_row7_col0\" class=\"data row7 col0\" >0.6253</td>\n",
       "      <td id=\"T_64deb_row7_col1\" class=\"data row7 col1\" >0.6717</td>\n",
       "      <td id=\"T_64deb_row7_col2\" class=\"data row7 col2\" >0.5362</td>\n",
       "      <td id=\"T_64deb_row7_col3\" class=\"data row7 col3\" >0.6525</td>\n",
       "      <td id=\"T_64deb_row7_col4\" class=\"data row7 col4\" >0.5887</td>\n",
       "      <td id=\"T_64deb_row7_col5\" class=\"data row7 col5\" >0.2507</td>\n",
       "      <td id=\"T_64deb_row7_col6\" class=\"data row7 col6\" >0.2548</td>\n",
       "    </tr>\n",
       "    <tr>\n",
       "      <th id=\"T_64deb_level0_row8\" class=\"row_heading level0 row8\" >8</th>\n",
       "      <td id=\"T_64deb_row8_col0\" class=\"data row8 col0\" >0.6228</td>\n",
       "      <td id=\"T_64deb_row8_col1\" class=\"data row8 col1\" >0.6667</td>\n",
       "      <td id=\"T_64deb_row8_col2\" class=\"data row8 col2\" >0.5280</td>\n",
       "      <td id=\"T_64deb_row8_col3\" class=\"data row8 col3\" >0.6516</td>\n",
       "      <td id=\"T_64deb_row8_col4\" class=\"data row8 col4\" >0.5833</td>\n",
       "      <td id=\"T_64deb_row8_col5\" class=\"data row8 col5\" >0.2457</td>\n",
       "      <td id=\"T_64deb_row8_col6\" class=\"data row8 col6\" >0.2502</td>\n",
       "    </tr>\n",
       "    <tr>\n",
       "      <th id=\"T_64deb_level0_row9\" class=\"row_heading level0 row9\" >9</th>\n",
       "      <td id=\"T_64deb_row9_col0\" class=\"data row9 col0\" >0.6183</td>\n",
       "      <td id=\"T_64deb_row9_col1\" class=\"data row9 col1\" >0.6635</td>\n",
       "      <td id=\"T_64deb_row9_col2\" class=\"data row9 col2\" >0.5194</td>\n",
       "      <td id=\"T_64deb_row9_col3\" class=\"data row9 col3\" >0.6475</td>\n",
       "      <td id=\"T_64deb_row9_col4\" class=\"data row9 col4\" >0.5764</td>\n",
       "      <td id=\"T_64deb_row9_col5\" class=\"data row9 col5\" >0.2366</td>\n",
       "      <td id=\"T_64deb_row9_col6\" class=\"data row9 col6\" >0.2414</td>\n",
       "    </tr>\n",
       "    <tr>\n",
       "      <th id=\"T_64deb_level0_row10\" class=\"row_heading level0 row10\" >Mean</th>\n",
       "      <td id=\"T_64deb_row10_col0\" class=\"data row10 col0\" >0.6231</td>\n",
       "      <td id=\"T_64deb_row10_col1\" class=\"data row10 col1\" >0.6678</td>\n",
       "      <td id=\"T_64deb_row10_col2\" class=\"data row10 col2\" >0.5273</td>\n",
       "      <td id=\"T_64deb_row10_col3\" class=\"data row10 col3\" >0.6523</td>\n",
       "      <td id=\"T_64deb_row10_col4\" class=\"data row10 col4\" >0.5831</td>\n",
       "      <td id=\"T_64deb_row10_col5\" class=\"data row10 col5\" >0.2462</td>\n",
       "      <td id=\"T_64deb_row10_col6\" class=\"data row10 col6\" >0.2508</td>\n",
       "    </tr>\n",
       "    <tr>\n",
       "      <th id=\"T_64deb_level0_row11\" class=\"row_heading level0 row11\" >Std</th>\n",
       "      <td id=\"T_64deb_row11_col0\" class=\"data row11 col0\" >0.0029</td>\n",
       "      <td id=\"T_64deb_row11_col1\" class=\"data row11 col1\" >0.0025</td>\n",
       "      <td id=\"T_64deb_row11_col2\" class=\"data row11 col2\" >0.0053</td>\n",
       "      <td id=\"T_64deb_row11_col3\" class=\"data row11 col3\" >0.0034</td>\n",
       "      <td id=\"T_64deb_row11_col4\" class=\"data row11 col4\" >0.0041</td>\n",
       "      <td id=\"T_64deb_row11_col5\" class=\"data row11 col5\" >0.0059</td>\n",
       "      <td id=\"T_64deb_row11_col6\" class=\"data row11 col6\" >0.0059</td>\n",
       "    </tr>\n",
       "  </tbody>\n",
       "</table>\n"
      ],
      "text/plain": [
       "<pandas.io.formats.style.Styler at 0x7fdc73f5c970>"
      ]
     },
     "metadata": {},
     "output_type": "display_data"
    },
    {
     "data": {
      "text/html": [],
      "text/plain": [
       "<IPython.core.display.HTML object>"
      ]
     },
     "metadata": {},
     "output_type": "display_data"
    }
   ],
   "source": [
    "nb = create_model('nb')"
   ]
  },
  {
   "cell_type": "code",
   "execution_count": 12,
   "metadata": {},
   "outputs": [
    {
     "data": {
      "text/html": [],
      "text/plain": [
       "<IPython.core.display.HTML object>"
      ]
     },
     "metadata": {},
     "output_type": "display_data"
    },
    {
     "data": {
      "image/png": "[encoded data removed]",
      "text/plain": [
       "<Figure size 800x550 with 1 Axes>"
      ]
     },
     "metadata": {},
     "output_type": "display_data"
    }
   ],
   "source": [
    "plot_model(nb, plot = 'confusion_matrix')"
   ]
  },
  {
   "cell_type": "code",
   "execution_count": 13,
   "metadata": {},
   "outputs": [
    {
     "data": {
      "text/html": [],
      "text/plain": [
       "<IPython.core.display.HTML object>"
      ]
     },
     "metadata": {},
     "output_type": "display_data"
    },
    {
     "data": {
      "image/png": "[encoded data removed]",
      "text/plain": [
       "<Figure size 800x550 with 1 Axes>"
      ]
     },
     "metadata": {},
     "output_type": "display_data"
    }
   ],
   "source": [
    "plot_model(nb, plot = 'error')"
   ]
  },
  {
   "cell_type": "code",
   "execution_count": 14,
   "metadata": {},
   "outputs": [
    {
     "data": {
      "text/html": [],
      "text/plain": [
       "<IPython.core.display.HTML object>"
      ]
     },
     "metadata": {},
     "output_type": "display_data"
    },
    {
     "data": {
      "text/html": [
       "<div>\n",
       "<style scoped>\n",
       "    .dataframe tbody tr th:only-of-type {\n",
       "        vertical-align: middle;\n",
       "    }\n",
       "\n",
       "    .dataframe tbody tr th {\n",
       "        vertical-align: top;\n",
       "    }\n",
       "\n",
       "    .dataframe thead th {\n",
       "        text-align: right;\n",
       "    }\n",
       "</style>\n",
       "<table border=\"1\" class=\"dataframe\">\n",
       "  <thead>\n",
       "    <tr style=\"text-align: right;\">\n",
       "      <th></th>\n",
       "      <th>Parameters</th>\n",
       "    </tr>\n",
       "  </thead>\n",
       "  <tbody>\n",
       "    <tr>\n",
       "      <th>priors</th>\n",
       "      <td>None</td>\n",
       "    </tr>\n",
       "    <tr>\n",
       "      <th>var_smoothing</th>\n",
       "      <td>1e-09</td>\n",
       "    </tr>\n",
       "  </tbody>\n",
       "</table>\n",
       "</div>"
      ],
      "text/plain": [
       "              Parameters\n",
       "priors              None\n",
       "var_smoothing      1e-09"
      ]
     },
     "metadata": {},
     "output_type": "display_data"
    }
   ],
   "source": [
    "plot_model(nb, plot = 'parameter')"
   ]
  },
  {
   "cell_type": "code",
   "execution_count": 15,
   "metadata": {},
   "outputs": [
    {
     "name": "stdout",
     "output_type": "stream",
     "text": [
      "Transformation Pipeline and Model Successfully Saved\n"
     ]
    },
    {
     "data": {
      "text/plain": [
       "(Pipeline(memory=FastMemory(location=/tmp/joblib),\n",
       "          steps=[('numerical_imputer',\n",
       "                  TransformerWrapper(exclude=None,\n",
       "                                     include=['0', '1', '2', '3', '4', '5', '6',\n",
       "                                              '7', '8', '9', '10', '11', '12',\n",
       "                                              '13', '14', '15', '16', '17', '18',\n",
       "                                              '19', '20', '21', '22', '23', '24',\n",
       "                                              '25', '26', '27', '28', '29', ...],\n",
       "                                     transformer=SimpleImputer(add_indicator=False,\n",
       "                                                               copy=True,\n",
       "                                                               fill_value=None,\n",
       "                                                               keep_empty_feat...\n",
       "                                                               missing_values=nan,\n",
       "                                                               strategy='mean',\n",
       "                                                               verbose='deprecated'))),\n",
       "                 ('categorical_imputer',\n",
       "                  TransformerWrapper(exclude=None, include=[],\n",
       "                                     transformer=SimpleImputer(add_indicator=False,\n",
       "                                                               copy=True,\n",
       "                                                               fill_value=None,\n",
       "                                                               keep_empty_features=False,\n",
       "                                                               missing_values=nan,\n",
       "                                                               strategy='most_frequent',\n",
       "                                                               verbose='deprecated'))),\n",
       "                 ('trained_model',\n",
       "                  GaussianNB(priors=None, var_smoothing=1e-09))],\n",
       "          verbose=False),\n",
       " 'models_classif/convkb/binary_emb_val/nb.pkl')"
      ]
     },
     "execution_count": 15,
     "metadata": {},
     "output_type": "execute_result"
    }
   ],
   "source": [
    "save_model(nb, 'models_classif/convkb/binary_emb_val/nb')"
   ]
  },
  {
   "cell_type": "markdown",
   "metadata": {},
   "source": [
    "# Decision Tree Classifier"
   ]
  },
  {
   "cell_type": "code",
   "execution_count": 16,
   "metadata": {},
   "outputs": [
    {
     "data": {
      "text/html": [],
      "text/plain": [
       "<IPython.core.display.HTML object>"
      ]
     },
     "metadata": {},
     "output_type": "display_data"
    },
    {
     "data": {
      "text/html": [
       "<style type=\"text/css\">\n",
       "#T_8e982_row10_col0, #T_8e982_row10_col1, #T_8e982_row10_col2, #T_8e982_row10_col3, #T_8e982_row10_col4, #T_8e982_row10_col5, #T_8e982_row10_col6 {\n",
       "  background: yellow;\n",
       "}\n",
       "</style>\n",
       "<table id=\"T_8e982\">\n",
       "  <thead>\n",
       "    <tr>\n",
       "      <th class=\"blank level0\" >&nbsp;</th>\n",
       "      <th id=\"T_8e982_level0_col0\" class=\"col_heading level0 col0\" >Accuracy</th>\n",
       "      <th id=\"T_8e982_level0_col1\" class=\"col_heading level0 col1\" >AUC</th>\n",
       "      <th id=\"T_8e982_level0_col2\" class=\"col_heading level0 col2\" >Recall</th>\n",
       "      <th id=\"T_8e982_level0_col3\" class=\"col_heading level0 col3\" >Prec.</th>\n",
       "      <th id=\"T_8e982_level0_col4\" class=\"col_heading level0 col4\" >F1</th>\n",
       "      <th id=\"T_8e982_level0_col5\" class=\"col_heading level0 col5\" >Kappa</th>\n",
       "      <th id=\"T_8e982_level0_col6\" class=\"col_heading level0 col6\" >MCC</th>\n",
       "    </tr>\n",
       "    <tr>\n",
       "      <th class=\"index_name level0\" >Fold</th>\n",
       "      <th class=\"blank col0\" >&nbsp;</th>\n",
       "      <th class=\"blank col1\" >&nbsp;</th>\n",
       "      <th class=\"blank col2\" >&nbsp;</th>\n",
       "      <th class=\"blank col3\" >&nbsp;</th>\n",
       "      <th class=\"blank col4\" >&nbsp;</th>\n",
       "      <th class=\"blank col5\" >&nbsp;</th>\n",
       "      <th class=\"blank col6\" >&nbsp;</th>\n",
       "    </tr>\n",
       "  </thead>\n",
       "  <tbody>\n",
       "    <tr>\n",
       "      <th id=\"T_8e982_level0_row0\" class=\"row_heading level0 row0\" >0</th>\n",
       "      <td id=\"T_8e982_row0_col0\" class=\"data row0 col0\" >0.8170</td>\n",
       "      <td id=\"T_8e982_row0_col1\" class=\"data row0 col1\" >0.8162</td>\n",
       "      <td id=\"T_8e982_row0_col2\" class=\"data row0 col2\" >0.8256</td>\n",
       "      <td id=\"T_8e982_row0_col3\" class=\"data row0 col3\" >0.8116</td>\n",
       "      <td id=\"T_8e982_row0_col4\" class=\"data row0 col4\" >0.8185</td>\n",
       "      <td id=\"T_8e982_row0_col5\" class=\"data row0 col5\" >0.6340</td>\n",
       "      <td id=\"T_8e982_row0_col6\" class=\"data row0 col6\" >0.6340</td>\n",
       "    </tr>\n",
       "    <tr>\n",
       "      <th id=\"T_8e982_level0_row1\" class=\"row_heading level0 row1\" >1</th>\n",
       "      <td id=\"T_8e982_row1_col0\" class=\"data row1 col0\" >0.8144</td>\n",
       "      <td id=\"T_8e982_row1_col1\" class=\"data row1 col1\" >0.8136</td>\n",
       "      <td id=\"T_8e982_row1_col2\" class=\"data row1 col2\" >0.8198</td>\n",
       "      <td id=\"T_8e982_row1_col3\" class=\"data row1 col3\" >0.8111</td>\n",
       "      <td id=\"T_8e982_row1_col4\" class=\"data row1 col4\" >0.8154</td>\n",
       "      <td id=\"T_8e982_row1_col5\" class=\"data row1 col5\" >0.6289</td>\n",
       "      <td id=\"T_8e982_row1_col6\" class=\"data row1 col6\" >0.6289</td>\n",
       "    </tr>\n",
       "    <tr>\n",
       "      <th id=\"T_8e982_level0_row2\" class=\"row_heading level0 row2\" >2</th>\n",
       "      <td id=\"T_8e982_row2_col0\" class=\"data row2 col0\" >0.8194</td>\n",
       "      <td id=\"T_8e982_row2_col1\" class=\"data row2 col1\" >0.8182</td>\n",
       "      <td id=\"T_8e982_row2_col2\" class=\"data row2 col2\" >0.8274</td>\n",
       "      <td id=\"T_8e982_row2_col3\" class=\"data row2 col3\" >0.8143</td>\n",
       "      <td id=\"T_8e982_row2_col4\" class=\"data row2 col4\" >0.8208</td>\n",
       "      <td id=\"T_8e982_row2_col5\" class=\"data row2 col5\" >0.6387</td>\n",
       "      <td id=\"T_8e982_row2_col6\" class=\"data row2 col6\" >0.6388</td>\n",
       "    </tr>\n",
       "    <tr>\n",
       "      <th id=\"T_8e982_level0_row3\" class=\"row_heading level0 row3\" >3</th>\n",
       "      <td id=\"T_8e982_row3_col0\" class=\"data row3 col0\" >0.8119</td>\n",
       "      <td id=\"T_8e982_row3_col1\" class=\"data row3 col1\" >0.8112</td>\n",
       "      <td id=\"T_8e982_row3_col2\" class=\"data row3 col2\" >0.8188</td>\n",
       "      <td id=\"T_8e982_row3_col3\" class=\"data row3 col3\" >0.8077</td>\n",
       "      <td id=\"T_8e982_row3_col4\" class=\"data row3 col4\" >0.8132</td>\n",
       "      <td id=\"T_8e982_row3_col5\" class=\"data row3 col5\" >0.6239</td>\n",
       "      <td id=\"T_8e982_row3_col6\" class=\"data row3 col6\" >0.6239</td>\n",
       "    </tr>\n",
       "    <tr>\n",
       "      <th id=\"T_8e982_level0_row4\" class=\"row_heading level0 row4\" >4</th>\n",
       "      <td id=\"T_8e982_row4_col0\" class=\"data row4 col0\" >0.8141</td>\n",
       "      <td id=\"T_8e982_row4_col1\" class=\"data row4 col1\" >0.8135</td>\n",
       "      <td id=\"T_8e982_row4_col2\" class=\"data row4 col2\" >0.8192</td>\n",
       "      <td id=\"T_8e982_row4_col3\" class=\"data row4 col3\" >0.8109</td>\n",
       "      <td id=\"T_8e982_row4_col4\" class=\"data row4 col4\" >0.8151</td>\n",
       "      <td id=\"T_8e982_row4_col5\" class=\"data row4 col5\" >0.6282</td>\n",
       "      <td id=\"T_8e982_row4_col6\" class=\"data row4 col6\" >0.6283</td>\n",
       "    </tr>\n",
       "    <tr>\n",
       "      <th id=\"T_8e982_level0_row5\" class=\"row_heading level0 row5\" >5</th>\n",
       "      <td id=\"T_8e982_row5_col0\" class=\"data row5 col0\" >0.8197</td>\n",
       "      <td id=\"T_8e982_row5_col1\" class=\"data row5 col1\" >0.8187</td>\n",
       "      <td id=\"T_8e982_row5_col2\" class=\"data row5 col2\" >0.8295</td>\n",
       "      <td id=\"T_8e982_row5_col3\" class=\"data row5 col3\" >0.8136</td>\n",
       "      <td id=\"T_8e982_row5_col4\" class=\"data row5 col4\" >0.8215</td>\n",
       "      <td id=\"T_8e982_row5_col5\" class=\"data row5 col5\" >0.6394</td>\n",
       "      <td id=\"T_8e982_row5_col6\" class=\"data row5 col6\" >0.6396</td>\n",
       "    </tr>\n",
       "    <tr>\n",
       "      <th id=\"T_8e982_level0_row6\" class=\"row_heading level0 row6\" >6</th>\n",
       "      <td id=\"T_8e982_row6_col0\" class=\"data row6 col0\" >0.8147</td>\n",
       "      <td id=\"T_8e982_row6_col1\" class=\"data row6 col1\" >0.8137</td>\n",
       "      <td id=\"T_8e982_row6_col2\" class=\"data row6 col2\" >0.8214</td>\n",
       "      <td id=\"T_8e982_row6_col3\" class=\"data row6 col3\" >0.8105</td>\n",
       "      <td id=\"T_8e982_row6_col4\" class=\"data row6 col4\" >0.8159</td>\n",
       "      <td id=\"T_8e982_row6_col5\" class=\"data row6 col5\" >0.6294</td>\n",
       "      <td id=\"T_8e982_row6_col6\" class=\"data row6 col6\" >0.6294</td>\n",
       "    </tr>\n",
       "    <tr>\n",
       "      <th id=\"T_8e982_level0_row7\" class=\"row_heading level0 row7\" >7</th>\n",
       "      <td id=\"T_8e982_row7_col0\" class=\"data row7 col0\" >0.8160</td>\n",
       "      <td id=\"T_8e982_row7_col1\" class=\"data row7 col1\" >0.8151</td>\n",
       "      <td id=\"T_8e982_row7_col2\" class=\"data row7 col2\" >0.8219</td>\n",
       "      <td id=\"T_8e982_row7_col3\" class=\"data row7 col3\" >0.8122</td>\n",
       "      <td id=\"T_8e982_row7_col4\" class=\"data row7 col4\" >0.8171</td>\n",
       "      <td id=\"T_8e982_row7_col5\" class=\"data row7 col5\" >0.6319</td>\n",
       "      <td id=\"T_8e982_row7_col6\" class=\"data row7 col6\" >0.6320</td>\n",
       "    </tr>\n",
       "    <tr>\n",
       "      <th id=\"T_8e982_level0_row8\" class=\"row_heading level0 row8\" >8</th>\n",
       "      <td id=\"T_8e982_row8_col0\" class=\"data row8 col0\" >0.8157</td>\n",
       "      <td id=\"T_8e982_row8_col1\" class=\"data row8 col1\" >0.8148</td>\n",
       "      <td id=\"T_8e982_row8_col2\" class=\"data row8 col2\" >0.8206</td>\n",
       "      <td id=\"T_8e982_row8_col3\" class=\"data row8 col3\" >0.8126</td>\n",
       "      <td id=\"T_8e982_row8_col4\" class=\"data row8 col4\" >0.8166</td>\n",
       "      <td id=\"T_8e982_row8_col5\" class=\"data row8 col5\" >0.6313</td>\n",
       "      <td id=\"T_8e982_row8_col6\" class=\"data row8 col6\" >0.6314</td>\n",
       "    </tr>\n",
       "    <tr>\n",
       "      <th id=\"T_8e982_level0_row9\" class=\"row_heading level0 row9\" >9</th>\n",
       "      <td id=\"T_8e982_row9_col0\" class=\"data row9 col0\" >0.8124</td>\n",
       "      <td id=\"T_8e982_row9_col1\" class=\"data row9 col1\" >0.8120</td>\n",
       "      <td id=\"T_8e982_row9_col2\" class=\"data row9 col2\" >0.8171</td>\n",
       "      <td id=\"T_8e982_row9_col3\" class=\"data row9 col3\" >0.8096</td>\n",
       "      <td id=\"T_8e982_row9_col4\" class=\"data row9 col4\" >0.8133</td>\n",
       "      <td id=\"T_8e982_row9_col5\" class=\"data row9 col5\" >0.6249</td>\n",
       "      <td id=\"T_8e982_row9_col6\" class=\"data row9 col6\" >0.6249</td>\n",
       "    </tr>\n",
       "    <tr>\n",
       "      <th id=\"T_8e982_level0_row10\" class=\"row_heading level0 row10\" >Mean</th>\n",
       "      <td id=\"T_8e982_row10_col0\" class=\"data row10 col0\" >0.8155</td>\n",
       "      <td id=\"T_8e982_row10_col1\" class=\"data row10 col1\" >0.8147</td>\n",
       "      <td id=\"T_8e982_row10_col2\" class=\"data row10 col2\" >0.8221</td>\n",
       "      <td id=\"T_8e982_row10_col3\" class=\"data row10 col3\" >0.8114</td>\n",
       "      <td id=\"T_8e982_row10_col4\" class=\"data row10 col4\" >0.8167</td>\n",
       "      <td id=\"T_8e982_row10_col5\" class=\"data row10 col5\" >0.6311</td>\n",
       "      <td id=\"T_8e982_row10_col6\" class=\"data row10 col6\" >0.6311</td>\n",
       "    </tr>\n",
       "    <tr>\n",
       "      <th id=\"T_8e982_level0_row11\" class=\"row_heading level0 row11\" >Std</th>\n",
       "      <td id=\"T_8e982_row11_col0\" class=\"data row11 col0\" >0.0025</td>\n",
       "      <td id=\"T_8e982_row11_col1\" class=\"data row11 col1\" >0.0023</td>\n",
       "      <td id=\"T_8e982_row11_col2\" class=\"data row11 col2\" >0.0038</td>\n",
       "      <td id=\"T_8e982_row11_col3\" class=\"data row11 col3\" >0.0018</td>\n",
       "      <td id=\"T_8e982_row11_col4\" class=\"data row11 col4\" >0.0027</td>\n",
       "      <td id=\"T_8e982_row11_col5\" class=\"data row11 col5\" >0.0049</td>\n",
       "      <td id=\"T_8e982_row11_col6\" class=\"data row11 col6\" >0.0050</td>\n",
       "    </tr>\n",
       "  </tbody>\n",
       "</table>\n"
      ],
      "text/plain": [
       "<pandas.io.formats.style.Styler at 0x7fdc5e692e60>"
      ]
     },
     "metadata": {},
     "output_type": "display_data"
    },
    {
     "data": {
      "text/html": [],
      "text/plain": [
       "<IPython.core.display.HTML object>"
      ]
     },
     "metadata": {},
     "output_type": "display_data"
    }
   ],
   "source": [
    "dt = create_model('dt')"
   ]
  },
  {
   "cell_type": "code",
   "execution_count": 17,
   "metadata": {},
   "outputs": [
    {
     "data": {
      "text/html": [],
      "text/plain": [
       "<IPython.core.display.HTML object>"
      ]
     },
     "metadata": {},
     "output_type": "display_data"
    },
    {
     "data": {
      "image/png": "[encoded data removed]",
      "text/plain": [
       "<Figure size 800x550 with 1 Axes>"
      ]
     },
     "metadata": {},
     "output_type": "display_data"
    }
   ],
   "source": [
    "plot_model(dt, plot = 'confusion_matrix')"
   ]
  },
  {
   "cell_type": "code",
   "execution_count": 18,
   "metadata": {},
   "outputs": [
    {
     "data": {
      "text/html": [],
      "text/plain": [
       "<IPython.core.display.HTML object>"
      ]
     },
     "metadata": {},
     "output_type": "display_data"
    },
    {
     "data": {
      "image/png": "[encoded data removed]",
      "text/plain": [
       "<Figure size 800x550 with 1 Axes>"
      ]
     },
     "metadata": {},
     "output_type": "display_data"
    }
   ],
   "source": [
    "plot_model(dt, plot = 'error')"
   ]
  },
  {
   "cell_type": "code",
   "execution_count": 19,
   "metadata": {},
   "outputs": [
    {
     "data": {
      "text/html": [],
      "text/plain": [
       "<IPython.core.display.HTML object>"
      ]
     },
     "metadata": {},
     "output_type": "display_data"
    },
    {
     "data": {
      "text/html": [
       "<div>\n",
       "<style scoped>\n",
       "    .dataframe tbody tr th:only-of-type {\n",
       "        vertical-align: middle;\n",
       "    }\n",
       "\n",
       "    .dataframe tbody tr th {\n",
       "        vertical-align: top;\n",
       "    }\n",
       "\n",
       "    .dataframe thead th {\n",
       "        text-align: right;\n",
       "    }\n",
       "</style>\n",
       "<table border=\"1\" class=\"dataframe\">\n",
       "  <thead>\n",
       "    <tr style=\"text-align: right;\">\n",
       "      <th></th>\n",
       "      <th>Parameters</th>\n",
       "    </tr>\n",
       "  </thead>\n",
       "  <tbody>\n",
       "    <tr>\n",
       "      <th>ccp_alpha</th>\n",
       "      <td>0.0</td>\n",
       "    </tr>\n",
       "    <tr>\n",
       "      <th>class_weight</th>\n",
       "      <td>None</td>\n",
       "    </tr>\n",
       "    <tr>\n",
       "      <th>criterion</th>\n",
       "      <td>gini</td>\n",
       "    </tr>\n",
       "    <tr>\n",
       "      <th>max_depth</th>\n",
       "      <td>None</td>\n",
       "    </tr>\n",
       "    <tr>\n",
       "      <th>max_features</th>\n",
       "      <td>None</td>\n",
       "    </tr>\n",
       "    <tr>\n",
       "      <th>max_leaf_nodes</th>\n",
       "      <td>None</td>\n",
       "    </tr>\n",
       "    <tr>\n",
       "      <th>min_impurity_decrease</th>\n",
       "      <td>0.0</td>\n",
       "    </tr>\n",
       "    <tr>\n",
       "      <th>min_samples_leaf</th>\n",
       "      <td>1</td>\n",
       "    </tr>\n",
       "    <tr>\n",
       "      <th>min_samples_split</th>\n",
       "      <td>2</td>\n",
       "    </tr>\n",
       "    <tr>\n",
       "      <th>min_weight_fraction_leaf</th>\n",
       "      <td>0.0</td>\n",
       "    </tr>\n",
       "    <tr>\n",
       "      <th>random_state</th>\n",
       "      <td>5136</td>\n",
       "    </tr>\n",
       "    <tr>\n",
       "      <th>splitter</th>\n",
       "      <td>best</td>\n",
       "    </tr>\n",
       "  </tbody>\n",
       "</table>\n",
       "</div>"
      ],
      "text/plain": [
       "                         Parameters\n",
       "ccp_alpha                       0.0\n",
       "class_weight                   None\n",
       "criterion                      gini\n",
       "max_depth                      None\n",
       "max_features                   None\n",
       "max_leaf_nodes                 None\n",
       "min_impurity_decrease           0.0\n",
       "min_samples_leaf                  1\n",
       "min_samples_split                 2\n",
       "min_weight_fraction_leaf        0.0\n",
       "random_state                   5136\n",
       "splitter                       best"
      ]
     },
     "metadata": {},
     "output_type": "display_data"
    }
   ],
   "source": [
    "plot_model(dt, plot = 'parameter')"
   ]
  },
  {
   "cell_type": "code",
   "execution_count": 20,
   "metadata": {},
   "outputs": [
    {
     "name": "stdout",
     "output_type": "stream",
     "text": [
      "Transformation Pipeline and Model Successfully Saved\n"
     ]
    },
    {
     "data": {
      "text/plain": [
       "(Pipeline(memory=FastMemory(location=/tmp/joblib),\n",
       "          steps=[('numerical_imputer',\n",
       "                  TransformerWrapper(exclude=None,\n",
       "                                     include=['0', '1', '2', '3', '4', '5', '6',\n",
       "                                              '7', '8', '9', '10', '11', '12',\n",
       "                                              '13', '14', '15', '16', '17', '18',\n",
       "                                              '19', '20', '21', '22', '23', '24',\n",
       "                                              '25', '26', '27', '28', '29', ...],\n",
       "                                     transformer=SimpleImputer(add_indicator=False,\n",
       "                                                               copy=True,\n",
       "                                                               fill_value=None,\n",
       "                                                               keep_empty_feat...\n",
       "                                                               missing_values=nan,\n",
       "                                                               strategy='most_frequent',\n",
       "                                                               verbose='deprecated'))),\n",
       "                 ('trained_model',\n",
       "                  DecisionTreeClassifier(ccp_alpha=0.0, class_weight=None,\n",
       "                                         criterion='gini', max_depth=None,\n",
       "                                         max_features=None, max_leaf_nodes=None,\n",
       "                                         min_impurity_decrease=0.0,\n",
       "                                         min_samples_leaf=1, min_samples_split=2,\n",
       "                                         min_weight_fraction_leaf=0.0,\n",
       "                                         random_state=5136, splitter='best'))],\n",
       "          verbose=False),\n",
       " 'models_classif/convkb/binary_emb_val/dt.pkl')"
      ]
     },
     "execution_count": 20,
     "metadata": {},
     "output_type": "execute_result"
    }
   ],
   "source": [
    "save_model(dt, 'models_classif/convkb/binary_emb_val/dt')"
   ]
  },
  {
   "cell_type": "markdown",
   "metadata": {},
   "source": [
    "# SVM - Linear Kernel"
   ]
  },
  {
   "cell_type": "code",
   "execution_count": 21,
   "metadata": {},
   "outputs": [
    {
     "data": {
      "text/html": [],
      "text/plain": [
       "<IPython.core.display.HTML object>"
      ]
     },
     "metadata": {},
     "output_type": "display_data"
    },
    {
     "data": {
      "text/html": [
       "<style type=\"text/css\">\n",
       "#T_34ee2_row10_col0, #T_34ee2_row10_col1, #T_34ee2_row10_col2, #T_34ee2_row10_col3, #T_34ee2_row10_col4, #T_34ee2_row10_col5, #T_34ee2_row10_col6 {\n",
       "  background: yellow;\n",
       "}\n",
       "</style>\n",
       "<table id=\"T_34ee2\">\n",
       "  <thead>\n",
       "    <tr>\n",
       "      <th class=\"blank level0\" >&nbsp;</th>\n",
       "      <th id=\"T_34ee2_level0_col0\" class=\"col_heading level0 col0\" >Accuracy</th>\n",
       "      <th id=\"T_34ee2_level0_col1\" class=\"col_heading level0 col1\" >AUC</th>\n",
       "      <th id=\"T_34ee2_level0_col2\" class=\"col_heading level0 col2\" >Recall</th>\n",
       "      <th id=\"T_34ee2_level0_col3\" class=\"col_heading level0 col3\" >Prec.</th>\n",
       "      <th id=\"T_34ee2_level0_col4\" class=\"col_heading level0 col4\" >F1</th>\n",
       "      <th id=\"T_34ee2_level0_col5\" class=\"col_heading level0 col5\" >Kappa</th>\n",
       "      <th id=\"T_34ee2_level0_col6\" class=\"col_heading level0 col6\" >MCC</th>\n",
       "    </tr>\n",
       "    <tr>\n",
       "      <th class=\"index_name level0\" >Fold</th>\n",
       "      <th class=\"blank col0\" >&nbsp;</th>\n",
       "      <th class=\"blank col1\" >&nbsp;</th>\n",
       "      <th class=\"blank col2\" >&nbsp;</th>\n",
       "      <th class=\"blank col3\" >&nbsp;</th>\n",
       "      <th class=\"blank col4\" >&nbsp;</th>\n",
       "      <th class=\"blank col5\" >&nbsp;</th>\n",
       "      <th class=\"blank col6\" >&nbsp;</th>\n",
       "    </tr>\n",
       "  </thead>\n",
       "  <tbody>\n",
       "    <tr>\n",
       "      <th id=\"T_34ee2_level0_row0\" class=\"row_heading level0 row0\" >0</th>\n",
       "      <td id=\"T_34ee2_row0_col0\" class=\"data row0 col0\" >0.6958</td>\n",
       "      <td id=\"T_34ee2_row0_col1\" class=\"data row0 col1\" >0.0000</td>\n",
       "      <td id=\"T_34ee2_row0_col2\" class=\"data row0 col2\" >0.8426</td>\n",
       "      <td id=\"T_34ee2_row0_col3\" class=\"data row0 col3\" >0.6514</td>\n",
       "      <td id=\"T_34ee2_row0_col4\" class=\"data row0 col4\" >0.7348</td>\n",
       "      <td id=\"T_34ee2_row0_col5\" class=\"data row0 col5\" >0.3916</td>\n",
       "      <td id=\"T_34ee2_row0_col6\" class=\"data row0 col6\" >0.4097</td>\n",
       "    </tr>\n",
       "    <tr>\n",
       "      <th id=\"T_34ee2_level0_row1\" class=\"row_heading level0 row1\" >1</th>\n",
       "      <td id=\"T_34ee2_row1_col0\" class=\"data row1 col0\" >0.7038</td>\n",
       "      <td id=\"T_34ee2_row1_col1\" class=\"data row1 col1\" >0.0000</td>\n",
       "      <td id=\"T_34ee2_row1_col2\" class=\"data row1 col2\" >0.8416</td>\n",
       "      <td id=\"T_34ee2_row1_col3\" class=\"data row1 col3\" >0.6598</td>\n",
       "      <td id=\"T_34ee2_row1_col4\" class=\"data row1 col4\" >0.7397</td>\n",
       "      <td id=\"T_34ee2_row1_col5\" class=\"data row1 col5\" >0.4076</td>\n",
       "      <td id=\"T_34ee2_row1_col6\" class=\"data row1 col6\" >0.4240</td>\n",
       "    </tr>\n",
       "    <tr>\n",
       "      <th id=\"T_34ee2_level0_row2\" class=\"row_heading level0 row2\" >2</th>\n",
       "      <td id=\"T_34ee2_row2_col0\" class=\"data row2 col0\" >0.6998</td>\n",
       "      <td id=\"T_34ee2_row2_col1\" class=\"data row2 col1\" >0.0000</td>\n",
       "      <td id=\"T_34ee2_row2_col2\" class=\"data row2 col2\" >0.8439</td>\n",
       "      <td id=\"T_34ee2_row2_col3\" class=\"data row2 col3\" >0.6551</td>\n",
       "      <td id=\"T_34ee2_row2_col4\" class=\"data row2 col4\" >0.7376</td>\n",
       "      <td id=\"T_34ee2_row2_col5\" class=\"data row2 col5\" >0.3996</td>\n",
       "      <td id=\"T_34ee2_row2_col6\" class=\"data row2 col6\" >0.4173</td>\n",
       "    </tr>\n",
       "    <tr>\n",
       "      <th id=\"T_34ee2_level0_row3\" class=\"row_heading level0 row3\" >3</th>\n",
       "      <td id=\"T_34ee2_row3_col0\" class=\"data row3 col0\" >0.6984</td>\n",
       "      <td id=\"T_34ee2_row3_col1\" class=\"data row3 col1\" >0.0000</td>\n",
       "      <td id=\"T_34ee2_row3_col2\" class=\"data row3 col2\" >0.8379</td>\n",
       "      <td id=\"T_34ee2_row3_col3\" class=\"data row3 col3\" >0.6551</td>\n",
       "      <td id=\"T_34ee2_row3_col4\" class=\"data row3 col4\" >0.7353</td>\n",
       "      <td id=\"T_34ee2_row3_col5\" class=\"data row3 col5\" >0.3967</td>\n",
       "      <td id=\"T_34ee2_row3_col6\" class=\"data row3 col6\" >0.4131</td>\n",
       "    </tr>\n",
       "    <tr>\n",
       "      <th id=\"T_34ee2_level0_row4\" class=\"row_heading level0 row4\" >4</th>\n",
       "      <td id=\"T_34ee2_row4_col0\" class=\"data row4 col0\" >0.6984</td>\n",
       "      <td id=\"T_34ee2_row4_col1\" class=\"data row4 col1\" >0.0000</td>\n",
       "      <td id=\"T_34ee2_row4_col2\" class=\"data row4 col2\" >0.8415</td>\n",
       "      <td id=\"T_34ee2_row4_col3\" class=\"data row4 col3\" >0.6542</td>\n",
       "      <td id=\"T_34ee2_row4_col4\" class=\"data row4 col4\" >0.7362</td>\n",
       "      <td id=\"T_34ee2_row4_col5\" class=\"data row4 col5\" >0.3968</td>\n",
       "      <td id=\"T_34ee2_row4_col6\" class=\"data row4 col6\" >0.4141</td>\n",
       "    </tr>\n",
       "    <tr>\n",
       "      <th id=\"T_34ee2_level0_row5\" class=\"row_heading level0 row5\" >5</th>\n",
       "      <td id=\"T_34ee2_row5_col0\" class=\"data row5 col0\" >0.6916</td>\n",
       "      <td id=\"T_34ee2_row5_col1\" class=\"data row5 col1\" >0.0000</td>\n",
       "      <td id=\"T_34ee2_row5_col2\" class=\"data row5 col2\" >0.8380</td>\n",
       "      <td id=\"T_34ee2_row5_col3\" class=\"data row5 col3\" >0.6482</td>\n",
       "      <td id=\"T_34ee2_row5_col4\" class=\"data row5 col4\" >0.7310</td>\n",
       "      <td id=\"T_34ee2_row5_col5\" class=\"data row5 col5\" >0.3832</td>\n",
       "      <td id=\"T_34ee2_row5_col6\" class=\"data row5 col6\" >0.4008</td>\n",
       "    </tr>\n",
       "    <tr>\n",
       "      <th id=\"T_34ee2_level0_row6\" class=\"row_heading level0 row6\" >6</th>\n",
       "      <td id=\"T_34ee2_row6_col0\" class=\"data row6 col0\" >0.6983</td>\n",
       "      <td id=\"T_34ee2_row6_col1\" class=\"data row6 col1\" >0.0000</td>\n",
       "      <td id=\"T_34ee2_row6_col2\" class=\"data row6 col2\" >0.8451</td>\n",
       "      <td id=\"T_34ee2_row6_col3\" class=\"data row6 col3\" >0.6533</td>\n",
       "      <td id=\"T_34ee2_row6_col4\" class=\"data row6 col4\" >0.7369</td>\n",
       "      <td id=\"T_34ee2_row6_col5\" class=\"data row6 col5\" >0.3967</td>\n",
       "      <td id=\"T_34ee2_row6_col6\" class=\"data row6 col6\" >0.4149</td>\n",
       "    </tr>\n",
       "    <tr>\n",
       "      <th id=\"T_34ee2_level0_row7\" class=\"row_heading level0 row7\" >7</th>\n",
       "      <td id=\"T_34ee2_row7_col0\" class=\"data row7 col0\" >0.6911</td>\n",
       "      <td id=\"T_34ee2_row7_col1\" class=\"data row7 col1\" >0.0000</td>\n",
       "      <td id=\"T_34ee2_row7_col2\" class=\"data row7 col2\" >0.8401</td>\n",
       "      <td id=\"T_34ee2_row7_col3\" class=\"data row7 col3\" >0.6473</td>\n",
       "      <td id=\"T_34ee2_row7_col4\" class=\"data row7 col4\" >0.7312</td>\n",
       "      <td id=\"T_34ee2_row7_col5\" class=\"data row7 col5\" >0.3823</td>\n",
       "      <td id=\"T_34ee2_row7_col6\" class=\"data row7 col6\" >0.4004</td>\n",
       "    </tr>\n",
       "    <tr>\n",
       "      <th id=\"T_34ee2_level0_row8\" class=\"row_heading level0 row8\" >8</th>\n",
       "      <td id=\"T_34ee2_row8_col0\" class=\"data row8 col0\" >0.6926</td>\n",
       "      <td id=\"T_34ee2_row8_col1\" class=\"data row8 col1\" >0.0000</td>\n",
       "      <td id=\"T_34ee2_row8_col2\" class=\"data row8 col2\" >0.8316</td>\n",
       "      <td id=\"T_34ee2_row8_col3\" class=\"data row8 col3\" >0.6507</td>\n",
       "      <td id=\"T_34ee2_row8_col4\" class=\"data row8 col4\" >0.7301</td>\n",
       "      <td id=\"T_34ee2_row8_col5\" class=\"data row8 col5\" >0.3851</td>\n",
       "      <td id=\"T_34ee2_row8_col6\" class=\"data row8 col6\" >0.4009</td>\n",
       "    </tr>\n",
       "    <tr>\n",
       "      <th id=\"T_34ee2_level0_row9\" class=\"row_heading level0 row9\" >9</th>\n",
       "      <td id=\"T_34ee2_row9_col0\" class=\"data row9 col0\" >0.7025</td>\n",
       "      <td id=\"T_34ee2_row9_col1\" class=\"data row9 col1\" >0.0000</td>\n",
       "      <td id=\"T_34ee2_row9_col2\" class=\"data row9 col2\" >0.8444</td>\n",
       "      <td id=\"T_34ee2_row9_col3\" class=\"data row9 col3\" >0.6577</td>\n",
       "      <td id=\"T_34ee2_row9_col4\" class=\"data row9 col4\" >0.7395</td>\n",
       "      <td id=\"T_34ee2_row9_col5\" class=\"data row9 col5\" >0.4049</td>\n",
       "      <td id=\"T_34ee2_row9_col6\" class=\"data row9 col6\" >0.4223</td>\n",
       "    </tr>\n",
       "    <tr>\n",
       "      <th id=\"T_34ee2_level0_row10\" class=\"row_heading level0 row10\" >Mean</th>\n",
       "      <td id=\"T_34ee2_row10_col0\" class=\"data row10 col0\" >0.6972</td>\n",
       "      <td id=\"T_34ee2_row10_col1\" class=\"data row10 col1\" >0.0000</td>\n",
       "      <td id=\"T_34ee2_row10_col2\" class=\"data row10 col2\" >0.8407</td>\n",
       "      <td id=\"T_34ee2_row10_col3\" class=\"data row10 col3\" >0.6533</td>\n",
       "      <td id=\"T_34ee2_row10_col4\" class=\"data row10 col4\" >0.7352</td>\n",
       "      <td id=\"T_34ee2_row10_col5\" class=\"data row10 col5\" >0.3945</td>\n",
       "      <td id=\"T_34ee2_row10_col6\" class=\"data row10 col6\" >0.4118</td>\n",
       "    </tr>\n",
       "    <tr>\n",
       "      <th id=\"T_34ee2_level0_row11\" class=\"row_heading level0 row11\" >Std</th>\n",
       "      <td id=\"T_34ee2_row11_col0\" class=\"data row11 col0\" >0.0042</td>\n",
       "      <td id=\"T_34ee2_row11_col1\" class=\"data row11 col1\" >0.0000</td>\n",
       "      <td id=\"T_34ee2_row11_col2\" class=\"data row11 col2\" >0.0038</td>\n",
       "      <td id=\"T_34ee2_row11_col3\" class=\"data row11 col3\" >0.0038</td>\n",
       "      <td id=\"T_34ee2_row11_col4\" class=\"data row11 col4\" >0.0033</td>\n",
       "      <td id=\"T_34ee2_row11_col5\" class=\"data row11 col5\" >0.0083</td>\n",
       "      <td id=\"T_34ee2_row11_col6\" class=\"data row11 col6\" >0.0082</td>\n",
       "    </tr>\n",
       "  </tbody>\n",
       "</table>\n"
      ],
      "text/plain": [
       "<pandas.io.formats.style.Styler at 0x7fdc7247d840>"
      ]
     },
     "metadata": {},
     "output_type": "display_data"
    },
    {
     "data": {
      "text/html": [],
      "text/plain": [
       "<IPython.core.display.HTML object>"
      ]
     },
     "metadata": {},
     "output_type": "display_data"
    }
   ],
   "source": [
    "svm = create_model('svm')"
   ]
  },
  {
   "cell_type": "code",
   "execution_count": 22,
   "metadata": {},
   "outputs": [
    {
     "data": {
      "text/html": [],
      "text/plain": [
       "<IPython.core.display.HTML object>"
      ]
     },
     "metadata": {},
     "output_type": "display_data"
    },
    {
     "data": {
      "image/png": "[encoded data removed]",
      "text/plain": [
       "<Figure size 800x550 with 1 Axes>"
      ]
     },
     "metadata": {},
     "output_type": "display_data"
    }
   ],
   "source": [
    "plot_model(svm, plot = 'confusion_matrix')"
   ]
  },
  {
   "cell_type": "code",
   "execution_count": 23,
   "metadata": {},
   "outputs": [
    {
     "data": {
      "text/html": [],
      "text/plain": [
       "<IPython.core.display.HTML object>"
      ]
     },
     "metadata": {},
     "output_type": "display_data"
    },
    {
     "data": {
      "image/png": "[encoded data removed]",
      "text/plain": [
       "<Figure size 800x550 with 1 Axes>"
      ]
     },
     "metadata": {},
     "output_type": "display_data"
    }
   ],
   "source": [
    "plot_model(svm, plot = 'error')"
   ]
  },
  {
   "cell_type": "code",
   "execution_count": 24,
   "metadata": {},
   "outputs": [
    {
     "data": {
      "text/html": [],
      "text/plain": [
       "<IPython.core.display.HTML object>"
      ]
     },
     "metadata": {},
     "output_type": "display_data"
    },
    {
     "data": {
      "text/html": [
       "<div>\n",
       "<style scoped>\n",
       "    .dataframe tbody tr th:only-of-type {\n",
       "        vertical-align: middle;\n",
       "    }\n",
       "\n",
       "    .dataframe tbody tr th {\n",
       "        vertical-align: top;\n",
       "    }\n",
       "\n",
       "    .dataframe thead th {\n",
       "        text-align: right;\n",
       "    }\n",
       "</style>\n",
       "<table border=\"1\" class=\"dataframe\">\n",
       "  <thead>\n",
       "    <tr style=\"text-align: right;\">\n",
       "      <th></th>\n",
       "      <th>Parameters</th>\n",
       "    </tr>\n",
       "  </thead>\n",
       "  <tbody>\n",
       "    <tr>\n",
       "      <th>alpha</th>\n",
       "      <td>0.0001</td>\n",
       "    </tr>\n",
       "    <tr>\n",
       "      <th>average</th>\n",
       "      <td>False</td>\n",
       "    </tr>\n",
       "    <tr>\n",
       "      <th>class_weight</th>\n",
       "      <td>None</td>\n",
       "    </tr>\n",
       "    <tr>\n",
       "      <th>early_stopping</th>\n",
       "      <td>False</td>\n",
       "    </tr>\n",
       "    <tr>\n",
       "      <th>epsilon</th>\n",
       "      <td>0.1</td>\n",
       "    </tr>\n",
       "    <tr>\n",
       "      <th>eta0</th>\n",
       "      <td>0.001</td>\n",
       "    </tr>\n",
       "    <tr>\n",
       "      <th>fit_intercept</th>\n",
       "      <td>True</td>\n",
       "    </tr>\n",
       "    <tr>\n",
       "      <th>l1_ratio</th>\n",
       "      <td>0.15</td>\n",
       "    </tr>\n",
       "    <tr>\n",
       "      <th>learning_rate</th>\n",
       "      <td>optimal</td>\n",
       "    </tr>\n",
       "    <tr>\n",
       "      <th>loss</th>\n",
       "      <td>hinge</td>\n",
       "    </tr>\n",
       "    <tr>\n",
       "      <th>max_iter</th>\n",
       "      <td>1000</td>\n",
       "    </tr>\n",
       "    <tr>\n",
       "      <th>n_iter_no_change</th>\n",
       "      <td>5</td>\n",
       "    </tr>\n",
       "    <tr>\n",
       "      <th>n_jobs</th>\n",
       "      <td>-1</td>\n",
       "    </tr>\n",
       "    <tr>\n",
       "      <th>penalty</th>\n",
       "      <td>l2</td>\n",
       "    </tr>\n",
       "    <tr>\n",
       "      <th>power_t</th>\n",
       "      <td>0.5</td>\n",
       "    </tr>\n",
       "    <tr>\n",
       "      <th>random_state</th>\n",
       "      <td>5136</td>\n",
       "    </tr>\n",
       "    <tr>\n",
       "      <th>shuffle</th>\n",
       "      <td>True</td>\n",
       "    </tr>\n",
       "    <tr>\n",
       "      <th>tol</th>\n",
       "      <td>0.001</td>\n",
       "    </tr>\n",
       "    <tr>\n",
       "      <th>validation_fraction</th>\n",
       "      <td>0.1</td>\n",
       "    </tr>\n",
       "    <tr>\n",
       "      <th>verbose</th>\n",
       "      <td>0</td>\n",
       "    </tr>\n",
       "    <tr>\n",
       "      <th>warm_start</th>\n",
       "      <td>False</td>\n",
       "    </tr>\n",
       "  </tbody>\n",
       "</table>\n",
       "</div>"
      ],
      "text/plain": [
       "                    Parameters\n",
       "alpha                   0.0001\n",
       "average                  False\n",
       "class_weight              None\n",
       "early_stopping           False\n",
       "epsilon                    0.1\n",
       "eta0                     0.001\n",
       "fit_intercept             True\n",
       "l1_ratio                  0.15\n",
       "learning_rate          optimal\n",
       "loss                     hinge\n",
       "max_iter                  1000\n",
       "n_iter_no_change             5\n",
       "n_jobs                      -1\n",
       "penalty                     l2\n",
       "power_t                    0.5\n",
       "random_state              5136\n",
       "shuffle                   True\n",
       "tol                      0.001\n",
       "validation_fraction        0.1\n",
       "verbose                      0\n",
       "warm_start               False"
      ]
     },
     "metadata": {},
     "output_type": "display_data"
    }
   ],
   "source": [
    "plot_model(svm, plot = 'parameter')"
   ]
  },
  {
   "cell_type": "code",
   "execution_count": 25,
   "metadata": {},
   "outputs": [
    {
     "name": "stdout",
     "output_type": "stream",
     "text": [
      "Transformation Pipeline and Model Successfully Saved\n"
     ]
    },
    {
     "data": {
      "text/plain": [
       "(Pipeline(memory=FastMemory(location=/tmp/joblib),\n",
       "          steps=[('numerical_imputer',\n",
       "                  TransformerWrapper(exclude=None,\n",
       "                                     include=['0', '1', '2', '3', '4', '5', '6',\n",
       "                                              '7', '8', '9', '10', '11', '12',\n",
       "                                              '13', '14', '15', '16', '17', '18',\n",
       "                                              '19', '20', '21', '22', '23', '24',\n",
       "                                              '25', '26', '27', '28', '29', ...],\n",
       "                                     transformer=SimpleImputer(add_indicator=False,\n",
       "                                                               copy=True,\n",
       "                                                               fill_value=None,\n",
       "                                                               keep_empty_feat...\n",
       "                  SGDClassifier(alpha=0.0001, average=False, class_weight=None,\n",
       "                                early_stopping=False, epsilon=0.1, eta0=0.001,\n",
       "                                fit_intercept=True, l1_ratio=0.15,\n",
       "                                learning_rate='optimal', loss='hinge',\n",
       "                                max_iter=1000, n_iter_no_change=5, n_jobs=-1,\n",
       "                                penalty='l2', power_t=0.5, random_state=5136,\n",
       "                                shuffle=True, tol=0.001, validation_fraction=0.1,\n",
       "                                verbose=0, warm_start=False))],\n",
       "          verbose=False),\n",
       " 'models_classif/convkb/binary_emb_val/svm.pkl')"
      ]
     },
     "execution_count": 25,
     "metadata": {},
     "output_type": "execute_result"
    }
   ],
   "source": [
    "save_model(svm, 'models_classif/convkb/binary_emb_val/svm')"
   ]
  },
  {
   "cell_type": "markdown",
   "metadata": {},
   "source": [
    "# Ridge Classifier"
   ]
  },
  {
   "cell_type": "code",
   "execution_count": 26,
   "metadata": {},
   "outputs": [
    {
     "data": {
      "text/html": [],
      "text/plain": [
       "<IPython.core.display.HTML object>"
      ]
     },
     "metadata": {},
     "output_type": "display_data"
    },
    {
     "data": {
      "text/html": [
       "<style type=\"text/css\">\n",
       "#T_eb81c_row10_col0, #T_eb81c_row10_col1, #T_eb81c_row10_col2, #T_eb81c_row10_col3, #T_eb81c_row10_col4, #T_eb81c_row10_col5, #T_eb81c_row10_col6 {\n",
       "  background: yellow;\n",
       "}\n",
       "</style>\n",
       "<table id=\"T_eb81c\">\n",
       "  <thead>\n",
       "    <tr>\n",
       "      <th class=\"blank level0\" >&nbsp;</th>\n",
       "      <th id=\"T_eb81c_level0_col0\" class=\"col_heading level0 col0\" >Accuracy</th>\n",
       "      <th id=\"T_eb81c_level0_col1\" class=\"col_heading level0 col1\" >AUC</th>\n",
       "      <th id=\"T_eb81c_level0_col2\" class=\"col_heading level0 col2\" >Recall</th>\n",
       "      <th id=\"T_eb81c_level0_col3\" class=\"col_heading level0 col3\" >Prec.</th>\n",
       "      <th id=\"T_eb81c_level0_col4\" class=\"col_heading level0 col4\" >F1</th>\n",
       "      <th id=\"T_eb81c_level0_col5\" class=\"col_heading level0 col5\" >Kappa</th>\n",
       "      <th id=\"T_eb81c_level0_col6\" class=\"col_heading level0 col6\" >MCC</th>\n",
       "    </tr>\n",
       "    <tr>\n",
       "      <th class=\"index_name level0\" >Fold</th>\n",
       "      <th class=\"blank col0\" >&nbsp;</th>\n",
       "      <th class=\"blank col1\" >&nbsp;</th>\n",
       "      <th class=\"blank col2\" >&nbsp;</th>\n",
       "      <th class=\"blank col3\" >&nbsp;</th>\n",
       "      <th class=\"blank col4\" >&nbsp;</th>\n",
       "      <th class=\"blank col5\" >&nbsp;</th>\n",
       "      <th class=\"blank col6\" >&nbsp;</th>\n",
       "    </tr>\n",
       "  </thead>\n",
       "  <tbody>\n",
       "    <tr>\n",
       "      <th id=\"T_eb81c_level0_row0\" class=\"row_heading level0 row0\" >0</th>\n",
       "      <td id=\"T_eb81c_row0_col0\" class=\"data row0 col0\" >0.7035</td>\n",
       "      <td id=\"T_eb81c_row0_col1\" class=\"data row0 col1\" >0.0000</td>\n",
       "      <td id=\"T_eb81c_row0_col2\" class=\"data row0 col2\" >0.8086</td>\n",
       "      <td id=\"T_eb81c_row0_col3\" class=\"data row0 col3\" >0.6682</td>\n",
       "      <td id=\"T_eb81c_row0_col4\" class=\"data row0 col4\" >0.7317</td>\n",
       "      <td id=\"T_eb81c_row0_col5\" class=\"data row0 col5\" >0.4071</td>\n",
       "      <td id=\"T_eb81c_row0_col6\" class=\"data row0 col6\" >0.4164</td>\n",
       "    </tr>\n",
       "    <tr>\n",
       "      <th id=\"T_eb81c_level0_row1\" class=\"row_heading level0 row1\" >1</th>\n",
       "      <td id=\"T_eb81c_row1_col0\" class=\"data row1 col0\" >0.7101</td>\n",
       "      <td id=\"T_eb81c_row1_col1\" class=\"data row1 col1\" >0.0000</td>\n",
       "      <td id=\"T_eb81c_row1_col2\" class=\"data row1 col2\" >0.8071</td>\n",
       "      <td id=\"T_eb81c_row1_col3\" class=\"data row1 col3\" >0.6759</td>\n",
       "      <td id=\"T_eb81c_row1_col4\" class=\"data row1 col4\" >0.7357</td>\n",
       "      <td id=\"T_eb81c_row1_col5\" class=\"data row1 col5\" >0.4202</td>\n",
       "      <td id=\"T_eb81c_row1_col6\" class=\"data row1 col6\" >0.4283</td>\n",
       "    </tr>\n",
       "    <tr>\n",
       "      <th id=\"T_eb81c_level0_row2\" class=\"row_heading level0 row2\" >2</th>\n",
       "      <td id=\"T_eb81c_row2_col0\" class=\"data row2 col0\" >0.7125</td>\n",
       "      <td id=\"T_eb81c_row2_col1\" class=\"data row2 col1\" >0.0000</td>\n",
       "      <td id=\"T_eb81c_row2_col2\" class=\"data row2 col2\" >0.8088</td>\n",
       "      <td id=\"T_eb81c_row2_col3\" class=\"data row2 col3\" >0.6782</td>\n",
       "      <td id=\"T_eb81c_row2_col4\" class=\"data row2 col4\" >0.7378</td>\n",
       "      <td id=\"T_eb81c_row2_col5\" class=\"data row2 col5\" >0.4251</td>\n",
       "      <td id=\"T_eb81c_row2_col6\" class=\"data row2 col6\" >0.4332</td>\n",
       "    </tr>\n",
       "    <tr>\n",
       "      <th id=\"T_eb81c_level0_row3\" class=\"row_heading level0 row3\" >3</th>\n",
       "      <td id=\"T_eb81c_row3_col0\" class=\"data row3 col0\" >0.7067</td>\n",
       "      <td id=\"T_eb81c_row3_col1\" class=\"data row3 col1\" >0.0000</td>\n",
       "      <td id=\"T_eb81c_row3_col2\" class=\"data row3 col2\" >0.8079</td>\n",
       "      <td id=\"T_eb81c_row3_col3\" class=\"data row3 col3\" >0.6718</td>\n",
       "      <td id=\"T_eb81c_row3_col4\" class=\"data row3 col4\" >0.7336</td>\n",
       "      <td id=\"T_eb81c_row3_col5\" class=\"data row3 col5\" >0.4133</td>\n",
       "      <td id=\"T_eb81c_row3_col6\" class=\"data row3 col6\" >0.4221</td>\n",
       "    </tr>\n",
       "    <tr>\n",
       "      <th id=\"T_eb81c_level0_row4\" class=\"row_heading level0 row4\" >4</th>\n",
       "      <td id=\"T_eb81c_row4_col0\" class=\"data row4 col0\" >0.7078</td>\n",
       "      <td id=\"T_eb81c_row4_col1\" class=\"data row4 col1\" >0.0000</td>\n",
       "      <td id=\"T_eb81c_row4_col2\" class=\"data row4 col2\" >0.8077</td>\n",
       "      <td id=\"T_eb81c_row4_col3\" class=\"data row4 col3\" >0.6732</td>\n",
       "      <td id=\"T_eb81c_row4_col4\" class=\"data row4 col4\" >0.7343</td>\n",
       "      <td id=\"T_eb81c_row4_col5\" class=\"data row4 col5\" >0.4156</td>\n",
       "      <td id=\"T_eb81c_row4_col6\" class=\"data row4 col6\" >0.4242</td>\n",
       "    </tr>\n",
       "    <tr>\n",
       "      <th id=\"T_eb81c_level0_row5\" class=\"row_heading level0 row5\" >5</th>\n",
       "      <td id=\"T_eb81c_row5_col0\" class=\"data row5 col0\" >0.7025</td>\n",
       "      <td id=\"T_eb81c_row5_col1\" class=\"data row5 col1\" >0.0000</td>\n",
       "      <td id=\"T_eb81c_row5_col2\" class=\"data row5 col2\" >0.8038</td>\n",
       "      <td id=\"T_eb81c_row5_col3\" class=\"data row5 col3\" >0.6684</td>\n",
       "      <td id=\"T_eb81c_row5_col4\" class=\"data row5 col4\" >0.7299</td>\n",
       "      <td id=\"T_eb81c_row5_col5\" class=\"data row5 col5\" >0.4051</td>\n",
       "      <td id=\"T_eb81c_row5_col6\" class=\"data row5 col6\" >0.4137</td>\n",
       "    </tr>\n",
       "    <tr>\n",
       "      <th id=\"T_eb81c_level0_row6\" class=\"row_heading level0 row6\" >6</th>\n",
       "      <td id=\"T_eb81c_row6_col0\" class=\"data row6 col0\" >0.7086</td>\n",
       "      <td id=\"T_eb81c_row6_col1\" class=\"data row6 col1\" >0.0000</td>\n",
       "      <td id=\"T_eb81c_row6_col2\" class=\"data row6 col2\" >0.8105</td>\n",
       "      <td id=\"T_eb81c_row6_col3\" class=\"data row6 col3\" >0.6733</td>\n",
       "      <td id=\"T_eb81c_row6_col4\" class=\"data row6 col4\" >0.7355</td>\n",
       "      <td id=\"T_eb81c_row6_col5\" class=\"data row6 col5\" >0.4171</td>\n",
       "      <td id=\"T_eb81c_row6_col6\" class=\"data row6 col6\" >0.4261</td>\n",
       "    </tr>\n",
       "    <tr>\n",
       "      <th id=\"T_eb81c_level0_row7\" class=\"row_heading level0 row7\" >7</th>\n",
       "      <td id=\"T_eb81c_row7_col0\" class=\"data row7 col0\" >0.7085</td>\n",
       "      <td id=\"T_eb81c_row7_col1\" class=\"data row7 col1\" >0.0000</td>\n",
       "      <td id=\"T_eb81c_row7_col2\" class=\"data row7 col2\" >0.8064</td>\n",
       "      <td id=\"T_eb81c_row7_col3\" class=\"data row7 col3\" >0.6744</td>\n",
       "      <td id=\"T_eb81c_row7_col4\" class=\"data row7 col4\" >0.7345</td>\n",
       "      <td id=\"T_eb81c_row7_col5\" class=\"data row7 col5\" >0.4171</td>\n",
       "      <td id=\"T_eb81c_row7_col6\" class=\"data row7 col6\" >0.4253</td>\n",
       "    </tr>\n",
       "    <tr>\n",
       "      <th id=\"T_eb81c_level0_row8\" class=\"row_heading level0 row8\" >8</th>\n",
       "      <td id=\"T_eb81c_row8_col0\" class=\"data row8 col0\" >0.7046</td>\n",
       "      <td id=\"T_eb81c_row8_col1\" class=\"data row8 col1\" >0.0000</td>\n",
       "      <td id=\"T_eb81c_row8_col2\" class=\"data row8 col2\" >0.8014</td>\n",
       "      <td id=\"T_eb81c_row8_col3\" class=\"data row8 col3\" >0.6714</td>\n",
       "      <td id=\"T_eb81c_row8_col4\" class=\"data row8 col4\" >0.7307</td>\n",
       "      <td id=\"T_eb81c_row8_col5\" class=\"data row8 col5\" >0.4091</td>\n",
       "      <td id=\"T_eb81c_row8_col6\" class=\"data row8 col6\" >0.4170</td>\n",
       "    </tr>\n",
       "    <tr>\n",
       "      <th id=\"T_eb81c_level0_row9\" class=\"row_heading level0 row9\" >9</th>\n",
       "      <td id=\"T_eb81c_row9_col0\" class=\"data row9 col0\" >0.7110</td>\n",
       "      <td id=\"T_eb81c_row9_col1\" class=\"data row9 col1\" >0.0000</td>\n",
       "      <td id=\"T_eb81c_row9_col2\" class=\"data row9 col2\" >0.8054</td>\n",
       "      <td id=\"T_eb81c_row9_col3\" class=\"data row9 col3\" >0.6775</td>\n",
       "      <td id=\"T_eb81c_row9_col4\" class=\"data row9 col4\" >0.7360</td>\n",
       "      <td id=\"T_eb81c_row9_col5\" class=\"data row9 col5\" >0.4221</td>\n",
       "      <td id=\"T_eb81c_row9_col6\" class=\"data row9 col6\" >0.4298</td>\n",
       "    </tr>\n",
       "    <tr>\n",
       "      <th id=\"T_eb81c_level0_row10\" class=\"row_heading level0 row10\" >Mean</th>\n",
       "      <td id=\"T_eb81c_row10_col0\" class=\"data row10 col0\" >0.7076</td>\n",
       "      <td id=\"T_eb81c_row10_col1\" class=\"data row10 col1\" >0.0000</td>\n",
       "      <td id=\"T_eb81c_row10_col2\" class=\"data row10 col2\" >0.8068</td>\n",
       "      <td id=\"T_eb81c_row10_col3\" class=\"data row10 col3\" >0.6732</td>\n",
       "      <td id=\"T_eb81c_row10_col4\" class=\"data row10 col4\" >0.7340</td>\n",
       "      <td id=\"T_eb81c_row10_col5\" class=\"data row10 col5\" >0.4152</td>\n",
       "      <td id=\"T_eb81c_row10_col6\" class=\"data row10 col6\" >0.4236</td>\n",
       "    </tr>\n",
       "    <tr>\n",
       "      <th id=\"T_eb81c_level0_row11\" class=\"row_heading level0 row11\" >Std</th>\n",
       "      <td id=\"T_eb81c_row11_col0\" class=\"data row11 col0\" >0.0031</td>\n",
       "      <td id=\"T_eb81c_row11_col1\" class=\"data row11 col1\" >0.0000</td>\n",
       "      <td id=\"T_eb81c_row11_col2\" class=\"data row11 col2\" >0.0025</td>\n",
       "      <td id=\"T_eb81c_row11_col3\" class=\"data row11 col3\" >0.0033</td>\n",
       "      <td id=\"T_eb81c_row11_col4\" class=\"data row11 col4\" >0.0024</td>\n",
       "      <td id=\"T_eb81c_row11_col5\" class=\"data row11 col5\" >0.0062</td>\n",
       "      <td id=\"T_eb81c_row11_col6\" class=\"data row11 col6\" >0.0060</td>\n",
       "    </tr>\n",
       "  </tbody>\n",
       "</table>\n"
      ],
      "text/plain": [
       "<pandas.io.formats.style.Styler at 0x7fdc70f68220>"
      ]
     },
     "metadata": {},
     "output_type": "display_data"
    },
    {
     "data": {
      "text/html": [],
      "text/plain": [
       "<IPython.core.display.HTML object>"
      ]
     },
     "metadata": {},
     "output_type": "display_data"
    }
   ],
   "source": [
    "ridge = create_model('ridge')"
   ]
  },
  {
   "cell_type": "code",
   "execution_count": 27,
   "metadata": {},
   "outputs": [
    {
     "data": {
      "text/html": [],
      "text/plain": [
       "<IPython.core.display.HTML object>"
      ]
     },
     "metadata": {},
     "output_type": "display_data"
    },
    {
     "data": {
      "image/png": "[encoded data removed]",
      "text/plain": [
       "<Figure size 800x550 with 1 Axes>"
      ]
     },
     "metadata": {},
     "output_type": "display_data"
    }
   ],
   "source": [
    "plot_model(ridge, plot = 'confusion_matrix')"
   ]
  },
  {
   "cell_type": "code",
   "execution_count": 28,
   "metadata": {},
   "outputs": [
    {
     "data": {
      "text/html": [],
      "text/plain": [
       "<IPython.core.display.HTML object>"
      ]
     },
     "metadata": {},
     "output_type": "display_data"
    },
    {
     "data": {
      "image/png": "[encoded data removed]",
      "text/plain": [
       "<Figure size 800x550 with 1 Axes>"
      ]
     },
     "metadata": {},
     "output_type": "display_data"
    }
   ],
   "source": [
    "plot_model(ridge, plot = 'error')"
   ]
  },
  {
   "cell_type": "code",
   "execution_count": 29,
   "metadata": {},
   "outputs": [
    {
     "data": {
      "text/html": [],
      "text/plain": [
       "<IPython.core.display.HTML object>"
      ]
     },
     "metadata": {},
     "output_type": "display_data"
    },
    {
     "data": {
      "text/html": [
       "<div>\n",
       "<style scoped>\n",
       "    .dataframe tbody tr th:only-of-type {\n",
       "        vertical-align: middle;\n",
       "    }\n",
       "\n",
       "    .dataframe tbody tr th {\n",
       "        vertical-align: top;\n",
       "    }\n",
       "\n",
       "    .dataframe thead th {\n",
       "        text-align: right;\n",
       "    }\n",
       "</style>\n",
       "<table border=\"1\" class=\"dataframe\">\n",
       "  <thead>\n",
       "    <tr style=\"text-align: right;\">\n",
       "      <th></th>\n",
       "      <th>Parameters</th>\n",
       "    </tr>\n",
       "  </thead>\n",
       "  <tbody>\n",
       "    <tr>\n",
       "      <th>alpha</th>\n",
       "      <td>1.0</td>\n",
       "    </tr>\n",
       "    <tr>\n",
       "      <th>class_weight</th>\n",
       "      <td>None</td>\n",
       "    </tr>\n",
       "    <tr>\n",
       "      <th>copy_X</th>\n",
       "      <td>True</td>\n",
       "    </tr>\n",
       "    <tr>\n",
       "      <th>fit_intercept</th>\n",
       "      <td>True</td>\n",
       "    </tr>\n",
       "    <tr>\n",
       "      <th>max_iter</th>\n",
       "      <td>None</td>\n",
       "    </tr>\n",
       "    <tr>\n",
       "      <th>positive</th>\n",
       "      <td>False</td>\n",
       "    </tr>\n",
       "    <tr>\n",
       "      <th>random_state</th>\n",
       "      <td>5136</td>\n",
       "    </tr>\n",
       "    <tr>\n",
       "      <th>solver</th>\n",
       "      <td>auto</td>\n",
       "    </tr>\n",
       "    <tr>\n",
       "      <th>tol</th>\n",
       "      <td>0.0001</td>\n",
       "    </tr>\n",
       "  </tbody>\n",
       "</table>\n",
       "</div>"
      ],
      "text/plain": [
       "              Parameters\n",
       "alpha                1.0\n",
       "class_weight        None\n",
       "copy_X              True\n",
       "fit_intercept       True\n",
       "max_iter            None\n",
       "positive           False\n",
       "random_state        5136\n",
       "solver              auto\n",
       "tol               0.0001"
      ]
     },
     "metadata": {},
     "output_type": "display_data"
    }
   ],
   "source": [
    "plot_model(ridge, plot = 'parameter')"
   ]
  },
  {
   "cell_type": "code",
   "execution_count": 30,
   "metadata": {},
   "outputs": [
    {
     "name": "stdout",
     "output_type": "stream",
     "text": [
      "Transformation Pipeline and Model Successfully Saved\n"
     ]
    },
    {
     "data": {
      "text/plain": [
       "(Pipeline(memory=FastMemory(location=/tmp/joblib),\n",
       "          steps=[('numerical_imputer',\n",
       "                  TransformerWrapper(exclude=None,\n",
       "                                     include=['0', '1', '2', '3', '4', '5', '6',\n",
       "                                              '7', '8', '9', '10', '11', '12',\n",
       "                                              '13', '14', '15', '16', '17', '18',\n",
       "                                              '19', '20', '21', '22', '23', '24',\n",
       "                                              '25', '26', '27', '28', '29', ...],\n",
       "                                     transformer=SimpleImputer(add_indicator=False,\n",
       "                                                               copy=True,\n",
       "                                                               fill_value=None,\n",
       "                                                               keep_empty_feat...\n",
       "                  TransformerWrapper(exclude=None, include=[],\n",
       "                                     transformer=SimpleImputer(add_indicator=False,\n",
       "                                                               copy=True,\n",
       "                                                               fill_value=None,\n",
       "                                                               keep_empty_features=False,\n",
       "                                                               missing_values=nan,\n",
       "                                                               strategy='most_frequent',\n",
       "                                                               verbose='deprecated'))),\n",
       "                 ('trained_model',\n",
       "                  RidgeClassifier(alpha=1.0, class_weight=None, copy_X=True,\n",
       "                                  fit_intercept=True, max_iter=None,\n",
       "                                  positive=False, random_state=5136,\n",
       "                                  solver='auto', tol=0.0001))],\n",
       "          verbose=False),\n",
       " 'models_classif/convkb/binary_emb_val/ridge.pkl')"
      ]
     },
     "execution_count": 30,
     "metadata": {},
     "output_type": "execute_result"
    }
   ],
   "source": [
    "save_model(ridge, 'models_classif/convkb/binary_emb_val/ridge')"
   ]
  },
  {
   "cell_type": "markdown",
   "metadata": {},
   "source": [
    "# Random Forest"
   ]
  },
  {
   "cell_type": "code",
   "execution_count": 31,
   "metadata": {},
   "outputs": [
    {
     "data": {
      "text/html": [],
      "text/plain": [
       "<IPython.core.display.HTML object>"
      ]
     },
     "metadata": {},
     "output_type": "display_data"
    },
    {
     "data": {
      "text/html": [
       "<style type=\"text/css\">\n",
       "#T_23db9_row10_col0, #T_23db9_row10_col1, #T_23db9_row10_col2, #T_23db9_row10_col3, #T_23db9_row10_col4, #T_23db9_row10_col5, #T_23db9_row10_col6 {\n",
       "  background: yellow;\n",
       "}\n",
       "</style>\n",
       "<table id=\"T_23db9\">\n",
       "  <thead>\n",
       "    <tr>\n",
       "      <th class=\"blank level0\" >&nbsp;</th>\n",
       "      <th id=\"T_23db9_level0_col0\" class=\"col_heading level0 col0\" >Accuracy</th>\n",
       "      <th id=\"T_23db9_level0_col1\" class=\"col_heading level0 col1\" >AUC</th>\n",
       "      <th id=\"T_23db9_level0_col2\" class=\"col_heading level0 col2\" >Recall</th>\n",
       "      <th id=\"T_23db9_level0_col3\" class=\"col_heading level0 col3\" >Prec.</th>\n",
       "      <th id=\"T_23db9_level0_col4\" class=\"col_heading level0 col4\" >F1</th>\n",
       "      <th id=\"T_23db9_level0_col5\" class=\"col_heading level0 col5\" >Kappa</th>\n",
       "      <th id=\"T_23db9_level0_col6\" class=\"col_heading level0 col6\" >MCC</th>\n",
       "    </tr>\n",
       "    <tr>\n",
       "      <th class=\"index_name level0\" >Fold</th>\n",
       "      <th class=\"blank col0\" >&nbsp;</th>\n",
       "      <th class=\"blank col1\" >&nbsp;</th>\n",
       "      <th class=\"blank col2\" >&nbsp;</th>\n",
       "      <th class=\"blank col3\" >&nbsp;</th>\n",
       "      <th class=\"blank col4\" >&nbsp;</th>\n",
       "      <th class=\"blank col5\" >&nbsp;</th>\n",
       "      <th class=\"blank col6\" >&nbsp;</th>\n",
       "    </tr>\n",
       "  </thead>\n",
       "  <tbody>\n",
       "    <tr>\n",
       "      <th id=\"T_23db9_level0_row0\" class=\"row_heading level0 row0\" >0</th>\n",
       "      <td id=\"T_23db9_row0_col0\" class=\"data row0 col0\" >0.8635</td>\n",
       "      <td id=\"T_23db9_row0_col1\" class=\"data row0 col1\" >0.9327</td>\n",
       "      <td id=\"T_23db9_row0_col2\" class=\"data row0 col2\" >0.9130</td>\n",
       "      <td id=\"T_23db9_row0_col3\" class=\"data row0 col3\" >0.8308</td>\n",
       "      <td id=\"T_23db9_row0_col4\" class=\"data row0 col4\" >0.8699</td>\n",
       "      <td id=\"T_23db9_row0_col5\" class=\"data row0 col5\" >0.7270</td>\n",
       "      <td id=\"T_23db9_row0_col6\" class=\"data row0 col6\" >0.7306</td>\n",
       "    </tr>\n",
       "    <tr>\n",
       "      <th id=\"T_23db9_level0_row1\" class=\"row_heading level0 row1\" >1</th>\n",
       "      <td id=\"T_23db9_row1_col0\" class=\"data row1 col0\" >0.8638</td>\n",
       "      <td id=\"T_23db9_row1_col1\" class=\"data row1 col1\" >0.9338</td>\n",
       "      <td id=\"T_23db9_row1_col2\" class=\"data row1 col2\" >0.9094</td>\n",
       "      <td id=\"T_23db9_row1_col3\" class=\"data row1 col3\" >0.8334</td>\n",
       "      <td id=\"T_23db9_row1_col4\" class=\"data row1 col4\" >0.8698</td>\n",
       "      <td id=\"T_23db9_row1_col5\" class=\"data row1 col5\" >0.7277</td>\n",
       "      <td id=\"T_23db9_row1_col6\" class=\"data row1 col6\" >0.7307</td>\n",
       "    </tr>\n",
       "    <tr>\n",
       "      <th id=\"T_23db9_level0_row2\" class=\"row_heading level0 row2\" >2</th>\n",
       "      <td id=\"T_23db9_row2_col0\" class=\"data row2 col0\" >0.8678</td>\n",
       "      <td id=\"T_23db9_row2_col1\" class=\"data row2 col1\" >0.9348</td>\n",
       "      <td id=\"T_23db9_row2_col2\" class=\"data row2 col2\" >0.9151</td>\n",
       "      <td id=\"T_23db9_row2_col3\" class=\"data row2 col3\" >0.8360</td>\n",
       "      <td id=\"T_23db9_row2_col4\" class=\"data row2 col4\" >0.8738</td>\n",
       "      <td id=\"T_23db9_row2_col5\" class=\"data row2 col5\" >0.7356</td>\n",
       "      <td id=\"T_23db9_row2_col6\" class=\"data row2 col6\" >0.7389</td>\n",
       "    </tr>\n",
       "    <tr>\n",
       "      <th id=\"T_23db9_level0_row3\" class=\"row_heading level0 row3\" >3</th>\n",
       "      <td id=\"T_23db9_row3_col0\" class=\"data row3 col0\" >0.8617</td>\n",
       "      <td id=\"T_23db9_row3_col1\" class=\"data row3 col1\" >0.9311</td>\n",
       "      <td id=\"T_23db9_row3_col2\" class=\"data row3 col2\" >0.9128</td>\n",
       "      <td id=\"T_23db9_row3_col3\" class=\"data row3 col3\" >0.8282</td>\n",
       "      <td id=\"T_23db9_row3_col4\" class=\"data row3 col4\" >0.8685</td>\n",
       "      <td id=\"T_23db9_row3_col5\" class=\"data row3 col5\" >0.7235</td>\n",
       "      <td id=\"T_23db9_row3_col6\" class=\"data row3 col6\" >0.7273</td>\n",
       "    </tr>\n",
       "    <tr>\n",
       "      <th id=\"T_23db9_level0_row4\" class=\"row_heading level0 row4\" >4</th>\n",
       "      <td id=\"T_23db9_row4_col0\" class=\"data row4 col0\" >0.8643</td>\n",
       "      <td id=\"T_23db9_row4_col1\" class=\"data row4 col1\" >0.9323</td>\n",
       "      <td id=\"T_23db9_row4_col2\" class=\"data row4 col2\" >0.9124</td>\n",
       "      <td id=\"T_23db9_row4_col3\" class=\"data row4 col3\" >0.8323</td>\n",
       "      <td id=\"T_23db9_row4_col4\" class=\"data row4 col4\" >0.8705</td>\n",
       "      <td id=\"T_23db9_row4_col5\" class=\"data row4 col5\" >0.7286</td>\n",
       "      <td id=\"T_23db9_row4_col6\" class=\"data row4 col6\" >0.7320</td>\n",
       "    </tr>\n",
       "    <tr>\n",
       "      <th id=\"T_23db9_level0_row5\" class=\"row_heading level0 row5\" >5</th>\n",
       "      <td id=\"T_23db9_row5_col0\" class=\"data row5 col0\" >0.8643</td>\n",
       "      <td id=\"T_23db9_row5_col1\" class=\"data row5 col1\" >0.9346</td>\n",
       "      <td id=\"T_23db9_row5_col2\" class=\"data row5 col2\" >0.9168</td>\n",
       "      <td id=\"T_23db9_row5_col3\" class=\"data row5 col3\" >0.8296</td>\n",
       "      <td id=\"T_23db9_row5_col4\" class=\"data row5 col4\" >0.8710</td>\n",
       "      <td id=\"T_23db9_row5_col5\" class=\"data row5 col5\" >0.7285</td>\n",
       "      <td id=\"T_23db9_row5_col6\" class=\"data row5 col6\" >0.7326</td>\n",
       "    </tr>\n",
       "    <tr>\n",
       "      <th id=\"T_23db9_level0_row6\" class=\"row_heading level0 row6\" >6</th>\n",
       "      <td id=\"T_23db9_row6_col0\" class=\"data row6 col0\" >0.8650</td>\n",
       "      <td id=\"T_23db9_row6_col1\" class=\"data row6 col1\" >0.9328</td>\n",
       "      <td id=\"T_23db9_row6_col2\" class=\"data row6 col2\" >0.9119</td>\n",
       "      <td id=\"T_23db9_row6_col3\" class=\"data row6 col3\" >0.8337</td>\n",
       "      <td id=\"T_23db9_row6_col4\" class=\"data row6 col4\" >0.8710</td>\n",
       "      <td id=\"T_23db9_row6_col5\" class=\"data row6 col5\" >0.7300</td>\n",
       "      <td id=\"T_23db9_row6_col6\" class=\"data row6 col6\" >0.7332</td>\n",
       "    </tr>\n",
       "    <tr>\n",
       "      <th id=\"T_23db9_level0_row7\" class=\"row_heading level0 row7\" >7</th>\n",
       "      <td id=\"T_23db9_row7_col0\" class=\"data row7 col0\" >0.8644</td>\n",
       "      <td id=\"T_23db9_row7_col1\" class=\"data row7 col1\" >0.9328</td>\n",
       "      <td id=\"T_23db9_row7_col2\" class=\"data row7 col2\" >0.9134</td>\n",
       "      <td id=\"T_23db9_row7_col3\" class=\"data row7 col3\" >0.8319</td>\n",
       "      <td id=\"T_23db9_row7_col4\" class=\"data row7 col4\" >0.8707</td>\n",
       "      <td id=\"T_23db9_row7_col5\" class=\"data row7 col5\" >0.7288</td>\n",
       "      <td id=\"T_23db9_row7_col6\" class=\"data row7 col6\" >0.7324</td>\n",
       "    </tr>\n",
       "    <tr>\n",
       "      <th id=\"T_23db9_level0_row8\" class=\"row_heading level0 row8\" >8</th>\n",
       "      <td id=\"T_23db9_row8_col0\" class=\"data row8 col0\" >0.8645</td>\n",
       "      <td id=\"T_23db9_row8_col1\" class=\"data row8 col1\" >0.9330</td>\n",
       "      <td id=\"T_23db9_row8_col2\" class=\"data row8 col2\" >0.9134</td>\n",
       "      <td id=\"T_23db9_row8_col3\" class=\"data row8 col3\" >0.8320</td>\n",
       "      <td id=\"T_23db9_row8_col4\" class=\"data row8 col4\" >0.8708</td>\n",
       "      <td id=\"T_23db9_row8_col5\" class=\"data row8 col5\" >0.7291</td>\n",
       "      <td id=\"T_23db9_row8_col6\" class=\"data row8 col6\" >0.7326</td>\n",
       "    </tr>\n",
       "    <tr>\n",
       "      <th id=\"T_23db9_level0_row9\" class=\"row_heading level0 row9\" >9</th>\n",
       "      <td id=\"T_23db9_row9_col0\" class=\"data row9 col0\" >0.8644</td>\n",
       "      <td id=\"T_23db9_row9_col1\" class=\"data row9 col1\" >0.9317</td>\n",
       "      <td id=\"T_23db9_row9_col2\" class=\"data row9 col2\" >0.9122</td>\n",
       "      <td id=\"T_23db9_row9_col3\" class=\"data row9 col3\" >0.8326</td>\n",
       "      <td id=\"T_23db9_row9_col4\" class=\"data row9 col4\" >0.8706</td>\n",
       "      <td id=\"T_23db9_row9_col5\" class=\"data row9 col5\" >0.7287</td>\n",
       "      <td id=\"T_23db9_row9_col6\" class=\"data row9 col6\" >0.7321</td>\n",
       "    </tr>\n",
       "    <tr>\n",
       "      <th id=\"T_23db9_level0_row10\" class=\"row_heading level0 row10\" >Mean</th>\n",
       "      <td id=\"T_23db9_row10_col0\" class=\"data row10 col0\" >0.8644</td>\n",
       "      <td id=\"T_23db9_row10_col1\" class=\"data row10 col1\" >0.9330</td>\n",
       "      <td id=\"T_23db9_row10_col2\" class=\"data row10 col2\" >0.9130</td>\n",
       "      <td id=\"T_23db9_row10_col3\" class=\"data row10 col3\" >0.8321</td>\n",
       "      <td id=\"T_23db9_row10_col4\" class=\"data row10 col4\" >0.8707</td>\n",
       "      <td id=\"T_23db9_row10_col5\" class=\"data row10 col5\" >0.7287</td>\n",
       "      <td id=\"T_23db9_row10_col6\" class=\"data row10 col6\" >0.7322</td>\n",
       "    </tr>\n",
       "    <tr>\n",
       "      <th id=\"T_23db9_level0_row11\" class=\"row_heading level0 row11\" >Std</th>\n",
       "      <td id=\"T_23db9_row11_col0\" class=\"data row11 col0\" >0.0014</td>\n",
       "      <td id=\"T_23db9_row11_col1\" class=\"data row11 col1\" >0.0011</td>\n",
       "      <td id=\"T_23db9_row11_col2\" class=\"data row11 col2\" >0.0019</td>\n",
       "      <td id=\"T_23db9_row11_col3\" class=\"data row11 col3\" >0.0021</td>\n",
       "      <td id=\"T_23db9_row11_col4\" class=\"data row11 col4\" >0.0013</td>\n",
       "      <td id=\"T_23db9_row11_col5\" class=\"data row11 col5\" >0.0028</td>\n",
       "      <td id=\"T_23db9_row11_col6\" class=\"data row11 col6\" >0.0028</td>\n",
       "    </tr>\n",
       "  </tbody>\n",
       "</table>\n"
      ],
      "text/plain": [
       "<pandas.io.formats.style.Styler at 0x7fdc70f198d0>"
      ]
     },
     "metadata": {},
     "output_type": "display_data"
    },
    {
     "data": {
      "text/html": [],
      "text/plain": [
       "<IPython.core.display.HTML object>"
      ]
     },
     "metadata": {},
     "output_type": "display_data"
    }
   ],
   "source": [
    "rf = create_model('rf')"
   ]
  },
  {
   "cell_type": "code",
   "execution_count": 32,
   "metadata": {},
   "outputs": [
    {
     "data": {
      "text/html": [],
      "text/plain": [
       "<IPython.core.display.HTML object>"
      ]
     },
     "metadata": {},
     "output_type": "display_data"
    },
    {
     "data": {
      "image/png": "[encoded data removed]",
      "text/plain": [
       "<Figure size 800x550 with 1 Axes>"
      ]
     },
     "metadata": {},
     "output_type": "display_data"
    }
   ],
   "source": [
    "plot_model(rf, plot = 'confusion_matrix')"
   ]
  },
  {
   "cell_type": "code",
   "execution_count": 33,
   "metadata": {},
   "outputs": [
    {
     "data": {
      "text/html": [],
      "text/plain": [
       "<IPython.core.display.HTML object>"
      ]
     },
     "metadata": {},
     "output_type": "display_data"
    },
    {
     "data": {
      "image/png": "[encoded data removed]",
      "text/plain": [
       "<Figure size 800x550 with 1 Axes>"
      ]
     },
     "metadata": {},
     "output_type": "display_data"
    }
   ],
   "source": [
    "plot_model(rf, plot = 'error')"
   ]
  },
  {
   "cell_type": "code",
   "execution_count": 34,
   "metadata": {},
   "outputs": [
    {
     "data": {
      "text/html": [],
      "text/plain": [
       "<IPython.core.display.HTML object>"
      ]
     },
     "metadata": {},
     "output_type": "display_data"
    },
    {
     "data": {
      "text/html": [
       "<div>\n",
       "<style scoped>\n",
       "    .dataframe tbody tr th:only-of-type {\n",
       "        vertical-align: middle;\n",
       "    }\n",
       "\n",
       "    .dataframe tbody tr th {\n",
       "        vertical-align: top;\n",
       "    }\n",
       "\n",
       "    .dataframe thead th {\n",
       "        text-align: right;\n",
       "    }\n",
       "</style>\n",
       "<table border=\"1\" class=\"dataframe\">\n",
       "  <thead>\n",
       "    <tr style=\"text-align: right;\">\n",
       "      <th></th>\n",
       "      <th>Parameters</th>\n",
       "    </tr>\n",
       "  </thead>\n",
       "  <tbody>\n",
       "    <tr>\n",
       "      <th>bootstrap</th>\n",
       "      <td>True</td>\n",
       "    </tr>\n",
       "    <tr>\n",
       "      <th>ccp_alpha</th>\n",
       "      <td>0.0</td>\n",
       "    </tr>\n",
       "    <tr>\n",
       "      <th>class_weight</th>\n",
       "      <td>None</td>\n",
       "    </tr>\n",
       "    <tr>\n",
       "      <th>criterion</th>\n",
       "      <td>gini</td>\n",
       "    </tr>\n",
       "    <tr>\n",
       "      <th>max_depth</th>\n",
       "      <td>None</td>\n",
       "    </tr>\n",
       "    <tr>\n",
       "      <th>max_features</th>\n",
       "      <td>sqrt</td>\n",
       "    </tr>\n",
       "    <tr>\n",
       "      <th>max_leaf_nodes</th>\n",
       "      <td>None</td>\n",
       "    </tr>\n",
       "    <tr>\n",
       "      <th>max_samples</th>\n",
       "      <td>None</td>\n",
       "    </tr>\n",
       "    <tr>\n",
       "      <th>min_impurity_decrease</th>\n",
       "      <td>0.0</td>\n",
       "    </tr>\n",
       "    <tr>\n",
       "      <th>min_samples_leaf</th>\n",
       "      <td>1</td>\n",
       "    </tr>\n",
       "    <tr>\n",
       "      <th>min_samples_split</th>\n",
       "      <td>2</td>\n",
       "    </tr>\n",
       "    <tr>\n",
       "      <th>min_weight_fraction_leaf</th>\n",
       "      <td>0.0</td>\n",
       "    </tr>\n",
       "    <tr>\n",
       "      <th>n_estimators</th>\n",
       "      <td>100</td>\n",
       "    </tr>\n",
       "    <tr>\n",
       "      <th>n_jobs</th>\n",
       "      <td>-1</td>\n",
       "    </tr>\n",
       "    <tr>\n",
       "      <th>oob_score</th>\n",
       "      <td>False</td>\n",
       "    </tr>\n",
       "    <tr>\n",
       "      <th>random_state</th>\n",
       "      <td>5136</td>\n",
       "    </tr>\n",
       "    <tr>\n",
       "      <th>verbose</th>\n",
       "      <td>0</td>\n",
       "    </tr>\n",
       "    <tr>\n",
       "      <th>warm_start</th>\n",
       "      <td>False</td>\n",
       "    </tr>\n",
       "  </tbody>\n",
       "</table>\n",
       "</div>"
      ],
      "text/plain": [
       "                         Parameters\n",
       "bootstrap                      True\n",
       "ccp_alpha                       0.0\n",
       "class_weight                   None\n",
       "criterion                      gini\n",
       "max_depth                      None\n",
       "max_features                   sqrt\n",
       "max_leaf_nodes                 None\n",
       "max_samples                    None\n",
       "min_impurity_decrease           0.0\n",
       "min_samples_leaf                  1\n",
       "min_samples_split                 2\n",
       "min_weight_fraction_leaf        0.0\n",
       "n_estimators                    100\n",
       "n_jobs                           -1\n",
       "oob_score                     False\n",
       "random_state                   5136\n",
       "verbose                           0\n",
       "warm_start                    False"
      ]
     },
     "metadata": {},
     "output_type": "display_data"
    }
   ],
   "source": [
    "plot_model(rf, plot = 'parameter')"
   ]
  },
  {
   "cell_type": "code",
   "execution_count": 35,
   "metadata": {},
   "outputs": [
    {
     "name": "stdout",
     "output_type": "stream",
     "text": [
      "Transformation Pipeline and Model Successfully Saved\n"
     ]
    },
    {
     "data": {
      "text/plain": [
       "(Pipeline(memory=FastMemory(location=/tmp/joblib),\n",
       "          steps=[('numerical_imputer',\n",
       "                  TransformerWrapper(exclude=None,\n",
       "                                     include=['0', '1', '2', '3', '4', '5', '6',\n",
       "                                              '7', '8', '9', '10', '11', '12',\n",
       "                                              '13', '14', '15', '16', '17', '18',\n",
       "                                              '19', '20', '21', '22', '23', '24',\n",
       "                                              '25', '26', '27', '28', '29', ...],\n",
       "                                     transformer=SimpleImputer(add_indicator=False,\n",
       "                                                               copy=True,\n",
       "                                                               fill_value=None,\n",
       "                                                               keep_empty_feat...\n",
       "                  RandomForestClassifier(bootstrap=True, ccp_alpha=0.0,\n",
       "                                         class_weight=None, criterion='gini',\n",
       "                                         max_depth=None, max_features='sqrt',\n",
       "                                         max_leaf_nodes=None, max_samples=None,\n",
       "                                         min_impurity_decrease=0.0,\n",
       "                                         min_samples_leaf=1, min_samples_split=2,\n",
       "                                         min_weight_fraction_leaf=0.0,\n",
       "                                         n_estimators=100, n_jobs=-1,\n",
       "                                         oob_score=False, random_state=5136,\n",
       "                                         verbose=0, warm_start=False))],\n",
       "          verbose=False),\n",
       " 'models_classif/convkb/binary_emb_val/rf.pkl')"
      ]
     },
     "execution_count": 35,
     "metadata": {},
     "output_type": "execute_result"
    }
   ],
   "source": [
    "save_model(rf, 'models_classif/convkb/binary_emb_val/rf')"
   ]
  },
  {
   "cell_type": "markdown",
   "metadata": {},
   "source": [
    "# Quadratic Discriminant Analysis"
   ]
  },
  {
   "cell_type": "code",
   "execution_count": 36,
   "metadata": {},
   "outputs": [
    {
     "data": {
      "text/html": [],
      "text/plain": [
       "<IPython.core.display.HTML object>"
      ]
     },
     "metadata": {},
     "output_type": "display_data"
    },
    {
     "data": {
      "text/html": [
       "<style type=\"text/css\">\n",
       "#T_e24d2_row10_col0, #T_e24d2_row10_col1, #T_e24d2_row10_col2, #T_e24d2_row10_col3, #T_e24d2_row10_col4, #T_e24d2_row10_col5, #T_e24d2_row10_col6 {\n",
       "  background: yellow;\n",
       "}\n",
       "</style>\n",
       "<table id=\"T_e24d2\">\n",
       "  <thead>\n",
       "    <tr>\n",
       "      <th class=\"blank level0\" >&nbsp;</th>\n",
       "      <th id=\"T_e24d2_level0_col0\" class=\"col_heading level0 col0\" >Accuracy</th>\n",
       "      <th id=\"T_e24d2_level0_col1\" class=\"col_heading level0 col1\" >AUC</th>\n",
       "      <th id=\"T_e24d2_level0_col2\" class=\"col_heading level0 col2\" >Recall</th>\n",
       "      <th id=\"T_e24d2_level0_col3\" class=\"col_heading level0 col3\" >Prec.</th>\n",
       "      <th id=\"T_e24d2_level0_col4\" class=\"col_heading level0 col4\" >F1</th>\n",
       "      <th id=\"T_e24d2_level0_col5\" class=\"col_heading level0 col5\" >Kappa</th>\n",
       "      <th id=\"T_e24d2_level0_col6\" class=\"col_heading level0 col6\" >MCC</th>\n",
       "    </tr>\n",
       "    <tr>\n",
       "      <th class=\"index_name level0\" >Fold</th>\n",
       "      <th class=\"blank col0\" >&nbsp;</th>\n",
       "      <th class=\"blank col1\" >&nbsp;</th>\n",
       "      <th class=\"blank col2\" >&nbsp;</th>\n",
       "      <th class=\"blank col3\" >&nbsp;</th>\n",
       "      <th class=\"blank col4\" >&nbsp;</th>\n",
       "      <th class=\"blank col5\" >&nbsp;</th>\n",
       "      <th class=\"blank col6\" >&nbsp;</th>\n",
       "    </tr>\n",
       "  </thead>\n",
       "  <tbody>\n",
       "    <tr>\n",
       "      <th id=\"T_e24d2_level0_row0\" class=\"row_heading level0 row0\" >0</th>\n",
       "      <td id=\"T_e24d2_row0_col0\" class=\"data row0 col0\" >0.6240</td>\n",
       "      <td id=\"T_e24d2_row0_col1\" class=\"data row0 col1\" >0.7000</td>\n",
       "      <td id=\"T_e24d2_row0_col2\" class=\"data row0 col2\" >0.5485</td>\n",
       "      <td id=\"T_e24d2_row0_col3\" class=\"data row0 col3\" >0.6461</td>\n",
       "      <td id=\"T_e24d2_row0_col4\" class=\"data row0 col4\" >0.5933</td>\n",
       "      <td id=\"T_e24d2_row0_col5\" class=\"data row0 col5\" >0.2480</td>\n",
       "      <td id=\"T_e24d2_row0_col6\" class=\"data row0 col6\" >0.2509</td>\n",
       "    </tr>\n",
       "    <tr>\n",
       "      <th id=\"T_e24d2_level0_row1\" class=\"row_heading level0 row1\" >1</th>\n",
       "      <td id=\"T_e24d2_row1_col0\" class=\"data row1 col0\" >0.6295</td>\n",
       "      <td id=\"T_e24d2_row1_col1\" class=\"data row1 col1\" >0.7049</td>\n",
       "      <td id=\"T_e24d2_row1_col2\" class=\"data row1 col2\" >0.5625</td>\n",
       "      <td id=\"T_e24d2_row1_col3\" class=\"data row1 col3\" >0.6495</td>\n",
       "      <td id=\"T_e24d2_row1_col4\" class=\"data row1 col4\" >0.6029</td>\n",
       "      <td id=\"T_e24d2_row1_col5\" class=\"data row1 col5\" >0.2589</td>\n",
       "      <td id=\"T_e24d2_row1_col6\" class=\"data row1 col6\" >0.2613</td>\n",
       "    </tr>\n",
       "    <tr>\n",
       "      <th id=\"T_e24d2_level0_row2\" class=\"row_heading level0 row2\" >2</th>\n",
       "      <td id=\"T_e24d2_row2_col0\" class=\"data row2 col0\" >0.6327</td>\n",
       "      <td id=\"T_e24d2_row2_col1\" class=\"data row2 col1\" >0.7060</td>\n",
       "      <td id=\"T_e24d2_row2_col2\" class=\"data row2 col2\" >0.5588</td>\n",
       "      <td id=\"T_e24d2_row2_col3\" class=\"data row2 col3\" >0.6557</td>\n",
       "      <td id=\"T_e24d2_row2_col4\" class=\"data row2 col4\" >0.6034</td>\n",
       "      <td id=\"T_e24d2_row2_col5\" class=\"data row2 col5\" >0.2654</td>\n",
       "      <td id=\"T_e24d2_row2_col6\" class=\"data row2 col6\" >0.2683</td>\n",
       "    </tr>\n",
       "    <tr>\n",
       "      <th id=\"T_e24d2_level0_row3\" class=\"row_heading level0 row3\" >3</th>\n",
       "      <td id=\"T_e24d2_row3_col0\" class=\"data row3 col0\" >0.6293</td>\n",
       "      <td id=\"T_e24d2_row3_col1\" class=\"data row3 col1\" >0.7017</td>\n",
       "      <td id=\"T_e24d2_row3_col2\" class=\"data row3 col2\" >0.5504</td>\n",
       "      <td id=\"T_e24d2_row3_col3\" class=\"data row3 col3\" >0.6536</td>\n",
       "      <td id=\"T_e24d2_row3_col4\" class=\"data row3 col4\" >0.5975</td>\n",
       "      <td id=\"T_e24d2_row3_col5\" class=\"data row3 col5\" >0.2586</td>\n",
       "      <td id=\"T_e24d2_row3_col6\" class=\"data row3 col6\" >0.2619</td>\n",
       "    </tr>\n",
       "    <tr>\n",
       "      <th id=\"T_e24d2_level0_row4\" class=\"row_heading level0 row4\" >4</th>\n",
       "      <td id=\"T_e24d2_row4_col0\" class=\"data row4 col0\" >0.6298</td>\n",
       "      <td id=\"T_e24d2_row4_col1\" class=\"data row4 col1\" >0.7062</td>\n",
       "      <td id=\"T_e24d2_row4_col2\" class=\"data row4 col2\" >0.5500</td>\n",
       "      <td id=\"T_e24d2_row4_col3\" class=\"data row4 col3\" >0.6544</td>\n",
       "      <td id=\"T_e24d2_row4_col4\" class=\"data row4 col4\" >0.5977</td>\n",
       "      <td id=\"T_e24d2_row4_col5\" class=\"data row4 col5\" >0.2595</td>\n",
       "      <td id=\"T_e24d2_row4_col6\" class=\"data row4 col6\" >0.2629</td>\n",
       "    </tr>\n",
       "    <tr>\n",
       "      <th id=\"T_e24d2_level0_row5\" class=\"row_heading level0 row5\" >5</th>\n",
       "      <td id=\"T_e24d2_row5_col0\" class=\"data row5 col0\" >0.6309</td>\n",
       "      <td id=\"T_e24d2_row5_col1\" class=\"data row5 col1\" >0.7044</td>\n",
       "      <td id=\"T_e24d2_row5_col2\" class=\"data row5 col2\" >0.5536</td>\n",
       "      <td id=\"T_e24d2_row5_col3\" class=\"data row5 col3\" >0.6548</td>\n",
       "      <td id=\"T_e24d2_row5_col4\" class=\"data row5 col4\" >0.6000</td>\n",
       "      <td id=\"T_e24d2_row5_col5\" class=\"data row5 col5\" >0.2618</td>\n",
       "      <td id=\"T_e24d2_row5_col6\" class=\"data row5 col6\" >0.2650</td>\n",
       "    </tr>\n",
       "    <tr>\n",
       "      <th id=\"T_e24d2_level0_row6\" class=\"row_heading level0 row6\" >6</th>\n",
       "      <td id=\"T_e24d2_row6_col0\" class=\"data row6 col0\" >0.6292</td>\n",
       "      <td id=\"T_e24d2_row6_col1\" class=\"data row6 col1\" >0.7034</td>\n",
       "      <td id=\"T_e24d2_row6_col2\" class=\"data row6 col2\" >0.5613</td>\n",
       "      <td id=\"T_e24d2_row6_col3\" class=\"data row6 col3\" >0.6495</td>\n",
       "      <td id=\"T_e24d2_row6_col4\" class=\"data row6 col4\" >0.6022</td>\n",
       "      <td id=\"T_e24d2_row6_col5\" class=\"data row6 col5\" >0.2584</td>\n",
       "      <td id=\"T_e24d2_row6_col6\" class=\"data row6 col6\" >0.2608</td>\n",
       "    </tr>\n",
       "    <tr>\n",
       "      <th id=\"T_e24d2_level0_row7\" class=\"row_heading level0 row7\" >7</th>\n",
       "      <td id=\"T_e24d2_row7_col0\" class=\"data row7 col0\" >0.6305</td>\n",
       "      <td id=\"T_e24d2_row7_col1\" class=\"data row7 col1\" >0.7072</td>\n",
       "      <td id=\"T_e24d2_row7_col2\" class=\"data row7 col2\" >0.5644</td>\n",
       "      <td id=\"T_e24d2_row7_col3\" class=\"data row7 col3\" >0.6504</td>\n",
       "      <td id=\"T_e24d2_row7_col4\" class=\"data row7 col4\" >0.6044</td>\n",
       "      <td id=\"T_e24d2_row7_col5\" class=\"data row7 col5\" >0.2610</td>\n",
       "      <td id=\"T_e24d2_row7_col6\" class=\"data row7 col6\" >0.2633</td>\n",
       "    </tr>\n",
       "    <tr>\n",
       "      <th id=\"T_e24d2_level0_row8\" class=\"row_heading level0 row8\" >8</th>\n",
       "      <td id=\"T_e24d2_row8_col0\" class=\"data row8 col0\" >0.6278</td>\n",
       "      <td id=\"T_e24d2_row8_col1\" class=\"data row8 col1\" >0.7024</td>\n",
       "      <td id=\"T_e24d2_row8_col2\" class=\"data row8 col2\" >0.5573</td>\n",
       "      <td id=\"T_e24d2_row8_col3\" class=\"data row8 col3\" >0.6489</td>\n",
       "      <td id=\"T_e24d2_row8_col4\" class=\"data row8 col4\" >0.5996</td>\n",
       "      <td id=\"T_e24d2_row8_col5\" class=\"data row8 col5\" >0.2557</td>\n",
       "      <td id=\"T_e24d2_row8_col6\" class=\"data row8 col6\" >0.2583</td>\n",
       "    </tr>\n",
       "    <tr>\n",
       "      <th id=\"T_e24d2_level0_row9\" class=\"row_heading level0 row9\" >9</th>\n",
       "      <td id=\"T_e24d2_row9_col0\" class=\"data row9 col0\" >0.6235</td>\n",
       "      <td id=\"T_e24d2_row9_col1\" class=\"data row9 col1\" >0.7000</td>\n",
       "      <td id=\"T_e24d2_row9_col2\" class=\"data row9 col2\" >0.5454</td>\n",
       "      <td id=\"T_e24d2_row9_col3\" class=\"data row9 col3\" >0.6464</td>\n",
       "      <td id=\"T_e24d2_row9_col4\" class=\"data row9 col4\" >0.5916</td>\n",
       "      <td id=\"T_e24d2_row9_col5\" class=\"data row9 col5\" >0.2470</td>\n",
       "      <td id=\"T_e24d2_row9_col6\" class=\"data row9 col6\" >0.2501</td>\n",
       "    </tr>\n",
       "    <tr>\n",
       "      <th id=\"T_e24d2_level0_row10\" class=\"row_heading level0 row10\" >Mean</th>\n",
       "      <td id=\"T_e24d2_row10_col0\" class=\"data row10 col0\" >0.6287</td>\n",
       "      <td id=\"T_e24d2_row10_col1\" class=\"data row10 col1\" >0.7036</td>\n",
       "      <td id=\"T_e24d2_row10_col2\" class=\"data row10 col2\" >0.5552</td>\n",
       "      <td id=\"T_e24d2_row10_col3\" class=\"data row10 col3\" >0.6509</td>\n",
       "      <td id=\"T_e24d2_row10_col4\" class=\"data row10 col4\" >0.5992</td>\n",
       "      <td id=\"T_e24d2_row10_col5\" class=\"data row10 col5\" >0.2574</td>\n",
       "      <td id=\"T_e24d2_row10_col6\" class=\"data row10 col6\" >0.2603</td>\n",
       "    </tr>\n",
       "    <tr>\n",
       "      <th id=\"T_e24d2_level0_row11\" class=\"row_heading level0 row11\" >Std</th>\n",
       "      <td id=\"T_e24d2_row11_col0\" class=\"data row11 col0\" >0.0028</td>\n",
       "      <td id=\"T_e24d2_row11_col1\" class=\"data row11 col1\" >0.0024</td>\n",
       "      <td id=\"T_e24d2_row11_col2\" class=\"data row11 col2\" >0.0062</td>\n",
       "      <td id=\"T_e24d2_row11_col3\" class=\"data row11 col3\" >0.0033</td>\n",
       "      <td id=\"T_e24d2_row11_col4\" class=\"data row11 col4\" >0.0041</td>\n",
       "      <td id=\"T_e24d2_row11_col5\" class=\"data row11 col5\" >0.0055</td>\n",
       "      <td id=\"T_e24d2_row11_col6\" class=\"data row11 col6\" >0.0055</td>\n",
       "    </tr>\n",
       "  </tbody>\n",
       "</table>\n"
      ],
      "text/plain": [
       "<pandas.io.formats.style.Styler at 0x7fdd8d20b370>"
      ]
     },
     "metadata": {},
     "output_type": "display_data"
    },
    {
     "data": {
      "text/html": [],
      "text/plain": [
       "<IPython.core.display.HTML object>"
      ]
     },
     "metadata": {},
     "output_type": "display_data"
    }
   ],
   "source": [
    "qda = create_model('qda')"
   ]
  },
  {
   "cell_type": "code",
   "execution_count": 37,
   "metadata": {},
   "outputs": [
    {
     "data": {
      "text/html": [],
      "text/plain": [
       "<IPython.core.display.HTML object>"
      ]
     },
     "metadata": {},
     "output_type": "display_data"
    },
    {
     "data": {
      "image/png": "[encoded data removed]",
      "text/plain": [
       "<Figure size 800x550 with 1 Axes>"
      ]
     },
     "metadata": {},
     "output_type": "display_data"
    }
   ],
   "source": [
    "plot_model(qda, plot = 'confusion_matrix')"
   ]
  },
  {
   "cell_type": "code",
   "execution_count": 38,
   "metadata": {},
   "outputs": [
    {
     "data": {
      "text/html": [],
      "text/plain": [
       "<IPython.core.display.HTML object>"
      ]
     },
     "metadata": {},
     "output_type": "display_data"
    },
    {
     "data": {
      "image/png": "[encoded data removed]",
      "text/plain": [
       "<Figure size 800x550 with 1 Axes>"
      ]
     },
     "metadata": {},
     "output_type": "display_data"
    }
   ],
   "source": [
    "plot_model(qda, plot = 'error')"
   ]
  },
  {
   "cell_type": "code",
   "execution_count": 39,
   "metadata": {},
   "outputs": [
    {
     "data": {
      "text/html": [],
      "text/plain": [
       "<IPython.core.display.HTML object>"
      ]
     },
     "metadata": {},
     "output_type": "display_data"
    },
    {
     "data": {
      "text/html": [
       "<div>\n",
       "<style scoped>\n",
       "    .dataframe tbody tr th:only-of-type {\n",
       "        vertical-align: middle;\n",
       "    }\n",
       "\n",
       "    .dataframe tbody tr th {\n",
       "        vertical-align: top;\n",
       "    }\n",
       "\n",
       "    .dataframe thead th {\n",
       "        text-align: right;\n",
       "    }\n",
       "</style>\n",
       "<table border=\"1\" class=\"dataframe\">\n",
       "  <thead>\n",
       "    <tr style=\"text-align: right;\">\n",
       "      <th></th>\n",
       "      <th>Parameters</th>\n",
       "    </tr>\n",
       "  </thead>\n",
       "  <tbody>\n",
       "    <tr>\n",
       "      <th>priors</th>\n",
       "      <td>None</td>\n",
       "    </tr>\n",
       "    <tr>\n",
       "      <th>reg_param</th>\n",
       "      <td>0.0</td>\n",
       "    </tr>\n",
       "    <tr>\n",
       "      <th>store_covariance</th>\n",
       "      <td>False</td>\n",
       "    </tr>\n",
       "    <tr>\n",
       "      <th>tol</th>\n",
       "      <td>0.0001</td>\n",
       "    </tr>\n",
       "  </tbody>\n",
       "</table>\n",
       "</div>"
      ],
      "text/plain": [
       "                 Parameters\n",
       "priors                 None\n",
       "reg_param               0.0\n",
       "store_covariance      False\n",
       "tol                  0.0001"
      ]
     },
     "metadata": {},
     "output_type": "display_data"
    }
   ],
   "source": [
    "plot_model(qda, plot = 'parameter')"
   ]
  },
  {
   "cell_type": "code",
   "execution_count": 40,
   "metadata": {},
   "outputs": [
    {
     "name": "stdout",
     "output_type": "stream",
     "text": [
      "Transformation Pipeline and Model Successfully Saved\n"
     ]
    },
    {
     "data": {
      "text/plain": [
       "(Pipeline(memory=FastMemory(location=/tmp/joblib),\n",
       "          steps=[('numerical_imputer',\n",
       "                  TransformerWrapper(exclude=None,\n",
       "                                     include=['0', '1', '2', '3', '4', '5', '6',\n",
       "                                              '7', '8', '9', '10', '11', '12',\n",
       "                                              '13', '14', '15', '16', '17', '18',\n",
       "                                              '19', '20', '21', '22', '23', '24',\n",
       "                                              '25', '26', '27', '28', '29', ...],\n",
       "                                     transformer=SimpleImputer(add_indicator=False,\n",
       "                                                               copy=True,\n",
       "                                                               fill_value=None,\n",
       "                                                               keep_empty_feat...\n",
       "                 ('categorical_imputer',\n",
       "                  TransformerWrapper(exclude=None, include=[],\n",
       "                                     transformer=SimpleImputer(add_indicator=False,\n",
       "                                                               copy=True,\n",
       "                                                               fill_value=None,\n",
       "                                                               keep_empty_features=False,\n",
       "                                                               missing_values=nan,\n",
       "                                                               strategy='most_frequent',\n",
       "                                                               verbose='deprecated'))),\n",
       "                 ('trained_model',\n",
       "                  QuadraticDiscriminantAnalysis(priors=None, reg_param=0.0,\n",
       "                                                store_covariance=False,\n",
       "                                                tol=0.0001))],\n",
       "          verbose=False),\n",
       " 'models_classif/convkb/binary_emb_val/qda.pkl')"
      ]
     },
     "execution_count": 40,
     "metadata": {},
     "output_type": "execute_result"
    }
   ],
   "source": [
    "save_model(qda, 'models_classif/convkb/binary_emb_val/qda')"
   ]
  },
  {
   "cell_type": "markdown",
   "metadata": {},
   "source": [
    "# Linear Discriminant Analysis"
   ]
  },
  {
   "cell_type": "code",
   "execution_count": 41,
   "metadata": {},
   "outputs": [
    {
     "data": {
      "text/html": [],
      "text/plain": [
       "<IPython.core.display.HTML object>"
      ]
     },
     "metadata": {},
     "output_type": "display_data"
    },
    {
     "data": {
      "text/html": [
       "<style type=\"text/css\">\n",
       "#T_6c366_row10_col0, #T_6c366_row10_col1, #T_6c366_row10_col2, #T_6c366_row10_col3, #T_6c366_row10_col4, #T_6c366_row10_col5, #T_6c366_row10_col6 {\n",
       "  background: yellow;\n",
       "}\n",
       "</style>\n",
       "<table id=\"T_6c366\">\n",
       "  <thead>\n",
       "    <tr>\n",
       "      <th class=\"blank level0\" >&nbsp;</th>\n",
       "      <th id=\"T_6c366_level0_col0\" class=\"col_heading level0 col0\" >Accuracy</th>\n",
       "      <th id=\"T_6c366_level0_col1\" class=\"col_heading level0 col1\" >AUC</th>\n",
       "      <th id=\"T_6c366_level0_col2\" class=\"col_heading level0 col2\" >Recall</th>\n",
       "      <th id=\"T_6c366_level0_col3\" class=\"col_heading level0 col3\" >Prec.</th>\n",
       "      <th id=\"T_6c366_level0_col4\" class=\"col_heading level0 col4\" >F1</th>\n",
       "      <th id=\"T_6c366_level0_col5\" class=\"col_heading level0 col5\" >Kappa</th>\n",
       "      <th id=\"T_6c366_level0_col6\" class=\"col_heading level0 col6\" >MCC</th>\n",
       "    </tr>\n",
       "    <tr>\n",
       "      <th class=\"index_name level0\" >Fold</th>\n",
       "      <th class=\"blank col0\" >&nbsp;</th>\n",
       "      <th class=\"blank col1\" >&nbsp;</th>\n",
       "      <th class=\"blank col2\" >&nbsp;</th>\n",
       "      <th class=\"blank col3\" >&nbsp;</th>\n",
       "      <th class=\"blank col4\" >&nbsp;</th>\n",
       "      <th class=\"blank col5\" >&nbsp;</th>\n",
       "      <th class=\"blank col6\" >&nbsp;</th>\n",
       "    </tr>\n",
       "  </thead>\n",
       "  <tbody>\n",
       "    <tr>\n",
       "      <th id=\"T_6c366_level0_row0\" class=\"row_heading level0 row0\" >0</th>\n",
       "      <td id=\"T_6c366_row0_col0\" class=\"data row0 col0\" >0.7035</td>\n",
       "      <td id=\"T_6c366_row0_col1\" class=\"data row0 col1\" >0.7870</td>\n",
       "      <td id=\"T_6c366_row0_col2\" class=\"data row0 col2\" >0.8086</td>\n",
       "      <td id=\"T_6c366_row0_col3\" class=\"data row0 col3\" >0.6682</td>\n",
       "      <td id=\"T_6c366_row0_col4\" class=\"data row0 col4\" >0.7317</td>\n",
       "      <td id=\"T_6c366_row0_col5\" class=\"data row0 col5\" >0.4071</td>\n",
       "      <td id=\"T_6c366_row0_col6\" class=\"data row0 col6\" >0.4164</td>\n",
       "    </tr>\n",
       "    <tr>\n",
       "      <th id=\"T_6c366_level0_row1\" class=\"row_heading level0 row1\" >1</th>\n",
       "      <td id=\"T_6c366_row1_col0\" class=\"data row1 col0\" >0.7101</td>\n",
       "      <td id=\"T_6c366_row1_col1\" class=\"data row1 col1\" >0.7915</td>\n",
       "      <td id=\"T_6c366_row1_col2\" class=\"data row1 col2\" >0.8071</td>\n",
       "      <td id=\"T_6c366_row1_col3\" class=\"data row1 col3\" >0.6759</td>\n",
       "      <td id=\"T_6c366_row1_col4\" class=\"data row1 col4\" >0.7357</td>\n",
       "      <td id=\"T_6c366_row1_col5\" class=\"data row1 col5\" >0.4201</td>\n",
       "      <td id=\"T_6c366_row1_col6\" class=\"data row1 col6\" >0.4283</td>\n",
       "    </tr>\n",
       "    <tr>\n",
       "      <th id=\"T_6c366_level0_row2\" class=\"row_heading level0 row2\" >2</th>\n",
       "      <td id=\"T_6c366_row2_col0\" class=\"data row2 col0\" >0.7125</td>\n",
       "      <td id=\"T_6c366_row2_col1\" class=\"data row2 col1\" >0.7919</td>\n",
       "      <td id=\"T_6c366_row2_col2\" class=\"data row2 col2\" >0.8088</td>\n",
       "      <td id=\"T_6c366_row2_col3\" class=\"data row2 col3\" >0.6782</td>\n",
       "      <td id=\"T_6c366_row2_col4\" class=\"data row2 col4\" >0.7378</td>\n",
       "      <td id=\"T_6c366_row2_col5\" class=\"data row2 col5\" >0.4251</td>\n",
       "      <td id=\"T_6c366_row2_col6\" class=\"data row2 col6\" >0.4332</td>\n",
       "    </tr>\n",
       "    <tr>\n",
       "      <th id=\"T_6c366_level0_row3\" class=\"row_heading level0 row3\" >3</th>\n",
       "      <td id=\"T_6c366_row3_col0\" class=\"data row3 col0\" >0.7067</td>\n",
       "      <td id=\"T_6c366_row3_col1\" class=\"data row3 col1\" >0.7873</td>\n",
       "      <td id=\"T_6c366_row3_col2\" class=\"data row3 col2\" >0.8079</td>\n",
       "      <td id=\"T_6c366_row3_col3\" class=\"data row3 col3\" >0.6718</td>\n",
       "      <td id=\"T_6c366_row3_col4\" class=\"data row3 col4\" >0.7336</td>\n",
       "      <td id=\"T_6c366_row3_col5\" class=\"data row3 col5\" >0.4133</td>\n",
       "      <td id=\"T_6c366_row3_col6\" class=\"data row3 col6\" >0.4221</td>\n",
       "    </tr>\n",
       "    <tr>\n",
       "      <th id=\"T_6c366_level0_row4\" class=\"row_heading level0 row4\" >4</th>\n",
       "      <td id=\"T_6c366_row4_col0\" class=\"data row4 col0\" >0.7079</td>\n",
       "      <td id=\"T_6c366_row4_col1\" class=\"data row4 col1\" >0.7901</td>\n",
       "      <td id=\"T_6c366_row4_col2\" class=\"data row4 col2\" >0.8077</td>\n",
       "      <td id=\"T_6c366_row4_col3\" class=\"data row4 col3\" >0.6732</td>\n",
       "      <td id=\"T_6c366_row4_col4\" class=\"data row4 col4\" >0.7344</td>\n",
       "      <td id=\"T_6c366_row4_col5\" class=\"data row4 col5\" >0.4157</td>\n",
       "      <td id=\"T_6c366_row4_col6\" class=\"data row4 col6\" >0.4243</td>\n",
       "    </tr>\n",
       "    <tr>\n",
       "      <th id=\"T_6c366_level0_row5\" class=\"row_heading level0 row5\" >5</th>\n",
       "      <td id=\"T_6c366_row5_col0\" class=\"data row5 col0\" >0.7025</td>\n",
       "      <td id=\"T_6c366_row5_col1\" class=\"data row5 col1\" >0.7853</td>\n",
       "      <td id=\"T_6c366_row5_col2\" class=\"data row5 col2\" >0.8038</td>\n",
       "      <td id=\"T_6c366_row5_col3\" class=\"data row5 col3\" >0.6684</td>\n",
       "      <td id=\"T_6c366_row5_col4\" class=\"data row5 col4\" >0.7299</td>\n",
       "      <td id=\"T_6c366_row5_col5\" class=\"data row5 col5\" >0.4051</td>\n",
       "      <td id=\"T_6c366_row5_col6\" class=\"data row5 col6\" >0.4137</td>\n",
       "    </tr>\n",
       "    <tr>\n",
       "      <th id=\"T_6c366_level0_row6\" class=\"row_heading level0 row6\" >6</th>\n",
       "      <td id=\"T_6c366_row6_col0\" class=\"data row6 col0\" >0.7086</td>\n",
       "      <td id=\"T_6c366_row6_col1\" class=\"data row6 col1\" >0.7911</td>\n",
       "      <td id=\"T_6c366_row6_col2\" class=\"data row6 col2\" >0.8105</td>\n",
       "      <td id=\"T_6c366_row6_col3\" class=\"data row6 col3\" >0.6733</td>\n",
       "      <td id=\"T_6c366_row6_col4\" class=\"data row6 col4\" >0.7356</td>\n",
       "      <td id=\"T_6c366_row6_col5\" class=\"data row6 col5\" >0.4172</td>\n",
       "      <td id=\"T_6c366_row6_col6\" class=\"data row6 col6\" >0.4261</td>\n",
       "    </tr>\n",
       "    <tr>\n",
       "      <th id=\"T_6c366_level0_row7\" class=\"row_heading level0 row7\" >7</th>\n",
       "      <td id=\"T_6c366_row7_col0\" class=\"data row7 col0\" >0.7085</td>\n",
       "      <td id=\"T_6c366_row7_col1\" class=\"data row7 col1\" >0.7885</td>\n",
       "      <td id=\"T_6c366_row7_col2\" class=\"data row7 col2\" >0.8064</td>\n",
       "      <td id=\"T_6c366_row7_col3\" class=\"data row7 col3\" >0.6744</td>\n",
       "      <td id=\"T_6c366_row7_col4\" class=\"data row7 col4\" >0.7345</td>\n",
       "      <td id=\"T_6c366_row7_col5\" class=\"data row7 col5\" >0.4170</td>\n",
       "      <td id=\"T_6c366_row7_col6\" class=\"data row7 col6\" >0.4253</td>\n",
       "    </tr>\n",
       "    <tr>\n",
       "      <th id=\"T_6c366_level0_row8\" class=\"row_heading level0 row8\" >8</th>\n",
       "      <td id=\"T_6c366_row8_col0\" class=\"data row8 col0\" >0.7046</td>\n",
       "      <td id=\"T_6c366_row8_col1\" class=\"data row8 col1\" >0.7886</td>\n",
       "      <td id=\"T_6c366_row8_col2\" class=\"data row8 col2\" >0.8014</td>\n",
       "      <td id=\"T_6c366_row8_col3\" class=\"data row8 col3\" >0.6714</td>\n",
       "      <td id=\"T_6c366_row8_col4\" class=\"data row8 col4\" >0.7307</td>\n",
       "      <td id=\"T_6c366_row8_col5\" class=\"data row8 col5\" >0.4091</td>\n",
       "      <td id=\"T_6c366_row8_col6\" class=\"data row8 col6\" >0.4170</td>\n",
       "    </tr>\n",
       "    <tr>\n",
       "      <th id=\"T_6c366_level0_row9\" class=\"row_heading level0 row9\" >9</th>\n",
       "      <td id=\"T_6c366_row9_col0\" class=\"data row9 col0\" >0.7111</td>\n",
       "      <td id=\"T_6c366_row9_col1\" class=\"data row9 col1\" >0.7893</td>\n",
       "      <td id=\"T_6c366_row9_col2\" class=\"data row9 col2\" >0.8055</td>\n",
       "      <td id=\"T_6c366_row9_col3\" class=\"data row9 col3\" >0.6776</td>\n",
       "      <td id=\"T_6c366_row9_col4\" class=\"data row9 col4\" >0.7360</td>\n",
       "      <td id=\"T_6c366_row9_col5\" class=\"data row9 col5\" >0.4221</td>\n",
       "      <td id=\"T_6c366_row9_col6\" class=\"data row9 col6\" >0.4299</td>\n",
       "    </tr>\n",
       "    <tr>\n",
       "      <th id=\"T_6c366_level0_row10\" class=\"row_heading level0 row10\" >Mean</th>\n",
       "      <td id=\"T_6c366_row10_col0\" class=\"data row10 col0\" >0.7076</td>\n",
       "      <td id=\"T_6c366_row10_col1\" class=\"data row10 col1\" >0.7891</td>\n",
       "      <td id=\"T_6c366_row10_col2\" class=\"data row10 col2\" >0.8068</td>\n",
       "      <td id=\"T_6c366_row10_col3\" class=\"data row10 col3\" >0.6732</td>\n",
       "      <td id=\"T_6c366_row10_col4\" class=\"data row10 col4\" >0.7340</td>\n",
       "      <td id=\"T_6c366_row10_col5\" class=\"data row10 col5\" >0.4152</td>\n",
       "      <td id=\"T_6c366_row10_col6\" class=\"data row10 col6\" >0.4236</td>\n",
       "    </tr>\n",
       "    <tr>\n",
       "      <th id=\"T_6c366_level0_row11\" class=\"row_heading level0 row11\" >Std</th>\n",
       "      <td id=\"T_6c366_row11_col0\" class=\"data row11 col0\" >0.0031</td>\n",
       "      <td id=\"T_6c366_row11_col1\" class=\"data row11 col1\" >0.0020</td>\n",
       "      <td id=\"T_6c366_row11_col2\" class=\"data row11 col2\" >0.0025</td>\n",
       "      <td id=\"T_6c366_row11_col3\" class=\"data row11 col3\" >0.0033</td>\n",
       "      <td id=\"T_6c366_row11_col4\" class=\"data row11 col4\" >0.0024</td>\n",
       "      <td id=\"T_6c366_row11_col5\" class=\"data row11 col5\" >0.0062</td>\n",
       "      <td id=\"T_6c366_row11_col6\" class=\"data row11 col6\" >0.0060</td>\n",
       "    </tr>\n",
       "  </tbody>\n",
       "</table>\n"
      ],
      "text/plain": [
       "<pandas.io.formats.style.Styler at 0x7fdc70eddae0>"
      ]
     },
     "metadata": {},
     "output_type": "display_data"
    },
    {
     "data": {
      "text/html": [],
      "text/plain": [
       "<IPython.core.display.HTML object>"
      ]
     },
     "metadata": {},
     "output_type": "display_data"
    }
   ],
   "source": [
    "lda = create_model('lda')"
   ]
  },
  {
   "cell_type": "code",
   "execution_count": 42,
   "metadata": {},
   "outputs": [
    {
     "data": {
      "text/html": [],
      "text/plain": [
       "<IPython.core.display.HTML object>"
      ]
     },
     "metadata": {},
     "output_type": "display_data"
    },
    {
     "data": {
      "image/png": "[encoded data removed]",
      "text/plain": [
       "<Figure size 800x550 with 1 Axes>"
      ]
     },
     "metadata": {},
     "output_type": "display_data"
    }
   ],
   "source": [
    "plot_model(lda, plot = 'confusion_matrix')"
   ]
  },
  {
   "cell_type": "code",
   "execution_count": 43,
   "metadata": {},
   "outputs": [
    {
     "data": {
      "text/html": [],
      "text/plain": [
       "<IPython.core.display.HTML object>"
      ]
     },
     "metadata": {},
     "output_type": "display_data"
    },
    {
     "data": {
      "image/png": "[encoded data removed]",
      "text/plain": [
       "<Figure size 800x550 with 1 Axes>"
      ]
     },
     "metadata": {},
     "output_type": "display_data"
    }
   ],
   "source": [
    "plot_model(lda, plot = 'error')"
   ]
  },
  {
   "cell_type": "code",
   "execution_count": 44,
   "metadata": {},
   "outputs": [
    {
     "data": {
      "text/html": [],
      "text/plain": [
       "<IPython.core.display.HTML object>"
      ]
     },
     "metadata": {},
     "output_type": "display_data"
    },
    {
     "data": {
      "text/html": [
       "<div>\n",
       "<style scoped>\n",
       "    .dataframe tbody tr th:only-of-type {\n",
       "        vertical-align: middle;\n",
       "    }\n",
       "\n",
       "    .dataframe tbody tr th {\n",
       "        vertical-align: top;\n",
       "    }\n",
       "\n",
       "    .dataframe thead th {\n",
       "        text-align: right;\n",
       "    }\n",
       "</style>\n",
       "<table border=\"1\" class=\"dataframe\">\n",
       "  <thead>\n",
       "    <tr style=\"text-align: right;\">\n",
       "      <th></th>\n",
       "      <th>Parameters</th>\n",
       "    </tr>\n",
       "  </thead>\n",
       "  <tbody>\n",
       "    <tr>\n",
       "      <th>covariance_estimator</th>\n",
       "      <td>None</td>\n",
       "    </tr>\n",
       "    <tr>\n",
       "      <th>n_components</th>\n",
       "      <td>None</td>\n",
       "    </tr>\n",
       "    <tr>\n",
       "      <th>priors</th>\n",
       "      <td>None</td>\n",
       "    </tr>\n",
       "    <tr>\n",
       "      <th>shrinkage</th>\n",
       "      <td>None</td>\n",
       "    </tr>\n",
       "    <tr>\n",
       "      <th>solver</th>\n",
       "      <td>svd</td>\n",
       "    </tr>\n",
       "    <tr>\n",
       "      <th>store_covariance</th>\n",
       "      <td>False</td>\n",
       "    </tr>\n",
       "    <tr>\n",
       "      <th>tol</th>\n",
       "      <td>0.0001</td>\n",
       "    </tr>\n",
       "  </tbody>\n",
       "</table>\n",
       "</div>"
      ],
      "text/plain": [
       "                     Parameters\n",
       "covariance_estimator       None\n",
       "n_components               None\n",
       "priors                     None\n",
       "shrinkage                  None\n",
       "solver                      svd\n",
       "store_covariance          False\n",
       "tol                      0.0001"
      ]
     },
     "metadata": {},
     "output_type": "display_data"
    }
   ],
   "source": [
    "plot_model(lda, plot = 'parameter')"
   ]
  },
  {
   "cell_type": "code",
   "execution_count": 45,
   "metadata": {},
   "outputs": [
    {
     "name": "stdout",
     "output_type": "stream",
     "text": [
      "Transformation Pipeline and Model Successfully Saved\n"
     ]
    },
    {
     "data": {
      "text/plain": [
       "(Pipeline(memory=FastMemory(location=/tmp/joblib),\n",
       "          steps=[('numerical_imputer',\n",
       "                  TransformerWrapper(exclude=None,\n",
       "                                     include=['0', '1', '2', '3', '4', '5', '6',\n",
       "                                              '7', '8', '9', '10', '11', '12',\n",
       "                                              '13', '14', '15', '16', '17', '18',\n",
       "                                              '19', '20', '21', '22', '23', '24',\n",
       "                                              '25', '26', '27', '28', '29', ...],\n",
       "                                     transformer=SimpleImputer(add_indicator=False,\n",
       "                                                               copy=True,\n",
       "                                                               fill_value=None,\n",
       "                                                               keep_empty_feat...\n",
       "                  TransformerWrapper(exclude=None, include=[],\n",
       "                                     transformer=SimpleImputer(add_indicator=False,\n",
       "                                                               copy=True,\n",
       "                                                               fill_value=None,\n",
       "                                                               keep_empty_features=False,\n",
       "                                                               missing_values=nan,\n",
       "                                                               strategy='most_frequent',\n",
       "                                                               verbose='deprecated'))),\n",
       "                 ('trained_model',\n",
       "                  LinearDiscriminantAnalysis(covariance_estimator=None,\n",
       "                                             n_components=None, priors=None,\n",
       "                                             shrinkage=None, solver='svd',\n",
       "                                             store_covariance=False,\n",
       "                                             tol=0.0001))],\n",
       "          verbose=False),\n",
       " 'models_classif/convkb/binary_emb_val/lda.pkl')"
      ]
     },
     "execution_count": 45,
     "metadata": {},
     "output_type": "execute_result"
    }
   ],
   "source": [
    "save_model(lda, 'models_classif/convkb/binary_emb_val/lda')"
   ]
  },
  {
   "cell_type": "markdown",
   "metadata": {},
   "source": [
    "# Extra Trees"
   ]
  },
  {
   "cell_type": "code",
   "execution_count": 46,
   "metadata": {},
   "outputs": [
    {
     "data": {
      "text/html": [],
      "text/plain": [
       "<IPython.core.display.HTML object>"
      ]
     },
     "metadata": {},
     "output_type": "display_data"
    },
    {
     "data": {
      "text/html": [
       "<style type=\"text/css\">\n",
       "#T_08cd0_row10_col0, #T_08cd0_row10_col1, #T_08cd0_row10_col2, #T_08cd0_row10_col3, #T_08cd0_row10_col4, #T_08cd0_row10_col5, #T_08cd0_row10_col6 {\n",
       "  background: yellow;\n",
       "}\n",
       "</style>\n",
       "<table id=\"T_08cd0\">\n",
       "  <thead>\n",
       "    <tr>\n",
       "      <th class=\"blank level0\" >&nbsp;</th>\n",
       "      <th id=\"T_08cd0_level0_col0\" class=\"col_heading level0 col0\" >Accuracy</th>\n",
       "      <th id=\"T_08cd0_level0_col1\" class=\"col_heading level0 col1\" >AUC</th>\n",
       "      <th id=\"T_08cd0_level0_col2\" class=\"col_heading level0 col2\" >Recall</th>\n",
       "      <th id=\"T_08cd0_level0_col3\" class=\"col_heading level0 col3\" >Prec.</th>\n",
       "      <th id=\"T_08cd0_level0_col4\" class=\"col_heading level0 col4\" >F1</th>\n",
       "      <th id=\"T_08cd0_level0_col5\" class=\"col_heading level0 col5\" >Kappa</th>\n",
       "      <th id=\"T_08cd0_level0_col6\" class=\"col_heading level0 col6\" >MCC</th>\n",
       "    </tr>\n",
       "    <tr>\n",
       "      <th class=\"index_name level0\" >Fold</th>\n",
       "      <th class=\"blank col0\" >&nbsp;</th>\n",
       "      <th class=\"blank col1\" >&nbsp;</th>\n",
       "      <th class=\"blank col2\" >&nbsp;</th>\n",
       "      <th class=\"blank col3\" >&nbsp;</th>\n",
       "      <th class=\"blank col4\" >&nbsp;</th>\n",
       "      <th class=\"blank col5\" >&nbsp;</th>\n",
       "      <th class=\"blank col6\" >&nbsp;</th>\n",
       "    </tr>\n",
       "  </thead>\n",
       "  <tbody>\n",
       "    <tr>\n",
       "      <th id=\"T_08cd0_level0_row0\" class=\"row_heading level0 row0\" >0</th>\n",
       "      <td id=\"T_08cd0_row0_col0\" class=\"data row0 col0\" >0.8627</td>\n",
       "      <td id=\"T_08cd0_row0_col1\" class=\"data row0 col1\" >0.9242</td>\n",
       "      <td id=\"T_08cd0_row0_col2\" class=\"data row0 col2\" >0.8960</td>\n",
       "      <td id=\"T_08cd0_row0_col3\" class=\"data row0 col3\" >0.8400</td>\n",
       "      <td id=\"T_08cd0_row0_col4\" class=\"data row0 col4\" >0.8671</td>\n",
       "      <td id=\"T_08cd0_row0_col5\" class=\"data row0 col5\" >0.7253</td>\n",
       "      <td id=\"T_08cd0_row0_col6\" class=\"data row0 col6\" >0.7269</td>\n",
       "    </tr>\n",
       "    <tr>\n",
       "      <th id=\"T_08cd0_level0_row1\" class=\"row_heading level0 row1\" >1</th>\n",
       "      <td id=\"T_08cd0_row1_col0\" class=\"data row1 col0\" >0.8612</td>\n",
       "      <td id=\"T_08cd0_row1_col1\" class=\"data row1 col1\" >0.9245</td>\n",
       "      <td id=\"T_08cd0_row1_col2\" class=\"data row1 col2\" >0.8917</td>\n",
       "      <td id=\"T_08cd0_row1_col3\" class=\"data row1 col3\" >0.8404</td>\n",
       "      <td id=\"T_08cd0_row1_col4\" class=\"data row1 col4\" >0.8653</td>\n",
       "      <td id=\"T_08cd0_row1_col5\" class=\"data row1 col5\" >0.7223</td>\n",
       "      <td id=\"T_08cd0_row1_col6\" class=\"data row1 col6\" >0.7237</td>\n",
       "    </tr>\n",
       "    <tr>\n",
       "      <th id=\"T_08cd0_level0_row2\" class=\"row_heading level0 row2\" >2</th>\n",
       "      <td id=\"T_08cd0_row2_col0\" class=\"data row2 col0\" >0.8632</td>\n",
       "      <td id=\"T_08cd0_row2_col1\" class=\"data row2 col1\" >0.9257</td>\n",
       "      <td id=\"T_08cd0_row2_col2\" class=\"data row2 col2\" >0.8950</td>\n",
       "      <td id=\"T_08cd0_row2_col3\" class=\"data row2 col3\" >0.8416</td>\n",
       "      <td id=\"T_08cd0_row2_col4\" class=\"data row2 col4\" >0.8675</td>\n",
       "      <td id=\"T_08cd0_row2_col5\" class=\"data row2 col5\" >0.7265</td>\n",
       "      <td id=\"T_08cd0_row2_col6\" class=\"data row2 col6\" >0.7280</td>\n",
       "    </tr>\n",
       "    <tr>\n",
       "      <th id=\"T_08cd0_level0_row3\" class=\"row_heading level0 row3\" >3</th>\n",
       "      <td id=\"T_08cd0_row3_col0\" class=\"data row3 col0\" >0.8576</td>\n",
       "      <td id=\"T_08cd0_row3_col1\" class=\"data row3 col1\" >0.9213</td>\n",
       "      <td id=\"T_08cd0_row3_col2\" class=\"data row3 col2\" >0.8926</td>\n",
       "      <td id=\"T_08cd0_row3_col3\" class=\"data row3 col3\" >0.8342</td>\n",
       "      <td id=\"T_08cd0_row3_col4\" class=\"data row3 col4\" >0.8624</td>\n",
       "      <td id=\"T_08cd0_row3_col5\" class=\"data row3 col5\" >0.7152</td>\n",
       "      <td id=\"T_08cd0_row3_col6\" class=\"data row3 col6\" >0.7169</td>\n",
       "    </tr>\n",
       "    <tr>\n",
       "      <th id=\"T_08cd0_level0_row4\" class=\"row_heading level0 row4\" >4</th>\n",
       "      <td id=\"T_08cd0_row4_col0\" class=\"data row4 col0\" >0.8617</td>\n",
       "      <td id=\"T_08cd0_row4_col1\" class=\"data row4 col1\" >0.9236</td>\n",
       "      <td id=\"T_08cd0_row4_col2\" class=\"data row4 col2\" >0.8932</td>\n",
       "      <td id=\"T_08cd0_row4_col3\" class=\"data row4 col3\" >0.8402</td>\n",
       "      <td id=\"T_08cd0_row4_col4\" class=\"data row4 col4\" >0.8659</td>\n",
       "      <td id=\"T_08cd0_row4_col5\" class=\"data row4 col5\" >0.7233</td>\n",
       "      <td id=\"T_08cd0_row4_col6\" class=\"data row4 col6\" >0.7248</td>\n",
       "    </tr>\n",
       "    <tr>\n",
       "      <th id=\"T_08cd0_level0_row5\" class=\"row_heading level0 row5\" >5</th>\n",
       "      <td id=\"T_08cd0_row5_col0\" class=\"data row5 col0\" >0.8623</td>\n",
       "      <td id=\"T_08cd0_row5_col1\" class=\"data row5 col1\" >0.9260</td>\n",
       "      <td id=\"T_08cd0_row5_col2\" class=\"data row5 col2\" >0.8979</td>\n",
       "      <td id=\"T_08cd0_row5_col3\" class=\"data row5 col3\" >0.8383</td>\n",
       "      <td id=\"T_08cd0_row5_col4\" class=\"data row5 col4\" >0.8671</td>\n",
       "      <td id=\"T_08cd0_row5_col5\" class=\"data row5 col5\" >0.7247</td>\n",
       "      <td id=\"T_08cd0_row5_col6\" class=\"data row5 col6\" >0.7265</td>\n",
       "    </tr>\n",
       "    <tr>\n",
       "      <th id=\"T_08cd0_level0_row6\" class=\"row_heading level0 row6\" >6</th>\n",
       "      <td id=\"T_08cd0_row6_col0\" class=\"data row6 col0\" >0.8608</td>\n",
       "      <td id=\"T_08cd0_row6_col1\" class=\"data row6 col1\" >0.9231</td>\n",
       "      <td id=\"T_08cd0_row6_col2\" class=\"data row6 col2\" >0.8927</td>\n",
       "      <td id=\"T_08cd0_row6_col3\" class=\"data row6 col3\" >0.8391</td>\n",
       "      <td id=\"T_08cd0_row6_col4\" class=\"data row6 col4\" >0.8651</td>\n",
       "      <td id=\"T_08cd0_row6_col5\" class=\"data row6 col5\" >0.7215</td>\n",
       "      <td id=\"T_08cd0_row6_col6\" class=\"data row6 col6\" >0.7230</td>\n",
       "    </tr>\n",
       "    <tr>\n",
       "      <th id=\"T_08cd0_level0_row7\" class=\"row_heading level0 row7\" >7</th>\n",
       "      <td id=\"T_08cd0_row7_col0\" class=\"data row7 col0\" >0.8625</td>\n",
       "      <td id=\"T_08cd0_row7_col1\" class=\"data row7 col1\" >0.9238</td>\n",
       "      <td id=\"T_08cd0_row7_col2\" class=\"data row7 col2\" >0.8959</td>\n",
       "      <td id=\"T_08cd0_row7_col3\" class=\"data row7 col3\" >0.8398</td>\n",
       "      <td id=\"T_08cd0_row7_col4\" class=\"data row7 col4\" >0.8669</td>\n",
       "      <td id=\"T_08cd0_row7_col5\" class=\"data row7 col5\" >0.7249</td>\n",
       "      <td id=\"T_08cd0_row7_col6\" class=\"data row7 col6\" >0.7266</td>\n",
       "    </tr>\n",
       "    <tr>\n",
       "      <th id=\"T_08cd0_level0_row8\" class=\"row_heading level0 row8\" >8</th>\n",
       "      <td id=\"T_08cd0_row8_col0\" class=\"data row8 col0\" >0.8609</td>\n",
       "      <td id=\"T_08cd0_row8_col1\" class=\"data row8 col1\" >0.9231</td>\n",
       "      <td id=\"T_08cd0_row8_col2\" class=\"data row8 col2\" >0.8924</td>\n",
       "      <td id=\"T_08cd0_row8_col3\" class=\"data row8 col3\" >0.8395</td>\n",
       "      <td id=\"T_08cd0_row8_col4\" class=\"data row8 col4\" >0.8651</td>\n",
       "      <td id=\"T_08cd0_row8_col5\" class=\"data row8 col5\" >0.7217</td>\n",
       "      <td id=\"T_08cd0_row8_col6\" class=\"data row8 col6\" >0.7232</td>\n",
       "    </tr>\n",
       "    <tr>\n",
       "      <th id=\"T_08cd0_level0_row9\" class=\"row_heading level0 row9\" >9</th>\n",
       "      <td id=\"T_08cd0_row9_col0\" class=\"data row9 col0\" >0.8615</td>\n",
       "      <td id=\"T_08cd0_row9_col1\" class=\"data row9 col1\" >0.9227</td>\n",
       "      <td id=\"T_08cd0_row9_col2\" class=\"data row9 col2\" >0.8941</td>\n",
       "      <td id=\"T_08cd0_row9_col3\" class=\"data row9 col3\" >0.8394</td>\n",
       "      <td id=\"T_08cd0_row9_col4\" class=\"data row9 col4\" >0.8659</td>\n",
       "      <td id=\"T_08cd0_row9_col5\" class=\"data row9 col5\" >0.7231</td>\n",
       "      <td id=\"T_08cd0_row9_col6\" class=\"data row9 col6\" >0.7246</td>\n",
       "    </tr>\n",
       "    <tr>\n",
       "      <th id=\"T_08cd0_level0_row10\" class=\"row_heading level0 row10\" >Mean</th>\n",
       "      <td id=\"T_08cd0_row10_col0\" class=\"data row10 col0\" >0.8614</td>\n",
       "      <td id=\"T_08cd0_row10_col1\" class=\"data row10 col1\" >0.9238</td>\n",
       "      <td id=\"T_08cd0_row10_col2\" class=\"data row10 col2\" >0.8942</td>\n",
       "      <td id=\"T_08cd0_row10_col3\" class=\"data row10 col3\" >0.8392</td>\n",
       "      <td id=\"T_08cd0_row10_col4\" class=\"data row10 col4\" >0.8658</td>\n",
       "      <td id=\"T_08cd0_row10_col5\" class=\"data row10 col5\" >0.7229</td>\n",
       "      <td id=\"T_08cd0_row10_col6\" class=\"data row10 col6\" >0.7244</td>\n",
       "    </tr>\n",
       "    <tr>\n",
       "      <th id=\"T_08cd0_level0_row11\" class=\"row_heading level0 row11\" >Std</th>\n",
       "      <td id=\"T_08cd0_row11_col0\" class=\"data row11 col0\" >0.0015</td>\n",
       "      <td id=\"T_08cd0_row11_col1\" class=\"data row11 col1\" >0.0013</td>\n",
       "      <td id=\"T_08cd0_row11_col2\" class=\"data row11 col2\" >0.0019</td>\n",
       "      <td id=\"T_08cd0_row11_col3\" class=\"data row11 col3\" >0.0019</td>\n",
       "      <td id=\"T_08cd0_row11_col4\" class=\"data row11 col4\" >0.0014</td>\n",
       "      <td id=\"T_08cd0_row11_col5\" class=\"data row11 col5\" >0.0030</td>\n",
       "      <td id=\"T_08cd0_row11_col6\" class=\"data row11 col6\" >0.0030</td>\n",
       "    </tr>\n",
       "  </tbody>\n",
       "</table>\n"
      ],
      "text/plain": [
       "<pandas.io.formats.style.Styler at 0x7fdc7247f040>"
      ]
     },
     "metadata": {},
     "output_type": "display_data"
    },
    {
     "data": {
      "text/html": [],
      "text/plain": [
       "<IPython.core.display.HTML object>"
      ]
     },
     "metadata": {},
     "output_type": "display_data"
    }
   ],
   "source": [
    "et = create_model('et')"
   ]
  },
  {
   "cell_type": "code",
   "execution_count": 47,
   "metadata": {},
   "outputs": [
    {
     "data": {
      "text/html": [],
      "text/plain": [
       "<IPython.core.display.HTML object>"
      ]
     },
     "metadata": {},
     "output_type": "display_data"
    },
    {
     "data": {
      "image/png": "[encoded data removed]",
      "text/plain": [
       "<Figure size 800x550 with 1 Axes>"
      ]
     },
     "metadata": {},
     "output_type": "display_data"
    }
   ],
   "source": [
    "plot_model(et, plot = 'confusion_matrix')"
   ]
  },
  {
   "cell_type": "code",
   "execution_count": 48,
   "metadata": {},
   "outputs": [
    {
     "data": {
      "text/html": [],
      "text/plain": [
       "<IPython.core.display.HTML object>"
      ]
     },
     "metadata": {},
     "output_type": "display_data"
    },
    {
     "data": {
      "image/png": "[encoded data removed]",
      "text/plain": [
       "<Figure size 800x550 with 1 Axes>"
      ]
     },
     "metadata": {},
     "output_type": "display_data"
    }
   ],
   "source": [
    "plot_model(et, plot = 'error')"
   ]
  },
  {
   "cell_type": "code",
   "execution_count": 49,
   "metadata": {},
   "outputs": [
    {
     "data": {
      "text/html": [],
      "text/plain": [
       "<IPython.core.display.HTML object>"
      ]
     },
     "metadata": {},
     "output_type": "display_data"
    },
    {
     "data": {
      "text/html": [
       "<div>\n",
       "<style scoped>\n",
       "    .dataframe tbody tr th:only-of-type {\n",
       "        vertical-align: middle;\n",
       "    }\n",
       "\n",
       "    .dataframe tbody tr th {\n",
       "        vertical-align: top;\n",
       "    }\n",
       "\n",
       "    .dataframe thead th {\n",
       "        text-align: right;\n",
       "    }\n",
       "</style>\n",
       "<table border=\"1\" class=\"dataframe\">\n",
       "  <thead>\n",
       "    <tr style=\"text-align: right;\">\n",
       "      <th></th>\n",
       "      <th>Parameters</th>\n",
       "    </tr>\n",
       "  </thead>\n",
       "  <tbody>\n",
       "    <tr>\n",
       "      <th>bootstrap</th>\n",
       "      <td>False</td>\n",
       "    </tr>\n",
       "    <tr>\n",
       "      <th>ccp_alpha</th>\n",
       "      <td>0.0</td>\n",
       "    </tr>\n",
       "    <tr>\n",
       "      <th>class_weight</th>\n",
       "      <td>None</td>\n",
       "    </tr>\n",
       "    <tr>\n",
       "      <th>criterion</th>\n",
       "      <td>gini</td>\n",
       "    </tr>\n",
       "    <tr>\n",
       "      <th>max_depth</th>\n",
       "      <td>None</td>\n",
       "    </tr>\n",
       "    <tr>\n",
       "      <th>max_features</th>\n",
       "      <td>sqrt</td>\n",
       "    </tr>\n",
       "    <tr>\n",
       "      <th>max_leaf_nodes</th>\n",
       "      <td>None</td>\n",
       "    </tr>\n",
       "    <tr>\n",
       "      <th>max_samples</th>\n",
       "      <td>None</td>\n",
       "    </tr>\n",
       "    <tr>\n",
       "      <th>min_impurity_decrease</th>\n",
       "      <td>0.0</td>\n",
       "    </tr>\n",
       "    <tr>\n",
       "      <th>min_samples_leaf</th>\n",
       "      <td>1</td>\n",
       "    </tr>\n",
       "    <tr>\n",
       "      <th>min_samples_split</th>\n",
       "      <td>2</td>\n",
       "    </tr>\n",
       "    <tr>\n",
       "      <th>min_weight_fraction_leaf</th>\n",
       "      <td>0.0</td>\n",
       "    </tr>\n",
       "    <tr>\n",
       "      <th>n_estimators</th>\n",
       "      <td>100</td>\n",
       "    </tr>\n",
       "    <tr>\n",
       "      <th>n_jobs</th>\n",
       "      <td>-1</td>\n",
       "    </tr>\n",
       "    <tr>\n",
       "      <th>oob_score</th>\n",
       "      <td>False</td>\n",
       "    </tr>\n",
       "    <tr>\n",
       "      <th>random_state</th>\n",
       "      <td>5136</td>\n",
       "    </tr>\n",
       "    <tr>\n",
       "      <th>verbose</th>\n",
       "      <td>0</td>\n",
       "    </tr>\n",
       "    <tr>\n",
       "      <th>warm_start</th>\n",
       "      <td>False</td>\n",
       "    </tr>\n",
       "  </tbody>\n",
       "</table>\n",
       "</div>"
      ],
      "text/plain": [
       "                         Parameters\n",
       "bootstrap                     False\n",
       "ccp_alpha                       0.0\n",
       "class_weight                   None\n",
       "criterion                      gini\n",
       "max_depth                      None\n",
       "max_features                   sqrt\n",
       "max_leaf_nodes                 None\n",
       "max_samples                    None\n",
       "min_impurity_decrease           0.0\n",
       "min_samples_leaf                  1\n",
       "min_samples_split                 2\n",
       "min_weight_fraction_leaf        0.0\n",
       "n_estimators                    100\n",
       "n_jobs                           -1\n",
       "oob_score                     False\n",
       "random_state                   5136\n",
       "verbose                           0\n",
       "warm_start                    False"
      ]
     },
     "metadata": {},
     "output_type": "display_data"
    }
   ],
   "source": [
    "plot_model(et, plot = 'parameter')"
   ]
  },
  {
   "cell_type": "code",
   "execution_count": 50,
   "metadata": {},
   "outputs": [
    {
     "name": "stdout",
     "output_type": "stream",
     "text": [
      "Transformation Pipeline and Model Successfully Saved\n"
     ]
    },
    {
     "data": {
      "text/plain": [
       "(Pipeline(memory=FastMemory(location=/tmp/joblib),\n",
       "          steps=[('numerical_imputer',\n",
       "                  TransformerWrapper(exclude=None,\n",
       "                                     include=['0', '1', '2', '3', '4', '5', '6',\n",
       "                                              '7', '8', '9', '10', '11', '12',\n",
       "                                              '13', '14', '15', '16', '17', '18',\n",
       "                                              '19', '20', '21', '22', '23', '24',\n",
       "                                              '25', '26', '27', '28', '29', ...],\n",
       "                                     transformer=SimpleImputer(add_indicator=False,\n",
       "                                                               copy=True,\n",
       "                                                               fill_value=None,\n",
       "                                                               keep_empty_feat...\n",
       "                  ExtraTreesClassifier(bootstrap=False, ccp_alpha=0.0,\n",
       "                                       class_weight=None, criterion='gini',\n",
       "                                       max_depth=None, max_features='sqrt',\n",
       "                                       max_leaf_nodes=None, max_samples=None,\n",
       "                                       min_impurity_decrease=0.0,\n",
       "                                       min_samples_leaf=1, min_samples_split=2,\n",
       "                                       min_weight_fraction_leaf=0.0,\n",
       "                                       n_estimators=100, n_jobs=-1,\n",
       "                                       oob_score=False, random_state=5136,\n",
       "                                       verbose=0, warm_start=False))],\n",
       "          verbose=False),\n",
       " 'models_classif/convkb/binary_emb_val/et.pkl')"
      ]
     },
     "execution_count": 50,
     "metadata": {},
     "output_type": "execute_result"
    }
   ],
   "source": [
    "save_model(et, 'models_classif/convkb/binary_emb_val/et')"
   ]
  },
  {
   "cell_type": "markdown",
   "metadata": {},
   "source": [
    "# Light Gradient Boosting Machine"
   ]
  },
  {
   "cell_type": "code",
   "execution_count": 51,
   "metadata": {},
   "outputs": [
    {
     "data": {
      "text/html": [],
      "text/plain": [
       "<IPython.core.display.HTML object>"
      ]
     },
     "metadata": {},
     "output_type": "display_data"
    },
    {
     "data": {
      "text/html": [
       "<style type=\"text/css\">\n",
       "#T_ec75e_row10_col0, #T_ec75e_row10_col1, #T_ec75e_row10_col2, #T_ec75e_row10_col3, #T_ec75e_row10_col4, #T_ec75e_row10_col5, #T_ec75e_row10_col6 {\n",
       "  background: yellow;\n",
       "}\n",
       "</style>\n",
       "<table id=\"T_ec75e\">\n",
       "  <thead>\n",
       "    <tr>\n",
       "      <th class=\"blank level0\" >&nbsp;</th>\n",
       "      <th id=\"T_ec75e_level0_col0\" class=\"col_heading level0 col0\" >Accuracy</th>\n",
       "      <th id=\"T_ec75e_level0_col1\" class=\"col_heading level0 col1\" >AUC</th>\n",
       "      <th id=\"T_ec75e_level0_col2\" class=\"col_heading level0 col2\" >Recall</th>\n",
       "      <th id=\"T_ec75e_level0_col3\" class=\"col_heading level0 col3\" >Prec.</th>\n",
       "      <th id=\"T_ec75e_level0_col4\" class=\"col_heading level0 col4\" >F1</th>\n",
       "      <th id=\"T_ec75e_level0_col5\" class=\"col_heading level0 col5\" >Kappa</th>\n",
       "      <th id=\"T_ec75e_level0_col6\" class=\"col_heading level0 col6\" >MCC</th>\n",
       "    </tr>\n",
       "    <tr>\n",
       "      <th class=\"index_name level0\" >Fold</th>\n",
       "      <th class=\"blank col0\" >&nbsp;</th>\n",
       "      <th class=\"blank col1\" >&nbsp;</th>\n",
       "      <th class=\"blank col2\" >&nbsp;</th>\n",
       "      <th class=\"blank col3\" >&nbsp;</th>\n",
       "      <th class=\"blank col4\" >&nbsp;</th>\n",
       "      <th class=\"blank col5\" >&nbsp;</th>\n",
       "      <th class=\"blank col6\" >&nbsp;</th>\n",
       "    </tr>\n",
       "  </thead>\n",
       "  <tbody>\n",
       "    <tr>\n",
       "      <th id=\"T_ec75e_level0_row0\" class=\"row_heading level0 row0\" >0</th>\n",
       "      <td id=\"T_ec75e_row0_col0\" class=\"data row0 col0\" >0.8532</td>\n",
       "      <td id=\"T_ec75e_row0_col1\" class=\"data row0 col1\" >0.9206</td>\n",
       "      <td id=\"T_ec75e_row0_col2\" class=\"data row0 col2\" >0.9092</td>\n",
       "      <td id=\"T_ec75e_row0_col3\" class=\"data row0 col3\" >0.8176</td>\n",
       "      <td id=\"T_ec75e_row0_col4\" class=\"data row0 col4\" >0.8610</td>\n",
       "      <td id=\"T_ec75e_row0_col5\" class=\"data row0 col5\" >0.7063</td>\n",
       "      <td id=\"T_ec75e_row0_col6\" class=\"data row0 col6\" >0.7108</td>\n",
       "    </tr>\n",
       "    <tr>\n",
       "      <th id=\"T_ec75e_level0_row1\" class=\"row_heading level0 row1\" >1</th>\n",
       "      <td id=\"T_ec75e_row1_col0\" class=\"data row1 col0\" >0.8545</td>\n",
       "      <td id=\"T_ec75e_row1_col1\" class=\"data row1 col1\" >0.9236</td>\n",
       "      <td id=\"T_ec75e_row1_col2\" class=\"data row1 col2\" >0.9072</td>\n",
       "      <td id=\"T_ec75e_row1_col3\" class=\"data row1 col3\" >0.8207</td>\n",
       "      <td id=\"T_ec75e_row1_col4\" class=\"data row1 col4\" >0.8618</td>\n",
       "      <td id=\"T_ec75e_row1_col5\" class=\"data row1 col5\" >0.7091</td>\n",
       "      <td id=\"T_ec75e_row1_col6\" class=\"data row1 col6\" >0.7130</td>\n",
       "    </tr>\n",
       "    <tr>\n",
       "      <th id=\"T_ec75e_level0_row2\" class=\"row_heading level0 row2\" >2</th>\n",
       "      <td id=\"T_ec75e_row2_col0\" class=\"data row2 col0\" >0.8557</td>\n",
       "      <td id=\"T_ec75e_row2_col1\" class=\"data row2 col1\" >0.9243</td>\n",
       "      <td id=\"T_ec75e_row2_col2\" class=\"data row2 col2\" >0.9100</td>\n",
       "      <td id=\"T_ec75e_row2_col3\" class=\"data row2 col3\" >0.8209</td>\n",
       "      <td id=\"T_ec75e_row2_col4\" class=\"data row2 col4\" >0.8631</td>\n",
       "      <td id=\"T_ec75e_row2_col5\" class=\"data row2 col5\" >0.7115</td>\n",
       "      <td id=\"T_ec75e_row2_col6\" class=\"data row2 col6\" >0.7157</td>\n",
       "    </tr>\n",
       "    <tr>\n",
       "      <th id=\"T_ec75e_level0_row3\" class=\"row_heading level0 row3\" >3</th>\n",
       "      <td id=\"T_ec75e_row3_col0\" class=\"data row3 col0\" >0.8542</td>\n",
       "      <td id=\"T_ec75e_row3_col1\" class=\"data row3 col1\" >0.9213</td>\n",
       "      <td id=\"T_ec75e_row3_col2\" class=\"data row3 col2\" >0.9131</td>\n",
       "      <td id=\"T_ec75e_row3_col3\" class=\"data row3 col3\" >0.8169</td>\n",
       "      <td id=\"T_ec75e_row3_col4\" class=\"data row3 col4\" >0.8623</td>\n",
       "      <td id=\"T_ec75e_row3_col5\" class=\"data row3 col5\" >0.7085</td>\n",
       "      <td id=\"T_ec75e_row3_col6\" class=\"data row3 col6\" >0.7134</td>\n",
       "    </tr>\n",
       "    <tr>\n",
       "      <th id=\"T_ec75e_level0_row4\" class=\"row_heading level0 row4\" >4</th>\n",
       "      <td id=\"T_ec75e_row4_col0\" class=\"data row4 col0\" >0.8513</td>\n",
       "      <td id=\"T_ec75e_row4_col1\" class=\"data row4 col1\" >0.9201</td>\n",
       "      <td id=\"T_ec75e_row4_col2\" class=\"data row4 col2\" >0.9053</td>\n",
       "      <td id=\"T_ec75e_row4_col3\" class=\"data row4 col3\" >0.8171</td>\n",
       "      <td id=\"T_ec75e_row4_col4\" class=\"data row4 col4\" >0.8589</td>\n",
       "      <td id=\"T_ec75e_row4_col5\" class=\"data row4 col5\" >0.7026</td>\n",
       "      <td id=\"T_ec75e_row4_col6\" class=\"data row4 col6\" >0.7067</td>\n",
       "    </tr>\n",
       "    <tr>\n",
       "      <th id=\"T_ec75e_level0_row5\" class=\"row_heading level0 row5\" >5</th>\n",
       "      <td id=\"T_ec75e_row5_col0\" class=\"data row5 col0\" >0.8541</td>\n",
       "      <td id=\"T_ec75e_row5_col1\" class=\"data row5 col1\" >0.9224</td>\n",
       "      <td id=\"T_ec75e_row5_col2\" class=\"data row5 col2\" >0.9123</td>\n",
       "      <td id=\"T_ec75e_row5_col3\" class=\"data row5 col3\" >0.8172</td>\n",
       "      <td id=\"T_ec75e_row5_col4\" class=\"data row5 col4\" >0.8621</td>\n",
       "      <td id=\"T_ec75e_row5_col5\" class=\"data row5 col5\" >0.7082</td>\n",
       "      <td id=\"T_ec75e_row5_col6\" class=\"data row5 col6\" >0.7130</td>\n",
       "    </tr>\n",
       "    <tr>\n",
       "      <th id=\"T_ec75e_level0_row6\" class=\"row_heading level0 row6\" >6</th>\n",
       "      <td id=\"T_ec75e_row6_col0\" class=\"data row6 col0\" >0.8506</td>\n",
       "      <td id=\"T_ec75e_row6_col1\" class=\"data row6 col1\" >0.9220</td>\n",
       "      <td id=\"T_ec75e_row6_col2\" class=\"data row6 col2\" >0.9027</td>\n",
       "      <td id=\"T_ec75e_row6_col3\" class=\"data row6 col3\" >0.8176</td>\n",
       "      <td id=\"T_ec75e_row6_col4\" class=\"data row6 col4\" >0.8580</td>\n",
       "      <td id=\"T_ec75e_row6_col5\" class=\"data row6 col5\" >0.7013</td>\n",
       "      <td id=\"T_ec75e_row6_col6\" class=\"data row6 col6\" >0.7051</td>\n",
       "    </tr>\n",
       "    <tr>\n",
       "      <th id=\"T_ec75e_level0_row7\" class=\"row_heading level0 row7\" >7</th>\n",
       "      <td id=\"T_ec75e_row7_col0\" class=\"data row7 col0\" >0.8544</td>\n",
       "      <td id=\"T_ec75e_row7_col1\" class=\"data row7 col1\" >0.9208</td>\n",
       "      <td id=\"T_ec75e_row7_col2\" class=\"data row7 col2\" >0.9130</td>\n",
       "      <td id=\"T_ec75e_row7_col3\" class=\"data row7 col3\" >0.8173</td>\n",
       "      <td id=\"T_ec75e_row7_col4\" class=\"data row7 col4\" >0.8625</td>\n",
       "      <td id=\"T_ec75e_row7_col5\" class=\"data row7 col5\" >0.7088</td>\n",
       "      <td id=\"T_ec75e_row7_col6\" class=\"data row7 col6\" >0.7137</td>\n",
       "    </tr>\n",
       "    <tr>\n",
       "      <th id=\"T_ec75e_level0_row8\" class=\"row_heading level0 row8\" >8</th>\n",
       "      <td id=\"T_ec75e_row8_col0\" class=\"data row8 col0\" >0.8529</td>\n",
       "      <td id=\"T_ec75e_row8_col1\" class=\"data row8 col1\" >0.9221</td>\n",
       "      <td id=\"T_ec75e_row8_col2\" class=\"data row8 col2\" >0.9082</td>\n",
       "      <td id=\"T_ec75e_row8_col3\" class=\"data row8 col3\" >0.8178</td>\n",
       "      <td id=\"T_ec75e_row8_col4\" class=\"data row8 col4\" >0.8606</td>\n",
       "      <td id=\"T_ec75e_row8_col5\" class=\"data row8 col5\" >0.7059</td>\n",
       "      <td id=\"T_ec75e_row8_col6\" class=\"data row8 col6\" >0.7102</td>\n",
       "    </tr>\n",
       "    <tr>\n",
       "      <th id=\"T_ec75e_level0_row9\" class=\"row_heading level0 row9\" >9</th>\n",
       "      <td id=\"T_ec75e_row9_col0\" class=\"data row9 col0\" >0.8533</td>\n",
       "      <td id=\"T_ec75e_row9_col1\" class=\"data row9 col1\" >0.9212</td>\n",
       "      <td id=\"T_ec75e_row9_col2\" class=\"data row9 col2\" >0.9066</td>\n",
       "      <td id=\"T_ec75e_row9_col3\" class=\"data row9 col3\" >0.8193</td>\n",
       "      <td id=\"T_ec75e_row9_col4\" class=\"data row9 col4\" >0.8608</td>\n",
       "      <td id=\"T_ec75e_row9_col5\" class=\"data row9 col5\" >0.7067</td>\n",
       "      <td id=\"T_ec75e_row9_col6\" class=\"data row9 col6\" >0.7107</td>\n",
       "    </tr>\n",
       "    <tr>\n",
       "      <th id=\"T_ec75e_level0_row10\" class=\"row_heading level0 row10\" >Mean</th>\n",
       "      <td id=\"T_ec75e_row10_col0\" class=\"data row10 col0\" >0.8534</td>\n",
       "      <td id=\"T_ec75e_row10_col1\" class=\"data row10 col1\" >0.9218</td>\n",
       "      <td id=\"T_ec75e_row10_col2\" class=\"data row10 col2\" >0.9087</td>\n",
       "      <td id=\"T_ec75e_row10_col3\" class=\"data row10 col3\" >0.8182</td>\n",
       "      <td id=\"T_ec75e_row10_col4\" class=\"data row10 col4\" >0.8611</td>\n",
       "      <td id=\"T_ec75e_row10_col5\" class=\"data row10 col5\" >0.7069</td>\n",
       "      <td id=\"T_ec75e_row10_col6\" class=\"data row10 col6\" >0.7112</td>\n",
       "    </tr>\n",
       "    <tr>\n",
       "      <th id=\"T_ec75e_level0_row11\" class=\"row_heading level0 row11\" >Std</th>\n",
       "      <td id=\"T_ec75e_row11_col0\" class=\"data row11 col0\" >0.0015</td>\n",
       "      <td id=\"T_ec75e_row11_col1\" class=\"data row11 col1\" >0.0013</td>\n",
       "      <td id=\"T_ec75e_row11_col2\" class=\"data row11 col2\" >0.0033</td>\n",
       "      <td id=\"T_ec75e_row11_col3\" class=\"data row11 col3\" >0.0014</td>\n",
       "      <td id=\"T_ec75e_row11_col4\" class=\"data row11 col4\" >0.0015</td>\n",
       "      <td id=\"T_ec75e_row11_col5\" class=\"data row11 col5\" >0.0029</td>\n",
       "      <td id=\"T_ec75e_row11_col6\" class=\"data row11 col6\" >0.0031</td>\n",
       "    </tr>\n",
       "  </tbody>\n",
       "</table>\n"
      ],
      "text/plain": [
       "<pandas.io.formats.style.Styler at 0x7fdc723c3a60>"
      ]
     },
     "metadata": {},
     "output_type": "display_data"
    },
    {
     "data": {
      "text/html": [],
      "text/plain": [
       "<IPython.core.display.HTML object>"
      ]
     },
     "metadata": {},
     "output_type": "display_data"
    }
   ],
   "source": [
    "lightgbm = create_model('lightgbm')"
   ]
  },
  {
   "cell_type": "code",
   "execution_count": 52,
   "metadata": {},
   "outputs": [
    {
     "data": {
      "text/html": [],
      "text/plain": [
       "<IPython.core.display.HTML object>"
      ]
     },
     "metadata": {},
     "output_type": "display_data"
    },
    {
     "data": {
      "image/png": "[encoded data removed]",
      "text/plain": [
       "<Figure size 800x550 with 1 Axes>"
      ]
     },
     "metadata": {},
     "output_type": "display_data"
    }
   ],
   "source": [
    "plot_model(lightgbm, plot = 'confusion_matrix')"
   ]
  },
  {
   "cell_type": "code",
   "execution_count": 53,
   "metadata": {},
   "outputs": [
    {
     "data": {
      "text/html": [],
      "text/plain": [
       "<IPython.core.display.HTML object>"
      ]
     },
     "metadata": {},
     "output_type": "display_data"
    },
    {
     "data": {
      "image/png": "[encoded data removed]",
      "text/plain": [
       "<Figure size 800x550 with 1 Axes>"
      ]
     },
     "metadata": {},
     "output_type": "display_data"
    }
   ],
   "source": [
    "plot_model(lightgbm, plot = 'error')"
   ]
  },
  {
   "cell_type": "code",
   "execution_count": 54,
   "metadata": {},
   "outputs": [
    {
     "data": {
      "text/html": [],
      "text/plain": [
       "<IPython.core.display.HTML object>"
      ]
     },
     "metadata": {},
     "output_type": "display_data"
    },
    {
     "data": {
      "text/html": [
       "<div>\n",
       "<style scoped>\n",
       "    .dataframe tbody tr th:only-of-type {\n",
       "        vertical-align: middle;\n",
       "    }\n",
       "\n",
       "    .dataframe tbody tr th {\n",
       "        vertical-align: top;\n",
       "    }\n",
       "\n",
       "    .dataframe thead th {\n",
       "        text-align: right;\n",
       "    }\n",
       "</style>\n",
       "<table border=\"1\" class=\"dataframe\">\n",
       "  <thead>\n",
       "    <tr style=\"text-align: right;\">\n",
       "      <th></th>\n",
       "      <th>Parameters</th>\n",
       "    </tr>\n",
       "  </thead>\n",
       "  <tbody>\n",
       "    <tr>\n",
       "      <th>boosting_type</th>\n",
       "      <td>gbdt</td>\n",
       "    </tr>\n",
       "    <tr>\n",
       "      <th>class_weight</th>\n",
       "      <td>None</td>\n",
       "    </tr>\n",
       "    <tr>\n",
       "      <th>colsample_bytree</th>\n",
       "      <td>1.0</td>\n",
       "    </tr>\n",
       "    <tr>\n",
       "      <th>importance_type</th>\n",
       "      <td>split</td>\n",
       "    </tr>\n",
       "    <tr>\n",
       "      <th>learning_rate</th>\n",
       "      <td>0.1</td>\n",
       "    </tr>\n",
       "    <tr>\n",
       "      <th>max_depth</th>\n",
       "      <td>-1</td>\n",
       "    </tr>\n",
       "    <tr>\n",
       "      <th>min_child_samples</th>\n",
       "      <td>20</td>\n",
       "    </tr>\n",
       "    <tr>\n",
       "      <th>min_child_weight</th>\n",
       "      <td>0.001</td>\n",
       "    </tr>\n",
       "    <tr>\n",
       "      <th>min_split_gain</th>\n",
       "      <td>0.0</td>\n",
       "    </tr>\n",
       "    <tr>\n",
       "      <th>n_estimators</th>\n",
       "      <td>100</td>\n",
       "    </tr>\n",
       "    <tr>\n",
       "      <th>n_jobs</th>\n",
       "      <td>-1</td>\n",
       "    </tr>\n",
       "    <tr>\n",
       "      <th>num_leaves</th>\n",
       "      <td>31</td>\n",
       "    </tr>\n",
       "    <tr>\n",
       "      <th>objective</th>\n",
       "      <td>None</td>\n",
       "    </tr>\n",
       "    <tr>\n",
       "      <th>random_state</th>\n",
       "      <td>5136</td>\n",
       "    </tr>\n",
       "    <tr>\n",
       "      <th>reg_alpha</th>\n",
       "      <td>0.0</td>\n",
       "    </tr>\n",
       "    <tr>\n",
       "      <th>reg_lambda</th>\n",
       "      <td>0.0</td>\n",
       "    </tr>\n",
       "    <tr>\n",
       "      <th>silent</th>\n",
       "      <td>warn</td>\n",
       "    </tr>\n",
       "    <tr>\n",
       "      <th>subsample</th>\n",
       "      <td>1.0</td>\n",
       "    </tr>\n",
       "    <tr>\n",
       "      <th>subsample_for_bin</th>\n",
       "      <td>200000</td>\n",
       "    </tr>\n",
       "    <tr>\n",
       "      <th>subsample_freq</th>\n",
       "      <td>0</td>\n",
       "    </tr>\n",
       "  </tbody>\n",
       "</table>\n",
       "</div>"
      ],
      "text/plain": [
       "                  Parameters\n",
       "boosting_type           gbdt\n",
       "class_weight            None\n",
       "colsample_bytree         1.0\n",
       "importance_type        split\n",
       "learning_rate            0.1\n",
       "max_depth                 -1\n",
       "min_child_samples         20\n",
       "min_child_weight       0.001\n",
       "min_split_gain           0.0\n",
       "n_estimators             100\n",
       "n_jobs                    -1\n",
       "num_leaves                31\n",
       "objective               None\n",
       "random_state            5136\n",
       "reg_alpha                0.0\n",
       "reg_lambda               0.0\n",
       "silent                  warn\n",
       "subsample                1.0\n",
       "subsample_for_bin     200000\n",
       "subsample_freq             0"
      ]
     },
     "metadata": {},
     "output_type": "display_data"
    }
   ],
   "source": [
    "plot_model(lightgbm, plot = 'parameter')"
   ]
  },
  {
   "cell_type": "code",
   "execution_count": 55,
   "metadata": {},
   "outputs": [
    {
     "name": "stdout",
     "output_type": "stream",
     "text": [
      "Transformation Pipeline and Model Successfully Saved\n"
     ]
    },
    {
     "data": {
      "text/plain": [
       "(Pipeline(memory=FastMemory(location=/tmp/joblib),\n",
       "          steps=[('numerical_imputer',\n",
       "                  TransformerWrapper(exclude=None,\n",
       "                                     include=['0', '1', '2', '3', '4', '5', '6',\n",
       "                                              '7', '8', '9', '10', '11', '12',\n",
       "                                              '13', '14', '15', '16', '17', '18',\n",
       "                                              '19', '20', '21', '22', '23', '24',\n",
       "                                              '25', '26', '27', '28', '29', ...],\n",
       "                                     transformer=SimpleImputer(add_indicator=False,\n",
       "                                                               copy=True,\n",
       "                                                               fill_value=None,\n",
       "                                                               keep_empty_feat...\n",
       "                  LGBMClassifier(boosting_type='gbdt', class_weight=None,\n",
       "                                 colsample_bytree=1.0, importance_type='split',\n",
       "                                 learning_rate=0.1, max_depth=-1,\n",
       "                                 min_child_samples=20, min_child_weight=0.001,\n",
       "                                 min_split_gain=0.0, n_estimators=100, n_jobs=-1,\n",
       "                                 num_leaves=31, objective=None,\n",
       "                                 random_state=5136, reg_alpha=0.0,\n",
       "                                 reg_lambda=0.0, silent='warn', subsample=1.0,\n",
       "                                 subsample_for_bin=200000, subsample_freq=0))],\n",
       "          verbose=False),\n",
       " 'models_classif/convkb/binary_emb_val/lightgbm.pkl')"
      ]
     },
     "execution_count": 55,
     "metadata": {},
     "output_type": "execute_result"
    }
   ],
   "source": [
    "save_model(lightgbm, 'models_classif/convkb/binary_emb_val/lightgbm')"
   ]
  },
  {
   "cell_type": "markdown",
   "metadata": {
    "tags": []
   },
   "source": [
    "# MLP Classifier"
   ]
  },
  {
   "cell_type": "code",
   "execution_count": 56,
   "metadata": {},
   "outputs": [
    {
     "data": {
      "text/html": [],
      "text/plain": [
       "<IPython.core.display.HTML object>"
      ]
     },
     "metadata": {},
     "output_type": "display_data"
    },
    {
     "data": {
      "text/html": [
       "<style type=\"text/css\">\n",
       "#T_82a65_row10_col0, #T_82a65_row10_col1, #T_82a65_row10_col2, #T_82a65_row10_col3, #T_82a65_row10_col4, #T_82a65_row10_col5, #T_82a65_row10_col6 {\n",
       "  background: yellow;\n",
       "}\n",
       "</style>\n",
       "<table id=\"T_82a65\">\n",
       "  <thead>\n",
       "    <tr>\n",
       "      <th class=\"blank level0\" >&nbsp;</th>\n",
       "      <th id=\"T_82a65_level0_col0\" class=\"col_heading level0 col0\" >Accuracy</th>\n",
       "      <th id=\"T_82a65_level0_col1\" class=\"col_heading level0 col1\" >AUC</th>\n",
       "      <th id=\"T_82a65_level0_col2\" class=\"col_heading level0 col2\" >Recall</th>\n",
       "      <th id=\"T_82a65_level0_col3\" class=\"col_heading level0 col3\" >Prec.</th>\n",
       "      <th id=\"T_82a65_level0_col4\" class=\"col_heading level0 col4\" >F1</th>\n",
       "      <th id=\"T_82a65_level0_col5\" class=\"col_heading level0 col5\" >Kappa</th>\n",
       "      <th id=\"T_82a65_level0_col6\" class=\"col_heading level0 col6\" >MCC</th>\n",
       "    </tr>\n",
       "    <tr>\n",
       "      <th class=\"index_name level0\" >Fold</th>\n",
       "      <th class=\"blank col0\" >&nbsp;</th>\n",
       "      <th class=\"blank col1\" >&nbsp;</th>\n",
       "      <th class=\"blank col2\" >&nbsp;</th>\n",
       "      <th class=\"blank col3\" >&nbsp;</th>\n",
       "      <th class=\"blank col4\" >&nbsp;</th>\n",
       "      <th class=\"blank col5\" >&nbsp;</th>\n",
       "      <th class=\"blank col6\" >&nbsp;</th>\n",
       "    </tr>\n",
       "  </thead>\n",
       "  <tbody>\n",
       "    <tr>\n",
       "      <th id=\"T_82a65_level0_row0\" class=\"row_heading level0 row0\" >0</th>\n",
       "      <td id=\"T_82a65_row0_col0\" class=\"data row0 col0\" >0.8189</td>\n",
       "      <td id=\"T_82a65_row0_col1\" class=\"data row0 col1\" >0.8945</td>\n",
       "      <td id=\"T_82a65_row0_col2\" class=\"data row0 col2\" >0.8525</td>\n",
       "      <td id=\"T_82a65_row0_col3\" class=\"data row0 col3\" >0.7988</td>\n",
       "      <td id=\"T_82a65_row0_col4\" class=\"data row0 col4\" >0.8248</td>\n",
       "      <td id=\"T_82a65_row0_col5\" class=\"data row0 col5\" >0.6378</td>\n",
       "      <td id=\"T_82a65_row0_col6\" class=\"data row0 col6\" >0.6393</td>\n",
       "    </tr>\n",
       "    <tr>\n",
       "      <th id=\"T_82a65_level0_row1\" class=\"row_heading level0 row1\" >1</th>\n",
       "      <td id=\"T_82a65_row1_col0\" class=\"data row1 col0\" >0.8165</td>\n",
       "      <td id=\"T_82a65_row1_col1\" class=\"data row1 col1\" >0.8955</td>\n",
       "      <td id=\"T_82a65_row1_col2\" class=\"data row1 col2\" >0.8438</td>\n",
       "      <td id=\"T_82a65_row1_col3\" class=\"data row1 col3\" >0.8001</td>\n",
       "      <td id=\"T_82a65_row1_col4\" class=\"data row1 col4\" >0.8214</td>\n",
       "      <td id=\"T_82a65_row1_col5\" class=\"data row1 col5\" >0.6329</td>\n",
       "      <td id=\"T_82a65_row1_col6\" class=\"data row1 col6\" >0.6339</td>\n",
       "    </tr>\n",
       "    <tr>\n",
       "      <th id=\"T_82a65_level0_row2\" class=\"row_heading level0 row2\" >2</th>\n",
       "      <td id=\"T_82a65_row2_col0\" class=\"data row2 col0\" >0.8188</td>\n",
       "      <td id=\"T_82a65_row2_col1\" class=\"data row2 col1\" >0.8958</td>\n",
       "      <td id=\"T_82a65_row2_col2\" class=\"data row2 col2\" >0.8455</td>\n",
       "      <td id=\"T_82a65_row2_col3\" class=\"data row2 col3\" >0.8026</td>\n",
       "      <td id=\"T_82a65_row2_col4\" class=\"data row2 col4\" >0.8235</td>\n",
       "      <td id=\"T_82a65_row2_col5\" class=\"data row2 col5\" >0.6375</td>\n",
       "      <td id=\"T_82a65_row2_col6\" class=\"data row2 col6\" >0.6384</td>\n",
       "    </tr>\n",
       "    <tr>\n",
       "      <th id=\"T_82a65_level0_row3\" class=\"row_heading level0 row3\" >3</th>\n",
       "      <td id=\"T_82a65_row3_col0\" class=\"data row3 col0\" >0.8141</td>\n",
       "      <td id=\"T_82a65_row3_col1\" class=\"data row3 col1\" >0.8932</td>\n",
       "      <td id=\"T_82a65_row3_col2\" class=\"data row3 col2\" >0.8407</td>\n",
       "      <td id=\"T_82a65_row3_col3\" class=\"data row3 col3\" >0.7982</td>\n",
       "      <td id=\"T_82a65_row3_col4\" class=\"data row3 col4\" >0.8189</td>\n",
       "      <td id=\"T_82a65_row3_col5\" class=\"data row3 col5\" >0.6281</td>\n",
       "      <td id=\"T_82a65_row3_col6\" class=\"data row3 col6\" >0.6290</td>\n",
       "    </tr>\n",
       "    <tr>\n",
       "      <th id=\"T_82a65_level0_row4\" class=\"row_heading level0 row4\" >4</th>\n",
       "      <td id=\"T_82a65_row4_col0\" class=\"data row4 col0\" >0.8187</td>\n",
       "      <td id=\"T_82a65_row4_col1\" class=\"data row4 col1\" >0.8944</td>\n",
       "      <td id=\"T_82a65_row4_col2\" class=\"data row4 col2\" >0.8399</td>\n",
       "      <td id=\"T_82a65_row4_col3\" class=\"data row4 col3\" >0.8057</td>\n",
       "      <td id=\"T_82a65_row4_col4\" class=\"data row4 col4\" >0.8225</td>\n",
       "      <td id=\"T_82a65_row4_col5\" class=\"data row4 col5\" >0.6374</td>\n",
       "      <td id=\"T_82a65_row4_col6\" class=\"data row4 col6\" >0.6379</td>\n",
       "    </tr>\n",
       "    <tr>\n",
       "      <th id=\"T_82a65_level0_row5\" class=\"row_heading level0 row5\" >5</th>\n",
       "      <td id=\"T_82a65_row5_col0\" class=\"data row5 col0\" >0.8140</td>\n",
       "      <td id=\"T_82a65_row5_col1\" class=\"data row5 col1\" >0.8941</td>\n",
       "      <td id=\"T_82a65_row5_col2\" class=\"data row5 col2\" >0.8336</td>\n",
       "      <td id=\"T_82a65_row5_col3\" class=\"data row5 col3\" >0.8022</td>\n",
       "      <td id=\"T_82a65_row5_col4\" class=\"data row5 col4\" >0.8176</td>\n",
       "      <td id=\"T_82a65_row5_col5\" class=\"data row5 col5\" >0.6281</td>\n",
       "      <td id=\"T_82a65_row5_col6\" class=\"data row5 col6\" >0.6286</td>\n",
       "    </tr>\n",
       "    <tr>\n",
       "      <th id=\"T_82a65_level0_row6\" class=\"row_heading level0 row6\" >6</th>\n",
       "      <td id=\"T_82a65_row6_col0\" class=\"data row6 col0\" >0.8128</td>\n",
       "      <td id=\"T_82a65_row6_col1\" class=\"data row6 col1\" >0.8932</td>\n",
       "      <td id=\"T_82a65_row6_col2\" class=\"data row6 col2\" >0.8310</td>\n",
       "      <td id=\"T_82a65_row6_col3\" class=\"data row6 col3\" >0.8018</td>\n",
       "      <td id=\"T_82a65_row6_col4\" class=\"data row6 col4\" >0.8162</td>\n",
       "      <td id=\"T_82a65_row6_col5\" class=\"data row6 col5\" >0.6256</td>\n",
       "      <td id=\"T_82a65_row6_col6\" class=\"data row6 col6\" >0.6260</td>\n",
       "    </tr>\n",
       "    <tr>\n",
       "      <th id=\"T_82a65_level0_row7\" class=\"row_heading level0 row7\" >7</th>\n",
       "      <td id=\"T_82a65_row7_col0\" class=\"data row7 col0\" >0.8169</td>\n",
       "      <td id=\"T_82a65_row7_col1\" class=\"data row7 col1\" >0.8942</td>\n",
       "      <td id=\"T_82a65_row7_col2\" class=\"data row7 col2\" >0.8323</td>\n",
       "      <td id=\"T_82a65_row7_col3\" class=\"data row7 col3\" >0.8075</td>\n",
       "      <td id=\"T_82a65_row7_col4\" class=\"data row7 col4\" >0.8197</td>\n",
       "      <td id=\"T_82a65_row7_col5\" class=\"data row7 col5\" >0.6338</td>\n",
       "      <td id=\"T_82a65_row7_col6\" class=\"data row7 col6\" >0.6341</td>\n",
       "    </tr>\n",
       "    <tr>\n",
       "      <th id=\"T_82a65_level0_row8\" class=\"row_heading level0 row8\" >8</th>\n",
       "      <td id=\"T_82a65_row8_col0\" class=\"data row8 col0\" >0.8176</td>\n",
       "      <td id=\"T_82a65_row8_col1\" class=\"data row8 col1\" >0.8940</td>\n",
       "      <td id=\"T_82a65_row8_col2\" class=\"data row8 col2\" >0.8376</td>\n",
       "      <td id=\"T_82a65_row8_col3\" class=\"data row8 col3\" >0.8053</td>\n",
       "      <td id=\"T_82a65_row8_col4\" class=\"data row8 col4\" >0.8212</td>\n",
       "      <td id=\"T_82a65_row8_col5\" class=\"data row8 col5\" >0.6351</td>\n",
       "      <td id=\"T_82a65_row8_col6\" class=\"data row8 col6\" >0.6356</td>\n",
       "    </tr>\n",
       "    <tr>\n",
       "      <th id=\"T_82a65_level0_row9\" class=\"row_heading level0 row9\" >9</th>\n",
       "      <td id=\"T_82a65_row9_col0\" class=\"data row9 col0\" >0.8149</td>\n",
       "      <td id=\"T_82a65_row9_col1\" class=\"data row9 col1\" >0.8929</td>\n",
       "      <td id=\"T_82a65_row9_col2\" class=\"data row9 col2\" >0.8320</td>\n",
       "      <td id=\"T_82a65_row9_col3\" class=\"data row9 col3\" >0.8045</td>\n",
       "      <td id=\"T_82a65_row9_col4\" class=\"data row9 col4\" >0.8180</td>\n",
       "      <td id=\"T_82a65_row9_col5\" class=\"data row9 col5\" >0.6298</td>\n",
       "      <td id=\"T_82a65_row9_col6\" class=\"data row9 col6\" >0.6302</td>\n",
       "    </tr>\n",
       "    <tr>\n",
       "      <th id=\"T_82a65_level0_row10\" class=\"row_heading level0 row10\" >Mean</th>\n",
       "      <td id=\"T_82a65_row10_col0\" class=\"data row10 col0\" >0.8163</td>\n",
       "      <td id=\"T_82a65_row10_col1\" class=\"data row10 col1\" >0.8942</td>\n",
       "      <td id=\"T_82a65_row10_col2\" class=\"data row10 col2\" >0.8389</td>\n",
       "      <td id=\"T_82a65_row10_col3\" class=\"data row10 col3\" >0.8027</td>\n",
       "      <td id=\"T_82a65_row10_col4\" class=\"data row10 col4\" >0.8204</td>\n",
       "      <td id=\"T_82a65_row10_col5\" class=\"data row10 col5\" >0.6326</td>\n",
       "      <td id=\"T_82a65_row10_col6\" class=\"data row10 col6\" >0.6333</td>\n",
       "    </tr>\n",
       "    <tr>\n",
       "      <th id=\"T_82a65_level0_row11\" class=\"row_heading level0 row11\" >Std</th>\n",
       "      <td id=\"T_82a65_row11_col0\" class=\"data row11 col0\" >0.0021</td>\n",
       "      <td id=\"T_82a65_row11_col1\" class=\"data row11 col1\" >0.0009</td>\n",
       "      <td id=\"T_82a65_row11_col2\" class=\"data row11 col2\" >0.0066</td>\n",
       "      <td id=\"T_82a65_row11_col3\" class=\"data row11 col3\" >0.0029</td>\n",
       "      <td id=\"T_82a65_row11_col4\" class=\"data row11 col4\" >0.0026</td>\n",
       "      <td id=\"T_82a65_row11_col5\" class=\"data row11 col5\" >0.0042</td>\n",
       "      <td id=\"T_82a65_row11_col6\" class=\"data row11 col6\" >0.0044</td>\n",
       "    </tr>\n",
       "  </tbody>\n",
       "</table>\n"
      ],
      "text/plain": [
       "<pandas.io.formats.style.Styler at 0x7fdc7243d900>"
      ]
     },
     "metadata": {},
     "output_type": "display_data"
    },
    {
     "data": {
      "text/html": [],
      "text/plain": [
       "<IPython.core.display.HTML object>"
      ]
     },
     "metadata": {},
     "output_type": "display_data"
    }
   ],
   "source": [
    "mlp = create_model('mlp')"
   ]
  },
  {
   "cell_type": "code",
   "execution_count": 57,
   "metadata": {},
   "outputs": [
    {
     "data": {
      "text/html": [],
      "text/plain": [
       "<IPython.core.display.HTML object>"
      ]
     },
     "metadata": {},
     "output_type": "display_data"
    },
    {
     "data": {
      "image/png": "[encoded data removed]",
      "text/plain": [
       "<Figure size 800x550 with 1 Axes>"
      ]
     },
     "metadata": {},
     "output_type": "display_data"
    }
   ],
   "source": [
    "plot_model(mlp, plot = 'confusion_matrix')"
   ]
  },
  {
   "cell_type": "code",
   "execution_count": 58,
   "metadata": {},
   "outputs": [
    {
     "data": {
      "text/html": [],
      "text/plain": [
       "<IPython.core.display.HTML object>"
      ]
     },
     "metadata": {},
     "output_type": "display_data"
    },
    {
     "data": {
      "image/png": "[encoded data removed]",
      "text/plain": [
       "<Figure size 800x550 with 1 Axes>"
      ]
     },
     "metadata": {},
     "output_type": "display_data"
    }
   ],
   "source": [
    "plot_model(mlp, plot = 'error')"
   ]
  },
  {
   "cell_type": "code",
   "execution_count": 59,
   "metadata": {},
   "outputs": [
    {
     "data": {
      "text/html": [],
      "text/plain": [
       "<IPython.core.display.HTML object>"
      ]
     },
     "metadata": {},
     "output_type": "display_data"
    },
    {
     "data": {
      "text/html": [
       "<div>\n",
       "<style scoped>\n",
       "    .dataframe tbody tr th:only-of-type {\n",
       "        vertical-align: middle;\n",
       "    }\n",
       "\n",
       "    .dataframe tbody tr th {\n",
       "        vertical-align: top;\n",
       "    }\n",
       "\n",
       "    .dataframe thead th {\n",
       "        text-align: right;\n",
       "    }\n",
       "</style>\n",
       "<table border=\"1\" class=\"dataframe\">\n",
       "  <thead>\n",
       "    <tr style=\"text-align: right;\">\n",
       "      <th></th>\n",
       "      <th>Parameters</th>\n",
       "    </tr>\n",
       "  </thead>\n",
       "  <tbody>\n",
       "    <tr>\n",
       "      <th>activation</th>\n",
       "      <td>relu</td>\n",
       "    </tr>\n",
       "    <tr>\n",
       "      <th>alpha</th>\n",
       "      <td>0.0001</td>\n",
       "    </tr>\n",
       "    <tr>\n",
       "      <th>batch_size</th>\n",
       "      <td>auto</td>\n",
       "    </tr>\n",
       "    <tr>\n",
       "      <th>beta_1</th>\n",
       "      <td>0.9</td>\n",
       "    </tr>\n",
       "    <tr>\n",
       "      <th>beta_2</th>\n",
       "      <td>0.999</td>\n",
       "    </tr>\n",
       "    <tr>\n",
       "      <th>early_stopping</th>\n",
       "      <td>False</td>\n",
       "    </tr>\n",
       "    <tr>\n",
       "      <th>epsilon</th>\n",
       "      <td>1e-08</td>\n",
       "    </tr>\n",
       "    <tr>\n",
       "      <th>hidden_layer_sizes</th>\n",
       "      <td>(100,)</td>\n",
       "    </tr>\n",
       "    <tr>\n",
       "      <th>learning_rate</th>\n",
       "      <td>constant</td>\n",
       "    </tr>\n",
       "    <tr>\n",
       "      <th>learning_rate_init</th>\n",
       "      <td>0.001</td>\n",
       "    </tr>\n",
       "    <tr>\n",
       "      <th>max_fun</th>\n",
       "      <td>15000</td>\n",
       "    </tr>\n",
       "    <tr>\n",
       "      <th>max_iter</th>\n",
       "      <td>500</td>\n",
       "    </tr>\n",
       "    <tr>\n",
       "      <th>momentum</th>\n",
       "      <td>0.9</td>\n",
       "    </tr>\n",
       "    <tr>\n",
       "      <th>n_iter_no_change</th>\n",
       "      <td>10</td>\n",
       "    </tr>\n",
       "    <tr>\n",
       "      <th>nesterovs_momentum</th>\n",
       "      <td>True</td>\n",
       "    </tr>\n",
       "    <tr>\n",
       "      <th>power_t</th>\n",
       "      <td>0.5</td>\n",
       "    </tr>\n",
       "    <tr>\n",
       "      <th>random_state</th>\n",
       "      <td>5136</td>\n",
       "    </tr>\n",
       "    <tr>\n",
       "      <th>shuffle</th>\n",
       "      <td>True</td>\n",
       "    </tr>\n",
       "    <tr>\n",
       "      <th>solver</th>\n",
       "      <td>adam</td>\n",
       "    </tr>\n",
       "    <tr>\n",
       "      <th>tol</th>\n",
       "      <td>0.0001</td>\n",
       "    </tr>\n",
       "    <tr>\n",
       "      <th>validation_fraction</th>\n",
       "      <td>0.1</td>\n",
       "    </tr>\n",
       "    <tr>\n",
       "      <th>verbose</th>\n",
       "      <td>False</td>\n",
       "    </tr>\n",
       "    <tr>\n",
       "      <th>warm_start</th>\n",
       "      <td>False</td>\n",
       "    </tr>\n",
       "  </tbody>\n",
       "</table>\n",
       "</div>"
      ],
      "text/plain": [
       "                    Parameters\n",
       "activation                relu\n",
       "alpha                   0.0001\n",
       "batch_size                auto\n",
       "beta_1                     0.9\n",
       "beta_2                   0.999\n",
       "early_stopping           False\n",
       "epsilon                  1e-08\n",
       "hidden_layer_sizes      (100,)\n",
       "learning_rate         constant\n",
       "learning_rate_init       0.001\n",
       "max_fun                  15000\n",
       "max_iter                   500\n",
       "momentum                   0.9\n",
       "n_iter_no_change            10\n",
       "nesterovs_momentum        True\n",
       "power_t                    0.5\n",
       "random_state              5136\n",
       "shuffle                   True\n",
       "solver                    adam\n",
       "tol                     0.0001\n",
       "validation_fraction        0.1\n",
       "verbose                  False\n",
       "warm_start               False"
      ]
     },
     "metadata": {},
     "output_type": "display_data"
    }
   ],
   "source": [
    "plot_model(mlp, plot = 'parameter')"
   ]
  },
  {
   "cell_type": "code",
   "execution_count": 60,
   "metadata": {
    "tags": []
   },
   "outputs": [
    {
     "ename": "FileNotFoundError",
     "evalue": "[Errno 2] No such file or directory: 'models_classif/convkb/binary_emb_val/mlp.pkl'",
     "output_type": "error",
     "traceback": [
      "\u001b[0;31m---------------------------------------------------------------------------\u001b[0m",
      "\u001b[0;31mFileNotFoundError\u001b[0m                         Traceback (most recent call last)",
      "Cell \u001b[0;32mIn[60], line 1\u001b[0m\n\u001b[0;32m----> 1\u001b[0m \u001b[43msave_model\u001b[49m\u001b[43m(\u001b[49m\u001b[43mmlp\u001b[49m\u001b[43m,\u001b[49m\u001b[43m \u001b[49m\u001b[38;5;124;43m'\u001b[39;49m\u001b[38;5;124;43mmodels_classif/convkb/binary_emb_val/mlp\u001b[39;49m\u001b[38;5;124;43m'\u001b[39;49m\u001b[43m)\u001b[49m\n",
      "File \u001b[0;32m~/miniconda3/envs/aled/lib/python3.10/site-packages/pycaret/utils/generic.py:965\u001b[0m, in \u001b[0;36mcheck_if_global_is_not_none.<locals>.decorator.<locals>.wrapper\u001b[0;34m(*args, **kwargs)\u001b[0m\n\u001b[1;32m    963\u001b[0m     \u001b[38;5;28;01mif\u001b[39;00m globals_d[name] \u001b[38;5;129;01mis\u001b[39;00m \u001b[38;5;28;01mNone\u001b[39;00m:\n\u001b[1;32m    964\u001b[0m         \u001b[38;5;28;01mraise\u001b[39;00m \u001b[38;5;167;01mValueError\u001b[39;00m(message)\n\u001b[0;32m--> 965\u001b[0m \u001b[38;5;28;01mreturn\u001b[39;00m \u001b[43mfunc\u001b[49m\u001b[43m(\u001b[49m\u001b[38;5;241;43m*\u001b[39;49m\u001b[43margs\u001b[49m\u001b[43m,\u001b[49m\u001b[43m \u001b[49m\u001b[38;5;241;43m*\u001b[39;49m\u001b[38;5;241;43m*\u001b[39;49m\u001b[43mkwargs\u001b[49m\u001b[43m)\u001b[49m\n",
      "File \u001b[0;32m~/miniconda3/envs/aled/lib/python3.10/site-packages/pycaret/classification/functional.py:2412\u001b[0m, in \u001b[0;36msave_model\u001b[0;34m(model, model_name, model_only, verbose, **kwargs)\u001b[0m\n\u001b[1;32m   2367\u001b[0m \u001b[38;5;129m@check_if_global_is_not_none\u001b[39m(\u001b[38;5;28mglobals\u001b[39m(), _CURRENT_EXPERIMENT_DECORATOR_DICT)\n\u001b[1;32m   2368\u001b[0m \u001b[38;5;28;01mdef\u001b[39;00m \u001b[38;5;21msave_model\u001b[39m(\n\u001b[1;32m   2369\u001b[0m     model, model_name: \u001b[38;5;28mstr\u001b[39m, model_only: \u001b[38;5;28mbool\u001b[39m \u001b[38;5;241m=\u001b[39m \u001b[38;5;28;01mFalse\u001b[39;00m, verbose: \u001b[38;5;28mbool\u001b[39m \u001b[38;5;241m=\u001b[39m \u001b[38;5;28;01mTrue\u001b[39;00m, \u001b[38;5;241m*\u001b[39m\u001b[38;5;241m*\u001b[39mkwargs\n\u001b[1;32m   2370\u001b[0m ):\n\u001b[1;32m   2372\u001b[0m     \u001b[38;5;124;03m\"\"\"\u001b[39;00m\n\u001b[1;32m   2373\u001b[0m \u001b[38;5;124;03m    This function saves the transformation pipeline and trained model object\u001b[39;00m\n\u001b[1;32m   2374\u001b[0m \u001b[38;5;124;03m    into the current working directory as a pickle file for later use.\u001b[39;00m\n\u001b[0;32m   (...)\u001b[0m\n\u001b[1;32m   2409\u001b[0m \n\u001b[1;32m   2410\u001b[0m \u001b[38;5;124;03m    \"\"\"\u001b[39;00m\n\u001b[0;32m-> 2412\u001b[0m     \u001b[38;5;28;01mreturn\u001b[39;00m \u001b[43m_CURRENT_EXPERIMENT\u001b[49m\u001b[38;5;241;43m.\u001b[39;49m\u001b[43msave_model\u001b[49m\u001b[43m(\u001b[49m\n\u001b[1;32m   2413\u001b[0m \u001b[43m        \u001b[49m\u001b[43mmodel\u001b[49m\u001b[38;5;241;43m=\u001b[39;49m\u001b[43mmodel\u001b[49m\u001b[43m,\u001b[49m\n\u001b[1;32m   2414\u001b[0m \u001b[43m        \u001b[49m\u001b[43mmodel_name\u001b[49m\u001b[38;5;241;43m=\u001b[39;49m\u001b[43mmodel_name\u001b[49m\u001b[43m,\u001b[49m\n\u001b[1;32m   2415\u001b[0m \u001b[43m        \u001b[49m\u001b[43mmodel_only\u001b[49m\u001b[38;5;241;43m=\u001b[39;49m\u001b[43mmodel_only\u001b[49m\u001b[43m,\u001b[49m\n\u001b[1;32m   2416\u001b[0m \u001b[43m        \u001b[49m\u001b[43mverbose\u001b[49m\u001b[38;5;241;43m=\u001b[39;49m\u001b[43mverbose\u001b[49m\u001b[43m,\u001b[49m\n\u001b[1;32m   2417\u001b[0m \u001b[43m        \u001b[49m\u001b[38;5;241;43m*\u001b[39;49m\u001b[38;5;241;43m*\u001b[39;49m\u001b[43mkwargs\u001b[49m\u001b[43m,\u001b[49m\n\u001b[1;32m   2418\u001b[0m \u001b[43m    \u001b[49m\u001b[43m)\u001b[49m\n",
      "File \u001b[0;32m~/miniconda3/envs/aled/lib/python3.10/site-packages/pycaret/classification/oop.py:3056\u001b[0m, in \u001b[0;36mClassificationExperiment.save_model\u001b[0;34m(self, model, model_name, model_only, verbose, **kwargs)\u001b[0m\n\u001b[1;32m   3007\u001b[0m \u001b[38;5;28;01mdef\u001b[39;00m \u001b[38;5;21msave_model\u001b[39m(\n\u001b[1;32m   3008\u001b[0m     \u001b[38;5;28mself\u001b[39m,\n\u001b[1;32m   3009\u001b[0m     model,\n\u001b[0;32m   (...)\u001b[0m\n\u001b[1;32m   3013\u001b[0m     \u001b[38;5;241m*\u001b[39m\u001b[38;5;241m*\u001b[39mkwargs,\n\u001b[1;32m   3014\u001b[0m ):\n\u001b[1;32m   3016\u001b[0m     \u001b[38;5;124;03m\"\"\"\u001b[39;00m\n\u001b[1;32m   3017\u001b[0m \u001b[38;5;124;03m    This function saves the transformation pipeline and trained model object\u001b[39;00m\n\u001b[1;32m   3018\u001b[0m \u001b[38;5;124;03m    into the current working directory as a pickle file for later use.\u001b[39;00m\n\u001b[0;32m   (...)\u001b[0m\n\u001b[1;32m   3053\u001b[0m \n\u001b[1;32m   3054\u001b[0m \u001b[38;5;124;03m    \"\"\"\u001b[39;00m\n\u001b[0;32m-> 3056\u001b[0m     \u001b[38;5;28;01mreturn\u001b[39;00m \u001b[38;5;28;43msuper\u001b[39;49m\u001b[43m(\u001b[49m\u001b[43m)\u001b[49m\u001b[38;5;241;43m.\u001b[39;49m\u001b[43msave_model\u001b[49m\u001b[43m(\u001b[49m\n\u001b[1;32m   3057\u001b[0m \u001b[43m        \u001b[49m\u001b[43mmodel\u001b[49m\u001b[38;5;241;43m=\u001b[39;49m\u001b[43mmodel\u001b[49m\u001b[43m,\u001b[49m\n\u001b[1;32m   3058\u001b[0m \u001b[43m        \u001b[49m\u001b[43mmodel_name\u001b[49m\u001b[38;5;241;43m=\u001b[39;49m\u001b[43mmodel_name\u001b[49m\u001b[43m,\u001b[49m\n\u001b[1;32m   3059\u001b[0m \u001b[43m        \u001b[49m\u001b[43mmodel_only\u001b[49m\u001b[38;5;241;43m=\u001b[39;49m\u001b[43mmodel_only\u001b[49m\u001b[43m,\u001b[49m\n\u001b[1;32m   3060\u001b[0m \u001b[43m        \u001b[49m\u001b[43mverbose\u001b[49m\u001b[38;5;241;43m=\u001b[39;49m\u001b[43mverbose\u001b[49m\u001b[43m,\u001b[49m\n\u001b[1;32m   3061\u001b[0m \u001b[43m        \u001b[49m\u001b[38;5;241;43m*\u001b[39;49m\u001b[38;5;241;43m*\u001b[39;49m\u001b[43mkwargs\u001b[49m\u001b[43m,\u001b[49m\n\u001b[1;32m   3062\u001b[0m \u001b[43m    \u001b[49m\u001b[43m)\u001b[49m\n",
      "File \u001b[0;32m~/miniconda3/envs/aled/lib/python3.10/site-packages/pycaret/internal/pycaret_experiment/tabular_experiment.py:2406\u001b[0m, in \u001b[0;36m_TabularExperiment.save_model\u001b[0;34m(self, model, model_name, model_only, verbose, **kwargs)\u001b[0m\n\u001b[1;32m   2403\u001b[0m \u001b[38;5;28;01melse\u001b[39;00m:\n\u001b[1;32m   2404\u001b[0m     pipeline_to_use \u001b[38;5;241m=\u001b[39m \u001b[38;5;28mself\u001b[39m\u001b[38;5;241m.\u001b[39mpipeline\n\u001b[0;32m-> 2406\u001b[0m model_, model_filename \u001b[38;5;241m=\u001b[39m \u001b[43mpycaret\u001b[49m\u001b[38;5;241;43m.\u001b[39;49m\u001b[43minternal\u001b[49m\u001b[38;5;241;43m.\u001b[39;49m\u001b[43mpersistence\u001b[49m\u001b[38;5;241;43m.\u001b[39;49m\u001b[43msave_model\u001b[49m\u001b[43m(\u001b[49m\n\u001b[1;32m   2407\u001b[0m \u001b[43m    \u001b[49m\u001b[43mmodel\u001b[49m\u001b[38;5;241;43m=\u001b[39;49m\u001b[43mmodel\u001b[49m\u001b[43m,\u001b[49m\n\u001b[1;32m   2408\u001b[0m \u001b[43m    \u001b[49m\u001b[43mmodel_name\u001b[49m\u001b[38;5;241;43m=\u001b[39;49m\u001b[43mmodel_name\u001b[49m\u001b[43m,\u001b[49m\n\u001b[1;32m   2409\u001b[0m \u001b[43m    \u001b[49m\u001b[43mprep_pipe_\u001b[49m\u001b[38;5;241;43m=\u001b[39;49m\u001b[38;5;28;43;01mNone\u001b[39;49;00m\u001b[43m \u001b[49m\u001b[38;5;28;43;01mif\u001b[39;49;00m\u001b[43m \u001b[49m\u001b[43mmodel_only\u001b[49m\u001b[43m \u001b[49m\u001b[38;5;28;43;01melse\u001b[39;49;00m\u001b[43m \u001b[49m\u001b[43mpipeline_to_use\u001b[49m\u001b[43m,\u001b[49m\n\u001b[1;32m   2410\u001b[0m \u001b[43m    \u001b[49m\u001b[43mverbose\u001b[49m\u001b[38;5;241;43m=\u001b[39;49m\u001b[43mverbose\u001b[49m\u001b[43m,\u001b[49m\n\u001b[1;32m   2411\u001b[0m \u001b[43m    \u001b[49m\u001b[43muse_case\u001b[49m\u001b[38;5;241;43m=\u001b[39;49m\u001b[38;5;28;43mself\u001b[39;49m\u001b[38;5;241;43m.\u001b[39;49m\u001b[43m_ml_usecase\u001b[49m\u001b[43m,\u001b[49m\n\u001b[1;32m   2412\u001b[0m \u001b[43m    \u001b[49m\u001b[38;5;241;43m*\u001b[39;49m\u001b[38;5;241;43m*\u001b[39;49m\u001b[43mkwargs\u001b[49m\u001b[43m,\u001b[49m\n\u001b[1;32m   2413\u001b[0m \u001b[43m\u001b[49m\u001b[43m)\u001b[49m\n\u001b[1;32m   2414\u001b[0m \u001b[38;5;28;01mif\u001b[39;00m \u001b[38;5;28mself\u001b[39m\u001b[38;5;241m.\u001b[39mlogging_param:\n\u001b[1;32m   2415\u001b[0m     [\n\u001b[1;32m   2416\u001b[0m         logger\u001b[38;5;241m.\u001b[39mlog_artifact(file\u001b[38;5;241m=\u001b[39mmodel_filename, \u001b[38;5;28mtype\u001b[39m\u001b[38;5;241m=\u001b[39m\u001b[38;5;124m\"\u001b[39m\u001b[38;5;124mmodel\u001b[39m\u001b[38;5;124m\"\u001b[39m)\n\u001b[1;32m   2417\u001b[0m         \u001b[38;5;28;01mfor\u001b[39;00m logger \u001b[38;5;129;01min\u001b[39;00m \u001b[38;5;28mself\u001b[39m\u001b[38;5;241m.\u001b[39mlogging_param\u001b[38;5;241m.\u001b[39mloggers\n\u001b[1;32m   2418\u001b[0m         \u001b[38;5;28;01mif\u001b[39;00m \u001b[38;5;28mhasattr\u001b[39m(logger, \u001b[38;5;124m\"\u001b[39m\u001b[38;5;124mremote\u001b[39m\u001b[38;5;124m\"\u001b[39m)\n\u001b[1;32m   2419\u001b[0m     ]\n",
      "File \u001b[0;32m~/miniconda3/envs/aled/lib/python3.10/site-packages/pycaret/internal/persistence.py:322\u001b[0m, in \u001b[0;36msave_model\u001b[0;34m(model, model_name, prep_pipe_, verbose, use_case, **kwargs)\u001b[0m\n\u001b[1;32m    319\u001b[0m         model_\u001b[38;5;241m.\u001b[39msteps\u001b[38;5;241m.\u001b[39mappend((\u001b[38;5;124m\"\u001b[39m\u001b[38;5;124mtrained_model\u001b[39m\u001b[38;5;124m\"\u001b[39m, model))\n\u001b[1;32m    321\u001b[0m model_name \u001b[38;5;241m=\u001b[39m \u001b[38;5;124mf\u001b[39m\u001b[38;5;124m\"\u001b[39m\u001b[38;5;132;01m{\u001b[39;00mmodel_name\u001b[38;5;132;01m}\u001b[39;00m\u001b[38;5;124m.pkl\u001b[39m\u001b[38;5;124m\"\u001b[39m\n\u001b[0;32m--> 322\u001b[0m \u001b[43mjoblib\u001b[49m\u001b[38;5;241;43m.\u001b[39;49m\u001b[43mdump\u001b[49m\u001b[43m(\u001b[49m\u001b[43mmodel_\u001b[49m\u001b[43m,\u001b[49m\u001b[43m \u001b[49m\u001b[43mmodel_name\u001b[49m\u001b[43m,\u001b[49m\u001b[43m \u001b[49m\u001b[38;5;241;43m*\u001b[39;49m\u001b[38;5;241;43m*\u001b[39;49m\u001b[43mkwargs\u001b[49m\u001b[43m)\u001b[49m\n\u001b[1;32m    323\u001b[0m \u001b[38;5;28;01mif\u001b[39;00m verbose:\n\u001b[1;32m    324\u001b[0m     \u001b[38;5;28mprint\u001b[39m(\u001b[38;5;124m\"\u001b[39m\u001b[38;5;124mTransformation Pipeline and Model Successfully Saved\u001b[39m\u001b[38;5;124m\"\u001b[39m)\n",
      "File \u001b[0;32m~/miniconda3/envs/aled/lib/python3.10/site-packages/joblib/numpy_pickle.py:552\u001b[0m, in \u001b[0;36mdump\u001b[0;34m(value, filename, compress, protocol, cache_size)\u001b[0m\n\u001b[1;32m    550\u001b[0m         NumpyPickler(f, protocol\u001b[38;5;241m=\u001b[39mprotocol)\u001b[38;5;241m.\u001b[39mdump(value)\n\u001b[1;32m    551\u001b[0m \u001b[38;5;28;01melif\u001b[39;00m is_filename:\n\u001b[0;32m--> 552\u001b[0m     \u001b[38;5;28;01mwith\u001b[39;00m \u001b[38;5;28;43mopen\u001b[39;49m\u001b[43m(\u001b[49m\u001b[43mfilename\u001b[49m\u001b[43m,\u001b[49m\u001b[43m \u001b[49m\u001b[38;5;124;43m'\u001b[39;49m\u001b[38;5;124;43mwb\u001b[39;49m\u001b[38;5;124;43m'\u001b[39;49m\u001b[43m)\u001b[49m \u001b[38;5;28;01mas\u001b[39;00m f:\n\u001b[1;32m    553\u001b[0m         NumpyPickler(f, protocol\u001b[38;5;241m=\u001b[39mprotocol)\u001b[38;5;241m.\u001b[39mdump(value)\n\u001b[1;32m    554\u001b[0m \u001b[38;5;28;01melse\u001b[39;00m:\n",
      "\u001b[0;31mFileNotFoundError\u001b[0m: [Errno 2] No such file or directory: 'models_classif/convkb/binary_emb_val/mlp.pkl'"
     ]
    }
   ],
   "source": [
    "save_model(mlp, 'models_classif/convkb/binary_emb_val/mlp')"
   ]
  }
 ],
 "metadata": {
  "kernelspec": {
   "display_name": "Python 3 (ipykernel)",
   "language": "python",
   "name": "python3"
  },
  "language_info": {
   "codemirror_mode": {
    "name": "ipython",
    "version": 3
   },
   "file_extension": ".py",
   "mimetype": "text/x-python",
   "name": "python",
   "nbconvert_exporter": "python",
   "pygments_lexer": "ipython3",
   "version": "3.10.9"
  },
  "vscode": {
   "interpreter": {
    "hash": "bad715aa2aaeb5e6c151df84b54974e4cb5c7f8696a7ce08edfdc275e59caf55"
   }
  }
 },
 "nbformat": 4,
 "nbformat_minor": 4
}
