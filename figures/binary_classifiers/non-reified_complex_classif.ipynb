{
 "cells": [
  {
   "cell_type": "code",
   "execution_count": 1,
   "metadata": {
    "tags": []
   },
   "outputs": [
    {
     "name": "stderr",
     "output_type": "stream",
     "text": [
      "\u001b[34m\u001b[1mwandb\u001b[0m: Currently logged in as: \u001b[33mantoine-toffano\u001b[0m (\u001b[33mmlb\u001b[0m). Use \u001b[1m`wandb login --relogin`\u001b[0m to force relogin\n"
     ]
    },
    {
     "data": {
      "text/html": [
       "wandb version 0.15.3 is available!  To upgrade, please run:\n",
       " $ pip install wandb --upgrade"
      ],
      "text/plain": [
       "<IPython.core.display.HTML object>"
      ]
     },
     "metadata": {},
     "output_type": "display_data"
    },
    {
     "data": {
      "text/html": [
       "Tracking run with wandb version 0.14.0"
      ],
      "text/plain": [
       "<IPython.core.display.HTML object>"
      ]
     },
     "metadata": {},
     "output_type": "display_data"
    },
    {
     "data": {
      "text/html": [
       "Run data is saved locally in <code>/home/antoine/gene_pheno_pred/wandb/run-20230531_175222-4s6tpkyd</code>"
      ],
      "text/plain": [
       "<IPython.core.display.HTML object>"
      ]
     },
     "metadata": {},
     "output_type": "display_data"
    },
    {
     "data": {
      "text/html": [
       "Syncing run <strong><a href='https://wandb.ai/mlb/cigap-classif/runs/4s6tpkyd' target=\"_blank\">eager-flower-53</a></strong> to <a href='https://wandb.ai/mlb/cigap-classif' target=\"_blank\">Weights & Biases</a> (<a href='https://wandb.me/run' target=\"_blank\">docs</a>)<br/>"
      ],
      "text/plain": [
       "<IPython.core.display.HTML object>"
      ]
     },
     "metadata": {},
     "output_type": "display_data"
    },
    {
     "data": {
      "text/html": [
       " View project at <a href='https://wandb.ai/mlb/cigap-classif' target=\"_blank\">https://wandb.ai/mlb/cigap-classif</a>"
      ],
      "text/plain": [
       "<IPython.core.display.HTML object>"
      ]
     },
     "metadata": {},
     "output_type": "display_data"
    },
    {
     "data": {
      "text/html": [
       " View run at <a href='https://wandb.ai/mlb/cigap-classif/runs/4s6tpkyd' target=\"_blank\">https://wandb.ai/mlb/cigap-classif/runs/4s6tpkyd</a>"
      ],
      "text/plain": [
       "<IPython.core.display.HTML object>"
      ]
     },
     "metadata": {},
     "output_type": "display_data"
    },
    {
     "data": {
      "text/html": [
       "<button onClick=\"this.nextSibling.style.display='block';this.style.display='none';\">Display W&B run</button><iframe src='https://wandb.ai/mlb/cigap-classif/runs/4s6tpkyd?jupyter=true' style='border:none;width:100%;height:420px;display:none;'></iframe>"
      ],
      "text/plain": [
       "<wandb.sdk.wandb_run.Run at 0x7f7e78d68a00>"
      ]
     },
     "execution_count": 1,
     "metadata": {},
     "output_type": "execute_result"
    }
   ],
   "source": [
    "from pycaret.classification import *\n",
    "import pandas as pd\n",
    "import os\n",
    "import wandb\n",
    "\n",
    "os.chdir('/home/antoine/gene_pheno_pred')\n",
    "os.environ[\"CUDA_VISIBLE_DEVICES\"]=\"2\"\n",
    "os.environ[\"WANDB_API_KEY\"]=\"4e5748d6c6f3917c78cdc38a516a1bac776faf58\"\n",
    "wandb.login()\n",
    "wandb.init(\n",
    "    project=\"cigap-classif\",\n",
    ")\n"
   ]
  },
  {
   "cell_type": "code",
   "execution_count": 2,
   "metadata": {
    "tags": []
   },
   "outputs": [],
   "source": [
    "df = pd.read_csv('/home/antoine/gene_pheno_pred/non-reified_ComplEx_2023-05-04_17-19-26_kg_test.csv' , header=0)\n",
    "\n",
    "\n",
    "df['link'] = df['relation'].apply(lambda x: 1 if x != 'no_link_known' else 0)\n"
   ]
  },
  {
   "cell_type": "code",
   "execution_count": 3,
   "metadata": {},
   "outputs": [
    {
     "data": {
      "text/html": [
       "<div>\n",
       "<style scoped>\n",
       "    .dataframe tbody tr th:only-of-type {\n",
       "        vertical-align: middle;\n",
       "    }\n",
       "\n",
       "    .dataframe tbody tr th {\n",
       "        vertical-align: top;\n",
       "    }\n",
       "\n",
       "    .dataframe thead th {\n",
       "        text-align: right;\n",
       "    }\n",
       "</style>\n",
       "<table border=\"1\" class=\"dataframe\">\n",
       "  <thead>\n",
       "    <tr style=\"text-align: right;\">\n",
       "      <th></th>\n",
       "      <th>0</th>\n",
       "      <th>1</th>\n",
       "      <th>2</th>\n",
       "      <th>3</th>\n",
       "      <th>4</th>\n",
       "      <th>5</th>\n",
       "      <th>6</th>\n",
       "      <th>7</th>\n",
       "      <th>8</th>\n",
       "      <th>9</th>\n",
       "      <th>...</th>\n",
       "      <th>191</th>\n",
       "      <th>192</th>\n",
       "      <th>193</th>\n",
       "      <th>194</th>\n",
       "      <th>195</th>\n",
       "      <th>196</th>\n",
       "      <th>197</th>\n",
       "      <th>198</th>\n",
       "      <th>199</th>\n",
       "      <th>link</th>\n",
       "    </tr>\n",
       "  </thead>\n",
       "  <tbody>\n",
       "    <tr>\n",
       "      <th>0</th>\n",
       "      <td>0.010664</td>\n",
       "      <td>-0.011980</td>\n",
       "      <td>0.008825</td>\n",
       "      <td>-0.001109</td>\n",
       "      <td>0.002071</td>\n",
       "      <td>-0.009517</td>\n",
       "      <td>-0.000131</td>\n",
       "      <td>0.007536</td>\n",
       "      <td>-0.003947</td>\n",
       "      <td>0.014834</td>\n",
       "      <td>...</td>\n",
       "      <td>-0.039790</td>\n",
       "      <td>0.017908</td>\n",
       "      <td>0.021286</td>\n",
       "      <td>-0.009193</td>\n",
       "      <td>-0.016160</td>\n",
       "      <td>-0.022982</td>\n",
       "      <td>0.003533</td>\n",
       "      <td>-0.014846</td>\n",
       "      <td>-0.027964</td>\n",
       "      <td>1</td>\n",
       "    </tr>\n",
       "    <tr>\n",
       "      <th>1</th>\n",
       "      <td>0.017910</td>\n",
       "      <td>-0.019799</td>\n",
       "      <td>-0.003497</td>\n",
       "      <td>0.006206</td>\n",
       "      <td>0.021544</td>\n",
       "      <td>-0.012053</td>\n",
       "      <td>0.002805</td>\n",
       "      <td>0.009964</td>\n",
       "      <td>-0.013281</td>\n",
       "      <td>0.014182</td>\n",
       "      <td>...</td>\n",
       "      <td>-0.024756</td>\n",
       "      <td>0.009630</td>\n",
       "      <td>0.020170</td>\n",
       "      <td>0.012805</td>\n",
       "      <td>-0.003713</td>\n",
       "      <td>-0.004595</td>\n",
       "      <td>-0.006311</td>\n",
       "      <td>-0.008897</td>\n",
       "      <td>-0.022505</td>\n",
       "      <td>1</td>\n",
       "    </tr>\n",
       "    <tr>\n",
       "      <th>2</th>\n",
       "      <td>0.022666</td>\n",
       "      <td>-0.017407</td>\n",
       "      <td>-0.004189</td>\n",
       "      <td>-0.013476</td>\n",
       "      <td>0.001532</td>\n",
       "      <td>0.004740</td>\n",
       "      <td>0.013368</td>\n",
       "      <td>-0.006697</td>\n",
       "      <td>-0.006506</td>\n",
       "      <td>0.004584</td>\n",
       "      <td>...</td>\n",
       "      <td>-0.015729</td>\n",
       "      <td>0.011884</td>\n",
       "      <td>0.015654</td>\n",
       "      <td>0.005247</td>\n",
       "      <td>-0.017701</td>\n",
       "      <td>-0.001056</td>\n",
       "      <td>-0.008445</td>\n",
       "      <td>-0.001667</td>\n",
       "      <td>-0.019614</td>\n",
       "      <td>0</td>\n",
       "    </tr>\n",
       "    <tr>\n",
       "      <th>3</th>\n",
       "      <td>0.003753</td>\n",
       "      <td>-0.036309</td>\n",
       "      <td>0.000047</td>\n",
       "      <td>-0.006938</td>\n",
       "      <td>0.014715</td>\n",
       "      <td>0.016097</td>\n",
       "      <td>-0.010706</td>\n",
       "      <td>-0.018616</td>\n",
       "      <td>-0.002208</td>\n",
       "      <td>0.010539</td>\n",
       "      <td>...</td>\n",
       "      <td>-0.020852</td>\n",
       "      <td>0.004019</td>\n",
       "      <td>0.032244</td>\n",
       "      <td>0.015460</td>\n",
       "      <td>-0.013882</td>\n",
       "      <td>-0.037042</td>\n",
       "      <td>-0.009463</td>\n",
       "      <td>0.006007</td>\n",
       "      <td>-0.013959</td>\n",
       "      <td>1</td>\n",
       "    </tr>\n",
       "    <tr>\n",
       "      <th>4</th>\n",
       "      <td>-0.005281</td>\n",
       "      <td>-0.026076</td>\n",
       "      <td>-0.019680</td>\n",
       "      <td>-0.021396</td>\n",
       "      <td>0.012004</td>\n",
       "      <td>0.019365</td>\n",
       "      <td>-0.011596</td>\n",
       "      <td>-0.005094</td>\n",
       "      <td>0.002416</td>\n",
       "      <td>0.014984</td>\n",
       "      <td>...</td>\n",
       "      <td>-0.022958</td>\n",
       "      <td>0.012173</td>\n",
       "      <td>0.001892</td>\n",
       "      <td>-0.001775</td>\n",
       "      <td>-0.005070</td>\n",
       "      <td>-0.025006</td>\n",
       "      <td>-0.005543</td>\n",
       "      <td>-0.004018</td>\n",
       "      <td>-0.008074</td>\n",
       "      <td>0</td>\n",
       "    </tr>\n",
       "    <tr>\n",
       "      <th>...</th>\n",
       "      <td>...</td>\n",
       "      <td>...</td>\n",
       "      <td>...</td>\n",
       "      <td>...</td>\n",
       "      <td>...</td>\n",
       "      <td>...</td>\n",
       "      <td>...</td>\n",
       "      <td>...</td>\n",
       "      <td>...</td>\n",
       "      <td>...</td>\n",
       "      <td>...</td>\n",
       "      <td>...</td>\n",
       "      <td>...</td>\n",
       "      <td>...</td>\n",
       "      <td>...</td>\n",
       "      <td>...</td>\n",
       "      <td>...</td>\n",
       "      <td>...</td>\n",
       "      <td>...</td>\n",
       "      <td>...</td>\n",
       "      <td>...</td>\n",
       "    </tr>\n",
       "    <tr>\n",
       "      <th>134399</th>\n",
       "      <td>0.009955</td>\n",
       "      <td>-0.012747</td>\n",
       "      <td>-0.004866</td>\n",
       "      <td>-0.009893</td>\n",
       "      <td>0.025424</td>\n",
       "      <td>-0.001160</td>\n",
       "      <td>0.011943</td>\n",
       "      <td>0.002108</td>\n",
       "      <td>-0.020134</td>\n",
       "      <td>0.010159</td>\n",
       "      <td>...</td>\n",
       "      <td>-0.034381</td>\n",
       "      <td>0.010104</td>\n",
       "      <td>0.020711</td>\n",
       "      <td>0.005491</td>\n",
       "      <td>-0.004754</td>\n",
       "      <td>-0.001326</td>\n",
       "      <td>-0.010531</td>\n",
       "      <td>-0.013573</td>\n",
       "      <td>-0.008247</td>\n",
       "      <td>1</td>\n",
       "    </tr>\n",
       "    <tr>\n",
       "      <th>134400</th>\n",
       "      <td>0.021310</td>\n",
       "      <td>-0.015784</td>\n",
       "      <td>-0.003341</td>\n",
       "      <td>-0.006027</td>\n",
       "      <td>0.012064</td>\n",
       "      <td>-0.005978</td>\n",
       "      <td>0.008824</td>\n",
       "      <td>0.010720</td>\n",
       "      <td>-0.012393</td>\n",
       "      <td>0.021162</td>\n",
       "      <td>...</td>\n",
       "      <td>-0.030197</td>\n",
       "      <td>0.021868</td>\n",
       "      <td>0.015658</td>\n",
       "      <td>0.002969</td>\n",
       "      <td>-0.024738</td>\n",
       "      <td>-0.015730</td>\n",
       "      <td>-0.001295</td>\n",
       "      <td>-0.021415</td>\n",
       "      <td>-0.016826</td>\n",
       "      <td>0</td>\n",
       "    </tr>\n",
       "    <tr>\n",
       "      <th>134401</th>\n",
       "      <td>0.017643</td>\n",
       "      <td>-0.019842</td>\n",
       "      <td>-0.007248</td>\n",
       "      <td>-0.022572</td>\n",
       "      <td>0.009540</td>\n",
       "      <td>-0.014694</td>\n",
       "      <td>-0.005473</td>\n",
       "      <td>-0.011792</td>\n",
       "      <td>-0.024103</td>\n",
       "      <td>0.007038</td>\n",
       "      <td>...</td>\n",
       "      <td>-0.034046</td>\n",
       "      <td>0.011737</td>\n",
       "      <td>0.020539</td>\n",
       "      <td>0.011920</td>\n",
       "      <td>-0.014578</td>\n",
       "      <td>-0.016056</td>\n",
       "      <td>-0.007185</td>\n",
       "      <td>-0.004313</td>\n",
       "      <td>-0.022517</td>\n",
       "      <td>0</td>\n",
       "    </tr>\n",
       "    <tr>\n",
       "      <th>134402</th>\n",
       "      <td>0.026939</td>\n",
       "      <td>-0.008446</td>\n",
       "      <td>0.006944</td>\n",
       "      <td>-0.028036</td>\n",
       "      <td>0.007666</td>\n",
       "      <td>-0.004784</td>\n",
       "      <td>-0.005890</td>\n",
       "      <td>-0.015660</td>\n",
       "      <td>-0.012316</td>\n",
       "      <td>-0.001805</td>\n",
       "      <td>...</td>\n",
       "      <td>-0.018505</td>\n",
       "      <td>0.011068</td>\n",
       "      <td>-0.006902</td>\n",
       "      <td>0.006112</td>\n",
       "      <td>0.002233</td>\n",
       "      <td>-0.002903</td>\n",
       "      <td>-0.009178</td>\n",
       "      <td>-0.002572</td>\n",
       "      <td>-0.019197</td>\n",
       "      <td>0</td>\n",
       "    </tr>\n",
       "    <tr>\n",
       "      <th>134403</th>\n",
       "      <td>0.024817</td>\n",
       "      <td>-0.021777</td>\n",
       "      <td>0.005045</td>\n",
       "      <td>-0.013907</td>\n",
       "      <td>0.010713</td>\n",
       "      <td>0.006204</td>\n",
       "      <td>-0.017689</td>\n",
       "      <td>0.004699</td>\n",
       "      <td>-0.016363</td>\n",
       "      <td>0.013952</td>\n",
       "      <td>...</td>\n",
       "      <td>-0.028995</td>\n",
       "      <td>0.011825</td>\n",
       "      <td>0.017394</td>\n",
       "      <td>0.006960</td>\n",
       "      <td>-0.008353</td>\n",
       "      <td>0.008353</td>\n",
       "      <td>-0.011821</td>\n",
       "      <td>-0.006888</td>\n",
       "      <td>-0.001546</td>\n",
       "      <td>0</td>\n",
       "    </tr>\n",
       "  </tbody>\n",
       "</table>\n",
       "<p>134404 rows × 201 columns</p>\n",
       "</div>"
      ],
      "text/plain": [
       "               0         1         2         3         4         5         6  \\\n",
       "0       0.010664 -0.011980  0.008825 -0.001109  0.002071 -0.009517 -0.000131   \n",
       "1       0.017910 -0.019799 -0.003497  0.006206  0.021544 -0.012053  0.002805   \n",
       "2       0.022666 -0.017407 -0.004189 -0.013476  0.001532  0.004740  0.013368   \n",
       "3       0.003753 -0.036309  0.000047 -0.006938  0.014715  0.016097 -0.010706   \n",
       "4      -0.005281 -0.026076 -0.019680 -0.021396  0.012004  0.019365 -0.011596   \n",
       "...          ...       ...       ...       ...       ...       ...       ...   \n",
       "134399  0.009955 -0.012747 -0.004866 -0.009893  0.025424 -0.001160  0.011943   \n",
       "134400  0.021310 -0.015784 -0.003341 -0.006027  0.012064 -0.005978  0.008824   \n",
       "134401  0.017643 -0.019842 -0.007248 -0.022572  0.009540 -0.014694 -0.005473   \n",
       "134402  0.026939 -0.008446  0.006944 -0.028036  0.007666 -0.004784 -0.005890   \n",
       "134403  0.024817 -0.021777  0.005045 -0.013907  0.010713  0.006204 -0.017689   \n",
       "\n",
       "               7         8         9  ...       191       192       193  \\\n",
       "0       0.007536 -0.003947  0.014834  ... -0.039790  0.017908  0.021286   \n",
       "1       0.009964 -0.013281  0.014182  ... -0.024756  0.009630  0.020170   \n",
       "2      -0.006697 -0.006506  0.004584  ... -0.015729  0.011884  0.015654   \n",
       "3      -0.018616 -0.002208  0.010539  ... -0.020852  0.004019  0.032244   \n",
       "4      -0.005094  0.002416  0.014984  ... -0.022958  0.012173  0.001892   \n",
       "...          ...       ...       ...  ...       ...       ...       ...   \n",
       "134399  0.002108 -0.020134  0.010159  ... -0.034381  0.010104  0.020711   \n",
       "134400  0.010720 -0.012393  0.021162  ... -0.030197  0.021868  0.015658   \n",
       "134401 -0.011792 -0.024103  0.007038  ... -0.034046  0.011737  0.020539   \n",
       "134402 -0.015660 -0.012316 -0.001805  ... -0.018505  0.011068 -0.006902   \n",
       "134403  0.004699 -0.016363  0.013952  ... -0.028995  0.011825  0.017394   \n",
       "\n",
       "             194       195       196       197       198       199  link  \n",
       "0      -0.009193 -0.016160 -0.022982  0.003533 -0.014846 -0.027964     1  \n",
       "1       0.012805 -0.003713 -0.004595 -0.006311 -0.008897 -0.022505     1  \n",
       "2       0.005247 -0.017701 -0.001056 -0.008445 -0.001667 -0.019614     0  \n",
       "3       0.015460 -0.013882 -0.037042 -0.009463  0.006007 -0.013959     1  \n",
       "4      -0.001775 -0.005070 -0.025006 -0.005543 -0.004018 -0.008074     0  \n",
       "...          ...       ...       ...       ...       ...       ...   ...  \n",
       "134399  0.005491 -0.004754 -0.001326 -0.010531 -0.013573 -0.008247     1  \n",
       "134400  0.002969 -0.024738 -0.015730 -0.001295 -0.021415 -0.016826     0  \n",
       "134401  0.011920 -0.014578 -0.016056 -0.007185 -0.004313 -0.022517     0  \n",
       "134402  0.006112  0.002233 -0.002903 -0.009178 -0.002572 -0.019197     0  \n",
       "134403  0.006960 -0.008353  0.008353 -0.011821 -0.006888 -0.001546     0  \n",
       "\n",
       "[134404 rows x 201 columns]"
      ]
     },
     "execution_count": 3,
     "metadata": {},
     "output_type": "execute_result"
    }
   ],
   "source": [
    "df_num = df.drop(['head', 'relation', 'tail'], axis=1)\n",
    "df_num"
   ]
  },
  {
   "cell_type": "code",
   "execution_count": 4,
   "metadata": {
    "tags": []
   },
   "outputs": [
    {
     "name": "stderr",
     "output_type": "stream",
     "text": [
      "[LightGBM] [Fatal] GPU Tree Learner was not enabled in this build.\n",
      "Please recompile with CMake option -DUSE_GPU=1\n",
      "[LightGBM] [Fatal] CUDA Tree Learner was not enabled in this build.\n",
      "Please recompile with CMake option -DUSE_CUDA=1\n",
      "[LightGBM] [Fatal] GPU Tree Learner was not enabled in this build.\n",
      "Please recompile with CMake option -DUSE_GPU=1\n",
      "[LightGBM] [Fatal] CUDA Tree Learner was not enabled in this build.\n",
      "Please recompile with CMake option -DUSE_CUDA=1\n",
      "[LightGBM] [Fatal] GPU Tree Learner was not enabled in this build.\n",
      "Please recompile with CMake option -DUSE_GPU=1\n",
      "[LightGBM] [Fatal] CUDA Tree Learner was not enabled in this build.\n",
      "Please recompile with CMake option -DUSE_CUDA=1\n",
      "[LightGBM] [Fatal] GPU Tree Learner was not enabled in this build.\n",
      "Please recompile with CMake option -DUSE_GPU=1\n",
      "[LightGBM] [Fatal] CUDA Tree Learner was not enabled in this build.\n",
      "Please recompile with CMake option -DUSE_CUDA=1\n",
      "[LightGBM] [Fatal] GPU Tree Learner was not enabled in this build.\n",
      "Please recompile with CMake option -DUSE_GPU=1\n",
      "[LightGBM] [Fatal] CUDA Tree Learner was not enabled in this build.\n",
      "Please recompile with CMake option -DUSE_CUDA=1\n",
      "[LightGBM] [Fatal] GPU Tree Learner was not enabled in this build.\n",
      "Please recompile with CMake option -DUSE_GPU=1\n",
      "[LightGBM] [Fatal] CUDA Tree Learner was not enabled in this build.\n",
      "Please recompile with CMake option -DUSE_CUDA=1\n"
     ]
    },
    {
     "data": {
      "text/html": [
       "<style type=\"text/css\">\n",
       "#T_48b69_row8_col1, #T_48b69_row15_col1 {\n",
       "  background-color: lightgreen;\n",
       "}\n",
       "</style>\n",
       "<table id=\"T_48b69\">\n",
       "  <thead>\n",
       "    <tr>\n",
       "      <th class=\"blank level0\" >&nbsp;</th>\n",
       "      <th id=\"T_48b69_level0_col0\" class=\"col_heading level0 col0\" >Description</th>\n",
       "      <th id=\"T_48b69_level0_col1\" class=\"col_heading level0 col1\" >Value</th>\n",
       "    </tr>\n",
       "  </thead>\n",
       "  <tbody>\n",
       "    <tr>\n",
       "      <th id=\"T_48b69_level0_row0\" class=\"row_heading level0 row0\" >0</th>\n",
       "      <td id=\"T_48b69_row0_col0\" class=\"data row0 col0\" >Session id</td>\n",
       "      <td id=\"T_48b69_row0_col1\" class=\"data row0 col1\" >4991</td>\n",
       "    </tr>\n",
       "    <tr>\n",
       "      <th id=\"T_48b69_level0_row1\" class=\"row_heading level0 row1\" >1</th>\n",
       "      <td id=\"T_48b69_row1_col0\" class=\"data row1 col0\" >Target</td>\n",
       "      <td id=\"T_48b69_row1_col1\" class=\"data row1 col1\" >link</td>\n",
       "    </tr>\n",
       "    <tr>\n",
       "      <th id=\"T_48b69_level0_row2\" class=\"row_heading level0 row2\" >2</th>\n",
       "      <td id=\"T_48b69_row2_col0\" class=\"data row2 col0\" >Target type</td>\n",
       "      <td id=\"T_48b69_row2_col1\" class=\"data row2 col1\" >Binary</td>\n",
       "    </tr>\n",
       "    <tr>\n",
       "      <th id=\"T_48b69_level0_row3\" class=\"row_heading level0 row3\" >3</th>\n",
       "      <td id=\"T_48b69_row3_col0\" class=\"data row3 col0\" >Original data shape</td>\n",
       "      <td id=\"T_48b69_row3_col1\" class=\"data row3 col1\" >(134404, 201)</td>\n",
       "    </tr>\n",
       "    <tr>\n",
       "      <th id=\"T_48b69_level0_row4\" class=\"row_heading level0 row4\" >4</th>\n",
       "      <td id=\"T_48b69_row4_col0\" class=\"data row4 col0\" >Transformed data shape</td>\n",
       "      <td id=\"T_48b69_row4_col1\" class=\"data row4 col1\" >(134404, 201)</td>\n",
       "    </tr>\n",
       "    <tr>\n",
       "      <th id=\"T_48b69_level0_row5\" class=\"row_heading level0 row5\" >5</th>\n",
       "      <td id=\"T_48b69_row5_col0\" class=\"data row5 col0\" >Transformed train set shape</td>\n",
       "      <td id=\"T_48b69_row5_col1\" class=\"data row5 col1\" >(107523, 201)</td>\n",
       "    </tr>\n",
       "    <tr>\n",
       "      <th id=\"T_48b69_level0_row6\" class=\"row_heading level0 row6\" >6</th>\n",
       "      <td id=\"T_48b69_row6_col0\" class=\"data row6 col0\" >Transformed test set shape</td>\n",
       "      <td id=\"T_48b69_row6_col1\" class=\"data row6 col1\" >(26881, 201)</td>\n",
       "    </tr>\n",
       "    <tr>\n",
       "      <th id=\"T_48b69_level0_row7\" class=\"row_heading level0 row7\" >7</th>\n",
       "      <td id=\"T_48b69_row7_col0\" class=\"data row7 col0\" >Numeric features</td>\n",
       "      <td id=\"T_48b69_row7_col1\" class=\"data row7 col1\" >200</td>\n",
       "    </tr>\n",
       "    <tr>\n",
       "      <th id=\"T_48b69_level0_row8\" class=\"row_heading level0 row8\" >8</th>\n",
       "      <td id=\"T_48b69_row8_col0\" class=\"data row8 col0\" >Preprocess</td>\n",
       "      <td id=\"T_48b69_row8_col1\" class=\"data row8 col1\" >True</td>\n",
       "    </tr>\n",
       "    <tr>\n",
       "      <th id=\"T_48b69_level0_row9\" class=\"row_heading level0 row9\" >9</th>\n",
       "      <td id=\"T_48b69_row9_col0\" class=\"data row9 col0\" >Imputation type</td>\n",
       "      <td id=\"T_48b69_row9_col1\" class=\"data row9 col1\" >simple</td>\n",
       "    </tr>\n",
       "    <tr>\n",
       "      <th id=\"T_48b69_level0_row10\" class=\"row_heading level0 row10\" >10</th>\n",
       "      <td id=\"T_48b69_row10_col0\" class=\"data row10 col0\" >Numeric imputation</td>\n",
       "      <td id=\"T_48b69_row10_col1\" class=\"data row10 col1\" >mean</td>\n",
       "    </tr>\n",
       "    <tr>\n",
       "      <th id=\"T_48b69_level0_row11\" class=\"row_heading level0 row11\" >11</th>\n",
       "      <td id=\"T_48b69_row11_col0\" class=\"data row11 col0\" >Categorical imputation</td>\n",
       "      <td id=\"T_48b69_row11_col1\" class=\"data row11 col1\" >mode</td>\n",
       "    </tr>\n",
       "    <tr>\n",
       "      <th id=\"T_48b69_level0_row12\" class=\"row_heading level0 row12\" >12</th>\n",
       "      <td id=\"T_48b69_row12_col0\" class=\"data row12 col0\" >Fold Generator</td>\n",
       "      <td id=\"T_48b69_row12_col1\" class=\"data row12 col1\" >StratifiedKFold</td>\n",
       "    </tr>\n",
       "    <tr>\n",
       "      <th id=\"T_48b69_level0_row13\" class=\"row_heading level0 row13\" >13</th>\n",
       "      <td id=\"T_48b69_row13_col0\" class=\"data row13 col0\" >Fold Number</td>\n",
       "      <td id=\"T_48b69_row13_col1\" class=\"data row13 col1\" >10</td>\n",
       "    </tr>\n",
       "    <tr>\n",
       "      <th id=\"T_48b69_level0_row14\" class=\"row_heading level0 row14\" >14</th>\n",
       "      <td id=\"T_48b69_row14_col0\" class=\"data row14 col0\" >CPU Jobs</td>\n",
       "      <td id=\"T_48b69_row14_col1\" class=\"data row14 col1\" >-1</td>\n",
       "    </tr>\n",
       "    <tr>\n",
       "      <th id=\"T_48b69_level0_row15\" class=\"row_heading level0 row15\" >15</th>\n",
       "      <td id=\"T_48b69_row15_col0\" class=\"data row15 col0\" >Use GPU</td>\n",
       "      <td id=\"T_48b69_row15_col1\" class=\"data row15 col1\" >True</td>\n",
       "    </tr>\n",
       "    <tr>\n",
       "      <th id=\"T_48b69_level0_row16\" class=\"row_heading level0 row16\" >16</th>\n",
       "      <td id=\"T_48b69_row16_col0\" class=\"data row16 col0\" >Log Experiment</td>\n",
       "      <td id=\"T_48b69_row16_col1\" class=\"data row16 col1\" >WandbLogger</td>\n",
       "    </tr>\n",
       "    <tr>\n",
       "      <th id=\"T_48b69_level0_row17\" class=\"row_heading level0 row17\" >17</th>\n",
       "      <td id=\"T_48b69_row17_col0\" class=\"data row17 col0\" >Experiment Name</td>\n",
       "      <td id=\"T_48b69_row17_col1\" class=\"data row17 col1\" >clf-default-name</td>\n",
       "    </tr>\n",
       "    <tr>\n",
       "      <th id=\"T_48b69_level0_row18\" class=\"row_heading level0 row18\" >18</th>\n",
       "      <td id=\"T_48b69_row18_col0\" class=\"data row18 col0\" >USI</td>\n",
       "      <td id=\"T_48b69_row18_col1\" class=\"data row18 col1\" >837b</td>\n",
       "    </tr>\n",
       "  </tbody>\n",
       "</table>\n"
      ],
      "text/plain": [
       "<pandas.io.formats.style.Styler at 0x7f7e72f952a0>"
      ]
     },
     "metadata": {},
     "output_type": "display_data"
    },
    {
     "name": "stderr",
     "output_type": "stream",
     "text": [
      "[LightGBM] [Fatal] GPU Tree Learner was not enabled in this build.\n",
      "Please recompile with CMake option -DUSE_GPU=1\n",
      "[LightGBM] [Fatal] CUDA Tree Learner was not enabled in this build.\n",
      "Please recompile with CMake option -DUSE_CUDA=1\n",
      "[LightGBM] [Fatal] GPU Tree Learner was not enabled in this build.\n",
      "Please recompile with CMake option -DUSE_GPU=1\n",
      "[LightGBM] [Fatal] CUDA Tree Learner was not enabled in this build.\n",
      "Please recompile with CMake option -DUSE_CUDA=1\n"
     ]
    }
   ],
   "source": [
    "# Experiment setup\n",
    "s = setup(df_num, target = 'link', fold_strategy = 'stratifiedkfold', fold=10, train_size = 0.8, n_jobs=-1, system_log=True, use_gpu = True, log_experiment='wandb')\n",
    "exp = ClassificationExperiment()"
   ]
  },
  {
   "cell_type": "markdown",
   "metadata": {},
   "source": [
    "# K Neighbors Classifier"
   ]
  },
  {
   "cell_type": "code",
   "execution_count": 5,
   "metadata": {
    "tags": []
   },
   "outputs": [
    {
     "data": {
      "text/html": [],
      "text/plain": [
       "<IPython.core.display.HTML object>"
      ]
     },
     "metadata": {},
     "output_type": "display_data"
    },
    {
     "data": {
      "text/html": [
       "<style type=\"text/css\">\n",
       "#T_7d44a_row10_col0, #T_7d44a_row10_col1, #T_7d44a_row10_col2, #T_7d44a_row10_col3, #T_7d44a_row10_col4, #T_7d44a_row10_col5, #T_7d44a_row10_col6 {\n",
       "  background: yellow;\n",
       "}\n",
       "</style>\n",
       "<table id=\"T_7d44a\">\n",
       "  <thead>\n",
       "    <tr>\n",
       "      <th class=\"blank level0\" >&nbsp;</th>\n",
       "      <th id=\"T_7d44a_level0_col0\" class=\"col_heading level0 col0\" >Accuracy</th>\n",
       "      <th id=\"T_7d44a_level0_col1\" class=\"col_heading level0 col1\" >AUC</th>\n",
       "      <th id=\"T_7d44a_level0_col2\" class=\"col_heading level0 col2\" >Recall</th>\n",
       "      <th id=\"T_7d44a_level0_col3\" class=\"col_heading level0 col3\" >Prec.</th>\n",
       "      <th id=\"T_7d44a_level0_col4\" class=\"col_heading level0 col4\" >F1</th>\n",
       "      <th id=\"T_7d44a_level0_col5\" class=\"col_heading level0 col5\" >Kappa</th>\n",
       "      <th id=\"T_7d44a_level0_col6\" class=\"col_heading level0 col6\" >MCC</th>\n",
       "    </tr>\n",
       "    <tr>\n",
       "      <th class=\"index_name level0\" >Fold</th>\n",
       "      <th class=\"blank col0\" >&nbsp;</th>\n",
       "      <th class=\"blank col1\" >&nbsp;</th>\n",
       "      <th class=\"blank col2\" >&nbsp;</th>\n",
       "      <th class=\"blank col3\" >&nbsp;</th>\n",
       "      <th class=\"blank col4\" >&nbsp;</th>\n",
       "      <th class=\"blank col5\" >&nbsp;</th>\n",
       "      <th class=\"blank col6\" >&nbsp;</th>\n",
       "    </tr>\n",
       "  </thead>\n",
       "  <tbody>\n",
       "    <tr>\n",
       "      <th id=\"T_7d44a_level0_row0\" class=\"row_heading level0 row0\" >0</th>\n",
       "      <td id=\"T_7d44a_row0_col0\" class=\"data row0 col0\" >0.6044</td>\n",
       "      <td id=\"T_7d44a_row0_col1\" class=\"data row0 col1\" >0.6523</td>\n",
       "      <td id=\"T_7d44a_row0_col2\" class=\"data row0 col2\" >0.7370</td>\n",
       "      <td id=\"T_7d44a_row0_col3\" class=\"data row0 col3\" >0.5825</td>\n",
       "      <td id=\"T_7d44a_row0_col4\" class=\"data row0 col4\" >0.6507</td>\n",
       "      <td id=\"T_7d44a_row0_col5\" class=\"data row0 col5\" >0.2088</td>\n",
       "      <td id=\"T_7d44a_row0_col6\" class=\"data row0 col6\" >0.2166</td>\n",
       "    </tr>\n",
       "    <tr>\n",
       "      <th id=\"T_7d44a_level0_row1\" class=\"row_heading level0 row1\" >1</th>\n",
       "      <td id=\"T_7d44a_row1_col0\" class=\"data row1 col0\" >0.5980</td>\n",
       "      <td id=\"T_7d44a_row1_col1\" class=\"data row1 col1\" >0.6500</td>\n",
       "      <td id=\"T_7d44a_row1_col2\" class=\"data row1 col2\" >0.7212</td>\n",
       "      <td id=\"T_7d44a_row1_col3\" class=\"data row1 col3\" >0.5786</td>\n",
       "      <td id=\"T_7d44a_row1_col4\" class=\"data row1 col4\" >0.6421</td>\n",
       "      <td id=\"T_7d44a_row1_col5\" class=\"data row1 col5\" >0.1959</td>\n",
       "      <td id=\"T_7d44a_row1_col6\" class=\"data row1 col6\" >0.2022</td>\n",
       "    </tr>\n",
       "    <tr>\n",
       "      <th id=\"T_7d44a_level0_row2\" class=\"row_heading level0 row2\" >2</th>\n",
       "      <td id=\"T_7d44a_row2_col0\" class=\"data row2 col0\" >0.5946</td>\n",
       "      <td id=\"T_7d44a_row2_col1\" class=\"data row2 col1\" >0.6389</td>\n",
       "      <td id=\"T_7d44a_row2_col2\" class=\"data row2 col2\" >0.7117</td>\n",
       "      <td id=\"T_7d44a_row2_col3\" class=\"data row2 col3\" >0.5767</td>\n",
       "      <td id=\"T_7d44a_row2_col4\" class=\"data row2 col4\" >0.6371</td>\n",
       "      <td id=\"T_7d44a_row2_col5\" class=\"data row2 col5\" >0.1892</td>\n",
       "      <td id=\"T_7d44a_row2_col6\" class=\"data row2 col6\" >0.1946</td>\n",
       "    </tr>\n",
       "    <tr>\n",
       "      <th id=\"T_7d44a_level0_row3\" class=\"row_heading level0 row3\" >3</th>\n",
       "      <td id=\"T_7d44a_row3_col0\" class=\"data row3 col0\" >0.6042</td>\n",
       "      <td id=\"T_7d44a_row3_col1\" class=\"data row3 col1\" >0.6533</td>\n",
       "      <td id=\"T_7d44a_row3_col2\" class=\"data row3 col2\" >0.7223</td>\n",
       "      <td id=\"T_7d44a_row3_col3\" class=\"data row3 col3\" >0.5843</td>\n",
       "      <td id=\"T_7d44a_row3_col4\" class=\"data row3 col4\" >0.6460</td>\n",
       "      <td id=\"T_7d44a_row3_col5\" class=\"data row3 col5\" >0.2083</td>\n",
       "      <td id=\"T_7d44a_row3_col6\" class=\"data row3 col6\" >0.2144</td>\n",
       "    </tr>\n",
       "    <tr>\n",
       "      <th id=\"T_7d44a_level0_row4\" class=\"row_heading level0 row4\" >4</th>\n",
       "      <td id=\"T_7d44a_row4_col0\" class=\"data row4 col0\" >0.5985</td>\n",
       "      <td id=\"T_7d44a_row4_col1\" class=\"data row4 col1\" >0.6463</td>\n",
       "      <td id=\"T_7d44a_row4_col2\" class=\"data row4 col2\" >0.7210</td>\n",
       "      <td id=\"T_7d44a_row4_col3\" class=\"data row4 col3\" >0.5791</td>\n",
       "      <td id=\"T_7d44a_row4_col4\" class=\"data row4 col4\" >0.6423</td>\n",
       "      <td id=\"T_7d44a_row4_col5\" class=\"data row4 col5\" >0.1970</td>\n",
       "      <td id=\"T_7d44a_row4_col6\" class=\"data row4 col6\" >0.2032</td>\n",
       "    </tr>\n",
       "    <tr>\n",
       "      <th id=\"T_7d44a_level0_row5\" class=\"row_heading level0 row5\" >5</th>\n",
       "      <td id=\"T_7d44a_row5_col0\" class=\"data row5 col0\" >0.6044</td>\n",
       "      <td id=\"T_7d44a_row5_col1\" class=\"data row5 col1\" >0.6578</td>\n",
       "      <td id=\"T_7d44a_row5_col2\" class=\"data row5 col2\" >0.7316</td>\n",
       "      <td id=\"T_7d44a_row5_col3\" class=\"data row5 col3\" >0.5832</td>\n",
       "      <td id=\"T_7d44a_row5_col4\" class=\"data row5 col4\" >0.6490</td>\n",
       "      <td id=\"T_7d44a_row5_col5\" class=\"data row5 col5\" >0.2087</td>\n",
       "      <td id=\"T_7d44a_row5_col6\" class=\"data row5 col6\" >0.2158</td>\n",
       "    </tr>\n",
       "    <tr>\n",
       "      <th id=\"T_7d44a_level0_row6\" class=\"row_heading level0 row6\" >6</th>\n",
       "      <td id=\"T_7d44a_row6_col0\" class=\"data row6 col0\" >0.5964</td>\n",
       "      <td id=\"T_7d44a_row6_col1\" class=\"data row6 col1\" >0.6476</td>\n",
       "      <td id=\"T_7d44a_row6_col2\" class=\"data row6 col2\" >0.7273</td>\n",
       "      <td id=\"T_7d44a_row6_col3\" class=\"data row6 col3\" >0.5764</td>\n",
       "      <td id=\"T_7d44a_row6_col4\" class=\"data row6 col4\" >0.6431</td>\n",
       "      <td id=\"T_7d44a_row6_col5\" class=\"data row6 col5\" >0.1927</td>\n",
       "      <td id=\"T_7d44a_row6_col6\" class=\"data row6 col6\" >0.1997</td>\n",
       "    </tr>\n",
       "    <tr>\n",
       "      <th id=\"T_7d44a_level0_row7\" class=\"row_heading level0 row7\" >7</th>\n",
       "      <td id=\"T_7d44a_row7_col0\" class=\"data row7 col0\" >0.6031</td>\n",
       "      <td id=\"T_7d44a_row7_col1\" class=\"data row7 col1\" >0.6542</td>\n",
       "      <td id=\"T_7d44a_row7_col2\" class=\"data row7 col2\" >0.7279</td>\n",
       "      <td id=\"T_7d44a_row7_col3\" class=\"data row7 col3\" >0.5826</td>\n",
       "      <td id=\"T_7d44a_row7_col4\" class=\"data row7 col4\" >0.6472</td>\n",
       "      <td id=\"T_7d44a_row7_col5\" class=\"data row7 col5\" >0.2063</td>\n",
       "      <td id=\"T_7d44a_row7_col6\" class=\"data row7 col6\" >0.2130</td>\n",
       "    </tr>\n",
       "    <tr>\n",
       "      <th id=\"T_7d44a_level0_row8\" class=\"row_heading level0 row8\" >8</th>\n",
       "      <td id=\"T_7d44a_row8_col0\" class=\"data row8 col0\" >0.5955</td>\n",
       "      <td id=\"T_7d44a_row8_col1\" class=\"data row8 col1\" >0.6480</td>\n",
       "      <td id=\"T_7d44a_row8_col2\" class=\"data row8 col2\" >0.7308</td>\n",
       "      <td id=\"T_7d44a_row8_col3\" class=\"data row8 col3\" >0.5752</td>\n",
       "      <td id=\"T_7d44a_row8_col4\" class=\"data row8 col4\" >0.6437</td>\n",
       "      <td id=\"T_7d44a_row8_col5\" class=\"data row8 col5\" >0.1910</td>\n",
       "      <td id=\"T_7d44a_row8_col6\" class=\"data row8 col6\" >0.1984</td>\n",
       "    </tr>\n",
       "    <tr>\n",
       "      <th id=\"T_7d44a_level0_row9\" class=\"row_heading level0 row9\" >9</th>\n",
       "      <td id=\"T_7d44a_row9_col0\" class=\"data row9 col0\" >0.5961</td>\n",
       "      <td id=\"T_7d44a_row9_col1\" class=\"data row9 col1\" >0.6480</td>\n",
       "      <td id=\"T_7d44a_row9_col2\" class=\"data row9 col2\" >0.7236</td>\n",
       "      <td id=\"T_7d44a_row9_col3\" class=\"data row9 col3\" >0.5766</td>\n",
       "      <td id=\"T_7d44a_row9_col4\" class=\"data row9 col4\" >0.6418</td>\n",
       "      <td id=\"T_7d44a_row9_col5\" class=\"data row9 col5\" >0.1922</td>\n",
       "      <td id=\"T_7d44a_row9_col6\" class=\"data row9 col6\" >0.1987</td>\n",
       "    </tr>\n",
       "    <tr>\n",
       "      <th id=\"T_7d44a_level0_row10\" class=\"row_heading level0 row10\" >Mean</th>\n",
       "      <td id=\"T_7d44a_row10_col0\" class=\"data row10 col0\" >0.5995</td>\n",
       "      <td id=\"T_7d44a_row10_col1\" class=\"data row10 col1\" >0.6496</td>\n",
       "      <td id=\"T_7d44a_row10_col2\" class=\"data row10 col2\" >0.7254</td>\n",
       "      <td id=\"T_7d44a_row10_col3\" class=\"data row10 col3\" >0.5795</td>\n",
       "      <td id=\"T_7d44a_row10_col4\" class=\"data row10 col4\" >0.6443</td>\n",
       "      <td id=\"T_7d44a_row10_col5\" class=\"data row10 col5\" >0.1990</td>\n",
       "      <td id=\"T_7d44a_row10_col6\" class=\"data row10 col6\" >0.2057</td>\n",
       "    </tr>\n",
       "    <tr>\n",
       "      <th id=\"T_7d44a_level0_row11\" class=\"row_heading level0 row11\" >Std</th>\n",
       "      <td id=\"T_7d44a_row11_col0\" class=\"data row11 col0\" >0.0038</td>\n",
       "      <td id=\"T_7d44a_row11_col1\" class=\"data row11 col1\" >0.0050</td>\n",
       "      <td id=\"T_7d44a_row11_col2\" class=\"data row11 col2\" >0.0067</td>\n",
       "      <td id=\"T_7d44a_row11_col3\" class=\"data row11 col3\" >0.0032</td>\n",
       "      <td id=\"T_7d44a_row11_col4\" class=\"data row11 col4\" >0.0038</td>\n",
       "      <td id=\"T_7d44a_row11_col5\" class=\"data row11 col5\" >0.0077</td>\n",
       "      <td id=\"T_7d44a_row11_col6\" class=\"data row11 col6\" >0.0079</td>\n",
       "    </tr>\n",
       "  </tbody>\n",
       "</table>\n"
      ],
      "text/plain": [
       "<pandas.io.formats.style.Styler at 0x7f7e731b2200>"
      ]
     },
     "metadata": {},
     "output_type": "display_data"
    },
    {
     "data": {
      "text/html": [],
      "text/plain": [
       "<IPython.core.display.HTML object>"
      ]
     },
     "metadata": {},
     "output_type": "display_data"
    }
   ],
   "source": [
    "knn = create_model('knn')"
   ]
  },
  {
   "cell_type": "code",
   "execution_count": 6,
   "metadata": {},
   "outputs": [
    {
     "data": {
      "text/html": [],
      "text/plain": [
       "<IPython.core.display.HTML object>"
      ]
     },
     "metadata": {},
     "output_type": "display_data"
    },
    {
     "data": {
      "image/png": "[encoded data removed]",
      "text/plain": [
       "<Figure size 800x550 with 1 Axes>"
      ]
     },
     "metadata": {},
     "output_type": "display_data"
    }
   ],
   "source": [
    "plot_model(knn, plot = 'confusion_matrix')"
   ]
  },
  {
   "cell_type": "code",
   "execution_count": 7,
   "metadata": {},
   "outputs": [
    {
     "data": {
      "text/html": [],
      "text/plain": [
       "<IPython.core.display.HTML object>"
      ]
     },
     "metadata": {},
     "output_type": "display_data"
    },
    {
     "data": {
      "image/png": "[encoded data removed]",
      "text/plain": [
       "<Figure size 800x550 with 1 Axes>"
      ]
     },
     "metadata": {},
     "output_type": "display_data"
    }
   ],
   "source": [
    "plot_model(knn, plot = 'error')"
   ]
  },
  {
   "cell_type": "code",
   "execution_count": 8,
   "metadata": {},
   "outputs": [
    {
     "data": {
      "text/html": [],
      "text/plain": [
       "<IPython.core.display.HTML object>"
      ]
     },
     "metadata": {},
     "output_type": "display_data"
    },
    {
     "data": {
      "text/html": [
       "<div>\n",
       "<style scoped>\n",
       "    .dataframe tbody tr th:only-of-type {\n",
       "        vertical-align: middle;\n",
       "    }\n",
       "\n",
       "    .dataframe tbody tr th {\n",
       "        vertical-align: top;\n",
       "    }\n",
       "\n",
       "    .dataframe thead th {\n",
       "        text-align: right;\n",
       "    }\n",
       "</style>\n",
       "<table border=\"1\" class=\"dataframe\">\n",
       "  <thead>\n",
       "    <tr style=\"text-align: right;\">\n",
       "      <th></th>\n",
       "      <th>Parameters</th>\n",
       "    </tr>\n",
       "  </thead>\n",
       "  <tbody>\n",
       "    <tr>\n",
       "      <th>algorithm</th>\n",
       "      <td>auto</td>\n",
       "    </tr>\n",
       "    <tr>\n",
       "      <th>leaf_size</th>\n",
       "      <td>30</td>\n",
       "    </tr>\n",
       "    <tr>\n",
       "      <th>metric</th>\n",
       "      <td>minkowski</td>\n",
       "    </tr>\n",
       "    <tr>\n",
       "      <th>metric_params</th>\n",
       "      <td>None</td>\n",
       "    </tr>\n",
       "    <tr>\n",
       "      <th>n_jobs</th>\n",
       "      <td>-1</td>\n",
       "    </tr>\n",
       "    <tr>\n",
       "      <th>n_neighbors</th>\n",
       "      <td>5</td>\n",
       "    </tr>\n",
       "    <tr>\n",
       "      <th>p</th>\n",
       "      <td>2</td>\n",
       "    </tr>\n",
       "    <tr>\n",
       "      <th>weights</th>\n",
       "      <td>uniform</td>\n",
       "    </tr>\n",
       "  </tbody>\n",
       "</table>\n",
       "</div>"
      ],
      "text/plain": [
       "              Parameters\n",
       "algorithm           auto\n",
       "leaf_size             30\n",
       "metric         minkowski\n",
       "metric_params       None\n",
       "n_jobs                -1\n",
       "n_neighbors            5\n",
       "p                      2\n",
       "weights          uniform"
      ]
     },
     "metadata": {},
     "output_type": "display_data"
    }
   ],
   "source": [
    "plot_model(knn, plot = 'parameter')"
   ]
  },
  {
   "cell_type": "code",
   "execution_count": 9,
   "metadata": {},
   "outputs": [
    {
     "name": "stdout",
     "output_type": "stream",
     "text": [
      "Transformation Pipeline and Model Successfully Saved\n"
     ]
    },
    {
     "data": {
      "text/plain": [
       "(Pipeline(memory=FastMemory(location=/tmp/joblib),\n",
       "          steps=[('numerical_imputer',\n",
       "                  TransformerWrapper(exclude=None,\n",
       "                                     include=['0', '1', '2', '3', '4', '5', '6',\n",
       "                                              '7', '8', '9', '10', '11', '12',\n",
       "                                              '13', '14', '15', '16', '17', '18',\n",
       "                                              '19', '20', '21', '22', '23', '24',\n",
       "                                              '25', '26', '27', '28', '29', ...],\n",
       "                                     transformer=SimpleImputer(add_indicator=False,\n",
       "                                                               copy=True,\n",
       "                                                               fill_value=None,\n",
       "                                                               keep_empty_feat...\n",
       "                  TransformerWrapper(exclude=None, include=[],\n",
       "                                     transformer=SimpleImputer(add_indicator=False,\n",
       "                                                               copy=True,\n",
       "                                                               fill_value=None,\n",
       "                                                               keep_empty_features=False,\n",
       "                                                               missing_values=nan,\n",
       "                                                               strategy='most_frequent',\n",
       "                                                               verbose='deprecated'))),\n",
       "                 ('trained_model',\n",
       "                  KNeighborsClassifier(algorithm='auto', leaf_size=30,\n",
       "                                       metric='minkowski', metric_params=None,\n",
       "                                       n_jobs=-1, n_neighbors=5, p=2,\n",
       "                                       weights='uniform'))],\n",
       "          verbose=False),\n",
       " 'models_classif/complex/non-reified/knn.pkl')"
      ]
     },
     "execution_count": 9,
     "metadata": {},
     "output_type": "execute_result"
    }
   ],
   "source": [
    "save_model(knn, 'models_classif/complex/non-reified/knn')"
   ]
  },
  {
   "cell_type": "markdown",
   "metadata": {},
   "source": [
    "# Naive Bayes"
   ]
  },
  {
   "cell_type": "code",
   "execution_count": 10,
   "metadata": {
    "tags": []
   },
   "outputs": [
    {
     "data": {
      "text/html": [],
      "text/plain": [
       "<IPython.core.display.HTML object>"
      ]
     },
     "metadata": {},
     "output_type": "display_data"
    },
    {
     "data": {
      "text/html": [
       "<style type=\"text/css\">\n",
       "#T_e6928_row10_col0, #T_e6928_row10_col1, #T_e6928_row10_col2, #T_e6928_row10_col3, #T_e6928_row10_col4, #T_e6928_row10_col5, #T_e6928_row10_col6 {\n",
       "  background: yellow;\n",
       "}\n",
       "</style>\n",
       "<table id=\"T_e6928\">\n",
       "  <thead>\n",
       "    <tr>\n",
       "      <th class=\"blank level0\" >&nbsp;</th>\n",
       "      <th id=\"T_e6928_level0_col0\" class=\"col_heading level0 col0\" >Accuracy</th>\n",
       "      <th id=\"T_e6928_level0_col1\" class=\"col_heading level0 col1\" >AUC</th>\n",
       "      <th id=\"T_e6928_level0_col2\" class=\"col_heading level0 col2\" >Recall</th>\n",
       "      <th id=\"T_e6928_level0_col3\" class=\"col_heading level0 col3\" >Prec.</th>\n",
       "      <th id=\"T_e6928_level0_col4\" class=\"col_heading level0 col4\" >F1</th>\n",
       "      <th id=\"T_e6928_level0_col5\" class=\"col_heading level0 col5\" >Kappa</th>\n",
       "      <th id=\"T_e6928_level0_col6\" class=\"col_heading level0 col6\" >MCC</th>\n",
       "    </tr>\n",
       "    <tr>\n",
       "      <th class=\"index_name level0\" >Fold</th>\n",
       "      <th class=\"blank col0\" >&nbsp;</th>\n",
       "      <th class=\"blank col1\" >&nbsp;</th>\n",
       "      <th class=\"blank col2\" >&nbsp;</th>\n",
       "      <th class=\"blank col3\" >&nbsp;</th>\n",
       "      <th class=\"blank col4\" >&nbsp;</th>\n",
       "      <th class=\"blank col5\" >&nbsp;</th>\n",
       "      <th class=\"blank col6\" >&nbsp;</th>\n",
       "    </tr>\n",
       "  </thead>\n",
       "  <tbody>\n",
       "    <tr>\n",
       "      <th id=\"T_e6928_level0_row0\" class=\"row_heading level0 row0\" >0</th>\n",
       "      <td id=\"T_e6928_row0_col0\" class=\"data row0 col0\" >0.5462</td>\n",
       "      <td id=\"T_e6928_row0_col1\" class=\"data row0 col1\" >0.5721</td>\n",
       "      <td id=\"T_e6928_row0_col2\" class=\"data row0 col2\" >0.3676</td>\n",
       "      <td id=\"T_e6928_row0_col3\" class=\"data row0 col3\" >0.5718</td>\n",
       "      <td id=\"T_e6928_row0_col4\" class=\"data row0 col4\" >0.4475</td>\n",
       "      <td id=\"T_e6928_row0_col5\" class=\"data row0 col5\" >0.0923</td>\n",
       "      <td id=\"T_e6928_row0_col6\" class=\"data row0 col6\" >0.0988</td>\n",
       "    </tr>\n",
       "    <tr>\n",
       "      <th id=\"T_e6928_level0_row1\" class=\"row_heading level0 row1\" >1</th>\n",
       "      <td id=\"T_e6928_row1_col0\" class=\"data row1 col0\" >0.5396</td>\n",
       "      <td id=\"T_e6928_row1_col1\" class=\"data row1 col1\" >0.5726</td>\n",
       "      <td id=\"T_e6928_row1_col2\" class=\"data row1 col2\" >0.3658</td>\n",
       "      <td id=\"T_e6928_row1_col3\" class=\"data row1 col3\" >0.5607</td>\n",
       "      <td id=\"T_e6928_row1_col4\" class=\"data row1 col4\" >0.4428</td>\n",
       "      <td id=\"T_e6928_row1_col5\" class=\"data row1 col5\" >0.0792</td>\n",
       "      <td id=\"T_e6928_row1_col6\" class=\"data row1 col6\" >0.0844</td>\n",
       "    </tr>\n",
       "    <tr>\n",
       "      <th id=\"T_e6928_level0_row2\" class=\"row_heading level0 row2\" >2</th>\n",
       "      <td id=\"T_e6928_row2_col0\" class=\"data row2 col0\" >0.5333</td>\n",
       "      <td id=\"T_e6928_row2_col1\" class=\"data row2 col1\" >0.5624</td>\n",
       "      <td id=\"T_e6928_row2_col2\" class=\"data row2 col2\" >0.3465</td>\n",
       "      <td id=\"T_e6928_row2_col3\" class=\"data row2 col3\" >0.5533</td>\n",
       "      <td id=\"T_e6928_row2_col4\" class=\"data row2 col4\" >0.4261</td>\n",
       "      <td id=\"T_e6928_row2_col5\" class=\"data row2 col5\" >0.0667</td>\n",
       "      <td id=\"T_e6928_row2_col6\" class=\"data row2 col6\" >0.0719</td>\n",
       "    </tr>\n",
       "    <tr>\n",
       "      <th id=\"T_e6928_level0_row3\" class=\"row_heading level0 row3\" >3</th>\n",
       "      <td id=\"T_e6928_row3_col0\" class=\"data row3 col0\" >0.5402</td>\n",
       "      <td id=\"T_e6928_row3_col1\" class=\"data row3 col1\" >0.5646</td>\n",
       "      <td id=\"T_e6928_row3_col2\" class=\"data row3 col2\" >0.3765</td>\n",
       "      <td id=\"T_e6928_row3_col3\" class=\"data row3 col3\" >0.5597</td>\n",
       "      <td id=\"T_e6928_row3_col4\" class=\"data row3 col4\" >0.4502</td>\n",
       "      <td id=\"T_e6928_row3_col5\" class=\"data row3 col5\" >0.0804</td>\n",
       "      <td id=\"T_e6928_row3_col6\" class=\"data row3 col6\" >0.0850</td>\n",
       "    </tr>\n",
       "    <tr>\n",
       "      <th id=\"T_e6928_level0_row4\" class=\"row_heading level0 row4\" >4</th>\n",
       "      <td id=\"T_e6928_row4_col0\" class=\"data row4 col0\" >0.5426</td>\n",
       "      <td id=\"T_e6928_row4_col1\" class=\"data row4 col1\" >0.5730</td>\n",
       "      <td id=\"T_e6928_row4_col2\" class=\"data row4 col2\" >0.3648</td>\n",
       "      <td id=\"T_e6928_row4_col3\" class=\"data row4 col3\" >0.5661</td>\n",
       "      <td id=\"T_e6928_row4_col4\" class=\"data row4 col4\" >0.4437</td>\n",
       "      <td id=\"T_e6928_row4_col5\" class=\"data row4 col5\" >0.0852</td>\n",
       "      <td id=\"T_e6928_row4_col6\" class=\"data row4 col6\" >0.0912</td>\n",
       "    </tr>\n",
       "    <tr>\n",
       "      <th id=\"T_e6928_level0_row5\" class=\"row_heading level0 row5\" >5</th>\n",
       "      <td id=\"T_e6928_row5_col0\" class=\"data row5 col0\" >0.5419</td>\n",
       "      <td id=\"T_e6928_row5_col1\" class=\"data row5 col1\" >0.5705</td>\n",
       "      <td id=\"T_e6928_row5_col2\" class=\"data row5 col2\" >0.3610</td>\n",
       "      <td id=\"T_e6928_row5_col3\" class=\"data row5 col3\" >0.5656</td>\n",
       "      <td id=\"T_e6928_row5_col4\" class=\"data row5 col4\" >0.4407</td>\n",
       "      <td id=\"T_e6928_row5_col5\" class=\"data row5 col5\" >0.0837</td>\n",
       "      <td id=\"T_e6928_row5_col6\" class=\"data row5 col6\" >0.0898</td>\n",
       "    </tr>\n",
       "    <tr>\n",
       "      <th id=\"T_e6928_level0_row6\" class=\"row_heading level0 row6\" >6</th>\n",
       "      <td id=\"T_e6928_row6_col0\" class=\"data row6 col0\" >0.5404</td>\n",
       "      <td id=\"T_e6928_row6_col1\" class=\"data row6 col1\" >0.5666</td>\n",
       "      <td id=\"T_e6928_row6_col2\" class=\"data row6 col2\" >0.3624</td>\n",
       "      <td id=\"T_e6928_row6_col3\" class=\"data row6 col3\" >0.5627</td>\n",
       "      <td id=\"T_e6928_row6_col4\" class=\"data row6 col4\" >0.4408</td>\n",
       "      <td id=\"T_e6928_row6_col5\" class=\"data row6 col5\" >0.0807</td>\n",
       "      <td id=\"T_e6928_row6_col6\" class=\"data row6 col6\" >0.0864</td>\n",
       "    </tr>\n",
       "    <tr>\n",
       "      <th id=\"T_e6928_level0_row7\" class=\"row_heading level0 row7\" >7</th>\n",
       "      <td id=\"T_e6928_row7_col0\" class=\"data row7 col0\" >0.5459</td>\n",
       "      <td id=\"T_e6928_row7_col1\" class=\"data row7 col1\" >0.5710</td>\n",
       "      <td id=\"T_e6928_row7_col2\" class=\"data row7 col2\" >0.3722</td>\n",
       "      <td id=\"T_e6928_row7_col3\" class=\"data row7 col3\" >0.5704</td>\n",
       "      <td id=\"T_e6928_row7_col4\" class=\"data row7 col4\" >0.4505</td>\n",
       "      <td id=\"T_e6928_row7_col5\" class=\"data row7 col5\" >0.0919</td>\n",
       "      <td id=\"T_e6928_row7_col6\" class=\"data row7 col6\" >0.0980</td>\n",
       "    </tr>\n",
       "    <tr>\n",
       "      <th id=\"T_e6928_level0_row8\" class=\"row_heading level0 row8\" >8</th>\n",
       "      <td id=\"T_e6928_row8_col0\" class=\"data row8 col0\" >0.5422</td>\n",
       "      <td id=\"T_e6928_row8_col1\" class=\"data row8 col1\" >0.5713</td>\n",
       "      <td id=\"T_e6928_row8_col2\" class=\"data row8 col2\" >0.3583</td>\n",
       "      <td id=\"T_e6928_row8_col3\" class=\"data row8 col3\" >0.5668</td>\n",
       "      <td id=\"T_e6928_row8_col4\" class=\"data row8 col4\" >0.4390</td>\n",
       "      <td id=\"T_e6928_row8_col5\" class=\"data row8 col5\" >0.0844</td>\n",
       "      <td id=\"T_e6928_row8_col6\" class=\"data row8 col6\" >0.0908</td>\n",
       "    </tr>\n",
       "    <tr>\n",
       "      <th id=\"T_e6928_level0_row9\" class=\"row_heading level0 row9\" >9</th>\n",
       "      <td id=\"T_e6928_row9_col0\" class=\"data row9 col0\" >0.5365</td>\n",
       "      <td id=\"T_e6928_row9_col1\" class=\"data row9 col1\" >0.5660</td>\n",
       "      <td id=\"T_e6928_row9_col2\" class=\"data row9 col2\" >0.3620</td>\n",
       "      <td id=\"T_e6928_row9_col3\" class=\"data row9 col3\" >0.5560</td>\n",
       "      <td id=\"T_e6928_row9_col4\" class=\"data row9 col4\" >0.4385</td>\n",
       "      <td id=\"T_e6928_row9_col5\" class=\"data row9 col5\" >0.0729</td>\n",
       "      <td id=\"T_e6928_row9_col6\" class=\"data row9 col6\" >0.0778</td>\n",
       "    </tr>\n",
       "    <tr>\n",
       "      <th id=\"T_e6928_level0_row10\" class=\"row_heading level0 row10\" >Mean</th>\n",
       "      <td id=\"T_e6928_row10_col0\" class=\"data row10 col0\" >0.5409</td>\n",
       "      <td id=\"T_e6928_row10_col1\" class=\"data row10 col1\" >0.5690</td>\n",
       "      <td id=\"T_e6928_row10_col2\" class=\"data row10 col2\" >0.3637</td>\n",
       "      <td id=\"T_e6928_row10_col3\" class=\"data row10 col3\" >0.5633</td>\n",
       "      <td id=\"T_e6928_row10_col4\" class=\"data row10 col4\" >0.4420</td>\n",
       "      <td id=\"T_e6928_row10_col5\" class=\"data row10 col5\" >0.0817</td>\n",
       "      <td id=\"T_e6928_row10_col6\" class=\"data row10 col6\" >0.0874</td>\n",
       "    </tr>\n",
       "    <tr>\n",
       "      <th id=\"T_e6928_level0_row11\" class=\"row_heading level0 row11\" >Std</th>\n",
       "      <td id=\"T_e6928_row11_col0\" class=\"data row11 col0\" >0.0037</td>\n",
       "      <td id=\"T_e6928_row11_col1\" class=\"data row11 col1\" >0.0036</td>\n",
       "      <td id=\"T_e6928_row11_col2\" class=\"data row11 col2\" >0.0077</td>\n",
       "      <td id=\"T_e6928_row11_col3\" class=\"data row11 col3\" >0.0057</td>\n",
       "      <td id=\"T_e6928_row11_col4\" class=\"data row11 col4\" >0.0067</td>\n",
       "      <td id=\"T_e6928_row11_col5\" class=\"data row11 col5\" >0.0074</td>\n",
       "      <td id=\"T_e6928_row11_col6\" class=\"data row11 col6\" >0.0079</td>\n",
       "    </tr>\n",
       "  </tbody>\n",
       "</table>\n"
      ],
      "text/plain": [
       "<pandas.io.formats.style.Styler at 0x7f7e72f94a00>"
      ]
     },
     "metadata": {},
     "output_type": "display_data"
    },
    {
     "data": {
      "text/html": [],
      "text/plain": [
       "<IPython.core.display.HTML object>"
      ]
     },
     "metadata": {},
     "output_type": "display_data"
    }
   ],
   "source": [
    "nb = create_model('nb')"
   ]
  },
  {
   "cell_type": "code",
   "execution_count": 11,
   "metadata": {},
   "outputs": [
    {
     "data": {
      "text/html": [],
      "text/plain": [
       "<IPython.core.display.HTML object>"
      ]
     },
     "metadata": {},
     "output_type": "display_data"
    },
    {
     "data": {
      "image/png": "[encoded data removed]",
      "text/plain": [
       "<Figure size 800x550 with 1 Axes>"
      ]
     },
     "metadata": {},
     "output_type": "display_data"
    }
   ],
   "source": [
    "plot_model(nb, plot = 'confusion_matrix')"
   ]
  },
  {
   "cell_type": "code",
   "execution_count": 12,
   "metadata": {},
   "outputs": [
    {
     "data": {
      "text/html": [],
      "text/plain": [
       "<IPython.core.display.HTML object>"
      ]
     },
     "metadata": {},
     "output_type": "display_data"
    },
    {
     "data": {
      "image/png": "[encoded data removed]",
      "text/plain": [
       "<Figure size 800x550 with 1 Axes>"
      ]
     },
     "metadata": {},
     "output_type": "display_data"
    }
   ],
   "source": [
    "plot_model(nb, plot = 'error')"
   ]
  },
  {
   "cell_type": "code",
   "execution_count": 13,
   "metadata": {},
   "outputs": [
    {
     "data": {
      "text/html": [],
      "text/plain": [
       "<IPython.core.display.HTML object>"
      ]
     },
     "metadata": {},
     "output_type": "display_data"
    },
    {
     "data": {
      "text/html": [
       "<div>\n",
       "<style scoped>\n",
       "    .dataframe tbody tr th:only-of-type {\n",
       "        vertical-align: middle;\n",
       "    }\n",
       "\n",
       "    .dataframe tbody tr th {\n",
       "        vertical-align: top;\n",
       "    }\n",
       "\n",
       "    .dataframe thead th {\n",
       "        text-align: right;\n",
       "    }\n",
       "</style>\n",
       "<table border=\"1\" class=\"dataframe\">\n",
       "  <thead>\n",
       "    <tr style=\"text-align: right;\">\n",
       "      <th></th>\n",
       "      <th>Parameters</th>\n",
       "    </tr>\n",
       "  </thead>\n",
       "  <tbody>\n",
       "    <tr>\n",
       "      <th>priors</th>\n",
       "      <td>None</td>\n",
       "    </tr>\n",
       "    <tr>\n",
       "      <th>var_smoothing</th>\n",
       "      <td>1e-09</td>\n",
       "    </tr>\n",
       "  </tbody>\n",
       "</table>\n",
       "</div>"
      ],
      "text/plain": [
       "              Parameters\n",
       "priors              None\n",
       "var_smoothing      1e-09"
      ]
     },
     "metadata": {},
     "output_type": "display_data"
    }
   ],
   "source": [
    "plot_model(nb, plot = 'parameter')"
   ]
  },
  {
   "cell_type": "code",
   "execution_count": 14,
   "metadata": {},
   "outputs": [
    {
     "name": "stdout",
     "output_type": "stream",
     "text": [
      "Transformation Pipeline and Model Successfully Saved\n"
     ]
    },
    {
     "data": {
      "text/plain": [
       "(Pipeline(memory=FastMemory(location=/tmp/joblib),\n",
       "          steps=[('numerical_imputer',\n",
       "                  TransformerWrapper(exclude=None,\n",
       "                                     include=['0', '1', '2', '3', '4', '5', '6',\n",
       "                                              '7', '8', '9', '10', '11', '12',\n",
       "                                              '13', '14', '15', '16', '17', '18',\n",
       "                                              '19', '20', '21', '22', '23', '24',\n",
       "                                              '25', '26', '27', '28', '29', ...],\n",
       "                                     transformer=SimpleImputer(add_indicator=False,\n",
       "                                                               copy=True,\n",
       "                                                               fill_value=None,\n",
       "                                                               keep_empty_feat...\n",
       "                                                               missing_values=nan,\n",
       "                                                               strategy='mean',\n",
       "                                                               verbose='deprecated'))),\n",
       "                 ('categorical_imputer',\n",
       "                  TransformerWrapper(exclude=None, include=[],\n",
       "                                     transformer=SimpleImputer(add_indicator=False,\n",
       "                                                               copy=True,\n",
       "                                                               fill_value=None,\n",
       "                                                               keep_empty_features=False,\n",
       "                                                               missing_values=nan,\n",
       "                                                               strategy='most_frequent',\n",
       "                                                               verbose='deprecated'))),\n",
       "                 ('trained_model',\n",
       "                  GaussianNB(priors=None, var_smoothing=1e-09))],\n",
       "          verbose=False),\n",
       " 'models_classif/complex/non-reified/nb.pkl')"
      ]
     },
     "execution_count": 14,
     "metadata": {},
     "output_type": "execute_result"
    }
   ],
   "source": [
    "save_model(nb, 'models_classif/complex/non-reified/nb')"
   ]
  },
  {
   "cell_type": "markdown",
   "metadata": {},
   "source": [
    "# Decision Tree Classifier"
   ]
  },
  {
   "cell_type": "code",
   "execution_count": 15,
   "metadata": {},
   "outputs": [
    {
     "data": {
      "text/html": [],
      "text/plain": [
       "<IPython.core.display.HTML object>"
      ]
     },
     "metadata": {},
     "output_type": "display_data"
    },
    {
     "data": {
      "text/html": [
       "<style type=\"text/css\">\n",
       "#T_4bc2f_row10_col0, #T_4bc2f_row10_col1, #T_4bc2f_row10_col2, #T_4bc2f_row10_col3, #T_4bc2f_row10_col4, #T_4bc2f_row10_col5, #T_4bc2f_row10_col6 {\n",
       "  background: yellow;\n",
       "}\n",
       "</style>\n",
       "<table id=\"T_4bc2f\">\n",
       "  <thead>\n",
       "    <tr>\n",
       "      <th class=\"blank level0\" >&nbsp;</th>\n",
       "      <th id=\"T_4bc2f_level0_col0\" class=\"col_heading level0 col0\" >Accuracy</th>\n",
       "      <th id=\"T_4bc2f_level0_col1\" class=\"col_heading level0 col1\" >AUC</th>\n",
       "      <th id=\"T_4bc2f_level0_col2\" class=\"col_heading level0 col2\" >Recall</th>\n",
       "      <th id=\"T_4bc2f_level0_col3\" class=\"col_heading level0 col3\" >Prec.</th>\n",
       "      <th id=\"T_4bc2f_level0_col4\" class=\"col_heading level0 col4\" >F1</th>\n",
       "      <th id=\"T_4bc2f_level0_col5\" class=\"col_heading level0 col5\" >Kappa</th>\n",
       "      <th id=\"T_4bc2f_level0_col6\" class=\"col_heading level0 col6\" >MCC</th>\n",
       "    </tr>\n",
       "    <tr>\n",
       "      <th class=\"index_name level0\" >Fold</th>\n",
       "      <th class=\"blank col0\" >&nbsp;</th>\n",
       "      <th class=\"blank col1\" >&nbsp;</th>\n",
       "      <th class=\"blank col2\" >&nbsp;</th>\n",
       "      <th class=\"blank col3\" >&nbsp;</th>\n",
       "      <th class=\"blank col4\" >&nbsp;</th>\n",
       "      <th class=\"blank col5\" >&nbsp;</th>\n",
       "      <th class=\"blank col6\" >&nbsp;</th>\n",
       "    </tr>\n",
       "  </thead>\n",
       "  <tbody>\n",
       "    <tr>\n",
       "      <th id=\"T_4bc2f_level0_row0\" class=\"row_heading level0 row0\" >0</th>\n",
       "      <td id=\"T_4bc2f_row0_col0\" class=\"data row0 col0\" >0.6421</td>\n",
       "      <td id=\"T_4bc2f_row0_col1\" class=\"data row0 col1\" >0.6425</td>\n",
       "      <td id=\"T_4bc2f_row0_col2\" class=\"data row0 col2\" >0.6512</td>\n",
       "      <td id=\"T_4bc2f_row0_col3\" class=\"data row0 col3\" >0.6396</td>\n",
       "      <td id=\"T_4bc2f_row0_col4\" class=\"data row0 col4\" >0.6453</td>\n",
       "      <td id=\"T_4bc2f_row0_col5\" class=\"data row0 col5\" >0.2843</td>\n",
       "      <td id=\"T_4bc2f_row0_col6\" class=\"data row0 col6\" >0.2843</td>\n",
       "    </tr>\n",
       "    <tr>\n",
       "      <th id=\"T_4bc2f_level0_row1\" class=\"row_heading level0 row1\" >1</th>\n",
       "      <td id=\"T_4bc2f_row1_col0\" class=\"data row1 col0\" >0.6397</td>\n",
       "      <td id=\"T_4bc2f_row1_col1\" class=\"data row1 col1\" >0.6399</td>\n",
       "      <td id=\"T_4bc2f_row1_col2\" class=\"data row1 col2\" >0.6491</td>\n",
       "      <td id=\"T_4bc2f_row1_col3\" class=\"data row1 col3\" >0.6372</td>\n",
       "      <td id=\"T_4bc2f_row1_col4\" class=\"data row1 col4\" >0.6431</td>\n",
       "      <td id=\"T_4bc2f_row1_col5\" class=\"data row1 col5\" >0.2795</td>\n",
       "      <td id=\"T_4bc2f_row1_col6\" class=\"data row1 col6\" >0.2795</td>\n",
       "    </tr>\n",
       "    <tr>\n",
       "      <th id=\"T_4bc2f_level0_row2\" class=\"row_heading level0 row2\" >2</th>\n",
       "      <td id=\"T_4bc2f_row2_col0\" class=\"data row2 col0\" >0.6320</td>\n",
       "      <td id=\"T_4bc2f_row2_col1\" class=\"data row2 col1\" >0.6321</td>\n",
       "      <td id=\"T_4bc2f_row2_col2\" class=\"data row2 col2\" >0.6433</td>\n",
       "      <td id=\"T_4bc2f_row2_col3\" class=\"data row2 col3\" >0.6291</td>\n",
       "      <td id=\"T_4bc2f_row2_col4\" class=\"data row2 col4\" >0.6361</td>\n",
       "      <td id=\"T_4bc2f_row2_col5\" class=\"data row2 col5\" >0.2640</td>\n",
       "      <td id=\"T_4bc2f_row2_col6\" class=\"data row2 col6\" >0.2641</td>\n",
       "    </tr>\n",
       "    <tr>\n",
       "      <th id=\"T_4bc2f_level0_row3\" class=\"row_heading level0 row3\" >3</th>\n",
       "      <td id=\"T_4bc2f_row3_col0\" class=\"data row3 col0\" >0.6403</td>\n",
       "      <td id=\"T_4bc2f_row3_col1\" class=\"data row3 col1\" >0.6411</td>\n",
       "      <td id=\"T_4bc2f_row3_col2\" class=\"data row3 col2\" >0.6434</td>\n",
       "      <td id=\"T_4bc2f_row3_col3\" class=\"data row3 col3\" >0.6395</td>\n",
       "      <td id=\"T_4bc2f_row3_col4\" class=\"data row3 col4\" >0.6414</td>\n",
       "      <td id=\"T_4bc2f_row3_col5\" class=\"data row3 col5\" >0.2807</td>\n",
       "      <td id=\"T_4bc2f_row3_col6\" class=\"data row3 col6\" >0.2807</td>\n",
       "    </tr>\n",
       "    <tr>\n",
       "      <th id=\"T_4bc2f_level0_row4\" class=\"row_heading level0 row4\" >4</th>\n",
       "      <td id=\"T_4bc2f_row4_col0\" class=\"data row4 col0\" >0.6244</td>\n",
       "      <td id=\"T_4bc2f_row4_col1\" class=\"data row4 col1\" >0.6247</td>\n",
       "      <td id=\"T_4bc2f_row4_col2\" class=\"data row4 col2\" >0.6358</td>\n",
       "      <td id=\"T_4bc2f_row4_col3\" class=\"data row4 col3\" >0.6217</td>\n",
       "      <td id=\"T_4bc2f_row4_col4\" class=\"data row4 col4\" >0.6287</td>\n",
       "      <td id=\"T_4bc2f_row4_col5\" class=\"data row4 col5\" >0.2489</td>\n",
       "      <td id=\"T_4bc2f_row4_col6\" class=\"data row4 col6\" >0.2489</td>\n",
       "    </tr>\n",
       "    <tr>\n",
       "      <th id=\"T_4bc2f_level0_row5\" class=\"row_heading level0 row5\" >5</th>\n",
       "      <td id=\"T_4bc2f_row5_col0\" class=\"data row5 col0\" >0.6402</td>\n",
       "      <td id=\"T_4bc2f_row5_col1\" class=\"data row5 col1\" >0.6403</td>\n",
       "      <td id=\"T_4bc2f_row5_col2\" class=\"data row5 col2\" >0.6499</td>\n",
       "      <td id=\"T_4bc2f_row5_col3\" class=\"data row5 col3\" >0.6375</td>\n",
       "      <td id=\"T_4bc2f_row5_col4\" class=\"data row5 col4\" >0.6436</td>\n",
       "      <td id=\"T_4bc2f_row5_col5\" class=\"data row5 col5\" >0.2803</td>\n",
       "      <td id=\"T_4bc2f_row5_col6\" class=\"data row5 col6\" >0.2804</td>\n",
       "    </tr>\n",
       "    <tr>\n",
       "      <th id=\"T_4bc2f_level0_row6\" class=\"row_heading level0 row6\" >6</th>\n",
       "      <td id=\"T_4bc2f_row6_col0\" class=\"data row6 col0\" >0.6253</td>\n",
       "      <td id=\"T_4bc2f_row6_col1\" class=\"data row6 col1\" >0.6255</td>\n",
       "      <td id=\"T_4bc2f_row6_col2\" class=\"data row6 col2\" >0.6341</td>\n",
       "      <td id=\"T_4bc2f_row6_col3\" class=\"data row6 col3\" >0.6231</td>\n",
       "      <td id=\"T_4bc2f_row6_col4\" class=\"data row6 col4\" >0.6286</td>\n",
       "      <td id=\"T_4bc2f_row6_col5\" class=\"data row6 col5\" >0.2506</td>\n",
       "      <td id=\"T_4bc2f_row6_col6\" class=\"data row6 col6\" >0.2506</td>\n",
       "    </tr>\n",
       "    <tr>\n",
       "      <th id=\"T_4bc2f_level0_row7\" class=\"row_heading level0 row7\" >7</th>\n",
       "      <td id=\"T_4bc2f_row7_col0\" class=\"data row7 col0\" >0.6363</td>\n",
       "      <td id=\"T_4bc2f_row7_col1\" class=\"data row7 col1\" >0.6368</td>\n",
       "      <td id=\"T_4bc2f_row7_col2\" class=\"data row7 col2\" >0.6339</td>\n",
       "      <td id=\"T_4bc2f_row7_col3\" class=\"data row7 col3\" >0.6369</td>\n",
       "      <td id=\"T_4bc2f_row7_col4\" class=\"data row7 col4\" >0.6354</td>\n",
       "      <td id=\"T_4bc2f_row7_col5\" class=\"data row7 col5\" >0.2725</td>\n",
       "      <td id=\"T_4bc2f_row7_col6\" class=\"data row7 col6\" >0.2725</td>\n",
       "    </tr>\n",
       "    <tr>\n",
       "      <th id=\"T_4bc2f_level0_row8\" class=\"row_heading level0 row8\" >8</th>\n",
       "      <td id=\"T_4bc2f_row8_col0\" class=\"data row8 col0\" >0.6401</td>\n",
       "      <td id=\"T_4bc2f_row8_col1\" class=\"data row8 col1\" >0.6406</td>\n",
       "      <td id=\"T_4bc2f_row8_col2\" class=\"data row8 col2\" >0.6481</td>\n",
       "      <td id=\"T_4bc2f_row8_col3\" class=\"data row8 col3\" >0.6379</td>\n",
       "      <td id=\"T_4bc2f_row8_col4\" class=\"data row8 col4\" >0.6429</td>\n",
       "      <td id=\"T_4bc2f_row8_col5\" class=\"data row8 col5\" >0.2801</td>\n",
       "      <td id=\"T_4bc2f_row8_col6\" class=\"data row8 col6\" >0.2802</td>\n",
       "    </tr>\n",
       "    <tr>\n",
       "      <th id=\"T_4bc2f_level0_row9\" class=\"row_heading level0 row9\" >9</th>\n",
       "      <td id=\"T_4bc2f_row9_col0\" class=\"data row9 col0\" >0.6271</td>\n",
       "      <td id=\"T_4bc2f_row9_col1\" class=\"data row9 col1\" >0.6272</td>\n",
       "      <td id=\"T_4bc2f_row9_col2\" class=\"data row9 col2\" >0.6274</td>\n",
       "      <td id=\"T_4bc2f_row9_col3\" class=\"data row9 col3\" >0.6271</td>\n",
       "      <td id=\"T_4bc2f_row9_col4\" class=\"data row9 col4\" >0.6272</td>\n",
       "      <td id=\"T_4bc2f_row9_col5\" class=\"data row9 col5\" >0.2543</td>\n",
       "      <td id=\"T_4bc2f_row9_col6\" class=\"data row9 col6\" >0.2543</td>\n",
       "    </tr>\n",
       "    <tr>\n",
       "      <th id=\"T_4bc2f_level0_row10\" class=\"row_heading level0 row10\" >Mean</th>\n",
       "      <td id=\"T_4bc2f_row10_col0\" class=\"data row10 col0\" >0.6348</td>\n",
       "      <td id=\"T_4bc2f_row10_col1\" class=\"data row10 col1\" >0.6351</td>\n",
       "      <td id=\"T_4bc2f_row10_col2\" class=\"data row10 col2\" >0.6416</td>\n",
       "      <td id=\"T_4bc2f_row10_col3\" class=\"data row10 col3\" >0.6329</td>\n",
       "      <td id=\"T_4bc2f_row10_col4\" class=\"data row10 col4\" >0.6372</td>\n",
       "      <td id=\"T_4bc2f_row10_col5\" class=\"data row10 col5\" >0.2695</td>\n",
       "      <td id=\"T_4bc2f_row10_col6\" class=\"data row10 col6\" >0.2696</td>\n",
       "    </tr>\n",
       "    <tr>\n",
       "      <th id=\"T_4bc2f_level0_row11\" class=\"row_heading level0 row11\" >Std</th>\n",
       "      <td id=\"T_4bc2f_row11_col0\" class=\"data row11 col0\" >0.0066</td>\n",
       "      <td id=\"T_4bc2f_row11_col1\" class=\"data row11 col1\" >0.0067</td>\n",
       "      <td id=\"T_4bc2f_row11_col2\" class=\"data row11 col2\" >0.0078</td>\n",
       "      <td id=\"T_4bc2f_row11_col3\" class=\"data row11 col3\" >0.0066</td>\n",
       "      <td id=\"T_4bc2f_row11_col4\" class=\"data row11 col4\" >0.0067</td>\n",
       "      <td id=\"T_4bc2f_row11_col5\" class=\"data row11 col5\" >0.0131</td>\n",
       "      <td id=\"T_4bc2f_row11_col6\" class=\"data row11 col6\" >0.0131</td>\n",
       "    </tr>\n",
       "  </tbody>\n",
       "</table>\n"
      ],
      "text/plain": [
       "<pandas.io.formats.style.Styler at 0x7f7e66f22f80>"
      ]
     },
     "metadata": {},
     "output_type": "display_data"
    },
    {
     "data": {
      "text/html": [],
      "text/plain": [
       "<IPython.core.display.HTML object>"
      ]
     },
     "metadata": {},
     "output_type": "display_data"
    }
   ],
   "source": [
    "dt = create_model('dt')"
   ]
  },
  {
   "cell_type": "code",
   "execution_count": 16,
   "metadata": {},
   "outputs": [
    {
     "data": {
      "text/html": [],
      "text/plain": [
       "<IPython.core.display.HTML object>"
      ]
     },
     "metadata": {},
     "output_type": "display_data"
    },
    {
     "data": {
      "image/png": "[encoded data removed]",
      "text/plain": [
       "<Figure size 800x550 with 1 Axes>"
      ]
     },
     "metadata": {},
     "output_type": "display_data"
    }
   ],
   "source": [
    "plot_model(dt, plot = 'confusion_matrix')"
   ]
  },
  {
   "cell_type": "code",
   "execution_count": 17,
   "metadata": {},
   "outputs": [
    {
     "data": {
      "text/html": [],
      "text/plain": [
       "<IPython.core.display.HTML object>"
      ]
     },
     "metadata": {},
     "output_type": "display_data"
    },
    {
     "data": {
      "image/png": "[encoded data removed]",
      "text/plain": [
       "<Figure size 800x550 with 1 Axes>"
      ]
     },
     "metadata": {},
     "output_type": "display_data"
    }
   ],
   "source": [
    "plot_model(dt, plot = 'error')"
   ]
  },
  {
   "cell_type": "code",
   "execution_count": 18,
   "metadata": {},
   "outputs": [
    {
     "data": {
      "text/html": [],
      "text/plain": [
       "<IPython.core.display.HTML object>"
      ]
     },
     "metadata": {},
     "output_type": "display_data"
    },
    {
     "data": {
      "text/html": [
       "<div>\n",
       "<style scoped>\n",
       "    .dataframe tbody tr th:only-of-type {\n",
       "        vertical-align: middle;\n",
       "    }\n",
       "\n",
       "    .dataframe tbody tr th {\n",
       "        vertical-align: top;\n",
       "    }\n",
       "\n",
       "    .dataframe thead th {\n",
       "        text-align: right;\n",
       "    }\n",
       "</style>\n",
       "<table border=\"1\" class=\"dataframe\">\n",
       "  <thead>\n",
       "    <tr style=\"text-align: right;\">\n",
       "      <th></th>\n",
       "      <th>Parameters</th>\n",
       "    </tr>\n",
       "  </thead>\n",
       "  <tbody>\n",
       "    <tr>\n",
       "      <th>ccp_alpha</th>\n",
       "      <td>0.0</td>\n",
       "    </tr>\n",
       "    <tr>\n",
       "      <th>class_weight</th>\n",
       "      <td>None</td>\n",
       "    </tr>\n",
       "    <tr>\n",
       "      <th>criterion</th>\n",
       "      <td>gini</td>\n",
       "    </tr>\n",
       "    <tr>\n",
       "      <th>max_depth</th>\n",
       "      <td>None</td>\n",
       "    </tr>\n",
       "    <tr>\n",
       "      <th>max_features</th>\n",
       "      <td>None</td>\n",
       "    </tr>\n",
       "    <tr>\n",
       "      <th>max_leaf_nodes</th>\n",
       "      <td>None</td>\n",
       "    </tr>\n",
       "    <tr>\n",
       "      <th>min_impurity_decrease</th>\n",
       "      <td>0.0</td>\n",
       "    </tr>\n",
       "    <tr>\n",
       "      <th>min_samples_leaf</th>\n",
       "      <td>1</td>\n",
       "    </tr>\n",
       "    <tr>\n",
       "      <th>min_samples_split</th>\n",
       "      <td>2</td>\n",
       "    </tr>\n",
       "    <tr>\n",
       "      <th>min_weight_fraction_leaf</th>\n",
       "      <td>0.0</td>\n",
       "    </tr>\n",
       "    <tr>\n",
       "      <th>random_state</th>\n",
       "      <td>4991</td>\n",
       "    </tr>\n",
       "    <tr>\n",
       "      <th>splitter</th>\n",
       "      <td>best</td>\n",
       "    </tr>\n",
       "  </tbody>\n",
       "</table>\n",
       "</div>"
      ],
      "text/plain": [
       "                         Parameters\n",
       "ccp_alpha                       0.0\n",
       "class_weight                   None\n",
       "criterion                      gini\n",
       "max_depth                      None\n",
       "max_features                   None\n",
       "max_leaf_nodes                 None\n",
       "min_impurity_decrease           0.0\n",
       "min_samples_leaf                  1\n",
       "min_samples_split                 2\n",
       "min_weight_fraction_leaf        0.0\n",
       "random_state                   4991\n",
       "splitter                       best"
      ]
     },
     "metadata": {},
     "output_type": "display_data"
    }
   ],
   "source": [
    "plot_model(dt, plot = 'parameter')"
   ]
  },
  {
   "cell_type": "code",
   "execution_count": 19,
   "metadata": {},
   "outputs": [
    {
     "name": "stdout",
     "output_type": "stream",
     "text": [
      "Transformation Pipeline and Model Successfully Saved\n"
     ]
    },
    {
     "data": {
      "text/plain": [
       "(Pipeline(memory=FastMemory(location=/tmp/joblib),\n",
       "          steps=[('numerical_imputer',\n",
       "                  TransformerWrapper(exclude=None,\n",
       "                                     include=['0', '1', '2', '3', '4', '5', '6',\n",
       "                                              '7', '8', '9', '10', '11', '12',\n",
       "                                              '13', '14', '15', '16', '17', '18',\n",
       "                                              '19', '20', '21', '22', '23', '24',\n",
       "                                              '25', '26', '27', '28', '29', ...],\n",
       "                                     transformer=SimpleImputer(add_indicator=False,\n",
       "                                                               copy=True,\n",
       "                                                               fill_value=None,\n",
       "                                                               keep_empty_feat...\n",
       "                                                               missing_values=nan,\n",
       "                                                               strategy='most_frequent',\n",
       "                                                               verbose='deprecated'))),\n",
       "                 ('trained_model',\n",
       "                  DecisionTreeClassifier(ccp_alpha=0.0, class_weight=None,\n",
       "                                         criterion='gini', max_depth=None,\n",
       "                                         max_features=None, max_leaf_nodes=None,\n",
       "                                         min_impurity_decrease=0.0,\n",
       "                                         min_samples_leaf=1, min_samples_split=2,\n",
       "                                         min_weight_fraction_leaf=0.0,\n",
       "                                         random_state=4991, splitter='best'))],\n",
       "          verbose=False),\n",
       " 'models_classif/complex/non-reified/dt.pkl')"
      ]
     },
     "execution_count": 19,
     "metadata": {},
     "output_type": "execute_result"
    }
   ],
   "source": [
    "save_model(dt, 'models_classif/complex/non-reified/dt')"
   ]
  },
  {
   "cell_type": "markdown",
   "metadata": {},
   "source": [
    "# SVM - Linear Kernel"
   ]
  },
  {
   "cell_type": "code",
   "execution_count": 20,
   "metadata": {},
   "outputs": [
    {
     "data": {
      "text/html": [],
      "text/plain": [
       "<IPython.core.display.HTML object>"
      ]
     },
     "metadata": {},
     "output_type": "display_data"
    },
    {
     "data": {
      "text/html": [
       "<style type=\"text/css\">\n",
       "#T_3aa22_row10_col0, #T_3aa22_row10_col1, #T_3aa22_row10_col2, #T_3aa22_row10_col3, #T_3aa22_row10_col4, #T_3aa22_row10_col5, #T_3aa22_row10_col6 {\n",
       "  background: yellow;\n",
       "}\n",
       "</style>\n",
       "<table id=\"T_3aa22\">\n",
       "  <thead>\n",
       "    <tr>\n",
       "      <th class=\"blank level0\" >&nbsp;</th>\n",
       "      <th id=\"T_3aa22_level0_col0\" class=\"col_heading level0 col0\" >Accuracy</th>\n",
       "      <th id=\"T_3aa22_level0_col1\" class=\"col_heading level0 col1\" >AUC</th>\n",
       "      <th id=\"T_3aa22_level0_col2\" class=\"col_heading level0 col2\" >Recall</th>\n",
       "      <th id=\"T_3aa22_level0_col3\" class=\"col_heading level0 col3\" >Prec.</th>\n",
       "      <th id=\"T_3aa22_level0_col4\" class=\"col_heading level0 col4\" >F1</th>\n",
       "      <th id=\"T_3aa22_level0_col5\" class=\"col_heading level0 col5\" >Kappa</th>\n",
       "      <th id=\"T_3aa22_level0_col6\" class=\"col_heading level0 col6\" >MCC</th>\n",
       "    </tr>\n",
       "    <tr>\n",
       "      <th class=\"index_name level0\" >Fold</th>\n",
       "      <th class=\"blank col0\" >&nbsp;</th>\n",
       "      <th class=\"blank col1\" >&nbsp;</th>\n",
       "      <th class=\"blank col2\" >&nbsp;</th>\n",
       "      <th class=\"blank col3\" >&nbsp;</th>\n",
       "      <th class=\"blank col4\" >&nbsp;</th>\n",
       "      <th class=\"blank col5\" >&nbsp;</th>\n",
       "      <th class=\"blank col6\" >&nbsp;</th>\n",
       "    </tr>\n",
       "  </thead>\n",
       "  <tbody>\n",
       "    <tr>\n",
       "      <th id=\"T_3aa22_level0_row0\" class=\"row_heading level0 row0\" >0</th>\n",
       "      <td id=\"T_3aa22_row0_col0\" class=\"data row0 col0\" >0.5462</td>\n",
       "      <td id=\"T_3aa22_row0_col1\" class=\"data row0 col1\" >0.0000</td>\n",
       "      <td id=\"T_3aa22_row0_col2\" class=\"data row0 col2\" >0.1075</td>\n",
       "      <td id=\"T_3aa22_row0_col3\" class=\"data row0 col3\" >0.8758</td>\n",
       "      <td id=\"T_3aa22_row0_col4\" class=\"data row0 col4\" >0.1915</td>\n",
       "      <td id=\"T_3aa22_row0_col5\" class=\"data row0 col5\" >0.0923</td>\n",
       "      <td id=\"T_3aa22_row0_col6\" class=\"data row0 col6\" >0.1922</td>\n",
       "    </tr>\n",
       "    <tr>\n",
       "      <th id=\"T_3aa22_level0_row1\" class=\"row_heading level0 row1\" >1</th>\n",
       "      <td id=\"T_3aa22_row1_col0\" class=\"data row1 col0\" >0.5512</td>\n",
       "      <td id=\"T_3aa22_row1_col1\" class=\"data row1 col1\" >0.0000</td>\n",
       "      <td id=\"T_3aa22_row1_col2\" class=\"data row1 col2\" >0.1666</td>\n",
       "      <td id=\"T_3aa22_row1_col3\" class=\"data row1 col3\" >0.7220</td>\n",
       "      <td id=\"T_3aa22_row1_col4\" class=\"data row1 col4\" >0.2708</td>\n",
       "      <td id=\"T_3aa22_row1_col5\" class=\"data row1 col5\" >0.1025</td>\n",
       "      <td id=\"T_3aa22_row1_col6\" class=\"data row1 col6\" >0.1603</td>\n",
       "    </tr>\n",
       "    <tr>\n",
       "      <th id=\"T_3aa22_level0_row2\" class=\"row_heading level0 row2\" >2</th>\n",
       "      <td id=\"T_3aa22_row2_col0\" class=\"data row2 col0\" >0.5493</td>\n",
       "      <td id=\"T_3aa22_row2_col1\" class=\"data row2 col1\" >0.0000</td>\n",
       "      <td id=\"T_3aa22_row2_col2\" class=\"data row2 col2\" >0.1536</td>\n",
       "      <td id=\"T_3aa22_row2_col3\" class=\"data row2 col3\" >0.7368</td>\n",
       "      <td id=\"T_3aa22_row2_col4\" class=\"data row2 col4\" >0.2542</td>\n",
       "      <td id=\"T_3aa22_row2_col5\" class=\"data row2 col5\" >0.0987</td>\n",
       "      <td id=\"T_3aa22_row2_col6\" class=\"data row2 col6\" >0.1616</td>\n",
       "    </tr>\n",
       "    <tr>\n",
       "      <th id=\"T_3aa22_level0_row3\" class=\"row_heading level0 row3\" >3</th>\n",
       "      <td id=\"T_3aa22_row3_col0\" class=\"data row3 col0\" >0.5525</td>\n",
       "      <td id=\"T_3aa22_row3_col1\" class=\"data row3 col1\" >0.0000</td>\n",
       "      <td id=\"T_3aa22_row3_col2\" class=\"data row3 col2\" >0.4857</td>\n",
       "      <td id=\"T_3aa22_row3_col3\" class=\"data row3 col3\" >0.5607</td>\n",
       "      <td id=\"T_3aa22_row3_col4\" class=\"data row3 col4\" >0.5205</td>\n",
       "      <td id=\"T_3aa22_row3_col5\" class=\"data row3 col5\" >0.1051</td>\n",
       "      <td id=\"T_3aa22_row3_col6\" class=\"data row3 col6\" >0.1060</td>\n",
       "    </tr>\n",
       "    <tr>\n",
       "      <th id=\"T_3aa22_level0_row4\" class=\"row_heading level0 row4\" >4</th>\n",
       "      <td id=\"T_3aa22_row4_col0\" class=\"data row4 col0\" >0.5551</td>\n",
       "      <td id=\"T_3aa22_row4_col1\" class=\"data row4 col1\" >0.0000</td>\n",
       "      <td id=\"T_3aa22_row4_col2\" class=\"data row4 col2\" >0.5285</td>\n",
       "      <td id=\"T_3aa22_row4_col3\" class=\"data row4 col3\" >0.5582</td>\n",
       "      <td id=\"T_3aa22_row4_col4\" class=\"data row4 col4\" >0.5429</td>\n",
       "      <td id=\"T_3aa22_row4_col5\" class=\"data row4 col5\" >0.1101</td>\n",
       "      <td id=\"T_3aa22_row4_col6\" class=\"data row4 col6\" >0.1103</td>\n",
       "    </tr>\n",
       "    <tr>\n",
       "      <th id=\"T_3aa22_level0_row5\" class=\"row_heading level0 row5\" >5</th>\n",
       "      <td id=\"T_3aa22_row5_col0\" class=\"data row5 col0\" >0.5533</td>\n",
       "      <td id=\"T_3aa22_row5_col1\" class=\"data row5 col1\" >0.0000</td>\n",
       "      <td id=\"T_3aa22_row5_col2\" class=\"data row5 col2\" >0.4516</td>\n",
       "      <td id=\"T_3aa22_row5_col3\" class=\"data row5 col3\" >0.5669</td>\n",
       "      <td id=\"T_3aa22_row5_col4\" class=\"data row5 col4\" >0.5027</td>\n",
       "      <td id=\"T_3aa22_row5_col5\" class=\"data row5 col5\" >0.1066</td>\n",
       "      <td id=\"T_3aa22_row5_col6\" class=\"data row5 col6\" >0.1089</td>\n",
       "    </tr>\n",
       "    <tr>\n",
       "      <th id=\"T_3aa22_level0_row6\" class=\"row_heading level0 row6\" >6</th>\n",
       "      <td id=\"T_3aa22_row6_col0\" class=\"data row6 col0\" >0.5545</td>\n",
       "      <td id=\"T_3aa22_row6_col1\" class=\"data row6 col1\" >0.0000</td>\n",
       "      <td id=\"T_3aa22_row6_col2\" class=\"data row6 col2\" >0.2937</td>\n",
       "      <td id=\"T_3aa22_row6_col3\" class=\"data row6 col3\" >0.6139</td>\n",
       "      <td id=\"T_3aa22_row6_col4\" class=\"data row6 col4\" >0.3973</td>\n",
       "      <td id=\"T_3aa22_row6_col5\" class=\"data row6 col5\" >0.1090</td>\n",
       "      <td id=\"T_3aa22_row6_col6\" class=\"data row6 col6\" >0.1278</td>\n",
       "    </tr>\n",
       "    <tr>\n",
       "      <th id=\"T_3aa22_level0_row7\" class=\"row_heading level0 row7\" >7</th>\n",
       "      <td id=\"T_3aa22_row7_col0\" class=\"data row7 col0\" >0.5590</td>\n",
       "      <td id=\"T_3aa22_row7_col1\" class=\"data row7 col1\" >0.0000</td>\n",
       "      <td id=\"T_3aa22_row7_col2\" class=\"data row7 col2\" >0.2853</td>\n",
       "      <td id=\"T_3aa22_row7_col3\" class=\"data row7 col3\" >0.6302</td>\n",
       "      <td id=\"T_3aa22_row7_col4\" class=\"data row7 col4\" >0.3928</td>\n",
       "      <td id=\"T_3aa22_row7_col5\" class=\"data row7 col5\" >0.1179</td>\n",
       "      <td id=\"T_3aa22_row7_col6\" class=\"data row7 col6\" >0.1409</td>\n",
       "    </tr>\n",
       "    <tr>\n",
       "      <th id=\"T_3aa22_level0_row8\" class=\"row_heading level0 row8\" >8</th>\n",
       "      <td id=\"T_3aa22_row8_col0\" class=\"data row8 col0\" >0.5517</td>\n",
       "      <td id=\"T_3aa22_row8_col1\" class=\"data row8 col1\" >0.0000</td>\n",
       "      <td id=\"T_3aa22_row8_col2\" class=\"data row8 col2\" >0.1987</td>\n",
       "      <td id=\"T_3aa22_row8_col3\" class=\"data row8 col3\" >0.6759</td>\n",
       "      <td id=\"T_3aa22_row8_col4\" class=\"data row8 col4\" >0.3071</td>\n",
       "      <td id=\"T_3aa22_row8_col5\" class=\"data row8 col5\" >0.1034</td>\n",
       "      <td id=\"T_3aa22_row8_col6\" class=\"data row8 col6\" >0.1461</td>\n",
       "    </tr>\n",
       "    <tr>\n",
       "      <th id=\"T_3aa22_level0_row9\" class=\"row_heading level0 row9\" >9</th>\n",
       "      <td id=\"T_3aa22_row9_col0\" class=\"data row9 col0\" >0.5533</td>\n",
       "      <td id=\"T_3aa22_row9_col1\" class=\"data row9 col1\" >0.0000</td>\n",
       "      <td id=\"T_3aa22_row9_col2\" class=\"data row9 col2\" >0.2000</td>\n",
       "      <td id=\"T_3aa22_row9_col3\" class=\"data row9 col3\" >0.6817</td>\n",
       "      <td id=\"T_3aa22_row9_col4\" class=\"data row9 col4\" >0.3092</td>\n",
       "      <td id=\"T_3aa22_row9_col5\" class=\"data row9 col5\" >0.1066</td>\n",
       "      <td id=\"T_3aa22_row9_col6\" class=\"data row9 col6\" >0.1506</td>\n",
       "    </tr>\n",
       "    <tr>\n",
       "      <th id=\"T_3aa22_level0_row10\" class=\"row_heading level0 row10\" >Mean</th>\n",
       "      <td id=\"T_3aa22_row10_col0\" class=\"data row10 col0\" >0.5526</td>\n",
       "      <td id=\"T_3aa22_row10_col1\" class=\"data row10 col1\" >0.0000</td>\n",
       "      <td id=\"T_3aa22_row10_col2\" class=\"data row10 col2\" >0.2871</td>\n",
       "      <td id=\"T_3aa22_row10_col3\" class=\"data row10 col3\" >0.6622</td>\n",
       "      <td id=\"T_3aa22_row10_col4\" class=\"data row10 col4\" >0.3689</td>\n",
       "      <td id=\"T_3aa22_row10_col5\" class=\"data row10 col5\" >0.1052</td>\n",
       "      <td id=\"T_3aa22_row10_col6\" class=\"data row10 col6\" >0.1405</td>\n",
       "    </tr>\n",
       "    <tr>\n",
       "      <th id=\"T_3aa22_level0_row11\" class=\"row_heading level0 row11\" >Std</th>\n",
       "      <td id=\"T_3aa22_row11_col0\" class=\"data row11 col0\" >0.0033</td>\n",
       "      <td id=\"T_3aa22_row11_col1\" class=\"data row11 col1\" >0.0000</td>\n",
       "      <td id=\"T_3aa22_row11_col2\" class=\"data row11 col2\" >0.1431</td>\n",
       "      <td id=\"T_3aa22_row11_col3\" class=\"data row11 col3\" >0.0943</td>\n",
       "      <td id=\"T_3aa22_row11_col4\" class=\"data row11 col4\" >0.1158</td>\n",
       "      <td id=\"T_3aa22_row11_col5\" class=\"data row11 col5\" >0.0065</td>\n",
       "      <td id=\"T_3aa22_row11_col6\" class=\"data row11 col6\" >0.0263</td>\n",
       "    </tr>\n",
       "  </tbody>\n",
       "</table>\n"
      ],
      "text/plain": [
       "<pandas.io.formats.style.Styler at 0x7f7e70ef79d0>"
      ]
     },
     "metadata": {},
     "output_type": "display_data"
    },
    {
     "data": {
      "text/html": [],
      "text/plain": [
       "<IPython.core.display.HTML object>"
      ]
     },
     "metadata": {},
     "output_type": "display_data"
    }
   ],
   "source": [
    "svm = create_model('svm')"
   ]
  },
  {
   "cell_type": "code",
   "execution_count": 21,
   "metadata": {},
   "outputs": [
    {
     "data": {
      "text/html": [],
      "text/plain": [
       "<IPython.core.display.HTML object>"
      ]
     },
     "metadata": {},
     "output_type": "display_data"
    },
    {
     "data": {
      "image/png": "[encoded data removed]",
      "text/plain": [
       "<Figure size 800x550 with 1 Axes>"
      ]
     },
     "metadata": {},
     "output_type": "display_data"
    }
   ],
   "source": [
    "plot_model(svm, plot = 'confusion_matrix')"
   ]
  },
  {
   "cell_type": "code",
   "execution_count": 22,
   "metadata": {},
   "outputs": [
    {
     "data": {
      "text/html": [],
      "text/plain": [
       "<IPython.core.display.HTML object>"
      ]
     },
     "metadata": {},
     "output_type": "display_data"
    },
    {
     "data": {
      "image/png": "[encoded data removed]",
      "text/plain": [
       "<Figure size 800x550 with 1 Axes>"
      ]
     },
     "metadata": {},
     "output_type": "display_data"
    }
   ],
   "source": [
    "plot_model(svm, plot = 'error')"
   ]
  },
  {
   "cell_type": "code",
   "execution_count": 23,
   "metadata": {},
   "outputs": [
    {
     "data": {
      "text/html": [],
      "text/plain": [
       "<IPython.core.display.HTML object>"
      ]
     },
     "metadata": {},
     "output_type": "display_data"
    },
    {
     "data": {
      "text/html": [
       "<div>\n",
       "<style scoped>\n",
       "    .dataframe tbody tr th:only-of-type {\n",
       "        vertical-align: middle;\n",
       "    }\n",
       "\n",
       "    .dataframe tbody tr th {\n",
       "        vertical-align: top;\n",
       "    }\n",
       "\n",
       "    .dataframe thead th {\n",
       "        text-align: right;\n",
       "    }\n",
       "</style>\n",
       "<table border=\"1\" class=\"dataframe\">\n",
       "  <thead>\n",
       "    <tr style=\"text-align: right;\">\n",
       "      <th></th>\n",
       "      <th>Parameters</th>\n",
       "    </tr>\n",
       "  </thead>\n",
       "  <tbody>\n",
       "    <tr>\n",
       "      <th>alpha</th>\n",
       "      <td>0.0001</td>\n",
       "    </tr>\n",
       "    <tr>\n",
       "      <th>average</th>\n",
       "      <td>False</td>\n",
       "    </tr>\n",
       "    <tr>\n",
       "      <th>class_weight</th>\n",
       "      <td>None</td>\n",
       "    </tr>\n",
       "    <tr>\n",
       "      <th>early_stopping</th>\n",
       "      <td>False</td>\n",
       "    </tr>\n",
       "    <tr>\n",
       "      <th>epsilon</th>\n",
       "      <td>0.1</td>\n",
       "    </tr>\n",
       "    <tr>\n",
       "      <th>eta0</th>\n",
       "      <td>0.001</td>\n",
       "    </tr>\n",
       "    <tr>\n",
       "      <th>fit_intercept</th>\n",
       "      <td>True</td>\n",
       "    </tr>\n",
       "    <tr>\n",
       "      <th>l1_ratio</th>\n",
       "      <td>0.15</td>\n",
       "    </tr>\n",
       "    <tr>\n",
       "      <th>learning_rate</th>\n",
       "      <td>optimal</td>\n",
       "    </tr>\n",
       "    <tr>\n",
       "      <th>loss</th>\n",
       "      <td>hinge</td>\n",
       "    </tr>\n",
       "    <tr>\n",
       "      <th>max_iter</th>\n",
       "      <td>1000</td>\n",
       "    </tr>\n",
       "    <tr>\n",
       "      <th>n_iter_no_change</th>\n",
       "      <td>5</td>\n",
       "    </tr>\n",
       "    <tr>\n",
       "      <th>n_jobs</th>\n",
       "      <td>-1</td>\n",
       "    </tr>\n",
       "    <tr>\n",
       "      <th>penalty</th>\n",
       "      <td>l2</td>\n",
       "    </tr>\n",
       "    <tr>\n",
       "      <th>power_t</th>\n",
       "      <td>0.5</td>\n",
       "    </tr>\n",
       "    <tr>\n",
       "      <th>random_state</th>\n",
       "      <td>4991</td>\n",
       "    </tr>\n",
       "    <tr>\n",
       "      <th>shuffle</th>\n",
       "      <td>True</td>\n",
       "    </tr>\n",
       "    <tr>\n",
       "      <th>tol</th>\n",
       "      <td>0.001</td>\n",
       "    </tr>\n",
       "    <tr>\n",
       "      <th>validation_fraction</th>\n",
       "      <td>0.1</td>\n",
       "    </tr>\n",
       "    <tr>\n",
       "      <th>verbose</th>\n",
       "      <td>0</td>\n",
       "    </tr>\n",
       "    <tr>\n",
       "      <th>warm_start</th>\n",
       "      <td>False</td>\n",
       "    </tr>\n",
       "  </tbody>\n",
       "</table>\n",
       "</div>"
      ],
      "text/plain": [
       "                    Parameters\n",
       "alpha                   0.0001\n",
       "average                  False\n",
       "class_weight              None\n",
       "early_stopping           False\n",
       "epsilon                    0.1\n",
       "eta0                     0.001\n",
       "fit_intercept             True\n",
       "l1_ratio                  0.15\n",
       "learning_rate          optimal\n",
       "loss                     hinge\n",
       "max_iter                  1000\n",
       "n_iter_no_change             5\n",
       "n_jobs                      -1\n",
       "penalty                     l2\n",
       "power_t                    0.5\n",
       "random_state              4991\n",
       "shuffle                   True\n",
       "tol                      0.001\n",
       "validation_fraction        0.1\n",
       "verbose                      0\n",
       "warm_start               False"
      ]
     },
     "metadata": {},
     "output_type": "display_data"
    }
   ],
   "source": [
    "plot_model(svm, plot = 'parameter')"
   ]
  },
  {
   "cell_type": "code",
   "execution_count": 24,
   "metadata": {},
   "outputs": [
    {
     "name": "stdout",
     "output_type": "stream",
     "text": [
      "Transformation Pipeline and Model Successfully Saved\n"
     ]
    },
    {
     "data": {
      "text/plain": [
       "(Pipeline(memory=FastMemory(location=/tmp/joblib),\n",
       "          steps=[('numerical_imputer',\n",
       "                  TransformerWrapper(exclude=None,\n",
       "                                     include=['0', '1', '2', '3', '4', '5', '6',\n",
       "                                              '7', '8', '9', '10', '11', '12',\n",
       "                                              '13', '14', '15', '16', '17', '18',\n",
       "                                              '19', '20', '21', '22', '23', '24',\n",
       "                                              '25', '26', '27', '28', '29', ...],\n",
       "                                     transformer=SimpleImputer(add_indicator=False,\n",
       "                                                               copy=True,\n",
       "                                                               fill_value=None,\n",
       "                                                               keep_empty_feat...\n",
       "                  SGDClassifier(alpha=0.0001, average=False, class_weight=None,\n",
       "                                early_stopping=False, epsilon=0.1, eta0=0.001,\n",
       "                                fit_intercept=True, l1_ratio=0.15,\n",
       "                                learning_rate='optimal', loss='hinge',\n",
       "                                max_iter=1000, n_iter_no_change=5, n_jobs=-1,\n",
       "                                penalty='l2', power_t=0.5, random_state=4991,\n",
       "                                shuffle=True, tol=0.001, validation_fraction=0.1,\n",
       "                                verbose=0, warm_start=False))],\n",
       "          verbose=False),\n",
       " 'models_classif/complex/non-reified/svm.pkl')"
      ]
     },
     "execution_count": 24,
     "metadata": {},
     "output_type": "execute_result"
    }
   ],
   "source": [
    "save_model(svm, 'models_classif/complex/non-reified/svm')"
   ]
  },
  {
   "cell_type": "markdown",
   "metadata": {},
   "source": [
    "# Ridge Classifier"
   ]
  },
  {
   "cell_type": "code",
   "execution_count": 25,
   "metadata": {},
   "outputs": [
    {
     "data": {
      "text/html": [],
      "text/plain": [
       "<IPython.core.display.HTML object>"
      ]
     },
     "metadata": {},
     "output_type": "display_data"
    },
    {
     "data": {
      "text/html": [
       "<style type=\"text/css\">\n",
       "#T_c4688_row10_col0, #T_c4688_row10_col1, #T_c4688_row10_col2, #T_c4688_row10_col3, #T_c4688_row10_col4, #T_c4688_row10_col5, #T_c4688_row10_col6 {\n",
       "  background: yellow;\n",
       "}\n",
       "</style>\n",
       "<table id=\"T_c4688\">\n",
       "  <thead>\n",
       "    <tr>\n",
       "      <th class=\"blank level0\" >&nbsp;</th>\n",
       "      <th id=\"T_c4688_level0_col0\" class=\"col_heading level0 col0\" >Accuracy</th>\n",
       "      <th id=\"T_c4688_level0_col1\" class=\"col_heading level0 col1\" >AUC</th>\n",
       "      <th id=\"T_c4688_level0_col2\" class=\"col_heading level0 col2\" >Recall</th>\n",
       "      <th id=\"T_c4688_level0_col3\" class=\"col_heading level0 col3\" >Prec.</th>\n",
       "      <th id=\"T_c4688_level0_col4\" class=\"col_heading level0 col4\" >F1</th>\n",
       "      <th id=\"T_c4688_level0_col5\" class=\"col_heading level0 col5\" >Kappa</th>\n",
       "      <th id=\"T_c4688_level0_col6\" class=\"col_heading level0 col6\" >MCC</th>\n",
       "    </tr>\n",
       "    <tr>\n",
       "      <th class=\"index_name level0\" >Fold</th>\n",
       "      <th class=\"blank col0\" >&nbsp;</th>\n",
       "      <th class=\"blank col1\" >&nbsp;</th>\n",
       "      <th class=\"blank col2\" >&nbsp;</th>\n",
       "      <th class=\"blank col3\" >&nbsp;</th>\n",
       "      <th class=\"blank col4\" >&nbsp;</th>\n",
       "      <th class=\"blank col5\" >&nbsp;</th>\n",
       "      <th class=\"blank col6\" >&nbsp;</th>\n",
       "    </tr>\n",
       "  </thead>\n",
       "  <tbody>\n",
       "    <tr>\n",
       "      <th id=\"T_c4688_level0_row0\" class=\"row_heading level0 row0\" >0</th>\n",
       "      <td id=\"T_c4688_row0_col0\" class=\"data row0 col0\" >0.5667</td>\n",
       "      <td id=\"T_c4688_row0_col1\" class=\"data row0 col1\" >0.0000</td>\n",
       "      <td id=\"T_c4688_row0_col2\" class=\"data row0 col2\" >0.5329</td>\n",
       "      <td id=\"T_c4688_row0_col3\" class=\"data row0 col3\" >0.5715</td>\n",
       "      <td id=\"T_c4688_row0_col4\" class=\"data row0 col4\" >0.5515</td>\n",
       "      <td id=\"T_c4688_row0_col5\" class=\"data row0 col5\" >0.1334</td>\n",
       "      <td id=\"T_c4688_row0_col6\" class=\"data row0 col6\" >0.1338</td>\n",
       "    </tr>\n",
       "    <tr>\n",
       "      <th id=\"T_c4688_level0_row1\" class=\"row_heading level0 row1\" >1</th>\n",
       "      <td id=\"T_c4688_row1_col0\" class=\"data row1 col0\" >0.5643</td>\n",
       "      <td id=\"T_c4688_row1_col1\" class=\"data row1 col1\" >0.0000</td>\n",
       "      <td id=\"T_c4688_row1_col2\" class=\"data row1 col2\" >0.5336</td>\n",
       "      <td id=\"T_c4688_row1_col3\" class=\"data row1 col3\" >0.5686</td>\n",
       "      <td id=\"T_c4688_row1_col4\" class=\"data row1 col4\" >0.5505</td>\n",
       "      <td id=\"T_c4688_row1_col5\" class=\"data row1 col5\" >0.1286</td>\n",
       "      <td id=\"T_c4688_row1_col6\" class=\"data row1 col6\" >0.1289</td>\n",
       "    </tr>\n",
       "    <tr>\n",
       "      <th id=\"T_c4688_level0_row2\" class=\"row_heading level0 row2\" >2</th>\n",
       "      <td id=\"T_c4688_row2_col0\" class=\"data row2 col0\" >0.5631</td>\n",
       "      <td id=\"T_c4688_row2_col1\" class=\"data row2 col1\" >0.0000</td>\n",
       "      <td id=\"T_c4688_row2_col2\" class=\"data row2 col2\" >0.5140</td>\n",
       "      <td id=\"T_c4688_row2_col3\" class=\"data row2 col3\" >0.5700</td>\n",
       "      <td id=\"T_c4688_row2_col4\" class=\"data row2 col4\" >0.5406</td>\n",
       "      <td id=\"T_c4688_row2_col5\" class=\"data row2 col5\" >0.1262</td>\n",
       "      <td id=\"T_c4688_row2_col6\" class=\"data row2 col6\" >0.1268</td>\n",
       "    </tr>\n",
       "    <tr>\n",
       "      <th id=\"T_c4688_level0_row3\" class=\"row_heading level0 row3\" >3</th>\n",
       "      <td id=\"T_c4688_row3_col0\" class=\"data row3 col0\" >0.5743</td>\n",
       "      <td id=\"T_c4688_row3_col1\" class=\"data row3 col1\" >0.0000</td>\n",
       "      <td id=\"T_c4688_row3_col2\" class=\"data row3 col2\" >0.5443</td>\n",
       "      <td id=\"T_c4688_row3_col3\" class=\"data row3 col3\" >0.5791</td>\n",
       "      <td id=\"T_c4688_row3_col4\" class=\"data row3 col4\" >0.5611</td>\n",
       "      <td id=\"T_c4688_row3_col5\" class=\"data row3 col5\" >0.1486</td>\n",
       "      <td id=\"T_c4688_row3_col6\" class=\"data row3 col6\" >0.1489</td>\n",
       "    </tr>\n",
       "    <tr>\n",
       "      <th id=\"T_c4688_level0_row4\" class=\"row_heading level0 row4\" >4</th>\n",
       "      <td id=\"T_c4688_row4_col0\" class=\"data row4 col0\" >0.5755</td>\n",
       "      <td id=\"T_c4688_row4_col1\" class=\"data row4 col1\" >0.0000</td>\n",
       "      <td id=\"T_c4688_row4_col2\" class=\"data row4 col2\" >0.5348</td>\n",
       "      <td id=\"T_c4688_row4_col3\" class=\"data row4 col3\" >0.5822</td>\n",
       "      <td id=\"T_c4688_row4_col4\" class=\"data row4 col4\" >0.5575</td>\n",
       "      <td id=\"T_c4688_row4_col5\" class=\"data row4 col5\" >0.1510</td>\n",
       "      <td id=\"T_c4688_row4_col6\" class=\"data row4 col6\" >0.1515</td>\n",
       "    </tr>\n",
       "    <tr>\n",
       "      <th id=\"T_c4688_level0_row5\" class=\"row_heading level0 row5\" >5</th>\n",
       "      <td id=\"T_c4688_row5_col0\" class=\"data row5 col0\" >0.5693</td>\n",
       "      <td id=\"T_c4688_row5_col1\" class=\"data row5 col1\" >0.0000</td>\n",
       "      <td id=\"T_c4688_row5_col2\" class=\"data row5 col2\" >0.5268</td>\n",
       "      <td id=\"T_c4688_row5_col3\" class=\"data row5 col3\" >0.5757</td>\n",
       "      <td id=\"T_c4688_row5_col4\" class=\"data row5 col4\" >0.5502</td>\n",
       "      <td id=\"T_c4688_row5_col5\" class=\"data row5 col5\" >0.1386</td>\n",
       "      <td id=\"T_c4688_row5_col6\" class=\"data row5 col6\" >0.1391</td>\n",
       "    </tr>\n",
       "    <tr>\n",
       "      <th id=\"T_c4688_level0_row6\" class=\"row_heading level0 row6\" >6</th>\n",
       "      <td id=\"T_c4688_row6_col0\" class=\"data row6 col0\" >0.5725</td>\n",
       "      <td id=\"T_c4688_row6_col1\" class=\"data row6 col1\" >0.0000</td>\n",
       "      <td id=\"T_c4688_row6_col2\" class=\"data row6 col2\" >0.5246</td>\n",
       "      <td id=\"T_c4688_row6_col3\" class=\"data row6 col3\" >0.5802</td>\n",
       "      <td id=\"T_c4688_row6_col4\" class=\"data row6 col4\" >0.5510</td>\n",
       "      <td id=\"T_c4688_row6_col5\" class=\"data row6 col5\" >0.1451</td>\n",
       "      <td id=\"T_c4688_row6_col6\" class=\"data row6 col6\" >0.1458</td>\n",
       "    </tr>\n",
       "    <tr>\n",
       "      <th id=\"T_c4688_level0_row7\" class=\"row_heading level0 row7\" >7</th>\n",
       "      <td id=\"T_c4688_row7_col0\" class=\"data row7 col0\" >0.5703</td>\n",
       "      <td id=\"T_c4688_row7_col1\" class=\"data row7 col1\" >0.0000</td>\n",
       "      <td id=\"T_c4688_row7_col2\" class=\"data row7 col2\" >0.5424</td>\n",
       "      <td id=\"T_c4688_row7_col3\" class=\"data row7 col3\" >0.5745</td>\n",
       "      <td id=\"T_c4688_row7_col4\" class=\"data row7 col4\" >0.5580</td>\n",
       "      <td id=\"T_c4688_row7_col5\" class=\"data row7 col5\" >0.1406</td>\n",
       "      <td id=\"T_c4688_row7_col6\" class=\"data row7 col6\" >0.1408</td>\n",
       "    </tr>\n",
       "    <tr>\n",
       "      <th id=\"T_c4688_level0_row8\" class=\"row_heading level0 row8\" >8</th>\n",
       "      <td id=\"T_c4688_row8_col0\" class=\"data row8 col0\" >0.5685</td>\n",
       "      <td id=\"T_c4688_row8_col1\" class=\"data row8 col1\" >0.0000</td>\n",
       "      <td id=\"T_c4688_row8_col2\" class=\"data row8 col2\" >0.5272</td>\n",
       "      <td id=\"T_c4688_row8_col3\" class=\"data row8 col3\" >0.5747</td>\n",
       "      <td id=\"T_c4688_row8_col4\" class=\"data row8 col4\" >0.5499</td>\n",
       "      <td id=\"T_c4688_row8_col5\" class=\"data row8 col5\" >0.1371</td>\n",
       "      <td id=\"T_c4688_row8_col6\" class=\"data row8 col6\" >0.1376</td>\n",
       "    </tr>\n",
       "    <tr>\n",
       "      <th id=\"T_c4688_level0_row9\" class=\"row_heading level0 row9\" >9</th>\n",
       "      <td id=\"T_c4688_row9_col0\" class=\"data row9 col0\" >0.5655</td>\n",
       "      <td id=\"T_c4688_row9_col1\" class=\"data row9 col1\" >0.0000</td>\n",
       "      <td id=\"T_c4688_row9_col2\" class=\"data row9 col2\" >0.5242</td>\n",
       "      <td id=\"T_c4688_row9_col3\" class=\"data row9 col3\" >0.5714</td>\n",
       "      <td id=\"T_c4688_row9_col4\" class=\"data row9 col4\" >0.5468</td>\n",
       "      <td id=\"T_c4688_row9_col5\" class=\"data row9 col5\" >0.1310</td>\n",
       "      <td id=\"T_c4688_row9_col6\" class=\"data row9 col6\" >0.1314</td>\n",
       "    </tr>\n",
       "    <tr>\n",
       "      <th id=\"T_c4688_level0_row10\" class=\"row_heading level0 row10\" >Mean</th>\n",
       "      <td id=\"T_c4688_row10_col0\" class=\"data row10 col0\" >0.5690</td>\n",
       "      <td id=\"T_c4688_row10_col1\" class=\"data row10 col1\" >0.0000</td>\n",
       "      <td id=\"T_c4688_row10_col2\" class=\"data row10 col2\" >0.5305</td>\n",
       "      <td id=\"T_c4688_row10_col3\" class=\"data row10 col3\" >0.5748</td>\n",
       "      <td id=\"T_c4688_row10_col4\" class=\"data row10 col4\" >0.5517</td>\n",
       "      <td id=\"T_c4688_row10_col5\" class=\"data row10 col5\" >0.1380</td>\n",
       "      <td id=\"T_c4688_row10_col6\" class=\"data row10 col6\" >0.1385</td>\n",
       "    </tr>\n",
       "    <tr>\n",
       "      <th id=\"T_c4688_level0_row11\" class=\"row_heading level0 row11\" >Std</th>\n",
       "      <td id=\"T_c4688_row11_col0\" class=\"data row11 col0\" >0.0040</td>\n",
       "      <td id=\"T_c4688_row11_col1\" class=\"data row11 col1\" >0.0000</td>\n",
       "      <td id=\"T_c4688_row11_col2\" class=\"data row11 col2\" >0.0086</td>\n",
       "      <td id=\"T_c4688_row11_col3\" class=\"data row11 col3\" >0.0043</td>\n",
       "      <td id=\"T_c4688_row11_col4\" class=\"data row11 col4\" >0.0056</td>\n",
       "      <td id=\"T_c4688_row11_col5\" class=\"data row11 col5\" >0.0080</td>\n",
       "      <td id=\"T_c4688_row11_col6\" class=\"data row11 col6\" >0.0080</td>\n",
       "    </tr>\n",
       "  </tbody>\n",
       "</table>\n"
      ],
      "text/plain": [
       "<pandas.io.formats.style.Styler at 0x7f7e70ef5d80>"
      ]
     },
     "metadata": {},
     "output_type": "display_data"
    },
    {
     "data": {
      "text/html": [],
      "text/plain": [
       "<IPython.core.display.HTML object>"
      ]
     },
     "metadata": {},
     "output_type": "display_data"
    }
   ],
   "source": [
    "ridge = create_model('ridge')"
   ]
  },
  {
   "cell_type": "code",
   "execution_count": 26,
   "metadata": {},
   "outputs": [
    {
     "data": {
      "text/html": [],
      "text/plain": [
       "<IPython.core.display.HTML object>"
      ]
     },
     "metadata": {},
     "output_type": "display_data"
    },
    {
     "data": {
      "image/png": "[encoded data removed]",
      "text/plain": [
       "<Figure size 800x550 with 1 Axes>"
      ]
     },
     "metadata": {},
     "output_type": "display_data"
    }
   ],
   "source": [
    "plot_model(ridge, plot = 'confusion_matrix')"
   ]
  },
  {
   "cell_type": "code",
   "execution_count": 27,
   "metadata": {},
   "outputs": [
    {
     "data": {
      "text/html": [],
      "text/plain": [
       "<IPython.core.display.HTML object>"
      ]
     },
     "metadata": {},
     "output_type": "display_data"
    },
    {
     "data": {
      "image/png": "[encoded data removed]",
      "text/plain": [
       "<Figure size 800x550 with 1 Axes>"
      ]
     },
     "metadata": {},
     "output_type": "display_data"
    }
   ],
   "source": [
    "plot_model(ridge, plot = 'error')"
   ]
  },
  {
   "cell_type": "code",
   "execution_count": 28,
   "metadata": {},
   "outputs": [
    {
     "data": {
      "text/html": [],
      "text/plain": [
       "<IPython.core.display.HTML object>"
      ]
     },
     "metadata": {},
     "output_type": "display_data"
    },
    {
     "data": {
      "text/html": [
       "<div>\n",
       "<style scoped>\n",
       "    .dataframe tbody tr th:only-of-type {\n",
       "        vertical-align: middle;\n",
       "    }\n",
       "\n",
       "    .dataframe tbody tr th {\n",
       "        vertical-align: top;\n",
       "    }\n",
       "\n",
       "    .dataframe thead th {\n",
       "        text-align: right;\n",
       "    }\n",
       "</style>\n",
       "<table border=\"1\" class=\"dataframe\">\n",
       "  <thead>\n",
       "    <tr style=\"text-align: right;\">\n",
       "      <th></th>\n",
       "      <th>Parameters</th>\n",
       "    </tr>\n",
       "  </thead>\n",
       "  <tbody>\n",
       "    <tr>\n",
       "      <th>alpha</th>\n",
       "      <td>1.0</td>\n",
       "    </tr>\n",
       "    <tr>\n",
       "      <th>class_weight</th>\n",
       "      <td>None</td>\n",
       "    </tr>\n",
       "    <tr>\n",
       "      <th>copy_X</th>\n",
       "      <td>True</td>\n",
       "    </tr>\n",
       "    <tr>\n",
       "      <th>fit_intercept</th>\n",
       "      <td>True</td>\n",
       "    </tr>\n",
       "    <tr>\n",
       "      <th>max_iter</th>\n",
       "      <td>None</td>\n",
       "    </tr>\n",
       "    <tr>\n",
       "      <th>positive</th>\n",
       "      <td>False</td>\n",
       "    </tr>\n",
       "    <tr>\n",
       "      <th>random_state</th>\n",
       "      <td>4991</td>\n",
       "    </tr>\n",
       "    <tr>\n",
       "      <th>solver</th>\n",
       "      <td>auto</td>\n",
       "    </tr>\n",
       "    <tr>\n",
       "      <th>tol</th>\n",
       "      <td>0.0001</td>\n",
       "    </tr>\n",
       "  </tbody>\n",
       "</table>\n",
       "</div>"
      ],
      "text/plain": [
       "              Parameters\n",
       "alpha                1.0\n",
       "class_weight        None\n",
       "copy_X              True\n",
       "fit_intercept       True\n",
       "max_iter            None\n",
       "positive           False\n",
       "random_state        4991\n",
       "solver              auto\n",
       "tol               0.0001"
      ]
     },
     "metadata": {},
     "output_type": "display_data"
    }
   ],
   "source": [
    "plot_model(ridge, plot = 'parameter')"
   ]
  },
  {
   "cell_type": "code",
   "execution_count": 29,
   "metadata": {},
   "outputs": [
    {
     "name": "stdout",
     "output_type": "stream",
     "text": [
      "Transformation Pipeline and Model Successfully Saved\n"
     ]
    },
    {
     "data": {
      "text/plain": [
       "(Pipeline(memory=FastMemory(location=/tmp/joblib),\n",
       "          steps=[('numerical_imputer',\n",
       "                  TransformerWrapper(exclude=None,\n",
       "                                     include=['0', '1', '2', '3', '4', '5', '6',\n",
       "                                              '7', '8', '9', '10', '11', '12',\n",
       "                                              '13', '14', '15', '16', '17', '18',\n",
       "                                              '19', '20', '21', '22', '23', '24',\n",
       "                                              '25', '26', '27', '28', '29', ...],\n",
       "                                     transformer=SimpleImputer(add_indicator=False,\n",
       "                                                               copy=True,\n",
       "                                                               fill_value=None,\n",
       "                                                               keep_empty_feat...\n",
       "                  TransformerWrapper(exclude=None, include=[],\n",
       "                                     transformer=SimpleImputer(add_indicator=False,\n",
       "                                                               copy=True,\n",
       "                                                               fill_value=None,\n",
       "                                                               keep_empty_features=False,\n",
       "                                                               missing_values=nan,\n",
       "                                                               strategy='most_frequent',\n",
       "                                                               verbose='deprecated'))),\n",
       "                 ('trained_model',\n",
       "                  RidgeClassifier(alpha=1.0, class_weight=None, copy_X=True,\n",
       "                                  fit_intercept=True, max_iter=None,\n",
       "                                  positive=False, random_state=4991,\n",
       "                                  solver='auto', tol=0.0001))],\n",
       "          verbose=False),\n",
       " 'models_classif/complex/non-reified/ridge.pkl')"
      ]
     },
     "execution_count": 29,
     "metadata": {},
     "output_type": "execute_result"
    }
   ],
   "source": [
    "save_model(ridge, 'models_classif/complex/non-reified/ridge')"
   ]
  },
  {
   "cell_type": "markdown",
   "metadata": {},
   "source": [
    "# Random Forest"
   ]
  },
  {
   "cell_type": "code",
   "execution_count": 30,
   "metadata": {},
   "outputs": [
    {
     "data": {
      "text/html": [],
      "text/plain": [
       "<IPython.core.display.HTML object>"
      ]
     },
     "metadata": {},
     "output_type": "display_data"
    },
    {
     "data": {
      "text/html": [
       "<style type=\"text/css\">\n",
       "#T_80374_row10_col0, #T_80374_row10_col1, #T_80374_row10_col2, #T_80374_row10_col3, #T_80374_row10_col4, #T_80374_row10_col5, #T_80374_row10_col6 {\n",
       "  background: yellow;\n",
       "}\n",
       "</style>\n",
       "<table id=\"T_80374\">\n",
       "  <thead>\n",
       "    <tr>\n",
       "      <th class=\"blank level0\" >&nbsp;</th>\n",
       "      <th id=\"T_80374_level0_col0\" class=\"col_heading level0 col0\" >Accuracy</th>\n",
       "      <th id=\"T_80374_level0_col1\" class=\"col_heading level0 col1\" >AUC</th>\n",
       "      <th id=\"T_80374_level0_col2\" class=\"col_heading level0 col2\" >Recall</th>\n",
       "      <th id=\"T_80374_level0_col3\" class=\"col_heading level0 col3\" >Prec.</th>\n",
       "      <th id=\"T_80374_level0_col4\" class=\"col_heading level0 col4\" >F1</th>\n",
       "      <th id=\"T_80374_level0_col5\" class=\"col_heading level0 col5\" >Kappa</th>\n",
       "      <th id=\"T_80374_level0_col6\" class=\"col_heading level0 col6\" >MCC</th>\n",
       "    </tr>\n",
       "    <tr>\n",
       "      <th class=\"index_name level0\" >Fold</th>\n",
       "      <th class=\"blank col0\" >&nbsp;</th>\n",
       "      <th class=\"blank col1\" >&nbsp;</th>\n",
       "      <th class=\"blank col2\" >&nbsp;</th>\n",
       "      <th class=\"blank col3\" >&nbsp;</th>\n",
       "      <th class=\"blank col4\" >&nbsp;</th>\n",
       "      <th class=\"blank col5\" >&nbsp;</th>\n",
       "      <th class=\"blank col6\" >&nbsp;</th>\n",
       "    </tr>\n",
       "  </thead>\n",
       "  <tbody>\n",
       "    <tr>\n",
       "      <th id=\"T_80374_level0_row0\" class=\"row_heading level0 row0\" >0</th>\n",
       "      <td id=\"T_80374_row0_col0\" class=\"data row0 col0\" >0.7379</td>\n",
       "      <td id=\"T_80374_row0_col1\" class=\"data row0 col1\" >0.7875</td>\n",
       "      <td id=\"T_80374_row0_col2\" class=\"data row0 col2\" >0.7191</td>\n",
       "      <td id=\"T_80374_row0_col3\" class=\"data row0 col3\" >0.7472</td>\n",
       "      <td id=\"T_80374_row0_col4\" class=\"data row0 col4\" >0.7329</td>\n",
       "      <td id=\"T_80374_row0_col5\" class=\"data row0 col5\" >0.4759</td>\n",
       "      <td id=\"T_80374_row0_col6\" class=\"data row0 col6\" >0.4762</td>\n",
       "    </tr>\n",
       "    <tr>\n",
       "      <th id=\"T_80374_level0_row1\" class=\"row_heading level0 row1\" >1</th>\n",
       "      <td id=\"T_80374_row1_col0\" class=\"data row1 col0\" >0.7395</td>\n",
       "      <td id=\"T_80374_row1_col1\" class=\"data row1 col1\" >0.7919</td>\n",
       "      <td id=\"T_80374_row1_col2\" class=\"data row1 col2\" >0.7114</td>\n",
       "      <td id=\"T_80374_row1_col3\" class=\"data row1 col3\" >0.7538</td>\n",
       "      <td id=\"T_80374_row1_col4\" class=\"data row1 col4\" >0.7320</td>\n",
       "      <td id=\"T_80374_row1_col5\" class=\"data row1 col5\" >0.4790</td>\n",
       "      <td id=\"T_80374_row1_col6\" class=\"data row1 col6\" >0.4798</td>\n",
       "    </tr>\n",
       "    <tr>\n",
       "      <th id=\"T_80374_level0_row2\" class=\"row_heading level0 row2\" >2</th>\n",
       "      <td id=\"T_80374_row2_col0\" class=\"data row2 col0\" >0.7335</td>\n",
       "      <td id=\"T_80374_row2_col1\" class=\"data row2 col1\" >0.7837</td>\n",
       "      <td id=\"T_80374_row2_col2\" class=\"data row2 col2\" >0.7047</td>\n",
       "      <td id=\"T_80374_row2_col3\" class=\"data row2 col3\" >0.7478</td>\n",
       "      <td id=\"T_80374_row2_col4\" class=\"data row2 col4\" >0.7256</td>\n",
       "      <td id=\"T_80374_row2_col5\" class=\"data row2 col5\" >0.4669</td>\n",
       "      <td id=\"T_80374_row2_col6\" class=\"data row2 col6\" >0.4677</td>\n",
       "    </tr>\n",
       "    <tr>\n",
       "      <th id=\"T_80374_level0_row3\" class=\"row_heading level0 row3\" >3</th>\n",
       "      <td id=\"T_80374_row3_col0\" class=\"data row3 col0\" >0.7379</td>\n",
       "      <td id=\"T_80374_row3_col1\" class=\"data row3 col1\" >0.7851</td>\n",
       "      <td id=\"T_80374_row3_col2\" class=\"data row3 col2\" >0.7096</td>\n",
       "      <td id=\"T_80374_row3_col3\" class=\"data row3 col3\" >0.7522</td>\n",
       "      <td id=\"T_80374_row3_col4\" class=\"data row3 col4\" >0.7303</td>\n",
       "      <td id=\"T_80374_row3_col5\" class=\"data row3 col5\" >0.4758</td>\n",
       "      <td id=\"T_80374_row3_col6\" class=\"data row3 col6\" >0.4766</td>\n",
       "    </tr>\n",
       "    <tr>\n",
       "      <th id=\"T_80374_level0_row4\" class=\"row_heading level0 row4\" >4</th>\n",
       "      <td id=\"T_80374_row4_col0\" class=\"data row4 col0\" >0.7374</td>\n",
       "      <td id=\"T_80374_row4_col1\" class=\"data row4 col1\" >0.7862</td>\n",
       "      <td id=\"T_80374_row4_col2\" class=\"data row4 col2\" >0.7128</td>\n",
       "      <td id=\"T_80374_row4_col3\" class=\"data row4 col3\" >0.7498</td>\n",
       "      <td id=\"T_80374_row4_col4\" class=\"data row4 col4\" >0.7308</td>\n",
       "      <td id=\"T_80374_row4_col5\" class=\"data row4 col5\" >0.4749</td>\n",
       "      <td id=\"T_80374_row4_col6\" class=\"data row4 col6\" >0.4755</td>\n",
       "    </tr>\n",
       "    <tr>\n",
       "      <th id=\"T_80374_level0_row5\" class=\"row_heading level0 row5\" >5</th>\n",
       "      <td id=\"T_80374_row5_col0\" class=\"data row5 col0\" >0.7415</td>\n",
       "      <td id=\"T_80374_row5_col1\" class=\"data row5 col1\" >0.7939</td>\n",
       "      <td id=\"T_80374_row5_col2\" class=\"data row5 col2\" >0.7165</td>\n",
       "      <td id=\"T_80374_row5_col3\" class=\"data row5 col3\" >0.7543</td>\n",
       "      <td id=\"T_80374_row5_col4\" class=\"data row5 col4\" >0.7349</td>\n",
       "      <td id=\"T_80374_row5_col5\" class=\"data row5 col5\" >0.4831</td>\n",
       "      <td id=\"T_80374_row5_col6\" class=\"data row5 col6\" >0.4837</td>\n",
       "    </tr>\n",
       "    <tr>\n",
       "      <th id=\"T_80374_level0_row6\" class=\"row_heading level0 row6\" >6</th>\n",
       "      <td id=\"T_80374_row6_col0\" class=\"data row6 col0\" >0.7314</td>\n",
       "      <td id=\"T_80374_row6_col1\" class=\"data row6 col1\" >0.7817</td>\n",
       "      <td id=\"T_80374_row6_col2\" class=\"data row6 col2\" >0.7028</td>\n",
       "      <td id=\"T_80374_row6_col3\" class=\"data row6 col3\" >0.7455</td>\n",
       "      <td id=\"T_80374_row6_col4\" class=\"data row6 col4\" >0.7235</td>\n",
       "      <td id=\"T_80374_row6_col5\" class=\"data row6 col5\" >0.4628</td>\n",
       "      <td id=\"T_80374_row6_col6\" class=\"data row6 col6\" >0.4636</td>\n",
       "    </tr>\n",
       "    <tr>\n",
       "      <th id=\"T_80374_level0_row7\" class=\"row_heading level0 row7\" >7</th>\n",
       "      <td id=\"T_80374_row7_col0\" class=\"data row7 col0\" >0.7380</td>\n",
       "      <td id=\"T_80374_row7_col1\" class=\"data row7 col1\" >0.7886</td>\n",
       "      <td id=\"T_80374_row7_col2\" class=\"data row7 col2\" >0.7093</td>\n",
       "      <td id=\"T_80374_row7_col3\" class=\"data row7 col3\" >0.7525</td>\n",
       "      <td id=\"T_80374_row7_col4\" class=\"data row7 col4\" >0.7302</td>\n",
       "      <td id=\"T_80374_row7_col5\" class=\"data row7 col5\" >0.4760</td>\n",
       "      <td id=\"T_80374_row7_col6\" class=\"data row7 col6\" >0.4768</td>\n",
       "    </tr>\n",
       "    <tr>\n",
       "      <th id=\"T_80374_level0_row8\" class=\"row_heading level0 row8\" >8</th>\n",
       "      <td id=\"T_80374_row8_col0\" class=\"data row8 col0\" >0.7399</td>\n",
       "      <td id=\"T_80374_row8_col1\" class=\"data row8 col1\" >0.7949</td>\n",
       "      <td id=\"T_80374_row8_col2\" class=\"data row8 col2\" >0.7161</td>\n",
       "      <td id=\"T_80374_row8_col3\" class=\"data row8 col3\" >0.7518</td>\n",
       "      <td id=\"T_80374_row8_col4\" class=\"data row8 col4\" >0.7335</td>\n",
       "      <td id=\"T_80374_row8_col5\" class=\"data row8 col5\" >0.4797</td>\n",
       "      <td id=\"T_80374_row8_col6\" class=\"data row8 col6\" >0.4803</td>\n",
       "    </tr>\n",
       "    <tr>\n",
       "      <th id=\"T_80374_level0_row9\" class=\"row_heading level0 row9\" >9</th>\n",
       "      <td id=\"T_80374_row9_col0\" class=\"data row9 col0\" >0.7339</td>\n",
       "      <td id=\"T_80374_row9_col1\" class=\"data row9 col1\" >0.7857</td>\n",
       "      <td id=\"T_80374_row9_col2\" class=\"data row9 col2\" >0.7078</td>\n",
       "      <td id=\"T_80374_row9_col3\" class=\"data row9 col3\" >0.7468</td>\n",
       "      <td id=\"T_80374_row9_col4\" class=\"data row9 col4\" >0.7268</td>\n",
       "      <td id=\"T_80374_row9_col5\" class=\"data row9 col5\" >0.4678</td>\n",
       "      <td id=\"T_80374_row9_col6\" class=\"data row9 col6\" >0.4685</td>\n",
       "    </tr>\n",
       "    <tr>\n",
       "      <th id=\"T_80374_level0_row10\" class=\"row_heading level0 row10\" >Mean</th>\n",
       "      <td id=\"T_80374_row10_col0\" class=\"data row10 col0\" >0.7371</td>\n",
       "      <td id=\"T_80374_row10_col1\" class=\"data row10 col1\" >0.7879</td>\n",
       "      <td id=\"T_80374_row10_col2\" class=\"data row10 col2\" >0.7110</td>\n",
       "      <td id=\"T_80374_row10_col3\" class=\"data row10 col3\" >0.7502</td>\n",
       "      <td id=\"T_80374_row10_col4\" class=\"data row10 col4\" >0.7300</td>\n",
       "      <td id=\"T_80374_row10_col5\" class=\"data row10 col5\" >0.4742</td>\n",
       "      <td id=\"T_80374_row10_col6\" class=\"data row10 col6\" >0.4749</td>\n",
       "    </tr>\n",
       "    <tr>\n",
       "      <th id=\"T_80374_level0_row11\" class=\"row_heading level0 row11\" >Std</th>\n",
       "      <td id=\"T_80374_row11_col0\" class=\"data row11 col0\" >0.0030</td>\n",
       "      <td id=\"T_80374_row11_col1\" class=\"data row11 col1\" >0.0042</td>\n",
       "      <td id=\"T_80374_row11_col2\" class=\"data row11 col2\" >0.0050</td>\n",
       "      <td id=\"T_80374_row11_col3\" class=\"data row11 col3\" >0.0030</td>\n",
       "      <td id=\"T_80374_row11_col4\" class=\"data row11 col4\" >0.0035</td>\n",
       "      <td id=\"T_80374_row11_col5\" class=\"data row11 col5\" >0.0060</td>\n",
       "      <td id=\"T_80374_row11_col6\" class=\"data row11 col6\" >0.0060</td>\n",
       "    </tr>\n",
       "  </tbody>\n",
       "</table>\n"
      ],
      "text/plain": [
       "<pandas.io.formats.style.Styler at 0x7f7e73032590>"
      ]
     },
     "metadata": {},
     "output_type": "display_data"
    },
    {
     "data": {
      "text/html": [],
      "text/plain": [
       "<IPython.core.display.HTML object>"
      ]
     },
     "metadata": {},
     "output_type": "display_data"
    }
   ],
   "source": [
    "rf = create_model('rf')"
   ]
  },
  {
   "cell_type": "code",
   "execution_count": 31,
   "metadata": {},
   "outputs": [
    {
     "data": {
      "text/html": [],
      "text/plain": [
       "<IPython.core.display.HTML object>"
      ]
     },
     "metadata": {},
     "output_type": "display_data"
    },
    {
     "data": {
      "image/png": "[encoded data removed]",
      "text/plain": [
       "<Figure size 800x550 with 1 Axes>"
      ]
     },
     "metadata": {},
     "output_type": "display_data"
    }
   ],
   "source": [
    "plot_model(rf, plot = 'confusion_matrix')"
   ]
  },
  {
   "cell_type": "code",
   "execution_count": 32,
   "metadata": {},
   "outputs": [
    {
     "data": {
      "text/html": [],
      "text/plain": [
       "<IPython.core.display.HTML object>"
      ]
     },
     "metadata": {},
     "output_type": "display_data"
    },
    {
     "data": {
      "image/png": "[encoded data removed]",
      "text/plain": [
       "<Figure size 800x550 with 1 Axes>"
      ]
     },
     "metadata": {},
     "output_type": "display_data"
    }
   ],
   "source": [
    "plot_model(rf, plot = 'error')"
   ]
  },
  {
   "cell_type": "code",
   "execution_count": 33,
   "metadata": {},
   "outputs": [
    {
     "data": {
      "text/html": [],
      "text/plain": [
       "<IPython.core.display.HTML object>"
      ]
     },
     "metadata": {},
     "output_type": "display_data"
    },
    {
     "data": {
      "text/html": [
       "<div>\n",
       "<style scoped>\n",
       "    .dataframe tbody tr th:only-of-type {\n",
       "        vertical-align: middle;\n",
       "    }\n",
       "\n",
       "    .dataframe tbody tr th {\n",
       "        vertical-align: top;\n",
       "    }\n",
       "\n",
       "    .dataframe thead th {\n",
       "        text-align: right;\n",
       "    }\n",
       "</style>\n",
       "<table border=\"1\" class=\"dataframe\">\n",
       "  <thead>\n",
       "    <tr style=\"text-align: right;\">\n",
       "      <th></th>\n",
       "      <th>Parameters</th>\n",
       "    </tr>\n",
       "  </thead>\n",
       "  <tbody>\n",
       "    <tr>\n",
       "      <th>bootstrap</th>\n",
       "      <td>True</td>\n",
       "    </tr>\n",
       "    <tr>\n",
       "      <th>ccp_alpha</th>\n",
       "      <td>0.0</td>\n",
       "    </tr>\n",
       "    <tr>\n",
       "      <th>class_weight</th>\n",
       "      <td>None</td>\n",
       "    </tr>\n",
       "    <tr>\n",
       "      <th>criterion</th>\n",
       "      <td>gini</td>\n",
       "    </tr>\n",
       "    <tr>\n",
       "      <th>max_depth</th>\n",
       "      <td>None</td>\n",
       "    </tr>\n",
       "    <tr>\n",
       "      <th>max_features</th>\n",
       "      <td>sqrt</td>\n",
       "    </tr>\n",
       "    <tr>\n",
       "      <th>max_leaf_nodes</th>\n",
       "      <td>None</td>\n",
       "    </tr>\n",
       "    <tr>\n",
       "      <th>max_samples</th>\n",
       "      <td>None</td>\n",
       "    </tr>\n",
       "    <tr>\n",
       "      <th>min_impurity_decrease</th>\n",
       "      <td>0.0</td>\n",
       "    </tr>\n",
       "    <tr>\n",
       "      <th>min_samples_leaf</th>\n",
       "      <td>1</td>\n",
       "    </tr>\n",
       "    <tr>\n",
       "      <th>min_samples_split</th>\n",
       "      <td>2</td>\n",
       "    </tr>\n",
       "    <tr>\n",
       "      <th>min_weight_fraction_leaf</th>\n",
       "      <td>0.0</td>\n",
       "    </tr>\n",
       "    <tr>\n",
       "      <th>n_estimators</th>\n",
       "      <td>100</td>\n",
       "    </tr>\n",
       "    <tr>\n",
       "      <th>n_jobs</th>\n",
       "      <td>-1</td>\n",
       "    </tr>\n",
       "    <tr>\n",
       "      <th>oob_score</th>\n",
       "      <td>False</td>\n",
       "    </tr>\n",
       "    <tr>\n",
       "      <th>random_state</th>\n",
       "      <td>4991</td>\n",
       "    </tr>\n",
       "    <tr>\n",
       "      <th>verbose</th>\n",
       "      <td>0</td>\n",
       "    </tr>\n",
       "    <tr>\n",
       "      <th>warm_start</th>\n",
       "      <td>False</td>\n",
       "    </tr>\n",
       "  </tbody>\n",
       "</table>\n",
       "</div>"
      ],
      "text/plain": [
       "                         Parameters\n",
       "bootstrap                      True\n",
       "ccp_alpha                       0.0\n",
       "class_weight                   None\n",
       "criterion                      gini\n",
       "max_depth                      None\n",
       "max_features                   sqrt\n",
       "max_leaf_nodes                 None\n",
       "max_samples                    None\n",
       "min_impurity_decrease           0.0\n",
       "min_samples_leaf                  1\n",
       "min_samples_split                 2\n",
       "min_weight_fraction_leaf        0.0\n",
       "n_estimators                    100\n",
       "n_jobs                           -1\n",
       "oob_score                     False\n",
       "random_state                   4991\n",
       "verbose                           0\n",
       "warm_start                    False"
      ]
     },
     "metadata": {},
     "output_type": "display_data"
    }
   ],
   "source": [
    "plot_model(rf, plot = 'parameter')"
   ]
  },
  {
   "cell_type": "code",
   "execution_count": 34,
   "metadata": {},
   "outputs": [
    {
     "name": "stdout",
     "output_type": "stream",
     "text": [
      "Transformation Pipeline and Model Successfully Saved\n"
     ]
    },
    {
     "data": {
      "text/plain": [
       "(Pipeline(memory=FastMemory(location=/tmp/joblib),\n",
       "          steps=[('numerical_imputer',\n",
       "                  TransformerWrapper(exclude=None,\n",
       "                                     include=['0', '1', '2', '3', '4', '5', '6',\n",
       "                                              '7', '8', '9', '10', '11', '12',\n",
       "                                              '13', '14', '15', '16', '17', '18',\n",
       "                                              '19', '20', '21', '22', '23', '24',\n",
       "                                              '25', '26', '27', '28', '29', ...],\n",
       "                                     transformer=SimpleImputer(add_indicator=False,\n",
       "                                                               copy=True,\n",
       "                                                               fill_value=None,\n",
       "                                                               keep_empty_feat...\n",
       "                  RandomForestClassifier(bootstrap=True, ccp_alpha=0.0,\n",
       "                                         class_weight=None, criterion='gini',\n",
       "                                         max_depth=None, max_features='sqrt',\n",
       "                                         max_leaf_nodes=None, max_samples=None,\n",
       "                                         min_impurity_decrease=0.0,\n",
       "                                         min_samples_leaf=1, min_samples_split=2,\n",
       "                                         min_weight_fraction_leaf=0.0,\n",
       "                                         n_estimators=100, n_jobs=-1,\n",
       "                                         oob_score=False, random_state=4991,\n",
       "                                         verbose=0, warm_start=False))],\n",
       "          verbose=False),\n",
       " 'models_classif/complex/non-reified/rf.pkl')"
      ]
     },
     "execution_count": 34,
     "metadata": {},
     "output_type": "execute_result"
    }
   ],
   "source": [
    "save_model(rf, 'models_classif/complex/non-reified/rf')"
   ]
  },
  {
   "cell_type": "markdown",
   "metadata": {},
   "source": [
    "# Quadratic Discriminant Analysis"
   ]
  },
  {
   "cell_type": "code",
   "execution_count": 35,
   "metadata": {},
   "outputs": [
    {
     "data": {
      "text/html": [],
      "text/plain": [
       "<IPython.core.display.HTML object>"
      ]
     },
     "metadata": {},
     "output_type": "display_data"
    },
    {
     "data": {
      "text/html": [
       "<style type=\"text/css\">\n",
       "#T_51813_row10_col0, #T_51813_row10_col1, #T_51813_row10_col2, #T_51813_row10_col3, #T_51813_row10_col4, #T_51813_row10_col5, #T_51813_row10_col6 {\n",
       "  background: yellow;\n",
       "}\n",
       "</style>\n",
       "<table id=\"T_51813\">\n",
       "  <thead>\n",
       "    <tr>\n",
       "      <th class=\"blank level0\" >&nbsp;</th>\n",
       "      <th id=\"T_51813_level0_col0\" class=\"col_heading level0 col0\" >Accuracy</th>\n",
       "      <th id=\"T_51813_level0_col1\" class=\"col_heading level0 col1\" >AUC</th>\n",
       "      <th id=\"T_51813_level0_col2\" class=\"col_heading level0 col2\" >Recall</th>\n",
       "      <th id=\"T_51813_level0_col3\" class=\"col_heading level0 col3\" >Prec.</th>\n",
       "      <th id=\"T_51813_level0_col4\" class=\"col_heading level0 col4\" >F1</th>\n",
       "      <th id=\"T_51813_level0_col5\" class=\"col_heading level0 col5\" >Kappa</th>\n",
       "      <th id=\"T_51813_level0_col6\" class=\"col_heading level0 col6\" >MCC</th>\n",
       "    </tr>\n",
       "    <tr>\n",
       "      <th class=\"index_name level0\" >Fold</th>\n",
       "      <th class=\"blank col0\" >&nbsp;</th>\n",
       "      <th class=\"blank col1\" >&nbsp;</th>\n",
       "      <th class=\"blank col2\" >&nbsp;</th>\n",
       "      <th class=\"blank col3\" >&nbsp;</th>\n",
       "      <th class=\"blank col4\" >&nbsp;</th>\n",
       "      <th class=\"blank col5\" >&nbsp;</th>\n",
       "      <th class=\"blank col6\" >&nbsp;</th>\n",
       "    </tr>\n",
       "  </thead>\n",
       "  <tbody>\n",
       "    <tr>\n",
       "      <th id=\"T_51813_level0_row0\" class=\"row_heading level0 row0\" >0</th>\n",
       "      <td id=\"T_51813_row0_col0\" class=\"data row0 col0\" >0.6465</td>\n",
       "      <td id=\"T_51813_row0_col1\" class=\"data row0 col1\" >0.7039</td>\n",
       "      <td id=\"T_51813_row0_col2\" class=\"data row0 col2\" >0.5033</td>\n",
       "      <td id=\"T_51813_row0_col3\" class=\"data row0 col3\" >0.7052</td>\n",
       "      <td id=\"T_51813_row0_col4\" class=\"data row0 col4\" >0.5874</td>\n",
       "      <td id=\"T_51813_row0_col5\" class=\"data row0 col5\" >0.2930</td>\n",
       "      <td id=\"T_51813_row0_col6\" class=\"data row0 col6\" >0.3058</td>\n",
       "    </tr>\n",
       "    <tr>\n",
       "      <th id=\"T_51813_level0_row1\" class=\"row_heading level0 row1\" >1</th>\n",
       "      <td id=\"T_51813_row1_col0\" class=\"data row1 col0\" >0.6487</td>\n",
       "      <td id=\"T_51813_row1_col1\" class=\"data row1 col1\" >0.7081</td>\n",
       "      <td id=\"T_51813_row1_col2\" class=\"data row1 col2\" >0.5042</td>\n",
       "      <td id=\"T_51813_row1_col3\" class=\"data row1 col3\" >0.7093</td>\n",
       "      <td id=\"T_51813_row1_col4\" class=\"data row1 col4\" >0.5894</td>\n",
       "      <td id=\"T_51813_row1_col5\" class=\"data row1 col5\" >0.2975</td>\n",
       "      <td id=\"T_51813_row1_col6\" class=\"data row1 col6\" >0.3108</td>\n",
       "    </tr>\n",
       "    <tr>\n",
       "      <th id=\"T_51813_level0_row2\" class=\"row_heading level0 row2\" >2</th>\n",
       "      <td id=\"T_51813_row2_col0\" class=\"data row2 col0\" >0.6417</td>\n",
       "      <td id=\"T_51813_row2_col1\" class=\"data row2 col1\" >0.7080</td>\n",
       "      <td id=\"T_51813_row2_col2\" class=\"data row2 col2\" >0.4856</td>\n",
       "      <td id=\"T_51813_row2_col3\" class=\"data row2 col3\" >0.7061</td>\n",
       "      <td id=\"T_51813_row2_col4\" class=\"data row2 col4\" >0.5754</td>\n",
       "      <td id=\"T_51813_row2_col5\" class=\"data row2 col5\" >0.2834</td>\n",
       "      <td id=\"T_51813_row2_col6\" class=\"data row2 col6\" >0.2983</td>\n",
       "    </tr>\n",
       "    <tr>\n",
       "      <th id=\"T_51813_level0_row3\" class=\"row_heading level0 row3\" >3</th>\n",
       "      <td id=\"T_51813_row3_col0\" class=\"data row3 col0\" >0.6434</td>\n",
       "      <td id=\"T_51813_row3_col1\" class=\"data row3 col1\" >0.7022</td>\n",
       "      <td id=\"T_51813_row3_col2\" class=\"data row3 col2\" >0.4989</td>\n",
       "      <td id=\"T_51813_row3_col3\" class=\"data row3 col3\" >0.7017</td>\n",
       "      <td id=\"T_51813_row3_col4\" class=\"data row3 col4\" >0.5832</td>\n",
       "      <td id=\"T_51813_row3_col5\" class=\"data row3 col5\" >0.2868</td>\n",
       "      <td id=\"T_51813_row3_col6\" class=\"data row3 col6\" >0.2996</td>\n",
       "    </tr>\n",
       "    <tr>\n",
       "      <th id=\"T_51813_level0_row4\" class=\"row_heading level0 row4\" >4</th>\n",
       "      <td id=\"T_51813_row4_col0\" class=\"data row4 col0\" >0.6430</td>\n",
       "      <td id=\"T_51813_row4_col1\" class=\"data row4 col1\" >0.7017</td>\n",
       "      <td id=\"T_51813_row4_col2\" class=\"data row4 col2\" >0.4994</td>\n",
       "      <td id=\"T_51813_row4_col3\" class=\"data row4 col3\" >0.7005</td>\n",
       "      <td id=\"T_51813_row4_col4\" class=\"data row4 col4\" >0.5831</td>\n",
       "      <td id=\"T_51813_row4_col5\" class=\"data row4 col5\" >0.2859</td>\n",
       "      <td id=\"T_51813_row4_col6\" class=\"data row4 col6\" >0.2985</td>\n",
       "    </tr>\n",
       "    <tr>\n",
       "      <th id=\"T_51813_level0_row5\" class=\"row_heading level0 row5\" >5</th>\n",
       "      <td id=\"T_51813_row5_col0\" class=\"data row5 col0\" >0.6443</td>\n",
       "      <td id=\"T_51813_row5_col1\" class=\"data row5 col1\" >0.7033</td>\n",
       "      <td id=\"T_51813_row5_col2\" class=\"data row5 col2\" >0.4935</td>\n",
       "      <td id=\"T_51813_row5_col3\" class=\"data row5 col3\" >0.7067</td>\n",
       "      <td id=\"T_51813_row5_col4\" class=\"data row5 col4\" >0.5812</td>\n",
       "      <td id=\"T_51813_row5_col5\" class=\"data row5 col5\" >0.2887</td>\n",
       "      <td id=\"T_51813_row5_col6\" class=\"data row5 col6\" >0.3028</td>\n",
       "    </tr>\n",
       "    <tr>\n",
       "      <th id=\"T_51813_level0_row6\" class=\"row_heading level0 row6\" >6</th>\n",
       "      <td id=\"T_51813_row6_col0\" class=\"data row6 col0\" >0.6415</td>\n",
       "      <td id=\"T_51813_row6_col1\" class=\"data row6 col1\" >0.6956</td>\n",
       "      <td id=\"T_51813_row6_col2\" class=\"data row6 col2\" >0.4868</td>\n",
       "      <td id=\"T_51813_row6_col3\" class=\"data row6 col3\" >0.7048</td>\n",
       "      <td id=\"T_51813_row6_col4\" class=\"data row6 col4\" >0.5759</td>\n",
       "      <td id=\"T_51813_row6_col5\" class=\"data row6 col5\" >0.2829</td>\n",
       "      <td id=\"T_51813_row6_col6\" class=\"data row6 col6\" >0.2975</td>\n",
       "    </tr>\n",
       "    <tr>\n",
       "      <th id=\"T_51813_level0_row7\" class=\"row_heading level0 row7\" >7</th>\n",
       "      <td id=\"T_51813_row7_col0\" class=\"data row7 col0\" >0.6520</td>\n",
       "      <td id=\"T_51813_row7_col1\" class=\"data row7 col1\" >0.7100</td>\n",
       "      <td id=\"T_51813_row7_col2\" class=\"data row7 col2\" >0.5019</td>\n",
       "      <td id=\"T_51813_row7_col3\" class=\"data row7 col3\" >0.7172</td>\n",
       "      <td id=\"T_51813_row7_col4\" class=\"data row7 col4\" >0.5905</td>\n",
       "      <td id=\"T_51813_row7_col5\" class=\"data row7 col5\" >0.3039</td>\n",
       "      <td id=\"T_51813_row7_col6\" class=\"data row7 col6\" >0.3186</td>\n",
       "    </tr>\n",
       "    <tr>\n",
       "      <th id=\"T_51813_level0_row8\" class=\"row_heading level0 row8\" >8</th>\n",
       "      <td id=\"T_51813_row8_col0\" class=\"data row8 col0\" >0.6404</td>\n",
       "      <td id=\"T_51813_row8_col1\" class=\"data row8 col1\" >0.7050</td>\n",
       "      <td id=\"T_51813_row8_col2\" class=\"data row8 col2\" >0.4851</td>\n",
       "      <td id=\"T_51813_row8_col3\" class=\"data row8 col3\" >0.7037</td>\n",
       "      <td id=\"T_51813_row8_col4\" class=\"data row8 col4\" >0.5743</td>\n",
       "      <td id=\"T_51813_row8_col5\" class=\"data row8 col5\" >0.2809</td>\n",
       "      <td id=\"T_51813_row8_col6\" class=\"data row8 col6\" >0.2955</td>\n",
       "    </tr>\n",
       "    <tr>\n",
       "      <th id=\"T_51813_level0_row9\" class=\"row_heading level0 row9\" >9</th>\n",
       "      <td id=\"T_51813_row9_col0\" class=\"data row9 col0\" >0.6438</td>\n",
       "      <td id=\"T_51813_row9_col1\" class=\"data row9 col1\" >0.7016</td>\n",
       "      <td id=\"T_51813_row9_col2\" class=\"data row9 col2\" >0.4905</td>\n",
       "      <td id=\"T_51813_row9_col3\" class=\"data row9 col3\" >0.7073</td>\n",
       "      <td id=\"T_51813_row9_col4\" class=\"data row9 col4\" >0.5793</td>\n",
       "      <td id=\"T_51813_row9_col5\" class=\"data row9 col5\" >0.2876</td>\n",
       "      <td id=\"T_51813_row9_col6\" class=\"data row9 col6\" >0.3021</td>\n",
       "    </tr>\n",
       "    <tr>\n",
       "      <th id=\"T_51813_level0_row10\" class=\"row_heading level0 row10\" >Mean</th>\n",
       "      <td id=\"T_51813_row10_col0\" class=\"data row10 col0\" >0.6445</td>\n",
       "      <td id=\"T_51813_row10_col1\" class=\"data row10 col1\" >0.7039</td>\n",
       "      <td id=\"T_51813_row10_col2\" class=\"data row10 col2\" >0.4949</td>\n",
       "      <td id=\"T_51813_row10_col3\" class=\"data row10 col3\" >0.7063</td>\n",
       "      <td id=\"T_51813_row10_col4\" class=\"data row10 col4\" >0.5820</td>\n",
       "      <td id=\"T_51813_row10_col5\" class=\"data row10 col5\" >0.2891</td>\n",
       "      <td id=\"T_51813_row10_col6\" class=\"data row10 col6\" >0.3030</td>\n",
       "    </tr>\n",
       "    <tr>\n",
       "      <th id=\"T_51813_level0_row11\" class=\"row_heading level0 row11\" >Std</th>\n",
       "      <td id=\"T_51813_row11_col0\" class=\"data row11 col0\" >0.0034</td>\n",
       "      <td id=\"T_51813_row11_col1\" class=\"data row11 col1\" >0.0039</td>\n",
       "      <td id=\"T_51813_row11_col2\" class=\"data row11 col2\" >0.0072</td>\n",
       "      <td id=\"T_51813_row11_col3\" class=\"data row11 col3\" >0.0044</td>\n",
       "      <td id=\"T_51813_row11_col4\" class=\"data row11 col4\" >0.0055</td>\n",
       "      <td id=\"T_51813_row11_col5\" class=\"data row11 col5\" >0.0068</td>\n",
       "      <td id=\"T_51813_row11_col6\" class=\"data row11 col6\" >0.0067</td>\n",
       "    </tr>\n",
       "  </tbody>\n",
       "</table>\n"
      ],
      "text/plain": [
       "<pandas.io.formats.style.Styler at 0x7f7e66f33700>"
      ]
     },
     "metadata": {},
     "output_type": "display_data"
    },
    {
     "data": {
      "text/html": [],
      "text/plain": [
       "<IPython.core.display.HTML object>"
      ]
     },
     "metadata": {},
     "output_type": "display_data"
    }
   ],
   "source": [
    "qda = create_model('qda')"
   ]
  },
  {
   "cell_type": "code",
   "execution_count": 36,
   "metadata": {},
   "outputs": [
    {
     "data": {
      "text/html": [],
      "text/plain": [
       "<IPython.core.display.HTML object>"
      ]
     },
     "metadata": {},
     "output_type": "display_data"
    },
    {
     "data": {
      "image/png": "[encoded data removed]",
      "text/plain": [
       "<Figure size 800x550 with 1 Axes>"
      ]
     },
     "metadata": {},
     "output_type": "display_data"
    }
   ],
   "source": [
    "plot_model(qda, plot = 'confusion_matrix')"
   ]
  },
  {
   "cell_type": "code",
   "execution_count": 37,
   "metadata": {},
   "outputs": [
    {
     "data": {
      "text/html": [],
      "text/plain": [
       "<IPython.core.display.HTML object>"
      ]
     },
     "metadata": {},
     "output_type": "display_data"
    },
    {
     "data": {
      "image/png": "[encoded data removed]",
      "text/plain": [
       "<Figure size 800x550 with 1 Axes>"
      ]
     },
     "metadata": {},
     "output_type": "display_data"
    }
   ],
   "source": [
    "plot_model(qda, plot = 'error')"
   ]
  },
  {
   "cell_type": "code",
   "execution_count": 38,
   "metadata": {},
   "outputs": [
    {
     "data": {
      "text/html": [],
      "text/plain": [
       "<IPython.core.display.HTML object>"
      ]
     },
     "metadata": {},
     "output_type": "display_data"
    },
    {
     "data": {
      "text/html": [
       "<div>\n",
       "<style scoped>\n",
       "    .dataframe tbody tr th:only-of-type {\n",
       "        vertical-align: middle;\n",
       "    }\n",
       "\n",
       "    .dataframe tbody tr th {\n",
       "        vertical-align: top;\n",
       "    }\n",
       "\n",
       "    .dataframe thead th {\n",
       "        text-align: right;\n",
       "    }\n",
       "</style>\n",
       "<table border=\"1\" class=\"dataframe\">\n",
       "  <thead>\n",
       "    <tr style=\"text-align: right;\">\n",
       "      <th></th>\n",
       "      <th>Parameters</th>\n",
       "    </tr>\n",
       "  </thead>\n",
       "  <tbody>\n",
       "    <tr>\n",
       "      <th>priors</th>\n",
       "      <td>None</td>\n",
       "    </tr>\n",
       "    <tr>\n",
       "      <th>reg_param</th>\n",
       "      <td>0.0</td>\n",
       "    </tr>\n",
       "    <tr>\n",
       "      <th>store_covariance</th>\n",
       "      <td>False</td>\n",
       "    </tr>\n",
       "    <tr>\n",
       "      <th>tol</th>\n",
       "      <td>0.0001</td>\n",
       "    </tr>\n",
       "  </tbody>\n",
       "</table>\n",
       "</div>"
      ],
      "text/plain": [
       "                 Parameters\n",
       "priors                 None\n",
       "reg_param               0.0\n",
       "store_covariance      False\n",
       "tol                  0.0001"
      ]
     },
     "metadata": {},
     "output_type": "display_data"
    }
   ],
   "source": [
    "plot_model(qda, plot = 'parameter')"
   ]
  },
  {
   "cell_type": "code",
   "execution_count": 39,
   "metadata": {},
   "outputs": [
    {
     "name": "stdout",
     "output_type": "stream",
     "text": [
      "Transformation Pipeline and Model Successfully Saved\n"
     ]
    },
    {
     "data": {
      "text/plain": [
       "(Pipeline(memory=FastMemory(location=/tmp/joblib),\n",
       "          steps=[('numerical_imputer',\n",
       "                  TransformerWrapper(exclude=None,\n",
       "                                     include=['0', '1', '2', '3', '4', '5', '6',\n",
       "                                              '7', '8', '9', '10', '11', '12',\n",
       "                                              '13', '14', '15', '16', '17', '18',\n",
       "                                              '19', '20', '21', '22', '23', '24',\n",
       "                                              '25', '26', '27', '28', '29', ...],\n",
       "                                     transformer=SimpleImputer(add_indicator=False,\n",
       "                                                               copy=True,\n",
       "                                                               fill_value=None,\n",
       "                                                               keep_empty_feat...\n",
       "                 ('categorical_imputer',\n",
       "                  TransformerWrapper(exclude=None, include=[],\n",
       "                                     transformer=SimpleImputer(add_indicator=False,\n",
       "                                                               copy=True,\n",
       "                                                               fill_value=None,\n",
       "                                                               keep_empty_features=False,\n",
       "                                                               missing_values=nan,\n",
       "                                                               strategy='most_frequent',\n",
       "                                                               verbose='deprecated'))),\n",
       "                 ('trained_model',\n",
       "                  QuadraticDiscriminantAnalysis(priors=None, reg_param=0.0,\n",
       "                                                store_covariance=False,\n",
       "                                                tol=0.0001))],\n",
       "          verbose=False),\n",
       " 'models_classif/complex/non-reified/qda.pkl')"
      ]
     },
     "execution_count": 39,
     "metadata": {},
     "output_type": "execute_result"
    }
   ],
   "source": [
    "save_model(qda, 'models_classif/complex/non-reified/qda')"
   ]
  },
  {
   "cell_type": "markdown",
   "metadata": {},
   "source": [
    "# Linear Discriminant Analysis"
   ]
  },
  {
   "cell_type": "code",
   "execution_count": 40,
   "metadata": {},
   "outputs": [
    {
     "data": {
      "text/html": [],
      "text/plain": [
       "<IPython.core.display.HTML object>"
      ]
     },
     "metadata": {},
     "output_type": "display_data"
    },
    {
     "data": {
      "text/html": [
       "<style type=\"text/css\">\n",
       "#T_e38f9_row10_col0, #T_e38f9_row10_col1, #T_e38f9_row10_col2, #T_e38f9_row10_col3, #T_e38f9_row10_col4, #T_e38f9_row10_col5, #T_e38f9_row10_col6 {\n",
       "  background: yellow;\n",
       "}\n",
       "</style>\n",
       "<table id=\"T_e38f9\">\n",
       "  <thead>\n",
       "    <tr>\n",
       "      <th class=\"blank level0\" >&nbsp;</th>\n",
       "      <th id=\"T_e38f9_level0_col0\" class=\"col_heading level0 col0\" >Accuracy</th>\n",
       "      <th id=\"T_e38f9_level0_col1\" class=\"col_heading level0 col1\" >AUC</th>\n",
       "      <th id=\"T_e38f9_level0_col2\" class=\"col_heading level0 col2\" >Recall</th>\n",
       "      <th id=\"T_e38f9_level0_col3\" class=\"col_heading level0 col3\" >Prec.</th>\n",
       "      <th id=\"T_e38f9_level0_col4\" class=\"col_heading level0 col4\" >F1</th>\n",
       "      <th id=\"T_e38f9_level0_col5\" class=\"col_heading level0 col5\" >Kappa</th>\n",
       "      <th id=\"T_e38f9_level0_col6\" class=\"col_heading level0 col6\" >MCC</th>\n",
       "    </tr>\n",
       "    <tr>\n",
       "      <th class=\"index_name level0\" >Fold</th>\n",
       "      <th class=\"blank col0\" >&nbsp;</th>\n",
       "      <th class=\"blank col1\" >&nbsp;</th>\n",
       "      <th class=\"blank col2\" >&nbsp;</th>\n",
       "      <th class=\"blank col3\" >&nbsp;</th>\n",
       "      <th class=\"blank col4\" >&nbsp;</th>\n",
       "      <th class=\"blank col5\" >&nbsp;</th>\n",
       "      <th class=\"blank col6\" >&nbsp;</th>\n",
       "    </tr>\n",
       "  </thead>\n",
       "  <tbody>\n",
       "    <tr>\n",
       "      <th id=\"T_e38f9_level0_row0\" class=\"row_heading level0 row0\" >0</th>\n",
       "      <td id=\"T_e38f9_row0_col0\" class=\"data row0 col0\" >0.5667</td>\n",
       "      <td id=\"T_e38f9_row0_col1\" class=\"data row0 col1\" >0.6088</td>\n",
       "      <td id=\"T_e38f9_row0_col2\" class=\"data row0 col2\" >0.5312</td>\n",
       "      <td id=\"T_e38f9_row0_col3\" class=\"data row0 col3\" >0.5718</td>\n",
       "      <td id=\"T_e38f9_row0_col4\" class=\"data row0 col4\" >0.5508</td>\n",
       "      <td id=\"T_e38f9_row0_col5\" class=\"data row0 col5\" >0.1334</td>\n",
       "      <td id=\"T_e38f9_row0_col6\" class=\"data row0 col6\" >0.1338</td>\n",
       "    </tr>\n",
       "    <tr>\n",
       "      <th id=\"T_e38f9_level0_row1\" class=\"row_heading level0 row1\" >1</th>\n",
       "      <td id=\"T_e38f9_row1_col0\" class=\"data row1 col0\" >0.5651</td>\n",
       "      <td id=\"T_e38f9_row1_col1\" class=\"data row1 col1\" >0.6091</td>\n",
       "      <td id=\"T_e38f9_row1_col2\" class=\"data row1 col2\" >0.5386</td>\n",
       "      <td id=\"T_e38f9_row1_col3\" class=\"data row1 col3\" >0.5688</td>\n",
       "      <td id=\"T_e38f9_row1_col4\" class=\"data row1 col4\" >0.5533</td>\n",
       "      <td id=\"T_e38f9_row1_col5\" class=\"data row1 col5\" >0.1303</td>\n",
       "      <td id=\"T_e38f9_row1_col6\" class=\"data row1 col6\" >0.1305</td>\n",
       "    </tr>\n",
       "    <tr>\n",
       "      <th id=\"T_e38f9_level0_row2\" class=\"row_heading level0 row2\" >2</th>\n",
       "      <td id=\"T_e38f9_row2_col0\" class=\"data row2 col0\" >0.5624</td>\n",
       "      <td id=\"T_e38f9_row2_col1\" class=\"data row2 col1\" >0.6007</td>\n",
       "      <td id=\"T_e38f9_row2_col2\" class=\"data row2 col2\" >0.5126</td>\n",
       "      <td id=\"T_e38f9_row2_col3\" class=\"data row2 col3\" >0.5693</td>\n",
       "      <td id=\"T_e38f9_row2_col4\" class=\"data row2 col4\" >0.5394</td>\n",
       "      <td id=\"T_e38f9_row2_col5\" class=\"data row2 col5\" >0.1247</td>\n",
       "      <td id=\"T_e38f9_row2_col6\" class=\"data row2 col6\" >0.1253</td>\n",
       "    </tr>\n",
       "    <tr>\n",
       "      <th id=\"T_e38f9_level0_row3\" class=\"row_heading level0 row3\" >3</th>\n",
       "      <td id=\"T_e38f9_row3_col0\" class=\"data row3 col0\" >0.5742</td>\n",
       "      <td id=\"T_e38f9_row3_col1\" class=\"data row3 col1\" >0.6156</td>\n",
       "      <td id=\"T_e38f9_row3_col2\" class=\"data row3 col2\" >0.5435</td>\n",
       "      <td id=\"T_e38f9_row3_col3\" class=\"data row3 col3\" >0.5791</td>\n",
       "      <td id=\"T_e38f9_row3_col4\" class=\"data row3 col4\" >0.5607</td>\n",
       "      <td id=\"T_e38f9_row3_col5\" class=\"data row3 col5\" >0.1484</td>\n",
       "      <td id=\"T_e38f9_row3_col6\" class=\"data row3 col6\" >0.1487</td>\n",
       "    </tr>\n",
       "    <tr>\n",
       "      <th id=\"T_e38f9_level0_row4\" class=\"row_heading level0 row4\" >4</th>\n",
       "      <td id=\"T_e38f9_row4_col0\" class=\"data row4 col0\" >0.5735</td>\n",
       "      <td id=\"T_e38f9_row4_col1\" class=\"data row4 col1\" >0.6200</td>\n",
       "      <td id=\"T_e38f9_row4_col2\" class=\"data row4 col2\" >0.5327</td>\n",
       "      <td id=\"T_e38f9_row4_col3\" class=\"data row4 col3\" >0.5800</td>\n",
       "      <td id=\"T_e38f9_row4_col4\" class=\"data row4 col4\" >0.5554</td>\n",
       "      <td id=\"T_e38f9_row4_col5\" class=\"data row4 col5\" >0.1469</td>\n",
       "      <td id=\"T_e38f9_row4_col6\" class=\"data row4 col6\" >0.1474</td>\n",
       "    </tr>\n",
       "    <tr>\n",
       "      <th id=\"T_e38f9_level0_row5\" class=\"row_heading level0 row5\" >5</th>\n",
       "      <td id=\"T_e38f9_row5_col0\" class=\"data row5 col0\" >0.5701</td>\n",
       "      <td id=\"T_e38f9_row5_col1\" class=\"data row5 col1\" >0.6093</td>\n",
       "      <td id=\"T_e38f9_row5_col2\" class=\"data row5 col2\" >0.5305</td>\n",
       "      <td id=\"T_e38f9_row5_col3\" class=\"data row5 col3\" >0.5762</td>\n",
       "      <td id=\"T_e38f9_row5_col4\" class=\"data row5 col4\" >0.5524</td>\n",
       "      <td id=\"T_e38f9_row5_col5\" class=\"data row5 col5\" >0.1403</td>\n",
       "      <td id=\"T_e38f9_row5_col6\" class=\"data row5 col6\" >0.1407</td>\n",
       "    </tr>\n",
       "    <tr>\n",
       "      <th id=\"T_e38f9_level0_row6\" class=\"row_heading level0 row6\" >6</th>\n",
       "      <td id=\"T_e38f9_row6_col0\" class=\"data row6 col0\" >0.5713</td>\n",
       "      <td id=\"T_e38f9_row6_col1\" class=\"data row6 col1\" >0.6103</td>\n",
       "      <td id=\"T_e38f9_row6_col2\" class=\"data row6 col2\" >0.5240</td>\n",
       "      <td id=\"T_e38f9_row6_col3\" class=\"data row6 col3\" >0.5788</td>\n",
       "      <td id=\"T_e38f9_row6_col4\" class=\"data row6 col4\" >0.5500</td>\n",
       "      <td id=\"T_e38f9_row6_col5\" class=\"data row6 col5\" >0.1427</td>\n",
       "      <td id=\"T_e38f9_row6_col6\" class=\"data row6 col6\" >0.1433</td>\n",
       "    </tr>\n",
       "    <tr>\n",
       "      <th id=\"T_e38f9_level0_row7\" class=\"row_heading level0 row7\" >7</th>\n",
       "      <td id=\"T_e38f9_row7_col0\" class=\"data row7 col0\" >0.5718</td>\n",
       "      <td id=\"T_e38f9_row7_col1\" class=\"data row7 col1\" >0.6078</td>\n",
       "      <td id=\"T_e38f9_row7_col2\" class=\"data row7 col2\" >0.5472</td>\n",
       "      <td id=\"T_e38f9_row7_col3\" class=\"data row7 col3\" >0.5755</td>\n",
       "      <td id=\"T_e38f9_row7_col4\" class=\"data row7 col4\" >0.5610</td>\n",
       "      <td id=\"T_e38f9_row7_col5\" class=\"data row7 col5\" >0.1436</td>\n",
       "      <td id=\"T_e38f9_row7_col6\" class=\"data row7 col6\" >0.1438</td>\n",
       "    </tr>\n",
       "    <tr>\n",
       "      <th id=\"T_e38f9_level0_row8\" class=\"row_heading level0 row8\" >8</th>\n",
       "      <td id=\"T_e38f9_row8_col0\" class=\"data row8 col0\" >0.5686</td>\n",
       "      <td id=\"T_e38f9_row8_col1\" class=\"data row8 col1\" >0.6100</td>\n",
       "      <td id=\"T_e38f9_row8_col2\" class=\"data row8 col2\" >0.5255</td>\n",
       "      <td id=\"T_e38f9_row8_col3\" class=\"data row8 col3\" >0.5751</td>\n",
       "      <td id=\"T_e38f9_row8_col4\" class=\"data row8 col4\" >0.5492</td>\n",
       "      <td id=\"T_e38f9_row8_col5\" class=\"data row8 col5\" >0.1373</td>\n",
       "      <td id=\"T_e38f9_row8_col6\" class=\"data row8 col6\" >0.1378</td>\n",
       "    </tr>\n",
       "    <tr>\n",
       "      <th id=\"T_e38f9_level0_row9\" class=\"row_heading level0 row9\" >9</th>\n",
       "      <td id=\"T_e38f9_row9_col0\" class=\"data row9 col0\" >0.5630</td>\n",
       "      <td id=\"T_e38f9_row9_col1\" class=\"data row9 col1\" >0.6029</td>\n",
       "      <td id=\"T_e38f9_row9_col2\" class=\"data row9 col2\" >0.5229</td>\n",
       "      <td id=\"T_e38f9_row9_col3\" class=\"data row9 col3\" >0.5685</td>\n",
       "      <td id=\"T_e38f9_row9_col4\" class=\"data row9 col4\" >0.5447</td>\n",
       "      <td id=\"T_e38f9_row9_col5\" class=\"data row9 col5\" >0.1259</td>\n",
       "      <td id=\"T_e38f9_row9_col6\" class=\"data row9 col6\" >0.1263</td>\n",
       "    </tr>\n",
       "    <tr>\n",
       "      <th id=\"T_e38f9_level0_row10\" class=\"row_heading level0 row10\" >Mean</th>\n",
       "      <td id=\"T_e38f9_row10_col0\" class=\"data row10 col0\" >0.5687</td>\n",
       "      <td id=\"T_e38f9_row10_col1\" class=\"data row10 col1\" >0.6094</td>\n",
       "      <td id=\"T_e38f9_row10_col2\" class=\"data row10 col2\" >0.5309</td>\n",
       "      <td id=\"T_e38f9_row10_col3\" class=\"data row10 col3\" >0.5743</td>\n",
       "      <td id=\"T_e38f9_row10_col4\" class=\"data row10 col4\" >0.5517</td>\n",
       "      <td id=\"T_e38f9_row10_col5\" class=\"data row10 col5\" >0.1374</td>\n",
       "      <td id=\"T_e38f9_row10_col6\" class=\"data row10 col6\" >0.1378</td>\n",
       "    </tr>\n",
       "    <tr>\n",
       "      <th id=\"T_e38f9_level0_row11\" class=\"row_heading level0 row11\" >Std</th>\n",
       "      <td id=\"T_e38f9_row11_col0\" class=\"data row11 col0\" >0.0040</td>\n",
       "      <td id=\"T_e38f9_row11_col1\" class=\"data row11 col1\" >0.0052</td>\n",
       "      <td id=\"T_e38f9_row11_col2\" class=\"data row11 col2\" >0.0098</td>\n",
       "      <td id=\"T_e38f9_row11_col3\" class=\"data row11 col3\" >0.0042</td>\n",
       "      <td id=\"T_e38f9_row11_col4\" class=\"data row11 col4\" >0.0063</td>\n",
       "      <td id=\"T_e38f9_row11_col5\" class=\"data row11 col5\" >0.0080</td>\n",
       "      <td id=\"T_e38f9_row11_col6\" class=\"data row11 col6\" >0.0080</td>\n",
       "    </tr>\n",
       "  </tbody>\n",
       "</table>\n"
      ],
      "text/plain": [
       "<pandas.io.formats.style.Styler at 0x7f7e70c3bcd0>"
      ]
     },
     "metadata": {},
     "output_type": "display_data"
    },
    {
     "data": {
      "text/html": [],
      "text/plain": [
       "<IPython.core.display.HTML object>"
      ]
     },
     "metadata": {},
     "output_type": "display_data"
    }
   ],
   "source": [
    "lda = create_model('lda')"
   ]
  },
  {
   "cell_type": "code",
   "execution_count": 41,
   "metadata": {},
   "outputs": [
    {
     "data": {
      "text/html": [],
      "text/plain": [
       "<IPython.core.display.HTML object>"
      ]
     },
     "metadata": {},
     "output_type": "display_data"
    },
    {
     "data": {
      "image/png": "[encoded data removed]",
      "text/plain": [
       "<Figure size 800x550 with 1 Axes>"
      ]
     },
     "metadata": {},
     "output_type": "display_data"
    }
   ],
   "source": [
    "plot_model(lda, plot = 'confusion_matrix')"
   ]
  },
  {
   "cell_type": "code",
   "execution_count": 42,
   "metadata": {},
   "outputs": [
    {
     "data": {
      "text/html": [],
      "text/plain": [
       "<IPython.core.display.HTML object>"
      ]
     },
     "metadata": {},
     "output_type": "display_data"
    },
    {
     "data": {
      "image/png": "[encoded data removed]",
      "text/plain": [
       "<Figure size 800x550 with 1 Axes>"
      ]
     },
     "metadata": {},
     "output_type": "display_data"
    }
   ],
   "source": [
    "plot_model(lda, plot = 'error')"
   ]
  },
  {
   "cell_type": "code",
   "execution_count": 43,
   "metadata": {},
   "outputs": [
    {
     "data": {
      "text/html": [],
      "text/plain": [
       "<IPython.core.display.HTML object>"
      ]
     },
     "metadata": {},
     "output_type": "display_data"
    },
    {
     "data": {
      "text/html": [
       "<div>\n",
       "<style scoped>\n",
       "    .dataframe tbody tr th:only-of-type {\n",
       "        vertical-align: middle;\n",
       "    }\n",
       "\n",
       "    .dataframe tbody tr th {\n",
       "        vertical-align: top;\n",
       "    }\n",
       "\n",
       "    .dataframe thead th {\n",
       "        text-align: right;\n",
       "    }\n",
       "</style>\n",
       "<table border=\"1\" class=\"dataframe\">\n",
       "  <thead>\n",
       "    <tr style=\"text-align: right;\">\n",
       "      <th></th>\n",
       "      <th>Parameters</th>\n",
       "    </tr>\n",
       "  </thead>\n",
       "  <tbody>\n",
       "    <tr>\n",
       "      <th>covariance_estimator</th>\n",
       "      <td>None</td>\n",
       "    </tr>\n",
       "    <tr>\n",
       "      <th>n_components</th>\n",
       "      <td>None</td>\n",
       "    </tr>\n",
       "    <tr>\n",
       "      <th>priors</th>\n",
       "      <td>None</td>\n",
       "    </tr>\n",
       "    <tr>\n",
       "      <th>shrinkage</th>\n",
       "      <td>None</td>\n",
       "    </tr>\n",
       "    <tr>\n",
       "      <th>solver</th>\n",
       "      <td>svd</td>\n",
       "    </tr>\n",
       "    <tr>\n",
       "      <th>store_covariance</th>\n",
       "      <td>False</td>\n",
       "    </tr>\n",
       "    <tr>\n",
       "      <th>tol</th>\n",
       "      <td>0.0001</td>\n",
       "    </tr>\n",
       "  </tbody>\n",
       "</table>\n",
       "</div>"
      ],
      "text/plain": [
       "                     Parameters\n",
       "covariance_estimator       None\n",
       "n_components               None\n",
       "priors                     None\n",
       "shrinkage                  None\n",
       "solver                      svd\n",
       "store_covariance          False\n",
       "tol                      0.0001"
      ]
     },
     "metadata": {},
     "output_type": "display_data"
    }
   ],
   "source": [
    "plot_model(lda, plot = 'parameter')"
   ]
  },
  {
   "cell_type": "code",
   "execution_count": 44,
   "metadata": {},
   "outputs": [
    {
     "name": "stdout",
     "output_type": "stream",
     "text": [
      "Transformation Pipeline and Model Successfully Saved\n"
     ]
    },
    {
     "data": {
      "text/plain": [
       "(Pipeline(memory=FastMemory(location=/tmp/joblib),\n",
       "          steps=[('numerical_imputer',\n",
       "                  TransformerWrapper(exclude=None,\n",
       "                                     include=['0', '1', '2', '3', '4', '5', '6',\n",
       "                                              '7', '8', '9', '10', '11', '12',\n",
       "                                              '13', '14', '15', '16', '17', '18',\n",
       "                                              '19', '20', '21', '22', '23', '24',\n",
       "                                              '25', '26', '27', '28', '29', ...],\n",
       "                                     transformer=SimpleImputer(add_indicator=False,\n",
       "                                                               copy=True,\n",
       "                                                               fill_value=None,\n",
       "                                                               keep_empty_feat...\n",
       "                  TransformerWrapper(exclude=None, include=[],\n",
       "                                     transformer=SimpleImputer(add_indicator=False,\n",
       "                                                               copy=True,\n",
       "                                                               fill_value=None,\n",
       "                                                               keep_empty_features=False,\n",
       "                                                               missing_values=nan,\n",
       "                                                               strategy='most_frequent',\n",
       "                                                               verbose='deprecated'))),\n",
       "                 ('trained_model',\n",
       "                  LinearDiscriminantAnalysis(covariance_estimator=None,\n",
       "                                             n_components=None, priors=None,\n",
       "                                             shrinkage=None, solver='svd',\n",
       "                                             store_covariance=False,\n",
       "                                             tol=0.0001))],\n",
       "          verbose=False),\n",
       " 'models_classif/complex/non-reified/lda.pkl')"
      ]
     },
     "execution_count": 44,
     "metadata": {},
     "output_type": "execute_result"
    }
   ],
   "source": [
    "save_model(lda, 'models_classif/complex/non-reified/lda')"
   ]
  },
  {
   "cell_type": "markdown",
   "metadata": {},
   "source": [
    "# Extra Trees"
   ]
  },
  {
   "cell_type": "code",
   "execution_count": 45,
   "metadata": {},
   "outputs": [
    {
     "data": {
      "text/html": [],
      "text/plain": [
       "<IPython.core.display.HTML object>"
      ]
     },
     "metadata": {},
     "output_type": "display_data"
    },
    {
     "data": {
      "text/html": [
       "<style type=\"text/css\">\n",
       "#T_0654c_row10_col0, #T_0654c_row10_col1, #T_0654c_row10_col2, #T_0654c_row10_col3, #T_0654c_row10_col4, #T_0654c_row10_col5, #T_0654c_row10_col6 {\n",
       "  background: yellow;\n",
       "}\n",
       "</style>\n",
       "<table id=\"T_0654c\">\n",
       "  <thead>\n",
       "    <tr>\n",
       "      <th class=\"blank level0\" >&nbsp;</th>\n",
       "      <th id=\"T_0654c_level0_col0\" class=\"col_heading level0 col0\" >Accuracy</th>\n",
       "      <th id=\"T_0654c_level0_col1\" class=\"col_heading level0 col1\" >AUC</th>\n",
       "      <th id=\"T_0654c_level0_col2\" class=\"col_heading level0 col2\" >Recall</th>\n",
       "      <th id=\"T_0654c_level0_col3\" class=\"col_heading level0 col3\" >Prec.</th>\n",
       "      <th id=\"T_0654c_level0_col4\" class=\"col_heading level0 col4\" >F1</th>\n",
       "      <th id=\"T_0654c_level0_col5\" class=\"col_heading level0 col5\" >Kappa</th>\n",
       "      <th id=\"T_0654c_level0_col6\" class=\"col_heading level0 col6\" >MCC</th>\n",
       "    </tr>\n",
       "    <tr>\n",
       "      <th class=\"index_name level0\" >Fold</th>\n",
       "      <th class=\"blank col0\" >&nbsp;</th>\n",
       "      <th class=\"blank col1\" >&nbsp;</th>\n",
       "      <th class=\"blank col2\" >&nbsp;</th>\n",
       "      <th class=\"blank col3\" >&nbsp;</th>\n",
       "      <th class=\"blank col4\" >&nbsp;</th>\n",
       "      <th class=\"blank col5\" >&nbsp;</th>\n",
       "      <th class=\"blank col6\" >&nbsp;</th>\n",
       "    </tr>\n",
       "  </thead>\n",
       "  <tbody>\n",
       "    <tr>\n",
       "      <th id=\"T_0654c_level0_row0\" class=\"row_heading level0 row0\" >0</th>\n",
       "      <td id=\"T_0654c_row0_col0\" class=\"data row0 col0\" >0.7292</td>\n",
       "      <td id=\"T_0654c_row0_col1\" class=\"data row0 col1\" >0.7816</td>\n",
       "      <td id=\"T_0654c_row0_col2\" class=\"data row0 col2\" >0.7372</td>\n",
       "      <td id=\"T_0654c_row0_col3\" class=\"data row0 col3\" >0.7256</td>\n",
       "      <td id=\"T_0654c_row0_col4\" class=\"data row0 col4\" >0.7313</td>\n",
       "      <td id=\"T_0654c_row0_col5\" class=\"data row0 col5\" >0.4584</td>\n",
       "      <td id=\"T_0654c_row0_col6\" class=\"data row0 col6\" >0.4584</td>\n",
       "    </tr>\n",
       "    <tr>\n",
       "      <th id=\"T_0654c_level0_row1\" class=\"row_heading level0 row1\" >1</th>\n",
       "      <td id=\"T_0654c_row1_col0\" class=\"data row1 col0\" >0.7364</td>\n",
       "      <td id=\"T_0654c_row1_col1\" class=\"data row1 col1\" >0.7861</td>\n",
       "      <td id=\"T_0654c_row1_col2\" class=\"data row1 col2\" >0.7406</td>\n",
       "      <td id=\"T_0654c_row1_col3\" class=\"data row1 col3\" >0.7346</td>\n",
       "      <td id=\"T_0654c_row1_col4\" class=\"data row1 col4\" >0.7375</td>\n",
       "      <td id=\"T_0654c_row1_col5\" class=\"data row1 col5\" >0.4729</td>\n",
       "      <td id=\"T_0654c_row1_col6\" class=\"data row1 col6\" >0.4729</td>\n",
       "    </tr>\n",
       "    <tr>\n",
       "      <th id=\"T_0654c_level0_row2\" class=\"row_heading level0 row2\" >2</th>\n",
       "      <td id=\"T_0654c_row2_col0\" class=\"data row2 col0\" >0.7257</td>\n",
       "      <td id=\"T_0654c_row2_col1\" class=\"data row2 col1\" >0.7754</td>\n",
       "      <td id=\"T_0654c_row2_col2\" class=\"data row2 col2\" >0.7216</td>\n",
       "      <td id=\"T_0654c_row2_col3\" class=\"data row2 col3\" >0.7275</td>\n",
       "      <td id=\"T_0654c_row2_col4\" class=\"data row2 col4\" >0.7246</td>\n",
       "      <td id=\"T_0654c_row2_col5\" class=\"data row2 col5\" >0.4513</td>\n",
       "      <td id=\"T_0654c_row2_col6\" class=\"data row2 col6\" >0.4513</td>\n",
       "    </tr>\n",
       "    <tr>\n",
       "      <th id=\"T_0654c_level0_row3\" class=\"row_heading level0 row3\" >3</th>\n",
       "      <td id=\"T_0654c_row3_col0\" class=\"data row3 col0\" >0.7331</td>\n",
       "      <td id=\"T_0654c_row3_col1\" class=\"data row3 col1\" >0.7814</td>\n",
       "      <td id=\"T_0654c_row3_col2\" class=\"data row3 col2\" >0.7321</td>\n",
       "      <td id=\"T_0654c_row3_col3\" class=\"data row3 col3\" >0.7335</td>\n",
       "      <td id=\"T_0654c_row3_col4\" class=\"data row3 col4\" >0.7328</td>\n",
       "      <td id=\"T_0654c_row3_col5\" class=\"data row3 col5\" >0.4661</td>\n",
       "      <td id=\"T_0654c_row3_col6\" class=\"data row3 col6\" >0.4661</td>\n",
       "    </tr>\n",
       "    <tr>\n",
       "      <th id=\"T_0654c_level0_row4\" class=\"row_heading level0 row4\" >4</th>\n",
       "      <td id=\"T_0654c_row4_col0\" class=\"data row4 col0\" >0.7307</td>\n",
       "      <td id=\"T_0654c_row4_col1\" class=\"data row4 col1\" >0.7820</td>\n",
       "      <td id=\"T_0654c_row4_col2\" class=\"data row4 col2\" >0.7362</td>\n",
       "      <td id=\"T_0654c_row4_col3\" class=\"data row4 col3\" >0.7282</td>\n",
       "      <td id=\"T_0654c_row4_col4\" class=\"data row4 col4\" >0.7322</td>\n",
       "      <td id=\"T_0654c_row4_col5\" class=\"data row4 col5\" >0.4615</td>\n",
       "      <td id=\"T_0654c_row4_col6\" class=\"data row4 col6\" >0.4615</td>\n",
       "    </tr>\n",
       "    <tr>\n",
       "      <th id=\"T_0654c_level0_row5\" class=\"row_heading level0 row5\" >5</th>\n",
       "      <td id=\"T_0654c_row5_col0\" class=\"data row5 col0\" >0.7342</td>\n",
       "      <td id=\"T_0654c_row5_col1\" class=\"data row5 col1\" >0.7895</td>\n",
       "      <td id=\"T_0654c_row5_col2\" class=\"data row5 col2\" >0.7400</td>\n",
       "      <td id=\"T_0654c_row5_col3\" class=\"data row5 col3\" >0.7315</td>\n",
       "      <td id=\"T_0654c_row5_col4\" class=\"data row5 col4\" >0.7357</td>\n",
       "      <td id=\"T_0654c_row5_col5\" class=\"data row5 col5\" >0.4684</td>\n",
       "      <td id=\"T_0654c_row5_col6\" class=\"data row5 col6\" >0.4684</td>\n",
       "    </tr>\n",
       "    <tr>\n",
       "      <th id=\"T_0654c_level0_row6\" class=\"row_heading level0 row6\" >6</th>\n",
       "      <td id=\"T_0654c_row6_col0\" class=\"data row6 col0\" >0.7254</td>\n",
       "      <td id=\"T_0654c_row6_col1\" class=\"data row6 col1\" >0.7762</td>\n",
       "      <td id=\"T_0654c_row6_col2\" class=\"data row6 col2\" >0.7279</td>\n",
       "      <td id=\"T_0654c_row6_col3\" class=\"data row6 col3\" >0.7244</td>\n",
       "      <td id=\"T_0654c_row6_col4\" class=\"data row6 col4\" >0.7261</td>\n",
       "      <td id=\"T_0654c_row6_col5\" class=\"data row6 col5\" >0.4509</td>\n",
       "      <td id=\"T_0654c_row6_col6\" class=\"data row6 col6\" >0.4509</td>\n",
       "    </tr>\n",
       "    <tr>\n",
       "      <th id=\"T_0654c_level0_row7\" class=\"row_heading level0 row7\" >7</th>\n",
       "      <td id=\"T_0654c_row7_col0\" class=\"data row7 col0\" >0.7320</td>\n",
       "      <td id=\"T_0654c_row7_col1\" class=\"data row7 col1\" >0.7863</td>\n",
       "      <td id=\"T_0654c_row7_col2\" class=\"data row7 col2\" >0.7312</td>\n",
       "      <td id=\"T_0654c_row7_col3\" class=\"data row7 col3\" >0.7323</td>\n",
       "      <td id=\"T_0654c_row7_col4\" class=\"data row7 col4\" >0.7318</td>\n",
       "      <td id=\"T_0654c_row7_col5\" class=\"data row7 col5\" >0.4639</td>\n",
       "      <td id=\"T_0654c_row7_col6\" class=\"data row7 col6\" >0.4639</td>\n",
       "    </tr>\n",
       "    <tr>\n",
       "      <th id=\"T_0654c_level0_row8\" class=\"row_heading level0 row8\" >8</th>\n",
       "      <td id=\"T_0654c_row8_col0\" class=\"data row8 col0\" >0.7281</td>\n",
       "      <td id=\"T_0654c_row8_col1\" class=\"data row8 col1\" >0.7877</td>\n",
       "      <td id=\"T_0654c_row8_col2\" class=\"data row8 col2\" >0.7396</td>\n",
       "      <td id=\"T_0654c_row8_col3\" class=\"data row8 col3\" >0.7230</td>\n",
       "      <td id=\"T_0654c_row8_col4\" class=\"data row8 col4\" >0.7312</td>\n",
       "      <td id=\"T_0654c_row8_col5\" class=\"data row8 col5\" >0.4563</td>\n",
       "      <td id=\"T_0654c_row8_col6\" class=\"data row8 col6\" >0.4564</td>\n",
       "    </tr>\n",
       "    <tr>\n",
       "      <th id=\"T_0654c_level0_row9\" class=\"row_heading level0 row9\" >9</th>\n",
       "      <td id=\"T_0654c_row9_col0\" class=\"data row9 col0\" >0.7264</td>\n",
       "      <td id=\"T_0654c_row9_col1\" class=\"data row9 col1\" >0.7786</td>\n",
       "      <td id=\"T_0654c_row9_col2\" class=\"data row9 col2\" >0.7325</td>\n",
       "      <td id=\"T_0654c_row9_col3\" class=\"data row9 col3\" >0.7236</td>\n",
       "      <td id=\"T_0654c_row9_col4\" class=\"data row9 col4\" >0.7280</td>\n",
       "      <td id=\"T_0654c_row9_col5\" class=\"data row9 col5\" >0.4528</td>\n",
       "      <td id=\"T_0654c_row9_col6\" class=\"data row9 col6\" >0.4528</td>\n",
       "    </tr>\n",
       "    <tr>\n",
       "      <th id=\"T_0654c_level0_row10\" class=\"row_heading level0 row10\" >Mean</th>\n",
       "      <td id=\"T_0654c_row10_col0\" class=\"data row10 col0\" >0.7301</td>\n",
       "      <td id=\"T_0654c_row10_col1\" class=\"data row10 col1\" >0.7825</td>\n",
       "      <td id=\"T_0654c_row10_col2\" class=\"data row10 col2\" >0.7339</td>\n",
       "      <td id=\"T_0654c_row10_col3\" class=\"data row10 col3\" >0.7284</td>\n",
       "      <td id=\"T_0654c_row10_col4\" class=\"data row10 col4\" >0.7311</td>\n",
       "      <td id=\"T_0654c_row10_col5\" class=\"data row10 col5\" >0.4602</td>\n",
       "      <td id=\"T_0654c_row10_col6\" class=\"data row10 col6\" >0.4603</td>\n",
       "    </tr>\n",
       "    <tr>\n",
       "      <th id=\"T_0654c_level0_row11\" class=\"row_heading level0 row11\" >Std</th>\n",
       "      <td id=\"T_0654c_row11_col0\" class=\"data row11 col0\" >0.0036</td>\n",
       "      <td id=\"T_0654c_row11_col1\" class=\"data row11 col1\" >0.0046</td>\n",
       "      <td id=\"T_0654c_row11_col2\" class=\"data row11 col2\" >0.0057</td>\n",
       "      <td id=\"T_0654c_row11_col3\" class=\"data row11 col3\" >0.0041</td>\n",
       "      <td id=\"T_0654c_row11_col4\" class=\"data row11 col4\" >0.0038</td>\n",
       "      <td id=\"T_0654c_row11_col5\" class=\"data row11 col5\" >0.0072</td>\n",
       "      <td id=\"T_0654c_row11_col6\" class=\"data row11 col6\" >0.0072</td>\n",
       "    </tr>\n",
       "  </tbody>\n",
       "</table>\n"
      ],
      "text/plain": [
       "<pandas.io.formats.style.Styler at 0x7f7e72f12d40>"
      ]
     },
     "metadata": {},
     "output_type": "display_data"
    },
    {
     "data": {
      "text/html": [],
      "text/plain": [
       "<IPython.core.display.HTML object>"
      ]
     },
     "metadata": {},
     "output_type": "display_data"
    }
   ],
   "source": [
    "et = create_model('et')"
   ]
  },
  {
   "cell_type": "code",
   "execution_count": 46,
   "metadata": {},
   "outputs": [
    {
     "data": {
      "text/html": [],
      "text/plain": [
       "<IPython.core.display.HTML object>"
      ]
     },
     "metadata": {},
     "output_type": "display_data"
    },
    {
     "data": {
      "image/png": "[encoded data removed]",
      "text/plain": [
       "<Figure size 800x550 with 1 Axes>"
      ]
     },
     "metadata": {},
     "output_type": "display_data"
    }
   ],
   "source": [
    "plot_model(et, plot = 'confusion_matrix')"
   ]
  },
  {
   "cell_type": "code",
   "execution_count": 47,
   "metadata": {},
   "outputs": [
    {
     "data": {
      "text/html": [],
      "text/plain": [
       "<IPython.core.display.HTML object>"
      ]
     },
     "metadata": {},
     "output_type": "display_data"
    },
    {
     "data": {
      "image/png": "[encoded data removed]",
      "text/plain": [
       "<Figure size 800x550 with 1 Axes>"
      ]
     },
     "metadata": {},
     "output_type": "display_data"
    }
   ],
   "source": [
    "plot_model(et, plot = 'error')"
   ]
  },
  {
   "cell_type": "code",
   "execution_count": 48,
   "metadata": {},
   "outputs": [
    {
     "data": {
      "text/html": [],
      "text/plain": [
       "<IPython.core.display.HTML object>"
      ]
     },
     "metadata": {},
     "output_type": "display_data"
    },
    {
     "data": {
      "text/html": [
       "<div>\n",
       "<style scoped>\n",
       "    .dataframe tbody tr th:only-of-type {\n",
       "        vertical-align: middle;\n",
       "    }\n",
       "\n",
       "    .dataframe tbody tr th {\n",
       "        vertical-align: top;\n",
       "    }\n",
       "\n",
       "    .dataframe thead th {\n",
       "        text-align: right;\n",
       "    }\n",
       "</style>\n",
       "<table border=\"1\" class=\"dataframe\">\n",
       "  <thead>\n",
       "    <tr style=\"text-align: right;\">\n",
       "      <th></th>\n",
       "      <th>Parameters</th>\n",
       "    </tr>\n",
       "  </thead>\n",
       "  <tbody>\n",
       "    <tr>\n",
       "      <th>bootstrap</th>\n",
       "      <td>False</td>\n",
       "    </tr>\n",
       "    <tr>\n",
       "      <th>ccp_alpha</th>\n",
       "      <td>0.0</td>\n",
       "    </tr>\n",
       "    <tr>\n",
       "      <th>class_weight</th>\n",
       "      <td>None</td>\n",
       "    </tr>\n",
       "    <tr>\n",
       "      <th>criterion</th>\n",
       "      <td>gini</td>\n",
       "    </tr>\n",
       "    <tr>\n",
       "      <th>max_depth</th>\n",
       "      <td>None</td>\n",
       "    </tr>\n",
       "    <tr>\n",
       "      <th>max_features</th>\n",
       "      <td>sqrt</td>\n",
       "    </tr>\n",
       "    <tr>\n",
       "      <th>max_leaf_nodes</th>\n",
       "      <td>None</td>\n",
       "    </tr>\n",
       "    <tr>\n",
       "      <th>max_samples</th>\n",
       "      <td>None</td>\n",
       "    </tr>\n",
       "    <tr>\n",
       "      <th>min_impurity_decrease</th>\n",
       "      <td>0.0</td>\n",
       "    </tr>\n",
       "    <tr>\n",
       "      <th>min_samples_leaf</th>\n",
       "      <td>1</td>\n",
       "    </tr>\n",
       "    <tr>\n",
       "      <th>min_samples_split</th>\n",
       "      <td>2</td>\n",
       "    </tr>\n",
       "    <tr>\n",
       "      <th>min_weight_fraction_leaf</th>\n",
       "      <td>0.0</td>\n",
       "    </tr>\n",
       "    <tr>\n",
       "      <th>n_estimators</th>\n",
       "      <td>100</td>\n",
       "    </tr>\n",
       "    <tr>\n",
       "      <th>n_jobs</th>\n",
       "      <td>-1</td>\n",
       "    </tr>\n",
       "    <tr>\n",
       "      <th>oob_score</th>\n",
       "      <td>False</td>\n",
       "    </tr>\n",
       "    <tr>\n",
       "      <th>random_state</th>\n",
       "      <td>4991</td>\n",
       "    </tr>\n",
       "    <tr>\n",
       "      <th>verbose</th>\n",
       "      <td>0</td>\n",
       "    </tr>\n",
       "    <tr>\n",
       "      <th>warm_start</th>\n",
       "      <td>False</td>\n",
       "    </tr>\n",
       "  </tbody>\n",
       "</table>\n",
       "</div>"
      ],
      "text/plain": [
       "                         Parameters\n",
       "bootstrap                     False\n",
       "ccp_alpha                       0.0\n",
       "class_weight                   None\n",
       "criterion                      gini\n",
       "max_depth                      None\n",
       "max_features                   sqrt\n",
       "max_leaf_nodes                 None\n",
       "max_samples                    None\n",
       "min_impurity_decrease           0.0\n",
       "min_samples_leaf                  1\n",
       "min_samples_split                 2\n",
       "min_weight_fraction_leaf        0.0\n",
       "n_estimators                    100\n",
       "n_jobs                           -1\n",
       "oob_score                     False\n",
       "random_state                   4991\n",
       "verbose                           0\n",
       "warm_start                    False"
      ]
     },
     "metadata": {},
     "output_type": "display_data"
    }
   ],
   "source": [
    "plot_model(et, plot = 'parameter')"
   ]
  },
  {
   "cell_type": "code",
   "execution_count": 49,
   "metadata": {},
   "outputs": [
    {
     "name": "stdout",
     "output_type": "stream",
     "text": [
      "Transformation Pipeline and Model Successfully Saved\n"
     ]
    },
    {
     "data": {
      "text/plain": [
       "(Pipeline(memory=FastMemory(location=/tmp/joblib),\n",
       "          steps=[('numerical_imputer',\n",
       "                  TransformerWrapper(exclude=None,\n",
       "                                     include=['0', '1', '2', '3', '4', '5', '6',\n",
       "                                              '7', '8', '9', '10', '11', '12',\n",
       "                                              '13', '14', '15', '16', '17', '18',\n",
       "                                              '19', '20', '21', '22', '23', '24',\n",
       "                                              '25', '26', '27', '28', '29', ...],\n",
       "                                     transformer=SimpleImputer(add_indicator=False,\n",
       "                                                               copy=True,\n",
       "                                                               fill_value=None,\n",
       "                                                               keep_empty_feat...\n",
       "                  ExtraTreesClassifier(bootstrap=False, ccp_alpha=0.0,\n",
       "                                       class_weight=None, criterion='gini',\n",
       "                                       max_depth=None, max_features='sqrt',\n",
       "                                       max_leaf_nodes=None, max_samples=None,\n",
       "                                       min_impurity_decrease=0.0,\n",
       "                                       min_samples_leaf=1, min_samples_split=2,\n",
       "                                       min_weight_fraction_leaf=0.0,\n",
       "                                       n_estimators=100, n_jobs=-1,\n",
       "                                       oob_score=False, random_state=4991,\n",
       "                                       verbose=0, warm_start=False))],\n",
       "          verbose=False),\n",
       " 'models_classif/complex/non-reified/et.pkl')"
      ]
     },
     "execution_count": 49,
     "metadata": {},
     "output_type": "execute_result"
    }
   ],
   "source": [
    "save_model(et, 'models_classif/complex/non-reified/et')"
   ]
  },
  {
   "cell_type": "markdown",
   "metadata": {},
   "source": [
    "# Light Gradient Boosting Machine"
   ]
  },
  {
   "cell_type": "code",
   "execution_count": 50,
   "metadata": {},
   "outputs": [
    {
     "data": {
      "text/html": [],
      "text/plain": [
       "<IPython.core.display.HTML object>"
      ]
     },
     "metadata": {},
     "output_type": "display_data"
    },
    {
     "data": {
      "text/html": [
       "<style type=\"text/css\">\n",
       "#T_38d5d_row10_col0, #T_38d5d_row10_col1, #T_38d5d_row10_col2, #T_38d5d_row10_col3, #T_38d5d_row10_col4, #T_38d5d_row10_col5, #T_38d5d_row10_col6 {\n",
       "  background: yellow;\n",
       "}\n",
       "</style>\n",
       "<table id=\"T_38d5d\">\n",
       "  <thead>\n",
       "    <tr>\n",
       "      <th class=\"blank level0\" >&nbsp;</th>\n",
       "      <th id=\"T_38d5d_level0_col0\" class=\"col_heading level0 col0\" >Accuracy</th>\n",
       "      <th id=\"T_38d5d_level0_col1\" class=\"col_heading level0 col1\" >AUC</th>\n",
       "      <th id=\"T_38d5d_level0_col2\" class=\"col_heading level0 col2\" >Recall</th>\n",
       "      <th id=\"T_38d5d_level0_col3\" class=\"col_heading level0 col3\" >Prec.</th>\n",
       "      <th id=\"T_38d5d_level0_col4\" class=\"col_heading level0 col4\" >F1</th>\n",
       "      <th id=\"T_38d5d_level0_col5\" class=\"col_heading level0 col5\" >Kappa</th>\n",
       "      <th id=\"T_38d5d_level0_col6\" class=\"col_heading level0 col6\" >MCC</th>\n",
       "    </tr>\n",
       "    <tr>\n",
       "      <th class=\"index_name level0\" >Fold</th>\n",
       "      <th class=\"blank col0\" >&nbsp;</th>\n",
       "      <th class=\"blank col1\" >&nbsp;</th>\n",
       "      <th class=\"blank col2\" >&nbsp;</th>\n",
       "      <th class=\"blank col3\" >&nbsp;</th>\n",
       "      <th class=\"blank col4\" >&nbsp;</th>\n",
       "      <th class=\"blank col5\" >&nbsp;</th>\n",
       "      <th class=\"blank col6\" >&nbsp;</th>\n",
       "    </tr>\n",
       "  </thead>\n",
       "  <tbody>\n",
       "    <tr>\n",
       "      <th id=\"T_38d5d_level0_row0\" class=\"row_heading level0 row0\" >0</th>\n",
       "      <td id=\"T_38d5d_row0_col0\" class=\"data row0 col0\" >0.7269</td>\n",
       "      <td id=\"T_38d5d_row0_col1\" class=\"data row0 col1\" >0.7786</td>\n",
       "      <td id=\"T_38d5d_row0_col2\" class=\"data row0 col2\" >0.6607</td>\n",
       "      <td id=\"T_38d5d_row0_col3\" class=\"data row0 col3\" >0.7614</td>\n",
       "      <td id=\"T_38d5d_row0_col4\" class=\"data row0 col4\" >0.7075</td>\n",
       "      <td id=\"T_38d5d_row0_col5\" class=\"data row0 col5\" >0.4537</td>\n",
       "      <td id=\"T_38d5d_row0_col6\" class=\"data row0 col6\" >0.4577</td>\n",
       "    </tr>\n",
       "    <tr>\n",
       "      <th id=\"T_38d5d_level0_row1\" class=\"row_heading level0 row1\" >1</th>\n",
       "      <td id=\"T_38d5d_row1_col0\" class=\"data row1 col0\" >0.7281</td>\n",
       "      <td id=\"T_38d5d_row1_col1\" class=\"data row1 col1\" >0.7830</td>\n",
       "      <td id=\"T_38d5d_row1_col2\" class=\"data row1 col2\" >0.6630</td>\n",
       "      <td id=\"T_38d5d_row1_col3\" class=\"data row1 col3\" >0.7622</td>\n",
       "      <td id=\"T_38d5d_row1_col4\" class=\"data row1 col4\" >0.7092</td>\n",
       "      <td id=\"T_38d5d_row1_col5\" class=\"data row1 col5\" >0.4562</td>\n",
       "      <td id=\"T_38d5d_row1_col6\" class=\"data row1 col6\" >0.4601</td>\n",
       "    </tr>\n",
       "    <tr>\n",
       "      <th id=\"T_38d5d_level0_row2\" class=\"row_heading level0 row2\" >2</th>\n",
       "      <td id=\"T_38d5d_row2_col0\" class=\"data row2 col0\" >0.7195</td>\n",
       "      <td id=\"T_38d5d_row2_col1\" class=\"data row2 col1\" >0.7754</td>\n",
       "      <td id=\"T_38d5d_row2_col2\" class=\"data row2 col2\" >0.6366</td>\n",
       "      <td id=\"T_38d5d_row2_col3\" class=\"data row2 col3\" >0.7632</td>\n",
       "      <td id=\"T_38d5d_row2_col4\" class=\"data row2 col4\" >0.6942</td>\n",
       "      <td id=\"T_38d5d_row2_col5\" class=\"data row2 col5\" >0.4390</td>\n",
       "      <td id=\"T_38d5d_row2_col6\" class=\"data row2 col6\" >0.4452</td>\n",
       "    </tr>\n",
       "    <tr>\n",
       "      <th id=\"T_38d5d_level0_row3\" class=\"row_heading level0 row3\" >3</th>\n",
       "      <td id=\"T_38d5d_row3_col0\" class=\"data row3 col0\" >0.7284</td>\n",
       "      <td id=\"T_38d5d_row3_col1\" class=\"data row3 col1\" >0.7808</td>\n",
       "      <td id=\"T_38d5d_row3_col2\" class=\"data row3 col2\" >0.6531</td>\n",
       "      <td id=\"T_38d5d_row3_col3\" class=\"data row3 col3\" >0.7689</td>\n",
       "      <td id=\"T_38d5d_row3_col4\" class=\"data row3 col4\" >0.7063</td>\n",
       "      <td id=\"T_38d5d_row3_col5\" class=\"data row3 col5\" >0.4568</td>\n",
       "      <td id=\"T_38d5d_row3_col6\" class=\"data row3 col6\" >0.4621</td>\n",
       "    </tr>\n",
       "    <tr>\n",
       "      <th id=\"T_38d5d_level0_row4\" class=\"row_heading level0 row4\" >4</th>\n",
       "      <td id=\"T_38d5d_row4_col0\" class=\"data row4 col0\" >0.7250</td>\n",
       "      <td id=\"T_38d5d_row4_col1\" class=\"data row4 col1\" >0.7775</td>\n",
       "      <td id=\"T_38d5d_row4_col2\" class=\"data row4 col2\" >0.6497</td>\n",
       "      <td id=\"T_38d5d_row4_col3\" class=\"data row4 col3\" >0.7648</td>\n",
       "      <td id=\"T_38d5d_row4_col4\" class=\"data row4 col4\" >0.7026</td>\n",
       "      <td id=\"T_38d5d_row4_col5\" class=\"data row4 col5\" >0.4500</td>\n",
       "      <td id=\"T_38d5d_row4_col6\" class=\"data row4 col6\" >0.4551</td>\n",
       "    </tr>\n",
       "    <tr>\n",
       "      <th id=\"T_38d5d_level0_row5\" class=\"row_heading level0 row5\" >5</th>\n",
       "      <td id=\"T_38d5d_row5_col0\" class=\"data row5 col0\" >0.7288</td>\n",
       "      <td id=\"T_38d5d_row5_col1\" class=\"data row5 col1\" >0.7842</td>\n",
       "      <td id=\"T_38d5d_row5_col2\" class=\"data row5 col2\" >0.6589</td>\n",
       "      <td id=\"T_38d5d_row5_col3\" class=\"data row5 col3\" >0.7660</td>\n",
       "      <td id=\"T_38d5d_row5_col4\" class=\"data row5 col4\" >0.7084</td>\n",
       "      <td id=\"T_38d5d_row5_col5\" class=\"data row5 col5\" >0.4576</td>\n",
       "      <td id=\"T_38d5d_row5_col6\" class=\"data row5 col6\" >0.4621</td>\n",
       "    </tr>\n",
       "    <tr>\n",
       "      <th id=\"T_38d5d_level0_row6\" class=\"row_heading level0 row6\" >6</th>\n",
       "      <td id=\"T_38d5d_row6_col0\" class=\"data row6 col0\" >0.7180</td>\n",
       "      <td id=\"T_38d5d_row6_col1\" class=\"data row6 col1\" >0.7692</td>\n",
       "      <td id=\"T_38d5d_row6_col2\" class=\"data row6 col2\" >0.6390</td>\n",
       "      <td id=\"T_38d5d_row6_col3\" class=\"data row6 col3\" >0.7589</td>\n",
       "      <td id=\"T_38d5d_row6_col4\" class=\"data row6 col4\" >0.6938</td>\n",
       "      <td id=\"T_38d5d_row6_col5\" class=\"data row6 col5\" >0.4360</td>\n",
       "      <td id=\"T_38d5d_row6_col6\" class=\"data row6 col6\" >0.4416</td>\n",
       "    </tr>\n",
       "    <tr>\n",
       "      <th id=\"T_38d5d_level0_row7\" class=\"row_heading level0 row7\" >7</th>\n",
       "      <td id=\"T_38d5d_row7_col0\" class=\"data row7 col0\" >0.7254</td>\n",
       "      <td id=\"T_38d5d_row7_col1\" class=\"data row7 col1\" >0.7760</td>\n",
       "      <td id=\"T_38d5d_row7_col2\" class=\"data row7 col2\" >0.6490</td>\n",
       "      <td id=\"T_38d5d_row7_col3\" class=\"data row7 col3\" >0.7660</td>\n",
       "      <td id=\"T_38d5d_row7_col4\" class=\"data row7 col4\" >0.7026</td>\n",
       "      <td id=\"T_38d5d_row7_col5\" class=\"data row7 col5\" >0.4507</td>\n",
       "      <td id=\"T_38d5d_row7_col6\" class=\"data row7 col6\" >0.4561</td>\n",
       "    </tr>\n",
       "    <tr>\n",
       "      <th id=\"T_38d5d_level0_row8\" class=\"row_heading level0 row8\" >8</th>\n",
       "      <td id=\"T_38d5d_row8_col0\" class=\"data row8 col0\" >0.7281</td>\n",
       "      <td id=\"T_38d5d_row8_col1\" class=\"data row8 col1\" >0.7845</td>\n",
       "      <td id=\"T_38d5d_row8_col2\" class=\"data row8 col2\" >0.6616</td>\n",
       "      <td id=\"T_38d5d_row8_col3\" class=\"data row8 col3\" >0.7631</td>\n",
       "      <td id=\"T_38d5d_row8_col4\" class=\"data row8 col4\" >0.7088</td>\n",
       "      <td id=\"T_38d5d_row8_col5\" class=\"data row8 col5\" >0.4563</td>\n",
       "      <td id=\"T_38d5d_row8_col6\" class=\"data row8 col6\" >0.4604</td>\n",
       "    </tr>\n",
       "    <tr>\n",
       "      <th id=\"T_38d5d_level0_row9\" class=\"row_heading level0 row9\" >9</th>\n",
       "      <td id=\"T_38d5d_row9_col0\" class=\"data row9 col0\" >0.7236</td>\n",
       "      <td id=\"T_38d5d_row9_col1\" class=\"data row9 col1\" >0.7756</td>\n",
       "      <td id=\"T_38d5d_row9_col2\" class=\"data row9 col2\" >0.6445</td>\n",
       "      <td id=\"T_38d5d_row9_col3\" class=\"data row9 col3\" >0.7656</td>\n",
       "      <td id=\"T_38d5d_row9_col4\" class=\"data row9 col4\" >0.6999</td>\n",
       "      <td id=\"T_38d5d_row9_col5\" class=\"data row9 col5\" >0.4472</td>\n",
       "      <td id=\"T_38d5d_row9_col6\" class=\"data row9 col6\" >0.4529</td>\n",
       "    </tr>\n",
       "    <tr>\n",
       "      <th id=\"T_38d5d_level0_row10\" class=\"row_heading level0 row10\" >Mean</th>\n",
       "      <td id=\"T_38d5d_row10_col0\" class=\"data row10 col0\" >0.7252</td>\n",
       "      <td id=\"T_38d5d_row10_col1\" class=\"data row10 col1\" >0.7785</td>\n",
       "      <td id=\"T_38d5d_row10_col2\" class=\"data row10 col2\" >0.6516</td>\n",
       "      <td id=\"T_38d5d_row10_col3\" class=\"data row10 col3\" >0.7640</td>\n",
       "      <td id=\"T_38d5d_row10_col4\" class=\"data row10 col4\" >0.7033</td>\n",
       "      <td id=\"T_38d5d_row10_col5\" class=\"data row10 col5\" >0.4504</td>\n",
       "      <td id=\"T_38d5d_row10_col6\" class=\"data row10 col6\" >0.4553</td>\n",
       "    </tr>\n",
       "    <tr>\n",
       "      <th id=\"T_38d5d_level0_row11\" class=\"row_heading level0 row11\" >Std</th>\n",
       "      <td id=\"T_38d5d_row11_col0\" class=\"data row11 col0\" >0.0036</td>\n",
       "      <td id=\"T_38d5d_row11_col1\" class=\"data row11 col1\" >0.0045</td>\n",
       "      <td id=\"T_38d5d_row11_col2\" class=\"data row11 col2\" >0.0090</td>\n",
       "      <td id=\"T_38d5d_row11_col3\" class=\"data row11 col3\" >0.0027</td>\n",
       "      <td id=\"T_38d5d_row11_col4\" class=\"data row11 col4\" >0.0055</td>\n",
       "      <td id=\"T_38d5d_row11_col5\" class=\"data row11 col5\" >0.0072</td>\n",
       "      <td id=\"T_38d5d_row11_col6\" class=\"data row11 col6\" >0.0067</td>\n",
       "    </tr>\n",
       "  </tbody>\n",
       "</table>\n"
      ],
      "text/plain": [
       "<pandas.io.formats.style.Styler at 0x7f7e730323e0>"
      ]
     },
     "metadata": {},
     "output_type": "display_data"
    },
    {
     "data": {
      "text/html": [],
      "text/plain": [
       "<IPython.core.display.HTML object>"
      ]
     },
     "metadata": {},
     "output_type": "display_data"
    }
   ],
   "source": [
    "lightgbm = create_model('lightgbm')"
   ]
  },
  {
   "cell_type": "code",
   "execution_count": 51,
   "metadata": {},
   "outputs": [
    {
     "data": {
      "text/html": [],
      "text/plain": [
       "<IPython.core.display.HTML object>"
      ]
     },
     "metadata": {},
     "output_type": "display_data"
    },
    {
     "data": {
      "image/png": "[encoded data removed]",
      "text/plain": [
       "<Figure size 800x550 with 1 Axes>"
      ]
     },
     "metadata": {},
     "output_type": "display_data"
    }
   ],
   "source": [
    "plot_model(lightgbm, plot = 'confusion_matrix')"
   ]
  },
  {
   "cell_type": "code",
   "execution_count": 52,
   "metadata": {},
   "outputs": [
    {
     "data": {
      "text/html": [],
      "text/plain": [
       "<IPython.core.display.HTML object>"
      ]
     },
     "metadata": {},
     "output_type": "display_data"
    },
    {
     "data": {
      "image/png": "[encoded data removed]",
      "text/plain": [
       "<Figure size 800x550 with 1 Axes>"
      ]
     },
     "metadata": {},
     "output_type": "display_data"
    }
   ],
   "source": [
    "plot_model(lightgbm, plot = 'error')"
   ]
  },
  {
   "cell_type": "code",
   "execution_count": 53,
   "metadata": {},
   "outputs": [
    {
     "data": {
      "text/html": [],
      "text/plain": [
       "<IPython.core.display.HTML object>"
      ]
     },
     "metadata": {},
     "output_type": "display_data"
    },
    {
     "data": {
      "text/html": [
       "<div>\n",
       "<style scoped>\n",
       "    .dataframe tbody tr th:only-of-type {\n",
       "        vertical-align: middle;\n",
       "    }\n",
       "\n",
       "    .dataframe tbody tr th {\n",
       "        vertical-align: top;\n",
       "    }\n",
       "\n",
       "    .dataframe thead th {\n",
       "        text-align: right;\n",
       "    }\n",
       "</style>\n",
       "<table border=\"1\" class=\"dataframe\">\n",
       "  <thead>\n",
       "    <tr style=\"text-align: right;\">\n",
       "      <th></th>\n",
       "      <th>Parameters</th>\n",
       "    </tr>\n",
       "  </thead>\n",
       "  <tbody>\n",
       "    <tr>\n",
       "      <th>boosting_type</th>\n",
       "      <td>gbdt</td>\n",
       "    </tr>\n",
       "    <tr>\n",
       "      <th>class_weight</th>\n",
       "      <td>None</td>\n",
       "    </tr>\n",
       "    <tr>\n",
       "      <th>colsample_bytree</th>\n",
       "      <td>1.0</td>\n",
       "    </tr>\n",
       "    <tr>\n",
       "      <th>importance_type</th>\n",
       "      <td>split</td>\n",
       "    </tr>\n",
       "    <tr>\n",
       "      <th>learning_rate</th>\n",
       "      <td>0.1</td>\n",
       "    </tr>\n",
       "    <tr>\n",
       "      <th>max_depth</th>\n",
       "      <td>-1</td>\n",
       "    </tr>\n",
       "    <tr>\n",
       "      <th>min_child_samples</th>\n",
       "      <td>20</td>\n",
       "    </tr>\n",
       "    <tr>\n",
       "      <th>min_child_weight</th>\n",
       "      <td>0.001</td>\n",
       "    </tr>\n",
       "    <tr>\n",
       "      <th>min_split_gain</th>\n",
       "      <td>0.0</td>\n",
       "    </tr>\n",
       "    <tr>\n",
       "      <th>n_estimators</th>\n",
       "      <td>100</td>\n",
       "    </tr>\n",
       "    <tr>\n",
       "      <th>n_jobs</th>\n",
       "      <td>-1</td>\n",
       "    </tr>\n",
       "    <tr>\n",
       "      <th>num_leaves</th>\n",
       "      <td>31</td>\n",
       "    </tr>\n",
       "    <tr>\n",
       "      <th>objective</th>\n",
       "      <td>None</td>\n",
       "    </tr>\n",
       "    <tr>\n",
       "      <th>random_state</th>\n",
       "      <td>4991</td>\n",
       "    </tr>\n",
       "    <tr>\n",
       "      <th>reg_alpha</th>\n",
       "      <td>0.0</td>\n",
       "    </tr>\n",
       "    <tr>\n",
       "      <th>reg_lambda</th>\n",
       "      <td>0.0</td>\n",
       "    </tr>\n",
       "    <tr>\n",
       "      <th>silent</th>\n",
       "      <td>warn</td>\n",
       "    </tr>\n",
       "    <tr>\n",
       "      <th>subsample</th>\n",
       "      <td>1.0</td>\n",
       "    </tr>\n",
       "    <tr>\n",
       "      <th>subsample_for_bin</th>\n",
       "      <td>200000</td>\n",
       "    </tr>\n",
       "    <tr>\n",
       "      <th>subsample_freq</th>\n",
       "      <td>0</td>\n",
       "    </tr>\n",
       "  </tbody>\n",
       "</table>\n",
       "</div>"
      ],
      "text/plain": [
       "                  Parameters\n",
       "boosting_type           gbdt\n",
       "class_weight            None\n",
       "colsample_bytree         1.0\n",
       "importance_type        split\n",
       "learning_rate            0.1\n",
       "max_depth                 -1\n",
       "min_child_samples         20\n",
       "min_child_weight       0.001\n",
       "min_split_gain           0.0\n",
       "n_estimators             100\n",
       "n_jobs                    -1\n",
       "num_leaves                31\n",
       "objective               None\n",
       "random_state            4991\n",
       "reg_alpha                0.0\n",
       "reg_lambda               0.0\n",
       "silent                  warn\n",
       "subsample                1.0\n",
       "subsample_for_bin     200000\n",
       "subsample_freq             0"
      ]
     },
     "metadata": {},
     "output_type": "display_data"
    }
   ],
   "source": [
    "plot_model(lightgbm, plot = 'parameter')"
   ]
  },
  {
   "cell_type": "code",
   "execution_count": 54,
   "metadata": {},
   "outputs": [
    {
     "name": "stdout",
     "output_type": "stream",
     "text": [
      "Transformation Pipeline and Model Successfully Saved\n"
     ]
    },
    {
     "data": {
      "text/plain": [
       "(Pipeline(memory=FastMemory(location=/tmp/joblib),\n",
       "          steps=[('numerical_imputer',\n",
       "                  TransformerWrapper(exclude=None,\n",
       "                                     include=['0', '1', '2', '3', '4', '5', '6',\n",
       "                                              '7', '8', '9', '10', '11', '12',\n",
       "                                              '13', '14', '15', '16', '17', '18',\n",
       "                                              '19', '20', '21', '22', '23', '24',\n",
       "                                              '25', '26', '27', '28', '29', ...],\n",
       "                                     transformer=SimpleImputer(add_indicator=False,\n",
       "                                                               copy=True,\n",
       "                                                               fill_value=None,\n",
       "                                                               keep_empty_feat...\n",
       "                  LGBMClassifier(boosting_type='gbdt', class_weight=None,\n",
       "                                 colsample_bytree=1.0, importance_type='split',\n",
       "                                 learning_rate=0.1, max_depth=-1,\n",
       "                                 min_child_samples=20, min_child_weight=0.001,\n",
       "                                 min_split_gain=0.0, n_estimators=100, n_jobs=-1,\n",
       "                                 num_leaves=31, objective=None,\n",
       "                                 random_state=4991, reg_alpha=0.0,\n",
       "                                 reg_lambda=0.0, silent='warn', subsample=1.0,\n",
       "                                 subsample_for_bin=200000, subsample_freq=0))],\n",
       "          verbose=False),\n",
       " 'models_classif/complex/non-reified/lightgbm.pkl')"
      ]
     },
     "execution_count": 54,
     "metadata": {},
     "output_type": "execute_result"
    }
   ],
   "source": [
    "save_model(lightgbm, 'models_classif/complex/non-reified/lightgbm')"
   ]
  },
  {
   "cell_type": "markdown",
   "metadata": {
    "tags": []
   },
   "source": [
    "# MLP Classifier"
   ]
  },
  {
   "cell_type": "code",
   "execution_count": 55,
   "metadata": {},
   "outputs": [
    {
     "data": {
      "text/html": [],
      "text/plain": [
       "<IPython.core.display.HTML object>"
      ]
     },
     "metadata": {},
     "output_type": "display_data"
    },
    {
     "data": {
      "text/html": [
       "<style type=\"text/css\">\n",
       "#T_4db09_row10_col0, #T_4db09_row10_col1, #T_4db09_row10_col2, #T_4db09_row10_col3, #T_4db09_row10_col4, #T_4db09_row10_col5, #T_4db09_row10_col6 {\n",
       "  background: yellow;\n",
       "}\n",
       "</style>\n",
       "<table id=\"T_4db09\">\n",
       "  <thead>\n",
       "    <tr>\n",
       "      <th class=\"blank level0\" >&nbsp;</th>\n",
       "      <th id=\"T_4db09_level0_col0\" class=\"col_heading level0 col0\" >Accuracy</th>\n",
       "      <th id=\"T_4db09_level0_col1\" class=\"col_heading level0 col1\" >AUC</th>\n",
       "      <th id=\"T_4db09_level0_col2\" class=\"col_heading level0 col2\" >Recall</th>\n",
       "      <th id=\"T_4db09_level0_col3\" class=\"col_heading level0 col3\" >Prec.</th>\n",
       "      <th id=\"T_4db09_level0_col4\" class=\"col_heading level0 col4\" >F1</th>\n",
       "      <th id=\"T_4db09_level0_col5\" class=\"col_heading level0 col5\" >Kappa</th>\n",
       "      <th id=\"T_4db09_level0_col6\" class=\"col_heading level0 col6\" >MCC</th>\n",
       "    </tr>\n",
       "    <tr>\n",
       "      <th class=\"index_name level0\" >Fold</th>\n",
       "      <th class=\"blank col0\" >&nbsp;</th>\n",
       "      <th class=\"blank col1\" >&nbsp;</th>\n",
       "      <th class=\"blank col2\" >&nbsp;</th>\n",
       "      <th class=\"blank col3\" >&nbsp;</th>\n",
       "      <th class=\"blank col4\" >&nbsp;</th>\n",
       "      <th class=\"blank col5\" >&nbsp;</th>\n",
       "      <th class=\"blank col6\" >&nbsp;</th>\n",
       "    </tr>\n",
       "  </thead>\n",
       "  <tbody>\n",
       "    <tr>\n",
       "      <th id=\"T_4db09_level0_row0\" class=\"row_heading level0 row0\" >0</th>\n",
       "      <td id=\"T_4db09_row0_col0\" class=\"data row0 col0\" >0.6666</td>\n",
       "      <td id=\"T_4db09_row0_col1\" class=\"data row0 col1\" >0.7253</td>\n",
       "      <td id=\"T_4db09_row0_col2\" class=\"data row0 col2\" >0.6449</td>\n",
       "      <td id=\"T_4db09_row0_col3\" class=\"data row0 col3\" >0.6741</td>\n",
       "      <td id=\"T_4db09_row0_col4\" class=\"data row0 col4\" >0.6592</td>\n",
       "      <td id=\"T_4db09_row0_col5\" class=\"data row0 col5\" >0.3332</td>\n",
       "      <td id=\"T_4db09_row0_col6\" class=\"data row0 col6\" >0.3335</td>\n",
       "    </tr>\n",
       "    <tr>\n",
       "      <th id=\"T_4db09_level0_row1\" class=\"row_heading level0 row1\" >1</th>\n",
       "      <td id=\"T_4db09_row1_col0\" class=\"data row1 col0\" >0.6660</td>\n",
       "      <td id=\"T_4db09_row1_col1\" class=\"data row1 col1\" >0.7273</td>\n",
       "      <td id=\"T_4db09_row1_col2\" class=\"data row1 col2\" >0.7168</td>\n",
       "      <td id=\"T_4db09_row1_col3\" class=\"data row1 col3\" >0.6507</td>\n",
       "      <td id=\"T_4db09_row1_col4\" class=\"data row1 col4\" >0.6821</td>\n",
       "      <td id=\"T_4db09_row1_col5\" class=\"data row1 col5\" >0.3319</td>\n",
       "      <td id=\"T_4db09_row1_col6\" class=\"data row1 col6\" >0.3336</td>\n",
       "    </tr>\n",
       "    <tr>\n",
       "      <th id=\"T_4db09_level0_row2\" class=\"row_heading level0 row2\" >2</th>\n",
       "      <td id=\"T_4db09_row2_col0\" class=\"data row2 col0\" >0.6706</td>\n",
       "      <td id=\"T_4db09_row2_col1\" class=\"data row2 col1\" >0.7308</td>\n",
       "      <td id=\"T_4db09_row2_col2\" class=\"data row2 col2\" >0.6492</td>\n",
       "      <td id=\"T_4db09_row2_col3\" class=\"data row2 col3\" >0.6783</td>\n",
       "      <td id=\"T_4db09_row2_col4\" class=\"data row2 col4\" >0.6634</td>\n",
       "      <td id=\"T_4db09_row2_col5\" class=\"data row2 col5\" >0.3412</td>\n",
       "      <td id=\"T_4db09_row2_col6\" class=\"data row2 col6\" >0.3415</td>\n",
       "    </tr>\n",
       "    <tr>\n",
       "      <th id=\"T_4db09_level0_row3\" class=\"row_heading level0 row3\" >3</th>\n",
       "      <td id=\"T_4db09_row3_col0\" class=\"data row3 col0\" >0.6702</td>\n",
       "      <td id=\"T_4db09_row3_col1\" class=\"data row3 col1\" >0.7266</td>\n",
       "      <td id=\"T_4db09_row3_col2\" class=\"data row3 col2\" >0.6559</td>\n",
       "      <td id=\"T_4db09_row3_col3\" class=\"data row3 col3\" >0.6752</td>\n",
       "      <td id=\"T_4db09_row3_col4\" class=\"data row3 col4\" >0.6654</td>\n",
       "      <td id=\"T_4db09_row3_col5\" class=\"data row3 col5\" >0.3404</td>\n",
       "      <td id=\"T_4db09_row3_col6\" class=\"data row3 col6\" >0.3405</td>\n",
       "    </tr>\n",
       "    <tr>\n",
       "      <th id=\"T_4db09_level0_row4\" class=\"row_heading level0 row4\" >4</th>\n",
       "      <td id=\"T_4db09_row4_col0\" class=\"data row4 col0\" >0.6744</td>\n",
       "      <td id=\"T_4db09_row4_col1\" class=\"data row4 col1\" >0.7336</td>\n",
       "      <td id=\"T_4db09_row4_col2\" class=\"data row4 col2\" >0.7057</td>\n",
       "      <td id=\"T_4db09_row4_col3\" class=\"data row4 col3\" >0.6641</td>\n",
       "      <td id=\"T_4db09_row4_col4\" class=\"data row4 col4\" >0.6843</td>\n",
       "      <td id=\"T_4db09_row4_col5\" class=\"data row4 col5\" >0.3488</td>\n",
       "      <td id=\"T_4db09_row4_col6\" class=\"data row4 col6\" >0.3495</td>\n",
       "    </tr>\n",
       "    <tr>\n",
       "      <th id=\"T_4db09_level0_row5\" class=\"row_heading level0 row5\" >5</th>\n",
       "      <td id=\"T_4db09_row5_col0\" class=\"data row5 col0\" >0.6742</td>\n",
       "      <td id=\"T_4db09_row5_col1\" class=\"data row5 col1\" >0.7335</td>\n",
       "      <td id=\"T_4db09_row5_col2\" class=\"data row5 col2\" >0.6581</td>\n",
       "      <td id=\"T_4db09_row5_col3\" class=\"data row5 col3\" >0.6800</td>\n",
       "      <td id=\"T_4db09_row5_col4\" class=\"data row5 col4\" >0.6689</td>\n",
       "      <td id=\"T_4db09_row5_col5\" class=\"data row5 col5\" >0.3484</td>\n",
       "      <td id=\"T_4db09_row5_col6\" class=\"data row5 col6\" >0.3486</td>\n",
       "    </tr>\n",
       "    <tr>\n",
       "      <th id=\"T_4db09_level0_row6\" class=\"row_heading level0 row6\" >6</th>\n",
       "      <td id=\"T_4db09_row6_col0\" class=\"data row6 col0\" >0.6641</td>\n",
       "      <td id=\"T_4db09_row6_col1\" class=\"data row6 col1\" >0.7211</td>\n",
       "      <td id=\"T_4db09_row6_col2\" class=\"data row6 col2\" >0.6735</td>\n",
       "      <td id=\"T_4db09_row6_col3\" class=\"data row6 col3\" >0.6610</td>\n",
       "      <td id=\"T_4db09_row6_col4\" class=\"data row6 col4\" >0.6672</td>\n",
       "      <td id=\"T_4db09_row6_col5\" class=\"data row6 col5\" >0.3281</td>\n",
       "      <td id=\"T_4db09_row6_col6\" class=\"data row6 col6\" >0.3282</td>\n",
       "    </tr>\n",
       "    <tr>\n",
       "      <th id=\"T_4db09_level0_row7\" class=\"row_heading level0 row7\" >7</th>\n",
       "      <td id=\"T_4db09_row7_col0\" class=\"data row7 col0\" >0.6750</td>\n",
       "      <td id=\"T_4db09_row7_col1\" class=\"data row7 col1\" >0.7316</td>\n",
       "      <td id=\"T_4db09_row7_col2\" class=\"data row7 col2\" >0.6747</td>\n",
       "      <td id=\"T_4db09_row7_col3\" class=\"data row7 col3\" >0.6752</td>\n",
       "      <td id=\"T_4db09_row7_col4\" class=\"data row7 col4\" >0.6749</td>\n",
       "      <td id=\"T_4db09_row7_col5\" class=\"data row7 col5\" >0.3501</td>\n",
       "      <td id=\"T_4db09_row7_col6\" class=\"data row7 col6\" >0.3501</td>\n",
       "    </tr>\n",
       "    <tr>\n",
       "      <th id=\"T_4db09_level0_row8\" class=\"row_heading level0 row8\" >8</th>\n",
       "      <td id=\"T_4db09_row8_col0\" class=\"data row8 col0\" >0.6702</td>\n",
       "      <td id=\"T_4db09_row8_col1\" class=\"data row8 col1\" >0.7271</td>\n",
       "      <td id=\"T_4db09_row8_col2\" class=\"data row8 col2\" >0.6553</td>\n",
       "      <td id=\"T_4db09_row8_col3\" class=\"data row8 col3\" >0.6754</td>\n",
       "      <td id=\"T_4db09_row8_col4\" class=\"data row8 col4\" >0.6652</td>\n",
       "      <td id=\"T_4db09_row8_col5\" class=\"data row8 col5\" >0.3404</td>\n",
       "      <td id=\"T_4db09_row8_col6\" class=\"data row8 col6\" >0.3406</td>\n",
       "    </tr>\n",
       "    <tr>\n",
       "      <th id=\"T_4db09_level0_row9\" class=\"row_heading level0 row9\" >9</th>\n",
       "      <td id=\"T_4db09_row9_col0\" class=\"data row9 col0\" >0.6659</td>\n",
       "      <td id=\"T_4db09_row9_col1\" class=\"data row9 col1\" >0.7217</td>\n",
       "      <td id=\"T_4db09_row9_col2\" class=\"data row9 col2\" >0.6189</td>\n",
       "      <td id=\"T_4db09_row9_col3\" class=\"data row9 col3\" >0.6832</td>\n",
       "      <td id=\"T_4db09_row9_col4\" class=\"data row9 col4\" >0.6494</td>\n",
       "      <td id=\"T_4db09_row9_col5\" class=\"data row9 col5\" >0.3318</td>\n",
       "      <td id=\"T_4db09_row9_col6\" class=\"data row9 col6\" >0.3333</td>\n",
       "    </tr>\n",
       "    <tr>\n",
       "      <th id=\"T_4db09_level0_row10\" class=\"row_heading level0 row10\" >Mean</th>\n",
       "      <td id=\"T_4db09_row10_col0\" class=\"data row10 col0\" >0.6697</td>\n",
       "      <td id=\"T_4db09_row10_col1\" class=\"data row10 col1\" >0.7279</td>\n",
       "      <td id=\"T_4db09_row10_col2\" class=\"data row10 col2\" >0.6653</td>\n",
       "      <td id=\"T_4db09_row10_col3\" class=\"data row10 col3\" >0.6717</td>\n",
       "      <td id=\"T_4db09_row10_col4\" class=\"data row10 col4\" >0.6680</td>\n",
       "      <td id=\"T_4db09_row10_col5\" class=\"data row10 col5\" >0.3394</td>\n",
       "      <td id=\"T_4db09_row10_col6\" class=\"data row10 col6\" >0.3399</td>\n",
       "    </tr>\n",
       "    <tr>\n",
       "      <th id=\"T_4db09_level0_row11\" class=\"row_heading level0 row11\" >Std</th>\n",
       "      <td id=\"T_4db09_row11_col0\" class=\"data row11 col0\" >0.0038</td>\n",
       "      <td id=\"T_4db09_row11_col1\" class=\"data row11 col1\" >0.0043</td>\n",
       "      <td id=\"T_4db09_row11_col2\" class=\"data row11 col2\" >0.0274</td>\n",
       "      <td id=\"T_4db09_row11_col3\" class=\"data row11 col3\" >0.0095</td>\n",
       "      <td id=\"T_4db09_row11_col4\" class=\"data row11 col4\" >0.0099</td>\n",
       "      <td id=\"T_4db09_row11_col5\" class=\"data row11 col5\" >0.0075</td>\n",
       "      <td id=\"T_4db09_row11_col6\" class=\"data row11 col6\" >0.0073</td>\n",
       "    </tr>\n",
       "  </tbody>\n",
       "</table>\n"
      ],
      "text/plain": [
       "<pandas.io.formats.style.Styler at 0x7f7e731b1690>"
      ]
     },
     "metadata": {},
     "output_type": "display_data"
    },
    {
     "data": {
      "text/html": [],
      "text/plain": [
       "<IPython.core.display.HTML object>"
      ]
     },
     "metadata": {},
     "output_type": "display_data"
    }
   ],
   "source": [
    "mlp = create_model('mlp')"
   ]
  },
  {
   "cell_type": "code",
   "execution_count": 56,
   "metadata": {},
   "outputs": [
    {
     "data": {
      "text/html": [],
      "text/plain": [
       "<IPython.core.display.HTML object>"
      ]
     },
     "metadata": {},
     "output_type": "display_data"
    },
    {
     "data": {
      "image/png": "[encoded data removed]",
      "text/plain": [
       "<Figure size 800x550 with 1 Axes>"
      ]
     },
     "metadata": {},
     "output_type": "display_data"
    }
   ],
   "source": [
    "plot_model(mlp, plot = 'confusion_matrix')"
   ]
  },
  {
   "cell_type": "code",
   "execution_count": 57,
   "metadata": {},
   "outputs": [
    {
     "data": {
      "text/html": [],
      "text/plain": [
       "<IPython.core.display.HTML object>"
      ]
     },
     "metadata": {},
     "output_type": "display_data"
    },
    {
     "data": {
      "image/png": "[encoded data removed]",
      "text/plain": [
       "<Figure size 800x550 with 1 Axes>"
      ]
     },
     "metadata": {},
     "output_type": "display_data"
    }
   ],
   "source": [
    "plot_model(mlp, plot = 'error')"
   ]
  },
  {
   "cell_type": "code",
   "execution_count": 58,
   "metadata": {},
   "outputs": [
    {
     "data": {
      "text/html": [],
      "text/plain": [
       "<IPython.core.display.HTML object>"
      ]
     },
     "metadata": {},
     "output_type": "display_data"
    },
    {
     "data": {
      "text/html": [
       "<div>\n",
       "<style scoped>\n",
       "    .dataframe tbody tr th:only-of-type {\n",
       "        vertical-align: middle;\n",
       "    }\n",
       "\n",
       "    .dataframe tbody tr th {\n",
       "        vertical-align: top;\n",
       "    }\n",
       "\n",
       "    .dataframe thead th {\n",
       "        text-align: right;\n",
       "    }\n",
       "</style>\n",
       "<table border=\"1\" class=\"dataframe\">\n",
       "  <thead>\n",
       "    <tr style=\"text-align: right;\">\n",
       "      <th></th>\n",
       "      <th>Parameters</th>\n",
       "    </tr>\n",
       "  </thead>\n",
       "  <tbody>\n",
       "    <tr>\n",
       "      <th>activation</th>\n",
       "      <td>relu</td>\n",
       "    </tr>\n",
       "    <tr>\n",
       "      <th>alpha</th>\n",
       "      <td>0.0001</td>\n",
       "    </tr>\n",
       "    <tr>\n",
       "      <th>batch_size</th>\n",
       "      <td>auto</td>\n",
       "    </tr>\n",
       "    <tr>\n",
       "      <th>beta_1</th>\n",
       "      <td>0.9</td>\n",
       "    </tr>\n",
       "    <tr>\n",
       "      <th>beta_2</th>\n",
       "      <td>0.999</td>\n",
       "    </tr>\n",
       "    <tr>\n",
       "      <th>early_stopping</th>\n",
       "      <td>False</td>\n",
       "    </tr>\n",
       "    <tr>\n",
       "      <th>epsilon</th>\n",
       "      <td>1e-08</td>\n",
       "    </tr>\n",
       "    <tr>\n",
       "      <th>hidden_layer_sizes</th>\n",
       "      <td>(100,)</td>\n",
       "    </tr>\n",
       "    <tr>\n",
       "      <th>learning_rate</th>\n",
       "      <td>constant</td>\n",
       "    </tr>\n",
       "    <tr>\n",
       "      <th>learning_rate_init</th>\n",
       "      <td>0.001</td>\n",
       "    </tr>\n",
       "    <tr>\n",
       "      <th>max_fun</th>\n",
       "      <td>15000</td>\n",
       "    </tr>\n",
       "    <tr>\n",
       "      <th>max_iter</th>\n",
       "      <td>500</td>\n",
       "    </tr>\n",
       "    <tr>\n",
       "      <th>momentum</th>\n",
       "      <td>0.9</td>\n",
       "    </tr>\n",
       "    <tr>\n",
       "      <th>n_iter_no_change</th>\n",
       "      <td>10</td>\n",
       "    </tr>\n",
       "    <tr>\n",
       "      <th>nesterovs_momentum</th>\n",
       "      <td>True</td>\n",
       "    </tr>\n",
       "    <tr>\n",
       "      <th>power_t</th>\n",
       "      <td>0.5</td>\n",
       "    </tr>\n",
       "    <tr>\n",
       "      <th>random_state</th>\n",
       "      <td>4991</td>\n",
       "    </tr>\n",
       "    <tr>\n",
       "      <th>shuffle</th>\n",
       "      <td>True</td>\n",
       "    </tr>\n",
       "    <tr>\n",
       "      <th>solver</th>\n",
       "      <td>adam</td>\n",
       "    </tr>\n",
       "    <tr>\n",
       "      <th>tol</th>\n",
       "      <td>0.0001</td>\n",
       "    </tr>\n",
       "    <tr>\n",
       "      <th>validation_fraction</th>\n",
       "      <td>0.1</td>\n",
       "    </tr>\n",
       "    <tr>\n",
       "      <th>verbose</th>\n",
       "      <td>False</td>\n",
       "    </tr>\n",
       "    <tr>\n",
       "      <th>warm_start</th>\n",
       "      <td>False</td>\n",
       "    </tr>\n",
       "  </tbody>\n",
       "</table>\n",
       "</div>"
      ],
      "text/plain": [
       "                    Parameters\n",
       "activation                relu\n",
       "alpha                   0.0001\n",
       "batch_size                auto\n",
       "beta_1                     0.9\n",
       "beta_2                   0.999\n",
       "early_stopping           False\n",
       "epsilon                  1e-08\n",
       "hidden_layer_sizes      (100,)\n",
       "learning_rate         constant\n",
       "learning_rate_init       0.001\n",
       "max_fun                  15000\n",
       "max_iter                   500\n",
       "momentum                   0.9\n",
       "n_iter_no_change            10\n",
       "nesterovs_momentum        True\n",
       "power_t                    0.5\n",
       "random_state              4991\n",
       "shuffle                   True\n",
       "solver                    adam\n",
       "tol                     0.0001\n",
       "validation_fraction        0.1\n",
       "verbose                  False\n",
       "warm_start               False"
      ]
     },
     "metadata": {},
     "output_type": "display_data"
    }
   ],
   "source": [
    "plot_model(mlp, plot = 'parameter')"
   ]
  },
  {
   "cell_type": "code",
   "execution_count": 59,
   "metadata": {
    "tags": []
   },
   "outputs": [
    {
     "name": "stdout",
     "output_type": "stream",
     "text": [
      "Transformation Pipeline and Model Successfully Saved\n"
     ]
    },
    {
     "data": {
      "text/plain": [
       "(Pipeline(memory=FastMemory(location=/tmp/joblib),\n",
       "          steps=[('numerical_imputer',\n",
       "                  TransformerWrapper(exclude=None,\n",
       "                                     include=['0', '1', '2', '3', '4', '5', '6',\n",
       "                                              '7', '8', '9', '10', '11', '12',\n",
       "                                              '13', '14', '15', '16', '17', '18',\n",
       "                                              '19', '20', '21', '22', '23', '24',\n",
       "                                              '25', '26', '27', '28', '29', ...],\n",
       "                                     transformer=SimpleImputer(add_indicator=False,\n",
       "                                                               copy=True,\n",
       "                                                               fill_value=None,\n",
       "                                                               keep_empty_feat...\n",
       "                                batch_size='auto', beta_1=0.9, beta_2=0.999,\n",
       "                                early_stopping=False, epsilon=1e-08,\n",
       "                                hidden_layer_sizes=(100,),\n",
       "                                learning_rate='constant',\n",
       "                                learning_rate_init=0.001, max_fun=15000,\n",
       "                                max_iter=500, momentum=0.9, n_iter_no_change=10,\n",
       "                                nesterovs_momentum=True, power_t=0.5,\n",
       "                                random_state=4991, shuffle=True, solver='adam',\n",
       "                                tol=0.0001, validation_fraction=0.1,\n",
       "                                verbose=False, warm_start=False))],\n",
       "          verbose=False),\n",
       " 'models_classif/complex/non-reified/mlp.pkl')"
      ]
     },
     "execution_count": 59,
     "metadata": {},
     "output_type": "execute_result"
    }
   ],
   "source": [
    "save_model(mlp, 'models_classif/complex/non-reified/mlp')"
   ]
  }
 ],
 "metadata": {
  "kernelspec": {
   "display_name": "aled",
   "language": "python",
   "name": "aled"
  },
  "language_info": {
   "codemirror_mode": {
    "name": "ipython",
    "version": 3
   },
   "file_extension": ".py",
   "mimetype": "text/x-python",
   "name": "python",
   "nbconvert_exporter": "python",
   "pygments_lexer": "ipython3",
   "version": "3.10.9"
  },
  "vscode": {
   "interpreter": {
    "hash": "bad715aa2aaeb5e6c151df84b54974e4cb5c7f8696a7ce08edfdc275e59caf55"
   }
  }
 },
 "nbformat": 4,
 "nbformat_minor": 4
}
