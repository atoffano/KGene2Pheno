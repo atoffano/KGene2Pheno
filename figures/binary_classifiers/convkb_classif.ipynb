{
 "cells": [
  {
   "cell_type": "code",
   "execution_count": 1,
   "metadata": {
    "tags": []
   },
   "outputs": [
    {
     "name": "stderr",
     "output_type": "stream",
     "text": [
      "\u001b[34m\u001b[1mwandb\u001b[0m: Currently logged in as: \u001b[33mantoine-toffano\u001b[0m (\u001b[33mmlb\u001b[0m). Use \u001b[1m`wandb login --relogin`\u001b[0m to force relogin\n"
     ]
    },
    {
     "data": {
      "text/html": [
       "wandb version 0.15.3 is available!  To upgrade, please run:\n",
       " $ pip install wandb --upgrade"
      ],
      "text/plain": [
       "<IPython.core.display.HTML object>"
      ]
     },
     "metadata": {},
     "output_type": "display_data"
    },
    {
     "data": {
      "text/html": [
       "Tracking run with wandb version 0.14.0"
      ],
      "text/plain": [
       "<IPython.core.display.HTML object>"
      ]
     },
     "metadata": {},
     "output_type": "display_data"
    },
    {
     "data": {
      "text/html": [
       "Run data is saved locally in <code>/home/antoine/gene_pheno_pred/wandb/run-20230602_113005-tp2em646</code>"
      ],
      "text/plain": [
       "<IPython.core.display.HTML object>"
      ]
     },
     "metadata": {},
     "output_type": "display_data"
    },
    {
     "data": {
      "text/html": [
       "Syncing run <strong><a href='https://wandb.ai/mlb/cigap-classif/runs/tp2em646' target=\"_blank\">fresh-rain-54</a></strong> to <a href='https://wandb.ai/mlb/cigap-classif' target=\"_blank\">Weights & Biases</a> (<a href='https://wandb.me/run' target=\"_blank\">docs</a>)<br/>"
      ],
      "text/plain": [
       "<IPython.core.display.HTML object>"
      ]
     },
     "metadata": {},
     "output_type": "display_data"
    },
    {
     "data": {
      "text/html": [
       " View project at <a href='https://wandb.ai/mlb/cigap-classif' target=\"_blank\">https://wandb.ai/mlb/cigap-classif</a>"
      ],
      "text/plain": [
       "<IPython.core.display.HTML object>"
      ]
     },
     "metadata": {},
     "output_type": "display_data"
    },
    {
     "data": {
      "text/html": [
       " View run at <a href='https://wandb.ai/mlb/cigap-classif/runs/tp2em646' target=\"_blank\">https://wandb.ai/mlb/cigap-classif/runs/tp2em646</a>"
      ],
      "text/plain": [
       "<IPython.core.display.HTML object>"
      ]
     },
     "metadata": {},
     "output_type": "display_data"
    },
    {
     "data": {
      "text/html": [
       "<button onClick=\"this.nextSibling.style.display='block';this.style.display='none';\">Display W&B run</button><iframe src='https://wandb.ai/mlb/cigap-classif/runs/tp2em646?jupyter=true' style='border:none;width:100%;height:420px;display:none;'></iframe>"
      ],
      "text/plain": [
       "<wandb.sdk.wandb_run.Run at 0x7f457378ca00>"
      ]
     },
     "execution_count": 1,
     "metadata": {},
     "output_type": "execute_result"
    }
   ],
   "source": [
    "from pycaret.classification import *\n",
    "import pandas as pd\n",
    "import os\n",
    "import wandb\n",
    "\n",
    "os.chdir('/home/antoine/gene_pheno_pred')\n",
    "os.environ[\"CUDA_VISIBLE_DEVICES\"]=\"1\"\n",
    "os.environ[\"WANDB_API_KEY\"]=\"4e5748d6c6f3917c78cdc38a516a1bac776faf58\"\n",
    "wandb.login()\n",
    "wandb.init(\n",
    "    project=\"cigap-classif\",\n",
    ")\n"
   ]
  },
  {
   "cell_type": "code",
   "execution_count": 2,
   "metadata": {
    "tags": []
   },
   "outputs": [],
   "source": [
    "df = pd.read_csv('/home/antoine/gene_pheno_pred/ConvKB_2023-05-30 12:20:24.092855_kg_test.csv' , header=0)\n",
    "\n",
    "\n",
    "df['link'] = df['relation'].apply(lambda x: 1 if x != 'no_link_known' else 0)\n"
   ]
  },
  {
   "cell_type": "code",
   "execution_count": 3,
   "metadata": {},
   "outputs": [
    {
     "data": {
      "text/html": [
       "<div>\n",
       "<style scoped>\n",
       "    .dataframe tbody tr th:only-of-type {\n",
       "        vertical-align: middle;\n",
       "    }\n",
       "\n",
       "    .dataframe tbody tr th {\n",
       "        vertical-align: top;\n",
       "    }\n",
       "\n",
       "    .dataframe thead th {\n",
       "        text-align: right;\n",
       "    }\n",
       "</style>\n",
       "<table border=\"1\" class=\"dataframe\">\n",
       "  <thead>\n",
       "    <tr style=\"text-align: right;\">\n",
       "      <th></th>\n",
       "      <th>0</th>\n",
       "      <th>1</th>\n",
       "      <th>2</th>\n",
       "      <th>3</th>\n",
       "      <th>4</th>\n",
       "      <th>5</th>\n",
       "      <th>6</th>\n",
       "      <th>7</th>\n",
       "      <th>8</th>\n",
       "      <th>9</th>\n",
       "      <th>...</th>\n",
       "      <th>91</th>\n",
       "      <th>92</th>\n",
       "      <th>93</th>\n",
       "      <th>94</th>\n",
       "      <th>95</th>\n",
       "      <th>96</th>\n",
       "      <th>97</th>\n",
       "      <th>98</th>\n",
       "      <th>99</th>\n",
       "      <th>link</th>\n",
       "    </tr>\n",
       "  </thead>\n",
       "  <tbody>\n",
       "    <tr>\n",
       "      <th>0</th>\n",
       "      <td>-0.030665</td>\n",
       "      <td>0.009684</td>\n",
       "      <td>-0.039392</td>\n",
       "      <td>0.009091</td>\n",
       "      <td>0.006427</td>\n",
       "      <td>-0.039352</td>\n",
       "      <td>-0.041850</td>\n",
       "      <td>-0.006124</td>\n",
       "      <td>0.005044</td>\n",
       "      <td>-0.005606</td>\n",
       "      <td>...</td>\n",
       "      <td>0.014364</td>\n",
       "      <td>0.029645</td>\n",
       "      <td>-0.034727</td>\n",
       "      <td>-0.002242</td>\n",
       "      <td>-0.001360</td>\n",
       "      <td>-0.034307</td>\n",
       "      <td>-0.000466</td>\n",
       "      <td>-0.000112</td>\n",
       "      <td>0.005248</td>\n",
       "      <td>1</td>\n",
       "    </tr>\n",
       "    <tr>\n",
       "      <th>1</th>\n",
       "      <td>0.056107</td>\n",
       "      <td>0.029510</td>\n",
       "      <td>-0.030736</td>\n",
       "      <td>-0.054160</td>\n",
       "      <td>0.036074</td>\n",
       "      <td>-0.042218</td>\n",
       "      <td>0.036881</td>\n",
       "      <td>-0.036163</td>\n",
       "      <td>0.035520</td>\n",
       "      <td>-0.102737</td>\n",
       "      <td>...</td>\n",
       "      <td>-0.016408</td>\n",
       "      <td>-0.006585</td>\n",
       "      <td>-0.023710</td>\n",
       "      <td>-0.013993</td>\n",
       "      <td>-0.017419</td>\n",
       "      <td>-0.018015</td>\n",
       "      <td>-0.020294</td>\n",
       "      <td>0.012909</td>\n",
       "      <td>-0.022174</td>\n",
       "      <td>0</td>\n",
       "    </tr>\n",
       "    <tr>\n",
       "      <th>2</th>\n",
       "      <td>-0.013132</td>\n",
       "      <td>0.027873</td>\n",
       "      <td>-0.027160</td>\n",
       "      <td>-0.001315</td>\n",
       "      <td>0.028049</td>\n",
       "      <td>-0.029007</td>\n",
       "      <td>-0.031125</td>\n",
       "      <td>-0.027911</td>\n",
       "      <td>0.026455</td>\n",
       "      <td>-0.024197</td>\n",
       "      <td>...</td>\n",
       "      <td>0.024089</td>\n",
       "      <td>0.379172</td>\n",
       "      <td>-0.012382</td>\n",
       "      <td>0.003970</td>\n",
       "      <td>-0.854844</td>\n",
       "      <td>-0.039242</td>\n",
       "      <td>0.005901</td>\n",
       "      <td>-0.011489</td>\n",
       "      <td>0.009353</td>\n",
       "      <td>0</td>\n",
       "    </tr>\n",
       "    <tr>\n",
       "      <th>3</th>\n",
       "      <td>0.977942</td>\n",
       "      <td>0.022696</td>\n",
       "      <td>-0.031216</td>\n",
       "      <td>-0.006581</td>\n",
       "      <td>0.023249</td>\n",
       "      <td>-0.016139</td>\n",
       "      <td>-0.025273</td>\n",
       "      <td>-0.015982</td>\n",
       "      <td>0.019419</td>\n",
       "      <td>-0.023422</td>\n",
       "      <td>...</td>\n",
       "      <td>-0.006865</td>\n",
       "      <td>0.025867</td>\n",
       "      <td>-0.021378</td>\n",
       "      <td>-0.024815</td>\n",
       "      <td>-0.031266</td>\n",
       "      <td>-0.026625</td>\n",
       "      <td>-0.030714</td>\n",
       "      <td>0.021872</td>\n",
       "      <td>-0.038618</td>\n",
       "      <td>0</td>\n",
       "    </tr>\n",
       "    <tr>\n",
       "      <th>4</th>\n",
       "      <td>-0.014175</td>\n",
       "      <td>0.016113</td>\n",
       "      <td>-0.032749</td>\n",
       "      <td>-0.015880</td>\n",
       "      <td>0.016144</td>\n",
       "      <td>-0.025773</td>\n",
       "      <td>-0.026010</td>\n",
       "      <td>-0.022338</td>\n",
       "      <td>0.015352</td>\n",
       "      <td>-0.030159</td>\n",
       "      <td>...</td>\n",
       "      <td>-0.021115</td>\n",
       "      <td>0.010870</td>\n",
       "      <td>-0.009919</td>\n",
       "      <td>-0.031895</td>\n",
       "      <td>-0.033433</td>\n",
       "      <td>-0.006487</td>\n",
       "      <td>-0.036109</td>\n",
       "      <td>0.024574</td>\n",
       "      <td>-0.031916</td>\n",
       "      <td>0</td>\n",
       "    </tr>\n",
       "    <tr>\n",
       "      <th>...</th>\n",
       "      <td>...</td>\n",
       "      <td>...</td>\n",
       "      <td>...</td>\n",
       "      <td>...</td>\n",
       "      <td>...</td>\n",
       "      <td>...</td>\n",
       "      <td>...</td>\n",
       "      <td>...</td>\n",
       "      <td>...</td>\n",
       "      <td>...</td>\n",
       "      <td>...</td>\n",
       "      <td>...</td>\n",
       "      <td>...</td>\n",
       "      <td>...</td>\n",
       "      <td>...</td>\n",
       "      <td>...</td>\n",
       "      <td>...</td>\n",
       "      <td>...</td>\n",
       "      <td>...</td>\n",
       "      <td>...</td>\n",
       "      <td>...</td>\n",
       "    </tr>\n",
       "    <tr>\n",
       "      <th>468587</th>\n",
       "      <td>-0.002795</td>\n",
       "      <td>0.028308</td>\n",
       "      <td>-0.023189</td>\n",
       "      <td>-0.010421</td>\n",
       "      <td>0.026565</td>\n",
       "      <td>-0.022533</td>\n",
       "      <td>-0.026244</td>\n",
       "      <td>-0.020605</td>\n",
       "      <td>0.025491</td>\n",
       "      <td>-0.023760</td>\n",
       "      <td>...</td>\n",
       "      <td>-0.018444</td>\n",
       "      <td>0.022981</td>\n",
       "      <td>-0.026620</td>\n",
       "      <td>-0.028591</td>\n",
       "      <td>-0.024478</td>\n",
       "      <td>-0.023453</td>\n",
       "      <td>-0.031326</td>\n",
       "      <td>0.023880</td>\n",
       "      <td>-0.027476</td>\n",
       "      <td>0</td>\n",
       "    </tr>\n",
       "    <tr>\n",
       "      <th>468588</th>\n",
       "      <td>-0.049513</td>\n",
       "      <td>-0.139438</td>\n",
       "      <td>0.071439</td>\n",
       "      <td>0.603650</td>\n",
       "      <td>-0.080816</td>\n",
       "      <td>0.007318</td>\n",
       "      <td>0.088670</td>\n",
       "      <td>0.090804</td>\n",
       "      <td>-0.075777</td>\n",
       "      <td>0.094784</td>\n",
       "      <td>...</td>\n",
       "      <td>-0.014653</td>\n",
       "      <td>0.010784</td>\n",
       "      <td>-0.019742</td>\n",
       "      <td>-0.021782</td>\n",
       "      <td>-0.016479</td>\n",
       "      <td>-0.021150</td>\n",
       "      <td>-0.020014</td>\n",
       "      <td>0.018660</td>\n",
       "      <td>-0.020199</td>\n",
       "      <td>0</td>\n",
       "    </tr>\n",
       "    <tr>\n",
       "      <th>468589</th>\n",
       "      <td>-0.033211</td>\n",
       "      <td>0.007038</td>\n",
       "      <td>-0.005089</td>\n",
       "      <td>0.007150</td>\n",
       "      <td>0.005714</td>\n",
       "      <td>-0.038924</td>\n",
       "      <td>-0.021317</td>\n",
       "      <td>-0.001665</td>\n",
       "      <td>-0.001469</td>\n",
       "      <td>0.006657</td>\n",
       "      <td>...</td>\n",
       "      <td>0.250427</td>\n",
       "      <td>0.050568</td>\n",
       "      <td>0.101735</td>\n",
       "      <td>0.016625</td>\n",
       "      <td>0.107880</td>\n",
       "      <td>0.072270</td>\n",
       "      <td>0.028516</td>\n",
       "      <td>-0.127390</td>\n",
       "      <td>-0.206262</td>\n",
       "      <td>0</td>\n",
       "    </tr>\n",
       "    <tr>\n",
       "      <th>468590</th>\n",
       "      <td>0.015173</td>\n",
       "      <td>0.015821</td>\n",
       "      <td>-0.007599</td>\n",
       "      <td>-0.027909</td>\n",
       "      <td>0.014725</td>\n",
       "      <td>-0.004932</td>\n",
       "      <td>-0.007522</td>\n",
       "      <td>-0.027183</td>\n",
       "      <td>0.018569</td>\n",
       "      <td>-0.033408</td>\n",
       "      <td>...</td>\n",
       "      <td>0.007193</td>\n",
       "      <td>0.016303</td>\n",
       "      <td>-0.020454</td>\n",
       "      <td>-0.011735</td>\n",
       "      <td>-0.010748</td>\n",
       "      <td>-0.023505</td>\n",
       "      <td>-0.006912</td>\n",
       "      <td>0.006562</td>\n",
       "      <td>-0.014361</td>\n",
       "      <td>1</td>\n",
       "    </tr>\n",
       "    <tr>\n",
       "      <th>468591</th>\n",
       "      <td>0.051571</td>\n",
       "      <td>0.009368</td>\n",
       "      <td>-0.004748</td>\n",
       "      <td>-0.046430</td>\n",
       "      <td>0.017813</td>\n",
       "      <td>0.684699</td>\n",
       "      <td>0.030497</td>\n",
       "      <td>-0.025922</td>\n",
       "      <td>0.015222</td>\n",
       "      <td>-0.031381</td>\n",
       "      <td>...</td>\n",
       "      <td>0.994324</td>\n",
       "      <td>0.035053</td>\n",
       "      <td>-0.019140</td>\n",
       "      <td>-0.017800</td>\n",
       "      <td>0.010248</td>\n",
       "      <td>-0.030000</td>\n",
       "      <td>0.018521</td>\n",
       "      <td>-0.013921</td>\n",
       "      <td>0.026563</td>\n",
       "      <td>0</td>\n",
       "    </tr>\n",
       "  </tbody>\n",
       "</table>\n",
       "<p>468592 rows × 101 columns</p>\n",
       "</div>"
      ],
      "text/plain": [
       "               0         1         2         3         4         5         6  \\\n",
       "0      -0.030665  0.009684 -0.039392  0.009091  0.006427 -0.039352 -0.041850   \n",
       "1       0.056107  0.029510 -0.030736 -0.054160  0.036074 -0.042218  0.036881   \n",
       "2      -0.013132  0.027873 -0.027160 -0.001315  0.028049 -0.029007 -0.031125   \n",
       "3       0.977942  0.022696 -0.031216 -0.006581  0.023249 -0.016139 -0.025273   \n",
       "4      -0.014175  0.016113 -0.032749 -0.015880  0.016144 -0.025773 -0.026010   \n",
       "...          ...       ...       ...       ...       ...       ...       ...   \n",
       "468587 -0.002795  0.028308 -0.023189 -0.010421  0.026565 -0.022533 -0.026244   \n",
       "468588 -0.049513 -0.139438  0.071439  0.603650 -0.080816  0.007318  0.088670   \n",
       "468589 -0.033211  0.007038 -0.005089  0.007150  0.005714 -0.038924 -0.021317   \n",
       "468590  0.015173  0.015821 -0.007599 -0.027909  0.014725 -0.004932 -0.007522   \n",
       "468591  0.051571  0.009368 -0.004748 -0.046430  0.017813  0.684699  0.030497   \n",
       "\n",
       "               7         8         9  ...        91        92        93  \\\n",
       "0      -0.006124  0.005044 -0.005606  ...  0.014364  0.029645 -0.034727   \n",
       "1      -0.036163  0.035520 -0.102737  ... -0.016408 -0.006585 -0.023710   \n",
       "2      -0.027911  0.026455 -0.024197  ...  0.024089  0.379172 -0.012382   \n",
       "3      -0.015982  0.019419 -0.023422  ... -0.006865  0.025867 -0.021378   \n",
       "4      -0.022338  0.015352 -0.030159  ... -0.021115  0.010870 -0.009919   \n",
       "...          ...       ...       ...  ...       ...       ...       ...   \n",
       "468587 -0.020605  0.025491 -0.023760  ... -0.018444  0.022981 -0.026620   \n",
       "468588  0.090804 -0.075777  0.094784  ... -0.014653  0.010784 -0.019742   \n",
       "468589 -0.001665 -0.001469  0.006657  ...  0.250427  0.050568  0.101735   \n",
       "468590 -0.027183  0.018569 -0.033408  ...  0.007193  0.016303 -0.020454   \n",
       "468591 -0.025922  0.015222 -0.031381  ...  0.994324  0.035053 -0.019140   \n",
       "\n",
       "              94        95        96        97        98        99  link  \n",
       "0      -0.002242 -0.001360 -0.034307 -0.000466 -0.000112  0.005248     1  \n",
       "1      -0.013993 -0.017419 -0.018015 -0.020294  0.012909 -0.022174     0  \n",
       "2       0.003970 -0.854844 -0.039242  0.005901 -0.011489  0.009353     0  \n",
       "3      -0.024815 -0.031266 -0.026625 -0.030714  0.021872 -0.038618     0  \n",
       "4      -0.031895 -0.033433 -0.006487 -0.036109  0.024574 -0.031916     0  \n",
       "...          ...       ...       ...       ...       ...       ...   ...  \n",
       "468587 -0.028591 -0.024478 -0.023453 -0.031326  0.023880 -0.027476     0  \n",
       "468588 -0.021782 -0.016479 -0.021150 -0.020014  0.018660 -0.020199     0  \n",
       "468589  0.016625  0.107880  0.072270  0.028516 -0.127390 -0.206262     0  \n",
       "468590 -0.011735 -0.010748 -0.023505 -0.006912  0.006562 -0.014361     1  \n",
       "468591 -0.017800  0.010248 -0.030000  0.018521 -0.013921  0.026563     0  \n",
       "\n",
       "[468592 rows x 101 columns]"
      ]
     },
     "execution_count": 3,
     "metadata": {},
     "output_type": "execute_result"
    }
   ],
   "source": [
    "df_num = df.drop(['head', 'relation', 'tail'], axis=1)\n",
    "df_num"
   ]
  },
  {
   "cell_type": "code",
   "execution_count": 4,
   "metadata": {
    "tags": []
   },
   "outputs": [
    {
     "name": "stderr",
     "output_type": "stream",
     "text": [
      "[LightGBM] [Fatal] GPU Tree Learner was not enabled in this build.\n",
      "Please recompile with CMake option -DUSE_GPU=1\n",
      "[LightGBM] [Fatal] CUDA Tree Learner was not enabled in this build.\n",
      "Please recompile with CMake option -DUSE_CUDA=1\n",
      "[LightGBM] [Fatal] GPU Tree Learner was not enabled in this build.\n",
      "Please recompile with CMake option -DUSE_GPU=1\n",
      "[LightGBM] [Fatal] CUDA Tree Learner was not enabled in this build.\n",
      "Please recompile with CMake option -DUSE_CUDA=1\n",
      "[LightGBM] [Fatal] GPU Tree Learner was not enabled in this build.\n",
      "Please recompile with CMake option -DUSE_GPU=1\n",
      "[LightGBM] [Fatal] CUDA Tree Learner was not enabled in this build.\n",
      "Please recompile with CMake option -DUSE_CUDA=1\n",
      "[LightGBM] [Fatal] GPU Tree Learner was not enabled in this build.\n",
      "Please recompile with CMake option -DUSE_GPU=1\n",
      "[LightGBM] [Fatal] CUDA Tree Learner was not enabled in this build.\n",
      "Please recompile with CMake option -DUSE_CUDA=1\n",
      "[LightGBM] [Fatal] GPU Tree Learner was not enabled in this build.\n",
      "Please recompile with CMake option -DUSE_GPU=1\n",
      "[LightGBM] [Fatal] CUDA Tree Learner was not enabled in this build.\n",
      "Please recompile with CMake option -DUSE_CUDA=1\n",
      "[LightGBM] [Fatal] GPU Tree Learner was not enabled in this build.\n",
      "Please recompile with CMake option -DUSE_GPU=1\n",
      "[LightGBM] [Fatal] CUDA Tree Learner was not enabled in this build.\n",
      "Please recompile with CMake option -DUSE_CUDA=1\n"
     ]
    },
    {
     "data": {
      "text/html": [
       "<style type=\"text/css\">\n",
       "#T_dc64d_row8_col1, #T_dc64d_row15_col1 {\n",
       "  background-color: lightgreen;\n",
       "}\n",
       "</style>\n",
       "<table id=\"T_dc64d\">\n",
       "  <thead>\n",
       "    <tr>\n",
       "      <th class=\"blank level0\" >&nbsp;</th>\n",
       "      <th id=\"T_dc64d_level0_col0\" class=\"col_heading level0 col0\" >Description</th>\n",
       "      <th id=\"T_dc64d_level0_col1\" class=\"col_heading level0 col1\" >Value</th>\n",
       "    </tr>\n",
       "  </thead>\n",
       "  <tbody>\n",
       "    <tr>\n",
       "      <th id=\"T_dc64d_level0_row0\" class=\"row_heading level0 row0\" >0</th>\n",
       "      <td id=\"T_dc64d_row0_col0\" class=\"data row0 col0\" >Session id</td>\n",
       "      <td id=\"T_dc64d_row0_col1\" class=\"data row0 col1\" >5892</td>\n",
       "    </tr>\n",
       "    <tr>\n",
       "      <th id=\"T_dc64d_level0_row1\" class=\"row_heading level0 row1\" >1</th>\n",
       "      <td id=\"T_dc64d_row1_col0\" class=\"data row1 col0\" >Target</td>\n",
       "      <td id=\"T_dc64d_row1_col1\" class=\"data row1 col1\" >link</td>\n",
       "    </tr>\n",
       "    <tr>\n",
       "      <th id=\"T_dc64d_level0_row2\" class=\"row_heading level0 row2\" >2</th>\n",
       "      <td id=\"T_dc64d_row2_col0\" class=\"data row2 col0\" >Target type</td>\n",
       "      <td id=\"T_dc64d_row2_col1\" class=\"data row2 col1\" >Binary</td>\n",
       "    </tr>\n",
       "    <tr>\n",
       "      <th id=\"T_dc64d_level0_row3\" class=\"row_heading level0 row3\" >3</th>\n",
       "      <td id=\"T_dc64d_row3_col0\" class=\"data row3 col0\" >Original data shape</td>\n",
       "      <td id=\"T_dc64d_row3_col1\" class=\"data row3 col1\" >(468592, 101)</td>\n",
       "    </tr>\n",
       "    <tr>\n",
       "      <th id=\"T_dc64d_level0_row4\" class=\"row_heading level0 row4\" >4</th>\n",
       "      <td id=\"T_dc64d_row4_col0\" class=\"data row4 col0\" >Transformed data shape</td>\n",
       "      <td id=\"T_dc64d_row4_col1\" class=\"data row4 col1\" >(468592, 101)</td>\n",
       "    </tr>\n",
       "    <tr>\n",
       "      <th id=\"T_dc64d_level0_row5\" class=\"row_heading level0 row5\" >5</th>\n",
       "      <td id=\"T_dc64d_row5_col0\" class=\"data row5 col0\" >Transformed train set shape</td>\n",
       "      <td id=\"T_dc64d_row5_col1\" class=\"data row5 col1\" >(374873, 101)</td>\n",
       "    </tr>\n",
       "    <tr>\n",
       "      <th id=\"T_dc64d_level0_row6\" class=\"row_heading level0 row6\" >6</th>\n",
       "      <td id=\"T_dc64d_row6_col0\" class=\"data row6 col0\" >Transformed test set shape</td>\n",
       "      <td id=\"T_dc64d_row6_col1\" class=\"data row6 col1\" >(93719, 101)</td>\n",
       "    </tr>\n",
       "    <tr>\n",
       "      <th id=\"T_dc64d_level0_row7\" class=\"row_heading level0 row7\" >7</th>\n",
       "      <td id=\"T_dc64d_row7_col0\" class=\"data row7 col0\" >Numeric features</td>\n",
       "      <td id=\"T_dc64d_row7_col1\" class=\"data row7 col1\" >100</td>\n",
       "    </tr>\n",
       "    <tr>\n",
       "      <th id=\"T_dc64d_level0_row8\" class=\"row_heading level0 row8\" >8</th>\n",
       "      <td id=\"T_dc64d_row8_col0\" class=\"data row8 col0\" >Preprocess</td>\n",
       "      <td id=\"T_dc64d_row8_col1\" class=\"data row8 col1\" >True</td>\n",
       "    </tr>\n",
       "    <tr>\n",
       "      <th id=\"T_dc64d_level0_row9\" class=\"row_heading level0 row9\" >9</th>\n",
       "      <td id=\"T_dc64d_row9_col0\" class=\"data row9 col0\" >Imputation type</td>\n",
       "      <td id=\"T_dc64d_row9_col1\" class=\"data row9 col1\" >simple</td>\n",
       "    </tr>\n",
       "    <tr>\n",
       "      <th id=\"T_dc64d_level0_row10\" class=\"row_heading level0 row10\" >10</th>\n",
       "      <td id=\"T_dc64d_row10_col0\" class=\"data row10 col0\" >Numeric imputation</td>\n",
       "      <td id=\"T_dc64d_row10_col1\" class=\"data row10 col1\" >mean</td>\n",
       "    </tr>\n",
       "    <tr>\n",
       "      <th id=\"T_dc64d_level0_row11\" class=\"row_heading level0 row11\" >11</th>\n",
       "      <td id=\"T_dc64d_row11_col0\" class=\"data row11 col0\" >Categorical imputation</td>\n",
       "      <td id=\"T_dc64d_row11_col1\" class=\"data row11 col1\" >mode</td>\n",
       "    </tr>\n",
       "    <tr>\n",
       "      <th id=\"T_dc64d_level0_row12\" class=\"row_heading level0 row12\" >12</th>\n",
       "      <td id=\"T_dc64d_row12_col0\" class=\"data row12 col0\" >Fold Generator</td>\n",
       "      <td id=\"T_dc64d_row12_col1\" class=\"data row12 col1\" >StratifiedKFold</td>\n",
       "    </tr>\n",
       "    <tr>\n",
       "      <th id=\"T_dc64d_level0_row13\" class=\"row_heading level0 row13\" >13</th>\n",
       "      <td id=\"T_dc64d_row13_col0\" class=\"data row13 col0\" >Fold Number</td>\n",
       "      <td id=\"T_dc64d_row13_col1\" class=\"data row13 col1\" >10</td>\n",
       "    </tr>\n",
       "    <tr>\n",
       "      <th id=\"T_dc64d_level0_row14\" class=\"row_heading level0 row14\" >14</th>\n",
       "      <td id=\"T_dc64d_row14_col0\" class=\"data row14 col0\" >CPU Jobs</td>\n",
       "      <td id=\"T_dc64d_row14_col1\" class=\"data row14 col1\" >-1</td>\n",
       "    </tr>\n",
       "    <tr>\n",
       "      <th id=\"T_dc64d_level0_row15\" class=\"row_heading level0 row15\" >15</th>\n",
       "      <td id=\"T_dc64d_row15_col0\" class=\"data row15 col0\" >Use GPU</td>\n",
       "      <td id=\"T_dc64d_row15_col1\" class=\"data row15 col1\" >True</td>\n",
       "    </tr>\n",
       "    <tr>\n",
       "      <th id=\"T_dc64d_level0_row16\" class=\"row_heading level0 row16\" >16</th>\n",
       "      <td id=\"T_dc64d_row16_col0\" class=\"data row16 col0\" >Log Experiment</td>\n",
       "      <td id=\"T_dc64d_row16_col1\" class=\"data row16 col1\" >WandbLogger</td>\n",
       "    </tr>\n",
       "    <tr>\n",
       "      <th id=\"T_dc64d_level0_row17\" class=\"row_heading level0 row17\" >17</th>\n",
       "      <td id=\"T_dc64d_row17_col0\" class=\"data row17 col0\" >Experiment Name</td>\n",
       "      <td id=\"T_dc64d_row17_col1\" class=\"data row17 col1\" >clf-default-name</td>\n",
       "    </tr>\n",
       "    <tr>\n",
       "      <th id=\"T_dc64d_level0_row18\" class=\"row_heading level0 row18\" >18</th>\n",
       "      <td id=\"T_dc64d_row18_col0\" class=\"data row18 col0\" >USI</td>\n",
       "      <td id=\"T_dc64d_row18_col1\" class=\"data row18 col1\" >2b64</td>\n",
       "    </tr>\n",
       "  </tbody>\n",
       "</table>\n"
      ],
      "text/plain": [
       "<pandas.io.formats.style.Styler at 0x7f4571c5d4b0>"
      ]
     },
     "metadata": {},
     "output_type": "display_data"
    },
    {
     "name": "stderr",
     "output_type": "stream",
     "text": [
      "[LightGBM] [Fatal] GPU Tree Learner was not enabled in this build.\n",
      "Please recompile with CMake option -DUSE_GPU=1\n",
      "[LightGBM] [Fatal] CUDA Tree Learner was not enabled in this build.\n",
      "Please recompile with CMake option -DUSE_CUDA=1\n",
      "[LightGBM] [Fatal] GPU Tree Learner was not enabled in this build.\n",
      "Please recompile with CMake option -DUSE_GPU=1\n",
      "[LightGBM] [Fatal] CUDA Tree Learner was not enabled in this build.\n",
      "Please recompile with CMake option -DUSE_CUDA=1\n"
     ]
    }
   ],
   "source": [
    "# Experiment setup\n",
    "s = setup(df_num, target = 'link', fold_strategy = 'stratifiedkfold', fold=10, train_size = 0.8, n_jobs=-1, system_log=True, use_gpu = True, log_experiment='wandb')\n",
    "exp = ClassificationExperiment()"
   ]
  },
  {
   "cell_type": "markdown",
   "metadata": {},
   "source": [
    "# K Neighbors Classifier"
   ]
  },
  {
   "cell_type": "code",
   "execution_count": 5,
   "metadata": {
    "tags": []
   },
   "outputs": [
    {
     "data": {
      "text/html": [],
      "text/plain": [
       "<IPython.core.display.HTML object>"
      ]
     },
     "metadata": {},
     "output_type": "display_data"
    },
    {
     "data": {
      "text/html": [
       "<style type=\"text/css\">\n",
       "#T_4e081_row10_col0, #T_4e081_row10_col1, #T_4e081_row10_col2, #T_4e081_row10_col3, #T_4e081_row10_col4, #T_4e081_row10_col5, #T_4e081_row10_col6 {\n",
       "  background: yellow;\n",
       "}\n",
       "</style>\n",
       "<table id=\"T_4e081\">\n",
       "  <thead>\n",
       "    <tr>\n",
       "      <th class=\"blank level0\" >&nbsp;</th>\n",
       "      <th id=\"T_4e081_level0_col0\" class=\"col_heading level0 col0\" >Accuracy</th>\n",
       "      <th id=\"T_4e081_level0_col1\" class=\"col_heading level0 col1\" >AUC</th>\n",
       "      <th id=\"T_4e081_level0_col2\" class=\"col_heading level0 col2\" >Recall</th>\n",
       "      <th id=\"T_4e081_level0_col3\" class=\"col_heading level0 col3\" >Prec.</th>\n",
       "      <th id=\"T_4e081_level0_col4\" class=\"col_heading level0 col4\" >F1</th>\n",
       "      <th id=\"T_4e081_level0_col5\" class=\"col_heading level0 col5\" >Kappa</th>\n",
       "      <th id=\"T_4e081_level0_col6\" class=\"col_heading level0 col6\" >MCC</th>\n",
       "    </tr>\n",
       "    <tr>\n",
       "      <th class=\"index_name level0\" >Fold</th>\n",
       "      <th class=\"blank col0\" >&nbsp;</th>\n",
       "      <th class=\"blank col1\" >&nbsp;</th>\n",
       "      <th class=\"blank col2\" >&nbsp;</th>\n",
       "      <th class=\"blank col3\" >&nbsp;</th>\n",
       "      <th class=\"blank col4\" >&nbsp;</th>\n",
       "      <th class=\"blank col5\" >&nbsp;</th>\n",
       "      <th class=\"blank col6\" >&nbsp;</th>\n",
       "    </tr>\n",
       "  </thead>\n",
       "  <tbody>\n",
       "    <tr>\n",
       "      <th id=\"T_4e081_level0_row0\" class=\"row_heading level0 row0\" >0</th>\n",
       "      <td id=\"T_4e081_row0_col0\" class=\"data row0 col0\" >0.7724</td>\n",
       "      <td id=\"T_4e081_row0_col1\" class=\"data row0 col1\" >0.8477</td>\n",
       "      <td id=\"T_4e081_row0_col2\" class=\"data row0 col2\" >0.7379</td>\n",
       "      <td id=\"T_4e081_row0_col3\" class=\"data row0 col3\" >0.7925</td>\n",
       "      <td id=\"T_4e081_row0_col4\" class=\"data row0 col4\" >0.7642</td>\n",
       "      <td id=\"T_4e081_row0_col5\" class=\"data row0 col5\" >0.5447</td>\n",
       "      <td id=\"T_4e081_row0_col6\" class=\"data row0 col6\" >0.5460</td>\n",
       "    </tr>\n",
       "    <tr>\n",
       "      <th id=\"T_4e081_level0_row1\" class=\"row_heading level0 row1\" >1</th>\n",
       "      <td id=\"T_4e081_row1_col0\" class=\"data row1 col0\" >0.7697</td>\n",
       "      <td id=\"T_4e081_row1_col1\" class=\"data row1 col1\" >0.8438</td>\n",
       "      <td id=\"T_4e081_row1_col2\" class=\"data row1 col2\" >0.7372</td>\n",
       "      <td id=\"T_4e081_row1_col3\" class=\"data row1 col3\" >0.7885</td>\n",
       "      <td id=\"T_4e081_row1_col4\" class=\"data row1 col4\" >0.7620</td>\n",
       "      <td id=\"T_4e081_row1_col5\" class=\"data row1 col5\" >0.5395</td>\n",
       "      <td id=\"T_4e081_row1_col6\" class=\"data row1 col6\" >0.5406</td>\n",
       "    </tr>\n",
       "    <tr>\n",
       "      <th id=\"T_4e081_level0_row2\" class=\"row_heading level0 row2\" >2</th>\n",
       "      <td id=\"T_4e081_row2_col0\" class=\"data row2 col0\" >0.7728</td>\n",
       "      <td id=\"T_4e081_row2_col1\" class=\"data row2 col1\" >0.8443</td>\n",
       "      <td id=\"T_4e081_row2_col2\" class=\"data row2 col2\" >0.7355</td>\n",
       "      <td id=\"T_4e081_row2_col3\" class=\"data row2 col3\" >0.7948</td>\n",
       "      <td id=\"T_4e081_row2_col4\" class=\"data row2 col4\" >0.7640</td>\n",
       "      <td id=\"T_4e081_row2_col5\" class=\"data row2 col5\" >0.5456</td>\n",
       "      <td id=\"T_4e081_row2_col6\" class=\"data row2 col6\" >0.5471</td>\n",
       "    </tr>\n",
       "    <tr>\n",
       "      <th id=\"T_4e081_level0_row3\" class=\"row_heading level0 row3\" >3</th>\n",
       "      <td id=\"T_4e081_row3_col0\" class=\"data row3 col0\" >0.7690</td>\n",
       "      <td id=\"T_4e081_row3_col1\" class=\"data row3 col1\" >0.8424</td>\n",
       "      <td id=\"T_4e081_row3_col2\" class=\"data row3 col2\" >0.7332</td>\n",
       "      <td id=\"T_4e081_row3_col3\" class=\"data row3 col3\" >0.7897</td>\n",
       "      <td id=\"T_4e081_row3_col4\" class=\"data row3 col4\" >0.7604</td>\n",
       "      <td id=\"T_4e081_row3_col5\" class=\"data row3 col5\" >0.5380</td>\n",
       "      <td id=\"T_4e081_row3_col6\" class=\"data row3 col6\" >0.5394</td>\n",
       "    </tr>\n",
       "    <tr>\n",
       "      <th id=\"T_4e081_level0_row4\" class=\"row_heading level0 row4\" >4</th>\n",
       "      <td id=\"T_4e081_row4_col0\" class=\"data row4 col0\" >0.7707</td>\n",
       "      <td id=\"T_4e081_row4_col1\" class=\"data row4 col1\" >0.8448</td>\n",
       "      <td id=\"T_4e081_row4_col2\" class=\"data row4 col2\" >0.7316</td>\n",
       "      <td id=\"T_4e081_row4_col3\" class=\"data row4 col3\" >0.7937</td>\n",
       "      <td id=\"T_4e081_row4_col4\" class=\"data row4 col4\" >0.7614</td>\n",
       "      <td id=\"T_4e081_row4_col5\" class=\"data row4 col5\" >0.5414</td>\n",
       "      <td id=\"T_4e081_row4_col6\" class=\"data row4 col6\" >0.5431</td>\n",
       "    </tr>\n",
       "    <tr>\n",
       "      <th id=\"T_4e081_level0_row5\" class=\"row_heading level0 row5\" >5</th>\n",
       "      <td id=\"T_4e081_row5_col0\" class=\"data row5 col0\" >0.7701</td>\n",
       "      <td id=\"T_4e081_row5_col1\" class=\"data row5 col1\" >0.8443</td>\n",
       "      <td id=\"T_4e081_row5_col2\" class=\"data row5 col2\" >0.7342</td>\n",
       "      <td id=\"T_4e081_row5_col3\" class=\"data row5 col3\" >0.7911</td>\n",
       "      <td id=\"T_4e081_row5_col4\" class=\"data row5 col4\" >0.7616</td>\n",
       "      <td id=\"T_4e081_row5_col5\" class=\"data row5 col5\" >0.5403</td>\n",
       "      <td id=\"T_4e081_row5_col6\" class=\"data row5 col6\" >0.5417</td>\n",
       "    </tr>\n",
       "    <tr>\n",
       "      <th id=\"T_4e081_level0_row6\" class=\"row_heading level0 row6\" >6</th>\n",
       "      <td id=\"T_4e081_row6_col0\" class=\"data row6 col0\" >0.7694</td>\n",
       "      <td id=\"T_4e081_row6_col1\" class=\"data row6 col1\" >0.8434</td>\n",
       "      <td id=\"T_4e081_row6_col2\" class=\"data row6 col2\" >0.7324</td>\n",
       "      <td id=\"T_4e081_row6_col3\" class=\"data row6 col3\" >0.7909</td>\n",
       "      <td id=\"T_4e081_row6_col4\" class=\"data row6 col4\" >0.7605</td>\n",
       "      <td id=\"T_4e081_row6_col5\" class=\"data row6 col5\" >0.5388</td>\n",
       "      <td id=\"T_4e081_row6_col6\" class=\"data row6 col6\" >0.5403</td>\n",
       "    </tr>\n",
       "    <tr>\n",
       "      <th id=\"T_4e081_level0_row7\" class=\"row_heading level0 row7\" >7</th>\n",
       "      <td id=\"T_4e081_row7_col0\" class=\"data row7 col0\" >0.7699</td>\n",
       "      <td id=\"T_4e081_row7_col1\" class=\"data row7 col1\" >0.8434</td>\n",
       "      <td id=\"T_4e081_row7_col2\" class=\"data row7 col2\" >0.7347</td>\n",
       "      <td id=\"T_4e081_row7_col3\" class=\"data row7 col3\" >0.7903</td>\n",
       "      <td id=\"T_4e081_row7_col4\" class=\"data row7 col4\" >0.7615</td>\n",
       "      <td id=\"T_4e081_row7_col5\" class=\"data row7 col5\" >0.5398</td>\n",
       "      <td id=\"T_4e081_row7_col6\" class=\"data row7 col6\" >0.5411</td>\n",
       "    </tr>\n",
       "    <tr>\n",
       "      <th id=\"T_4e081_level0_row8\" class=\"row_heading level0 row8\" >8</th>\n",
       "      <td id=\"T_4e081_row8_col0\" class=\"data row8 col0\" >0.7679</td>\n",
       "      <td id=\"T_4e081_row8_col1\" class=\"data row8 col1\" >0.8394</td>\n",
       "      <td id=\"T_4e081_row8_col2\" class=\"data row8 col2\" >0.7321</td>\n",
       "      <td id=\"T_4e081_row8_col3\" class=\"data row8 col3\" >0.7886</td>\n",
       "      <td id=\"T_4e081_row8_col4\" class=\"data row8 col4\" >0.7593</td>\n",
       "      <td id=\"T_4e081_row8_col5\" class=\"data row8 col5\" >0.5358</td>\n",
       "      <td id=\"T_4e081_row8_col6\" class=\"data row8 col6\" >0.5372</td>\n",
       "    </tr>\n",
       "    <tr>\n",
       "      <th id=\"T_4e081_level0_row9\" class=\"row_heading level0 row9\" >9</th>\n",
       "      <td id=\"T_4e081_row9_col0\" class=\"data row9 col0\" >0.7694</td>\n",
       "      <td id=\"T_4e081_row9_col1\" class=\"data row9 col1\" >0.8424</td>\n",
       "      <td id=\"T_4e081_row9_col2\" class=\"data row9 col2\" >0.7359</td>\n",
       "      <td id=\"T_4e081_row9_col3\" class=\"data row9 col3\" >0.7888</td>\n",
       "      <td id=\"T_4e081_row9_col4\" class=\"data row9 col4\" >0.7614</td>\n",
       "      <td id=\"T_4e081_row9_col5\" class=\"data row9 col5\" >0.5389</td>\n",
       "      <td id=\"T_4e081_row9_col6\" class=\"data row9 col6\" >0.5401</td>\n",
       "    </tr>\n",
       "    <tr>\n",
       "      <th id=\"T_4e081_level0_row10\" class=\"row_heading level0 row10\" >Mean</th>\n",
       "      <td id=\"T_4e081_row10_col0\" class=\"data row10 col0\" >0.7701</td>\n",
       "      <td id=\"T_4e081_row10_col1\" class=\"data row10 col1\" >0.8436</td>\n",
       "      <td id=\"T_4e081_row10_col2\" class=\"data row10 col2\" >0.7345</td>\n",
       "      <td id=\"T_4e081_row10_col3\" class=\"data row10 col3\" >0.7909</td>\n",
       "      <td id=\"T_4e081_row10_col4\" class=\"data row10 col4\" >0.7616</td>\n",
       "      <td id=\"T_4e081_row10_col5\" class=\"data row10 col5\" >0.5403</td>\n",
       "      <td id=\"T_4e081_row10_col6\" class=\"data row10 col6\" >0.5417</td>\n",
       "    </tr>\n",
       "    <tr>\n",
       "      <th id=\"T_4e081_level0_row11\" class=\"row_heading level0 row11\" >Std</th>\n",
       "      <td id=\"T_4e081_row11_col0\" class=\"data row11 col0\" >0.0014</td>\n",
       "      <td id=\"T_4e081_row11_col1\" class=\"data row11 col1\" >0.0020</td>\n",
       "      <td id=\"T_4e081_row11_col2\" class=\"data row11 col2\" >0.0021</td>\n",
       "      <td id=\"T_4e081_row11_col3\" class=\"data row11 col3\" >0.0021</td>\n",
       "      <td id=\"T_4e081_row11_col4\" class=\"data row11 col4\" >0.0014</td>\n",
       "      <td id=\"T_4e081_row11_col5\" class=\"data row11 col5\" >0.0028</td>\n",
       "      <td id=\"T_4e081_row11_col6\" class=\"data row11 col6\" >0.0029</td>\n",
       "    </tr>\n",
       "  </tbody>\n",
       "</table>\n"
      ],
      "text/plain": [
       "<pandas.io.formats.style.Styler at 0x7f4571b21fc0>"
      ]
     },
     "metadata": {},
     "output_type": "display_data"
    },
    {
     "data": {
      "text/html": [],
      "text/plain": [
       "<IPython.core.display.HTML object>"
      ]
     },
     "metadata": {},
     "output_type": "display_data"
    }
   ],
   "source": [
    "knn = create_model('knn')"
   ]
  },
  {
   "cell_type": "code",
   "execution_count": 6,
   "metadata": {},
   "outputs": [
    {
     "data": {
      "text/html": [],
      "text/plain": [
       "<IPython.core.display.HTML object>"
      ]
     },
     "metadata": {},
     "output_type": "display_data"
    },
    {
     "data": {
      "image/png": "[encoded data removed]",
      "text/plain": [
       "<Figure size 800x550 with 1 Axes>"
      ]
     },
     "metadata": {},
     "output_type": "display_data"
    }
   ],
   "source": [
    "plot_model(knn, plot = 'confusion_matrix')"
   ]
  },
  {
   "cell_type": "code",
   "execution_count": 7,
   "metadata": {},
   "outputs": [
    {
     "data": {
      "text/html": [],
      "text/plain": [
       "<IPython.core.display.HTML object>"
      ]
     },
     "metadata": {},
     "output_type": "display_data"
    },
    {
     "data": {
      "image/png": "[encoded data removed]",
      "text/plain": [
       "<Figure size 800x550 with 1 Axes>"
      ]
     },
     "metadata": {},
     "output_type": "display_data"
    }
   ],
   "source": [
    "plot_model(knn, plot = 'error')"
   ]
  },
  {
   "cell_type": "code",
   "execution_count": 8,
   "metadata": {},
   "outputs": [
    {
     "data": {
      "text/html": [],
      "text/plain": [
       "<IPython.core.display.HTML object>"
      ]
     },
     "metadata": {},
     "output_type": "display_data"
    },
    {
     "data": {
      "text/html": [
       "<div>\n",
       "<style scoped>\n",
       "    .dataframe tbody tr th:only-of-type {\n",
       "        vertical-align: middle;\n",
       "    }\n",
       "\n",
       "    .dataframe tbody tr th {\n",
       "        vertical-align: top;\n",
       "    }\n",
       "\n",
       "    .dataframe thead th {\n",
       "        text-align: right;\n",
       "    }\n",
       "</style>\n",
       "<table border=\"1\" class=\"dataframe\">\n",
       "  <thead>\n",
       "    <tr style=\"text-align: right;\">\n",
       "      <th></th>\n",
       "      <th>Parameters</th>\n",
       "    </tr>\n",
       "  </thead>\n",
       "  <tbody>\n",
       "    <tr>\n",
       "      <th>algorithm</th>\n",
       "      <td>auto</td>\n",
       "    </tr>\n",
       "    <tr>\n",
       "      <th>leaf_size</th>\n",
       "      <td>30</td>\n",
       "    </tr>\n",
       "    <tr>\n",
       "      <th>metric</th>\n",
       "      <td>minkowski</td>\n",
       "    </tr>\n",
       "    <tr>\n",
       "      <th>metric_params</th>\n",
       "      <td>None</td>\n",
       "    </tr>\n",
       "    <tr>\n",
       "      <th>n_jobs</th>\n",
       "      <td>-1</td>\n",
       "    </tr>\n",
       "    <tr>\n",
       "      <th>n_neighbors</th>\n",
       "      <td>5</td>\n",
       "    </tr>\n",
       "    <tr>\n",
       "      <th>p</th>\n",
       "      <td>2</td>\n",
       "    </tr>\n",
       "    <tr>\n",
       "      <th>weights</th>\n",
       "      <td>uniform</td>\n",
       "    </tr>\n",
       "  </tbody>\n",
       "</table>\n",
       "</div>"
      ],
      "text/plain": [
       "              Parameters\n",
       "algorithm           auto\n",
       "leaf_size             30\n",
       "metric         minkowski\n",
       "metric_params       None\n",
       "n_jobs                -1\n",
       "n_neighbors            5\n",
       "p                      2\n",
       "weights          uniform"
      ]
     },
     "metadata": {},
     "output_type": "display_data"
    }
   ],
   "source": [
    "plot_model(knn, plot = 'parameter')"
   ]
  },
  {
   "cell_type": "code",
   "execution_count": 9,
   "metadata": {},
   "outputs": [
    {
     "name": "stdout",
     "output_type": "stream",
     "text": [
      "Transformation Pipeline and Model Successfully Saved\n"
     ]
    },
    {
     "data": {
      "text/plain": [
       "(Pipeline(memory=FastMemory(location=/tmp/joblib),\n",
       "          steps=[('numerical_imputer',\n",
       "                  TransformerWrapper(exclude=None,\n",
       "                                     include=['0', '1', '2', '3', '4', '5', '6',\n",
       "                                              '7', '8', '9', '10', '11', '12',\n",
       "                                              '13', '14', '15', '16', '17', '18',\n",
       "                                              '19', '20', '21', '22', '23', '24',\n",
       "                                              '25', '26', '27', '28', '29', ...],\n",
       "                                     transformer=SimpleImputer(add_indicator=False,\n",
       "                                                               copy=True,\n",
       "                                                               fill_value=None,\n",
       "                                                               keep_empty_feat...\n",
       "                  TransformerWrapper(exclude=None, include=[],\n",
       "                                     transformer=SimpleImputer(add_indicator=False,\n",
       "                                                               copy=True,\n",
       "                                                               fill_value=None,\n",
       "                                                               keep_empty_features=False,\n",
       "                                                               missing_values=nan,\n",
       "                                                               strategy='most_frequent',\n",
       "                                                               verbose='deprecated'))),\n",
       "                 ('trained_model',\n",
       "                  KNeighborsClassifier(algorithm='auto', leaf_size=30,\n",
       "                                       metric='minkowski', metric_params=None,\n",
       "                                       n_jobs=-1, n_neighbors=5, p=2,\n",
       "                                       weights='uniform'))],\n",
       "          verbose=False),\n",
       " 'models_classif/convkb/knn.pkl')"
      ]
     },
     "execution_count": 9,
     "metadata": {},
     "output_type": "execute_result"
    }
   ],
   "source": [
    "save_model(knn, 'models_classif/convkb/knn')"
   ]
  },
  {
   "cell_type": "markdown",
   "metadata": {},
   "source": [
    "# Naive Bayes"
   ]
  },
  {
   "cell_type": "code",
   "execution_count": 10,
   "metadata": {
    "tags": []
   },
   "outputs": [
    {
     "data": {
      "text/html": [],
      "text/plain": [
       "<IPython.core.display.HTML object>"
      ]
     },
     "metadata": {},
     "output_type": "display_data"
    },
    {
     "data": {
      "text/html": [
       "<style type=\"text/css\">\n",
       "#T_5bb2e_row10_col0, #T_5bb2e_row10_col1, #T_5bb2e_row10_col2, #T_5bb2e_row10_col3, #T_5bb2e_row10_col4, #T_5bb2e_row10_col5, #T_5bb2e_row10_col6 {\n",
       "  background: yellow;\n",
       "}\n",
       "</style>\n",
       "<table id=\"T_5bb2e\">\n",
       "  <thead>\n",
       "    <tr>\n",
       "      <th class=\"blank level0\" >&nbsp;</th>\n",
       "      <th id=\"T_5bb2e_level0_col0\" class=\"col_heading level0 col0\" >Accuracy</th>\n",
       "      <th id=\"T_5bb2e_level0_col1\" class=\"col_heading level0 col1\" >AUC</th>\n",
       "      <th id=\"T_5bb2e_level0_col2\" class=\"col_heading level0 col2\" >Recall</th>\n",
       "      <th id=\"T_5bb2e_level0_col3\" class=\"col_heading level0 col3\" >Prec.</th>\n",
       "      <th id=\"T_5bb2e_level0_col4\" class=\"col_heading level0 col4\" >F1</th>\n",
       "      <th id=\"T_5bb2e_level0_col5\" class=\"col_heading level0 col5\" >Kappa</th>\n",
       "      <th id=\"T_5bb2e_level0_col6\" class=\"col_heading level0 col6\" >MCC</th>\n",
       "    </tr>\n",
       "    <tr>\n",
       "      <th class=\"index_name level0\" >Fold</th>\n",
       "      <th class=\"blank col0\" >&nbsp;</th>\n",
       "      <th class=\"blank col1\" >&nbsp;</th>\n",
       "      <th class=\"blank col2\" >&nbsp;</th>\n",
       "      <th class=\"blank col3\" >&nbsp;</th>\n",
       "      <th class=\"blank col4\" >&nbsp;</th>\n",
       "      <th class=\"blank col5\" >&nbsp;</th>\n",
       "      <th class=\"blank col6\" >&nbsp;</th>\n",
       "    </tr>\n",
       "  </thead>\n",
       "  <tbody>\n",
       "    <tr>\n",
       "      <th id=\"T_5bb2e_level0_row0\" class=\"row_heading level0 row0\" >0</th>\n",
       "      <td id=\"T_5bb2e_row0_col0\" class=\"data row0 col0\" >0.6371</td>\n",
       "      <td id=\"T_5bb2e_row0_col1\" class=\"data row0 col1\" >0.6863</td>\n",
       "      <td id=\"T_5bb2e_row0_col2\" class=\"data row0 col2\" >0.6069</td>\n",
       "      <td id=\"T_5bb2e_row0_col3\" class=\"data row0 col3\" >0.6459</td>\n",
       "      <td id=\"T_5bb2e_row0_col4\" class=\"data row0 col4\" >0.6258</td>\n",
       "      <td id=\"T_5bb2e_row0_col5\" class=\"data row0 col5\" >0.2741</td>\n",
       "      <td id=\"T_5bb2e_row0_col6\" class=\"data row0 col6\" >0.2746</td>\n",
       "    </tr>\n",
       "    <tr>\n",
       "      <th id=\"T_5bb2e_level0_row1\" class=\"row_heading level0 row1\" >1</th>\n",
       "      <td id=\"T_5bb2e_row1_col0\" class=\"data row1 col0\" >0.6301</td>\n",
       "      <td id=\"T_5bb2e_row1_col1\" class=\"data row1 col1\" >0.6813</td>\n",
       "      <td id=\"T_5bb2e_row1_col2\" class=\"data row1 col2\" >0.6012</td>\n",
       "      <td id=\"T_5bb2e_row1_col3\" class=\"data row1 col3\" >0.6380</td>\n",
       "      <td id=\"T_5bb2e_row1_col4\" class=\"data row1 col4\" >0.6191</td>\n",
       "      <td id=\"T_5bb2e_row1_col5\" class=\"data row1 col5\" >0.2601</td>\n",
       "      <td id=\"T_5bb2e_row1_col6\" class=\"data row1 col6\" >0.2606</td>\n",
       "    </tr>\n",
       "    <tr>\n",
       "      <th id=\"T_5bb2e_level0_row2\" class=\"row_heading level0 row2\" >2</th>\n",
       "      <td id=\"T_5bb2e_row2_col0\" class=\"data row2 col0\" >0.6301</td>\n",
       "      <td id=\"T_5bb2e_row2_col1\" class=\"data row2 col1\" >0.6830</td>\n",
       "      <td id=\"T_5bb2e_row2_col2\" class=\"data row2 col2\" >0.6007</td>\n",
       "      <td id=\"T_5bb2e_row2_col3\" class=\"data row2 col3\" >0.6382</td>\n",
       "      <td id=\"T_5bb2e_row2_col4\" class=\"data row2 col4\" >0.6189</td>\n",
       "      <td id=\"T_5bb2e_row2_col5\" class=\"data row2 col5\" >0.2602</td>\n",
       "      <td id=\"T_5bb2e_row2_col6\" class=\"data row2 col6\" >0.2606</td>\n",
       "    </tr>\n",
       "    <tr>\n",
       "      <th id=\"T_5bb2e_level0_row3\" class=\"row_heading level0 row3\" >3</th>\n",
       "      <td id=\"T_5bb2e_row3_col0\" class=\"data row3 col0\" >0.6331</td>\n",
       "      <td id=\"T_5bb2e_row3_col1\" class=\"data row3 col1\" >0.6852</td>\n",
       "      <td id=\"T_5bb2e_row3_col2\" class=\"data row3 col2\" >0.6058</td>\n",
       "      <td id=\"T_5bb2e_row3_col3\" class=\"data row3 col3\" >0.6408</td>\n",
       "      <td id=\"T_5bb2e_row3_col4\" class=\"data row3 col4\" >0.6228</td>\n",
       "      <td id=\"T_5bb2e_row3_col5\" class=\"data row3 col5\" >0.2661</td>\n",
       "      <td id=\"T_5bb2e_row3_col6\" class=\"data row3 col6\" >0.2665</td>\n",
       "    </tr>\n",
       "    <tr>\n",
       "      <th id=\"T_5bb2e_level0_row4\" class=\"row_heading level0 row4\" >4</th>\n",
       "      <td id=\"T_5bb2e_row4_col0\" class=\"data row4 col0\" >0.6299</td>\n",
       "      <td id=\"T_5bb2e_row4_col1\" class=\"data row4 col1\" >0.6853</td>\n",
       "      <td id=\"T_5bb2e_row4_col2\" class=\"data row4 col2\" >0.6056</td>\n",
       "      <td id=\"T_5bb2e_row4_col3\" class=\"data row4 col3\" >0.6365</td>\n",
       "      <td id=\"T_5bb2e_row4_col4\" class=\"data row4 col4\" >0.6207</td>\n",
       "      <td id=\"T_5bb2e_row4_col5\" class=\"data row4 col5\" >0.2598</td>\n",
       "      <td id=\"T_5bb2e_row4_col6\" class=\"data row4 col6\" >0.2601</td>\n",
       "    </tr>\n",
       "    <tr>\n",
       "      <th id=\"T_5bb2e_level0_row5\" class=\"row_heading level0 row5\" >5</th>\n",
       "      <td id=\"T_5bb2e_row5_col0\" class=\"data row5 col0\" >0.6339</td>\n",
       "      <td id=\"T_5bb2e_row5_col1\" class=\"data row5 col1\" >0.6831</td>\n",
       "      <td id=\"T_5bb2e_row5_col2\" class=\"data row5 col2\" >0.6084</td>\n",
       "      <td id=\"T_5bb2e_row5_col3\" class=\"data row5 col3\" >0.6411</td>\n",
       "      <td id=\"T_5bb2e_row5_col4\" class=\"data row5 col4\" >0.6243</td>\n",
       "      <td id=\"T_5bb2e_row5_col5\" class=\"data row5 col5\" >0.2677</td>\n",
       "      <td id=\"T_5bb2e_row5_col6\" class=\"data row5 col6\" >0.2681</td>\n",
       "    </tr>\n",
       "    <tr>\n",
       "      <th id=\"T_5bb2e_level0_row6\" class=\"row_heading level0 row6\" >6</th>\n",
       "      <td id=\"T_5bb2e_row6_col0\" class=\"data row6 col0\" >0.6342</td>\n",
       "      <td id=\"T_5bb2e_row6_col1\" class=\"data row6 col1\" >0.6868</td>\n",
       "      <td id=\"T_5bb2e_row6_col2\" class=\"data row6 col2\" >0.6094</td>\n",
       "      <td id=\"T_5bb2e_row6_col3\" class=\"data row6 col3\" >0.6412</td>\n",
       "      <td id=\"T_5bb2e_row6_col4\" class=\"data row6 col4\" >0.6249</td>\n",
       "      <td id=\"T_5bb2e_row6_col5\" class=\"data row6 col5\" >0.2684</td>\n",
       "      <td id=\"T_5bb2e_row6_col6\" class=\"data row6 col6\" >0.2687</td>\n",
       "    </tr>\n",
       "    <tr>\n",
       "      <th id=\"T_5bb2e_level0_row7\" class=\"row_heading level0 row7\" >7</th>\n",
       "      <td id=\"T_5bb2e_row7_col0\" class=\"data row7 col0\" >0.6301</td>\n",
       "      <td id=\"T_5bb2e_row7_col1\" class=\"data row7 col1\" >0.6818</td>\n",
       "      <td id=\"T_5bb2e_row7_col2\" class=\"data row7 col2\" >0.5997</td>\n",
       "      <td id=\"T_5bb2e_row7_col3\" class=\"data row7 col3\" >0.6385</td>\n",
       "      <td id=\"T_5bb2e_row7_col4\" class=\"data row7 col4\" >0.6185</td>\n",
       "      <td id=\"T_5bb2e_row7_col5\" class=\"data row7 col5\" >0.2603</td>\n",
       "      <td id=\"T_5bb2e_row7_col6\" class=\"data row7 col6\" >0.2608</td>\n",
       "    </tr>\n",
       "    <tr>\n",
       "      <th id=\"T_5bb2e_level0_row8\" class=\"row_heading level0 row8\" >8</th>\n",
       "      <td id=\"T_5bb2e_row8_col0\" class=\"data row8 col0\" >0.6341</td>\n",
       "      <td id=\"T_5bb2e_row8_col1\" class=\"data row8 col1\" >0.6882</td>\n",
       "      <td id=\"T_5bb2e_row8_col2\" class=\"data row8 col2\" >0.6043</td>\n",
       "      <td id=\"T_5bb2e_row8_col3\" class=\"data row8 col3\" >0.6426</td>\n",
       "      <td id=\"T_5bb2e_row8_col4\" class=\"data row8 col4\" >0.6229</td>\n",
       "      <td id=\"T_5bb2e_row8_col5\" class=\"data row8 col5\" >0.2682</td>\n",
       "      <td id=\"T_5bb2e_row8_col6\" class=\"data row8 col6\" >0.2687</td>\n",
       "    </tr>\n",
       "    <tr>\n",
       "      <th id=\"T_5bb2e_level0_row9\" class=\"row_heading level0 row9\" >9</th>\n",
       "      <td id=\"T_5bb2e_row9_col0\" class=\"data row9 col0\" >0.6269</td>\n",
       "      <td id=\"T_5bb2e_row9_col1\" class=\"data row9 col1\" >0.6814</td>\n",
       "      <td id=\"T_5bb2e_row9_col2\" class=\"data row9 col2\" >0.6026</td>\n",
       "      <td id=\"T_5bb2e_row9_col3\" class=\"data row9 col3\" >0.6333</td>\n",
       "      <td id=\"T_5bb2e_row9_col4\" class=\"data row9 col4\" >0.6176</td>\n",
       "      <td id=\"T_5bb2e_row9_col5\" class=\"data row9 col5\" >0.2537</td>\n",
       "      <td id=\"T_5bb2e_row9_col6\" class=\"data row9 col6\" >0.2540</td>\n",
       "    </tr>\n",
       "    <tr>\n",
       "      <th id=\"T_5bb2e_level0_row10\" class=\"row_heading level0 row10\" >Mean</th>\n",
       "      <td id=\"T_5bb2e_row10_col0\" class=\"data row10 col0\" >0.6319</td>\n",
       "      <td id=\"T_5bb2e_row10_col1\" class=\"data row10 col1\" >0.6842</td>\n",
       "      <td id=\"T_5bb2e_row10_col2\" class=\"data row10 col2\" >0.6045</td>\n",
       "      <td id=\"T_5bb2e_row10_col3\" class=\"data row10 col3\" >0.6396</td>\n",
       "      <td id=\"T_5bb2e_row10_col4\" class=\"data row10 col4\" >0.6215</td>\n",
       "      <td id=\"T_5bb2e_row10_col5\" class=\"data row10 col5\" >0.2639</td>\n",
       "      <td id=\"T_5bb2e_row10_col6\" class=\"data row10 col6\" >0.2643</td>\n",
       "    </tr>\n",
       "    <tr>\n",
       "      <th id=\"T_5bb2e_level0_row11\" class=\"row_heading level0 row11\" >Std</th>\n",
       "      <td id=\"T_5bb2e_row11_col0\" class=\"data row11 col0\" >0.0028</td>\n",
       "      <td id=\"T_5bb2e_row11_col1\" class=\"data row11 col1\" >0.0023</td>\n",
       "      <td id=\"T_5bb2e_row11_col2\" class=\"data row11 col2\" >0.0031</td>\n",
       "      <td id=\"T_5bb2e_row11_col3\" class=\"data row11 col3\" >0.0033</td>\n",
       "      <td id=\"T_5bb2e_row11_col4\" class=\"data row11 col4\" >0.0028</td>\n",
       "      <td id=\"T_5bb2e_row11_col5\" class=\"data row11 col5\" >0.0057</td>\n",
       "      <td id=\"T_5bb2e_row11_col6\" class=\"data row11 col6\" >0.0057</td>\n",
       "    </tr>\n",
       "  </tbody>\n",
       "</table>\n"
      ],
      "text/plain": [
       "<pandas.io.formats.style.Styler at 0x7f46a4f04220>"
      ]
     },
     "metadata": {},
     "output_type": "display_data"
    },
    {
     "data": {
      "text/html": [],
      "text/plain": [
       "<IPython.core.display.HTML object>"
      ]
     },
     "metadata": {},
     "output_type": "display_data"
    }
   ],
   "source": [
    "nb = create_model('nb')"
   ]
  },
  {
   "cell_type": "code",
   "execution_count": 11,
   "metadata": {},
   "outputs": [
    {
     "data": {
      "text/html": [],
      "text/plain": [
       "<IPython.core.display.HTML object>"
      ]
     },
     "metadata": {},
     "output_type": "display_data"
    },
    {
     "data": {
      "image/png": "[encoded data removed]",
      "text/plain": [
       "<Figure size 800x550 with 1 Axes>"
      ]
     },
     "metadata": {},
     "output_type": "display_data"
    }
   ],
   "source": [
    "plot_model(nb, plot = 'confusion_matrix')"
   ]
  },
  {
   "cell_type": "code",
   "execution_count": 12,
   "metadata": {},
   "outputs": [
    {
     "data": {
      "text/html": [],
      "text/plain": [
       "<IPython.core.display.HTML object>"
      ]
     },
     "metadata": {},
     "output_type": "display_data"
    },
    {
     "data": {
      "image/png": "[encoded data removed]",
      "text/plain": [
       "<Figure size 800x550 with 1 Axes>"
      ]
     },
     "metadata": {},
     "output_type": "display_data"
    }
   ],
   "source": [
    "plot_model(nb, plot = 'error')"
   ]
  },
  {
   "cell_type": "code",
   "execution_count": 13,
   "metadata": {},
   "outputs": [
    {
     "data": {
      "text/html": [],
      "text/plain": [
       "<IPython.core.display.HTML object>"
      ]
     },
     "metadata": {},
     "output_type": "display_data"
    },
    {
     "data": {
      "text/html": [
       "<div>\n",
       "<style scoped>\n",
       "    .dataframe tbody tr th:only-of-type {\n",
       "        vertical-align: middle;\n",
       "    }\n",
       "\n",
       "    .dataframe tbody tr th {\n",
       "        vertical-align: top;\n",
       "    }\n",
       "\n",
       "    .dataframe thead th {\n",
       "        text-align: right;\n",
       "    }\n",
       "</style>\n",
       "<table border=\"1\" class=\"dataframe\">\n",
       "  <thead>\n",
       "    <tr style=\"text-align: right;\">\n",
       "      <th></th>\n",
       "      <th>Parameters</th>\n",
       "    </tr>\n",
       "  </thead>\n",
       "  <tbody>\n",
       "    <tr>\n",
       "      <th>priors</th>\n",
       "      <td>None</td>\n",
       "    </tr>\n",
       "    <tr>\n",
       "      <th>var_smoothing</th>\n",
       "      <td>1e-09</td>\n",
       "    </tr>\n",
       "  </tbody>\n",
       "</table>\n",
       "</div>"
      ],
      "text/plain": [
       "              Parameters\n",
       "priors              None\n",
       "var_smoothing      1e-09"
      ]
     },
     "metadata": {},
     "output_type": "display_data"
    }
   ],
   "source": [
    "plot_model(nb, plot = 'parameter')"
   ]
  },
  {
   "cell_type": "code",
   "execution_count": 14,
   "metadata": {},
   "outputs": [
    {
     "name": "stdout",
     "output_type": "stream",
     "text": [
      "Transformation Pipeline and Model Successfully Saved\n"
     ]
    },
    {
     "data": {
      "text/plain": [
       "(Pipeline(memory=FastMemory(location=/tmp/joblib),\n",
       "          steps=[('numerical_imputer',\n",
       "                  TransformerWrapper(exclude=None,\n",
       "                                     include=['0', '1', '2', '3', '4', '5', '6',\n",
       "                                              '7', '8', '9', '10', '11', '12',\n",
       "                                              '13', '14', '15', '16', '17', '18',\n",
       "                                              '19', '20', '21', '22', '23', '24',\n",
       "                                              '25', '26', '27', '28', '29', ...],\n",
       "                                     transformer=SimpleImputer(add_indicator=False,\n",
       "                                                               copy=True,\n",
       "                                                               fill_value=None,\n",
       "                                                               keep_empty_feat...\n",
       "                                                               missing_values=nan,\n",
       "                                                               strategy='mean',\n",
       "                                                               verbose='deprecated'))),\n",
       "                 ('categorical_imputer',\n",
       "                  TransformerWrapper(exclude=None, include=[],\n",
       "                                     transformer=SimpleImputer(add_indicator=False,\n",
       "                                                               copy=True,\n",
       "                                                               fill_value=None,\n",
       "                                                               keep_empty_features=False,\n",
       "                                                               missing_values=nan,\n",
       "                                                               strategy='most_frequent',\n",
       "                                                               verbose='deprecated'))),\n",
       "                 ('trained_model',\n",
       "                  GaussianNB(priors=None, var_smoothing=1e-09))],\n",
       "          verbose=False),\n",
       " 'models_classif/convkb/nb.pkl')"
      ]
     },
     "execution_count": 14,
     "metadata": {},
     "output_type": "execute_result"
    }
   ],
   "source": [
    "save_model(nb, 'models_classif/convkb/nb')"
   ]
  },
  {
   "cell_type": "markdown",
   "metadata": {},
   "source": [
    "# Decision Tree Classifier"
   ]
  },
  {
   "cell_type": "code",
   "execution_count": 15,
   "metadata": {},
   "outputs": [
    {
     "data": {
      "text/html": [],
      "text/plain": [
       "<IPython.core.display.HTML object>"
      ]
     },
     "metadata": {},
     "output_type": "display_data"
    },
    {
     "data": {
      "text/html": [
       "<style type=\"text/css\">\n",
       "#T_f53c4_row10_col0, #T_f53c4_row10_col1, #T_f53c4_row10_col2, #T_f53c4_row10_col3, #T_f53c4_row10_col4, #T_f53c4_row10_col5, #T_f53c4_row10_col6 {\n",
       "  background: yellow;\n",
       "}\n",
       "</style>\n",
       "<table id=\"T_f53c4\">\n",
       "  <thead>\n",
       "    <tr>\n",
       "      <th class=\"blank level0\" >&nbsp;</th>\n",
       "      <th id=\"T_f53c4_level0_col0\" class=\"col_heading level0 col0\" >Accuracy</th>\n",
       "      <th id=\"T_f53c4_level0_col1\" class=\"col_heading level0 col1\" >AUC</th>\n",
       "      <th id=\"T_f53c4_level0_col2\" class=\"col_heading level0 col2\" >Recall</th>\n",
       "      <th id=\"T_f53c4_level0_col3\" class=\"col_heading level0 col3\" >Prec.</th>\n",
       "      <th id=\"T_f53c4_level0_col4\" class=\"col_heading level0 col4\" >F1</th>\n",
       "      <th id=\"T_f53c4_level0_col5\" class=\"col_heading level0 col5\" >Kappa</th>\n",
       "      <th id=\"T_f53c4_level0_col6\" class=\"col_heading level0 col6\" >MCC</th>\n",
       "    </tr>\n",
       "    <tr>\n",
       "      <th class=\"index_name level0\" >Fold</th>\n",
       "      <th class=\"blank col0\" >&nbsp;</th>\n",
       "      <th class=\"blank col1\" >&nbsp;</th>\n",
       "      <th class=\"blank col2\" >&nbsp;</th>\n",
       "      <th class=\"blank col3\" >&nbsp;</th>\n",
       "      <th class=\"blank col4\" >&nbsp;</th>\n",
       "      <th class=\"blank col5\" >&nbsp;</th>\n",
       "      <th class=\"blank col6\" >&nbsp;</th>\n",
       "    </tr>\n",
       "  </thead>\n",
       "  <tbody>\n",
       "    <tr>\n",
       "      <th id=\"T_f53c4_level0_row0\" class=\"row_heading level0 row0\" >0</th>\n",
       "      <td id=\"T_f53c4_row0_col0\" class=\"data row0 col0\" >0.8441</td>\n",
       "      <td id=\"T_f53c4_row0_col1\" class=\"data row0 col1\" >0.8442</td>\n",
       "      <td id=\"T_f53c4_row0_col2\" class=\"data row0 col2\" >0.8439</td>\n",
       "      <td id=\"T_f53c4_row0_col3\" class=\"data row0 col3\" >0.8442</td>\n",
       "      <td id=\"T_f53c4_row0_col4\" class=\"data row0 col4\" >0.8441</td>\n",
       "      <td id=\"T_f53c4_row0_col5\" class=\"data row0 col5\" >0.6882</td>\n",
       "      <td id=\"T_f53c4_row0_col6\" class=\"data row0 col6\" >0.6882</td>\n",
       "    </tr>\n",
       "    <tr>\n",
       "      <th id=\"T_f53c4_level0_row1\" class=\"row_heading level0 row1\" >1</th>\n",
       "      <td id=\"T_f53c4_row1_col0\" class=\"data row1 col0\" >0.8394</td>\n",
       "      <td id=\"T_f53c4_row1_col1\" class=\"data row1 col1\" >0.8395</td>\n",
       "      <td id=\"T_f53c4_row1_col2\" class=\"data row1 col2\" >0.8420</td>\n",
       "      <td id=\"T_f53c4_row1_col3\" class=\"data row1 col3\" >0.8377</td>\n",
       "      <td id=\"T_f53c4_row1_col4\" class=\"data row1 col4\" >0.8398</td>\n",
       "      <td id=\"T_f53c4_row1_col5\" class=\"data row1 col5\" >0.6788</td>\n",
       "      <td id=\"T_f53c4_row1_col6\" class=\"data row1 col6\" >0.6788</td>\n",
       "    </tr>\n",
       "    <tr>\n",
       "      <th id=\"T_f53c4_level0_row2\" class=\"row_heading level0 row2\" >2</th>\n",
       "      <td id=\"T_f53c4_row2_col0\" class=\"data row2 col0\" >0.8430</td>\n",
       "      <td id=\"T_f53c4_row2_col1\" class=\"data row2 col1\" >0.8431</td>\n",
       "      <td id=\"T_f53c4_row2_col2\" class=\"data row2 col2\" >0.8420</td>\n",
       "      <td id=\"T_f53c4_row2_col3\" class=\"data row2 col3\" >0.8436</td>\n",
       "      <td id=\"T_f53c4_row2_col4\" class=\"data row2 col4\" >0.8428</td>\n",
       "      <td id=\"T_f53c4_row2_col5\" class=\"data row2 col5\" >0.6860</td>\n",
       "      <td id=\"T_f53c4_row2_col6\" class=\"data row2 col6\" >0.6860</td>\n",
       "    </tr>\n",
       "    <tr>\n",
       "      <th id=\"T_f53c4_level0_row3\" class=\"row_heading level0 row3\" >3</th>\n",
       "      <td id=\"T_f53c4_row3_col0\" class=\"data row3 col0\" >0.8434</td>\n",
       "      <td id=\"T_f53c4_row3_col1\" class=\"data row3 col1\" >0.8435</td>\n",
       "      <td id=\"T_f53c4_row3_col2\" class=\"data row3 col2\" >0.8480</td>\n",
       "      <td id=\"T_f53c4_row3_col3\" class=\"data row3 col3\" >0.8402</td>\n",
       "      <td id=\"T_f53c4_row3_col4\" class=\"data row3 col4\" >0.8441</td>\n",
       "      <td id=\"T_f53c4_row3_col5\" class=\"data row3 col5\" >0.6867</td>\n",
       "      <td id=\"T_f53c4_row3_col6\" class=\"data row3 col6\" >0.6867</td>\n",
       "    </tr>\n",
       "    <tr>\n",
       "      <th id=\"T_f53c4_level0_row4\" class=\"row_heading level0 row4\" >4</th>\n",
       "      <td id=\"T_f53c4_row4_col0\" class=\"data row4 col0\" >0.8425</td>\n",
       "      <td id=\"T_f53c4_row4_col1\" class=\"data row4 col1\" >0.8425</td>\n",
       "      <td id=\"T_f53c4_row4_col2\" class=\"data row4 col2\" >0.8415</td>\n",
       "      <td id=\"T_f53c4_row4_col3\" class=\"data row4 col3\" >0.8431</td>\n",
       "      <td id=\"T_f53c4_row4_col4\" class=\"data row4 col4\" >0.8423</td>\n",
       "      <td id=\"T_f53c4_row4_col5\" class=\"data row4 col5\" >0.6850</td>\n",
       "      <td id=\"T_f53c4_row4_col6\" class=\"data row4 col6\" >0.6850</td>\n",
       "    </tr>\n",
       "    <tr>\n",
       "      <th id=\"T_f53c4_level0_row5\" class=\"row_heading level0 row5\" >5</th>\n",
       "      <td id=\"T_f53c4_row5_col0\" class=\"data row5 col0\" >0.8430</td>\n",
       "      <td id=\"T_f53c4_row5_col1\" class=\"data row5 col1\" >0.8431</td>\n",
       "      <td id=\"T_f53c4_row5_col2\" class=\"data row5 col2\" >0.8441</td>\n",
       "      <td id=\"T_f53c4_row5_col3\" class=\"data row5 col3\" >0.8423</td>\n",
       "      <td id=\"T_f53c4_row5_col4\" class=\"data row5 col4\" >0.8432</td>\n",
       "      <td id=\"T_f53c4_row5_col5\" class=\"data row5 col5\" >0.6860</td>\n",
       "      <td id=\"T_f53c4_row5_col6\" class=\"data row5 col6\" >0.6860</td>\n",
       "    </tr>\n",
       "    <tr>\n",
       "      <th id=\"T_f53c4_level0_row6\" class=\"row_heading level0 row6\" >6</th>\n",
       "      <td id=\"T_f53c4_row6_col0\" class=\"data row6 col0\" >0.8414</td>\n",
       "      <td id=\"T_f53c4_row6_col1\" class=\"data row6 col1\" >0.8415</td>\n",
       "      <td id=\"T_f53c4_row6_col2\" class=\"data row6 col2\" >0.8435</td>\n",
       "      <td id=\"T_f53c4_row6_col3\" class=\"data row6 col3\" >0.8401</td>\n",
       "      <td id=\"T_f53c4_row6_col4\" class=\"data row6 col4\" >0.8418</td>\n",
       "      <td id=\"T_f53c4_row6_col5\" class=\"data row6 col5\" >0.6829</td>\n",
       "      <td id=\"T_f53c4_row6_col6\" class=\"data row6 col6\" >0.6829</td>\n",
       "    </tr>\n",
       "    <tr>\n",
       "      <th id=\"T_f53c4_level0_row7\" class=\"row_heading level0 row7\" >7</th>\n",
       "      <td id=\"T_f53c4_row7_col0\" class=\"data row7 col0\" >0.8402</td>\n",
       "      <td id=\"T_f53c4_row7_col1\" class=\"data row7 col1\" >0.8402</td>\n",
       "      <td id=\"T_f53c4_row7_col2\" class=\"data row7 col2\" >0.8439</td>\n",
       "      <td id=\"T_f53c4_row7_col3\" class=\"data row7 col3\" >0.8376</td>\n",
       "      <td id=\"T_f53c4_row7_col4\" class=\"data row7 col4\" >0.8408</td>\n",
       "      <td id=\"T_f53c4_row7_col5\" class=\"data row7 col5\" >0.6804</td>\n",
       "      <td id=\"T_f53c4_row7_col6\" class=\"data row7 col6\" >0.6804</td>\n",
       "    </tr>\n",
       "    <tr>\n",
       "      <th id=\"T_f53c4_level0_row8\" class=\"row_heading level0 row8\" >8</th>\n",
       "      <td id=\"T_f53c4_row8_col0\" class=\"data row8 col0\" >0.8426</td>\n",
       "      <td id=\"T_f53c4_row8_col1\" class=\"data row8 col1\" >0.8427</td>\n",
       "      <td id=\"T_f53c4_row8_col2\" class=\"data row8 col2\" >0.8418</td>\n",
       "      <td id=\"T_f53c4_row8_col3\" class=\"data row8 col3\" >0.8432</td>\n",
       "      <td id=\"T_f53c4_row8_col4\" class=\"data row8 col4\" >0.8425</td>\n",
       "      <td id=\"T_f53c4_row8_col5\" class=\"data row8 col5\" >0.6852</td>\n",
       "      <td id=\"T_f53c4_row8_col6\" class=\"data row8 col6\" >0.6852</td>\n",
       "    </tr>\n",
       "    <tr>\n",
       "      <th id=\"T_f53c4_level0_row9\" class=\"row_heading level0 row9\" >9</th>\n",
       "      <td id=\"T_f53c4_row9_col0\" class=\"data row9 col0\" >0.8423</td>\n",
       "      <td id=\"T_f53c4_row9_col1\" class=\"data row9 col1\" >0.8424</td>\n",
       "      <td id=\"T_f53c4_row9_col2\" class=\"data row9 col2\" >0.8448</td>\n",
       "      <td id=\"T_f53c4_row9_col3\" class=\"data row9 col3\" >0.8406</td>\n",
       "      <td id=\"T_f53c4_row9_col4\" class=\"data row9 col4\" >0.8427</td>\n",
       "      <td id=\"T_f53c4_row9_col5\" class=\"data row9 col5\" >0.6847</td>\n",
       "      <td id=\"T_f53c4_row9_col6\" class=\"data row9 col6\" >0.6847</td>\n",
       "    </tr>\n",
       "    <tr>\n",
       "      <th id=\"T_f53c4_level0_row10\" class=\"row_heading level0 row10\" >Mean</th>\n",
       "      <td id=\"T_f53c4_row10_col0\" class=\"data row10 col0\" >0.8422</td>\n",
       "      <td id=\"T_f53c4_row10_col1\" class=\"data row10 col1\" >0.8423</td>\n",
       "      <td id=\"T_f53c4_row10_col2\" class=\"data row10 col2\" >0.8436</td>\n",
       "      <td id=\"T_f53c4_row10_col3\" class=\"data row10 col3\" >0.8413</td>\n",
       "      <td id=\"T_f53c4_row10_col4\" class=\"data row10 col4\" >0.8424</td>\n",
       "      <td id=\"T_f53c4_row10_col5\" class=\"data row10 col5\" >0.6844</td>\n",
       "      <td id=\"T_f53c4_row10_col6\" class=\"data row10 col6\" >0.6844</td>\n",
       "    </tr>\n",
       "    <tr>\n",
       "      <th id=\"T_f53c4_level0_row11\" class=\"row_heading level0 row11\" >Std</th>\n",
       "      <td id=\"T_f53c4_row11_col0\" class=\"data row11 col0\" >0.0014</td>\n",
       "      <td id=\"T_f53c4_row11_col1\" class=\"data row11 col1\" >0.0014</td>\n",
       "      <td id=\"T_f53c4_row11_col2\" class=\"data row11 col2\" >0.0018</td>\n",
       "      <td id=\"T_f53c4_row11_col3\" class=\"data row11 col3\" >0.0023</td>\n",
       "      <td id=\"T_f53c4_row11_col4\" class=\"data row11 col4\" >0.0013</td>\n",
       "      <td id=\"T_f53c4_row11_col5\" class=\"data row11 col5\" >0.0027</td>\n",
       "      <td id=\"T_f53c4_row11_col6\" class=\"data row11 col6\" >0.0027</td>\n",
       "    </tr>\n",
       "  </tbody>\n",
       "</table>\n"
      ],
      "text/plain": [
       "<pandas.io.formats.style.Styler at 0x7f4571c8fdc0>"
      ]
     },
     "metadata": {},
     "output_type": "display_data"
    },
    {
     "data": {
      "text/html": [],
      "text/plain": [
       "<IPython.core.display.HTML object>"
      ]
     },
     "metadata": {},
     "output_type": "display_data"
    }
   ],
   "source": [
    "dt = create_model('dt')"
   ]
  },
  {
   "cell_type": "code",
   "execution_count": 16,
   "metadata": {},
   "outputs": [
    {
     "data": {
      "text/html": [],
      "text/plain": [
       "<IPython.core.display.HTML object>"
      ]
     },
     "metadata": {},
     "output_type": "display_data"
    },
    {
     "data": {
      "image/png": "[encoded data removed]",
      "text/plain": [
       "<Figure size 800x550 with 1 Axes>"
      ]
     },
     "metadata": {},
     "output_type": "display_data"
    }
   ],
   "source": [
    "plot_model(dt, plot = 'confusion_matrix')"
   ]
  },
  {
   "cell_type": "code",
   "execution_count": 17,
   "metadata": {},
   "outputs": [
    {
     "data": {
      "text/html": [],
      "text/plain": [
       "<IPython.core.display.HTML object>"
      ]
     },
     "metadata": {},
     "output_type": "display_data"
    },
    {
     "data": {
      "image/png": "[encoded data removed]",
      "text/plain": [
       "<Figure size 800x550 with 1 Axes>"
      ]
     },
     "metadata": {},
     "output_type": "display_data"
    }
   ],
   "source": [
    "plot_model(dt, plot = 'error')"
   ]
  },
  {
   "cell_type": "code",
   "execution_count": 18,
   "metadata": {},
   "outputs": [
    {
     "data": {
      "text/html": [],
      "text/plain": [
       "<IPython.core.display.HTML object>"
      ]
     },
     "metadata": {},
     "output_type": "display_data"
    },
    {
     "data": {
      "text/html": [
       "<div>\n",
       "<style scoped>\n",
       "    .dataframe tbody tr th:only-of-type {\n",
       "        vertical-align: middle;\n",
       "    }\n",
       "\n",
       "    .dataframe tbody tr th {\n",
       "        vertical-align: top;\n",
       "    }\n",
       "\n",
       "    .dataframe thead th {\n",
       "        text-align: right;\n",
       "    }\n",
       "</style>\n",
       "<table border=\"1\" class=\"dataframe\">\n",
       "  <thead>\n",
       "    <tr style=\"text-align: right;\">\n",
       "      <th></th>\n",
       "      <th>Parameters</th>\n",
       "    </tr>\n",
       "  </thead>\n",
       "  <tbody>\n",
       "    <tr>\n",
       "      <th>ccp_alpha</th>\n",
       "      <td>0.0</td>\n",
       "    </tr>\n",
       "    <tr>\n",
       "      <th>class_weight</th>\n",
       "      <td>None</td>\n",
       "    </tr>\n",
       "    <tr>\n",
       "      <th>criterion</th>\n",
       "      <td>gini</td>\n",
       "    </tr>\n",
       "    <tr>\n",
       "      <th>max_depth</th>\n",
       "      <td>None</td>\n",
       "    </tr>\n",
       "    <tr>\n",
       "      <th>max_features</th>\n",
       "      <td>None</td>\n",
       "    </tr>\n",
       "    <tr>\n",
       "      <th>max_leaf_nodes</th>\n",
       "      <td>None</td>\n",
       "    </tr>\n",
       "    <tr>\n",
       "      <th>min_impurity_decrease</th>\n",
       "      <td>0.0</td>\n",
       "    </tr>\n",
       "    <tr>\n",
       "      <th>min_samples_leaf</th>\n",
       "      <td>1</td>\n",
       "    </tr>\n",
       "    <tr>\n",
       "      <th>min_samples_split</th>\n",
       "      <td>2</td>\n",
       "    </tr>\n",
       "    <tr>\n",
       "      <th>min_weight_fraction_leaf</th>\n",
       "      <td>0.0</td>\n",
       "    </tr>\n",
       "    <tr>\n",
       "      <th>random_state</th>\n",
       "      <td>5892</td>\n",
       "    </tr>\n",
       "    <tr>\n",
       "      <th>splitter</th>\n",
       "      <td>best</td>\n",
       "    </tr>\n",
       "  </tbody>\n",
       "</table>\n",
       "</div>"
      ],
      "text/plain": [
       "                         Parameters\n",
       "ccp_alpha                       0.0\n",
       "class_weight                   None\n",
       "criterion                      gini\n",
       "max_depth                      None\n",
       "max_features                   None\n",
       "max_leaf_nodes                 None\n",
       "min_impurity_decrease           0.0\n",
       "min_samples_leaf                  1\n",
       "min_samples_split                 2\n",
       "min_weight_fraction_leaf        0.0\n",
       "random_state                   5892\n",
       "splitter                       best"
      ]
     },
     "metadata": {},
     "output_type": "display_data"
    }
   ],
   "source": [
    "plot_model(dt, plot = 'parameter')"
   ]
  },
  {
   "cell_type": "code",
   "execution_count": 19,
   "metadata": {},
   "outputs": [
    {
     "name": "stdout",
     "output_type": "stream",
     "text": [
      "Transformation Pipeline and Model Successfully Saved\n"
     ]
    },
    {
     "data": {
      "text/plain": [
       "(Pipeline(memory=FastMemory(location=/tmp/joblib),\n",
       "          steps=[('numerical_imputer',\n",
       "                  TransformerWrapper(exclude=None,\n",
       "                                     include=['0', '1', '2', '3', '4', '5', '6',\n",
       "                                              '7', '8', '9', '10', '11', '12',\n",
       "                                              '13', '14', '15', '16', '17', '18',\n",
       "                                              '19', '20', '21', '22', '23', '24',\n",
       "                                              '25', '26', '27', '28', '29', ...],\n",
       "                                     transformer=SimpleImputer(add_indicator=False,\n",
       "                                                               copy=True,\n",
       "                                                               fill_value=None,\n",
       "                                                               keep_empty_feat...\n",
       "                                                               missing_values=nan,\n",
       "                                                               strategy='most_frequent',\n",
       "                                                               verbose='deprecated'))),\n",
       "                 ('trained_model',\n",
       "                  DecisionTreeClassifier(ccp_alpha=0.0, class_weight=None,\n",
       "                                         criterion='gini', max_depth=None,\n",
       "                                         max_features=None, max_leaf_nodes=None,\n",
       "                                         min_impurity_decrease=0.0,\n",
       "                                         min_samples_leaf=1, min_samples_split=2,\n",
       "                                         min_weight_fraction_leaf=0.0,\n",
       "                                         random_state=5892, splitter='best'))],\n",
       "          verbose=False),\n",
       " 'models_classif/convkb/dt.pkl')"
      ]
     },
     "execution_count": 19,
     "metadata": {},
     "output_type": "execute_result"
    }
   ],
   "source": [
    "save_model(dt, 'models_classif/convkb/dt')"
   ]
  },
  {
   "cell_type": "markdown",
   "metadata": {},
   "source": [
    "# SVM - Linear Kernel"
   ]
  },
  {
   "cell_type": "code",
   "execution_count": 20,
   "metadata": {},
   "outputs": [
    {
     "data": {
      "text/html": [],
      "text/plain": [
       "<IPython.core.display.HTML object>"
      ]
     },
     "metadata": {},
     "output_type": "display_data"
    },
    {
     "data": {
      "text/html": [
       "<style type=\"text/css\">\n",
       "#T_70c4d_row10_col0, #T_70c4d_row10_col1, #T_70c4d_row10_col2, #T_70c4d_row10_col3, #T_70c4d_row10_col4, #T_70c4d_row10_col5, #T_70c4d_row10_col6 {\n",
       "  background: yellow;\n",
       "}\n",
       "</style>\n",
       "<table id=\"T_70c4d\">\n",
       "  <thead>\n",
       "    <tr>\n",
       "      <th class=\"blank level0\" >&nbsp;</th>\n",
       "      <th id=\"T_70c4d_level0_col0\" class=\"col_heading level0 col0\" >Accuracy</th>\n",
       "      <th id=\"T_70c4d_level0_col1\" class=\"col_heading level0 col1\" >AUC</th>\n",
       "      <th id=\"T_70c4d_level0_col2\" class=\"col_heading level0 col2\" >Recall</th>\n",
       "      <th id=\"T_70c4d_level0_col3\" class=\"col_heading level0 col3\" >Prec.</th>\n",
       "      <th id=\"T_70c4d_level0_col4\" class=\"col_heading level0 col4\" >F1</th>\n",
       "      <th id=\"T_70c4d_level0_col5\" class=\"col_heading level0 col5\" >Kappa</th>\n",
       "      <th id=\"T_70c4d_level0_col6\" class=\"col_heading level0 col6\" >MCC</th>\n",
       "    </tr>\n",
       "    <tr>\n",
       "      <th class=\"index_name level0\" >Fold</th>\n",
       "      <th class=\"blank col0\" >&nbsp;</th>\n",
       "      <th class=\"blank col1\" >&nbsp;</th>\n",
       "      <th class=\"blank col2\" >&nbsp;</th>\n",
       "      <th class=\"blank col3\" >&nbsp;</th>\n",
       "      <th class=\"blank col4\" >&nbsp;</th>\n",
       "      <th class=\"blank col5\" >&nbsp;</th>\n",
       "      <th class=\"blank col6\" >&nbsp;</th>\n",
       "    </tr>\n",
       "  </thead>\n",
       "  <tbody>\n",
       "    <tr>\n",
       "      <th id=\"T_70c4d_level0_row0\" class=\"row_heading level0 row0\" >0</th>\n",
       "      <td id=\"T_70c4d_row0_col0\" class=\"data row0 col0\" >0.7259</td>\n",
       "      <td id=\"T_70c4d_row0_col1\" class=\"data row0 col1\" >0.0000</td>\n",
       "      <td id=\"T_70c4d_row0_col2\" class=\"data row0 col2\" >0.7840</td>\n",
       "      <td id=\"T_70c4d_row0_col3\" class=\"data row0 col3\" >0.7024</td>\n",
       "      <td id=\"T_70c4d_row0_col4\" class=\"data row0 col4\" >0.7410</td>\n",
       "      <td id=\"T_70c4d_row0_col5\" class=\"data row0 col5\" >0.4518</td>\n",
       "      <td id=\"T_70c4d_row0_col6\" class=\"data row0 col6\" >0.4549</td>\n",
       "    </tr>\n",
       "    <tr>\n",
       "      <th id=\"T_70c4d_level0_row1\" class=\"row_heading level0 row1\" >1</th>\n",
       "      <td id=\"T_70c4d_row1_col0\" class=\"data row1 col0\" >0.7226</td>\n",
       "      <td id=\"T_70c4d_row1_col1\" class=\"data row1 col1\" >0.0000</td>\n",
       "      <td id=\"T_70c4d_row1_col2\" class=\"data row1 col2\" >0.7788</td>\n",
       "      <td id=\"T_70c4d_row1_col3\" class=\"data row1 col3\" >0.7001</td>\n",
       "      <td id=\"T_70c4d_row1_col4\" class=\"data row1 col4\" >0.7373</td>\n",
       "      <td id=\"T_70c4d_row1_col5\" class=\"data row1 col5\" >0.4451</td>\n",
       "      <td id=\"T_70c4d_row1_col6\" class=\"data row1 col6\" >0.4479</td>\n",
       "    </tr>\n",
       "    <tr>\n",
       "      <th id=\"T_70c4d_level0_row2\" class=\"row_heading level0 row2\" >2</th>\n",
       "      <td id=\"T_70c4d_row2_col0\" class=\"data row2 col0\" >0.7151</td>\n",
       "      <td id=\"T_70c4d_row2_col1\" class=\"data row2 col1\" >0.0000</td>\n",
       "      <td id=\"T_70c4d_row2_col2\" class=\"data row2 col2\" >0.7500</td>\n",
       "      <td id=\"T_70c4d_row2_col3\" class=\"data row2 col3\" >0.7011</td>\n",
       "      <td id=\"T_70c4d_row2_col4\" class=\"data row2 col4\" >0.7247</td>\n",
       "      <td id=\"T_70c4d_row2_col5\" class=\"data row2 col5\" >0.4302</td>\n",
       "      <td id=\"T_70c4d_row2_col6\" class=\"data row2 col6\" >0.4313</td>\n",
       "    </tr>\n",
       "    <tr>\n",
       "      <th id=\"T_70c4d_level0_row3\" class=\"row_heading level0 row3\" >3</th>\n",
       "      <td id=\"T_70c4d_row3_col0\" class=\"data row3 col0\" >0.7192</td>\n",
       "      <td id=\"T_70c4d_row3_col1\" class=\"data row3 col1\" >0.0000</td>\n",
       "      <td id=\"T_70c4d_row3_col2\" class=\"data row3 col2\" >0.7658</td>\n",
       "      <td id=\"T_70c4d_row3_col3\" class=\"data row3 col3\" >0.7005</td>\n",
       "      <td id=\"T_70c4d_row3_col4\" class=\"data row3 col4\" >0.7317</td>\n",
       "      <td id=\"T_70c4d_row3_col5\" class=\"data row3 col5\" >0.4384</td>\n",
       "      <td id=\"T_70c4d_row3_col6\" class=\"data row3 col6\" >0.4403</td>\n",
       "    </tr>\n",
       "    <tr>\n",
       "      <th id=\"T_70c4d_level0_row4\" class=\"row_heading level0 row4\" >4</th>\n",
       "      <td id=\"T_70c4d_row4_col0\" class=\"data row4 col0\" >0.7180</td>\n",
       "      <td id=\"T_70c4d_row4_col1\" class=\"data row4 col1\" >0.0000</td>\n",
       "      <td id=\"T_70c4d_row4_col2\" class=\"data row4 col2\" >0.7454</td>\n",
       "      <td id=\"T_70c4d_row4_col3\" class=\"data row4 col3\" >0.7067</td>\n",
       "      <td id=\"T_70c4d_row4_col4\" class=\"data row4 col4\" >0.7255</td>\n",
       "      <td id=\"T_70c4d_row4_col5\" class=\"data row4 col5\" >0.4360</td>\n",
       "      <td id=\"T_70c4d_row4_col6\" class=\"data row4 col6\" >0.4366</td>\n",
       "    </tr>\n",
       "    <tr>\n",
       "      <th id=\"T_70c4d_level0_row5\" class=\"row_heading level0 row5\" >5</th>\n",
       "      <td id=\"T_70c4d_row5_col0\" class=\"data row5 col0\" >0.7209</td>\n",
       "      <td id=\"T_70c4d_row5_col1\" class=\"data row5 col1\" >0.0000</td>\n",
       "      <td id=\"T_70c4d_row5_col2\" class=\"data row5 col2\" >0.7755</td>\n",
       "      <td id=\"T_70c4d_row5_col3\" class=\"data row5 col3\" >0.6992</td>\n",
       "      <td id=\"T_70c4d_row5_col4\" class=\"data row5 col4\" >0.7354</td>\n",
       "      <td id=\"T_70c4d_row5_col5\" class=\"data row5 col5\" >0.4419</td>\n",
       "      <td id=\"T_70c4d_row5_col6\" class=\"data row5 col6\" >0.4445</td>\n",
       "    </tr>\n",
       "    <tr>\n",
       "      <th id=\"T_70c4d_level0_row6\" class=\"row_heading level0 row6\" >6</th>\n",
       "      <td id=\"T_70c4d_row6_col0\" class=\"data row6 col0\" >0.7183</td>\n",
       "      <td id=\"T_70c4d_row6_col1\" class=\"data row6 col1\" >0.0000</td>\n",
       "      <td id=\"T_70c4d_row6_col2\" class=\"data row6 col2\" >0.7718</td>\n",
       "      <td id=\"T_70c4d_row6_col3\" class=\"data row6 col3\" >0.6972</td>\n",
       "      <td id=\"T_70c4d_row6_col4\" class=\"data row6 col4\" >0.7326</td>\n",
       "      <td id=\"T_70c4d_row6_col5\" class=\"data row6 col5\" >0.4367</td>\n",
       "      <td id=\"T_70c4d_row6_col6\" class=\"data row6 col6\" >0.4392</td>\n",
       "    </tr>\n",
       "    <tr>\n",
       "      <th id=\"T_70c4d_level0_row7\" class=\"row_heading level0 row7\" >7</th>\n",
       "      <td id=\"T_70c4d_row7_col0\" class=\"data row7 col0\" >0.7185</td>\n",
       "      <td id=\"T_70c4d_row7_col1\" class=\"data row7 col1\" >0.0000</td>\n",
       "      <td id=\"T_70c4d_row7_col2\" class=\"data row7 col2\" >0.7813</td>\n",
       "      <td id=\"T_70c4d_row7_col3\" class=\"data row7 col3\" >0.6941</td>\n",
       "      <td id=\"T_70c4d_row7_col4\" class=\"data row7 col4\" >0.7351</td>\n",
       "      <td id=\"T_70c4d_row7_col5\" class=\"data row7 col5\" >0.4370</td>\n",
       "      <td id=\"T_70c4d_row7_col6\" class=\"data row7 col6\" >0.4405</td>\n",
       "    </tr>\n",
       "    <tr>\n",
       "      <th id=\"T_70c4d_level0_row8\" class=\"row_heading level0 row8\" >8</th>\n",
       "      <td id=\"T_70c4d_row8_col0\" class=\"data row8 col0\" >0.7147</td>\n",
       "      <td id=\"T_70c4d_row8_col1\" class=\"data row8 col1\" >0.0000</td>\n",
       "      <td id=\"T_70c4d_row8_col2\" class=\"data row8 col2\" >0.7722</td>\n",
       "      <td id=\"T_70c4d_row8_col3\" class=\"data row8 col3\" >0.6925</td>\n",
       "      <td id=\"T_70c4d_row8_col4\" class=\"data row8 col4\" >0.7302</td>\n",
       "      <td id=\"T_70c4d_row8_col5\" class=\"data row8 col5\" >0.4294</td>\n",
       "      <td id=\"T_70c4d_row8_col6\" class=\"data row8 col6\" >0.4323</td>\n",
       "    </tr>\n",
       "    <tr>\n",
       "      <th id=\"T_70c4d_level0_row9\" class=\"row_heading level0 row9\" >9</th>\n",
       "      <td id=\"T_70c4d_row9_col0\" class=\"data row9 col0\" >0.7144</td>\n",
       "      <td id=\"T_70c4d_row9_col1\" class=\"data row9 col1\" >0.0000</td>\n",
       "      <td id=\"T_70c4d_row9_col2\" class=\"data row9 col2\" >0.7657</td>\n",
       "      <td id=\"T_70c4d_row9_col3\" class=\"data row9 col3\" >0.6945</td>\n",
       "      <td id=\"T_70c4d_row9_col4\" class=\"data row9 col4\" >0.7283</td>\n",
       "      <td id=\"T_70c4d_row9_col5\" class=\"data row9 col5\" >0.4289</td>\n",
       "      <td id=\"T_70c4d_row9_col6\" class=\"data row9 col6\" >0.4311</td>\n",
       "    </tr>\n",
       "    <tr>\n",
       "      <th id=\"T_70c4d_level0_row10\" class=\"row_heading level0 row10\" >Mean</th>\n",
       "      <td id=\"T_70c4d_row10_col0\" class=\"data row10 col0\" >0.7188</td>\n",
       "      <td id=\"T_70c4d_row10_col1\" class=\"data row10 col1\" >0.0000</td>\n",
       "      <td id=\"T_70c4d_row10_col2\" class=\"data row10 col2\" >0.7690</td>\n",
       "      <td id=\"T_70c4d_row10_col3\" class=\"data row10 col3\" >0.6988</td>\n",
       "      <td id=\"T_70c4d_row10_col4\" class=\"data row10 col4\" >0.7322</td>\n",
       "      <td id=\"T_70c4d_row10_col5\" class=\"data row10 col5\" >0.4375</td>\n",
       "      <td id=\"T_70c4d_row10_col6\" class=\"data row10 col6\" >0.4399</td>\n",
       "    </tr>\n",
       "    <tr>\n",
       "      <th id=\"T_70c4d_level0_row11\" class=\"row_heading level0 row11\" >Std</th>\n",
       "      <td id=\"T_70c4d_row11_col0\" class=\"data row11 col0\" >0.0035</td>\n",
       "      <td id=\"T_70c4d_row11_col1\" class=\"data row11 col1\" >0.0000</td>\n",
       "      <td id=\"T_70c4d_row11_col2\" class=\"data row11 col2\" >0.0121</td>\n",
       "      <td id=\"T_70c4d_row11_col3\" class=\"data row11 col3\" >0.0041</td>\n",
       "      <td id=\"T_70c4d_row11_col4\" class=\"data row11 col4\" >0.0049</td>\n",
       "      <td id=\"T_70c4d_row11_col5\" class=\"data row11 col5\" >0.0069</td>\n",
       "      <td id=\"T_70c4d_row11_col6\" class=\"data row11 col6\" >0.0073</td>\n",
       "    </tr>\n",
       "  </tbody>\n",
       "</table>\n"
      ],
      "text/plain": [
       "<pandas.io.formats.style.Styler at 0x7f4571c8c5b0>"
      ]
     },
     "metadata": {},
     "output_type": "display_data"
    },
    {
     "data": {
      "text/html": [],
      "text/plain": [
       "<IPython.core.display.HTML object>"
      ]
     },
     "metadata": {},
     "output_type": "display_data"
    }
   ],
   "source": [
    "svm = create_model('svm')"
   ]
  },
  {
   "cell_type": "code",
   "execution_count": 21,
   "metadata": {},
   "outputs": [
    {
     "data": {
      "text/html": [],
      "text/plain": [
       "<IPython.core.display.HTML object>"
      ]
     },
     "metadata": {},
     "output_type": "display_data"
    },
    {
     "data": {
      "image/png": "[encoded data removed]",
      "text/plain": [
       "<Figure size 800x550 with 1 Axes>"
      ]
     },
     "metadata": {},
     "output_type": "display_data"
    }
   ],
   "source": [
    "plot_model(svm, plot = 'confusion_matrix')"
   ]
  },
  {
   "cell_type": "code",
   "execution_count": 22,
   "metadata": {},
   "outputs": [
    {
     "data": {
      "text/html": [],
      "text/plain": [
       "<IPython.core.display.HTML object>"
      ]
     },
     "metadata": {},
     "output_type": "display_data"
    },
    {
     "data": {
      "image/png": "[encoded data removed]",
      "text/plain": [
       "<Figure size 800x550 with 1 Axes>"
      ]
     },
     "metadata": {},
     "output_type": "display_data"
    }
   ],
   "source": [
    "plot_model(svm, plot = 'error')"
   ]
  },
  {
   "cell_type": "code",
   "execution_count": 23,
   "metadata": {},
   "outputs": [
    {
     "data": {
      "text/html": [],
      "text/plain": [
       "<IPython.core.display.HTML object>"
      ]
     },
     "metadata": {},
     "output_type": "display_data"
    },
    {
     "data": {
      "text/html": [
       "<div>\n",
       "<style scoped>\n",
       "    .dataframe tbody tr th:only-of-type {\n",
       "        vertical-align: middle;\n",
       "    }\n",
       "\n",
       "    .dataframe tbody tr th {\n",
       "        vertical-align: top;\n",
       "    }\n",
       "\n",
       "    .dataframe thead th {\n",
       "        text-align: right;\n",
       "    }\n",
       "</style>\n",
       "<table border=\"1\" class=\"dataframe\">\n",
       "  <thead>\n",
       "    <tr style=\"text-align: right;\">\n",
       "      <th></th>\n",
       "      <th>Parameters</th>\n",
       "    </tr>\n",
       "  </thead>\n",
       "  <tbody>\n",
       "    <tr>\n",
       "      <th>alpha</th>\n",
       "      <td>0.0001</td>\n",
       "    </tr>\n",
       "    <tr>\n",
       "      <th>average</th>\n",
       "      <td>False</td>\n",
       "    </tr>\n",
       "    <tr>\n",
       "      <th>class_weight</th>\n",
       "      <td>None</td>\n",
       "    </tr>\n",
       "    <tr>\n",
       "      <th>early_stopping</th>\n",
       "      <td>False</td>\n",
       "    </tr>\n",
       "    <tr>\n",
       "      <th>epsilon</th>\n",
       "      <td>0.1</td>\n",
       "    </tr>\n",
       "    <tr>\n",
       "      <th>eta0</th>\n",
       "      <td>0.001</td>\n",
       "    </tr>\n",
       "    <tr>\n",
       "      <th>fit_intercept</th>\n",
       "      <td>True</td>\n",
       "    </tr>\n",
       "    <tr>\n",
       "      <th>l1_ratio</th>\n",
       "      <td>0.15</td>\n",
       "    </tr>\n",
       "    <tr>\n",
       "      <th>learning_rate</th>\n",
       "      <td>optimal</td>\n",
       "    </tr>\n",
       "    <tr>\n",
       "      <th>loss</th>\n",
       "      <td>hinge</td>\n",
       "    </tr>\n",
       "    <tr>\n",
       "      <th>max_iter</th>\n",
       "      <td>1000</td>\n",
       "    </tr>\n",
       "    <tr>\n",
       "      <th>n_iter_no_change</th>\n",
       "      <td>5</td>\n",
       "    </tr>\n",
       "    <tr>\n",
       "      <th>n_jobs</th>\n",
       "      <td>-1</td>\n",
       "    </tr>\n",
       "    <tr>\n",
       "      <th>penalty</th>\n",
       "      <td>l2</td>\n",
       "    </tr>\n",
       "    <tr>\n",
       "      <th>power_t</th>\n",
       "      <td>0.5</td>\n",
       "    </tr>\n",
       "    <tr>\n",
       "      <th>random_state</th>\n",
       "      <td>5892</td>\n",
       "    </tr>\n",
       "    <tr>\n",
       "      <th>shuffle</th>\n",
       "      <td>True</td>\n",
       "    </tr>\n",
       "    <tr>\n",
       "      <th>tol</th>\n",
       "      <td>0.001</td>\n",
       "    </tr>\n",
       "    <tr>\n",
       "      <th>validation_fraction</th>\n",
       "      <td>0.1</td>\n",
       "    </tr>\n",
       "    <tr>\n",
       "      <th>verbose</th>\n",
       "      <td>0</td>\n",
       "    </tr>\n",
       "    <tr>\n",
       "      <th>warm_start</th>\n",
       "      <td>False</td>\n",
       "    </tr>\n",
       "  </tbody>\n",
       "</table>\n",
       "</div>"
      ],
      "text/plain": [
       "                    Parameters\n",
       "alpha                   0.0001\n",
       "average                  False\n",
       "class_weight              None\n",
       "early_stopping           False\n",
       "epsilon                    0.1\n",
       "eta0                     0.001\n",
       "fit_intercept             True\n",
       "l1_ratio                  0.15\n",
       "learning_rate          optimal\n",
       "loss                     hinge\n",
       "max_iter                  1000\n",
       "n_iter_no_change             5\n",
       "n_jobs                      -1\n",
       "penalty                     l2\n",
       "power_t                    0.5\n",
       "random_state              5892\n",
       "shuffle                   True\n",
       "tol                      0.001\n",
       "validation_fraction        0.1\n",
       "verbose                      0\n",
       "warm_start               False"
      ]
     },
     "metadata": {},
     "output_type": "display_data"
    }
   ],
   "source": [
    "plot_model(svm, plot = 'parameter')"
   ]
  },
  {
   "cell_type": "code",
   "execution_count": 24,
   "metadata": {},
   "outputs": [
    {
     "name": "stdout",
     "output_type": "stream",
     "text": [
      "Transformation Pipeline and Model Successfully Saved\n"
     ]
    },
    {
     "data": {
      "text/plain": [
       "(Pipeline(memory=FastMemory(location=/tmp/joblib),\n",
       "          steps=[('numerical_imputer',\n",
       "                  TransformerWrapper(exclude=None,\n",
       "                                     include=['0', '1', '2', '3', '4', '5', '6',\n",
       "                                              '7', '8', '9', '10', '11', '12',\n",
       "                                              '13', '14', '15', '16', '17', '18',\n",
       "                                              '19', '20', '21', '22', '23', '24',\n",
       "                                              '25', '26', '27', '28', '29', ...],\n",
       "                                     transformer=SimpleImputer(add_indicator=False,\n",
       "                                                               copy=True,\n",
       "                                                               fill_value=None,\n",
       "                                                               keep_empty_feat...\n",
       "                  SGDClassifier(alpha=0.0001, average=False, class_weight=None,\n",
       "                                early_stopping=False, epsilon=0.1, eta0=0.001,\n",
       "                                fit_intercept=True, l1_ratio=0.15,\n",
       "                                learning_rate='optimal', loss='hinge',\n",
       "                                max_iter=1000, n_iter_no_change=5, n_jobs=-1,\n",
       "                                penalty='l2', power_t=0.5, random_state=5892,\n",
       "                                shuffle=True, tol=0.001, validation_fraction=0.1,\n",
       "                                verbose=0, warm_start=False))],\n",
       "          verbose=False),\n",
       " 'models_classif/convkb/svm.pkl')"
      ]
     },
     "execution_count": 24,
     "metadata": {},
     "output_type": "execute_result"
    }
   ],
   "source": [
    "save_model(svm, 'models_classif/convkb/svm')"
   ]
  },
  {
   "cell_type": "markdown",
   "metadata": {},
   "source": [
    "# Ridge Classifier"
   ]
  },
  {
   "cell_type": "code",
   "execution_count": 25,
   "metadata": {},
   "outputs": [
    {
     "data": {
      "text/html": [],
      "text/plain": [
       "<IPython.core.display.HTML object>"
      ]
     },
     "metadata": {},
     "output_type": "display_data"
    },
    {
     "data": {
      "text/html": [
       "<style type=\"text/css\">\n",
       "#T_0d859_row10_col0, #T_0d859_row10_col1, #T_0d859_row10_col2, #T_0d859_row10_col3, #T_0d859_row10_col4, #T_0d859_row10_col5, #T_0d859_row10_col6 {\n",
       "  background: yellow;\n",
       "}\n",
       "</style>\n",
       "<table id=\"T_0d859\">\n",
       "  <thead>\n",
       "    <tr>\n",
       "      <th class=\"blank level0\" >&nbsp;</th>\n",
       "      <th id=\"T_0d859_level0_col0\" class=\"col_heading level0 col0\" >Accuracy</th>\n",
       "      <th id=\"T_0d859_level0_col1\" class=\"col_heading level0 col1\" >AUC</th>\n",
       "      <th id=\"T_0d859_level0_col2\" class=\"col_heading level0 col2\" >Recall</th>\n",
       "      <th id=\"T_0d859_level0_col3\" class=\"col_heading level0 col3\" >Prec.</th>\n",
       "      <th id=\"T_0d859_level0_col4\" class=\"col_heading level0 col4\" >F1</th>\n",
       "      <th id=\"T_0d859_level0_col5\" class=\"col_heading level0 col5\" >Kappa</th>\n",
       "      <th id=\"T_0d859_level0_col6\" class=\"col_heading level0 col6\" >MCC</th>\n",
       "    </tr>\n",
       "    <tr>\n",
       "      <th class=\"index_name level0\" >Fold</th>\n",
       "      <th class=\"blank col0\" >&nbsp;</th>\n",
       "      <th class=\"blank col1\" >&nbsp;</th>\n",
       "      <th class=\"blank col2\" >&nbsp;</th>\n",
       "      <th class=\"blank col3\" >&nbsp;</th>\n",
       "      <th class=\"blank col4\" >&nbsp;</th>\n",
       "      <th class=\"blank col5\" >&nbsp;</th>\n",
       "      <th class=\"blank col6\" >&nbsp;</th>\n",
       "    </tr>\n",
       "  </thead>\n",
       "  <tbody>\n",
       "    <tr>\n",
       "      <th id=\"T_0d859_level0_row0\" class=\"row_heading level0 row0\" >0</th>\n",
       "      <td id=\"T_0d859_row0_col0\" class=\"data row0 col0\" >0.7312</td>\n",
       "      <td id=\"T_0d859_row0_col1\" class=\"data row0 col1\" >0.0000</td>\n",
       "      <td id=\"T_0d859_row0_col2\" class=\"data row0 col2\" >0.7839</td>\n",
       "      <td id=\"T_0d859_row0_col3\" class=\"data row0 col3\" >0.7092</td>\n",
       "      <td id=\"T_0d859_row0_col4\" class=\"data row0 col4\" >0.7447</td>\n",
       "      <td id=\"T_0d859_row0_col5\" class=\"data row0 col5\" >0.4625</td>\n",
       "      <td id=\"T_0d859_row0_col6\" class=\"data row0 col6\" >0.4651</td>\n",
       "    </tr>\n",
       "    <tr>\n",
       "      <th id=\"T_0d859_level0_row1\" class=\"row_heading level0 row1\" >1</th>\n",
       "      <td id=\"T_0d859_row1_col0\" class=\"data row1 col0\" >0.7284</td>\n",
       "      <td id=\"T_0d859_row1_col1\" class=\"data row1 col1\" >0.0000</td>\n",
       "      <td id=\"T_0d859_row1_col2\" class=\"data row1 col2\" >0.7820</td>\n",
       "      <td id=\"T_0d859_row1_col3\" class=\"data row1 col3\" >0.7063</td>\n",
       "      <td id=\"T_0d859_row1_col4\" class=\"data row1 col4\" >0.7422</td>\n",
       "      <td id=\"T_0d859_row1_col5\" class=\"data row1 col5\" >0.4568</td>\n",
       "      <td id=\"T_0d859_row1_col6\" class=\"data row1 col6\" >0.4594</td>\n",
       "    </tr>\n",
       "    <tr>\n",
       "      <th id=\"T_0d859_level0_row2\" class=\"row_heading level0 row2\" >2</th>\n",
       "      <td id=\"T_0d859_row2_col0\" class=\"data row2 col0\" >0.7327</td>\n",
       "      <td id=\"T_0d859_row2_col1\" class=\"data row2 col1\" >0.0000</td>\n",
       "      <td id=\"T_0d859_row2_col2\" class=\"data row2 col2\" >0.7831</td>\n",
       "      <td id=\"T_0d859_row2_col3\" class=\"data row2 col3\" >0.7114</td>\n",
       "      <td id=\"T_0d859_row2_col4\" class=\"data row2 col4\" >0.7456</td>\n",
       "      <td id=\"T_0d859_row2_col5\" class=\"data row2 col5\" >0.4655</td>\n",
       "      <td id=\"T_0d859_row2_col6\" class=\"data row2 col6\" >0.4679</td>\n",
       "    </tr>\n",
       "    <tr>\n",
       "      <th id=\"T_0d859_level0_row3\" class=\"row_heading level0 row3\" >3</th>\n",
       "      <td id=\"T_0d859_row3_col0\" class=\"data row3 col0\" >0.7307</td>\n",
       "      <td id=\"T_0d859_row3_col1\" class=\"data row3 col1\" >0.0000</td>\n",
       "      <td id=\"T_0d859_row3_col2\" class=\"data row3 col2\" >0.7831</td>\n",
       "      <td id=\"T_0d859_row3_col3\" class=\"data row3 col3\" >0.7088</td>\n",
       "      <td id=\"T_0d859_row3_col4\" class=\"data row3 col4\" >0.7441</td>\n",
       "      <td id=\"T_0d859_row3_col5\" class=\"data row3 col5\" >0.4613</td>\n",
       "      <td id=\"T_0d859_row3_col6\" class=\"data row3 col6\" >0.4639</td>\n",
       "    </tr>\n",
       "    <tr>\n",
       "      <th id=\"T_0d859_level0_row4\" class=\"row_heading level0 row4\" >4</th>\n",
       "      <td id=\"T_0d859_row4_col0\" class=\"data row4 col0\" >0.7305</td>\n",
       "      <td id=\"T_0d859_row4_col1\" class=\"data row4 col1\" >0.0000</td>\n",
       "      <td id=\"T_0d859_row4_col2\" class=\"data row4 col2\" >0.7781</td>\n",
       "      <td id=\"T_0d859_row4_col3\" class=\"data row4 col3\" >0.7105</td>\n",
       "      <td id=\"T_0d859_row4_col4\" class=\"data row4 col4\" >0.7428</td>\n",
       "      <td id=\"T_0d859_row4_col5\" class=\"data row4 col5\" >0.4610</td>\n",
       "      <td id=\"T_0d859_row4_col6\" class=\"data row4 col6\" >0.4631</td>\n",
       "    </tr>\n",
       "    <tr>\n",
       "      <th id=\"T_0d859_level0_row5\" class=\"row_heading level0 row5\" >5</th>\n",
       "      <td id=\"T_0d859_row5_col0\" class=\"data row5 col0\" >0.7327</td>\n",
       "      <td id=\"T_0d859_row5_col1\" class=\"data row5 col1\" >0.0000</td>\n",
       "      <td id=\"T_0d859_row5_col2\" class=\"data row5 col2\" >0.7803</td>\n",
       "      <td id=\"T_0d859_row5_col3\" class=\"data row5 col3\" >0.7125</td>\n",
       "      <td id=\"T_0d859_row5_col4\" class=\"data row5 col4\" >0.7449</td>\n",
       "      <td id=\"T_0d859_row5_col5\" class=\"data row5 col5\" >0.4654</td>\n",
       "      <td id=\"T_0d859_row5_col6\" class=\"data row5 col6\" >0.4675</td>\n",
       "    </tr>\n",
       "    <tr>\n",
       "      <th id=\"T_0d859_level0_row6\" class=\"row_heading level0 row6\" >6</th>\n",
       "      <td id=\"T_0d859_row6_col0\" class=\"data row6 col0\" >0.7311</td>\n",
       "      <td id=\"T_0d859_row6_col1\" class=\"data row6 col1\" >0.0000</td>\n",
       "      <td id=\"T_0d859_row6_col2\" class=\"data row6 col2\" >0.7826</td>\n",
       "      <td id=\"T_0d859_row6_col3\" class=\"data row6 col3\" >0.7096</td>\n",
       "      <td id=\"T_0d859_row6_col4\" class=\"data row6 col4\" >0.7443</td>\n",
       "      <td id=\"T_0d859_row6_col5\" class=\"data row6 col5\" >0.4623</td>\n",
       "      <td id=\"T_0d859_row6_col6\" class=\"data row6 col6\" >0.4647</td>\n",
       "    </tr>\n",
       "    <tr>\n",
       "      <th id=\"T_0d859_level0_row7\" class=\"row_heading level0 row7\" >7</th>\n",
       "      <td id=\"T_0d859_row7_col0\" class=\"data row7 col0\" >0.7290</td>\n",
       "      <td id=\"T_0d859_row7_col1\" class=\"data row7 col1\" >0.0000</td>\n",
       "      <td id=\"T_0d859_row7_col2\" class=\"data row7 col2\" >0.7827</td>\n",
       "      <td id=\"T_0d859_row7_col3\" class=\"data row7 col3\" >0.7068</td>\n",
       "      <td id=\"T_0d859_row7_col4\" class=\"data row7 col4\" >0.7428</td>\n",
       "      <td id=\"T_0d859_row7_col5\" class=\"data row7 col5\" >0.4581</td>\n",
       "      <td id=\"T_0d859_row7_col6\" class=\"data row7 col6\" >0.4607</td>\n",
       "    </tr>\n",
       "    <tr>\n",
       "      <th id=\"T_0d859_level0_row8\" class=\"row_heading level0 row8\" >8</th>\n",
       "      <td id=\"T_0d859_row8_col0\" class=\"data row8 col0\" >0.7298</td>\n",
       "      <td id=\"T_0d859_row8_col1\" class=\"data row8 col1\" >0.0000</td>\n",
       "      <td id=\"T_0d859_row8_col2\" class=\"data row8 col2\" >0.7814</td>\n",
       "      <td id=\"T_0d859_row8_col3\" class=\"data row8 col3\" >0.7083</td>\n",
       "      <td id=\"T_0d859_row8_col4\" class=\"data row8 col4\" >0.7430</td>\n",
       "      <td id=\"T_0d859_row8_col5\" class=\"data row8 col5\" >0.4595</td>\n",
       "      <td id=\"T_0d859_row8_col6\" class=\"data row8 col6\" >0.4620</td>\n",
       "    </tr>\n",
       "    <tr>\n",
       "      <th id=\"T_0d859_level0_row9\" class=\"row_heading level0 row9\" >9</th>\n",
       "      <td id=\"T_0d859_row9_col0\" class=\"data row9 col0\" >0.7277</td>\n",
       "      <td id=\"T_0d859_row9_col1\" class=\"data row9 col1\" >0.0000</td>\n",
       "      <td id=\"T_0d859_row9_col2\" class=\"data row9 col2\" >0.7790</td>\n",
       "      <td id=\"T_0d859_row9_col3\" class=\"data row9 col3\" >0.7065</td>\n",
       "      <td id=\"T_0d859_row9_col4\" class=\"data row9 col4\" >0.7410</td>\n",
       "      <td id=\"T_0d859_row9_col5\" class=\"data row9 col5\" >0.4554</td>\n",
       "      <td id=\"T_0d859_row9_col6\" class=\"data row9 col6\" >0.4579</td>\n",
       "    </tr>\n",
       "    <tr>\n",
       "      <th id=\"T_0d859_level0_row10\" class=\"row_heading level0 row10\" >Mean</th>\n",
       "      <td id=\"T_0d859_row10_col0\" class=\"data row10 col0\" >0.7304</td>\n",
       "      <td id=\"T_0d859_row10_col1\" class=\"data row10 col1\" >0.0000</td>\n",
       "      <td id=\"T_0d859_row10_col2\" class=\"data row10 col2\" >0.7816</td>\n",
       "      <td id=\"T_0d859_row10_col3\" class=\"data row10 col3\" >0.7090</td>\n",
       "      <td id=\"T_0d859_row10_col4\" class=\"data row10 col4\" >0.7435</td>\n",
       "      <td id=\"T_0d859_row10_col5\" class=\"data row10 col5\" >0.4608</td>\n",
       "      <td id=\"T_0d859_row10_col6\" class=\"data row10 col6\" >0.4632</td>\n",
       "    </tr>\n",
       "    <tr>\n",
       "      <th id=\"T_0d859_level0_row11\" class=\"row_heading level0 row11\" >Std</th>\n",
       "      <td id=\"T_0d859_row11_col0\" class=\"data row11 col0\" >0.0016</td>\n",
       "      <td id=\"T_0d859_row11_col1\" class=\"data row11 col1\" >0.0000</td>\n",
       "      <td id=\"T_0d859_row11_col2\" class=\"data row11 col2\" >0.0018</td>\n",
       "      <td id=\"T_0d859_row11_col3\" class=\"data row11 col3\" >0.0020</td>\n",
       "      <td id=\"T_0d859_row11_col4\" class=\"data row11 col4\" >0.0013</td>\n",
       "      <td id=\"T_0d859_row11_col5\" class=\"data row11 col5\" >0.0032</td>\n",
       "      <td id=\"T_0d859_row11_col6\" class=\"data row11 col6\" >0.0031</td>\n",
       "    </tr>\n",
       "  </tbody>\n",
       "</table>\n"
      ],
      "text/plain": [
       "<pandas.io.formats.style.Styler at 0x7f4571c5f190>"
      ]
     },
     "metadata": {},
     "output_type": "display_data"
    },
    {
     "data": {
      "text/html": [],
      "text/plain": [
       "<IPython.core.display.HTML object>"
      ]
     },
     "metadata": {},
     "output_type": "display_data"
    }
   ],
   "source": [
    "ridge = create_model('ridge')"
   ]
  },
  {
   "cell_type": "code",
   "execution_count": 26,
   "metadata": {},
   "outputs": [
    {
     "data": {
      "text/html": [],
      "text/plain": [
       "<IPython.core.display.HTML object>"
      ]
     },
     "metadata": {},
     "output_type": "display_data"
    },
    {
     "data": {
      "image/png": "[encoded data removed]",
      "text/plain": [
       "<Figure size 800x550 with 1 Axes>"
      ]
     },
     "metadata": {},
     "output_type": "display_data"
    }
   ],
   "source": [
    "plot_model(ridge, plot = 'confusion_matrix')"
   ]
  },
  {
   "cell_type": "code",
   "execution_count": 27,
   "metadata": {},
   "outputs": [
    {
     "data": {
      "text/html": [],
      "text/plain": [
       "<IPython.core.display.HTML object>"
      ]
     },
     "metadata": {},
     "output_type": "display_data"
    },
    {
     "data": {
      "image/png": "[encoded data removed]",
      "text/plain": [
       "<Figure size 800x550 with 1 Axes>"
      ]
     },
     "metadata": {},
     "output_type": "display_data"
    }
   ],
   "source": [
    "plot_model(ridge, plot = 'error')"
   ]
  },
  {
   "cell_type": "code",
   "execution_count": 28,
   "metadata": {},
   "outputs": [
    {
     "data": {
      "text/html": [],
      "text/plain": [
       "<IPython.core.display.HTML object>"
      ]
     },
     "metadata": {},
     "output_type": "display_data"
    },
    {
     "data": {
      "text/html": [
       "<div>\n",
       "<style scoped>\n",
       "    .dataframe tbody tr th:only-of-type {\n",
       "        vertical-align: middle;\n",
       "    }\n",
       "\n",
       "    .dataframe tbody tr th {\n",
       "        vertical-align: top;\n",
       "    }\n",
       "\n",
       "    .dataframe thead th {\n",
       "        text-align: right;\n",
       "    }\n",
       "</style>\n",
       "<table border=\"1\" class=\"dataframe\">\n",
       "  <thead>\n",
       "    <tr style=\"text-align: right;\">\n",
       "      <th></th>\n",
       "      <th>Parameters</th>\n",
       "    </tr>\n",
       "  </thead>\n",
       "  <tbody>\n",
       "    <tr>\n",
       "      <th>alpha</th>\n",
       "      <td>1.0</td>\n",
       "    </tr>\n",
       "    <tr>\n",
       "      <th>class_weight</th>\n",
       "      <td>None</td>\n",
       "    </tr>\n",
       "    <tr>\n",
       "      <th>copy_X</th>\n",
       "      <td>True</td>\n",
       "    </tr>\n",
       "    <tr>\n",
       "      <th>fit_intercept</th>\n",
       "      <td>True</td>\n",
       "    </tr>\n",
       "    <tr>\n",
       "      <th>max_iter</th>\n",
       "      <td>None</td>\n",
       "    </tr>\n",
       "    <tr>\n",
       "      <th>positive</th>\n",
       "      <td>False</td>\n",
       "    </tr>\n",
       "    <tr>\n",
       "      <th>random_state</th>\n",
       "      <td>5892</td>\n",
       "    </tr>\n",
       "    <tr>\n",
       "      <th>solver</th>\n",
       "      <td>auto</td>\n",
       "    </tr>\n",
       "    <tr>\n",
       "      <th>tol</th>\n",
       "      <td>0.0001</td>\n",
       "    </tr>\n",
       "  </tbody>\n",
       "</table>\n",
       "</div>"
      ],
      "text/plain": [
       "              Parameters\n",
       "alpha                1.0\n",
       "class_weight        None\n",
       "copy_X              True\n",
       "fit_intercept       True\n",
       "max_iter            None\n",
       "positive           False\n",
       "random_state        5892\n",
       "solver              auto\n",
       "tol               0.0001"
      ]
     },
     "metadata": {},
     "output_type": "display_data"
    }
   ],
   "source": [
    "plot_model(ridge, plot = 'parameter')"
   ]
  },
  {
   "cell_type": "code",
   "execution_count": 29,
   "metadata": {},
   "outputs": [
    {
     "name": "stdout",
     "output_type": "stream",
     "text": [
      "Transformation Pipeline and Model Successfully Saved\n"
     ]
    },
    {
     "data": {
      "text/plain": [
       "(Pipeline(memory=FastMemory(location=/tmp/joblib),\n",
       "          steps=[('numerical_imputer',\n",
       "                  TransformerWrapper(exclude=None,\n",
       "                                     include=['0', '1', '2', '3', '4', '5', '6',\n",
       "                                              '7', '8', '9', '10', '11', '12',\n",
       "                                              '13', '14', '15', '16', '17', '18',\n",
       "                                              '19', '20', '21', '22', '23', '24',\n",
       "                                              '25', '26', '27', '28', '29', ...],\n",
       "                                     transformer=SimpleImputer(add_indicator=False,\n",
       "                                                               copy=True,\n",
       "                                                               fill_value=None,\n",
       "                                                               keep_empty_feat...\n",
       "                  TransformerWrapper(exclude=None, include=[],\n",
       "                                     transformer=SimpleImputer(add_indicator=False,\n",
       "                                                               copy=True,\n",
       "                                                               fill_value=None,\n",
       "                                                               keep_empty_features=False,\n",
       "                                                               missing_values=nan,\n",
       "                                                               strategy='most_frequent',\n",
       "                                                               verbose='deprecated'))),\n",
       "                 ('trained_model',\n",
       "                  RidgeClassifier(alpha=1.0, class_weight=None, copy_X=True,\n",
       "                                  fit_intercept=True, max_iter=None,\n",
       "                                  positive=False, random_state=5892,\n",
       "                                  solver='auto', tol=0.0001))],\n",
       "          verbose=False),\n",
       " 'models_classif/convkb/ridge.pkl')"
      ]
     },
     "execution_count": 29,
     "metadata": {},
     "output_type": "execute_result"
    }
   ],
   "source": [
    "save_model(ridge, 'models_classif/convkb/ridge')"
   ]
  },
  {
   "cell_type": "markdown",
   "metadata": {},
   "source": [
    "# Random Forest"
   ]
  },
  {
   "cell_type": "code",
   "execution_count": 30,
   "metadata": {},
   "outputs": [
    {
     "data": {
      "text/html": [],
      "text/plain": [
       "<IPython.core.display.HTML object>"
      ]
     },
     "metadata": {},
     "output_type": "display_data"
    },
    {
     "data": {
      "text/html": [
       "<style type=\"text/css\">\n",
       "#T_c914b_row10_col0, #T_c914b_row10_col1, #T_c914b_row10_col2, #T_c914b_row10_col3, #T_c914b_row10_col4, #T_c914b_row10_col5, #T_c914b_row10_col6 {\n",
       "  background: yellow;\n",
       "}\n",
       "</style>\n",
       "<table id=\"T_c914b\">\n",
       "  <thead>\n",
       "    <tr>\n",
       "      <th class=\"blank level0\" >&nbsp;</th>\n",
       "      <th id=\"T_c914b_level0_col0\" class=\"col_heading level0 col0\" >Accuracy</th>\n",
       "      <th id=\"T_c914b_level0_col1\" class=\"col_heading level0 col1\" >AUC</th>\n",
       "      <th id=\"T_c914b_level0_col2\" class=\"col_heading level0 col2\" >Recall</th>\n",
       "      <th id=\"T_c914b_level0_col3\" class=\"col_heading level0 col3\" >Prec.</th>\n",
       "      <th id=\"T_c914b_level0_col4\" class=\"col_heading level0 col4\" >F1</th>\n",
       "      <th id=\"T_c914b_level0_col5\" class=\"col_heading level0 col5\" >Kappa</th>\n",
       "      <th id=\"T_c914b_level0_col6\" class=\"col_heading level0 col6\" >MCC</th>\n",
       "    </tr>\n",
       "    <tr>\n",
       "      <th class=\"index_name level0\" >Fold</th>\n",
       "      <th class=\"blank col0\" >&nbsp;</th>\n",
       "      <th class=\"blank col1\" >&nbsp;</th>\n",
       "      <th class=\"blank col2\" >&nbsp;</th>\n",
       "      <th class=\"blank col3\" >&nbsp;</th>\n",
       "      <th class=\"blank col4\" >&nbsp;</th>\n",
       "      <th class=\"blank col5\" >&nbsp;</th>\n",
       "      <th class=\"blank col6\" >&nbsp;</th>\n",
       "    </tr>\n",
       "  </thead>\n",
       "  <tbody>\n",
       "    <tr>\n",
       "      <th id=\"T_c914b_level0_row0\" class=\"row_heading level0 row0\" >0</th>\n",
       "      <td id=\"T_c914b_row0_col0\" class=\"data row0 col0\" >0.8945</td>\n",
       "      <td id=\"T_c914b_row0_col1\" class=\"data row0 col1\" >0.9527</td>\n",
       "      <td id=\"T_c914b_row0_col2\" class=\"data row0 col2\" >0.9773</td>\n",
       "      <td id=\"T_c914b_row0_col3\" class=\"data row0 col3\" >0.8384</td>\n",
       "      <td id=\"T_c914b_row0_col4\" class=\"data row0 col4\" >0.9025</td>\n",
       "      <td id=\"T_c914b_row0_col5\" class=\"data row0 col5\" >0.7889</td>\n",
       "      <td id=\"T_c914b_row0_col6\" class=\"data row0 col6\" >0.8000</td>\n",
       "    </tr>\n",
       "    <tr>\n",
       "      <th id=\"T_c914b_level0_row1\" class=\"row_heading level0 row1\" >1</th>\n",
       "      <td id=\"T_c914b_row1_col0\" class=\"data row1 col0\" >0.8898</td>\n",
       "      <td id=\"T_c914b_row1_col1\" class=\"data row1 col1\" >0.9514</td>\n",
       "      <td id=\"T_c914b_row1_col2\" class=\"data row1 col2\" >0.9768</td>\n",
       "      <td id=\"T_c914b_row1_col3\" class=\"data row1 col3\" >0.8320</td>\n",
       "      <td id=\"T_c914b_row1_col4\" class=\"data row1 col4\" >0.8986</td>\n",
       "      <td id=\"T_c914b_row1_col5\" class=\"data row1 col5\" >0.7796</td>\n",
       "      <td id=\"T_c914b_row1_col6\" class=\"data row1 col6\" >0.7917</td>\n",
       "    </tr>\n",
       "    <tr>\n",
       "      <th id=\"T_c914b_level0_row2\" class=\"row_heading level0 row2\" >2</th>\n",
       "      <td id=\"T_c914b_row2_col0\" class=\"data row2 col0\" >0.8913</td>\n",
       "      <td id=\"T_c914b_row2_col1\" class=\"data row2 col1\" >0.9521</td>\n",
       "      <td id=\"T_c914b_row2_col2\" class=\"data row2 col2\" >0.9751</td>\n",
       "      <td id=\"T_c914b_row2_col3\" class=\"data row2 col3\" >0.8351</td>\n",
       "      <td id=\"T_c914b_row2_col4\" class=\"data row2 col4\" >0.8997</td>\n",
       "      <td id=\"T_c914b_row2_col5\" class=\"data row2 col5\" >0.7826</td>\n",
       "      <td id=\"T_c914b_row2_col6\" class=\"data row2 col6\" >0.7938</td>\n",
       "    </tr>\n",
       "    <tr>\n",
       "      <th id=\"T_c914b_level0_row3\" class=\"row_heading level0 row3\" >3</th>\n",
       "      <td id=\"T_c914b_row3_col0\" class=\"data row3 col0\" >0.8914</td>\n",
       "      <td id=\"T_c914b_row3_col1\" class=\"data row3 col1\" >0.9526</td>\n",
       "      <td id=\"T_c914b_row3_col2\" class=\"data row3 col2\" >0.9791</td>\n",
       "      <td id=\"T_c914b_row3_col3\" class=\"data row3 col3\" >0.8330</td>\n",
       "      <td id=\"T_c914b_row3_col4\" class=\"data row3 col4\" >0.9002</td>\n",
       "      <td id=\"T_c914b_row3_col5\" class=\"data row3 col5\" >0.7828</td>\n",
       "      <td id=\"T_c914b_row3_col6\" class=\"data row3 col6\" >0.7951</td>\n",
       "    </tr>\n",
       "    <tr>\n",
       "      <th id=\"T_c914b_level0_row4\" class=\"row_heading level0 row4\" >4</th>\n",
       "      <td id=\"T_c914b_row4_col0\" class=\"data row4 col0\" >0.8915</td>\n",
       "      <td id=\"T_c914b_row4_col1\" class=\"data row4 col1\" >0.9521</td>\n",
       "      <td id=\"T_c914b_row4_col2\" class=\"data row4 col2\" >0.9766</td>\n",
       "      <td id=\"T_c914b_row4_col3\" class=\"data row4 col3\" >0.8345</td>\n",
       "      <td id=\"T_c914b_row4_col4\" class=\"data row4 col4\" >0.9000</td>\n",
       "      <td id=\"T_c914b_row4_col5\" class=\"data row4 col5\" >0.7829</td>\n",
       "      <td id=\"T_c914b_row4_col6\" class=\"data row4 col6\" >0.7945</td>\n",
       "    </tr>\n",
       "    <tr>\n",
       "      <th id=\"T_c914b_level0_row5\" class=\"row_heading level0 row5\" >5</th>\n",
       "      <td id=\"T_c914b_row5_col0\" class=\"data row5 col0\" >0.8912</td>\n",
       "      <td id=\"T_c914b_row5_col1\" class=\"data row5 col1\" >0.9513</td>\n",
       "      <td id=\"T_c914b_row5_col2\" class=\"data row5 col2\" >0.9741</td>\n",
       "      <td id=\"T_c914b_row5_col3\" class=\"data row5 col3\" >0.8355</td>\n",
       "      <td id=\"T_c914b_row5_col4\" class=\"data row5 col4\" >0.8995</td>\n",
       "      <td id=\"T_c914b_row5_col5\" class=\"data row5 col5\" >0.7823</td>\n",
       "      <td id=\"T_c914b_row5_col6\" class=\"data row5 col6\" >0.7933</td>\n",
       "    </tr>\n",
       "    <tr>\n",
       "      <th id=\"T_c914b_level0_row6\" class=\"row_heading level0 row6\" >6</th>\n",
       "      <td id=\"T_c914b_row6_col0\" class=\"data row6 col0\" >0.8909</td>\n",
       "      <td id=\"T_c914b_row6_col1\" class=\"data row6 col1\" >0.9531</td>\n",
       "      <td id=\"T_c914b_row6_col2\" class=\"data row6 col2\" >0.9772</td>\n",
       "      <td id=\"T_c914b_row6_col3\" class=\"data row6 col3\" >0.8333</td>\n",
       "      <td id=\"T_c914b_row6_col4\" class=\"data row6 col4\" >0.8995</td>\n",
       "      <td id=\"T_c914b_row6_col5\" class=\"data row6 col5\" >0.7817</td>\n",
       "      <td id=\"T_c914b_row6_col6\" class=\"data row6 col6\" >0.7936</td>\n",
       "    </tr>\n",
       "    <tr>\n",
       "      <th id=\"T_c914b_level0_row7\" class=\"row_heading level0 row7\" >7</th>\n",
       "      <td id=\"T_c914b_row7_col0\" class=\"data row7 col0\" >0.8890</td>\n",
       "      <td id=\"T_c914b_row7_col1\" class=\"data row7 col1\" >0.9509</td>\n",
       "      <td id=\"T_c914b_row7_col2\" class=\"data row7 col2\" >0.9751</td>\n",
       "      <td id=\"T_c914b_row7_col3\" class=\"data row7 col3\" >0.8318</td>\n",
       "      <td id=\"T_c914b_row7_col4\" class=\"data row7 col4\" >0.8978</td>\n",
       "      <td id=\"T_c914b_row7_col5\" class=\"data row7 col5\" >0.7780</td>\n",
       "      <td id=\"T_c914b_row7_col6\" class=\"data row7 col6\" >0.7898</td>\n",
       "    </tr>\n",
       "    <tr>\n",
       "      <th id=\"T_c914b_level0_row8\" class=\"row_heading level0 row8\" >8</th>\n",
       "      <td id=\"T_c914b_row8_col0\" class=\"data row8 col0\" >0.8903</td>\n",
       "      <td id=\"T_c914b_row8_col1\" class=\"data row8 col1\" >0.9525</td>\n",
       "      <td id=\"T_c914b_row8_col2\" class=\"data row8 col2\" >0.9762</td>\n",
       "      <td id=\"T_c914b_row8_col3\" class=\"data row8 col3\" >0.8331</td>\n",
       "      <td id=\"T_c914b_row8_col4\" class=\"data row8 col4\" >0.8990</td>\n",
       "      <td id=\"T_c914b_row8_col5\" class=\"data row8 col5\" >0.7806</td>\n",
       "      <td id=\"T_c914b_row8_col6\" class=\"data row8 col6\" >0.7924</td>\n",
       "    </tr>\n",
       "    <tr>\n",
       "      <th id=\"T_c914b_level0_row9\" class=\"row_heading level0 row9\" >9</th>\n",
       "      <td id=\"T_c914b_row9_col0\" class=\"data row9 col0\" >0.8896</td>\n",
       "      <td id=\"T_c914b_row9_col1\" class=\"data row9 col1\" >0.9529</td>\n",
       "      <td id=\"T_c914b_row9_col2\" class=\"data row9 col2\" >0.9755</td>\n",
       "      <td id=\"T_c914b_row9_col3\" class=\"data row9 col3\" >0.8325</td>\n",
       "      <td id=\"T_c914b_row9_col4\" class=\"data row9 col4\" >0.8983</td>\n",
       "      <td id=\"T_c914b_row9_col5\" class=\"data row9 col5\" >0.7792</td>\n",
       "      <td id=\"T_c914b_row9_col6\" class=\"data row9 col6\" >0.7910</td>\n",
       "    </tr>\n",
       "    <tr>\n",
       "      <th id=\"T_c914b_level0_row10\" class=\"row_heading level0 row10\" >Mean</th>\n",
       "      <td id=\"T_c914b_row10_col0\" class=\"data row10 col0\" >0.8909</td>\n",
       "      <td id=\"T_c914b_row10_col1\" class=\"data row10 col1\" >0.9522</td>\n",
       "      <td id=\"T_c914b_row10_col2\" class=\"data row10 col2\" >0.9763</td>\n",
       "      <td id=\"T_c914b_row10_col3\" class=\"data row10 col3\" >0.8339</td>\n",
       "      <td id=\"T_c914b_row10_col4\" class=\"data row10 col4\" >0.8995</td>\n",
       "      <td id=\"T_c914b_row10_col5\" class=\"data row10 col5\" >0.7819</td>\n",
       "      <td id=\"T_c914b_row10_col6\" class=\"data row10 col6\" >0.7935</td>\n",
       "    </tr>\n",
       "    <tr>\n",
       "      <th id=\"T_c914b_level0_row11\" class=\"row_heading level0 row11\" >Std</th>\n",
       "      <td id=\"T_c914b_row11_col0\" class=\"data row11 col0\" >0.0014</td>\n",
       "      <td id=\"T_c914b_row11_col1\" class=\"data row11 col1\" >0.0007</td>\n",
       "      <td id=\"T_c914b_row11_col2\" class=\"data row11 col2\" >0.0014</td>\n",
       "      <td id=\"T_c914b_row11_col3\" class=\"data row11 col3\" >0.0019</td>\n",
       "      <td id=\"T_c914b_row11_col4\" class=\"data row11 col4\" >0.0012</td>\n",
       "      <td id=\"T_c914b_row11_col5\" class=\"data row11 col5\" >0.0029</td>\n",
       "      <td id=\"T_c914b_row11_col6\" class=\"data row11 col6\" >0.0027</td>\n",
       "    </tr>\n",
       "  </tbody>\n",
       "</table>\n"
      ],
      "text/plain": [
       "<pandas.io.formats.style.Styler at 0x7f4567d67b80>"
      ]
     },
     "metadata": {},
     "output_type": "display_data"
    },
    {
     "data": {
      "text/html": [],
      "text/plain": [
       "<IPython.core.display.HTML object>"
      ]
     },
     "metadata": {},
     "output_type": "display_data"
    }
   ],
   "source": [
    "rf = create_model('rf')"
   ]
  },
  {
   "cell_type": "code",
   "execution_count": 31,
   "metadata": {},
   "outputs": [
    {
     "data": {
      "text/html": [],
      "text/plain": [
       "<IPython.core.display.HTML object>"
      ]
     },
     "metadata": {},
     "output_type": "display_data"
    },
    {
     "data": {
      "image/png": "[encoded data removed]",
      "text/plain": [
       "<Figure size 800x550 with 1 Axes>"
      ]
     },
     "metadata": {},
     "output_type": "display_data"
    }
   ],
   "source": [
    "plot_model(rf, plot = 'confusion_matrix')"
   ]
  },
  {
   "cell_type": "code",
   "execution_count": 32,
   "metadata": {},
   "outputs": [
    {
     "data": {
      "text/html": [],
      "text/plain": [
       "<IPython.core.display.HTML object>"
      ]
     },
     "metadata": {},
     "output_type": "display_data"
    },
    {
     "data": {
      "image/png": "[encoded data removed]",
      "text/plain": [
       "<Figure size 800x550 with 1 Axes>"
      ]
     },
     "metadata": {},
     "output_type": "display_data"
    }
   ],
   "source": [
    "plot_model(rf, plot = 'error')"
   ]
  },
  {
   "cell_type": "code",
   "execution_count": 33,
   "metadata": {},
   "outputs": [
    {
     "data": {
      "text/html": [],
      "text/plain": [
       "<IPython.core.display.HTML object>"
      ]
     },
     "metadata": {},
     "output_type": "display_data"
    },
    {
     "data": {
      "text/html": [
       "<div>\n",
       "<style scoped>\n",
       "    .dataframe tbody tr th:only-of-type {\n",
       "        vertical-align: middle;\n",
       "    }\n",
       "\n",
       "    .dataframe tbody tr th {\n",
       "        vertical-align: top;\n",
       "    }\n",
       "\n",
       "    .dataframe thead th {\n",
       "        text-align: right;\n",
       "    }\n",
       "</style>\n",
       "<table border=\"1\" class=\"dataframe\">\n",
       "  <thead>\n",
       "    <tr style=\"text-align: right;\">\n",
       "      <th></th>\n",
       "      <th>Parameters</th>\n",
       "    </tr>\n",
       "  </thead>\n",
       "  <tbody>\n",
       "    <tr>\n",
       "      <th>bootstrap</th>\n",
       "      <td>True</td>\n",
       "    </tr>\n",
       "    <tr>\n",
       "      <th>ccp_alpha</th>\n",
       "      <td>0.0</td>\n",
       "    </tr>\n",
       "    <tr>\n",
       "      <th>class_weight</th>\n",
       "      <td>None</td>\n",
       "    </tr>\n",
       "    <tr>\n",
       "      <th>criterion</th>\n",
       "      <td>gini</td>\n",
       "    </tr>\n",
       "    <tr>\n",
       "      <th>max_depth</th>\n",
       "      <td>None</td>\n",
       "    </tr>\n",
       "    <tr>\n",
       "      <th>max_features</th>\n",
       "      <td>sqrt</td>\n",
       "    </tr>\n",
       "    <tr>\n",
       "      <th>max_leaf_nodes</th>\n",
       "      <td>None</td>\n",
       "    </tr>\n",
       "    <tr>\n",
       "      <th>max_samples</th>\n",
       "      <td>None</td>\n",
       "    </tr>\n",
       "    <tr>\n",
       "      <th>min_impurity_decrease</th>\n",
       "      <td>0.0</td>\n",
       "    </tr>\n",
       "    <tr>\n",
       "      <th>min_samples_leaf</th>\n",
       "      <td>1</td>\n",
       "    </tr>\n",
       "    <tr>\n",
       "      <th>min_samples_split</th>\n",
       "      <td>2</td>\n",
       "    </tr>\n",
       "    <tr>\n",
       "      <th>min_weight_fraction_leaf</th>\n",
       "      <td>0.0</td>\n",
       "    </tr>\n",
       "    <tr>\n",
       "      <th>n_estimators</th>\n",
       "      <td>100</td>\n",
       "    </tr>\n",
       "    <tr>\n",
       "      <th>n_jobs</th>\n",
       "      <td>-1</td>\n",
       "    </tr>\n",
       "    <tr>\n",
       "      <th>oob_score</th>\n",
       "      <td>False</td>\n",
       "    </tr>\n",
       "    <tr>\n",
       "      <th>random_state</th>\n",
       "      <td>5892</td>\n",
       "    </tr>\n",
       "    <tr>\n",
       "      <th>verbose</th>\n",
       "      <td>0</td>\n",
       "    </tr>\n",
       "    <tr>\n",
       "      <th>warm_start</th>\n",
       "      <td>False</td>\n",
       "    </tr>\n",
       "  </tbody>\n",
       "</table>\n",
       "</div>"
      ],
      "text/plain": [
       "                         Parameters\n",
       "bootstrap                      True\n",
       "ccp_alpha                       0.0\n",
       "class_weight                   None\n",
       "criterion                      gini\n",
       "max_depth                      None\n",
       "max_features                   sqrt\n",
       "max_leaf_nodes                 None\n",
       "max_samples                    None\n",
       "min_impurity_decrease           0.0\n",
       "min_samples_leaf                  1\n",
       "min_samples_split                 2\n",
       "min_weight_fraction_leaf        0.0\n",
       "n_estimators                    100\n",
       "n_jobs                           -1\n",
       "oob_score                     False\n",
       "random_state                   5892\n",
       "verbose                           0\n",
       "warm_start                    False"
      ]
     },
     "metadata": {},
     "output_type": "display_data"
    }
   ],
   "source": [
    "plot_model(rf, plot = 'parameter')"
   ]
  },
  {
   "cell_type": "code",
   "execution_count": 34,
   "metadata": {},
   "outputs": [
    {
     "name": "stdout",
     "output_type": "stream",
     "text": [
      "Transformation Pipeline and Model Successfully Saved\n"
     ]
    },
    {
     "data": {
      "text/plain": [
       "(Pipeline(memory=FastMemory(location=/tmp/joblib),\n",
       "          steps=[('numerical_imputer',\n",
       "                  TransformerWrapper(exclude=None,\n",
       "                                     include=['0', '1', '2', '3', '4', '5', '6',\n",
       "                                              '7', '8', '9', '10', '11', '12',\n",
       "                                              '13', '14', '15', '16', '17', '18',\n",
       "                                              '19', '20', '21', '22', '23', '24',\n",
       "                                              '25', '26', '27', '28', '29', ...],\n",
       "                                     transformer=SimpleImputer(add_indicator=False,\n",
       "                                                               copy=True,\n",
       "                                                               fill_value=None,\n",
       "                                                               keep_empty_feat...\n",
       "                  RandomForestClassifier(bootstrap=True, ccp_alpha=0.0,\n",
       "                                         class_weight=None, criterion='gini',\n",
       "                                         max_depth=None, max_features='sqrt',\n",
       "                                         max_leaf_nodes=None, max_samples=None,\n",
       "                                         min_impurity_decrease=0.0,\n",
       "                                         min_samples_leaf=1, min_samples_split=2,\n",
       "                                         min_weight_fraction_leaf=0.0,\n",
       "                                         n_estimators=100, n_jobs=-1,\n",
       "                                         oob_score=False, random_state=5892,\n",
       "                                         verbose=0, warm_start=False))],\n",
       "          verbose=False),\n",
       " 'models_classif/convkb/rf.pkl')"
      ]
     },
     "execution_count": 34,
     "metadata": {},
     "output_type": "execute_result"
    }
   ],
   "source": [
    "save_model(rf, 'models_classif/convkb/rf')"
   ]
  },
  {
   "cell_type": "markdown",
   "metadata": {},
   "source": [
    "# Quadratic Discriminant Analysis"
   ]
  },
  {
   "cell_type": "code",
   "execution_count": 35,
   "metadata": {},
   "outputs": [
    {
     "data": {
      "text/html": [],
      "text/plain": [
       "<IPython.core.display.HTML object>"
      ]
     },
     "metadata": {},
     "output_type": "display_data"
    },
    {
     "data": {
      "text/html": [
       "<style type=\"text/css\">\n",
       "#T_8727b_row10_col0, #T_8727b_row10_col1, #T_8727b_row10_col2, #T_8727b_row10_col3, #T_8727b_row10_col4, #T_8727b_row10_col5, #T_8727b_row10_col6 {\n",
       "  background: yellow;\n",
       "}\n",
       "</style>\n",
       "<table id=\"T_8727b\">\n",
       "  <thead>\n",
       "    <tr>\n",
       "      <th class=\"blank level0\" >&nbsp;</th>\n",
       "      <th id=\"T_8727b_level0_col0\" class=\"col_heading level0 col0\" >Accuracy</th>\n",
       "      <th id=\"T_8727b_level0_col1\" class=\"col_heading level0 col1\" >AUC</th>\n",
       "      <th id=\"T_8727b_level0_col2\" class=\"col_heading level0 col2\" >Recall</th>\n",
       "      <th id=\"T_8727b_level0_col3\" class=\"col_heading level0 col3\" >Prec.</th>\n",
       "      <th id=\"T_8727b_level0_col4\" class=\"col_heading level0 col4\" >F1</th>\n",
       "      <th id=\"T_8727b_level0_col5\" class=\"col_heading level0 col5\" >Kappa</th>\n",
       "      <th id=\"T_8727b_level0_col6\" class=\"col_heading level0 col6\" >MCC</th>\n",
       "    </tr>\n",
       "    <tr>\n",
       "      <th class=\"index_name level0\" >Fold</th>\n",
       "      <th class=\"blank col0\" >&nbsp;</th>\n",
       "      <th class=\"blank col1\" >&nbsp;</th>\n",
       "      <th class=\"blank col2\" >&nbsp;</th>\n",
       "      <th class=\"blank col3\" >&nbsp;</th>\n",
       "      <th class=\"blank col4\" >&nbsp;</th>\n",
       "      <th class=\"blank col5\" >&nbsp;</th>\n",
       "      <th class=\"blank col6\" >&nbsp;</th>\n",
       "    </tr>\n",
       "  </thead>\n",
       "  <tbody>\n",
       "    <tr>\n",
       "      <th id=\"T_8727b_level0_row0\" class=\"row_heading level0 row0\" >0</th>\n",
       "      <td id=\"T_8727b_row0_col0\" class=\"data row0 col0\" >0.6538</td>\n",
       "      <td id=\"T_8727b_row0_col1\" class=\"data row0 col1\" >0.7123</td>\n",
       "      <td id=\"T_8727b_row0_col2\" class=\"data row0 col2\" >0.6259</td>\n",
       "      <td id=\"T_8727b_row0_col3\" class=\"data row0 col3\" >0.6630</td>\n",
       "      <td id=\"T_8727b_row0_col4\" class=\"data row0 col4\" >0.6439</td>\n",
       "      <td id=\"T_8727b_row0_col5\" class=\"data row0 col5\" >0.3077</td>\n",
       "      <td id=\"T_8727b_row0_col6\" class=\"data row0 col6\" >0.3082</td>\n",
       "    </tr>\n",
       "    <tr>\n",
       "      <th id=\"T_8727b_level0_row1\" class=\"row_heading level0 row1\" >1</th>\n",
       "      <td id=\"T_8727b_row1_col0\" class=\"data row1 col0\" >0.6484</td>\n",
       "      <td id=\"T_8727b_row1_col1\" class=\"data row1 col1\" >0.7084</td>\n",
       "      <td id=\"T_8727b_row1_col2\" class=\"data row1 col2\" >0.6167</td>\n",
       "      <td id=\"T_8727b_row1_col3\" class=\"data row1 col3\" >0.6585</td>\n",
       "      <td id=\"T_8727b_row1_col4\" class=\"data row1 col4\" >0.6369</td>\n",
       "      <td id=\"T_8727b_row1_col5\" class=\"data row1 col5\" >0.2968</td>\n",
       "      <td id=\"T_8727b_row1_col6\" class=\"data row1 col6\" >0.2974</td>\n",
       "    </tr>\n",
       "    <tr>\n",
       "      <th id=\"T_8727b_level0_row2\" class=\"row_heading level0 row2\" >2</th>\n",
       "      <td id=\"T_8727b_row2_col0\" class=\"data row2 col0\" >0.6501</td>\n",
       "      <td id=\"T_8727b_row2_col1\" class=\"data row2 col1\" >0.7091</td>\n",
       "      <td id=\"T_8727b_row2_col2\" class=\"data row2 col2\" >0.6196</td>\n",
       "      <td id=\"T_8727b_row2_col3\" class=\"data row2 col3\" >0.6598</td>\n",
       "      <td id=\"T_8727b_row2_col4\" class=\"data row2 col4\" >0.6391</td>\n",
       "      <td id=\"T_8727b_row2_col5\" class=\"data row2 col5\" >0.3001</td>\n",
       "      <td id=\"T_8727b_row2_col6\" class=\"data row2 col6\" >0.3007</td>\n",
       "    </tr>\n",
       "    <tr>\n",
       "      <th id=\"T_8727b_level0_row3\" class=\"row_heading level0 row3\" >3</th>\n",
       "      <td id=\"T_8727b_row3_col0\" class=\"data row3 col0\" >0.6507</td>\n",
       "      <td id=\"T_8727b_row3_col1\" class=\"data row3 col1\" >0.7110</td>\n",
       "      <td id=\"T_8727b_row3_col2\" class=\"data row3 col2\" >0.6228</td>\n",
       "      <td id=\"T_8727b_row3_col3\" class=\"data row3 col3\" >0.6596</td>\n",
       "      <td id=\"T_8727b_row3_col4\" class=\"data row3 col4\" >0.6407</td>\n",
       "      <td id=\"T_8727b_row3_col5\" class=\"data row3 col5\" >0.3014</td>\n",
       "      <td id=\"T_8727b_row3_col6\" class=\"data row3 col6\" >0.3019</td>\n",
       "    </tr>\n",
       "    <tr>\n",
       "      <th id=\"T_8727b_level0_row4\" class=\"row_heading level0 row4\" >4</th>\n",
       "      <td id=\"T_8727b_row4_col0\" class=\"data row4 col0\" >0.6487</td>\n",
       "      <td id=\"T_8727b_row4_col1\" class=\"data row4 col1\" >0.7117</td>\n",
       "      <td id=\"T_8727b_row4_col2\" class=\"data row4 col2\" >0.6231</td>\n",
       "      <td id=\"T_8727b_row4_col3\" class=\"data row4 col3\" >0.6568</td>\n",
       "      <td id=\"T_8727b_row4_col4\" class=\"data row4 col4\" >0.6395</td>\n",
       "      <td id=\"T_8727b_row4_col5\" class=\"data row4 col5\" >0.2975</td>\n",
       "      <td id=\"T_8727b_row4_col6\" class=\"data row4 col6\" >0.2979</td>\n",
       "    </tr>\n",
       "    <tr>\n",
       "      <th id=\"T_8727b_level0_row5\" class=\"row_heading level0 row5\" >5</th>\n",
       "      <td id=\"T_8727b_row5_col0\" class=\"data row5 col0\" >0.6505</td>\n",
       "      <td id=\"T_8727b_row5_col1\" class=\"data row5 col1\" >0.7097</td>\n",
       "      <td id=\"T_8727b_row5_col2\" class=\"data row5 col2\" >0.6198</td>\n",
       "      <td id=\"T_8727b_row5_col3\" class=\"data row5 col3\" >0.6603</td>\n",
       "      <td id=\"T_8727b_row5_col4\" class=\"data row5 col4\" >0.6394</td>\n",
       "      <td id=\"T_8727b_row5_col5\" class=\"data row5 col5\" >0.3009</td>\n",
       "      <td id=\"T_8727b_row5_col6\" class=\"data row5 col6\" >0.3015</td>\n",
       "    </tr>\n",
       "    <tr>\n",
       "      <th id=\"T_8727b_level0_row6\" class=\"row_heading level0 row6\" >6</th>\n",
       "      <td id=\"T_8727b_row6_col0\" class=\"data row6 col0\" >0.6523</td>\n",
       "      <td id=\"T_8727b_row6_col1\" class=\"data row6 col1\" >0.7122</td>\n",
       "      <td id=\"T_8727b_row6_col2\" class=\"data row6 col2\" >0.6266</td>\n",
       "      <td id=\"T_8727b_row6_col3\" class=\"data row6 col3\" >0.6606</td>\n",
       "      <td id=\"T_8727b_row6_col4\" class=\"data row6 col4\" >0.6431</td>\n",
       "      <td id=\"T_8727b_row6_col5\" class=\"data row6 col5\" >0.3046</td>\n",
       "      <td id=\"T_8727b_row6_col6\" class=\"data row6 col6\" >0.3050</td>\n",
       "    </tr>\n",
       "    <tr>\n",
       "      <th id=\"T_8727b_level0_row7\" class=\"row_heading level0 row7\" >7</th>\n",
       "      <td id=\"T_8727b_row7_col0\" class=\"data row7 col0\" >0.6472</td>\n",
       "      <td id=\"T_8727b_row7_col1\" class=\"data row7 col1\" >0.7079</td>\n",
       "      <td id=\"T_8727b_row7_col2\" class=\"data row7 col2\" >0.6151</td>\n",
       "      <td id=\"T_8727b_row7_col3\" class=\"data row7 col3\" >0.6572</td>\n",
       "      <td id=\"T_8727b_row7_col4\" class=\"data row7 col4\" >0.6355</td>\n",
       "      <td id=\"T_8727b_row7_col5\" class=\"data row7 col5\" >0.2943</td>\n",
       "      <td id=\"T_8727b_row7_col6\" class=\"data row7 col6\" >0.2949</td>\n",
       "    </tr>\n",
       "    <tr>\n",
       "      <th id=\"T_8727b_level0_row8\" class=\"row_heading level0 row8\" >8</th>\n",
       "      <td id=\"T_8727b_row8_col0\" class=\"data row8 col0\" >0.6529</td>\n",
       "      <td id=\"T_8727b_row8_col1\" class=\"data row8 col1\" >0.7133</td>\n",
       "      <td id=\"T_8727b_row8_col2\" class=\"data row8 col2\" >0.6215</td>\n",
       "      <td id=\"T_8727b_row8_col3\" class=\"data row8 col3\" >0.6631</td>\n",
       "      <td id=\"T_8727b_row8_col4\" class=\"data row8 col4\" >0.6416</td>\n",
       "      <td id=\"T_8727b_row8_col5\" class=\"data row8 col5\" >0.3057</td>\n",
       "      <td id=\"T_8727b_row8_col6\" class=\"data row8 col6\" >0.3063</td>\n",
       "    </tr>\n",
       "    <tr>\n",
       "      <th id=\"T_8727b_level0_row9\" class=\"row_heading level0 row9\" >9</th>\n",
       "      <td id=\"T_8727b_row9_col0\" class=\"data row9 col0\" >0.6444</td>\n",
       "      <td id=\"T_8727b_row9_col1\" class=\"data row9 col1\" >0.7069</td>\n",
       "      <td id=\"T_8727b_row9_col2\" class=\"data row9 col2\" >0.6200</td>\n",
       "      <td id=\"T_8727b_row9_col3\" class=\"data row9 col3\" >0.6519</td>\n",
       "      <td id=\"T_8727b_row9_col4\" class=\"data row9 col4\" >0.6355</td>\n",
       "      <td id=\"T_8727b_row9_col5\" class=\"data row9 col5\" >0.2889</td>\n",
       "      <td id=\"T_8727b_row9_col6\" class=\"data row9 col6\" >0.2892</td>\n",
       "    </tr>\n",
       "    <tr>\n",
       "      <th id=\"T_8727b_level0_row10\" class=\"row_heading level0 row10\" >Mean</th>\n",
       "      <td id=\"T_8727b_row10_col0\" class=\"data row10 col0\" >0.6499</td>\n",
       "      <td id=\"T_8727b_row10_col1\" class=\"data row10 col1\" >0.7102</td>\n",
       "      <td id=\"T_8727b_row10_col2\" class=\"data row10 col2\" >0.6211</td>\n",
       "      <td id=\"T_8727b_row10_col3\" class=\"data row10 col3\" >0.6591</td>\n",
       "      <td id=\"T_8727b_row10_col4\" class=\"data row10 col4\" >0.6395</td>\n",
       "      <td id=\"T_8727b_row10_col5\" class=\"data row10 col5\" >0.2998</td>\n",
       "      <td id=\"T_8727b_row10_col6\" class=\"data row10 col6\" >0.3003</td>\n",
       "    </tr>\n",
       "    <tr>\n",
       "      <th id=\"T_8727b_level0_row11\" class=\"row_heading level0 row11\" >Std</th>\n",
       "      <td id=\"T_8727b_row11_col0\" class=\"data row11 col0\" >0.0027</td>\n",
       "      <td id=\"T_8727b_row11_col1\" class=\"data row11 col1\" >0.0020</td>\n",
       "      <td id=\"T_8727b_row11_col2\" class=\"data row11 col2\" >0.0035</td>\n",
       "      <td id=\"T_8727b_row11_col3\" class=\"data row11 col3\" >0.0031</td>\n",
       "      <td id=\"T_8727b_row11_col4\" class=\"data row11 col4\" >0.0028</td>\n",
       "      <td id=\"T_8727b_row11_col5\" class=\"data row11 col5\" >0.0054</td>\n",
       "      <td id=\"T_8727b_row11_col6\" class=\"data row11 col6\" >0.0054</td>\n",
       "    </tr>\n",
       "  </tbody>\n",
       "</table>\n"
      ],
      "text/plain": [
       "<pandas.io.formats.style.Styler at 0x7f4567d65960>"
      ]
     },
     "metadata": {},
     "output_type": "display_data"
    },
    {
     "data": {
      "text/html": [],
      "text/plain": [
       "<IPython.core.display.HTML object>"
      ]
     },
     "metadata": {},
     "output_type": "display_data"
    }
   ],
   "source": [
    "qda = create_model('qda')"
   ]
  },
  {
   "cell_type": "code",
   "execution_count": 36,
   "metadata": {},
   "outputs": [
    {
     "data": {
      "text/html": [],
      "text/plain": [
       "<IPython.core.display.HTML object>"
      ]
     },
     "metadata": {},
     "output_type": "display_data"
    },
    {
     "data": {
      "image/png": "[encoded data removed]",
      "text/plain": [
       "<Figure size 800x550 with 1 Axes>"
      ]
     },
     "metadata": {},
     "output_type": "display_data"
    }
   ],
   "source": [
    "plot_model(qda, plot = 'confusion_matrix')"
   ]
  },
  {
   "cell_type": "code",
   "execution_count": 37,
   "metadata": {},
   "outputs": [
    {
     "data": {
      "text/html": [],
      "text/plain": [
       "<IPython.core.display.HTML object>"
      ]
     },
     "metadata": {},
     "output_type": "display_data"
    },
    {
     "data": {
      "image/png": "[encoded data removed]",
      "text/plain": [
       "<Figure size 800x550 with 1 Axes>"
      ]
     },
     "metadata": {},
     "output_type": "display_data"
    }
   ],
   "source": [
    "plot_model(qda, plot = 'error')"
   ]
  },
  {
   "cell_type": "code",
   "execution_count": 38,
   "metadata": {},
   "outputs": [
    {
     "data": {
      "text/html": [],
      "text/plain": [
       "<IPython.core.display.HTML object>"
      ]
     },
     "metadata": {},
     "output_type": "display_data"
    },
    {
     "data": {
      "text/html": [
       "<div>\n",
       "<style scoped>\n",
       "    .dataframe tbody tr th:only-of-type {\n",
       "        vertical-align: middle;\n",
       "    }\n",
       "\n",
       "    .dataframe tbody tr th {\n",
       "        vertical-align: top;\n",
       "    }\n",
       "\n",
       "    .dataframe thead th {\n",
       "        text-align: right;\n",
       "    }\n",
       "</style>\n",
       "<table border=\"1\" class=\"dataframe\">\n",
       "  <thead>\n",
       "    <tr style=\"text-align: right;\">\n",
       "      <th></th>\n",
       "      <th>Parameters</th>\n",
       "    </tr>\n",
       "  </thead>\n",
       "  <tbody>\n",
       "    <tr>\n",
       "      <th>priors</th>\n",
       "      <td>None</td>\n",
       "    </tr>\n",
       "    <tr>\n",
       "      <th>reg_param</th>\n",
       "      <td>0.0</td>\n",
       "    </tr>\n",
       "    <tr>\n",
       "      <th>store_covariance</th>\n",
       "      <td>False</td>\n",
       "    </tr>\n",
       "    <tr>\n",
       "      <th>tol</th>\n",
       "      <td>0.0001</td>\n",
       "    </tr>\n",
       "  </tbody>\n",
       "</table>\n",
       "</div>"
      ],
      "text/plain": [
       "                 Parameters\n",
       "priors                 None\n",
       "reg_param               0.0\n",
       "store_covariance      False\n",
       "tol                  0.0001"
      ]
     },
     "metadata": {},
     "output_type": "display_data"
    }
   ],
   "source": [
    "plot_model(qda, plot = 'parameter')"
   ]
  },
  {
   "cell_type": "code",
   "execution_count": 39,
   "metadata": {},
   "outputs": [
    {
     "name": "stdout",
     "output_type": "stream",
     "text": [
      "Transformation Pipeline and Model Successfully Saved\n"
     ]
    },
    {
     "data": {
      "text/plain": [
       "(Pipeline(memory=FastMemory(location=/tmp/joblib),\n",
       "          steps=[('numerical_imputer',\n",
       "                  TransformerWrapper(exclude=None,\n",
       "                                     include=['0', '1', '2', '3', '4', '5', '6',\n",
       "                                              '7', '8', '9', '10', '11', '12',\n",
       "                                              '13', '14', '15', '16', '17', '18',\n",
       "                                              '19', '20', '21', '22', '23', '24',\n",
       "                                              '25', '26', '27', '28', '29', ...],\n",
       "                                     transformer=SimpleImputer(add_indicator=False,\n",
       "                                                               copy=True,\n",
       "                                                               fill_value=None,\n",
       "                                                               keep_empty_feat...\n",
       "                 ('categorical_imputer',\n",
       "                  TransformerWrapper(exclude=None, include=[],\n",
       "                                     transformer=SimpleImputer(add_indicator=False,\n",
       "                                                               copy=True,\n",
       "                                                               fill_value=None,\n",
       "                                                               keep_empty_features=False,\n",
       "                                                               missing_values=nan,\n",
       "                                                               strategy='most_frequent',\n",
       "                                                               verbose='deprecated'))),\n",
       "                 ('trained_model',\n",
       "                  QuadraticDiscriminantAnalysis(priors=None, reg_param=0.0,\n",
       "                                                store_covariance=False,\n",
       "                                                tol=0.0001))],\n",
       "          verbose=False),\n",
       " 'models_classif/convkb/qda.pkl')"
      ]
     },
     "execution_count": 39,
     "metadata": {},
     "output_type": "execute_result"
    }
   ],
   "source": [
    "save_model(qda, 'models_classif/convkb/qda')"
   ]
  },
  {
   "cell_type": "markdown",
   "metadata": {},
   "source": [
    "# Linear Discriminant Analysis"
   ]
  },
  {
   "cell_type": "code",
   "execution_count": 40,
   "metadata": {},
   "outputs": [
    {
     "data": {
      "text/html": [],
      "text/plain": [
       "<IPython.core.display.HTML object>"
      ]
     },
     "metadata": {},
     "output_type": "display_data"
    },
    {
     "data": {
      "text/html": [
       "<style type=\"text/css\">\n",
       "#T_b144a_row10_col0, #T_b144a_row10_col1, #T_b144a_row10_col2, #T_b144a_row10_col3, #T_b144a_row10_col4, #T_b144a_row10_col5, #T_b144a_row10_col6 {\n",
       "  background: yellow;\n",
       "}\n",
       "</style>\n",
       "<table id=\"T_b144a\">\n",
       "  <thead>\n",
       "    <tr>\n",
       "      <th class=\"blank level0\" >&nbsp;</th>\n",
       "      <th id=\"T_b144a_level0_col0\" class=\"col_heading level0 col0\" >Accuracy</th>\n",
       "      <th id=\"T_b144a_level0_col1\" class=\"col_heading level0 col1\" >AUC</th>\n",
       "      <th id=\"T_b144a_level0_col2\" class=\"col_heading level0 col2\" >Recall</th>\n",
       "      <th id=\"T_b144a_level0_col3\" class=\"col_heading level0 col3\" >Prec.</th>\n",
       "      <th id=\"T_b144a_level0_col4\" class=\"col_heading level0 col4\" >F1</th>\n",
       "      <th id=\"T_b144a_level0_col5\" class=\"col_heading level0 col5\" >Kappa</th>\n",
       "      <th id=\"T_b144a_level0_col6\" class=\"col_heading level0 col6\" >MCC</th>\n",
       "    </tr>\n",
       "    <tr>\n",
       "      <th class=\"index_name level0\" >Fold</th>\n",
       "      <th class=\"blank col0\" >&nbsp;</th>\n",
       "      <th class=\"blank col1\" >&nbsp;</th>\n",
       "      <th class=\"blank col2\" >&nbsp;</th>\n",
       "      <th class=\"blank col3\" >&nbsp;</th>\n",
       "      <th class=\"blank col4\" >&nbsp;</th>\n",
       "      <th class=\"blank col5\" >&nbsp;</th>\n",
       "      <th class=\"blank col6\" >&nbsp;</th>\n",
       "    </tr>\n",
       "  </thead>\n",
       "  <tbody>\n",
       "    <tr>\n",
       "      <th id=\"T_b144a_level0_row0\" class=\"row_heading level0 row0\" >0</th>\n",
       "      <td id=\"T_b144a_row0_col0\" class=\"data row0 col0\" >0.7313</td>\n",
       "      <td id=\"T_b144a_row0_col1\" class=\"data row0 col1\" >0.8036</td>\n",
       "      <td id=\"T_b144a_row0_col2\" class=\"data row0 col2\" >0.7839</td>\n",
       "      <td id=\"T_b144a_row0_col3\" class=\"data row0 col3\" >0.7092</td>\n",
       "      <td id=\"T_b144a_row0_col4\" class=\"data row0 col4\" >0.7447</td>\n",
       "      <td id=\"T_b144a_row0_col5\" class=\"data row0 col5\" >0.4625</td>\n",
       "      <td id=\"T_b144a_row0_col6\" class=\"data row0 col6\" >0.4651</td>\n",
       "    </tr>\n",
       "    <tr>\n",
       "      <th id=\"T_b144a_level0_row1\" class=\"row_heading level0 row1\" >1</th>\n",
       "      <td id=\"T_b144a_row1_col0\" class=\"data row1 col0\" >0.7284</td>\n",
       "      <td id=\"T_b144a_row1_col1\" class=\"data row1 col1\" >0.7989</td>\n",
       "      <td id=\"T_b144a_row1_col2\" class=\"data row1 col2\" >0.7820</td>\n",
       "      <td id=\"T_b144a_row1_col3\" class=\"data row1 col3\" >0.7063</td>\n",
       "      <td id=\"T_b144a_row1_col4\" class=\"data row1 col4\" >0.7422</td>\n",
       "      <td id=\"T_b144a_row1_col5\" class=\"data row1 col5\" >0.4567</td>\n",
       "      <td id=\"T_b144a_row1_col6\" class=\"data row1 col6\" >0.4594</td>\n",
       "    </tr>\n",
       "    <tr>\n",
       "      <th id=\"T_b144a_level0_row2\" class=\"row_heading level0 row2\" >2</th>\n",
       "      <td id=\"T_b144a_row2_col0\" class=\"data row2 col0\" >0.7327</td>\n",
       "      <td id=\"T_b144a_row2_col1\" class=\"data row2 col1\" >0.8023</td>\n",
       "      <td id=\"T_b144a_row2_col2\" class=\"data row2 col2\" >0.7831</td>\n",
       "      <td id=\"T_b144a_row2_col3\" class=\"data row2 col3\" >0.7114</td>\n",
       "      <td id=\"T_b144a_row2_col4\" class=\"data row2 col4\" >0.7456</td>\n",
       "      <td id=\"T_b144a_row2_col5\" class=\"data row2 col5\" >0.4655</td>\n",
       "      <td id=\"T_b144a_row2_col6\" class=\"data row2 col6\" >0.4679</td>\n",
       "    </tr>\n",
       "    <tr>\n",
       "      <th id=\"T_b144a_level0_row3\" class=\"row_heading level0 row3\" >3</th>\n",
       "      <td id=\"T_b144a_row3_col0\" class=\"data row3 col0\" >0.7307</td>\n",
       "      <td id=\"T_b144a_row3_col1\" class=\"data row3 col1\" >0.8004</td>\n",
       "      <td id=\"T_b144a_row3_col2\" class=\"data row3 col2\" >0.7831</td>\n",
       "      <td id=\"T_b144a_row3_col3\" class=\"data row3 col3\" >0.7088</td>\n",
       "      <td id=\"T_b144a_row3_col4\" class=\"data row3 col4\" >0.7441</td>\n",
       "      <td id=\"T_b144a_row3_col5\" class=\"data row3 col5\" >0.4613</td>\n",
       "      <td id=\"T_b144a_row3_col6\" class=\"data row3 col6\" >0.4639</td>\n",
       "    </tr>\n",
       "    <tr>\n",
       "      <th id=\"T_b144a_level0_row4\" class=\"row_heading level0 row4\" >4</th>\n",
       "      <td id=\"T_b144a_row4_col0\" class=\"data row4 col0\" >0.7305</td>\n",
       "      <td id=\"T_b144a_row4_col1\" class=\"data row4 col1\" >0.8017</td>\n",
       "      <td id=\"T_b144a_row4_col2\" class=\"data row4 col2\" >0.7781</td>\n",
       "      <td id=\"T_b144a_row4_col3\" class=\"data row4 col3\" >0.7105</td>\n",
       "      <td id=\"T_b144a_row4_col4\" class=\"data row4 col4\" >0.7427</td>\n",
       "      <td id=\"T_b144a_row4_col5\" class=\"data row4 col5\" >0.4610</td>\n",
       "      <td id=\"T_b144a_row4_col6\" class=\"data row4 col6\" >0.4631</td>\n",
       "    </tr>\n",
       "    <tr>\n",
       "      <th id=\"T_b144a_level0_row5\" class=\"row_heading level0 row5\" >5</th>\n",
       "      <td id=\"T_b144a_row5_col0\" class=\"data row5 col0\" >0.7327</td>\n",
       "      <td id=\"T_b144a_row5_col1\" class=\"data row5 col1\" >0.8021</td>\n",
       "      <td id=\"T_b144a_row5_col2\" class=\"data row5 col2\" >0.7803</td>\n",
       "      <td id=\"T_b144a_row5_col3\" class=\"data row5 col3\" >0.7125</td>\n",
       "      <td id=\"T_b144a_row5_col4\" class=\"data row5 col4\" >0.7449</td>\n",
       "      <td id=\"T_b144a_row5_col5\" class=\"data row5 col5\" >0.4654</td>\n",
       "      <td id=\"T_b144a_row5_col6\" class=\"data row5 col6\" >0.4675</td>\n",
       "    </tr>\n",
       "    <tr>\n",
       "      <th id=\"T_b144a_level0_row6\" class=\"row_heading level0 row6\" >6</th>\n",
       "      <td id=\"T_b144a_row6_col0\" class=\"data row6 col0\" >0.7311</td>\n",
       "      <td id=\"T_b144a_row6_col1\" class=\"data row6 col1\" >0.7994</td>\n",
       "      <td id=\"T_b144a_row6_col2\" class=\"data row6 col2\" >0.7826</td>\n",
       "      <td id=\"T_b144a_row6_col3\" class=\"data row6 col3\" >0.7096</td>\n",
       "      <td id=\"T_b144a_row6_col4\" class=\"data row6 col4\" >0.7443</td>\n",
       "      <td id=\"T_b144a_row6_col5\" class=\"data row6 col5\" >0.4623</td>\n",
       "      <td id=\"T_b144a_row6_col6\" class=\"data row6 col6\" >0.4647</td>\n",
       "    </tr>\n",
       "    <tr>\n",
       "      <th id=\"T_b144a_level0_row7\" class=\"row_heading level0 row7\" >7</th>\n",
       "      <td id=\"T_b144a_row7_col0\" class=\"data row7 col0\" >0.7290</td>\n",
       "      <td id=\"T_b144a_row7_col1\" class=\"data row7 col1\" >0.7986</td>\n",
       "      <td id=\"T_b144a_row7_col2\" class=\"data row7 col2\" >0.7827</td>\n",
       "      <td id=\"T_b144a_row7_col3\" class=\"data row7 col3\" >0.7068</td>\n",
       "      <td id=\"T_b144a_row7_col4\" class=\"data row7 col4\" >0.7428</td>\n",
       "      <td id=\"T_b144a_row7_col5\" class=\"data row7 col5\" >0.4581</td>\n",
       "      <td id=\"T_b144a_row7_col6\" class=\"data row7 col6\" >0.4607</td>\n",
       "    </tr>\n",
       "    <tr>\n",
       "      <th id=\"T_b144a_level0_row8\" class=\"row_heading level0 row8\" >8</th>\n",
       "      <td id=\"T_b144a_row8_col0\" class=\"data row8 col0\" >0.7297</td>\n",
       "      <td id=\"T_b144a_row8_col1\" class=\"data row8 col1\" >0.7983</td>\n",
       "      <td id=\"T_b144a_row8_col2\" class=\"data row8 col2\" >0.7814</td>\n",
       "      <td id=\"T_b144a_row8_col3\" class=\"data row8 col3\" >0.7082</td>\n",
       "      <td id=\"T_b144a_row8_col4\" class=\"data row8 col4\" >0.7430</td>\n",
       "      <td id=\"T_b144a_row8_col5\" class=\"data row8 col5\" >0.4595</td>\n",
       "      <td id=\"T_b144a_row8_col6\" class=\"data row8 col6\" >0.4620</td>\n",
       "    </tr>\n",
       "    <tr>\n",
       "      <th id=\"T_b144a_level0_row9\" class=\"row_heading level0 row9\" >9</th>\n",
       "      <td id=\"T_b144a_row9_col0\" class=\"data row9 col0\" >0.7277</td>\n",
       "      <td id=\"T_b144a_row9_col1\" class=\"data row9 col1\" >0.7981</td>\n",
       "      <td id=\"T_b144a_row9_col2\" class=\"data row9 col2\" >0.7790</td>\n",
       "      <td id=\"T_b144a_row9_col3\" class=\"data row9 col3\" >0.7066</td>\n",
       "      <td id=\"T_b144a_row9_col4\" class=\"data row9 col4\" >0.7410</td>\n",
       "      <td id=\"T_b144a_row9_col5\" class=\"data row9 col5\" >0.4555</td>\n",
       "      <td id=\"T_b144a_row9_col6\" class=\"data row9 col6\" >0.4579</td>\n",
       "    </tr>\n",
       "    <tr>\n",
       "      <th id=\"T_b144a_level0_row10\" class=\"row_heading level0 row10\" >Mean</th>\n",
       "      <td id=\"T_b144a_row10_col0\" class=\"data row10 col0\" >0.7304</td>\n",
       "      <td id=\"T_b144a_row10_col1\" class=\"data row10 col1\" >0.8003</td>\n",
       "      <td id=\"T_b144a_row10_col2\" class=\"data row10 col2\" >0.7816</td>\n",
       "      <td id=\"T_b144a_row10_col3\" class=\"data row10 col3\" >0.7090</td>\n",
       "      <td id=\"T_b144a_row10_col4\" class=\"data row10 col4\" >0.7435</td>\n",
       "      <td id=\"T_b144a_row10_col5\" class=\"data row10 col5\" >0.4608</td>\n",
       "      <td id=\"T_b144a_row10_col6\" class=\"data row10 col6\" >0.4632</td>\n",
       "    </tr>\n",
       "    <tr>\n",
       "      <th id=\"T_b144a_level0_row11\" class=\"row_heading level0 row11\" >Std</th>\n",
       "      <td id=\"T_b144a_row11_col0\" class=\"data row11 col0\" >0.0016</td>\n",
       "      <td id=\"T_b144a_row11_col1\" class=\"data row11 col1\" >0.0019</td>\n",
       "      <td id=\"T_b144a_row11_col2\" class=\"data row11 col2\" >0.0018</td>\n",
       "      <td id=\"T_b144a_row11_col3\" class=\"data row11 col3\" >0.0020</td>\n",
       "      <td id=\"T_b144a_row11_col4\" class=\"data row11 col4\" >0.0013</td>\n",
       "      <td id=\"T_b144a_row11_col5\" class=\"data row11 col5\" >0.0032</td>\n",
       "      <td id=\"T_b144a_row11_col6\" class=\"data row11 col6\" >0.0031</td>\n",
       "    </tr>\n",
       "  </tbody>\n",
       "</table>\n"
      ],
      "text/plain": [
       "<pandas.io.formats.style.Styler at 0x7f4567d34100>"
      ]
     },
     "metadata": {},
     "output_type": "display_data"
    },
    {
     "data": {
      "text/html": [],
      "text/plain": [
       "<IPython.core.display.HTML object>"
      ]
     },
     "metadata": {},
     "output_type": "display_data"
    }
   ],
   "source": [
    "lda = create_model('lda')"
   ]
  },
  {
   "cell_type": "code",
   "execution_count": 41,
   "metadata": {},
   "outputs": [
    {
     "data": {
      "text/html": [],
      "text/plain": [
       "<IPython.core.display.HTML object>"
      ]
     },
     "metadata": {},
     "output_type": "display_data"
    },
    {
     "data": {
      "image/png": "[encoded data removed]",
      "text/plain": [
       "<Figure size 800x550 with 1 Axes>"
      ]
     },
     "metadata": {},
     "output_type": "display_data"
    }
   ],
   "source": [
    "plot_model(lda, plot = 'confusion_matrix')"
   ]
  },
  {
   "cell_type": "code",
   "execution_count": 42,
   "metadata": {},
   "outputs": [
    {
     "data": {
      "text/html": [],
      "text/plain": [
       "<IPython.core.display.HTML object>"
      ]
     },
     "metadata": {},
     "output_type": "display_data"
    },
    {
     "data": {
      "image/png": "[encoded data removed]",
      "text/plain": [
       "<Figure size 800x550 with 1 Axes>"
      ]
     },
     "metadata": {},
     "output_type": "display_data"
    }
   ],
   "source": [
    "plot_model(lda, plot = 'error')"
   ]
  },
  {
   "cell_type": "code",
   "execution_count": 43,
   "metadata": {},
   "outputs": [
    {
     "data": {
      "text/html": [],
      "text/plain": [
       "<IPython.core.display.HTML object>"
      ]
     },
     "metadata": {},
     "output_type": "display_data"
    },
    {
     "data": {
      "text/html": [
       "<div>\n",
       "<style scoped>\n",
       "    .dataframe tbody tr th:only-of-type {\n",
       "        vertical-align: middle;\n",
       "    }\n",
       "\n",
       "    .dataframe tbody tr th {\n",
       "        vertical-align: top;\n",
       "    }\n",
       "\n",
       "    .dataframe thead th {\n",
       "        text-align: right;\n",
       "    }\n",
       "</style>\n",
       "<table border=\"1\" class=\"dataframe\">\n",
       "  <thead>\n",
       "    <tr style=\"text-align: right;\">\n",
       "      <th></th>\n",
       "      <th>Parameters</th>\n",
       "    </tr>\n",
       "  </thead>\n",
       "  <tbody>\n",
       "    <tr>\n",
       "      <th>covariance_estimator</th>\n",
       "      <td>None</td>\n",
       "    </tr>\n",
       "    <tr>\n",
       "      <th>n_components</th>\n",
       "      <td>None</td>\n",
       "    </tr>\n",
       "    <tr>\n",
       "      <th>priors</th>\n",
       "      <td>None</td>\n",
       "    </tr>\n",
       "    <tr>\n",
       "      <th>shrinkage</th>\n",
       "      <td>None</td>\n",
       "    </tr>\n",
       "    <tr>\n",
       "      <th>solver</th>\n",
       "      <td>svd</td>\n",
       "    </tr>\n",
       "    <tr>\n",
       "      <th>store_covariance</th>\n",
       "      <td>False</td>\n",
       "    </tr>\n",
       "    <tr>\n",
       "      <th>tol</th>\n",
       "      <td>0.0001</td>\n",
       "    </tr>\n",
       "  </tbody>\n",
       "</table>\n",
       "</div>"
      ],
      "text/plain": [
       "                     Parameters\n",
       "covariance_estimator       None\n",
       "n_components               None\n",
       "priors                     None\n",
       "shrinkage                  None\n",
       "solver                      svd\n",
       "store_covariance          False\n",
       "tol                      0.0001"
      ]
     },
     "metadata": {},
     "output_type": "display_data"
    }
   ],
   "source": [
    "plot_model(lda, plot = 'parameter')"
   ]
  },
  {
   "cell_type": "code",
   "execution_count": 44,
   "metadata": {},
   "outputs": [
    {
     "name": "stdout",
     "output_type": "stream",
     "text": [
      "Transformation Pipeline and Model Successfully Saved\n"
     ]
    },
    {
     "data": {
      "text/plain": [
       "(Pipeline(memory=FastMemory(location=/tmp/joblib),\n",
       "          steps=[('numerical_imputer',\n",
       "                  TransformerWrapper(exclude=None,\n",
       "                                     include=['0', '1', '2', '3', '4', '5', '6',\n",
       "                                              '7', '8', '9', '10', '11', '12',\n",
       "                                              '13', '14', '15', '16', '17', '18',\n",
       "                                              '19', '20', '21', '22', '23', '24',\n",
       "                                              '25', '26', '27', '28', '29', ...],\n",
       "                                     transformer=SimpleImputer(add_indicator=False,\n",
       "                                                               copy=True,\n",
       "                                                               fill_value=None,\n",
       "                                                               keep_empty_feat...\n",
       "                  TransformerWrapper(exclude=None, include=[],\n",
       "                                     transformer=SimpleImputer(add_indicator=False,\n",
       "                                                               copy=True,\n",
       "                                                               fill_value=None,\n",
       "                                                               keep_empty_features=False,\n",
       "                                                               missing_values=nan,\n",
       "                                                               strategy='most_frequent',\n",
       "                                                               verbose='deprecated'))),\n",
       "                 ('trained_model',\n",
       "                  LinearDiscriminantAnalysis(covariance_estimator=None,\n",
       "                                             n_components=None, priors=None,\n",
       "                                             shrinkage=None, solver='svd',\n",
       "                                             store_covariance=False,\n",
       "                                             tol=0.0001))],\n",
       "          verbose=False),\n",
       " 'models_classif/convkb/lda.pkl')"
      ]
     },
     "execution_count": 44,
     "metadata": {},
     "output_type": "execute_result"
    }
   ],
   "source": [
    "save_model(lda, 'models_classif/convkb/lda')"
   ]
  },
  {
   "cell_type": "markdown",
   "metadata": {},
   "source": [
    "# Extra Trees"
   ]
  },
  {
   "cell_type": "code",
   "execution_count": 45,
   "metadata": {},
   "outputs": [
    {
     "data": {
      "text/html": [],
      "text/plain": [
       "<IPython.core.display.HTML object>"
      ]
     },
     "metadata": {},
     "output_type": "display_data"
    },
    {
     "data": {
      "text/html": [
       "<style type=\"text/css\">\n",
       "#T_eddf4_row10_col0, #T_eddf4_row10_col1, #T_eddf4_row10_col2, #T_eddf4_row10_col3, #T_eddf4_row10_col4, #T_eddf4_row10_col5, #T_eddf4_row10_col6 {\n",
       "  background: yellow;\n",
       "}\n",
       "</style>\n",
       "<table id=\"T_eddf4\">\n",
       "  <thead>\n",
       "    <tr>\n",
       "      <th class=\"blank level0\" >&nbsp;</th>\n",
       "      <th id=\"T_eddf4_level0_col0\" class=\"col_heading level0 col0\" >Accuracy</th>\n",
       "      <th id=\"T_eddf4_level0_col1\" class=\"col_heading level0 col1\" >AUC</th>\n",
       "      <th id=\"T_eddf4_level0_col2\" class=\"col_heading level0 col2\" >Recall</th>\n",
       "      <th id=\"T_eddf4_level0_col3\" class=\"col_heading level0 col3\" >Prec.</th>\n",
       "      <th id=\"T_eddf4_level0_col4\" class=\"col_heading level0 col4\" >F1</th>\n",
       "      <th id=\"T_eddf4_level0_col5\" class=\"col_heading level0 col5\" >Kappa</th>\n",
       "      <th id=\"T_eddf4_level0_col6\" class=\"col_heading level0 col6\" >MCC</th>\n",
       "    </tr>\n",
       "    <tr>\n",
       "      <th class=\"index_name level0\" >Fold</th>\n",
       "      <th class=\"blank col0\" >&nbsp;</th>\n",
       "      <th class=\"blank col1\" >&nbsp;</th>\n",
       "      <th class=\"blank col2\" >&nbsp;</th>\n",
       "      <th class=\"blank col3\" >&nbsp;</th>\n",
       "      <th class=\"blank col4\" >&nbsp;</th>\n",
       "      <th class=\"blank col5\" >&nbsp;</th>\n",
       "      <th class=\"blank col6\" >&nbsp;</th>\n",
       "    </tr>\n",
       "  </thead>\n",
       "  <tbody>\n",
       "    <tr>\n",
       "      <th id=\"T_eddf4_level0_row0\" class=\"row_heading level0 row0\" >0</th>\n",
       "      <td id=\"T_eddf4_row0_col0\" class=\"data row0 col0\" >0.8879</td>\n",
       "      <td id=\"T_eddf4_row0_col1\" class=\"data row0 col1\" >0.9491</td>\n",
       "      <td id=\"T_eddf4_row0_col2\" class=\"data row0 col2\" >0.9429</td>\n",
       "      <td id=\"T_eddf4_row0_col3\" class=\"data row0 col3\" >0.8495</td>\n",
       "      <td id=\"T_eddf4_row0_col4\" class=\"data row0 col4\" >0.8937</td>\n",
       "      <td id=\"T_eddf4_row0_col5\" class=\"data row0 col5\" >0.7758</td>\n",
       "      <td id=\"T_eddf4_row0_col6\" class=\"data row0 col6\" >0.7805</td>\n",
       "    </tr>\n",
       "    <tr>\n",
       "      <th id=\"T_eddf4_level0_row1\" class=\"row_heading level0 row1\" >1</th>\n",
       "      <td id=\"T_eddf4_row1_col0\" class=\"data row1 col0\" >0.8849</td>\n",
       "      <td id=\"T_eddf4_row1_col1\" class=\"data row1 col1\" >0.9478</td>\n",
       "      <td id=\"T_eddf4_row1_col2\" class=\"data row1 col2\" >0.9454</td>\n",
       "      <td id=\"T_eddf4_row1_col3\" class=\"data row1 col3\" >0.8434</td>\n",
       "      <td id=\"T_eddf4_row1_col4\" class=\"data row1 col4\" >0.8915</td>\n",
       "      <td id=\"T_eddf4_row1_col5\" class=\"data row1 col5\" >0.7698</td>\n",
       "      <td id=\"T_eddf4_row1_col6\" class=\"data row1 col6\" >0.7755</td>\n",
       "    </tr>\n",
       "    <tr>\n",
       "      <th id=\"T_eddf4_level0_row2\" class=\"row_heading level0 row2\" >2</th>\n",
       "      <td id=\"T_eddf4_row2_col0\" class=\"data row2 col0\" >0.8859</td>\n",
       "      <td id=\"T_eddf4_row2_col1\" class=\"data row2 col1\" >0.9493</td>\n",
       "      <td id=\"T_eddf4_row2_col2\" class=\"data row2 col2\" >0.9410</td>\n",
       "      <td id=\"T_eddf4_row2_col3\" class=\"data row2 col3\" >0.8475</td>\n",
       "      <td id=\"T_eddf4_row2_col4\" class=\"data row2 col4\" >0.8918</td>\n",
       "      <td id=\"T_eddf4_row2_col5\" class=\"data row2 col5\" >0.7717</td>\n",
       "      <td id=\"T_eddf4_row2_col6\" class=\"data row2 col6\" >0.7764</td>\n",
       "    </tr>\n",
       "    <tr>\n",
       "      <th id=\"T_eddf4_level0_row3\" class=\"row_heading level0 row3\" >3</th>\n",
       "      <td id=\"T_eddf4_row3_col0\" class=\"data row3 col0\" >0.8851</td>\n",
       "      <td id=\"T_eddf4_row3_col1\" class=\"data row3 col1\" >0.9494</td>\n",
       "      <td id=\"T_eddf4_row3_col2\" class=\"data row3 col2\" >0.9439</td>\n",
       "      <td id=\"T_eddf4_row3_col3\" class=\"data row3 col3\" >0.8446</td>\n",
       "      <td id=\"T_eddf4_row3_col4\" class=\"data row3 col4\" >0.8915</td>\n",
       "      <td id=\"T_eddf4_row3_col5\" class=\"data row3 col5\" >0.7703</td>\n",
       "      <td id=\"T_eddf4_row3_col6\" class=\"data row3 col6\" >0.7756</td>\n",
       "    </tr>\n",
       "    <tr>\n",
       "      <th id=\"T_eddf4_level0_row4\" class=\"row_heading level0 row4\" >4</th>\n",
       "      <td id=\"T_eddf4_row4_col0\" class=\"data row4 col0\" >0.8861</td>\n",
       "      <td id=\"T_eddf4_row4_col1\" class=\"data row4 col1\" >0.9487</td>\n",
       "      <td id=\"T_eddf4_row4_col2\" class=\"data row4 col2\" >0.9423</td>\n",
       "      <td id=\"T_eddf4_row4_col3\" class=\"data row4 col3\" >0.8471</td>\n",
       "      <td id=\"T_eddf4_row4_col4\" class=\"data row4 col4\" >0.8921</td>\n",
       "      <td id=\"T_eddf4_row4_col5\" class=\"data row4 col5\" >0.7721</td>\n",
       "      <td id=\"T_eddf4_row4_col6\" class=\"data row4 col6\" >0.7771</td>\n",
       "    </tr>\n",
       "    <tr>\n",
       "      <th id=\"T_eddf4_level0_row5\" class=\"row_heading level0 row5\" >5</th>\n",
       "      <td id=\"T_eddf4_row5_col0\" class=\"data row5 col0\" >0.8838</td>\n",
       "      <td id=\"T_eddf4_row5_col1\" class=\"data row5 col1\" >0.9467</td>\n",
       "      <td id=\"T_eddf4_row5_col2\" class=\"data row5 col2\" >0.9398</td>\n",
       "      <td id=\"T_eddf4_row5_col3\" class=\"data row5 col3\" >0.8452</td>\n",
       "      <td id=\"T_eddf4_row5_col4\" class=\"data row5 col4\" >0.8900</td>\n",
       "      <td id=\"T_eddf4_row5_col5\" class=\"data row5 col5\" >0.7677</td>\n",
       "      <td id=\"T_eddf4_row5_col6\" class=\"data row5 col6\" >0.7725</td>\n",
       "    </tr>\n",
       "    <tr>\n",
       "      <th id=\"T_eddf4_level0_row6\" class=\"row_heading level0 row6\" >6</th>\n",
       "      <td id=\"T_eddf4_row6_col0\" class=\"data row6 col0\" >0.8849</td>\n",
       "      <td id=\"T_eddf4_row6_col1\" class=\"data row6 col1\" >0.9493</td>\n",
       "      <td id=\"T_eddf4_row6_col2\" class=\"data row6 col2\" >0.9418</td>\n",
       "      <td id=\"T_eddf4_row6_col3\" class=\"data row6 col3\" >0.8455</td>\n",
       "      <td id=\"T_eddf4_row6_col4\" class=\"data row6 col4\" >0.8911</td>\n",
       "      <td id=\"T_eddf4_row6_col5\" class=\"data row6 col5\" >0.7697</td>\n",
       "      <td id=\"T_eddf4_row6_col6\" class=\"data row6 col6\" >0.7748</td>\n",
       "    </tr>\n",
       "    <tr>\n",
       "      <th id=\"T_eddf4_level0_row7\" class=\"row_heading level0 row7\" >7</th>\n",
       "      <td id=\"T_eddf4_row7_col0\" class=\"data row7 col0\" >0.8837</td>\n",
       "      <td id=\"T_eddf4_row7_col1\" class=\"data row7 col1\" >0.9474</td>\n",
       "      <td id=\"T_eddf4_row7_col2\" class=\"data row7 col2\" >0.9414</td>\n",
       "      <td id=\"T_eddf4_row7_col3\" class=\"data row7 col3\" >0.8440</td>\n",
       "      <td id=\"T_eddf4_row7_col4\" class=\"data row7 col4\" >0.8901</td>\n",
       "      <td id=\"T_eddf4_row7_col5\" class=\"data row7 col5\" >0.7674</td>\n",
       "      <td id=\"T_eddf4_row7_col6\" class=\"data row7 col6\" >0.7726</td>\n",
       "    </tr>\n",
       "    <tr>\n",
       "      <th id=\"T_eddf4_level0_row8\" class=\"row_heading level0 row8\" >8</th>\n",
       "      <td id=\"T_eddf4_row8_col0\" class=\"data row8 col0\" >0.8842</td>\n",
       "      <td id=\"T_eddf4_row8_col1\" class=\"data row8 col1\" >0.9487</td>\n",
       "      <td id=\"T_eddf4_row8_col2\" class=\"data row8 col2\" >0.9400</td>\n",
       "      <td id=\"T_eddf4_row8_col3\" class=\"data row8 col3\" >0.8456</td>\n",
       "      <td id=\"T_eddf4_row8_col4\" class=\"data row8 col4\" >0.8903</td>\n",
       "      <td id=\"T_eddf4_row8_col5\" class=\"data row8 col5\" >0.7683</td>\n",
       "      <td id=\"T_eddf4_row8_col6\" class=\"data row8 col6\" >0.7732</td>\n",
       "    </tr>\n",
       "    <tr>\n",
       "      <th id=\"T_eddf4_level0_row9\" class=\"row_heading level0 row9\" >9</th>\n",
       "      <td id=\"T_eddf4_row9_col0\" class=\"data row9 col0\" >0.8844</td>\n",
       "      <td id=\"T_eddf4_row9_col1\" class=\"data row9 col1\" >0.9489</td>\n",
       "      <td id=\"T_eddf4_row9_col2\" class=\"data row9 col2\" >0.9422</td>\n",
       "      <td id=\"T_eddf4_row9_col3\" class=\"data row9 col3\" >0.8446</td>\n",
       "      <td id=\"T_eddf4_row9_col4\" class=\"data row9 col4\" >0.8907</td>\n",
       "      <td id=\"T_eddf4_row9_col5\" class=\"data row9 col5\" >0.7688</td>\n",
       "      <td id=\"T_eddf4_row9_col6\" class=\"data row9 col6\" >0.7740</td>\n",
       "    </tr>\n",
       "    <tr>\n",
       "      <th id=\"T_eddf4_level0_row10\" class=\"row_heading level0 row10\" >Mean</th>\n",
       "      <td id=\"T_eddf4_row10_col0\" class=\"data row10 col0\" >0.8851</td>\n",
       "      <td id=\"T_eddf4_row10_col1\" class=\"data row10 col1\" >0.9485</td>\n",
       "      <td id=\"T_eddf4_row10_col2\" class=\"data row10 col2\" >0.9421</td>\n",
       "      <td id=\"T_eddf4_row10_col3\" class=\"data row10 col3\" >0.8457</td>\n",
       "      <td id=\"T_eddf4_row10_col4\" class=\"data row10 col4\" >0.8913</td>\n",
       "      <td id=\"T_eddf4_row10_col5\" class=\"data row10 col5\" >0.7702</td>\n",
       "      <td id=\"T_eddf4_row10_col6\" class=\"data row10 col6\" >0.7752</td>\n",
       "    </tr>\n",
       "    <tr>\n",
       "      <th id=\"T_eddf4_level0_row11\" class=\"row_heading level0 row11\" >Std</th>\n",
       "      <td id=\"T_eddf4_row11_col0\" class=\"data row11 col0\" >0.0012</td>\n",
       "      <td id=\"T_eddf4_row11_col1\" class=\"data row11 col1\" >0.0009</td>\n",
       "      <td id=\"T_eddf4_row11_col2\" class=\"data row11 col2\" >0.0016</td>\n",
       "      <td id=\"T_eddf4_row11_col3\" class=\"data row11 col3\" >0.0017</td>\n",
       "      <td id=\"T_eddf4_row11_col4\" class=\"data row11 col4\" >0.0011</td>\n",
       "      <td id=\"T_eddf4_row11_col5\" class=\"data row11 col5\" >0.0024</td>\n",
       "      <td id=\"T_eddf4_row11_col6\" class=\"data row11 col6\" >0.0023</td>\n",
       "    </tr>\n",
       "  </tbody>\n",
       "</table>\n"
      ],
      "text/plain": [
       "<pandas.io.formats.style.Styler at 0x7f468cd6f4f0>"
      ]
     },
     "metadata": {},
     "output_type": "display_data"
    },
    {
     "data": {
      "text/html": [],
      "text/plain": [
       "<IPython.core.display.HTML object>"
      ]
     },
     "metadata": {},
     "output_type": "display_data"
    }
   ],
   "source": [
    "et = create_model('et')"
   ]
  },
  {
   "cell_type": "code",
   "execution_count": 46,
   "metadata": {},
   "outputs": [
    {
     "data": {
      "text/html": [],
      "text/plain": [
       "<IPython.core.display.HTML object>"
      ]
     },
     "metadata": {},
     "output_type": "display_data"
    },
    {
     "data": {
      "image/png": "[encoded data removed]",
      "text/plain": [
       "<Figure size 800x550 with 1 Axes>"
      ]
     },
     "metadata": {},
     "output_type": "display_data"
    }
   ],
   "source": [
    "plot_model(et, plot = 'confusion_matrix')"
   ]
  },
  {
   "cell_type": "code",
   "execution_count": 47,
   "metadata": {},
   "outputs": [
    {
     "data": {
      "text/html": [],
      "text/plain": [
       "<IPython.core.display.HTML object>"
      ]
     },
     "metadata": {},
     "output_type": "display_data"
    },
    {
     "data": {
      "image/png": "[encoded data removed]",
      "text/plain": [
       "<Figure size 800x550 with 1 Axes>"
      ]
     },
     "metadata": {},
     "output_type": "display_data"
    }
   ],
   "source": [
    "plot_model(et, plot = 'error')"
   ]
  },
  {
   "cell_type": "code",
   "execution_count": 48,
   "metadata": {},
   "outputs": [
    {
     "data": {
      "text/html": [],
      "text/plain": [
       "<IPython.core.display.HTML object>"
      ]
     },
     "metadata": {},
     "output_type": "display_data"
    },
    {
     "data": {
      "text/html": [
       "<div>\n",
       "<style scoped>\n",
       "    .dataframe tbody tr th:only-of-type {\n",
       "        vertical-align: middle;\n",
       "    }\n",
       "\n",
       "    .dataframe tbody tr th {\n",
       "        vertical-align: top;\n",
       "    }\n",
       "\n",
       "    .dataframe thead th {\n",
       "        text-align: right;\n",
       "    }\n",
       "</style>\n",
       "<table border=\"1\" class=\"dataframe\">\n",
       "  <thead>\n",
       "    <tr style=\"text-align: right;\">\n",
       "      <th></th>\n",
       "      <th>Parameters</th>\n",
       "    </tr>\n",
       "  </thead>\n",
       "  <tbody>\n",
       "    <tr>\n",
       "      <th>bootstrap</th>\n",
       "      <td>False</td>\n",
       "    </tr>\n",
       "    <tr>\n",
       "      <th>ccp_alpha</th>\n",
       "      <td>0.0</td>\n",
       "    </tr>\n",
       "    <tr>\n",
       "      <th>class_weight</th>\n",
       "      <td>None</td>\n",
       "    </tr>\n",
       "    <tr>\n",
       "      <th>criterion</th>\n",
       "      <td>gini</td>\n",
       "    </tr>\n",
       "    <tr>\n",
       "      <th>max_depth</th>\n",
       "      <td>None</td>\n",
       "    </tr>\n",
       "    <tr>\n",
       "      <th>max_features</th>\n",
       "      <td>sqrt</td>\n",
       "    </tr>\n",
       "    <tr>\n",
       "      <th>max_leaf_nodes</th>\n",
       "      <td>None</td>\n",
       "    </tr>\n",
       "    <tr>\n",
       "      <th>max_samples</th>\n",
       "      <td>None</td>\n",
       "    </tr>\n",
       "    <tr>\n",
       "      <th>min_impurity_decrease</th>\n",
       "      <td>0.0</td>\n",
       "    </tr>\n",
       "    <tr>\n",
       "      <th>min_samples_leaf</th>\n",
       "      <td>1</td>\n",
       "    </tr>\n",
       "    <tr>\n",
       "      <th>min_samples_split</th>\n",
       "      <td>2</td>\n",
       "    </tr>\n",
       "    <tr>\n",
       "      <th>min_weight_fraction_leaf</th>\n",
       "      <td>0.0</td>\n",
       "    </tr>\n",
       "    <tr>\n",
       "      <th>n_estimators</th>\n",
       "      <td>100</td>\n",
       "    </tr>\n",
       "    <tr>\n",
       "      <th>n_jobs</th>\n",
       "      <td>-1</td>\n",
       "    </tr>\n",
       "    <tr>\n",
       "      <th>oob_score</th>\n",
       "      <td>False</td>\n",
       "    </tr>\n",
       "    <tr>\n",
       "      <th>random_state</th>\n",
       "      <td>5892</td>\n",
       "    </tr>\n",
       "    <tr>\n",
       "      <th>verbose</th>\n",
       "      <td>0</td>\n",
       "    </tr>\n",
       "    <tr>\n",
       "      <th>warm_start</th>\n",
       "      <td>False</td>\n",
       "    </tr>\n",
       "  </tbody>\n",
       "</table>\n",
       "</div>"
      ],
      "text/plain": [
       "                         Parameters\n",
       "bootstrap                     False\n",
       "ccp_alpha                       0.0\n",
       "class_weight                   None\n",
       "criterion                      gini\n",
       "max_depth                      None\n",
       "max_features                   sqrt\n",
       "max_leaf_nodes                 None\n",
       "max_samples                    None\n",
       "min_impurity_decrease           0.0\n",
       "min_samples_leaf                  1\n",
       "min_samples_split                 2\n",
       "min_weight_fraction_leaf        0.0\n",
       "n_estimators                    100\n",
       "n_jobs                           -1\n",
       "oob_score                     False\n",
       "random_state                   5892\n",
       "verbose                           0\n",
       "warm_start                    False"
      ]
     },
     "metadata": {},
     "output_type": "display_data"
    }
   ],
   "source": [
    "plot_model(et, plot = 'parameter')"
   ]
  },
  {
   "cell_type": "code",
   "execution_count": 49,
   "metadata": {},
   "outputs": [
    {
     "name": "stdout",
     "output_type": "stream",
     "text": [
      "Transformation Pipeline and Model Successfully Saved\n"
     ]
    },
    {
     "data": {
      "text/plain": [
       "(Pipeline(memory=FastMemory(location=/tmp/joblib),\n",
       "          steps=[('numerical_imputer',\n",
       "                  TransformerWrapper(exclude=None,\n",
       "                                     include=['0', '1', '2', '3', '4', '5', '6',\n",
       "                                              '7', '8', '9', '10', '11', '12',\n",
       "                                              '13', '14', '15', '16', '17', '18',\n",
       "                                              '19', '20', '21', '22', '23', '24',\n",
       "                                              '25', '26', '27', '28', '29', ...],\n",
       "                                     transformer=SimpleImputer(add_indicator=False,\n",
       "                                                               copy=True,\n",
       "                                                               fill_value=None,\n",
       "                                                               keep_empty_feat...\n",
       "                  ExtraTreesClassifier(bootstrap=False, ccp_alpha=0.0,\n",
       "                                       class_weight=None, criterion='gini',\n",
       "                                       max_depth=None, max_features='sqrt',\n",
       "                                       max_leaf_nodes=None, max_samples=None,\n",
       "                                       min_impurity_decrease=0.0,\n",
       "                                       min_samples_leaf=1, min_samples_split=2,\n",
       "                                       min_weight_fraction_leaf=0.0,\n",
       "                                       n_estimators=100, n_jobs=-1,\n",
       "                                       oob_score=False, random_state=5892,\n",
       "                                       verbose=0, warm_start=False))],\n",
       "          verbose=False),\n",
       " 'models_classif/convkb/et.pkl')"
      ]
     },
     "execution_count": 49,
     "metadata": {},
     "output_type": "execute_result"
    }
   ],
   "source": [
    "save_model(et, 'models_classif/convkb/et')"
   ]
  },
  {
   "cell_type": "markdown",
   "metadata": {},
   "source": [
    "# Light Gradient Boosting Machine"
   ]
  },
  {
   "cell_type": "code",
   "execution_count": 50,
   "metadata": {},
   "outputs": [
    {
     "data": {
      "text/html": [],
      "text/plain": [
       "<IPython.core.display.HTML object>"
      ]
     },
     "metadata": {},
     "output_type": "display_data"
    },
    {
     "data": {
      "text/html": [
       "<style type=\"text/css\">\n",
       "#T_6e8c2_row10_col0, #T_6e8c2_row10_col1, #T_6e8c2_row10_col2, #T_6e8c2_row10_col3, #T_6e8c2_row10_col4, #T_6e8c2_row10_col5, #T_6e8c2_row10_col6 {\n",
       "  background: yellow;\n",
       "}\n",
       "</style>\n",
       "<table id=\"T_6e8c2\">\n",
       "  <thead>\n",
       "    <tr>\n",
       "      <th class=\"blank level0\" >&nbsp;</th>\n",
       "      <th id=\"T_6e8c2_level0_col0\" class=\"col_heading level0 col0\" >Accuracy</th>\n",
       "      <th id=\"T_6e8c2_level0_col1\" class=\"col_heading level0 col1\" >AUC</th>\n",
       "      <th id=\"T_6e8c2_level0_col2\" class=\"col_heading level0 col2\" >Recall</th>\n",
       "      <th id=\"T_6e8c2_level0_col3\" class=\"col_heading level0 col3\" >Prec.</th>\n",
       "      <th id=\"T_6e8c2_level0_col4\" class=\"col_heading level0 col4\" >F1</th>\n",
       "      <th id=\"T_6e8c2_level0_col5\" class=\"col_heading level0 col5\" >Kappa</th>\n",
       "      <th id=\"T_6e8c2_level0_col6\" class=\"col_heading level0 col6\" >MCC</th>\n",
       "    </tr>\n",
       "    <tr>\n",
       "      <th class=\"index_name level0\" >Fold</th>\n",
       "      <th class=\"blank col0\" >&nbsp;</th>\n",
       "      <th class=\"blank col1\" >&nbsp;</th>\n",
       "      <th class=\"blank col2\" >&nbsp;</th>\n",
       "      <th class=\"blank col3\" >&nbsp;</th>\n",
       "      <th class=\"blank col4\" >&nbsp;</th>\n",
       "      <th class=\"blank col5\" >&nbsp;</th>\n",
       "      <th class=\"blank col6\" >&nbsp;</th>\n",
       "    </tr>\n",
       "  </thead>\n",
       "  <tbody>\n",
       "    <tr>\n",
       "      <th id=\"T_6e8c2_level0_row0\" class=\"row_heading level0 row0\" >0</th>\n",
       "      <td id=\"T_6e8c2_row0_col0\" class=\"data row0 col0\" >0.8856</td>\n",
       "      <td id=\"T_6e8c2_row0_col1\" class=\"data row0 col1\" >0.9386</td>\n",
       "      <td id=\"T_6e8c2_row0_col2\" class=\"data row0 col2\" >0.9744</td>\n",
       "      <td id=\"T_6e8c2_row0_col3\" class=\"data row0 col3\" >0.8274</td>\n",
       "      <td id=\"T_6e8c2_row0_col4\" class=\"data row0 col4\" >0.8949</td>\n",
       "      <td id=\"T_6e8c2_row0_col5\" class=\"data row0 col5\" >0.7712</td>\n",
       "      <td id=\"T_6e8c2_row0_col6\" class=\"data row0 col6\" >0.7837</td>\n",
       "    </tr>\n",
       "    <tr>\n",
       "      <th id=\"T_6e8c2_level0_row1\" class=\"row_heading level0 row1\" >1</th>\n",
       "      <td id=\"T_6e8c2_row1_col0\" class=\"data row1 col0\" >0.8824</td>\n",
       "      <td id=\"T_6e8c2_row1_col1\" class=\"data row1 col1\" >0.9368</td>\n",
       "      <td id=\"T_6e8c2_row1_col2\" class=\"data row1 col2\" >0.9757</td>\n",
       "      <td id=\"T_6e8c2_row1_col3\" class=\"data row1 col3\" >0.8223</td>\n",
       "      <td id=\"T_6e8c2_row1_col4\" class=\"data row1 col4\" >0.8924</td>\n",
       "      <td id=\"T_6e8c2_row1_col5\" class=\"data row1 col5\" >0.7648</td>\n",
       "      <td id=\"T_6e8c2_row1_col6\" class=\"data row1 col6\" >0.7784</td>\n",
       "    </tr>\n",
       "    <tr>\n",
       "      <th id=\"T_6e8c2_level0_row2\" class=\"row_heading level0 row2\" >2</th>\n",
       "      <td id=\"T_6e8c2_row2_col0\" class=\"data row2 col0\" >0.8847</td>\n",
       "      <td id=\"T_6e8c2_row2_col1\" class=\"data row2 col1\" >0.9371</td>\n",
       "      <td id=\"T_6e8c2_row2_col2\" class=\"data row2 col2\" >0.9749</td>\n",
       "      <td id=\"T_6e8c2_row2_col3\" class=\"data row2 col3\" >0.8259</td>\n",
       "      <td id=\"T_6e8c2_row2_col4\" class=\"data row2 col4\" >0.8942</td>\n",
       "      <td id=\"T_6e8c2_row2_col5\" class=\"data row2 col5\" >0.7694</td>\n",
       "      <td id=\"T_6e8c2_row2_col6\" class=\"data row2 col6\" >0.7822</td>\n",
       "    </tr>\n",
       "    <tr>\n",
       "      <th id=\"T_6e8c2_level0_row3\" class=\"row_heading level0 row3\" >3</th>\n",
       "      <td id=\"T_6e8c2_row3_col0\" class=\"data row3 col0\" >0.8847</td>\n",
       "      <td id=\"T_6e8c2_row3_col1\" class=\"data row3 col1\" >0.9374</td>\n",
       "      <td id=\"T_6e8c2_row3_col2\" class=\"data row3 col2\" >0.9771</td>\n",
       "      <td id=\"T_6e8c2_row3_col3\" class=\"data row3 col3\" >0.8247</td>\n",
       "      <td id=\"T_6e8c2_row3_col4\" class=\"data row3 col4\" >0.8945</td>\n",
       "      <td id=\"T_6e8c2_row3_col5\" class=\"data row3 col5\" >0.7695</td>\n",
       "      <td id=\"T_6e8c2_row3_col6\" class=\"data row3 col6\" >0.7829</td>\n",
       "    </tr>\n",
       "    <tr>\n",
       "      <th id=\"T_6e8c2_level0_row4\" class=\"row_heading level0 row4\" >4</th>\n",
       "      <td id=\"T_6e8c2_row4_col0\" class=\"data row4 col0\" >0.8836</td>\n",
       "      <td id=\"T_6e8c2_row4_col1\" class=\"data row4 col1\" >0.9369</td>\n",
       "      <td id=\"T_6e8c2_row4_col2\" class=\"data row4 col2\" >0.9750</td>\n",
       "      <td id=\"T_6e8c2_row4_col3\" class=\"data row4 col3\" >0.8244</td>\n",
       "      <td id=\"T_6e8c2_row4_col4\" class=\"data row4 col4\" >0.8934</td>\n",
       "      <td id=\"T_6e8c2_row4_col5\" class=\"data row4 col5\" >0.7673</td>\n",
       "      <td id=\"T_6e8c2_row4_col6\" class=\"data row4 col6\" >0.7804</td>\n",
       "    </tr>\n",
       "    <tr>\n",
       "      <th id=\"T_6e8c2_level0_row5\" class=\"row_heading level0 row5\" >5</th>\n",
       "      <td id=\"T_6e8c2_row5_col0\" class=\"data row5 col0\" >0.8853</td>\n",
       "      <td id=\"T_6e8c2_row5_col1\" class=\"data row5 col1\" >0.9372</td>\n",
       "      <td id=\"T_6e8c2_row5_col2\" class=\"data row5 col2\" >0.9780</td>\n",
       "      <td id=\"T_6e8c2_row5_col3\" class=\"data row5 col3\" >0.8250</td>\n",
       "      <td id=\"T_6e8c2_row5_col4\" class=\"data row5 col4\" >0.8950</td>\n",
       "      <td id=\"T_6e8c2_row5_col5\" class=\"data row5 col5\" >0.7705</td>\n",
       "      <td id=\"T_6e8c2_row5_col6\" class=\"data row5 col6\" >0.7841</td>\n",
       "    </tr>\n",
       "    <tr>\n",
       "      <th id=\"T_6e8c2_level0_row6\" class=\"row_heading level0 row6\" >6</th>\n",
       "      <td id=\"T_6e8c2_row6_col0\" class=\"data row6 col0\" >0.8836</td>\n",
       "      <td id=\"T_6e8c2_row6_col1\" class=\"data row6 col1\" >0.9362</td>\n",
       "      <td id=\"T_6e8c2_row6_col2\" class=\"data row6 col2\" >0.9773</td>\n",
       "      <td id=\"T_6e8c2_row6_col3\" class=\"data row6 col3\" >0.8231</td>\n",
       "      <td id=\"T_6e8c2_row6_col4\" class=\"data row6 col4\" >0.8936</td>\n",
       "      <td id=\"T_6e8c2_row6_col5\" class=\"data row6 col5\" >0.7672</td>\n",
       "      <td id=\"T_6e8c2_row6_col6\" class=\"data row6 col6\" >0.7811</td>\n",
       "    </tr>\n",
       "    <tr>\n",
       "      <th id=\"T_6e8c2_level0_row7\" class=\"row_heading level0 row7\" >7</th>\n",
       "      <td id=\"T_6e8c2_row7_col0\" class=\"data row7 col0\" >0.8816</td>\n",
       "      <td id=\"T_6e8c2_row7_col1\" class=\"data row7 col1\" >0.9362</td>\n",
       "      <td id=\"T_6e8c2_row7_col2\" class=\"data row7 col2\" >0.9764</td>\n",
       "      <td id=\"T_6e8c2_row7_col3\" class=\"data row7 col3\" >0.8207</td>\n",
       "      <td id=\"T_6e8c2_row7_col4\" class=\"data row7 col4\" >0.8918</td>\n",
       "      <td id=\"T_6e8c2_row7_col5\" class=\"data row7 col5\" >0.7631</td>\n",
       "      <td id=\"T_6e8c2_row7_col6\" class=\"data row7 col6\" >0.7772</td>\n",
       "    </tr>\n",
       "    <tr>\n",
       "      <th id=\"T_6e8c2_level0_row8\" class=\"row_heading level0 row8\" >8</th>\n",
       "      <td id=\"T_6e8c2_row8_col0\" class=\"data row8 col0\" >0.8836</td>\n",
       "      <td id=\"T_6e8c2_row8_col1\" class=\"data row8 col1\" >0.9357</td>\n",
       "      <td id=\"T_6e8c2_row8_col2\" class=\"data row8 col2\" >0.9779</td>\n",
       "      <td id=\"T_6e8c2_row8_col3\" class=\"data row8 col3\" >0.8228</td>\n",
       "      <td id=\"T_6e8c2_row8_col4\" class=\"data row8 col4\" >0.8937</td>\n",
       "      <td id=\"T_6e8c2_row8_col5\" class=\"data row8 col5\" >0.7673</td>\n",
       "      <td id=\"T_6e8c2_row8_col6\" class=\"data row8 col6\" >0.7813</td>\n",
       "    </tr>\n",
       "    <tr>\n",
       "      <th id=\"T_6e8c2_level0_row9\" class=\"row_heading level0 row9\" >9</th>\n",
       "      <td id=\"T_6e8c2_row9_col0\" class=\"data row9 col0\" >0.8810</td>\n",
       "      <td id=\"T_6e8c2_row9_col1\" class=\"data row9 col1\" >0.9350</td>\n",
       "      <td id=\"T_6e8c2_row9_col2\" class=\"data row9 col2\" >0.9738</td>\n",
       "      <td id=\"T_6e8c2_row9_col3\" class=\"data row9 col3\" >0.8213</td>\n",
       "      <td id=\"T_6e8c2_row9_col4\" class=\"data row9 col4\" >0.8911</td>\n",
       "      <td id=\"T_6e8c2_row9_col5\" class=\"data row9 col5\" >0.7619</td>\n",
       "      <td id=\"T_6e8c2_row9_col6\" class=\"data row9 col6\" >0.7754</td>\n",
       "    </tr>\n",
       "    <tr>\n",
       "      <th id=\"T_6e8c2_level0_row10\" class=\"row_heading level0 row10\" >Mean</th>\n",
       "      <td id=\"T_6e8c2_row10_col0\" class=\"data row10 col0\" >0.8836</td>\n",
       "      <td id=\"T_6e8c2_row10_col1\" class=\"data row10 col1\" >0.9367</td>\n",
       "      <td id=\"T_6e8c2_row10_col2\" class=\"data row10 col2\" >0.9760</td>\n",
       "      <td id=\"T_6e8c2_row10_col3\" class=\"data row10 col3\" >0.8238</td>\n",
       "      <td id=\"T_6e8c2_row10_col4\" class=\"data row10 col4\" >0.8935</td>\n",
       "      <td id=\"T_6e8c2_row10_col5\" class=\"data row10 col5\" >0.7672</td>\n",
       "      <td id=\"T_6e8c2_row10_col6\" class=\"data row10 col6\" >0.7807</td>\n",
       "    </tr>\n",
       "    <tr>\n",
       "      <th id=\"T_6e8c2_level0_row11\" class=\"row_heading level0 row11\" >Std</th>\n",
       "      <td id=\"T_6e8c2_row11_col0\" class=\"data row11 col0\" >0.0015</td>\n",
       "      <td id=\"T_6e8c2_row11_col1\" class=\"data row11 col1\" >0.0010</td>\n",
       "      <td id=\"T_6e8c2_row11_col2\" class=\"data row11 col2\" >0.0014</td>\n",
       "      <td id=\"T_6e8c2_row11_col3\" class=\"data row11 col3\" >0.0020</td>\n",
       "      <td id=\"T_6e8c2_row11_col4\" class=\"data row11 col4\" >0.0013</td>\n",
       "      <td id=\"T_6e8c2_row11_col5\" class=\"data row11 col5\" >0.0030</td>\n",
       "      <td id=\"T_6e8c2_row11_col6\" class=\"data row11 col6\" >0.0027</td>\n",
       "    </tr>\n",
       "  </tbody>\n",
       "</table>\n"
      ],
      "text/plain": [
       "<pandas.io.formats.style.Styler at 0x7f4567d65fc0>"
      ]
     },
     "metadata": {},
     "output_type": "display_data"
    },
    {
     "data": {
      "text/html": [],
      "text/plain": [
       "<IPython.core.display.HTML object>"
      ]
     },
     "metadata": {},
     "output_type": "display_data"
    }
   ],
   "source": [
    "lightgbm = create_model('lightgbm')"
   ]
  },
  {
   "cell_type": "code",
   "execution_count": 51,
   "metadata": {},
   "outputs": [
    {
     "data": {
      "text/html": [],
      "text/plain": [
       "<IPython.core.display.HTML object>"
      ]
     },
     "metadata": {},
     "output_type": "display_data"
    },
    {
     "data": {
      "image/png": "[encoded data removed]",
      "text/plain": [
       "<Figure size 800x550 with 1 Axes>"
      ]
     },
     "metadata": {},
     "output_type": "display_data"
    }
   ],
   "source": [
    "plot_model(lightgbm, plot = 'confusion_matrix')"
   ]
  },
  {
   "cell_type": "code",
   "execution_count": 52,
   "metadata": {},
   "outputs": [
    {
     "data": {
      "text/html": [],
      "text/plain": [
       "<IPython.core.display.HTML object>"
      ]
     },
     "metadata": {},
     "output_type": "display_data"
    },
    {
     "data": {
      "image/png": "[encoded data removed]",
      "text/plain": [
       "<Figure size 800x550 with 1 Axes>"
      ]
     },
     "metadata": {},
     "output_type": "display_data"
    }
   ],
   "source": [
    "plot_model(lightgbm, plot = 'error')"
   ]
  },
  {
   "cell_type": "code",
   "execution_count": 53,
   "metadata": {},
   "outputs": [
    {
     "data": {
      "text/html": [],
      "text/plain": [
       "<IPython.core.display.HTML object>"
      ]
     },
     "metadata": {},
     "output_type": "display_data"
    },
    {
     "data": {
      "text/html": [
       "<div>\n",
       "<style scoped>\n",
       "    .dataframe tbody tr th:only-of-type {\n",
       "        vertical-align: middle;\n",
       "    }\n",
       "\n",
       "    .dataframe tbody tr th {\n",
       "        vertical-align: top;\n",
       "    }\n",
       "\n",
       "    .dataframe thead th {\n",
       "        text-align: right;\n",
       "    }\n",
       "</style>\n",
       "<table border=\"1\" class=\"dataframe\">\n",
       "  <thead>\n",
       "    <tr style=\"text-align: right;\">\n",
       "      <th></th>\n",
       "      <th>Parameters</th>\n",
       "    </tr>\n",
       "  </thead>\n",
       "  <tbody>\n",
       "    <tr>\n",
       "      <th>boosting_type</th>\n",
       "      <td>gbdt</td>\n",
       "    </tr>\n",
       "    <tr>\n",
       "      <th>class_weight</th>\n",
       "      <td>None</td>\n",
       "    </tr>\n",
       "    <tr>\n",
       "      <th>colsample_bytree</th>\n",
       "      <td>1.0</td>\n",
       "    </tr>\n",
       "    <tr>\n",
       "      <th>importance_type</th>\n",
       "      <td>split</td>\n",
       "    </tr>\n",
       "    <tr>\n",
       "      <th>learning_rate</th>\n",
       "      <td>0.1</td>\n",
       "    </tr>\n",
       "    <tr>\n",
       "      <th>max_depth</th>\n",
       "      <td>-1</td>\n",
       "    </tr>\n",
       "    <tr>\n",
       "      <th>min_child_samples</th>\n",
       "      <td>20</td>\n",
       "    </tr>\n",
       "    <tr>\n",
       "      <th>min_child_weight</th>\n",
       "      <td>0.001</td>\n",
       "    </tr>\n",
       "    <tr>\n",
       "      <th>min_split_gain</th>\n",
       "      <td>0.0</td>\n",
       "    </tr>\n",
       "    <tr>\n",
       "      <th>n_estimators</th>\n",
       "      <td>100</td>\n",
       "    </tr>\n",
       "    <tr>\n",
       "      <th>n_jobs</th>\n",
       "      <td>-1</td>\n",
       "    </tr>\n",
       "    <tr>\n",
       "      <th>num_leaves</th>\n",
       "      <td>31</td>\n",
       "    </tr>\n",
       "    <tr>\n",
       "      <th>objective</th>\n",
       "      <td>None</td>\n",
       "    </tr>\n",
       "    <tr>\n",
       "      <th>random_state</th>\n",
       "      <td>5892</td>\n",
       "    </tr>\n",
       "    <tr>\n",
       "      <th>reg_alpha</th>\n",
       "      <td>0.0</td>\n",
       "    </tr>\n",
       "    <tr>\n",
       "      <th>reg_lambda</th>\n",
       "      <td>0.0</td>\n",
       "    </tr>\n",
       "    <tr>\n",
       "      <th>silent</th>\n",
       "      <td>warn</td>\n",
       "    </tr>\n",
       "    <tr>\n",
       "      <th>subsample</th>\n",
       "      <td>1.0</td>\n",
       "    </tr>\n",
       "    <tr>\n",
       "      <th>subsample_for_bin</th>\n",
       "      <td>200000</td>\n",
       "    </tr>\n",
       "    <tr>\n",
       "      <th>subsample_freq</th>\n",
       "      <td>0</td>\n",
       "    </tr>\n",
       "  </tbody>\n",
       "</table>\n",
       "</div>"
      ],
      "text/plain": [
       "                  Parameters\n",
       "boosting_type           gbdt\n",
       "class_weight            None\n",
       "colsample_bytree         1.0\n",
       "importance_type        split\n",
       "learning_rate            0.1\n",
       "max_depth                 -1\n",
       "min_child_samples         20\n",
       "min_child_weight       0.001\n",
       "min_split_gain           0.0\n",
       "n_estimators             100\n",
       "n_jobs                    -1\n",
       "num_leaves                31\n",
       "objective               None\n",
       "random_state            5892\n",
       "reg_alpha                0.0\n",
       "reg_lambda               0.0\n",
       "silent                  warn\n",
       "subsample                1.0\n",
       "subsample_for_bin     200000\n",
       "subsample_freq             0"
      ]
     },
     "metadata": {},
     "output_type": "display_data"
    }
   ],
   "source": [
    "plot_model(lightgbm, plot = 'parameter')"
   ]
  },
  {
   "cell_type": "code",
   "execution_count": 54,
   "metadata": {},
   "outputs": [
    {
     "name": "stdout",
     "output_type": "stream",
     "text": [
      "Transformation Pipeline and Model Successfully Saved\n"
     ]
    },
    {
     "data": {
      "text/plain": [
       "(Pipeline(memory=FastMemory(location=/tmp/joblib),\n",
       "          steps=[('numerical_imputer',\n",
       "                  TransformerWrapper(exclude=None,\n",
       "                                     include=['0', '1', '2', '3', '4', '5', '6',\n",
       "                                              '7', '8', '9', '10', '11', '12',\n",
       "                                              '13', '14', '15', '16', '17', '18',\n",
       "                                              '19', '20', '21', '22', '23', '24',\n",
       "                                              '25', '26', '27', '28', '29', ...],\n",
       "                                     transformer=SimpleImputer(add_indicator=False,\n",
       "                                                               copy=True,\n",
       "                                                               fill_value=None,\n",
       "                                                               keep_empty_feat...\n",
       "                  LGBMClassifier(boosting_type='gbdt', class_weight=None,\n",
       "                                 colsample_bytree=1.0, importance_type='split',\n",
       "                                 learning_rate=0.1, max_depth=-1,\n",
       "                                 min_child_samples=20, min_child_weight=0.001,\n",
       "                                 min_split_gain=0.0, n_estimators=100, n_jobs=-1,\n",
       "                                 num_leaves=31, objective=None,\n",
       "                                 random_state=5892, reg_alpha=0.0,\n",
       "                                 reg_lambda=0.0, silent='warn', subsample=1.0,\n",
       "                                 subsample_for_bin=200000, subsample_freq=0))],\n",
       "          verbose=False),\n",
       " 'models_classif/convkb/lightgbm.pkl')"
      ]
     },
     "execution_count": 54,
     "metadata": {},
     "output_type": "execute_result"
    }
   ],
   "source": [
    "save_model(lightgbm, 'models_classif/convkb/lightgbm')"
   ]
  },
  {
   "cell_type": "markdown",
   "metadata": {
    "tags": []
   },
   "source": [
    "# MLP Classifier"
   ]
  },
  {
   "cell_type": "code",
   "execution_count": 60,
   "metadata": {},
   "outputs": [
    {
     "data": {
      "text/html": [],
      "text/plain": [
       "<IPython.core.display.HTML object>"
      ]
     },
     "metadata": {},
     "output_type": "display_data"
    },
    {
     "data": {
      "text/html": [
       "<style type=\"text/css\">\n",
       "#T_bcbfc_row10_col0, #T_bcbfc_row10_col1, #T_bcbfc_row10_col2, #T_bcbfc_row10_col3, #T_bcbfc_row10_col4, #T_bcbfc_row10_col5, #T_bcbfc_row10_col6 {\n",
       "  background: yellow;\n",
       "}\n",
       "</style>\n",
       "<table id=\"T_bcbfc\">\n",
       "  <thead>\n",
       "    <tr>\n",
       "      <th class=\"blank level0\" >&nbsp;</th>\n",
       "      <th id=\"T_bcbfc_level0_col0\" class=\"col_heading level0 col0\" >Accuracy</th>\n",
       "      <th id=\"T_bcbfc_level0_col1\" class=\"col_heading level0 col1\" >AUC</th>\n",
       "      <th id=\"T_bcbfc_level0_col2\" class=\"col_heading level0 col2\" >Recall</th>\n",
       "      <th id=\"T_bcbfc_level0_col3\" class=\"col_heading level0 col3\" >Prec.</th>\n",
       "      <th id=\"T_bcbfc_level0_col4\" class=\"col_heading level0 col4\" >F1</th>\n",
       "      <th id=\"T_bcbfc_level0_col5\" class=\"col_heading level0 col5\" >Kappa</th>\n",
       "      <th id=\"T_bcbfc_level0_col6\" class=\"col_heading level0 col6\" >MCC</th>\n",
       "    </tr>\n",
       "    <tr>\n",
       "      <th class=\"index_name level0\" >Fold</th>\n",
       "      <th class=\"blank col0\" >&nbsp;</th>\n",
       "      <th class=\"blank col1\" >&nbsp;</th>\n",
       "      <th class=\"blank col2\" >&nbsp;</th>\n",
       "      <th class=\"blank col3\" >&nbsp;</th>\n",
       "      <th class=\"blank col4\" >&nbsp;</th>\n",
       "      <th class=\"blank col5\" >&nbsp;</th>\n",
       "      <th class=\"blank col6\" >&nbsp;</th>\n",
       "    </tr>\n",
       "  </thead>\n",
       "  <tbody>\n",
       "    <tr>\n",
       "      <th id=\"T_bcbfc_level0_row0\" class=\"row_heading level0 row0\" >0</th>\n",
       "      <td id=\"T_bcbfc_row0_col0\" class=\"data row0 col0\" >0.8662</td>\n",
       "      <td id=\"T_bcbfc_row0_col1\" class=\"data row0 col1\" >0.9277</td>\n",
       "      <td id=\"T_bcbfc_row0_col2\" class=\"data row0 col2\" >0.9207</td>\n",
       "      <td id=\"T_bcbfc_row0_col3\" class=\"data row0 col3\" >0.8302</td>\n",
       "      <td id=\"T_bcbfc_row0_col4\" class=\"data row0 col4\" >0.8731</td>\n",
       "      <td id=\"T_bcbfc_row0_col5\" class=\"data row0 col5\" >0.7324</td>\n",
       "      <td id=\"T_bcbfc_row0_col6\" class=\"data row0 col6\" >0.7368</td>\n",
       "    </tr>\n",
       "    <tr>\n",
       "      <th id=\"T_bcbfc_level0_row1\" class=\"row_heading level0 row1\" >1</th>\n",
       "      <td id=\"T_bcbfc_row1_col0\" class=\"data row1 col0\" >0.8683</td>\n",
       "      <td id=\"T_bcbfc_row1_col1\" class=\"data row1 col1\" >0.9274</td>\n",
       "      <td id=\"T_bcbfc_row1_col2\" class=\"data row1 col2\" >0.9345</td>\n",
       "      <td id=\"T_bcbfc_row1_col3\" class=\"data row1 col3\" >0.8252</td>\n",
       "      <td id=\"T_bcbfc_row1_col4\" class=\"data row1 col4\" >0.8764</td>\n",
       "      <td id=\"T_bcbfc_row1_col5\" class=\"data row1 col5\" >0.7365</td>\n",
       "      <td id=\"T_bcbfc_row1_col6\" class=\"data row1 col6\" >0.7431</td>\n",
       "    </tr>\n",
       "    <tr>\n",
       "      <th id=\"T_bcbfc_level0_row2\" class=\"row_heading level0 row2\" >2</th>\n",
       "      <td id=\"T_bcbfc_row2_col0\" class=\"data row2 col0\" >0.8650</td>\n",
       "      <td id=\"T_bcbfc_row2_col1\" class=\"data row2 col1\" >0.9267</td>\n",
       "      <td id=\"T_bcbfc_row2_col2\" class=\"data row2 col2\" >0.9202</td>\n",
       "      <td id=\"T_bcbfc_row2_col3\" class=\"data row2 col3\" >0.8287</td>\n",
       "      <td id=\"T_bcbfc_row2_col4\" class=\"data row2 col4\" >0.8721</td>\n",
       "      <td id=\"T_bcbfc_row2_col5\" class=\"data row2 col5\" >0.7300</td>\n",
       "      <td id=\"T_bcbfc_row2_col6\" class=\"data row2 col6\" >0.7345</td>\n",
       "    </tr>\n",
       "    <tr>\n",
       "      <th id=\"T_bcbfc_level0_row3\" class=\"row_heading level0 row3\" >3</th>\n",
       "      <td id=\"T_bcbfc_row3_col0\" class=\"data row3 col0\" >0.8668</td>\n",
       "      <td id=\"T_bcbfc_row3_col1\" class=\"data row3 col1\" >0.9265</td>\n",
       "      <td id=\"T_bcbfc_row3_col2\" class=\"data row3 col2\" >0.9247</td>\n",
       "      <td id=\"T_bcbfc_row3_col3\" class=\"data row3 col3\" >0.8287</td>\n",
       "      <td id=\"T_bcbfc_row3_col4\" class=\"data row3 col4\" >0.8741</td>\n",
       "      <td id=\"T_bcbfc_row3_col5\" class=\"data row3 col5\" >0.7336</td>\n",
       "      <td id=\"T_bcbfc_row3_col6\" class=\"data row3 col6\" >0.7385</td>\n",
       "    </tr>\n",
       "    <tr>\n",
       "      <th id=\"T_bcbfc_level0_row4\" class=\"row_heading level0 row4\" >4</th>\n",
       "      <td id=\"T_bcbfc_row4_col0\" class=\"data row4 col0\" >0.8650</td>\n",
       "      <td id=\"T_bcbfc_row4_col1\" class=\"data row4 col1\" >0.9253</td>\n",
       "      <td id=\"T_bcbfc_row4_col2\" class=\"data row4 col2\" >0.9270</td>\n",
       "      <td id=\"T_bcbfc_row4_col3\" class=\"data row4 col3\" >0.8247</td>\n",
       "      <td id=\"T_bcbfc_row4_col4\" class=\"data row4 col4\" >0.8729</td>\n",
       "      <td id=\"T_bcbfc_row4_col5\" class=\"data row4 col5\" >0.7299</td>\n",
       "      <td id=\"T_bcbfc_row4_col6\" class=\"data row4 col6\" >0.7356</td>\n",
       "    </tr>\n",
       "    <tr>\n",
       "      <th id=\"T_bcbfc_level0_row5\" class=\"row_heading level0 row5\" >5</th>\n",
       "      <td id=\"T_bcbfc_row5_col0\" class=\"data row5 col0\" >0.8648</td>\n",
       "      <td id=\"T_bcbfc_row5_col1\" class=\"data row5 col1\" >0.9261</td>\n",
       "      <td id=\"T_bcbfc_row5_col2\" class=\"data row5 col2\" >0.9225</td>\n",
       "      <td id=\"T_bcbfc_row5_col3\" class=\"data row5 col3\" >0.8271</td>\n",
       "      <td id=\"T_bcbfc_row5_col4\" class=\"data row5 col4\" >0.8722</td>\n",
       "      <td id=\"T_bcbfc_row5_col5\" class=\"data row5 col5\" >0.7296</td>\n",
       "      <td id=\"T_bcbfc_row5_col6\" class=\"data row5 col6\" >0.7345</td>\n",
       "    </tr>\n",
       "    <tr>\n",
       "      <th id=\"T_bcbfc_level0_row6\" class=\"row_heading level0 row6\" >6</th>\n",
       "      <td id=\"T_bcbfc_row6_col0\" class=\"data row6 col0\" >0.8670</td>\n",
       "      <td id=\"T_bcbfc_row6_col1\" class=\"data row6 col1\" >0.9271</td>\n",
       "      <td id=\"T_bcbfc_row6_col2\" class=\"data row6 col2\" >0.9344</td>\n",
       "      <td id=\"T_bcbfc_row6_col3\" class=\"data row6 col3\" >0.8235</td>\n",
       "      <td id=\"T_bcbfc_row6_col4\" class=\"data row6 col4\" >0.8754</td>\n",
       "      <td id=\"T_bcbfc_row6_col5\" class=\"data row6 col5\" >0.7340</td>\n",
       "      <td id=\"T_bcbfc_row6_col6\" class=\"data row6 col6\" >0.7408</td>\n",
       "    </tr>\n",
       "    <tr>\n",
       "      <th id=\"T_bcbfc_level0_row7\" class=\"row_heading level0 row7\" >7</th>\n",
       "      <td id=\"T_bcbfc_row7_col0\" class=\"data row7 col0\" >0.8597</td>\n",
       "      <td id=\"T_bcbfc_row7_col1\" class=\"data row7 col1\" >0.9229</td>\n",
       "      <td id=\"T_bcbfc_row7_col2\" class=\"data row7 col2\" >0.9129</td>\n",
       "      <td id=\"T_bcbfc_row7_col3\" class=\"data row7 col3\" >0.8251</td>\n",
       "      <td id=\"T_bcbfc_row7_col4\" class=\"data row7 col4\" >0.8668</td>\n",
       "      <td id=\"T_bcbfc_row7_col5\" class=\"data row7 col5\" >0.7194</td>\n",
       "      <td id=\"T_bcbfc_row7_col6\" class=\"data row7 col6\" >0.7235</td>\n",
       "    </tr>\n",
       "    <tr>\n",
       "      <th id=\"T_bcbfc_level0_row8\" class=\"row_heading level0 row8\" >8</th>\n",
       "      <td id=\"T_bcbfc_row8_col0\" class=\"data row8 col0\" >0.8562</td>\n",
       "      <td id=\"T_bcbfc_row8_col1\" class=\"data row8 col1\" >0.9238</td>\n",
       "      <td id=\"T_bcbfc_row8_col2\" class=\"data row8 col2\" >0.8977</td>\n",
       "      <td id=\"T_bcbfc_row8_col3\" class=\"data row8 col3\" >0.8289</td>\n",
       "      <td id=\"T_bcbfc_row8_col4\" class=\"data row8 col4\" >0.8619</td>\n",
       "      <td id=\"T_bcbfc_row8_col5\" class=\"data row8 col5\" >0.7124</td>\n",
       "      <td id=\"T_bcbfc_row8_col6\" class=\"data row8 col6\" >0.7148</td>\n",
       "    </tr>\n",
       "    <tr>\n",
       "      <th id=\"T_bcbfc_level0_row9\" class=\"row_heading level0 row9\" >9</th>\n",
       "      <td id=\"T_bcbfc_row9_col0\" class=\"data row9 col0\" >0.8628</td>\n",
       "      <td id=\"T_bcbfc_row9_col1\" class=\"data row9 col1\" >0.9240</td>\n",
       "      <td id=\"T_bcbfc_row9_col2\" class=\"data row9 col2\" >0.9255</td>\n",
       "      <td id=\"T_bcbfc_row9_col3\" class=\"data row9 col3\" >0.8224</td>\n",
       "      <td id=\"T_bcbfc_row9_col4\" class=\"data row9 col4\" >0.8709</td>\n",
       "      <td id=\"T_bcbfc_row9_col5\" class=\"data row9 col5\" >0.7256</td>\n",
       "      <td id=\"T_bcbfc_row9_col6\" class=\"data row9 col6\" >0.7313</td>\n",
       "    </tr>\n",
       "    <tr>\n",
       "      <th id=\"T_bcbfc_level0_row10\" class=\"row_heading level0 row10\" >Mean</th>\n",
       "      <td id=\"T_bcbfc_row10_col0\" class=\"data row10 col0\" >0.8642</td>\n",
       "      <td id=\"T_bcbfc_row10_col1\" class=\"data row10 col1\" >0.9257</td>\n",
       "      <td id=\"T_bcbfc_row10_col2\" class=\"data row10 col2\" >0.9220</td>\n",
       "      <td id=\"T_bcbfc_row10_col3\" class=\"data row10 col3\" >0.8264</td>\n",
       "      <td id=\"T_bcbfc_row10_col4\" class=\"data row10 col4\" >0.8716</td>\n",
       "      <td id=\"T_bcbfc_row10_col5\" class=\"data row10 col5\" >0.7283</td>\n",
       "      <td id=\"T_bcbfc_row10_col6\" class=\"data row10 col6\" >0.7333</td>\n",
       "    </tr>\n",
       "    <tr>\n",
       "      <th id=\"T_bcbfc_level0_row11\" class=\"row_heading level0 row11\" >Std</th>\n",
       "      <td id=\"T_bcbfc_row11_col0\" class=\"data row11 col0\" >0.0035</td>\n",
       "      <td id=\"T_bcbfc_row11_col1\" class=\"data row11 col1\" >0.0016</td>\n",
       "      <td id=\"T_bcbfc_row11_col2\" class=\"data row11 col2\" >0.0102</td>\n",
       "      <td id=\"T_bcbfc_row11_col3\" class=\"data row11 col3\" >0.0025</td>\n",
       "      <td id=\"T_bcbfc_row11_col4\" class=\"data row11 col4\" >0.0041</td>\n",
       "      <td id=\"T_bcbfc_row11_col5\" class=\"data row11 col5\" >0.0070</td>\n",
       "      <td id=\"T_bcbfc_row11_col6\" class=\"data row11 col6\" >0.0080</td>\n",
       "    </tr>\n",
       "  </tbody>\n",
       "</table>\n"
      ],
      "text/plain": [
       "<pandas.io.formats.style.Styler at 0x7f4571b5a5c0>"
      ]
     },
     "metadata": {},
     "output_type": "display_data"
    },
    {
     "data": {
      "text/html": [],
      "text/plain": [
       "<IPython.core.display.HTML object>"
      ]
     },
     "metadata": {},
     "output_type": "display_data"
    }
   ],
   "source": [
    "mlp = create_model('mlp')"
   ]
  },
  {
   "cell_type": "code",
   "execution_count": 61,
   "metadata": {},
   "outputs": [
    {
     "data": {
      "text/html": [],
      "text/plain": [
       "<IPython.core.display.HTML object>"
      ]
     },
     "metadata": {},
     "output_type": "display_data"
    },
    {
     "data": {
      "image/png": "[encoded data removed]",
      "text/plain": [
       "<Figure size 800x550 with 1 Axes>"
      ]
     },
     "metadata": {},
     "output_type": "display_data"
    }
   ],
   "source": [
    "plot_model(mlp, plot = 'confusion_matrix')"
   ]
  },
  {
   "cell_type": "code",
   "execution_count": 62,
   "metadata": {},
   "outputs": [
    {
     "data": {
      "text/html": [],
      "text/plain": [
       "<IPython.core.display.HTML object>"
      ]
     },
     "metadata": {},
     "output_type": "display_data"
    },
    {
     "data": {
      "image/png": "[encoded data removed]",
      "text/plain": [
       "<Figure size 800x550 with 1 Axes>"
      ]
     },
     "metadata": {},
     "output_type": "display_data"
    }
   ],
   "source": [
    "plot_model(mlp, plot = 'error')"
   ]
  },
  {
   "cell_type": "code",
   "execution_count": 63,
   "metadata": {},
   "outputs": [
    {
     "data": {
      "text/html": [],
      "text/plain": [
       "<IPython.core.display.HTML object>"
      ]
     },
     "metadata": {},
     "output_type": "display_data"
    },
    {
     "data": {
      "text/html": [
       "<div>\n",
       "<style scoped>\n",
       "    .dataframe tbody tr th:only-of-type {\n",
       "        vertical-align: middle;\n",
       "    }\n",
       "\n",
       "    .dataframe tbody tr th {\n",
       "        vertical-align: top;\n",
       "    }\n",
       "\n",
       "    .dataframe thead th {\n",
       "        text-align: right;\n",
       "    }\n",
       "</style>\n",
       "<table border=\"1\" class=\"dataframe\">\n",
       "  <thead>\n",
       "    <tr style=\"text-align: right;\">\n",
       "      <th></th>\n",
       "      <th>Parameters</th>\n",
       "    </tr>\n",
       "  </thead>\n",
       "  <tbody>\n",
       "    <tr>\n",
       "      <th>activation</th>\n",
       "      <td>relu</td>\n",
       "    </tr>\n",
       "    <tr>\n",
       "      <th>alpha</th>\n",
       "      <td>0.0001</td>\n",
       "    </tr>\n",
       "    <tr>\n",
       "      <th>batch_size</th>\n",
       "      <td>auto</td>\n",
       "    </tr>\n",
       "    <tr>\n",
       "      <th>beta_1</th>\n",
       "      <td>0.9</td>\n",
       "    </tr>\n",
       "    <tr>\n",
       "      <th>beta_2</th>\n",
       "      <td>0.999</td>\n",
       "    </tr>\n",
       "    <tr>\n",
       "      <th>early_stopping</th>\n",
       "      <td>False</td>\n",
       "    </tr>\n",
       "    <tr>\n",
       "      <th>epsilon</th>\n",
       "      <td>1e-08</td>\n",
       "    </tr>\n",
       "    <tr>\n",
       "      <th>hidden_layer_sizes</th>\n",
       "      <td>(100,)</td>\n",
       "    </tr>\n",
       "    <tr>\n",
       "      <th>learning_rate</th>\n",
       "      <td>constant</td>\n",
       "    </tr>\n",
       "    <tr>\n",
       "      <th>learning_rate_init</th>\n",
       "      <td>0.001</td>\n",
       "    </tr>\n",
       "    <tr>\n",
       "      <th>max_fun</th>\n",
       "      <td>15000</td>\n",
       "    </tr>\n",
       "    <tr>\n",
       "      <th>max_iter</th>\n",
       "      <td>500</td>\n",
       "    </tr>\n",
       "    <tr>\n",
       "      <th>momentum</th>\n",
       "      <td>0.9</td>\n",
       "    </tr>\n",
       "    <tr>\n",
       "      <th>n_iter_no_change</th>\n",
       "      <td>10</td>\n",
       "    </tr>\n",
       "    <tr>\n",
       "      <th>nesterovs_momentum</th>\n",
       "      <td>True</td>\n",
       "    </tr>\n",
       "    <tr>\n",
       "      <th>power_t</th>\n",
       "      <td>0.5</td>\n",
       "    </tr>\n",
       "    <tr>\n",
       "      <th>random_state</th>\n",
       "      <td>5892</td>\n",
       "    </tr>\n",
       "    <tr>\n",
       "      <th>shuffle</th>\n",
       "      <td>True</td>\n",
       "    </tr>\n",
       "    <tr>\n",
       "      <th>solver</th>\n",
       "      <td>adam</td>\n",
       "    </tr>\n",
       "    <tr>\n",
       "      <th>tol</th>\n",
       "      <td>0.0001</td>\n",
       "    </tr>\n",
       "    <tr>\n",
       "      <th>validation_fraction</th>\n",
       "      <td>0.1</td>\n",
       "    </tr>\n",
       "    <tr>\n",
       "      <th>verbose</th>\n",
       "      <td>False</td>\n",
       "    </tr>\n",
       "    <tr>\n",
       "      <th>warm_start</th>\n",
       "      <td>False</td>\n",
       "    </tr>\n",
       "  </tbody>\n",
       "</table>\n",
       "</div>"
      ],
      "text/plain": [
       "                    Parameters\n",
       "activation                relu\n",
       "alpha                   0.0001\n",
       "batch_size                auto\n",
       "beta_1                     0.9\n",
       "beta_2                   0.999\n",
       "early_stopping           False\n",
       "epsilon                  1e-08\n",
       "hidden_layer_sizes      (100,)\n",
       "learning_rate         constant\n",
       "learning_rate_init       0.001\n",
       "max_fun                  15000\n",
       "max_iter                   500\n",
       "momentum                   0.9\n",
       "n_iter_no_change            10\n",
       "nesterovs_momentum        True\n",
       "power_t                    0.5\n",
       "random_state              5892\n",
       "shuffle                   True\n",
       "solver                    adam\n",
       "tol                     0.0001\n",
       "validation_fraction        0.1\n",
       "verbose                  False\n",
       "warm_start               False"
      ]
     },
     "metadata": {},
     "output_type": "display_data"
    }
   ],
   "source": [
    "plot_model(mlp, plot = 'parameter')"
   ]
  },
  {
   "cell_type": "code",
   "execution_count": 64,
   "metadata": {
    "tags": []
   },
   "outputs": [
    {
     "name": "stdout",
     "output_type": "stream",
     "text": [
      "Transformation Pipeline and Model Successfully Saved\n"
     ]
    },
    {
     "data": {
      "text/plain": [
       "(Pipeline(memory=FastMemory(location=/tmp/joblib),\n",
       "          steps=[('numerical_imputer',\n",
       "                  TransformerWrapper(exclude=None,\n",
       "                                     include=['0', '1', '2', '3', '4', '5', '6',\n",
       "                                              '7', '8', '9', '10', '11', '12',\n",
       "                                              '13', '14', '15', '16', '17', '18',\n",
       "                                              '19', '20', '21', '22', '23', '24',\n",
       "                                              '25', '26', '27', '28', '29', ...],\n",
       "                                     transformer=SimpleImputer(add_indicator=False,\n",
       "                                                               copy=True,\n",
       "                                                               fill_value=None,\n",
       "                                                               keep_empty_feat...\n",
       "                                batch_size='auto', beta_1=0.9, beta_2=0.999,\n",
       "                                early_stopping=False, epsilon=1e-08,\n",
       "                                hidden_layer_sizes=(100,),\n",
       "                                learning_rate='constant',\n",
       "                                learning_rate_init=0.001, max_fun=15000,\n",
       "                                max_iter=500, momentum=0.9, n_iter_no_change=10,\n",
       "                                nesterovs_momentum=True, power_t=0.5,\n",
       "                                random_state=5892, shuffle=True, solver='adam',\n",
       "                                tol=0.0001, validation_fraction=0.1,\n",
       "                                verbose=False, warm_start=False))],\n",
       "          verbose=False),\n",
       " 'models_classif/convkb/mlp.pkl')"
      ]
     },
     "execution_count": 64,
     "metadata": {},
     "output_type": "execute_result"
    }
   ],
   "source": [
    "save_model(mlp, 'models_classif/convkb/mlp')"
   ]
  }
 ],
 "metadata": {
  "kernelspec": {
   "display_name": "aled",
   "language": "python",
   "name": "aled"
  },
  "language_info": {
   "codemirror_mode": {
    "name": "ipython",
    "version": 3
   },
   "file_extension": ".py",
   "mimetype": "text/x-python",
   "name": "python",
   "nbconvert_exporter": "python",
   "pygments_lexer": "ipython3",
   "version": "3.10.9"
  },
  "vscode": {
   "interpreter": {
    "hash": "bad715aa2aaeb5e6c151df84b54974e4cb5c7f8696a7ce08edfdc275e59caf55"
   }
  }
 },
 "nbformat": 4,
 "nbformat_minor": 4
}
