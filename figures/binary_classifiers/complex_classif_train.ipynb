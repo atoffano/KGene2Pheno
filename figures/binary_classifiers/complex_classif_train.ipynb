{
 "cells": [
  {
   "cell_type": "code",
   "execution_count": 1,
   "metadata": {
    "tags": []
   },
   "outputs": [
    {
     "name": "stderr",
     "output_type": "stream",
     "text": [
      "\u001b[34m\u001b[1mwandb\u001b[0m: Currently logged in as: \u001b[33mantoine-toffano\u001b[0m (\u001b[33mmlb\u001b[0m). Use \u001b[1m`wandb login --relogin`\u001b[0m to force relogin\n"
     ]
    },
    {
     "data": {
      "text/html": [
       "wandb version 0.15.3 is available!  To upgrade, please run:\n",
       " $ pip install wandb --upgrade"
      ],
      "text/plain": [
       "<IPython.core.display.HTML object>"
      ]
     },
     "metadata": {},
     "output_type": "display_data"
    },
    {
     "data": {
      "text/html": [
       "Tracking run with wandb version 0.14.0"
      ],
      "text/plain": [
       "<IPython.core.display.HTML object>"
      ]
     },
     "metadata": {},
     "output_type": "display_data"
    },
    {
     "data": {
      "text/html": [
       "Run data is saved locally in <code>/home/antoine/gene_pheno_pred/wandb/run-20230531_175139-f2eh9cku</code>"
      ],
      "text/plain": [
       "<IPython.core.display.HTML object>"
      ]
     },
     "metadata": {},
     "output_type": "display_data"
    },
    {
     "data": {
      "text/html": [
       "Syncing run <strong><a href='https://wandb.ai/mlb/cigap-classif/runs/f2eh9cku' target=\"_blank\">misunderstood-wood-52</a></strong> to <a href='https://wandb.ai/mlb/cigap-classif' target=\"_blank\">Weights & Biases</a> (<a href='https://wandb.me/run' target=\"_blank\">docs</a>)<br/>"
      ],
      "text/plain": [
       "<IPython.core.display.HTML object>"
      ]
     },
     "metadata": {},
     "output_type": "display_data"
    },
    {
     "data": {
      "text/html": [
       " View project at <a href='https://wandb.ai/mlb/cigap-classif' target=\"_blank\">https://wandb.ai/mlb/cigap-classif</a>"
      ],
      "text/plain": [
       "<IPython.core.display.HTML object>"
      ]
     },
     "metadata": {},
     "output_type": "display_data"
    },
    {
     "data": {
      "text/html": [
       " View run at <a href='https://wandb.ai/mlb/cigap-classif/runs/f2eh9cku' target=\"_blank\">https://wandb.ai/mlb/cigap-classif/runs/f2eh9cku</a>"
      ],
      "text/plain": [
       "<IPython.core.display.HTML object>"
      ]
     },
     "metadata": {},
     "output_type": "display_data"
    },
    {
     "data": {
      "text/html": [
       "<button onClick=\"this.nextSibling.style.display='block';this.style.display='none';\">Display W&B run</button><iframe src='https://wandb.ai/mlb/cigap-classif/runs/f2eh9cku?jupyter=true' style='border:none;width:100%;height:420px;display:none;'></iframe>"
      ],
      "text/plain": [
       "<wandb.sdk.wandb_run.Run at 0x7fb650569ae0>"
      ]
     },
     "execution_count": 1,
     "metadata": {},
     "output_type": "execute_result"
    }
   ],
   "source": [
    "from pycaret.classification import *\n",
    "import pandas as pd\n",
    "import os\n",
    "import wandb\n",
    "\n",
    "os.chdir('/home/antoine/gene_pheno_pred')\n",
    "os.environ[\"CUDA_VISIBLE_DEVICES\"]=\"0\"\n",
    "os.environ[\"WANDB_API_KEY\"]=\"4e5748d6c6f3917c78cdc38a516a1bac776faf58\"\n",
    "wandb.login()\n",
    "wandb.init(\n",
    "    project=\"cigap-classif\",\n",
    ")\n"
   ]
  },
  {
   "cell_type": "code",
   "execution_count": 2,
   "metadata": {
    "tags": []
   },
   "outputs": [],
   "source": [
    "df = pd.read_csv('/home/antoine/gene_pheno_pred/ComplEx_2023-05-25_11-10-42_test.csv' , header=0)\n",
    "\n",
    "\n",
    "df['link'] = df['relation'].apply(lambda x: 1 if x != 'no_link_known' else 0)\n"
   ]
  },
  {
   "cell_type": "code",
   "execution_count": 3,
   "metadata": {},
   "outputs": [
    {
     "data": {
      "text/html": [
       "<div>\n",
       "<style scoped>\n",
       "    .dataframe tbody tr th:only-of-type {\n",
       "        vertical-align: middle;\n",
       "    }\n",
       "\n",
       "    .dataframe tbody tr th {\n",
       "        vertical-align: top;\n",
       "    }\n",
       "\n",
       "    .dataframe thead th {\n",
       "        text-align: right;\n",
       "    }\n",
       "</style>\n",
       "<table border=\"1\" class=\"dataframe\">\n",
       "  <thead>\n",
       "    <tr style=\"text-align: right;\">\n",
       "      <th></th>\n",
       "      <th>0</th>\n",
       "      <th>1</th>\n",
       "      <th>2</th>\n",
       "      <th>3</th>\n",
       "      <th>4</th>\n",
       "      <th>5</th>\n",
       "      <th>6</th>\n",
       "      <th>7</th>\n",
       "      <th>8</th>\n",
       "      <th>9</th>\n",
       "      <th>...</th>\n",
       "      <th>191</th>\n",
       "      <th>192</th>\n",
       "      <th>193</th>\n",
       "      <th>194</th>\n",
       "      <th>195</th>\n",
       "      <th>196</th>\n",
       "      <th>197</th>\n",
       "      <th>198</th>\n",
       "      <th>199</th>\n",
       "      <th>link</th>\n",
       "    </tr>\n",
       "  </thead>\n",
       "  <tbody>\n",
       "    <tr>\n",
       "      <th>0</th>\n",
       "      <td>0.060035</td>\n",
       "      <td>-0.063911</td>\n",
       "      <td>0.071861</td>\n",
       "      <td>-0.052641</td>\n",
       "      <td>-0.064331</td>\n",
       "      <td>-0.077902</td>\n",
       "      <td>-0.059952</td>\n",
       "      <td>0.037979</td>\n",
       "      <td>0.042509</td>\n",
       "      <td>0.066666</td>\n",
       "      <td>...</td>\n",
       "      <td>0.047946</td>\n",
       "      <td>0.000032</td>\n",
       "      <td>-0.035098</td>\n",
       "      <td>0.024981</td>\n",
       "      <td>-0.038474</td>\n",
       "      <td>0.039521</td>\n",
       "      <td>0.011188</td>\n",
       "      <td>-0.039667</td>\n",
       "      <td>0.044277</td>\n",
       "      <td>0</td>\n",
       "    </tr>\n",
       "    <tr>\n",
       "      <th>1</th>\n",
       "      <td>-0.046169</td>\n",
       "      <td>0.014314</td>\n",
       "      <td>-0.052970</td>\n",
       "      <td>-0.014963</td>\n",
       "      <td>0.013101</td>\n",
       "      <td>0.063060</td>\n",
       "      <td>0.051526</td>\n",
       "      <td>0.003133</td>\n",
       "      <td>-0.042875</td>\n",
       "      <td>-0.065337</td>\n",
       "      <td>...</td>\n",
       "      <td>-0.007173</td>\n",
       "      <td>0.043164</td>\n",
       "      <td>0.033471</td>\n",
       "      <td>-0.034193</td>\n",
       "      <td>0.018403</td>\n",
       "      <td>0.036640</td>\n",
       "      <td>-0.059927</td>\n",
       "      <td>-0.040094</td>\n",
       "      <td>-0.026726</td>\n",
       "      <td>0</td>\n",
       "    </tr>\n",
       "    <tr>\n",
       "      <th>2</th>\n",
       "      <td>0.068667</td>\n",
       "      <td>0.001084</td>\n",
       "      <td>0.063649</td>\n",
       "      <td>0.028877</td>\n",
       "      <td>0.049354</td>\n",
       "      <td>-0.076636</td>\n",
       "      <td>-0.066742</td>\n",
       "      <td>0.060626</td>\n",
       "      <td>-0.041239</td>\n",
       "      <td>0.062961</td>\n",
       "      <td>...</td>\n",
       "      <td>-0.006519</td>\n",
       "      <td>0.005642</td>\n",
       "      <td>0.021654</td>\n",
       "      <td>-0.016851</td>\n",
       "      <td>0.014577</td>\n",
       "      <td>0.008903</td>\n",
       "      <td>0.000195</td>\n",
       "      <td>0.042617</td>\n",
       "      <td>0.026171</td>\n",
       "      <td>1</td>\n",
       "    </tr>\n",
       "    <tr>\n",
       "      <th>3</th>\n",
       "      <td>-0.079836</td>\n",
       "      <td>0.099327</td>\n",
       "      <td>-0.105081</td>\n",
       "      <td>0.083368</td>\n",
       "      <td>0.020906</td>\n",
       "      <td>0.100547</td>\n",
       "      <td>0.046923</td>\n",
       "      <td>-0.012753</td>\n",
       "      <td>-0.044839</td>\n",
       "      <td>-0.090273</td>\n",
       "      <td>...</td>\n",
       "      <td>-0.003777</td>\n",
       "      <td>0.014408</td>\n",
       "      <td>0.020862</td>\n",
       "      <td>-0.014338</td>\n",
       "      <td>0.010487</td>\n",
       "      <td>0.030782</td>\n",
       "      <td>0.004290</td>\n",
       "      <td>0.011037</td>\n",
       "      <td>0.035613</td>\n",
       "      <td>0</td>\n",
       "    </tr>\n",
       "    <tr>\n",
       "      <th>4</th>\n",
       "      <td>0.001731</td>\n",
       "      <td>0.132873</td>\n",
       "      <td>-0.221422</td>\n",
       "      <td>-0.096514</td>\n",
       "      <td>-0.206965</td>\n",
       "      <td>0.222243</td>\n",
       "      <td>0.201752</td>\n",
       "      <td>0.137579</td>\n",
       "      <td>-0.211523</td>\n",
       "      <td>-0.224146</td>\n",
       "      <td>...</td>\n",
       "      <td>-0.008545</td>\n",
       "      <td>0.002084</td>\n",
       "      <td>0.018926</td>\n",
       "      <td>-0.009237</td>\n",
       "      <td>0.020720</td>\n",
       "      <td>0.012070</td>\n",
       "      <td>0.007810</td>\n",
       "      <td>0.021491</td>\n",
       "      <td>-0.003290</td>\n",
       "      <td>1</td>\n",
       "    </tr>\n",
       "    <tr>\n",
       "      <th>...</th>\n",
       "      <td>...</td>\n",
       "      <td>...</td>\n",
       "      <td>...</td>\n",
       "      <td>...</td>\n",
       "      <td>...</td>\n",
       "      <td>...</td>\n",
       "      <td>...</td>\n",
       "      <td>...</td>\n",
       "      <td>...</td>\n",
       "      <td>...</td>\n",
       "      <td>...</td>\n",
       "      <td>...</td>\n",
       "      <td>...</td>\n",
       "      <td>...</td>\n",
       "      <td>...</td>\n",
       "      <td>...</td>\n",
       "      <td>...</td>\n",
       "      <td>...</td>\n",
       "      <td>...</td>\n",
       "      <td>...</td>\n",
       "      <td>...</td>\n",
       "    </tr>\n",
       "    <tr>\n",
       "      <th>467997</th>\n",
       "      <td>0.013613</td>\n",
       "      <td>0.003980</td>\n",
       "      <td>-0.008084</td>\n",
       "      <td>0.005546</td>\n",
       "      <td>-0.010594</td>\n",
       "      <td>-0.027755</td>\n",
       "      <td>-0.011017</td>\n",
       "      <td>-0.041147</td>\n",
       "      <td>0.011629</td>\n",
       "      <td>-0.034376</td>\n",
       "      <td>...</td>\n",
       "      <td>0.070458</td>\n",
       "      <td>0.060352</td>\n",
       "      <td>-0.017681</td>\n",
       "      <td>0.020748</td>\n",
       "      <td>-0.061611</td>\n",
       "      <td>0.055703</td>\n",
       "      <td>-0.072808</td>\n",
       "      <td>0.052917</td>\n",
       "      <td>0.061389</td>\n",
       "      <td>0</td>\n",
       "    </tr>\n",
       "    <tr>\n",
       "      <th>467998</th>\n",
       "      <td>-0.026807</td>\n",
       "      <td>-0.039683</td>\n",
       "      <td>0.055798</td>\n",
       "      <td>-0.031083</td>\n",
       "      <td>-0.049577</td>\n",
       "      <td>-0.066171</td>\n",
       "      <td>-0.044003</td>\n",
       "      <td>0.047640</td>\n",
       "      <td>-0.007068</td>\n",
       "      <td>0.054698</td>\n",
       "      <td>...</td>\n",
       "      <td>-0.021362</td>\n",
       "      <td>0.071692</td>\n",
       "      <td>0.075345</td>\n",
       "      <td>0.013002</td>\n",
       "      <td>-0.067868</td>\n",
       "      <td>0.066024</td>\n",
       "      <td>-0.061527</td>\n",
       "      <td>0.061773</td>\n",
       "      <td>0.054307</td>\n",
       "      <td>0</td>\n",
       "    </tr>\n",
       "    <tr>\n",
       "      <th>467999</th>\n",
       "      <td>-0.027667</td>\n",
       "      <td>-0.028690</td>\n",
       "      <td>0.059763</td>\n",
       "      <td>0.016151</td>\n",
       "      <td>0.036569</td>\n",
       "      <td>-0.076612</td>\n",
       "      <td>-0.069606</td>\n",
       "      <td>0.058072</td>\n",
       "      <td>-0.041316</td>\n",
       "      <td>0.072203</td>\n",
       "      <td>...</td>\n",
       "      <td>0.044340</td>\n",
       "      <td>0.022781</td>\n",
       "      <td>-0.029004</td>\n",
       "      <td>0.022750</td>\n",
       "      <td>0.016208</td>\n",
       "      <td>0.011915</td>\n",
       "      <td>0.007362</td>\n",
       "      <td>-0.023357</td>\n",
       "      <td>0.050601</td>\n",
       "      <td>0</td>\n",
       "    </tr>\n",
       "    <tr>\n",
       "      <th>468000</th>\n",
       "      <td>-0.081528</td>\n",
       "      <td>-0.002821</td>\n",
       "      <td>-0.082381</td>\n",
       "      <td>-0.035409</td>\n",
       "      <td>0.006096</td>\n",
       "      <td>0.080908</td>\n",
       "      <td>0.068108</td>\n",
       "      <td>0.032639</td>\n",
       "      <td>-0.065556</td>\n",
       "      <td>-0.072927</td>\n",
       "      <td>...</td>\n",
       "      <td>0.097034</td>\n",
       "      <td>0.128227</td>\n",
       "      <td>0.004014</td>\n",
       "      <td>-0.113401</td>\n",
       "      <td>-0.008422</td>\n",
       "      <td>-0.143789</td>\n",
       "      <td>0.140757</td>\n",
       "      <td>-0.174652</td>\n",
       "      <td>0.158667</td>\n",
       "      <td>1</td>\n",
       "    </tr>\n",
       "    <tr>\n",
       "      <th>468001</th>\n",
       "      <td>-0.061661</td>\n",
       "      <td>-0.006950</td>\n",
       "      <td>-0.078624</td>\n",
       "      <td>-0.086472</td>\n",
       "      <td>0.071980</td>\n",
       "      <td>-0.003281</td>\n",
       "      <td>0.023647</td>\n",
       "      <td>0.046735</td>\n",
       "      <td>-0.026316</td>\n",
       "      <td>0.035717</td>\n",
       "      <td>...</td>\n",
       "      <td>0.311114</td>\n",
       "      <td>-0.238862</td>\n",
       "      <td>-0.254030</td>\n",
       "      <td>0.309620</td>\n",
       "      <td>-0.073217</td>\n",
       "      <td>-0.307189</td>\n",
       "      <td>0.203258</td>\n",
       "      <td>0.279903</td>\n",
       "      <td>0.170277</td>\n",
       "      <td>0</td>\n",
       "    </tr>\n",
       "  </tbody>\n",
       "</table>\n",
       "<p>468002 rows × 201 columns</p>\n",
       "</div>"
      ],
      "text/plain": [
       "               0         1         2         3         4         5         6  \\\n",
       "0       0.060035 -0.063911  0.071861 -0.052641 -0.064331 -0.077902 -0.059952   \n",
       "1      -0.046169  0.014314 -0.052970 -0.014963  0.013101  0.063060  0.051526   \n",
       "2       0.068667  0.001084  0.063649  0.028877  0.049354 -0.076636 -0.066742   \n",
       "3      -0.079836  0.099327 -0.105081  0.083368  0.020906  0.100547  0.046923   \n",
       "4       0.001731  0.132873 -0.221422 -0.096514 -0.206965  0.222243  0.201752   \n",
       "...          ...       ...       ...       ...       ...       ...       ...   \n",
       "467997  0.013613  0.003980 -0.008084  0.005546 -0.010594 -0.027755 -0.011017   \n",
       "467998 -0.026807 -0.039683  0.055798 -0.031083 -0.049577 -0.066171 -0.044003   \n",
       "467999 -0.027667 -0.028690  0.059763  0.016151  0.036569 -0.076612 -0.069606   \n",
       "468000 -0.081528 -0.002821 -0.082381 -0.035409  0.006096  0.080908  0.068108   \n",
       "468001 -0.061661 -0.006950 -0.078624 -0.086472  0.071980 -0.003281  0.023647   \n",
       "\n",
       "               7         8         9  ...       191       192       193  \\\n",
       "0       0.037979  0.042509  0.066666  ...  0.047946  0.000032 -0.035098   \n",
       "1       0.003133 -0.042875 -0.065337  ... -0.007173  0.043164  0.033471   \n",
       "2       0.060626 -0.041239  0.062961  ... -0.006519  0.005642  0.021654   \n",
       "3      -0.012753 -0.044839 -0.090273  ... -0.003777  0.014408  0.020862   \n",
       "4       0.137579 -0.211523 -0.224146  ... -0.008545  0.002084  0.018926   \n",
       "...          ...       ...       ...  ...       ...       ...       ...   \n",
       "467997 -0.041147  0.011629 -0.034376  ...  0.070458  0.060352 -0.017681   \n",
       "467998  0.047640 -0.007068  0.054698  ... -0.021362  0.071692  0.075345   \n",
       "467999  0.058072 -0.041316  0.072203  ...  0.044340  0.022781 -0.029004   \n",
       "468000  0.032639 -0.065556 -0.072927  ...  0.097034  0.128227  0.004014   \n",
       "468001  0.046735 -0.026316  0.035717  ...  0.311114 -0.238862 -0.254030   \n",
       "\n",
       "             194       195       196       197       198       199  link  \n",
       "0       0.024981 -0.038474  0.039521  0.011188 -0.039667  0.044277     0  \n",
       "1      -0.034193  0.018403  0.036640 -0.059927 -0.040094 -0.026726     0  \n",
       "2      -0.016851  0.014577  0.008903  0.000195  0.042617  0.026171     1  \n",
       "3      -0.014338  0.010487  0.030782  0.004290  0.011037  0.035613     0  \n",
       "4      -0.009237  0.020720  0.012070  0.007810  0.021491 -0.003290     1  \n",
       "...          ...       ...       ...       ...       ...       ...   ...  \n",
       "467997  0.020748 -0.061611  0.055703 -0.072808  0.052917  0.061389     0  \n",
       "467998  0.013002 -0.067868  0.066024 -0.061527  0.061773  0.054307     0  \n",
       "467999  0.022750  0.016208  0.011915  0.007362 -0.023357  0.050601     0  \n",
       "468000 -0.113401 -0.008422 -0.143789  0.140757 -0.174652  0.158667     1  \n",
       "468001  0.309620 -0.073217 -0.307189  0.203258  0.279903  0.170277     0  \n",
       "\n",
       "[468002 rows x 201 columns]"
      ]
     },
     "execution_count": 3,
     "metadata": {},
     "output_type": "execute_result"
    }
   ],
   "source": [
    "df_num = df.drop(['head', 'relation', 'tail'], axis=1)\n",
    "df_num"
   ]
  },
  {
   "cell_type": "code",
   "execution_count": 4,
   "metadata": {
    "tags": []
   },
   "outputs": [
    {
     "name": "stderr",
     "output_type": "stream",
     "text": [
      "[LightGBM] [Fatal] GPU Tree Learner was not enabled in this build.\n",
      "Please recompile with CMake option -DUSE_GPU=1\n",
      "[LightGBM] [Fatal] CUDA Tree Learner was not enabled in this build.\n",
      "Please recompile with CMake option -DUSE_CUDA=1\n",
      "[LightGBM] [Fatal] GPU Tree Learner was not enabled in this build.\n",
      "Please recompile with CMake option -DUSE_GPU=1\n",
      "[LightGBM] [Fatal] CUDA Tree Learner was not enabled in this build.\n",
      "Please recompile with CMake option -DUSE_CUDA=1\n",
      "[LightGBM] [Fatal] GPU Tree Learner was not enabled in this build.\n",
      "Please recompile with CMake option -DUSE_GPU=1\n",
      "[LightGBM] [Fatal] CUDA Tree Learner was not enabled in this build.\n",
      "Please recompile with CMake option -DUSE_CUDA=1\n",
      "[LightGBM] [Fatal] GPU Tree Learner was not enabled in this build.\n",
      "Please recompile with CMake option -DUSE_GPU=1\n",
      "[LightGBM] [Fatal] CUDA Tree Learner was not enabled in this build.\n",
      "Please recompile with CMake option -DUSE_CUDA=1\n",
      "[LightGBM] [Fatal] GPU Tree Learner was not enabled in this build.\n",
      "Please recompile with CMake option -DUSE_GPU=1\n",
      "[LightGBM] [Fatal] CUDA Tree Learner was not enabled in this build.\n",
      "Please recompile with CMake option -DUSE_CUDA=1\n",
      "[LightGBM] [Fatal] GPU Tree Learner was not enabled in this build.\n",
      "Please recompile with CMake option -DUSE_GPU=1\n",
      "[LightGBM] [Fatal] CUDA Tree Learner was not enabled in this build.\n",
      "Please recompile with CMake option -DUSE_CUDA=1\n"
     ]
    },
    {
     "data": {
      "text/html": [
       "<style type=\"text/css\">\n",
       "#T_01137_row8_col1, #T_01137_row15_col1 {\n",
       "  background-color: lightgreen;\n",
       "}\n",
       "</style>\n",
       "<table id=\"T_01137\">\n",
       "  <thead>\n",
       "    <tr>\n",
       "      <th class=\"blank level0\" >&nbsp;</th>\n",
       "      <th id=\"T_01137_level0_col0\" class=\"col_heading level0 col0\" >Description</th>\n",
       "      <th id=\"T_01137_level0_col1\" class=\"col_heading level0 col1\" >Value</th>\n",
       "    </tr>\n",
       "  </thead>\n",
       "  <tbody>\n",
       "    <tr>\n",
       "      <th id=\"T_01137_level0_row0\" class=\"row_heading level0 row0\" >0</th>\n",
       "      <td id=\"T_01137_row0_col0\" class=\"data row0 col0\" >Session id</td>\n",
       "      <td id=\"T_01137_row0_col1\" class=\"data row0 col1\" >5518</td>\n",
       "    </tr>\n",
       "    <tr>\n",
       "      <th id=\"T_01137_level0_row1\" class=\"row_heading level0 row1\" >1</th>\n",
       "      <td id=\"T_01137_row1_col0\" class=\"data row1 col0\" >Target</td>\n",
       "      <td id=\"T_01137_row1_col1\" class=\"data row1 col1\" >link</td>\n",
       "    </tr>\n",
       "    <tr>\n",
       "      <th id=\"T_01137_level0_row2\" class=\"row_heading level0 row2\" >2</th>\n",
       "      <td id=\"T_01137_row2_col0\" class=\"data row2 col0\" >Target type</td>\n",
       "      <td id=\"T_01137_row2_col1\" class=\"data row2 col1\" >Binary</td>\n",
       "    </tr>\n",
       "    <tr>\n",
       "      <th id=\"T_01137_level0_row3\" class=\"row_heading level0 row3\" >3</th>\n",
       "      <td id=\"T_01137_row3_col0\" class=\"data row3 col0\" >Original data shape</td>\n",
       "      <td id=\"T_01137_row3_col1\" class=\"data row3 col1\" >(468002, 201)</td>\n",
       "    </tr>\n",
       "    <tr>\n",
       "      <th id=\"T_01137_level0_row4\" class=\"row_heading level0 row4\" >4</th>\n",
       "      <td id=\"T_01137_row4_col0\" class=\"data row4 col0\" >Transformed data shape</td>\n",
       "      <td id=\"T_01137_row4_col1\" class=\"data row4 col1\" >(468002, 201)</td>\n",
       "    </tr>\n",
       "    <tr>\n",
       "      <th id=\"T_01137_level0_row5\" class=\"row_heading level0 row5\" >5</th>\n",
       "      <td id=\"T_01137_row5_col0\" class=\"data row5 col0\" >Transformed train set shape</td>\n",
       "      <td id=\"T_01137_row5_col1\" class=\"data row5 col1\" >(374401, 201)</td>\n",
       "    </tr>\n",
       "    <tr>\n",
       "      <th id=\"T_01137_level0_row6\" class=\"row_heading level0 row6\" >6</th>\n",
       "      <td id=\"T_01137_row6_col0\" class=\"data row6 col0\" >Transformed test set shape</td>\n",
       "      <td id=\"T_01137_row6_col1\" class=\"data row6 col1\" >(93601, 201)</td>\n",
       "    </tr>\n",
       "    <tr>\n",
       "      <th id=\"T_01137_level0_row7\" class=\"row_heading level0 row7\" >7</th>\n",
       "      <td id=\"T_01137_row7_col0\" class=\"data row7 col0\" >Numeric features</td>\n",
       "      <td id=\"T_01137_row7_col1\" class=\"data row7 col1\" >200</td>\n",
       "    </tr>\n",
       "    <tr>\n",
       "      <th id=\"T_01137_level0_row8\" class=\"row_heading level0 row8\" >8</th>\n",
       "      <td id=\"T_01137_row8_col0\" class=\"data row8 col0\" >Preprocess</td>\n",
       "      <td id=\"T_01137_row8_col1\" class=\"data row8 col1\" >True</td>\n",
       "    </tr>\n",
       "    <tr>\n",
       "      <th id=\"T_01137_level0_row9\" class=\"row_heading level0 row9\" >9</th>\n",
       "      <td id=\"T_01137_row9_col0\" class=\"data row9 col0\" >Imputation type</td>\n",
       "      <td id=\"T_01137_row9_col1\" class=\"data row9 col1\" >simple</td>\n",
       "    </tr>\n",
       "    <tr>\n",
       "      <th id=\"T_01137_level0_row10\" class=\"row_heading level0 row10\" >10</th>\n",
       "      <td id=\"T_01137_row10_col0\" class=\"data row10 col0\" >Numeric imputation</td>\n",
       "      <td id=\"T_01137_row10_col1\" class=\"data row10 col1\" >mean</td>\n",
       "    </tr>\n",
       "    <tr>\n",
       "      <th id=\"T_01137_level0_row11\" class=\"row_heading level0 row11\" >11</th>\n",
       "      <td id=\"T_01137_row11_col0\" class=\"data row11 col0\" >Categorical imputation</td>\n",
       "      <td id=\"T_01137_row11_col1\" class=\"data row11 col1\" >mode</td>\n",
       "    </tr>\n",
       "    <tr>\n",
       "      <th id=\"T_01137_level0_row12\" class=\"row_heading level0 row12\" >12</th>\n",
       "      <td id=\"T_01137_row12_col0\" class=\"data row12 col0\" >Fold Generator</td>\n",
       "      <td id=\"T_01137_row12_col1\" class=\"data row12 col1\" >StratifiedKFold</td>\n",
       "    </tr>\n",
       "    <tr>\n",
       "      <th id=\"T_01137_level0_row13\" class=\"row_heading level0 row13\" >13</th>\n",
       "      <td id=\"T_01137_row13_col0\" class=\"data row13 col0\" >Fold Number</td>\n",
       "      <td id=\"T_01137_row13_col1\" class=\"data row13 col1\" >10</td>\n",
       "    </tr>\n",
       "    <tr>\n",
       "      <th id=\"T_01137_level0_row14\" class=\"row_heading level0 row14\" >14</th>\n",
       "      <td id=\"T_01137_row14_col0\" class=\"data row14 col0\" >CPU Jobs</td>\n",
       "      <td id=\"T_01137_row14_col1\" class=\"data row14 col1\" >-1</td>\n",
       "    </tr>\n",
       "    <tr>\n",
       "      <th id=\"T_01137_level0_row15\" class=\"row_heading level0 row15\" >15</th>\n",
       "      <td id=\"T_01137_row15_col0\" class=\"data row15 col0\" >Use GPU</td>\n",
       "      <td id=\"T_01137_row15_col1\" class=\"data row15 col1\" >True</td>\n",
       "    </tr>\n",
       "    <tr>\n",
       "      <th id=\"T_01137_level0_row16\" class=\"row_heading level0 row16\" >16</th>\n",
       "      <td id=\"T_01137_row16_col0\" class=\"data row16 col0\" >Log Experiment</td>\n",
       "      <td id=\"T_01137_row16_col1\" class=\"data row16 col1\" >WandbLogger</td>\n",
       "    </tr>\n",
       "    <tr>\n",
       "      <th id=\"T_01137_level0_row17\" class=\"row_heading level0 row17\" >17</th>\n",
       "      <td id=\"T_01137_row17_col0\" class=\"data row17 col0\" >Experiment Name</td>\n",
       "      <td id=\"T_01137_row17_col1\" class=\"data row17 col1\" >clf-default-name</td>\n",
       "    </tr>\n",
       "    <tr>\n",
       "      <th id=\"T_01137_level0_row18\" class=\"row_heading level0 row18\" >18</th>\n",
       "      <td id=\"T_01137_row18_col0\" class=\"data row18 col0\" >USI</td>\n",
       "      <td id=\"T_01137_row18_col1\" class=\"data row18 col1\" >1dff</td>\n",
       "    </tr>\n",
       "  </tbody>\n",
       "</table>\n"
      ],
      "text/plain": [
       "<pandas.io.formats.style.Styler at 0x7fb64a903e80>"
      ]
     },
     "metadata": {},
     "output_type": "display_data"
    },
    {
     "name": "stderr",
     "output_type": "stream",
     "text": [
      "[LightGBM] [Fatal] GPU Tree Learner was not enabled in this build.\n",
      "Please recompile with CMake option -DUSE_GPU=1\n",
      "[LightGBM] [Fatal] CUDA Tree Learner was not enabled in this build.\n",
      "Please recompile with CMake option -DUSE_CUDA=1\n",
      "[LightGBM] [Fatal] GPU Tree Learner was not enabled in this build.\n",
      "Please recompile with CMake option -DUSE_GPU=1\n",
      "[LightGBM] [Fatal] CUDA Tree Learner was not enabled in this build.\n",
      "Please recompile with CMake option -DUSE_CUDA=1\n"
     ]
    }
   ],
   "source": [
    "# Experiment setup\n",
    "s = setup(df_num, target = 'link', fold_strategy = 'stratifiedkfold', fold=10, train_size = 0.8, n_jobs=-1, system_log=True, use_gpu = True, log_experiment='wandb')\n",
    "exp = ClassificationExperiment()"
   ]
  },
  {
   "cell_type": "markdown",
   "metadata": {},
   "source": [
    "# K Neighbors Classifier"
   ]
  },
  {
   "cell_type": "code",
   "execution_count": 5,
   "metadata": {
    "tags": []
   },
   "outputs": [
    {
     "data": {
      "text/html": [],
      "text/plain": [
       "<IPython.core.display.HTML object>"
      ]
     },
     "metadata": {},
     "output_type": "display_data"
    },
    {
     "data": {
      "text/html": [
       "<style type=\"text/css\">\n",
       "#T_dab26_row10_col0, #T_dab26_row10_col1, #T_dab26_row10_col2, #T_dab26_row10_col3, #T_dab26_row10_col4, #T_dab26_row10_col5, #T_dab26_row10_col6 {\n",
       "  background: yellow;\n",
       "}\n",
       "</style>\n",
       "<table id=\"T_dab26\">\n",
       "  <thead>\n",
       "    <tr>\n",
       "      <th class=\"blank level0\" >&nbsp;</th>\n",
       "      <th id=\"T_dab26_level0_col0\" class=\"col_heading level0 col0\" >Accuracy</th>\n",
       "      <th id=\"T_dab26_level0_col1\" class=\"col_heading level0 col1\" >AUC</th>\n",
       "      <th id=\"T_dab26_level0_col2\" class=\"col_heading level0 col2\" >Recall</th>\n",
       "      <th id=\"T_dab26_level0_col3\" class=\"col_heading level0 col3\" >Prec.</th>\n",
       "      <th id=\"T_dab26_level0_col4\" class=\"col_heading level0 col4\" >F1</th>\n",
       "      <th id=\"T_dab26_level0_col5\" class=\"col_heading level0 col5\" >Kappa</th>\n",
       "      <th id=\"T_dab26_level0_col6\" class=\"col_heading level0 col6\" >MCC</th>\n",
       "    </tr>\n",
       "    <tr>\n",
       "      <th class=\"index_name level0\" >Fold</th>\n",
       "      <th class=\"blank col0\" >&nbsp;</th>\n",
       "      <th class=\"blank col1\" >&nbsp;</th>\n",
       "      <th class=\"blank col2\" >&nbsp;</th>\n",
       "      <th class=\"blank col3\" >&nbsp;</th>\n",
       "      <th class=\"blank col4\" >&nbsp;</th>\n",
       "      <th class=\"blank col5\" >&nbsp;</th>\n",
       "      <th class=\"blank col6\" >&nbsp;</th>\n",
       "    </tr>\n",
       "  </thead>\n",
       "  <tbody>\n",
       "    <tr>\n",
       "      <th id=\"T_dab26_level0_row0\" class=\"row_heading level0 row0\" >0</th>\n",
       "      <td id=\"T_dab26_row0_col0\" class=\"data row0 col0\" >0.8072</td>\n",
       "      <td id=\"T_dab26_row0_col1\" class=\"data row0 col1\" >0.8659</td>\n",
       "      <td id=\"T_dab26_row0_col2\" class=\"data row0 col2\" >0.9104</td>\n",
       "      <td id=\"T_dab26_row0_col3\" class=\"data row0 col3\" >0.7546</td>\n",
       "      <td id=\"T_dab26_row0_col4\" class=\"data row0 col4\" >0.8252</td>\n",
       "      <td id=\"T_dab26_row0_col5\" class=\"data row0 col5\" >0.6143</td>\n",
       "      <td id=\"T_dab26_row0_col6\" class=\"data row0 col6\" >0.6279</td>\n",
       "    </tr>\n",
       "    <tr>\n",
       "      <th id=\"T_dab26_level0_row1\" class=\"row_heading level0 row1\" >1</th>\n",
       "      <td id=\"T_dab26_row1_col0\" class=\"data row1 col0\" >0.8076</td>\n",
       "      <td id=\"T_dab26_row1_col1\" class=\"data row1 col1\" >0.8677</td>\n",
       "      <td id=\"T_dab26_row1_col2\" class=\"data row1 col2\" >0.9100</td>\n",
       "      <td id=\"T_dab26_row1_col3\" class=\"data row1 col3\" >0.7553</td>\n",
       "      <td id=\"T_dab26_row1_col4\" class=\"data row1 col4\" >0.8255</td>\n",
       "      <td id=\"T_dab26_row1_col5\" class=\"data row1 col5\" >0.6152</td>\n",
       "      <td id=\"T_dab26_row1_col6\" class=\"data row1 col6\" >0.6285</td>\n",
       "    </tr>\n",
       "    <tr>\n",
       "      <th id=\"T_dab26_level0_row2\" class=\"row_heading level0 row2\" >2</th>\n",
       "      <td id=\"T_dab26_row2_col0\" class=\"data row2 col0\" >0.8064</td>\n",
       "      <td id=\"T_dab26_row2_col1\" class=\"data row2 col1\" >0.8677</td>\n",
       "      <td id=\"T_dab26_row2_col2\" class=\"data row2 col2\" >0.9089</td>\n",
       "      <td id=\"T_dab26_row2_col3\" class=\"data row2 col3\" >0.7543</td>\n",
       "      <td id=\"T_dab26_row2_col4\" class=\"data row2 col4\" >0.8244</td>\n",
       "      <td id=\"T_dab26_row2_col5\" class=\"data row2 col5\" >0.6128</td>\n",
       "      <td id=\"T_dab26_row2_col6\" class=\"data row2 col6\" >0.6261</td>\n",
       "    </tr>\n",
       "    <tr>\n",
       "      <th id=\"T_dab26_level0_row3\" class=\"row_heading level0 row3\" >3</th>\n",
       "      <td id=\"T_dab26_row3_col0\" class=\"data row3 col0\" >0.8054</td>\n",
       "      <td id=\"T_dab26_row3_col1\" class=\"data row3 col1\" >0.8650</td>\n",
       "      <td id=\"T_dab26_row3_col2\" class=\"data row3 col2\" >0.9071</td>\n",
       "      <td id=\"T_dab26_row3_col3\" class=\"data row3 col3\" >0.7539</td>\n",
       "      <td id=\"T_dab26_row3_col4\" class=\"data row3 col4\" >0.8234</td>\n",
       "      <td id=\"T_dab26_row3_col5\" class=\"data row3 col5\" >0.6109</td>\n",
       "      <td id=\"T_dab26_row3_col6\" class=\"data row3 col6\" >0.6239</td>\n",
       "    </tr>\n",
       "    <tr>\n",
       "      <th id=\"T_dab26_level0_row4\" class=\"row_heading level0 row4\" >4</th>\n",
       "      <td id=\"T_dab26_row4_col0\" class=\"data row4 col0\" >0.8082</td>\n",
       "      <td id=\"T_dab26_row4_col1\" class=\"data row4 col1\" >0.8694</td>\n",
       "      <td id=\"T_dab26_row4_col2\" class=\"data row4 col2\" >0.9091</td>\n",
       "      <td id=\"T_dab26_row4_col3\" class=\"data row4 col3\" >0.7564</td>\n",
       "      <td id=\"T_dab26_row4_col4\" class=\"data row4 col4\" >0.8258</td>\n",
       "      <td id=\"T_dab26_row4_col5\" class=\"data row4 col5\" >0.6163</td>\n",
       "      <td id=\"T_dab26_row4_col6\" class=\"data row4 col6\" >0.6293</td>\n",
       "    </tr>\n",
       "    <tr>\n",
       "      <th id=\"T_dab26_level0_row5\" class=\"row_heading level0 row5\" >5</th>\n",
       "      <td id=\"T_dab26_row5_col0\" class=\"data row5 col0\" >0.8089</td>\n",
       "      <td id=\"T_dab26_row5_col1\" class=\"data row5 col1\" >0.8691</td>\n",
       "      <td id=\"T_dab26_row5_col2\" class=\"data row5 col2\" >0.9114</td>\n",
       "      <td id=\"T_dab26_row5_col3\" class=\"data row5 col3\" >0.7564</td>\n",
       "      <td id=\"T_dab26_row5_col4\" class=\"data row5 col4\" >0.8267</td>\n",
       "      <td id=\"T_dab26_row5_col5\" class=\"data row5 col5\" >0.6179</td>\n",
       "      <td id=\"T_dab26_row5_col6\" class=\"data row5 col6\" >0.6313</td>\n",
       "    </tr>\n",
       "    <tr>\n",
       "      <th id=\"T_dab26_level0_row6\" class=\"row_heading level0 row6\" >6</th>\n",
       "      <td id=\"T_dab26_row6_col0\" class=\"data row6 col0\" >0.8092</td>\n",
       "      <td id=\"T_dab26_row6_col1\" class=\"data row6 col1\" >0.8678</td>\n",
       "      <td id=\"T_dab26_row6_col2\" class=\"data row6 col2\" >0.9129</td>\n",
       "      <td id=\"T_dab26_row6_col3\" class=\"data row6 col3\" >0.7561</td>\n",
       "      <td id=\"T_dab26_row6_col4\" class=\"data row6 col4\" >0.8271</td>\n",
       "      <td id=\"T_dab26_row6_col5\" class=\"data row6 col5\" >0.6184</td>\n",
       "      <td id=\"T_dab26_row6_col6\" class=\"data row6 col6\" >0.6321</td>\n",
       "    </tr>\n",
       "    <tr>\n",
       "      <th id=\"T_dab26_level0_row7\" class=\"row_heading level0 row7\" >7</th>\n",
       "      <td id=\"T_dab26_row7_col0\" class=\"data row7 col0\" >0.8060</td>\n",
       "      <td id=\"T_dab26_row7_col1\" class=\"data row7 col1\" >0.8664</td>\n",
       "      <td id=\"T_dab26_row7_col2\" class=\"data row7 col2\" >0.9069</td>\n",
       "      <td id=\"T_dab26_row7_col3\" class=\"data row7 col3\" >0.7546</td>\n",
       "      <td id=\"T_dab26_row7_col4\" class=\"data row7 col4\" >0.8238</td>\n",
       "      <td id=\"T_dab26_row7_col5\" class=\"data row7 col5\" >0.6121</td>\n",
       "      <td id=\"T_dab26_row7_col6\" class=\"data row7 col6\" >0.6249</td>\n",
       "    </tr>\n",
       "    <tr>\n",
       "      <th id=\"T_dab26_level0_row8\" class=\"row_heading level0 row8\" >8</th>\n",
       "      <td id=\"T_dab26_row8_col0\" class=\"data row8 col0\" >0.8062</td>\n",
       "      <td id=\"T_dab26_row8_col1\" class=\"data row8 col1\" >0.8667</td>\n",
       "      <td id=\"T_dab26_row8_col2\" class=\"data row8 col2\" >0.9073</td>\n",
       "      <td id=\"T_dab26_row8_col3\" class=\"data row8 col3\" >0.7548</td>\n",
       "      <td id=\"T_dab26_row8_col4\" class=\"data row8 col4\" >0.8240</td>\n",
       "      <td id=\"T_dab26_row8_col5\" class=\"data row8 col5\" >0.6125</td>\n",
       "      <td id=\"T_dab26_row8_col6\" class=\"data row8 col6\" >0.6254</td>\n",
       "    </tr>\n",
       "    <tr>\n",
       "      <th id=\"T_dab26_level0_row9\" class=\"row_heading level0 row9\" >9</th>\n",
       "      <td id=\"T_dab26_row9_col0\" class=\"data row9 col0\" >0.8035</td>\n",
       "      <td id=\"T_dab26_row9_col1\" class=\"data row9 col1\" >0.8642</td>\n",
       "      <td id=\"T_dab26_row9_col2\" class=\"data row9 col2\" >0.9050</td>\n",
       "      <td id=\"T_dab26_row9_col3\" class=\"data row9 col3\" >0.7523</td>\n",
       "      <td id=\"T_dab26_row9_col4\" class=\"data row9 col4\" >0.8216</td>\n",
       "      <td id=\"T_dab26_row9_col5\" class=\"data row9 col5\" >0.6070</td>\n",
       "      <td id=\"T_dab26_row9_col6\" class=\"data row9 col6\" >0.6199</td>\n",
       "    </tr>\n",
       "    <tr>\n",
       "      <th id=\"T_dab26_level0_row10\" class=\"row_heading level0 row10\" >Mean</th>\n",
       "      <td id=\"T_dab26_row10_col0\" class=\"data row10 col0\" >0.8069</td>\n",
       "      <td id=\"T_dab26_row10_col1\" class=\"data row10 col1\" >0.8670</td>\n",
       "      <td id=\"T_dab26_row10_col2\" class=\"data row10 col2\" >0.9089</td>\n",
       "      <td id=\"T_dab26_row10_col3\" class=\"data row10 col3\" >0.7549</td>\n",
       "      <td id=\"T_dab26_row10_col4\" class=\"data row10 col4\" >0.8247</td>\n",
       "      <td id=\"T_dab26_row10_col5\" class=\"data row10 col5\" >0.6137</td>\n",
       "      <td id=\"T_dab26_row10_col6\" class=\"data row10 col6\" >0.6269</td>\n",
       "    </tr>\n",
       "    <tr>\n",
       "      <th id=\"T_dab26_level0_row11\" class=\"row_heading level0 row11\" >Std</th>\n",
       "      <td id=\"T_dab26_row11_col0\" class=\"data row11 col0\" >0.0016</td>\n",
       "      <td id=\"T_dab26_row11_col1\" class=\"data row11 col1\" >0.0016</td>\n",
       "      <td id=\"T_dab26_row11_col2\" class=\"data row11 col2\" >0.0023</td>\n",
       "      <td id=\"T_dab26_row11_col3\" class=\"data row11 col3\" >0.0012</td>\n",
       "      <td id=\"T_dab26_row11_col4\" class=\"data row11 col4\" >0.0016</td>\n",
       "      <td id=\"T_dab26_row11_col5\" class=\"data row11 col5\" >0.0033</td>\n",
       "      <td id=\"T_dab26_row11_col6\" class=\"data row11 col6\" >0.0035</td>\n",
       "    </tr>\n",
       "  </tbody>\n",
       "</table>\n"
      ],
      "text/plain": [
       "<pandas.io.formats.style.Styler at 0x7fb64a900550>"
      ]
     },
     "metadata": {},
     "output_type": "display_data"
    },
    {
     "data": {
      "text/html": [],
      "text/plain": [
       "<IPython.core.display.HTML object>"
      ]
     },
     "metadata": {},
     "output_type": "display_data"
    }
   ],
   "source": [
    "knn = create_model('knn')"
   ]
  },
  {
   "cell_type": "code",
   "execution_count": 6,
   "metadata": {},
   "outputs": [
    {
     "data": {
      "text/html": [],
      "text/plain": [
       "<IPython.core.display.HTML object>"
      ]
     },
     "metadata": {},
     "output_type": "display_data"
    },
    {
     "data": {
      "image/png": "[encoded data removed]",
      "text/plain": [
       "<Figure size 800x550 with 1 Axes>"
      ]
     },
     "metadata": {},
     "output_type": "display_data"
    }
   ],
   "source": [
    "plot_model(knn, plot = 'confusion_matrix')"
   ]
  },
  {
   "cell_type": "code",
   "execution_count": 7,
   "metadata": {},
   "outputs": [
    {
     "data": {
      "text/html": [],
      "text/plain": [
       "<IPython.core.display.HTML object>"
      ]
     },
     "metadata": {},
     "output_type": "display_data"
    },
    {
     "data": {
      "image/png": "[encoded data removed]",
      "text/plain": [
       "<Figure size 800x550 with 1 Axes>"
      ]
     },
     "metadata": {},
     "output_type": "display_data"
    }
   ],
   "source": [
    "plot_model(knn, plot = 'error')"
   ]
  },
  {
   "cell_type": "code",
   "execution_count": 8,
   "metadata": {},
   "outputs": [
    {
     "data": {
      "text/html": [],
      "text/plain": [
       "<IPython.core.display.HTML object>"
      ]
     },
     "metadata": {},
     "output_type": "display_data"
    },
    {
     "data": {
      "text/html": [
       "<div>\n",
       "<style scoped>\n",
       "    .dataframe tbody tr th:only-of-type {\n",
       "        vertical-align: middle;\n",
       "    }\n",
       "\n",
       "    .dataframe tbody tr th {\n",
       "        vertical-align: top;\n",
       "    }\n",
       "\n",
       "    .dataframe thead th {\n",
       "        text-align: right;\n",
       "    }\n",
       "</style>\n",
       "<table border=\"1\" class=\"dataframe\">\n",
       "  <thead>\n",
       "    <tr style=\"text-align: right;\">\n",
       "      <th></th>\n",
       "      <th>Parameters</th>\n",
       "    </tr>\n",
       "  </thead>\n",
       "  <tbody>\n",
       "    <tr>\n",
       "      <th>algorithm</th>\n",
       "      <td>auto</td>\n",
       "    </tr>\n",
       "    <tr>\n",
       "      <th>leaf_size</th>\n",
       "      <td>30</td>\n",
       "    </tr>\n",
       "    <tr>\n",
       "      <th>metric</th>\n",
       "      <td>minkowski</td>\n",
       "    </tr>\n",
       "    <tr>\n",
       "      <th>metric_params</th>\n",
       "      <td>None</td>\n",
       "    </tr>\n",
       "    <tr>\n",
       "      <th>n_jobs</th>\n",
       "      <td>-1</td>\n",
       "    </tr>\n",
       "    <tr>\n",
       "      <th>n_neighbors</th>\n",
       "      <td>5</td>\n",
       "    </tr>\n",
       "    <tr>\n",
       "      <th>p</th>\n",
       "      <td>2</td>\n",
       "    </tr>\n",
       "    <tr>\n",
       "      <th>weights</th>\n",
       "      <td>uniform</td>\n",
       "    </tr>\n",
       "  </tbody>\n",
       "</table>\n",
       "</div>"
      ],
      "text/plain": [
       "              Parameters\n",
       "algorithm           auto\n",
       "leaf_size             30\n",
       "metric         minkowski\n",
       "metric_params       None\n",
       "n_jobs                -1\n",
       "n_neighbors            5\n",
       "p                      2\n",
       "weights          uniform"
      ]
     },
     "metadata": {},
     "output_type": "display_data"
    }
   ],
   "source": [
    "plot_model(knn, plot = 'parameter')"
   ]
  },
  {
   "cell_type": "code",
   "execution_count": 9,
   "metadata": {},
   "outputs": [
    {
     "name": "stdout",
     "output_type": "stream",
     "text": [
      "Transformation Pipeline and Model Successfully Saved\n"
     ]
    },
    {
     "data": {
      "text/plain": [
       "(Pipeline(memory=FastMemory(location=/tmp/joblib),\n",
       "          steps=[('numerical_imputer',\n",
       "                  TransformerWrapper(exclude=None,\n",
       "                                     include=['0', '1', '2', '3', '4', '5', '6',\n",
       "                                              '7', '8', '9', '10', '11', '12',\n",
       "                                              '13', '14', '15', '16', '17', '18',\n",
       "                                              '19', '20', '21', '22', '23', '24',\n",
       "                                              '25', '26', '27', '28', '29', ...],\n",
       "                                     transformer=SimpleImputer(add_indicator=False,\n",
       "                                                               copy=True,\n",
       "                                                               fill_value=None,\n",
       "                                                               keep_empty_feat...\n",
       "                  TransformerWrapper(exclude=None, include=[],\n",
       "                                     transformer=SimpleImputer(add_indicator=False,\n",
       "                                                               copy=True,\n",
       "                                                               fill_value=None,\n",
       "                                                               keep_empty_features=False,\n",
       "                                                               missing_values=nan,\n",
       "                                                               strategy='most_frequent',\n",
       "                                                               verbose='deprecated'))),\n",
       "                 ('trained_model',\n",
       "                  KNeighborsClassifier(algorithm='auto', leaf_size=30,\n",
       "                                       metric='minkowski', metric_params=None,\n",
       "                                       n_jobs=-1, n_neighbors=5, p=2,\n",
       "                                       weights='uniform'))],\n",
       "          verbose=False),\n",
       " 'models_classif/complex/knn.pkl')"
      ]
     },
     "execution_count": 9,
     "metadata": {},
     "output_type": "execute_result"
    }
   ],
   "source": [
    "save_model(knn, 'models_classif/complex/knn')"
   ]
  },
  {
   "cell_type": "markdown",
   "metadata": {},
   "source": [
    "# Naive Bayes"
   ]
  },
  {
   "cell_type": "code",
   "execution_count": 10,
   "metadata": {
    "tags": []
   },
   "outputs": [
    {
     "data": {
      "text/html": [],
      "text/plain": [
       "<IPython.core.display.HTML object>"
      ]
     },
     "metadata": {},
     "output_type": "display_data"
    },
    {
     "data": {
      "text/html": [
       "<style type=\"text/css\">\n",
       "#T_20829_row10_col0, #T_20829_row10_col1, #T_20829_row10_col2, #T_20829_row10_col3, #T_20829_row10_col4, #T_20829_row10_col5, #T_20829_row10_col6 {\n",
       "  background: yellow;\n",
       "}\n",
       "</style>\n",
       "<table id=\"T_20829\">\n",
       "  <thead>\n",
       "    <tr>\n",
       "      <th class=\"blank level0\" >&nbsp;</th>\n",
       "      <th id=\"T_20829_level0_col0\" class=\"col_heading level0 col0\" >Accuracy</th>\n",
       "      <th id=\"T_20829_level0_col1\" class=\"col_heading level0 col1\" >AUC</th>\n",
       "      <th id=\"T_20829_level0_col2\" class=\"col_heading level0 col2\" >Recall</th>\n",
       "      <th id=\"T_20829_level0_col3\" class=\"col_heading level0 col3\" >Prec.</th>\n",
       "      <th id=\"T_20829_level0_col4\" class=\"col_heading level0 col4\" >F1</th>\n",
       "      <th id=\"T_20829_level0_col5\" class=\"col_heading level0 col5\" >Kappa</th>\n",
       "      <th id=\"T_20829_level0_col6\" class=\"col_heading level0 col6\" >MCC</th>\n",
       "    </tr>\n",
       "    <tr>\n",
       "      <th class=\"index_name level0\" >Fold</th>\n",
       "      <th class=\"blank col0\" >&nbsp;</th>\n",
       "      <th class=\"blank col1\" >&nbsp;</th>\n",
       "      <th class=\"blank col2\" >&nbsp;</th>\n",
       "      <th class=\"blank col3\" >&nbsp;</th>\n",
       "      <th class=\"blank col4\" >&nbsp;</th>\n",
       "      <th class=\"blank col5\" >&nbsp;</th>\n",
       "      <th class=\"blank col6\" >&nbsp;</th>\n",
       "    </tr>\n",
       "  </thead>\n",
       "  <tbody>\n",
       "    <tr>\n",
       "      <th id=\"T_20829_level0_row0\" class=\"row_heading level0 row0\" >0</th>\n",
       "      <td id=\"T_20829_row0_col0\" class=\"data row0 col0\" >0.7136</td>\n",
       "      <td id=\"T_20829_row0_col1\" class=\"data row0 col1\" >0.7958</td>\n",
       "      <td id=\"T_20829_row0_col2\" class=\"data row0 col2\" >0.9481</td>\n",
       "      <td id=\"T_20829_row0_col3\" class=\"data row0 col3\" >0.6454</td>\n",
       "      <td id=\"T_20829_row0_col4\" class=\"data row0 col4\" >0.7680</td>\n",
       "      <td id=\"T_20829_row0_col5\" class=\"data row0 col5\" >0.4273</td>\n",
       "      <td id=\"T_20829_row0_col6\" class=\"data row0 col6\" >0.4837</td>\n",
       "    </tr>\n",
       "    <tr>\n",
       "      <th id=\"T_20829_level0_row1\" class=\"row_heading level0 row1\" >1</th>\n",
       "      <td id=\"T_20829_row1_col0\" class=\"data row1 col0\" >0.7125</td>\n",
       "      <td id=\"T_20829_row1_col1\" class=\"data row1 col1\" >0.7962</td>\n",
       "      <td id=\"T_20829_row1_col2\" class=\"data row1 col2\" >0.9475</td>\n",
       "      <td id=\"T_20829_row1_col3\" class=\"data row1 col3\" >0.6445</td>\n",
       "      <td id=\"T_20829_row1_col4\" class=\"data row1 col4\" >0.7672</td>\n",
       "      <td id=\"T_20829_row1_col5\" class=\"data row1 col5\" >0.4250</td>\n",
       "      <td id=\"T_20829_row1_col6\" class=\"data row1 col6\" >0.4815</td>\n",
       "    </tr>\n",
       "    <tr>\n",
       "      <th id=\"T_20829_level0_row2\" class=\"row_heading level0 row2\" >2</th>\n",
       "      <td id=\"T_20829_row2_col0\" class=\"data row2 col0\" >0.7183</td>\n",
       "      <td id=\"T_20829_row2_col1\" class=\"data row2 col1\" >0.7984</td>\n",
       "      <td id=\"T_20829_row2_col2\" class=\"data row2 col2\" >0.9484</td>\n",
       "      <td id=\"T_20829_row2_col3\" class=\"data row2 col3\" >0.6495</td>\n",
       "      <td id=\"T_20829_row2_col4\" class=\"data row2 col4\" >0.7710</td>\n",
       "      <td id=\"T_20829_row2_col5\" class=\"data row2 col5\" >0.4367</td>\n",
       "      <td id=\"T_20829_row2_col6\" class=\"data row2 col6\" >0.4919</td>\n",
       "    </tr>\n",
       "    <tr>\n",
       "      <th id=\"T_20829_level0_row3\" class=\"row_heading level0 row3\" >3</th>\n",
       "      <td id=\"T_20829_row3_col0\" class=\"data row3 col0\" >0.7154</td>\n",
       "      <td id=\"T_20829_row3_col1\" class=\"data row3 col1\" >0.7947</td>\n",
       "      <td id=\"T_20829_row3_col2\" class=\"data row3 col2\" >0.9483</td>\n",
       "      <td id=\"T_20829_row3_col3\" class=\"data row3 col3\" >0.6470</td>\n",
       "      <td id=\"T_20829_row3_col4\" class=\"data row3 col4\" >0.7692</td>\n",
       "      <td id=\"T_20829_row3_col5\" class=\"data row3 col5\" >0.4309</td>\n",
       "      <td id=\"T_20829_row3_col6\" class=\"data row3 col6\" >0.4869</td>\n",
       "    </tr>\n",
       "    <tr>\n",
       "      <th id=\"T_20829_level0_row4\" class=\"row_heading level0 row4\" >4</th>\n",
       "      <td id=\"T_20829_row4_col0\" class=\"data row4 col0\" >0.7152</td>\n",
       "      <td id=\"T_20829_row4_col1\" class=\"data row4 col1\" >0.7976</td>\n",
       "      <td id=\"T_20829_row4_col2\" class=\"data row4 col2\" >0.9489</td>\n",
       "      <td id=\"T_20829_row4_col3\" class=\"data row4 col3\" >0.6466</td>\n",
       "      <td id=\"T_20829_row4_col4\" class=\"data row4 col4\" >0.7692</td>\n",
       "      <td id=\"T_20829_row4_col5\" class=\"data row4 col5\" >0.4304</td>\n",
       "      <td id=\"T_20829_row4_col6\" class=\"data row4 col6\" >0.4869</td>\n",
       "    </tr>\n",
       "    <tr>\n",
       "      <th id=\"T_20829_level0_row5\" class=\"row_heading level0 row5\" >5</th>\n",
       "      <td id=\"T_20829_row5_col0\" class=\"data row5 col0\" >0.7136</td>\n",
       "      <td id=\"T_20829_row5_col1\" class=\"data row5 col1\" >0.7957</td>\n",
       "      <td id=\"T_20829_row5_col2\" class=\"data row5 col2\" >0.9470</td>\n",
       "      <td id=\"T_20829_row5_col3\" class=\"data row5 col3\" >0.6456</td>\n",
       "      <td id=\"T_20829_row5_col4\" class=\"data row5 col4\" >0.7678</td>\n",
       "      <td id=\"T_20829_row5_col5\" class=\"data row5 col5\" >0.4271</td>\n",
       "      <td id=\"T_20829_row5_col6\" class=\"data row5 col6\" >0.4830</td>\n",
       "    </tr>\n",
       "    <tr>\n",
       "      <th id=\"T_20829_level0_row6\" class=\"row_heading level0 row6\" >6</th>\n",
       "      <td id=\"T_20829_row6_col0\" class=\"data row6 col0\" >0.7101</td>\n",
       "      <td id=\"T_20829_row6_col1\" class=\"data row6 col1\" >0.7912</td>\n",
       "      <td id=\"T_20829_row6_col2\" class=\"data row6 col2\" >0.9437</td>\n",
       "      <td id=\"T_20829_row6_col3\" class=\"data row6 col3\" >0.6432</td>\n",
       "      <td id=\"T_20829_row6_col4\" class=\"data row6 col4\" >0.7650</td>\n",
       "      <td id=\"T_20829_row6_col5\" class=\"data row6 col5\" >0.4201</td>\n",
       "      <td id=\"T_20829_row6_col6\" class=\"data row6 col6\" >0.4752</td>\n",
       "    </tr>\n",
       "    <tr>\n",
       "      <th id=\"T_20829_level0_row7\" class=\"row_heading level0 row7\" >7</th>\n",
       "      <td id=\"T_20829_row7_col0\" class=\"data row7 col0\" >0.7149</td>\n",
       "      <td id=\"T_20829_row7_col1\" class=\"data row7 col1\" >0.7959</td>\n",
       "      <td id=\"T_20829_row7_col2\" class=\"data row7 col2\" >0.9461</td>\n",
       "      <td id=\"T_20829_row7_col3\" class=\"data row7 col3\" >0.6470</td>\n",
       "      <td id=\"T_20829_row7_col4\" class=\"data row7 col4\" >0.7684</td>\n",
       "      <td id=\"T_20829_row7_col5\" class=\"data row7 col5\" >0.4298</td>\n",
       "      <td id=\"T_20829_row7_col6\" class=\"data row7 col6\" >0.4847</td>\n",
       "    </tr>\n",
       "    <tr>\n",
       "      <th id=\"T_20829_level0_row8\" class=\"row_heading level0 row8\" >8</th>\n",
       "      <td id=\"T_20829_row8_col0\" class=\"data row8 col0\" >0.7123</td>\n",
       "      <td id=\"T_20829_row8_col1\" class=\"data row8 col1\" >0.7931</td>\n",
       "      <td id=\"T_20829_row8_col2\" class=\"data row8 col2\" >0.9466</td>\n",
       "      <td id=\"T_20829_row8_col3\" class=\"data row8 col3\" >0.6446</td>\n",
       "      <td id=\"T_20829_row8_col4\" class=\"data row8 col4\" >0.7669</td>\n",
       "      <td id=\"T_20829_row8_col5\" class=\"data row8 col5\" >0.4247</td>\n",
       "      <td id=\"T_20829_row8_col6\" class=\"data row8 col6\" >0.4807</td>\n",
       "    </tr>\n",
       "    <tr>\n",
       "      <th id=\"T_20829_level0_row9\" class=\"row_heading level0 row9\" >9</th>\n",
       "      <td id=\"T_20829_row9_col0\" class=\"data row9 col0\" >0.7141</td>\n",
       "      <td id=\"T_20829_row9_col1\" class=\"data row9 col1\" >0.7962</td>\n",
       "      <td id=\"T_20829_row9_col2\" class=\"data row9 col2\" >0.9468</td>\n",
       "      <td id=\"T_20829_row9_col3\" class=\"data row9 col3\" >0.6461</td>\n",
       "      <td id=\"T_20829_row9_col4\" class=\"data row9 col4\" >0.7681</td>\n",
       "      <td id=\"T_20829_row9_col5\" class=\"data row9 col5\" >0.4282</td>\n",
       "      <td id=\"T_20829_row9_col6\" class=\"data row9 col6\" >0.4837</td>\n",
       "    </tr>\n",
       "    <tr>\n",
       "      <th id=\"T_20829_level0_row10\" class=\"row_heading level0 row10\" >Mean</th>\n",
       "      <td id=\"T_20829_row10_col0\" class=\"data row10 col0\" >0.7140</td>\n",
       "      <td id=\"T_20829_row10_col1\" class=\"data row10 col1\" >0.7955</td>\n",
       "      <td id=\"T_20829_row10_col2\" class=\"data row10 col2\" >0.9471</td>\n",
       "      <td id=\"T_20829_row10_col3\" class=\"data row10 col3\" >0.6460</td>\n",
       "      <td id=\"T_20829_row10_col4\" class=\"data row10 col4\" >0.7681</td>\n",
       "      <td id=\"T_20829_row10_col5\" class=\"data row10 col5\" >0.4280</td>\n",
       "      <td id=\"T_20829_row10_col6\" class=\"data row10 col6\" >0.4838</td>\n",
       "    </tr>\n",
       "    <tr>\n",
       "      <th id=\"T_20829_level0_row11\" class=\"row_heading level0 row11\" >Std</th>\n",
       "      <td id=\"T_20829_row11_col0\" class=\"data row11 col0\" >0.0021</td>\n",
       "      <td id=\"T_20829_row11_col1\" class=\"data row11 col1\" >0.0020</td>\n",
       "      <td id=\"T_20829_row11_col2\" class=\"data row11 col2\" >0.0014</td>\n",
       "      <td id=\"T_20829_row11_col3\" class=\"data row11 col3\" >0.0017</td>\n",
       "      <td id=\"T_20829_row11_col4\" class=\"data row11 col4\" >0.0015</td>\n",
       "      <td id=\"T_20829_row11_col5\" class=\"data row11 col5\" >0.0042</td>\n",
       "      <td id=\"T_20829_row11_col6\" class=\"data row11 col6\" >0.0042</td>\n",
       "    </tr>\n",
       "  </tbody>\n",
       "</table>\n"
      ],
      "text/plain": [
       "<pandas.io.formats.style.Styler at 0x7fb65038b520>"
      ]
     },
     "metadata": {},
     "output_type": "display_data"
    },
    {
     "data": {
      "text/html": [],
      "text/plain": [
       "<IPython.core.display.HTML object>"
      ]
     },
     "metadata": {},
     "output_type": "display_data"
    }
   ],
   "source": [
    "nb = create_model('nb')"
   ]
  },
  {
   "cell_type": "code",
   "execution_count": 11,
   "metadata": {},
   "outputs": [
    {
     "data": {
      "text/html": [],
      "text/plain": [
       "<IPython.core.display.HTML object>"
      ]
     },
     "metadata": {},
     "output_type": "display_data"
    },
    {
     "data": {
      "image/png": "[encoded data removed]",
      "text/plain": [
       "<Figure size 800x550 with 1 Axes>"
      ]
     },
     "metadata": {},
     "output_type": "display_data"
    }
   ],
   "source": [
    "plot_model(nb, plot = 'confusion_matrix')"
   ]
  },
  {
   "cell_type": "code",
   "execution_count": 12,
   "metadata": {},
   "outputs": [
    {
     "data": {
      "text/html": [],
      "text/plain": [
       "<IPython.core.display.HTML object>"
      ]
     },
     "metadata": {},
     "output_type": "display_data"
    },
    {
     "data": {
      "image/png": "[encoded data removed]",
      "text/plain": [
       "<Figure size 800x550 with 1 Axes>"
      ]
     },
     "metadata": {},
     "output_type": "display_data"
    }
   ],
   "source": [
    "plot_model(nb, plot = 'error')"
   ]
  },
  {
   "cell_type": "code",
   "execution_count": 13,
   "metadata": {},
   "outputs": [
    {
     "data": {
      "text/html": [],
      "text/plain": [
       "<IPython.core.display.HTML object>"
      ]
     },
     "metadata": {},
     "output_type": "display_data"
    },
    {
     "data": {
      "text/html": [
       "<div>\n",
       "<style scoped>\n",
       "    .dataframe tbody tr th:only-of-type {\n",
       "        vertical-align: middle;\n",
       "    }\n",
       "\n",
       "    .dataframe tbody tr th {\n",
       "        vertical-align: top;\n",
       "    }\n",
       "\n",
       "    .dataframe thead th {\n",
       "        text-align: right;\n",
       "    }\n",
       "</style>\n",
       "<table border=\"1\" class=\"dataframe\">\n",
       "  <thead>\n",
       "    <tr style=\"text-align: right;\">\n",
       "      <th></th>\n",
       "      <th>Parameters</th>\n",
       "    </tr>\n",
       "  </thead>\n",
       "  <tbody>\n",
       "    <tr>\n",
       "      <th>priors</th>\n",
       "      <td>None</td>\n",
       "    </tr>\n",
       "    <tr>\n",
       "      <th>var_smoothing</th>\n",
       "      <td>1e-09</td>\n",
       "    </tr>\n",
       "  </tbody>\n",
       "</table>\n",
       "</div>"
      ],
      "text/plain": [
       "              Parameters\n",
       "priors              None\n",
       "var_smoothing      1e-09"
      ]
     },
     "metadata": {},
     "output_type": "display_data"
    }
   ],
   "source": [
    "plot_model(nb, plot = 'parameter')"
   ]
  },
  {
   "cell_type": "code",
   "execution_count": 14,
   "metadata": {},
   "outputs": [
    {
     "name": "stdout",
     "output_type": "stream",
     "text": [
      "Transformation Pipeline and Model Successfully Saved\n"
     ]
    },
    {
     "data": {
      "text/plain": [
       "(Pipeline(memory=FastMemory(location=/tmp/joblib),\n",
       "          steps=[('numerical_imputer',\n",
       "                  TransformerWrapper(exclude=None,\n",
       "                                     include=['0', '1', '2', '3', '4', '5', '6',\n",
       "                                              '7', '8', '9', '10', '11', '12',\n",
       "                                              '13', '14', '15', '16', '17', '18',\n",
       "                                              '19', '20', '21', '22', '23', '24',\n",
       "                                              '25', '26', '27', '28', '29', ...],\n",
       "                                     transformer=SimpleImputer(add_indicator=False,\n",
       "                                                               copy=True,\n",
       "                                                               fill_value=None,\n",
       "                                                               keep_empty_feat...\n",
       "                                                               missing_values=nan,\n",
       "                                                               strategy='mean',\n",
       "                                                               verbose='deprecated'))),\n",
       "                 ('categorical_imputer',\n",
       "                  TransformerWrapper(exclude=None, include=[],\n",
       "                                     transformer=SimpleImputer(add_indicator=False,\n",
       "                                                               copy=True,\n",
       "                                                               fill_value=None,\n",
       "                                                               keep_empty_features=False,\n",
       "                                                               missing_values=nan,\n",
       "                                                               strategy='most_frequent',\n",
       "                                                               verbose='deprecated'))),\n",
       "                 ('trained_model',\n",
       "                  GaussianNB(priors=None, var_smoothing=1e-09))],\n",
       "          verbose=False),\n",
       " 'models_classif/complex/nb.pkl')"
      ]
     },
     "execution_count": 14,
     "metadata": {},
     "output_type": "execute_result"
    }
   ],
   "source": [
    "save_model(nb, 'models_classif/complex/nb')"
   ]
  },
  {
   "cell_type": "markdown",
   "metadata": {},
   "source": [
    "# Decision Tree Classifier"
   ]
  },
  {
   "cell_type": "code",
   "execution_count": 15,
   "metadata": {
    "tags": []
   },
   "outputs": [
    {
     "data": {
      "text/html": [],
      "text/plain": [
       "<IPython.core.display.HTML object>"
      ]
     },
     "metadata": {},
     "output_type": "display_data"
    },
    {
     "data": {
      "text/html": [
       "<style type=\"text/css\">\n",
       "#T_f2981_row10_col0, #T_f2981_row10_col1, #T_f2981_row10_col2, #T_f2981_row10_col3, #T_f2981_row10_col4, #T_f2981_row10_col5, #T_f2981_row10_col6 {\n",
       "  background: yellow;\n",
       "}\n",
       "</style>\n",
       "<table id=\"T_f2981\">\n",
       "  <thead>\n",
       "    <tr>\n",
       "      <th class=\"blank level0\" >&nbsp;</th>\n",
       "      <th id=\"T_f2981_level0_col0\" class=\"col_heading level0 col0\" >Accuracy</th>\n",
       "      <th id=\"T_f2981_level0_col1\" class=\"col_heading level0 col1\" >AUC</th>\n",
       "      <th id=\"T_f2981_level0_col2\" class=\"col_heading level0 col2\" >Recall</th>\n",
       "      <th id=\"T_f2981_level0_col3\" class=\"col_heading level0 col3\" >Prec.</th>\n",
       "      <th id=\"T_f2981_level0_col4\" class=\"col_heading level0 col4\" >F1</th>\n",
       "      <th id=\"T_f2981_level0_col5\" class=\"col_heading level0 col5\" >Kappa</th>\n",
       "      <th id=\"T_f2981_level0_col6\" class=\"col_heading level0 col6\" >MCC</th>\n",
       "    </tr>\n",
       "    <tr>\n",
       "      <th class=\"index_name level0\" >Fold</th>\n",
       "      <th class=\"blank col0\" >&nbsp;</th>\n",
       "      <th class=\"blank col1\" >&nbsp;</th>\n",
       "      <th class=\"blank col2\" >&nbsp;</th>\n",
       "      <th class=\"blank col3\" >&nbsp;</th>\n",
       "      <th class=\"blank col4\" >&nbsp;</th>\n",
       "      <th class=\"blank col5\" >&nbsp;</th>\n",
       "      <th class=\"blank col6\" >&nbsp;</th>\n",
       "    </tr>\n",
       "  </thead>\n",
       "  <tbody>\n",
       "    <tr>\n",
       "      <th id=\"T_f2981_level0_row0\" class=\"row_heading level0 row0\" >0</th>\n",
       "      <td id=\"T_f2981_row0_col0\" class=\"data row0 col0\" >0.8137</td>\n",
       "      <td id=\"T_f2981_row0_col1\" class=\"data row0 col1\" >0.8137</td>\n",
       "      <td id=\"T_f2981_row0_col2\" class=\"data row0 col2\" >0.8140</td>\n",
       "      <td id=\"T_f2981_row0_col3\" class=\"data row0 col3\" >0.8134</td>\n",
       "      <td id=\"T_f2981_row0_col4\" class=\"data row0 col4\" >0.8137</td>\n",
       "      <td id=\"T_f2981_row0_col5\" class=\"data row0 col5\" >0.6273</td>\n",
       "      <td id=\"T_f2981_row0_col6\" class=\"data row0 col6\" >0.6273</td>\n",
       "    </tr>\n",
       "    <tr>\n",
       "      <th id=\"T_f2981_level0_row1\" class=\"row_heading level0 row1\" >1</th>\n",
       "      <td id=\"T_f2981_row1_col0\" class=\"data row1 col0\" >0.8155</td>\n",
       "      <td id=\"T_f2981_row1_col1\" class=\"data row1 col1\" >0.8156</td>\n",
       "      <td id=\"T_f2981_row1_col2\" class=\"data row1 col2\" >0.8153</td>\n",
       "      <td id=\"T_f2981_row1_col3\" class=\"data row1 col3\" >0.8156</td>\n",
       "      <td id=\"T_f2981_row1_col4\" class=\"data row1 col4\" >0.8155</td>\n",
       "      <td id=\"T_f2981_row1_col5\" class=\"data row1 col5\" >0.6310</td>\n",
       "      <td id=\"T_f2981_row1_col6\" class=\"data row1 col6\" >0.6310</td>\n",
       "    </tr>\n",
       "    <tr>\n",
       "      <th id=\"T_f2981_level0_row2\" class=\"row_heading level0 row2\" >2</th>\n",
       "      <td id=\"T_f2981_row2_col0\" class=\"data row2 col0\" >0.8172</td>\n",
       "      <td id=\"T_f2981_row2_col1\" class=\"data row2 col1\" >0.8173</td>\n",
       "      <td id=\"T_f2981_row2_col2\" class=\"data row2 col2\" >0.8158</td>\n",
       "      <td id=\"T_f2981_row2_col3\" class=\"data row2 col3\" >0.8181</td>\n",
       "      <td id=\"T_f2981_row2_col4\" class=\"data row2 col4\" >0.8169</td>\n",
       "      <td id=\"T_f2981_row2_col5\" class=\"data row2 col5\" >0.6344</td>\n",
       "      <td id=\"T_f2981_row2_col6\" class=\"data row2 col6\" >0.6344</td>\n",
       "    </tr>\n",
       "    <tr>\n",
       "      <th id=\"T_f2981_level0_row3\" class=\"row_heading level0 row3\" >3</th>\n",
       "      <td id=\"T_f2981_row3_col0\" class=\"data row3 col0\" >0.8158</td>\n",
       "      <td id=\"T_f2981_row3_col1\" class=\"data row3 col1\" >0.8158</td>\n",
       "      <td id=\"T_f2981_row3_col2\" class=\"data row3 col2\" >0.8164</td>\n",
       "      <td id=\"T_f2981_row3_col3\" class=\"data row3 col3\" >0.8154</td>\n",
       "      <td id=\"T_f2981_row3_col4\" class=\"data row3 col4\" >0.8159</td>\n",
       "      <td id=\"T_f2981_row3_col5\" class=\"data row3 col5\" >0.6315</td>\n",
       "      <td id=\"T_f2981_row3_col6\" class=\"data row3 col6\" >0.6315</td>\n",
       "    </tr>\n",
       "    <tr>\n",
       "      <th id=\"T_f2981_level0_row4\" class=\"row_heading level0 row4\" >4</th>\n",
       "      <td id=\"T_f2981_row4_col0\" class=\"data row4 col0\" >0.8157</td>\n",
       "      <td id=\"T_f2981_row4_col1\" class=\"data row4 col1\" >0.8158</td>\n",
       "      <td id=\"T_f2981_row4_col2\" class=\"data row4 col2\" >0.8120</td>\n",
       "      <td id=\"T_f2981_row4_col3\" class=\"data row4 col3\" >0.8181</td>\n",
       "      <td id=\"T_f2981_row4_col4\" class=\"data row4 col4\" >0.8150</td>\n",
       "      <td id=\"T_f2981_row4_col5\" class=\"data row4 col5\" >0.6315</td>\n",
       "      <td id=\"T_f2981_row4_col6\" class=\"data row4 col6\" >0.6315</td>\n",
       "    </tr>\n",
       "    <tr>\n",
       "      <th id=\"T_f2981_level0_row5\" class=\"row_heading level0 row5\" >5</th>\n",
       "      <td id=\"T_f2981_row5_col0\" class=\"data row5 col0\" >0.8167</td>\n",
       "      <td id=\"T_f2981_row5_col1\" class=\"data row5 col1\" >0.8168</td>\n",
       "      <td id=\"T_f2981_row5_col2\" class=\"data row5 col2\" >0.8186</td>\n",
       "      <td id=\"T_f2981_row5_col3\" class=\"data row5 col3\" >0.8156</td>\n",
       "      <td id=\"T_f2981_row5_col4\" class=\"data row5 col4\" >0.8171</td>\n",
       "      <td id=\"T_f2981_row5_col5\" class=\"data row5 col5\" >0.6335</td>\n",
       "      <td id=\"T_f2981_row5_col6\" class=\"data row5 col6\" >0.6335</td>\n",
       "    </tr>\n",
       "    <tr>\n",
       "      <th id=\"T_f2981_level0_row6\" class=\"row_heading level0 row6\" >6</th>\n",
       "      <td id=\"T_f2981_row6_col0\" class=\"data row6 col0\" >0.8146</td>\n",
       "      <td id=\"T_f2981_row6_col1\" class=\"data row6 col1\" >0.8146</td>\n",
       "      <td id=\"T_f2981_row6_col2\" class=\"data row6 col2\" >0.8115</td>\n",
       "      <td id=\"T_f2981_row6_col3\" class=\"data row6 col3\" >0.8165</td>\n",
       "      <td id=\"T_f2981_row6_col4\" class=\"data row6 col4\" >0.8140</td>\n",
       "      <td id=\"T_f2981_row6_col5\" class=\"data row6 col5\" >0.6292</td>\n",
       "      <td id=\"T_f2981_row6_col6\" class=\"data row6 col6\" >0.6292</td>\n",
       "    </tr>\n",
       "    <tr>\n",
       "      <th id=\"T_f2981_level0_row7\" class=\"row_heading level0 row7\" >7</th>\n",
       "      <td id=\"T_f2981_row7_col0\" class=\"data row7 col0\" >0.8155</td>\n",
       "      <td id=\"T_f2981_row7_col1\" class=\"data row7 col1\" >0.8156</td>\n",
       "      <td id=\"T_f2981_row7_col2\" class=\"data row7 col2\" >0.8116</td>\n",
       "      <td id=\"T_f2981_row7_col3\" class=\"data row7 col3\" >0.8180</td>\n",
       "      <td id=\"T_f2981_row7_col4\" class=\"data row7 col4\" >0.8148</td>\n",
       "      <td id=\"T_f2981_row7_col5\" class=\"data row7 col5\" >0.6310</td>\n",
       "      <td id=\"T_f2981_row7_col6\" class=\"data row7 col6\" >0.6311</td>\n",
       "    </tr>\n",
       "    <tr>\n",
       "      <th id=\"T_f2981_level0_row8\" class=\"row_heading level0 row8\" >8</th>\n",
       "      <td id=\"T_f2981_row8_col0\" class=\"data row8 col0\" >0.8154</td>\n",
       "      <td id=\"T_f2981_row8_col1\" class=\"data row8 col1\" >0.8156</td>\n",
       "      <td id=\"T_f2981_row8_col2\" class=\"data row8 col2\" >0.8150</td>\n",
       "      <td id=\"T_f2981_row8_col3\" class=\"data row8 col3\" >0.8157</td>\n",
       "      <td id=\"T_f2981_row8_col4\" class=\"data row8 col4\" >0.8153</td>\n",
       "      <td id=\"T_f2981_row8_col5\" class=\"data row8 col5\" >0.6309</td>\n",
       "      <td id=\"T_f2981_row8_col6\" class=\"data row8 col6\" >0.6309</td>\n",
       "    </tr>\n",
       "    <tr>\n",
       "      <th id=\"T_f2981_level0_row9\" class=\"row_heading level0 row9\" >9</th>\n",
       "      <td id=\"T_f2981_row9_col0\" class=\"data row9 col0\" >0.8152</td>\n",
       "      <td id=\"T_f2981_row9_col1\" class=\"data row9 col1\" >0.8153</td>\n",
       "      <td id=\"T_f2981_row9_col2\" class=\"data row9 col2\" >0.8118</td>\n",
       "      <td id=\"T_f2981_row9_col3\" class=\"data row9 col3\" >0.8174</td>\n",
       "      <td id=\"T_f2981_row9_col4\" class=\"data row9 col4\" >0.8146</td>\n",
       "      <td id=\"T_f2981_row9_col5\" class=\"data row9 col5\" >0.6304</td>\n",
       "      <td id=\"T_f2981_row9_col6\" class=\"data row9 col6\" >0.6304</td>\n",
       "    </tr>\n",
       "    <tr>\n",
       "      <th id=\"T_f2981_level0_row10\" class=\"row_heading level0 row10\" >Mean</th>\n",
       "      <td id=\"T_f2981_row10_col0\" class=\"data row10 col0\" >0.8155</td>\n",
       "      <td id=\"T_f2981_row10_col1\" class=\"data row10 col1\" >0.8156</td>\n",
       "      <td id=\"T_f2981_row10_col2\" class=\"data row10 col2\" >0.8142</td>\n",
       "      <td id=\"T_f2981_row10_col3\" class=\"data row10 col3\" >0.8164</td>\n",
       "      <td id=\"T_f2981_row10_col4\" class=\"data row10 col4\" >0.8153</td>\n",
       "      <td id=\"T_f2981_row10_col5\" class=\"data row10 col5\" >0.6311</td>\n",
       "      <td id=\"T_f2981_row10_col6\" class=\"data row10 col6\" >0.6311</td>\n",
       "    </tr>\n",
       "    <tr>\n",
       "      <th id=\"T_f2981_level0_row11\" class=\"row_heading level0 row11\" >Std</th>\n",
       "      <td id=\"T_f2981_row11_col0\" class=\"data row11 col0\" >0.0009</td>\n",
       "      <td id=\"T_f2981_row11_col1\" class=\"data row11 col1\" >0.0010</td>\n",
       "      <td id=\"T_f2981_row11_col2\" class=\"data row11 col2\" >0.0023</td>\n",
       "      <td id=\"T_f2981_row11_col3\" class=\"data row11 col3\" >0.0014</td>\n",
       "      <td id=\"T_f2981_row11_col4\" class=\"data row11 col4\" >0.0011</td>\n",
       "      <td id=\"T_f2981_row11_col5\" class=\"data row11 col5\" >0.0019</td>\n",
       "      <td id=\"T_f2981_row11_col6\" class=\"data row11 col6\" >0.0019</td>\n",
       "    </tr>\n",
       "  </tbody>\n",
       "</table>\n"
      ],
      "text/plain": [
       "<pandas.io.formats.style.Styler at 0x7fb64aa41cc0>"
      ]
     },
     "metadata": {},
     "output_type": "display_data"
    },
    {
     "data": {
      "text/html": [],
      "text/plain": [
       "<IPython.core.display.HTML object>"
      ]
     },
     "metadata": {},
     "output_type": "display_data"
    }
   ],
   "source": [
    "dt = create_model('dt')"
   ]
  },
  {
   "cell_type": "code",
   "execution_count": 16,
   "metadata": {},
   "outputs": [
    {
     "data": {
      "text/html": [],
      "text/plain": [
       "<IPython.core.display.HTML object>"
      ]
     },
     "metadata": {},
     "output_type": "display_data"
    },
    {
     "data": {
      "image/png": "[encoded data removed]",
      "text/plain": [
       "<Figure size 800x550 with 1 Axes>"
      ]
     },
     "metadata": {},
     "output_type": "display_data"
    }
   ],
   "source": [
    "plot_model(dt, plot = 'confusion_matrix')"
   ]
  },
  {
   "cell_type": "code",
   "execution_count": 17,
   "metadata": {},
   "outputs": [
    {
     "data": {
      "text/html": [],
      "text/plain": [
       "<IPython.core.display.HTML object>"
      ]
     },
     "metadata": {},
     "output_type": "display_data"
    },
    {
     "data": {
      "image/png": "[encoded data removed]",
      "text/plain": [
       "<Figure size 800x550 with 1 Axes>"
      ]
     },
     "metadata": {},
     "output_type": "display_data"
    }
   ],
   "source": [
    "plot_model(dt, plot = 'error')"
   ]
  },
  {
   "cell_type": "code",
   "execution_count": 18,
   "metadata": {},
   "outputs": [
    {
     "data": {
      "text/html": [],
      "text/plain": [
       "<IPython.core.display.HTML object>"
      ]
     },
     "metadata": {},
     "output_type": "display_data"
    },
    {
     "data": {
      "text/html": [
       "<div>\n",
       "<style scoped>\n",
       "    .dataframe tbody tr th:only-of-type {\n",
       "        vertical-align: middle;\n",
       "    }\n",
       "\n",
       "    .dataframe tbody tr th {\n",
       "        vertical-align: top;\n",
       "    }\n",
       "\n",
       "    .dataframe thead th {\n",
       "        text-align: right;\n",
       "    }\n",
       "</style>\n",
       "<table border=\"1\" class=\"dataframe\">\n",
       "  <thead>\n",
       "    <tr style=\"text-align: right;\">\n",
       "      <th></th>\n",
       "      <th>Parameters</th>\n",
       "    </tr>\n",
       "  </thead>\n",
       "  <tbody>\n",
       "    <tr>\n",
       "      <th>ccp_alpha</th>\n",
       "      <td>0.0</td>\n",
       "    </tr>\n",
       "    <tr>\n",
       "      <th>class_weight</th>\n",
       "      <td>None</td>\n",
       "    </tr>\n",
       "    <tr>\n",
       "      <th>criterion</th>\n",
       "      <td>gini</td>\n",
       "    </tr>\n",
       "    <tr>\n",
       "      <th>max_depth</th>\n",
       "      <td>None</td>\n",
       "    </tr>\n",
       "    <tr>\n",
       "      <th>max_features</th>\n",
       "      <td>None</td>\n",
       "    </tr>\n",
       "    <tr>\n",
       "      <th>max_leaf_nodes</th>\n",
       "      <td>None</td>\n",
       "    </tr>\n",
       "    <tr>\n",
       "      <th>min_impurity_decrease</th>\n",
       "      <td>0.0</td>\n",
       "    </tr>\n",
       "    <tr>\n",
       "      <th>min_samples_leaf</th>\n",
       "      <td>1</td>\n",
       "    </tr>\n",
       "    <tr>\n",
       "      <th>min_samples_split</th>\n",
       "      <td>2</td>\n",
       "    </tr>\n",
       "    <tr>\n",
       "      <th>min_weight_fraction_leaf</th>\n",
       "      <td>0.0</td>\n",
       "    </tr>\n",
       "    <tr>\n",
       "      <th>random_state</th>\n",
       "      <td>5518</td>\n",
       "    </tr>\n",
       "    <tr>\n",
       "      <th>splitter</th>\n",
       "      <td>best</td>\n",
       "    </tr>\n",
       "  </tbody>\n",
       "</table>\n",
       "</div>"
      ],
      "text/plain": [
       "                         Parameters\n",
       "ccp_alpha                       0.0\n",
       "class_weight                   None\n",
       "criterion                      gini\n",
       "max_depth                      None\n",
       "max_features                   None\n",
       "max_leaf_nodes                 None\n",
       "min_impurity_decrease           0.0\n",
       "min_samples_leaf                  1\n",
       "min_samples_split                 2\n",
       "min_weight_fraction_leaf        0.0\n",
       "random_state                   5518\n",
       "splitter                       best"
      ]
     },
     "metadata": {},
     "output_type": "display_data"
    }
   ],
   "source": [
    "plot_model(dt, plot = 'parameter')"
   ]
  },
  {
   "cell_type": "code",
   "execution_count": 19,
   "metadata": {},
   "outputs": [
    {
     "name": "stdout",
     "output_type": "stream",
     "text": [
      "Transformation Pipeline and Model Successfully Saved\n"
     ]
    },
    {
     "data": {
      "text/plain": [
       "(Pipeline(memory=FastMemory(location=/tmp/joblib),\n",
       "          steps=[('numerical_imputer',\n",
       "                  TransformerWrapper(exclude=None,\n",
       "                                     include=['0', '1', '2', '3', '4', '5', '6',\n",
       "                                              '7', '8', '9', '10', '11', '12',\n",
       "                                              '13', '14', '15', '16', '17', '18',\n",
       "                                              '19', '20', '21', '22', '23', '24',\n",
       "                                              '25', '26', '27', '28', '29', ...],\n",
       "                                     transformer=SimpleImputer(add_indicator=False,\n",
       "                                                               copy=True,\n",
       "                                                               fill_value=None,\n",
       "                                                               keep_empty_feat...\n",
       "                                                               missing_values=nan,\n",
       "                                                               strategy='most_frequent',\n",
       "                                                               verbose='deprecated'))),\n",
       "                 ('trained_model',\n",
       "                  DecisionTreeClassifier(ccp_alpha=0.0, class_weight=None,\n",
       "                                         criterion='gini', max_depth=None,\n",
       "                                         max_features=None, max_leaf_nodes=None,\n",
       "                                         min_impurity_decrease=0.0,\n",
       "                                         min_samples_leaf=1, min_samples_split=2,\n",
       "                                         min_weight_fraction_leaf=0.0,\n",
       "                                         random_state=5518, splitter='best'))],\n",
       "          verbose=False),\n",
       " 'models_classif/complex/dt.pkl')"
      ]
     },
     "execution_count": 19,
     "metadata": {},
     "output_type": "execute_result"
    }
   ],
   "source": [
    "save_model(dt, 'models_classif/complex/dt')"
   ]
  },
  {
   "cell_type": "markdown",
   "metadata": {},
   "source": [
    "# SVM - Linear Kernel"
   ]
  },
  {
   "cell_type": "code",
   "execution_count": 20,
   "metadata": {},
   "outputs": [
    {
     "data": {
      "text/html": [],
      "text/plain": [
       "<IPython.core.display.HTML object>"
      ]
     },
     "metadata": {},
     "output_type": "display_data"
    },
    {
     "data": {
      "text/html": [
       "<style type=\"text/css\">\n",
       "#T_fe358_row10_col0, #T_fe358_row10_col1, #T_fe358_row10_col2, #T_fe358_row10_col3, #T_fe358_row10_col4, #T_fe358_row10_col5, #T_fe358_row10_col6 {\n",
       "  background: yellow;\n",
       "}\n",
       "</style>\n",
       "<table id=\"T_fe358\">\n",
       "  <thead>\n",
       "    <tr>\n",
       "      <th class=\"blank level0\" >&nbsp;</th>\n",
       "      <th id=\"T_fe358_level0_col0\" class=\"col_heading level0 col0\" >Accuracy</th>\n",
       "      <th id=\"T_fe358_level0_col1\" class=\"col_heading level0 col1\" >AUC</th>\n",
       "      <th id=\"T_fe358_level0_col2\" class=\"col_heading level0 col2\" >Recall</th>\n",
       "      <th id=\"T_fe358_level0_col3\" class=\"col_heading level0 col3\" >Prec.</th>\n",
       "      <th id=\"T_fe358_level0_col4\" class=\"col_heading level0 col4\" >F1</th>\n",
       "      <th id=\"T_fe358_level0_col5\" class=\"col_heading level0 col5\" >Kappa</th>\n",
       "      <th id=\"T_fe358_level0_col6\" class=\"col_heading level0 col6\" >MCC</th>\n",
       "    </tr>\n",
       "    <tr>\n",
       "      <th class=\"index_name level0\" >Fold</th>\n",
       "      <th class=\"blank col0\" >&nbsp;</th>\n",
       "      <th class=\"blank col1\" >&nbsp;</th>\n",
       "      <th class=\"blank col2\" >&nbsp;</th>\n",
       "      <th class=\"blank col3\" >&nbsp;</th>\n",
       "      <th class=\"blank col4\" >&nbsp;</th>\n",
       "      <th class=\"blank col5\" >&nbsp;</th>\n",
       "      <th class=\"blank col6\" >&nbsp;</th>\n",
       "    </tr>\n",
       "  </thead>\n",
       "  <tbody>\n",
       "    <tr>\n",
       "      <th id=\"T_fe358_level0_row0\" class=\"row_heading level0 row0\" >0</th>\n",
       "      <td id=\"T_fe358_row0_col0\" class=\"data row0 col0\" >0.8333</td>\n",
       "      <td id=\"T_fe358_row0_col1\" class=\"data row0 col1\" >0.0000</td>\n",
       "      <td id=\"T_fe358_row0_col2\" class=\"data row0 col2\" >0.9956</td>\n",
       "      <td id=\"T_fe358_row0_col3\" class=\"data row0 col3\" >0.7517</td>\n",
       "      <td id=\"T_fe358_row0_col4\" class=\"data row0 col4\" >0.8566</td>\n",
       "      <td id=\"T_fe358_row0_col5\" class=\"data row0 col5\" >0.6667</td>\n",
       "      <td id=\"T_fe358_row0_col6\" class=\"data row0 col6\" >0.7048</td>\n",
       "    </tr>\n",
       "    <tr>\n",
       "      <th id=\"T_fe358_level0_row1\" class=\"row_heading level0 row1\" >1</th>\n",
       "      <td id=\"T_fe358_row1_col0\" class=\"data row1 col0\" >0.8331</td>\n",
       "      <td id=\"T_fe358_row1_col1\" class=\"data row1 col1\" >0.0000</td>\n",
       "      <td id=\"T_fe358_row1_col2\" class=\"data row1 col2\" >0.9973</td>\n",
       "      <td id=\"T_fe358_row1_col3\" class=\"data row1 col3\" >0.7508</td>\n",
       "      <td id=\"T_fe358_row1_col4\" class=\"data row1 col4\" >0.8566</td>\n",
       "      <td id=\"T_fe358_row1_col5\" class=\"data row1 col5\" >0.6662</td>\n",
       "      <td id=\"T_fe358_row1_col6\" class=\"data row1 col6\" >0.7053</td>\n",
       "    </tr>\n",
       "    <tr>\n",
       "      <th id=\"T_fe358_level0_row2\" class=\"row_heading level0 row2\" >2</th>\n",
       "      <td id=\"T_fe358_row2_col0\" class=\"data row2 col0\" >0.8338</td>\n",
       "      <td id=\"T_fe358_row2_col1\" class=\"data row2 col1\" >0.0000</td>\n",
       "      <td id=\"T_fe358_row2_col2\" class=\"data row2 col2\" >0.9964</td>\n",
       "      <td id=\"T_fe358_row2_col3\" class=\"data row2 col3\" >0.7519</td>\n",
       "      <td id=\"T_fe358_row2_col4\" class=\"data row2 col4\" >0.8570</td>\n",
       "      <td id=\"T_fe358_row2_col5\" class=\"data row2 col5\" >0.6675</td>\n",
       "      <td id=\"T_fe358_row2_col6\" class=\"data row2 col6\" >0.7059</td>\n",
       "    </tr>\n",
       "    <tr>\n",
       "      <th id=\"T_fe358_level0_row3\" class=\"row_heading level0 row3\" >3</th>\n",
       "      <td id=\"T_fe358_row3_col0\" class=\"data row3 col0\" >0.8329</td>\n",
       "      <td id=\"T_fe358_row3_col1\" class=\"data row3 col1\" >0.0000</td>\n",
       "      <td id=\"T_fe358_row3_col2\" class=\"data row3 col2\" >0.9976</td>\n",
       "      <td id=\"T_fe358_row3_col3\" class=\"data row3 col3\" >0.7504</td>\n",
       "      <td id=\"T_fe358_row3_col4\" class=\"data row3 col4\" >0.8565</td>\n",
       "      <td id=\"T_fe358_row3_col5\" class=\"data row3 col5\" >0.6658</td>\n",
       "      <td id=\"T_fe358_row3_col6\" class=\"data row3 col6\" >0.7052</td>\n",
       "    </tr>\n",
       "    <tr>\n",
       "      <th id=\"T_fe358_level0_row4\" class=\"row_heading level0 row4\" >4</th>\n",
       "      <td id=\"T_fe358_row4_col0\" class=\"data row4 col0\" >0.8324</td>\n",
       "      <td id=\"T_fe358_row4_col1\" class=\"data row4 col1\" >0.0000</td>\n",
       "      <td id=\"T_fe358_row4_col2\" class=\"data row4 col2\" >0.9971</td>\n",
       "      <td id=\"T_fe358_row4_col3\" class=\"data row4 col3\" >0.7500</td>\n",
       "      <td id=\"T_fe358_row4_col4\" class=\"data row4 col4\" >0.8561</td>\n",
       "      <td id=\"T_fe358_row4_col5\" class=\"data row4 col5\" >0.6647</td>\n",
       "      <td id=\"T_fe358_row4_col6\" class=\"data row4 col6\" >0.7040</td>\n",
       "    </tr>\n",
       "    <tr>\n",
       "      <th id=\"T_fe358_level0_row5\" class=\"row_heading level0 row5\" >5</th>\n",
       "      <td id=\"T_fe358_row5_col0\" class=\"data row5 col0\" >0.8356</td>\n",
       "      <td id=\"T_fe358_row5_col1\" class=\"data row5 col1\" >0.0000</td>\n",
       "      <td id=\"T_fe358_row5_col2\" class=\"data row5 col2\" >0.9968</td>\n",
       "      <td id=\"T_fe358_row5_col3\" class=\"data row5 col3\" >0.7538</td>\n",
       "      <td id=\"T_fe358_row5_col4\" class=\"data row5 col4\" >0.8584</td>\n",
       "      <td id=\"T_fe358_row5_col5\" class=\"data row5 col5\" >0.6712</td>\n",
       "      <td id=\"T_fe358_row5_col6\" class=\"data row5 col6\" >0.7091</td>\n",
       "    </tr>\n",
       "    <tr>\n",
       "      <th id=\"T_fe358_level0_row6\" class=\"row_heading level0 row6\" >6</th>\n",
       "      <td id=\"T_fe358_row6_col0\" class=\"data row6 col0\" >0.8325</td>\n",
       "      <td id=\"T_fe358_row6_col1\" class=\"data row6 col1\" >0.0000</td>\n",
       "      <td id=\"T_fe358_row6_col2\" class=\"data row6 col2\" >0.9970</td>\n",
       "      <td id=\"T_fe358_row6_col3\" class=\"data row6 col3\" >0.7502</td>\n",
       "      <td id=\"T_fe358_row6_col4\" class=\"data row6 col4\" >0.8562</td>\n",
       "      <td id=\"T_fe358_row6_col5\" class=\"data row6 col5\" >0.6651</td>\n",
       "      <td id=\"T_fe358_row6_col6\" class=\"data row6 col6\" >0.7043</td>\n",
       "    </tr>\n",
       "    <tr>\n",
       "      <th id=\"T_fe358_level0_row7\" class=\"row_heading level0 row7\" >7</th>\n",
       "      <td id=\"T_fe358_row7_col0\" class=\"data row7 col0\" >0.8342</td>\n",
       "      <td id=\"T_fe358_row7_col1\" class=\"data row7 col1\" >0.0000</td>\n",
       "      <td id=\"T_fe358_row7_col2\" class=\"data row7 col2\" >0.9964</td>\n",
       "      <td id=\"T_fe358_row7_col3\" class=\"data row7 col3\" >0.7523</td>\n",
       "      <td id=\"T_fe358_row7_col4\" class=\"data row7 col4\" >0.8574</td>\n",
       "      <td id=\"T_fe358_row7_col5\" class=\"data row7 col5\" >0.6684</td>\n",
       "      <td id=\"T_fe358_row7_col6\" class=\"data row7 col6\" >0.7066</td>\n",
       "    </tr>\n",
       "    <tr>\n",
       "      <th id=\"T_fe358_level0_row8\" class=\"row_heading level0 row8\" >8</th>\n",
       "      <td id=\"T_fe358_row8_col0\" class=\"data row8 col0\" >0.8346</td>\n",
       "      <td id=\"T_fe358_row8_col1\" class=\"data row8 col1\" >0.0000</td>\n",
       "      <td id=\"T_fe358_row8_col2\" class=\"data row8 col2\" >0.9971</td>\n",
       "      <td id=\"T_fe358_row8_col3\" class=\"data row8 col3\" >0.7525</td>\n",
       "      <td id=\"T_fe358_row8_col4\" class=\"data row8 col4\" >0.8577</td>\n",
       "      <td id=\"T_fe358_row8_col5\" class=\"data row8 col5\" >0.6691</td>\n",
       "      <td id=\"T_fe358_row8_col6\" class=\"data row8 col6\" >0.7076</td>\n",
       "    </tr>\n",
       "    <tr>\n",
       "      <th id=\"T_fe358_level0_row9\" class=\"row_heading level0 row9\" >9</th>\n",
       "      <td id=\"T_fe358_row9_col0\" class=\"data row9 col0\" >0.8337</td>\n",
       "      <td id=\"T_fe358_row9_col1\" class=\"data row9 col1\" >0.0000</td>\n",
       "      <td id=\"T_fe358_row9_col2\" class=\"data row9 col2\" >0.9968</td>\n",
       "      <td id=\"T_fe358_row9_col3\" class=\"data row9 col3\" >0.7517</td>\n",
       "      <td id=\"T_fe358_row9_col4\" class=\"data row9 col4\" >0.8570</td>\n",
       "      <td id=\"T_fe358_row9_col5\" class=\"data row9 col5\" >0.6675</td>\n",
       "      <td id=\"T_fe358_row9_col6\" class=\"data row9 col6\" >0.7061</td>\n",
       "    </tr>\n",
       "    <tr>\n",
       "      <th id=\"T_fe358_level0_row10\" class=\"row_heading level0 row10\" >Mean</th>\n",
       "      <td id=\"T_fe358_row10_col0\" class=\"data row10 col0\" >0.8336</td>\n",
       "      <td id=\"T_fe358_row10_col1\" class=\"data row10 col1\" >0.0000</td>\n",
       "      <td id=\"T_fe358_row10_col2\" class=\"data row10 col2\" >0.9968</td>\n",
       "      <td id=\"T_fe358_row10_col3\" class=\"data row10 col3\" >0.7515</td>\n",
       "      <td id=\"T_fe358_row10_col4\" class=\"data row10 col4\" >0.8570</td>\n",
       "      <td id=\"T_fe358_row10_col5\" class=\"data row10 col5\" >0.6672</td>\n",
       "      <td id=\"T_fe358_row10_col6\" class=\"data row10 col6\" >0.7059</td>\n",
       "    </tr>\n",
       "    <tr>\n",
       "      <th id=\"T_fe358_level0_row11\" class=\"row_heading level0 row11\" >Std</th>\n",
       "      <td id=\"T_fe358_row11_col0\" class=\"data row11 col0\" >0.0009</td>\n",
       "      <td id=\"T_fe358_row11_col1\" class=\"data row11 col1\" >0.0000</td>\n",
       "      <td id=\"T_fe358_row11_col2\" class=\"data row11 col2\" >0.0005</td>\n",
       "      <td id=\"T_fe358_row11_col3\" class=\"data row11 col3\" >0.0011</td>\n",
       "      <td id=\"T_fe358_row11_col4\" class=\"data row11 col4\" >0.0007</td>\n",
       "      <td id=\"T_fe358_row11_col5\" class=\"data row11 col5\" >0.0019</td>\n",
       "      <td id=\"T_fe358_row11_col6\" class=\"data row11 col6\" >0.0015</td>\n",
       "    </tr>\n",
       "  </tbody>\n",
       "</table>\n"
      ],
      "text/plain": [
       "<pandas.io.formats.style.Styler at 0x7fb64aa42fb0>"
      ]
     },
     "metadata": {},
     "output_type": "display_data"
    },
    {
     "data": {
      "text/html": [],
      "text/plain": [
       "<IPython.core.display.HTML object>"
      ]
     },
     "metadata": {},
     "output_type": "display_data"
    }
   ],
   "source": [
    "svm = create_model('svm')"
   ]
  },
  {
   "cell_type": "code",
   "execution_count": 21,
   "metadata": {},
   "outputs": [
    {
     "data": {
      "text/html": [],
      "text/plain": [
       "<IPython.core.display.HTML object>"
      ]
     },
     "metadata": {},
     "output_type": "display_data"
    },
    {
     "data": {
      "image/png": "[encoded data removed]",
      "text/plain": [
       "<Figure size 800x550 with 1 Axes>"
      ]
     },
     "metadata": {},
     "output_type": "display_data"
    }
   ],
   "source": [
    "plot_model(svm, plot = 'confusion_matrix')"
   ]
  },
  {
   "cell_type": "code",
   "execution_count": 22,
   "metadata": {},
   "outputs": [
    {
     "data": {
      "text/html": [],
      "text/plain": [
       "<IPython.core.display.HTML object>"
      ]
     },
     "metadata": {},
     "output_type": "display_data"
    },
    {
     "data": {
      "image/png": "[encoded data removed]",
      "text/plain": [
       "<Figure size 800x550 with 1 Axes>"
      ]
     },
     "metadata": {},
     "output_type": "display_data"
    }
   ],
   "source": [
    "plot_model(svm, plot = 'error')"
   ]
  },
  {
   "cell_type": "code",
   "execution_count": 23,
   "metadata": {},
   "outputs": [
    {
     "data": {
      "text/html": [],
      "text/plain": [
       "<IPython.core.display.HTML object>"
      ]
     },
     "metadata": {},
     "output_type": "display_data"
    },
    {
     "data": {
      "text/html": [
       "<div>\n",
       "<style scoped>\n",
       "    .dataframe tbody tr th:only-of-type {\n",
       "        vertical-align: middle;\n",
       "    }\n",
       "\n",
       "    .dataframe tbody tr th {\n",
       "        vertical-align: top;\n",
       "    }\n",
       "\n",
       "    .dataframe thead th {\n",
       "        text-align: right;\n",
       "    }\n",
       "</style>\n",
       "<table border=\"1\" class=\"dataframe\">\n",
       "  <thead>\n",
       "    <tr style=\"text-align: right;\">\n",
       "      <th></th>\n",
       "      <th>Parameters</th>\n",
       "    </tr>\n",
       "  </thead>\n",
       "  <tbody>\n",
       "    <tr>\n",
       "      <th>alpha</th>\n",
       "      <td>0.0001</td>\n",
       "    </tr>\n",
       "    <tr>\n",
       "      <th>average</th>\n",
       "      <td>False</td>\n",
       "    </tr>\n",
       "    <tr>\n",
       "      <th>class_weight</th>\n",
       "      <td>None</td>\n",
       "    </tr>\n",
       "    <tr>\n",
       "      <th>early_stopping</th>\n",
       "      <td>False</td>\n",
       "    </tr>\n",
       "    <tr>\n",
       "      <th>epsilon</th>\n",
       "      <td>0.1</td>\n",
       "    </tr>\n",
       "    <tr>\n",
       "      <th>eta0</th>\n",
       "      <td>0.001</td>\n",
       "    </tr>\n",
       "    <tr>\n",
       "      <th>fit_intercept</th>\n",
       "      <td>True</td>\n",
       "    </tr>\n",
       "    <tr>\n",
       "      <th>l1_ratio</th>\n",
       "      <td>0.15</td>\n",
       "    </tr>\n",
       "    <tr>\n",
       "      <th>learning_rate</th>\n",
       "      <td>optimal</td>\n",
       "    </tr>\n",
       "    <tr>\n",
       "      <th>loss</th>\n",
       "      <td>hinge</td>\n",
       "    </tr>\n",
       "    <tr>\n",
       "      <th>max_iter</th>\n",
       "      <td>1000</td>\n",
       "    </tr>\n",
       "    <tr>\n",
       "      <th>n_iter_no_change</th>\n",
       "      <td>5</td>\n",
       "    </tr>\n",
       "    <tr>\n",
       "      <th>n_jobs</th>\n",
       "      <td>-1</td>\n",
       "    </tr>\n",
       "    <tr>\n",
       "      <th>penalty</th>\n",
       "      <td>l2</td>\n",
       "    </tr>\n",
       "    <tr>\n",
       "      <th>power_t</th>\n",
       "      <td>0.5</td>\n",
       "    </tr>\n",
       "    <tr>\n",
       "      <th>random_state</th>\n",
       "      <td>5518</td>\n",
       "    </tr>\n",
       "    <tr>\n",
       "      <th>shuffle</th>\n",
       "      <td>True</td>\n",
       "    </tr>\n",
       "    <tr>\n",
       "      <th>tol</th>\n",
       "      <td>0.001</td>\n",
       "    </tr>\n",
       "    <tr>\n",
       "      <th>validation_fraction</th>\n",
       "      <td>0.1</td>\n",
       "    </tr>\n",
       "    <tr>\n",
       "      <th>verbose</th>\n",
       "      <td>0</td>\n",
       "    </tr>\n",
       "    <tr>\n",
       "      <th>warm_start</th>\n",
       "      <td>False</td>\n",
       "    </tr>\n",
       "  </tbody>\n",
       "</table>\n",
       "</div>"
      ],
      "text/plain": [
       "                    Parameters\n",
       "alpha                   0.0001\n",
       "average                  False\n",
       "class_weight              None\n",
       "early_stopping           False\n",
       "epsilon                    0.1\n",
       "eta0                     0.001\n",
       "fit_intercept             True\n",
       "l1_ratio                  0.15\n",
       "learning_rate          optimal\n",
       "loss                     hinge\n",
       "max_iter                  1000\n",
       "n_iter_no_change             5\n",
       "n_jobs                      -1\n",
       "penalty                     l2\n",
       "power_t                    0.5\n",
       "random_state              5518\n",
       "shuffle                   True\n",
       "tol                      0.001\n",
       "validation_fraction        0.1\n",
       "verbose                      0\n",
       "warm_start               False"
      ]
     },
     "metadata": {},
     "output_type": "display_data"
    }
   ],
   "source": [
    "plot_model(svm, plot = 'parameter')"
   ]
  },
  {
   "cell_type": "code",
   "execution_count": 24,
   "metadata": {},
   "outputs": [
    {
     "name": "stdout",
     "output_type": "stream",
     "text": [
      "Transformation Pipeline and Model Successfully Saved\n"
     ]
    },
    {
     "data": {
      "text/plain": [
       "(Pipeline(memory=FastMemory(location=/tmp/joblib),\n",
       "          steps=[('numerical_imputer',\n",
       "                  TransformerWrapper(exclude=None,\n",
       "                                     include=['0', '1', '2', '3', '4', '5', '6',\n",
       "                                              '7', '8', '9', '10', '11', '12',\n",
       "                                              '13', '14', '15', '16', '17', '18',\n",
       "                                              '19', '20', '21', '22', '23', '24',\n",
       "                                              '25', '26', '27', '28', '29', ...],\n",
       "                                     transformer=SimpleImputer(add_indicator=False,\n",
       "                                                               copy=True,\n",
       "                                                               fill_value=None,\n",
       "                                                               keep_empty_feat...\n",
       "                  SGDClassifier(alpha=0.0001, average=False, class_weight=None,\n",
       "                                early_stopping=False, epsilon=0.1, eta0=0.001,\n",
       "                                fit_intercept=True, l1_ratio=0.15,\n",
       "                                learning_rate='optimal', loss='hinge',\n",
       "                                max_iter=1000, n_iter_no_change=5, n_jobs=-1,\n",
       "                                penalty='l2', power_t=0.5, random_state=5518,\n",
       "                                shuffle=True, tol=0.001, validation_fraction=0.1,\n",
       "                                verbose=0, warm_start=False))],\n",
       "          verbose=False),\n",
       " 'models_classif/complex/svm.pkl')"
      ]
     },
     "execution_count": 24,
     "metadata": {},
     "output_type": "execute_result"
    }
   ],
   "source": [
    "save_model(svm, 'models_classif/complex/svm')"
   ]
  },
  {
   "cell_type": "markdown",
   "metadata": {},
   "source": [
    "# Ridge Classifier"
   ]
  },
  {
   "cell_type": "code",
   "execution_count": 25,
   "metadata": {},
   "outputs": [
    {
     "data": {
      "text/html": [],
      "text/plain": [
       "<IPython.core.display.HTML object>"
      ]
     },
     "metadata": {},
     "output_type": "display_data"
    },
    {
     "data": {
      "text/html": [
       "<style type=\"text/css\">\n",
       "#T_f9d7d_row10_col0, #T_f9d7d_row10_col1, #T_f9d7d_row10_col2, #T_f9d7d_row10_col3, #T_f9d7d_row10_col4, #T_f9d7d_row10_col5, #T_f9d7d_row10_col6 {\n",
       "  background: yellow;\n",
       "}\n",
       "</style>\n",
       "<table id=\"T_f9d7d\">\n",
       "  <thead>\n",
       "    <tr>\n",
       "      <th class=\"blank level0\" >&nbsp;</th>\n",
       "      <th id=\"T_f9d7d_level0_col0\" class=\"col_heading level0 col0\" >Accuracy</th>\n",
       "      <th id=\"T_f9d7d_level0_col1\" class=\"col_heading level0 col1\" >AUC</th>\n",
       "      <th id=\"T_f9d7d_level0_col2\" class=\"col_heading level0 col2\" >Recall</th>\n",
       "      <th id=\"T_f9d7d_level0_col3\" class=\"col_heading level0 col3\" >Prec.</th>\n",
       "      <th id=\"T_f9d7d_level0_col4\" class=\"col_heading level0 col4\" >F1</th>\n",
       "      <th id=\"T_f9d7d_level0_col5\" class=\"col_heading level0 col5\" >Kappa</th>\n",
       "      <th id=\"T_f9d7d_level0_col6\" class=\"col_heading level0 col6\" >MCC</th>\n",
       "    </tr>\n",
       "    <tr>\n",
       "      <th class=\"index_name level0\" >Fold</th>\n",
       "      <th class=\"blank col0\" >&nbsp;</th>\n",
       "      <th class=\"blank col1\" >&nbsp;</th>\n",
       "      <th class=\"blank col2\" >&nbsp;</th>\n",
       "      <th class=\"blank col3\" >&nbsp;</th>\n",
       "      <th class=\"blank col4\" >&nbsp;</th>\n",
       "      <th class=\"blank col5\" >&nbsp;</th>\n",
       "      <th class=\"blank col6\" >&nbsp;</th>\n",
       "    </tr>\n",
       "  </thead>\n",
       "  <tbody>\n",
       "    <tr>\n",
       "      <th id=\"T_f9d7d_level0_row0\" class=\"row_heading level0 row0\" >0</th>\n",
       "      <td id=\"T_f9d7d_row0_col0\" class=\"data row0 col0\" >0.8346</td>\n",
       "      <td id=\"T_f9d7d_row0_col1\" class=\"data row0 col1\" >0.0000</td>\n",
       "      <td id=\"T_f9d7d_row0_col2\" class=\"data row0 col2\" >0.9818</td>\n",
       "      <td id=\"T_f9d7d_row0_col3\" class=\"data row0 col3\" >0.7585</td>\n",
       "      <td id=\"T_f9d7d_row0_col4\" class=\"data row0 col4\" >0.8558</td>\n",
       "      <td id=\"T_f9d7d_row0_col5\" class=\"data row0 col5\" >0.6692</td>\n",
       "      <td id=\"T_f9d7d_row0_col6\" class=\"data row0 col6\" >0.7002</td>\n",
       "    </tr>\n",
       "    <tr>\n",
       "      <th id=\"T_f9d7d_level0_row1\" class=\"row_heading level0 row1\" >1</th>\n",
       "      <td id=\"T_f9d7d_row1_col0\" class=\"data row1 col0\" >0.8330</td>\n",
       "      <td id=\"T_f9d7d_row1_col1\" class=\"data row1 col1\" >0.0000</td>\n",
       "      <td id=\"T_f9d7d_row1_col2\" class=\"data row1 col2\" >0.9807</td>\n",
       "      <td id=\"T_f9d7d_row1_col3\" class=\"data row1 col3\" >0.7571</td>\n",
       "      <td id=\"T_f9d7d_row1_col4\" class=\"data row1 col4\" >0.8545</td>\n",
       "      <td id=\"T_f9d7d_row1_col5\" class=\"data row1 col5\" >0.6660</td>\n",
       "      <td id=\"T_f9d7d_row1_col6\" class=\"data row1 col6\" >0.6971</td>\n",
       "    </tr>\n",
       "    <tr>\n",
       "      <th id=\"T_f9d7d_level0_row2\" class=\"row_heading level0 row2\" >2</th>\n",
       "      <td id=\"T_f9d7d_row2_col0\" class=\"data row2 col0\" >0.8350</td>\n",
       "      <td id=\"T_f9d7d_row2_col1\" class=\"data row2 col1\" >0.0000</td>\n",
       "      <td id=\"T_f9d7d_row2_col2\" class=\"data row2 col2\" >0.9825</td>\n",
       "      <td id=\"T_f9d7d_row2_col3\" class=\"data row2 col3\" >0.7587</td>\n",
       "      <td id=\"T_f9d7d_row2_col4\" class=\"data row2 col4\" >0.8562</td>\n",
       "      <td id=\"T_f9d7d_row2_col5\" class=\"data row2 col5\" >0.6699</td>\n",
       "      <td id=\"T_f9d7d_row2_col6\" class=\"data row2 col6\" >0.7011</td>\n",
       "    </tr>\n",
       "    <tr>\n",
       "      <th id=\"T_f9d7d_level0_row3\" class=\"row_heading level0 row3\" >3</th>\n",
       "      <td id=\"T_f9d7d_row3_col0\" class=\"data row3 col0\" >0.8341</td>\n",
       "      <td id=\"T_f9d7d_row3_col1\" class=\"data row3 col1\" >0.0000</td>\n",
       "      <td id=\"T_f9d7d_row3_col2\" class=\"data row3 col2\" >0.9821</td>\n",
       "      <td id=\"T_f9d7d_row3_col3\" class=\"data row3 col3\" >0.7579</td>\n",
       "      <td id=\"T_f9d7d_row3_col4\" class=\"data row3 col4\" >0.8555</td>\n",
       "      <td id=\"T_f9d7d_row3_col5\" class=\"data row3 col5\" >0.6683</td>\n",
       "      <td id=\"T_f9d7d_row3_col6\" class=\"data row3 col6\" >0.6996</td>\n",
       "    </tr>\n",
       "    <tr>\n",
       "      <th id=\"T_f9d7d_level0_row4\" class=\"row_heading level0 row4\" >4</th>\n",
       "      <td id=\"T_f9d7d_row4_col0\" class=\"data row4 col0\" >0.8347</td>\n",
       "      <td id=\"T_f9d7d_row4_col1\" class=\"data row4 col1\" >0.0000</td>\n",
       "      <td id=\"T_f9d7d_row4_col2\" class=\"data row4 col2\" >0.9823</td>\n",
       "      <td id=\"T_f9d7d_row4_col3\" class=\"data row4 col3\" >0.7585</td>\n",
       "      <td id=\"T_f9d7d_row4_col4\" class=\"data row4 col4\" >0.8560</td>\n",
       "      <td id=\"T_f9d7d_row4_col5\" class=\"data row4 col5\" >0.6695</td>\n",
       "      <td id=\"T_f9d7d_row4_col6\" class=\"data row4 col6\" >0.7007</td>\n",
       "    </tr>\n",
       "    <tr>\n",
       "      <th id=\"T_f9d7d_level0_row5\" class=\"row_heading level0 row5\" >5</th>\n",
       "      <td id=\"T_f9d7d_row5_col0\" class=\"data row5 col0\" >0.8358</td>\n",
       "      <td id=\"T_f9d7d_row5_col1\" class=\"data row5 col1\" >0.0000</td>\n",
       "      <td id=\"T_f9d7d_row5_col2\" class=\"data row5 col2\" >0.9812</td>\n",
       "      <td id=\"T_f9d7d_row5_col3\" class=\"data row5 col3\" >0.7601</td>\n",
       "      <td id=\"T_f9d7d_row5_col4\" class=\"data row5 col4\" >0.8566</td>\n",
       "      <td id=\"T_f9d7d_row5_col5\" class=\"data row5 col5\" >0.6716</td>\n",
       "      <td id=\"T_f9d7d_row5_col6\" class=\"data row5 col6\" >0.7019</td>\n",
       "    </tr>\n",
       "    <tr>\n",
       "      <th id=\"T_f9d7d_level0_row6\" class=\"row_heading level0 row6\" >6</th>\n",
       "      <td id=\"T_f9d7d_row6_col0\" class=\"data row6 col0\" >0.8314</td>\n",
       "      <td id=\"T_f9d7d_row6_col1\" class=\"data row6 col1\" >0.0000</td>\n",
       "      <td id=\"T_f9d7d_row6_col2\" class=\"data row6 col2\" >0.9793</td>\n",
       "      <td id=\"T_f9d7d_row6_col3\" class=\"data row6 col3\" >0.7558</td>\n",
       "      <td id=\"T_f9d7d_row6_col4\" class=\"data row6 col4\" >0.8531</td>\n",
       "      <td id=\"T_f9d7d_row6_col5\" class=\"data row6 col5\" >0.6628</td>\n",
       "      <td id=\"T_f9d7d_row6_col6\" class=\"data row6 col6\" >0.6939</td>\n",
       "    </tr>\n",
       "    <tr>\n",
       "      <th id=\"T_f9d7d_level0_row7\" class=\"row_heading level0 row7\" >7</th>\n",
       "      <td id=\"T_f9d7d_row7_col0\" class=\"data row7 col0\" >0.8353</td>\n",
       "      <td id=\"T_f9d7d_row7_col1\" class=\"data row7 col1\" >0.0000</td>\n",
       "      <td id=\"T_f9d7d_row7_col2\" class=\"data row7 col2\" >0.9806</td>\n",
       "      <td id=\"T_f9d7d_row7_col3\" class=\"data row7 col3\" >0.7598</td>\n",
       "      <td id=\"T_f9d7d_row7_col4\" class=\"data row7 col4\" >0.8562</td>\n",
       "      <td id=\"T_f9d7d_row7_col5\" class=\"data row7 col5\" >0.6707</td>\n",
       "      <td id=\"T_f9d7d_row7_col6\" class=\"data row7 col6\" >0.7009</td>\n",
       "    </tr>\n",
       "    <tr>\n",
       "      <th id=\"T_f9d7d_level0_row8\" class=\"row_heading level0 row8\" >8</th>\n",
       "      <td id=\"T_f9d7d_row8_col0\" class=\"data row8 col0\" >0.8357</td>\n",
       "      <td id=\"T_f9d7d_row8_col1\" class=\"data row8 col1\" >0.0000</td>\n",
       "      <td id=\"T_f9d7d_row8_col2\" class=\"data row8 col2\" >0.9816</td>\n",
       "      <td id=\"T_f9d7d_row8_col3\" class=\"data row8 col3\" >0.7598</td>\n",
       "      <td id=\"T_f9d7d_row8_col4\" class=\"data row8 col4\" >0.8566</td>\n",
       "      <td id=\"T_f9d7d_row8_col5\" class=\"data row8 col5\" >0.6714</td>\n",
       "      <td id=\"T_f9d7d_row8_col6\" class=\"data row8 col6\" >0.7019</td>\n",
       "    </tr>\n",
       "    <tr>\n",
       "      <th id=\"T_f9d7d_level0_row9\" class=\"row_heading level0 row9\" >9</th>\n",
       "      <td id=\"T_f9d7d_row9_col0\" class=\"data row9 col0\" >0.8342</td>\n",
       "      <td id=\"T_f9d7d_row9_col1\" class=\"data row9 col1\" >0.0000</td>\n",
       "      <td id=\"T_f9d7d_row9_col2\" class=\"data row9 col2\" >0.9821</td>\n",
       "      <td id=\"T_f9d7d_row9_col3\" class=\"data row9 col3\" >0.7580</td>\n",
       "      <td id=\"T_f9d7d_row9_col4\" class=\"data row9 col4\" >0.8556</td>\n",
       "      <td id=\"T_f9d7d_row9_col5\" class=\"data row9 col5\" >0.6685</td>\n",
       "      <td id=\"T_f9d7d_row9_col6\" class=\"data row9 col6\" >0.6998</td>\n",
       "    </tr>\n",
       "    <tr>\n",
       "      <th id=\"T_f9d7d_level0_row10\" class=\"row_heading level0 row10\" >Mean</th>\n",
       "      <td id=\"T_f9d7d_row10_col0\" class=\"data row10 col0\" >0.8344</td>\n",
       "      <td id=\"T_f9d7d_row10_col1\" class=\"data row10 col1\" >0.0000</td>\n",
       "      <td id=\"T_f9d7d_row10_col2\" class=\"data row10 col2\" >0.9814</td>\n",
       "      <td id=\"T_f9d7d_row10_col3\" class=\"data row10 col3\" >0.7584</td>\n",
       "      <td id=\"T_f9d7d_row10_col4\" class=\"data row10 col4\" >0.8556</td>\n",
       "      <td id=\"T_f9d7d_row10_col5\" class=\"data row10 col5\" >0.6688</td>\n",
       "      <td id=\"T_f9d7d_row10_col6\" class=\"data row10 col6\" >0.6997</td>\n",
       "    </tr>\n",
       "    <tr>\n",
       "      <th id=\"T_f9d7d_level0_row11\" class=\"row_heading level0 row11\" >Std</th>\n",
       "      <td id=\"T_f9d7d_row11_col0\" class=\"data row11 col0\" >0.0013</td>\n",
       "      <td id=\"T_f9d7d_row11_col1\" class=\"data row11 col1\" >0.0000</td>\n",
       "      <td id=\"T_f9d7d_row11_col2\" class=\"data row11 col2\" >0.0009</td>\n",
       "      <td id=\"T_f9d7d_row11_col3\" class=\"data row11 col3\" >0.0013</td>\n",
       "      <td id=\"T_f9d7d_row11_col4\" class=\"data row11 col4\" >0.0010</td>\n",
       "      <td id=\"T_f9d7d_row11_col5\" class=\"data row11 col5\" >0.0025</td>\n",
       "      <td id=\"T_f9d7d_row11_col6\" class=\"data row11 col6\" >0.0024</td>\n",
       "    </tr>\n",
       "  </tbody>\n",
       "</table>\n"
      ],
      "text/plain": [
       "<pandas.io.formats.style.Styler at 0x7fb64aa81690>"
      ]
     },
     "metadata": {},
     "output_type": "display_data"
    },
    {
     "data": {
      "text/html": [],
      "text/plain": [
       "<IPython.core.display.HTML object>"
      ]
     },
     "metadata": {},
     "output_type": "display_data"
    }
   ],
   "source": [
    "ridge = create_model('ridge')"
   ]
  },
  {
   "cell_type": "code",
   "execution_count": 26,
   "metadata": {},
   "outputs": [
    {
     "data": {
      "text/html": [],
      "text/plain": [
       "<IPython.core.display.HTML object>"
      ]
     },
     "metadata": {},
     "output_type": "display_data"
    },
    {
     "data": {
      "image/png": "[encoded data removed]",
      "text/plain": [
       "<Figure size 800x550 with 1 Axes>"
      ]
     },
     "metadata": {},
     "output_type": "display_data"
    }
   ],
   "source": [
    "plot_model(ridge, plot = 'confusion_matrix')"
   ]
  },
  {
   "cell_type": "code",
   "execution_count": 27,
   "metadata": {},
   "outputs": [
    {
     "data": {
      "text/html": [],
      "text/plain": [
       "<IPython.core.display.HTML object>"
      ]
     },
     "metadata": {},
     "output_type": "display_data"
    },
    {
     "data": {
      "image/png": "[encoded data removed]",
      "text/plain": [
       "<Figure size 800x550 with 1 Axes>"
      ]
     },
     "metadata": {},
     "output_type": "display_data"
    }
   ],
   "source": [
    "plot_model(ridge, plot = 'error')"
   ]
  },
  {
   "cell_type": "code",
   "execution_count": 28,
   "metadata": {},
   "outputs": [
    {
     "data": {
      "text/html": [],
      "text/plain": [
       "<IPython.core.display.HTML object>"
      ]
     },
     "metadata": {},
     "output_type": "display_data"
    },
    {
     "data": {
      "text/html": [
       "<div>\n",
       "<style scoped>\n",
       "    .dataframe tbody tr th:only-of-type {\n",
       "        vertical-align: middle;\n",
       "    }\n",
       "\n",
       "    .dataframe tbody tr th {\n",
       "        vertical-align: top;\n",
       "    }\n",
       "\n",
       "    .dataframe thead th {\n",
       "        text-align: right;\n",
       "    }\n",
       "</style>\n",
       "<table border=\"1\" class=\"dataframe\">\n",
       "  <thead>\n",
       "    <tr style=\"text-align: right;\">\n",
       "      <th></th>\n",
       "      <th>Parameters</th>\n",
       "    </tr>\n",
       "  </thead>\n",
       "  <tbody>\n",
       "    <tr>\n",
       "      <th>alpha</th>\n",
       "      <td>1.0</td>\n",
       "    </tr>\n",
       "    <tr>\n",
       "      <th>class_weight</th>\n",
       "      <td>None</td>\n",
       "    </tr>\n",
       "    <tr>\n",
       "      <th>copy_X</th>\n",
       "      <td>True</td>\n",
       "    </tr>\n",
       "    <tr>\n",
       "      <th>fit_intercept</th>\n",
       "      <td>True</td>\n",
       "    </tr>\n",
       "    <tr>\n",
       "      <th>max_iter</th>\n",
       "      <td>None</td>\n",
       "    </tr>\n",
       "    <tr>\n",
       "      <th>positive</th>\n",
       "      <td>False</td>\n",
       "    </tr>\n",
       "    <tr>\n",
       "      <th>random_state</th>\n",
       "      <td>5518</td>\n",
       "    </tr>\n",
       "    <tr>\n",
       "      <th>solver</th>\n",
       "      <td>auto</td>\n",
       "    </tr>\n",
       "    <tr>\n",
       "      <th>tol</th>\n",
       "      <td>0.0001</td>\n",
       "    </tr>\n",
       "  </tbody>\n",
       "</table>\n",
       "</div>"
      ],
      "text/plain": [
       "              Parameters\n",
       "alpha                1.0\n",
       "class_weight        None\n",
       "copy_X              True\n",
       "fit_intercept       True\n",
       "max_iter            None\n",
       "positive           False\n",
       "random_state        5518\n",
       "solver              auto\n",
       "tol               0.0001"
      ]
     },
     "metadata": {},
     "output_type": "display_data"
    }
   ],
   "source": [
    "plot_model(ridge, plot = 'parameter')"
   ]
  },
  {
   "cell_type": "code",
   "execution_count": 29,
   "metadata": {},
   "outputs": [
    {
     "name": "stdout",
     "output_type": "stream",
     "text": [
      "Transformation Pipeline and Model Successfully Saved\n"
     ]
    },
    {
     "data": {
      "text/plain": [
       "(Pipeline(memory=FastMemory(location=/tmp/joblib),\n",
       "          steps=[('numerical_imputer',\n",
       "                  TransformerWrapper(exclude=None,\n",
       "                                     include=['0', '1', '2', '3', '4', '5', '6',\n",
       "                                              '7', '8', '9', '10', '11', '12',\n",
       "                                              '13', '14', '15', '16', '17', '18',\n",
       "                                              '19', '20', '21', '22', '23', '24',\n",
       "                                              '25', '26', '27', '28', '29', ...],\n",
       "                                     transformer=SimpleImputer(add_indicator=False,\n",
       "                                                               copy=True,\n",
       "                                                               fill_value=None,\n",
       "                                                               keep_empty_feat...\n",
       "                  TransformerWrapper(exclude=None, include=[],\n",
       "                                     transformer=SimpleImputer(add_indicator=False,\n",
       "                                                               copy=True,\n",
       "                                                               fill_value=None,\n",
       "                                                               keep_empty_features=False,\n",
       "                                                               missing_values=nan,\n",
       "                                                               strategy='most_frequent',\n",
       "                                                               verbose='deprecated'))),\n",
       "                 ('trained_model',\n",
       "                  RidgeClassifier(alpha=1.0, class_weight=None, copy_X=True,\n",
       "                                  fit_intercept=True, max_iter=None,\n",
       "                                  positive=False, random_state=5518,\n",
       "                                  solver='auto', tol=0.0001))],\n",
       "          verbose=False),\n",
       " 'models_classif/complex/ridge.pkl')"
      ]
     },
     "execution_count": 29,
     "metadata": {},
     "output_type": "execute_result"
    }
   ],
   "source": [
    "save_model(ridge, 'models_classif/complex/ridge')"
   ]
  },
  {
   "cell_type": "markdown",
   "metadata": {},
   "source": [
    "# Random Forest"
   ]
  },
  {
   "cell_type": "code",
   "execution_count": 30,
   "metadata": {},
   "outputs": [
    {
     "data": {
      "text/html": [],
      "text/plain": [
       "<IPython.core.display.HTML object>"
      ]
     },
     "metadata": {},
     "output_type": "display_data"
    },
    {
     "data": {
      "text/html": [
       "<style type=\"text/css\">\n",
       "#T_c2144_row10_col0, #T_c2144_row10_col1, #T_c2144_row10_col2, #T_c2144_row10_col3, #T_c2144_row10_col4, #T_c2144_row10_col5, #T_c2144_row10_col6 {\n",
       "  background: yellow;\n",
       "}\n",
       "</style>\n",
       "<table id=\"T_c2144\">\n",
       "  <thead>\n",
       "    <tr>\n",
       "      <th class=\"blank level0\" >&nbsp;</th>\n",
       "      <th id=\"T_c2144_level0_col0\" class=\"col_heading level0 col0\" >Accuracy</th>\n",
       "      <th id=\"T_c2144_level0_col1\" class=\"col_heading level0 col1\" >AUC</th>\n",
       "      <th id=\"T_c2144_level0_col2\" class=\"col_heading level0 col2\" >Recall</th>\n",
       "      <th id=\"T_c2144_level0_col3\" class=\"col_heading level0 col3\" >Prec.</th>\n",
       "      <th id=\"T_c2144_level0_col4\" class=\"col_heading level0 col4\" >F1</th>\n",
       "      <th id=\"T_c2144_level0_col5\" class=\"col_heading level0 col5\" >Kappa</th>\n",
       "      <th id=\"T_c2144_level0_col6\" class=\"col_heading level0 col6\" >MCC</th>\n",
       "    </tr>\n",
       "    <tr>\n",
       "      <th class=\"index_name level0\" >Fold</th>\n",
       "      <th class=\"blank col0\" >&nbsp;</th>\n",
       "      <th class=\"blank col1\" >&nbsp;</th>\n",
       "      <th class=\"blank col2\" >&nbsp;</th>\n",
       "      <th class=\"blank col3\" >&nbsp;</th>\n",
       "      <th class=\"blank col4\" >&nbsp;</th>\n",
       "      <th class=\"blank col5\" >&nbsp;</th>\n",
       "      <th class=\"blank col6\" >&nbsp;</th>\n",
       "    </tr>\n",
       "  </thead>\n",
       "  <tbody>\n",
       "    <tr>\n",
       "      <th id=\"T_c2144_level0_row0\" class=\"row_heading level0 row0\" >0</th>\n",
       "      <td id=\"T_c2144_row0_col0\" class=\"data row0 col0\" >0.8636</td>\n",
       "      <td id=\"T_c2144_row0_col1\" class=\"data row0 col1\" >0.9411</td>\n",
       "      <td id=\"T_c2144_row0_col2\" class=\"data row0 col2\" >0.9653</td>\n",
       "      <td id=\"T_c2144_row0_col3\" class=\"data row0 col3\" >0.8022</td>\n",
       "      <td id=\"T_c2144_row0_col4\" class=\"data row0 col4\" >0.8762</td>\n",
       "      <td id=\"T_c2144_row0_col5\" class=\"data row0 col5\" >0.7273</td>\n",
       "      <td id=\"T_c2144_row0_col6\" class=\"data row0 col6\" >0.7428</td>\n",
       "    </tr>\n",
       "    <tr>\n",
       "      <th id=\"T_c2144_level0_row1\" class=\"row_heading level0 row1\" >1</th>\n",
       "      <td id=\"T_c2144_row1_col0\" class=\"data row1 col0\" >0.8617</td>\n",
       "      <td id=\"T_c2144_row1_col1\" class=\"data row1 col1\" >0.9415</td>\n",
       "      <td id=\"T_c2144_row1_col2\" class=\"data row1 col2\" >0.9639</td>\n",
       "      <td id=\"T_c2144_row1_col3\" class=\"data row1 col3\" >0.8003</td>\n",
       "      <td id=\"T_c2144_row1_col4\" class=\"data row1 col4\" >0.8745</td>\n",
       "      <td id=\"T_c2144_row1_col5\" class=\"data row1 col5\" >0.7234</td>\n",
       "      <td id=\"T_c2144_row1_col6\" class=\"data row1 col6\" >0.7390</td>\n",
       "    </tr>\n",
       "    <tr>\n",
       "      <th id=\"T_c2144_level0_row2\" class=\"row_heading level0 row2\" >2</th>\n",
       "      <td id=\"T_c2144_row2_col0\" class=\"data row2 col0\" >0.8635</td>\n",
       "      <td id=\"T_c2144_row2_col1\" class=\"data row2 col1\" >0.9424</td>\n",
       "      <td id=\"T_c2144_row2_col2\" class=\"data row2 col2\" >0.9627</td>\n",
       "      <td id=\"T_c2144_row2_col3\" class=\"data row2 col3\" >0.8033</td>\n",
       "      <td id=\"T_c2144_row2_col4\" class=\"data row2 col4\" >0.8758</td>\n",
       "      <td id=\"T_c2144_row2_col5\" class=\"data row2 col5\" >0.7269</td>\n",
       "      <td id=\"T_c2144_row2_col6\" class=\"data row2 col6\" >0.7417</td>\n",
       "    </tr>\n",
       "    <tr>\n",
       "      <th id=\"T_c2144_level0_row3\" class=\"row_heading level0 row3\" >3</th>\n",
       "      <td id=\"T_c2144_row3_col0\" class=\"data row3 col0\" >0.8609</td>\n",
       "      <td id=\"T_c2144_row3_col1\" class=\"data row3 col1\" >0.9410</td>\n",
       "      <td id=\"T_c2144_row3_col2\" class=\"data row3 col2\" >0.9609</td>\n",
       "      <td id=\"T_c2144_row3_col3\" class=\"data row3 col3\" >0.8008</td>\n",
       "      <td id=\"T_c2144_row3_col4\" class=\"data row3 col4\" >0.8736</td>\n",
       "      <td id=\"T_c2144_row3_col5\" class=\"data row3 col5\" >0.7218</td>\n",
       "      <td id=\"T_c2144_row3_col6\" class=\"data row3 col6\" >0.7367</td>\n",
       "    </tr>\n",
       "    <tr>\n",
       "      <th id=\"T_c2144_level0_row4\" class=\"row_heading level0 row4\" >4</th>\n",
       "      <td id=\"T_c2144_row4_col0\" class=\"data row4 col0\" >0.8635</td>\n",
       "      <td id=\"T_c2144_row4_col1\" class=\"data row4 col1\" >0.9439</td>\n",
       "      <td id=\"T_c2144_row4_col2\" class=\"data row4 col2\" >0.9633</td>\n",
       "      <td id=\"T_c2144_row4_col3\" class=\"data row4 col3\" >0.8031</td>\n",
       "      <td id=\"T_c2144_row4_col4\" class=\"data row4 col4\" >0.8759</td>\n",
       "      <td id=\"T_c2144_row4_col5\" class=\"data row4 col5\" >0.7271</td>\n",
       "      <td id=\"T_c2144_row4_col6\" class=\"data row4 col6\" >0.7420</td>\n",
       "    </tr>\n",
       "    <tr>\n",
       "      <th id=\"T_c2144_level0_row5\" class=\"row_heading level0 row5\" >5</th>\n",
       "      <td id=\"T_c2144_row5_col0\" class=\"data row5 col0\" >0.8634</td>\n",
       "      <td id=\"T_c2144_row5_col1\" class=\"data row5 col1\" >0.9427</td>\n",
       "      <td id=\"T_c2144_row5_col2\" class=\"data row5 col2\" >0.9643</td>\n",
       "      <td id=\"T_c2144_row5_col3\" class=\"data row5 col3\" >0.8024</td>\n",
       "      <td id=\"T_c2144_row5_col4\" class=\"data row5 col4\" >0.8759</td>\n",
       "      <td id=\"T_c2144_row5_col5\" class=\"data row5 col5\" >0.7268</td>\n",
       "      <td id=\"T_c2144_row5_col6\" class=\"data row5 col6\" >0.7421</td>\n",
       "    </tr>\n",
       "    <tr>\n",
       "      <th id=\"T_c2144_level0_row6\" class=\"row_heading level0 row6\" >6</th>\n",
       "      <td id=\"T_c2144_row6_col0\" class=\"data row6 col0\" >0.8614</td>\n",
       "      <td id=\"T_c2144_row6_col1\" class=\"data row6 col1\" >0.9413</td>\n",
       "      <td id=\"T_c2144_row6_col2\" class=\"data row6 col2\" >0.9614</td>\n",
       "      <td id=\"T_c2144_row6_col3\" class=\"data row6 col3\" >0.8011</td>\n",
       "      <td id=\"T_c2144_row6_col4\" class=\"data row6 col4\" >0.8740</td>\n",
       "      <td id=\"T_c2144_row6_col5\" class=\"data row6 col5\" >0.7228</td>\n",
       "      <td id=\"T_c2144_row6_col6\" class=\"data row6 col6\" >0.7377</td>\n",
       "    </tr>\n",
       "    <tr>\n",
       "      <th id=\"T_c2144_level0_row7\" class=\"row_heading level0 row7\" >7</th>\n",
       "      <td id=\"T_c2144_row7_col0\" class=\"data row7 col0\" >0.8622</td>\n",
       "      <td id=\"T_c2144_row7_col1\" class=\"data row7 col1\" >0.9415</td>\n",
       "      <td id=\"T_c2144_row7_col2\" class=\"data row7 col2\" >0.9607</td>\n",
       "      <td id=\"T_c2144_row7_col3\" class=\"data row7 col3\" >0.8026</td>\n",
       "      <td id=\"T_c2144_row7_col4\" class=\"data row7 col4\" >0.8746</td>\n",
       "      <td id=\"T_c2144_row7_col5\" class=\"data row7 col5\" >0.7244</td>\n",
       "      <td id=\"T_c2144_row7_col6\" class=\"data row7 col6\" >0.7389</td>\n",
       "    </tr>\n",
       "    <tr>\n",
       "      <th id=\"T_c2144_level0_row8\" class=\"row_heading level0 row8\" >8</th>\n",
       "      <td id=\"T_c2144_row8_col0\" class=\"data row8 col0\" >0.8610</td>\n",
       "      <td id=\"T_c2144_row8_col1\" class=\"data row8 col1\" >0.9411</td>\n",
       "      <td id=\"T_c2144_row8_col2\" class=\"data row8 col2\" >0.9632</td>\n",
       "      <td id=\"T_c2144_row8_col3\" class=\"data row8 col3\" >0.7998</td>\n",
       "      <td id=\"T_c2144_row8_col4\" class=\"data row8 col4\" >0.8739</td>\n",
       "      <td id=\"T_c2144_row8_col5\" class=\"data row8 col5\" >0.7221</td>\n",
       "      <td id=\"T_c2144_row8_col6\" class=\"data row8 col6\" >0.7376</td>\n",
       "    </tr>\n",
       "    <tr>\n",
       "      <th id=\"T_c2144_level0_row9\" class=\"row_heading level0 row9\" >9</th>\n",
       "      <td id=\"T_c2144_row9_col0\" class=\"data row9 col0\" >0.8616</td>\n",
       "      <td id=\"T_c2144_row9_col1\" class=\"data row9 col1\" >0.9413</td>\n",
       "      <td id=\"T_c2144_row9_col2\" class=\"data row9 col2\" >0.9590</td>\n",
       "      <td id=\"T_c2144_row9_col3\" class=\"data row9 col3\" >0.8027</td>\n",
       "      <td id=\"T_c2144_row9_col4\" class=\"data row9 col4\" >0.8739</td>\n",
       "      <td id=\"T_c2144_row9_col5\" class=\"data row9 col5\" >0.7232</td>\n",
       "      <td id=\"T_c2144_row9_col6\" class=\"data row9 col6\" >0.7374</td>\n",
       "    </tr>\n",
       "    <tr>\n",
       "      <th id=\"T_c2144_level0_row10\" class=\"row_heading level0 row10\" >Mean</th>\n",
       "      <td id=\"T_c2144_row10_col0\" class=\"data row10 col0\" >0.8623</td>\n",
       "      <td id=\"T_c2144_row10_col1\" class=\"data row10 col1\" >0.9418</td>\n",
       "      <td id=\"T_c2144_row10_col2\" class=\"data row10 col2\" >0.9625</td>\n",
       "      <td id=\"T_c2144_row10_col3\" class=\"data row10 col3\" >0.8018</td>\n",
       "      <td id=\"T_c2144_row10_col4\" class=\"data row10 col4\" >0.8748</td>\n",
       "      <td id=\"T_c2144_row10_col5\" class=\"data row10 col5\" >0.7246</td>\n",
       "      <td id=\"T_c2144_row10_col6\" class=\"data row10 col6\" >0.7396</td>\n",
       "    </tr>\n",
       "    <tr>\n",
       "      <th id=\"T_c2144_level0_row11\" class=\"row_heading level0 row11\" >Std</th>\n",
       "      <td id=\"T_c2144_row11_col0\" class=\"data row11 col0\" >0.0011</td>\n",
       "      <td id=\"T_c2144_row11_col1\" class=\"data row11 col1\" >0.0009</td>\n",
       "      <td id=\"T_c2144_row11_col2\" class=\"data row11 col2\" >0.0018</td>\n",
       "      <td id=\"T_c2144_row11_col3\" class=\"data row11 col3\" >0.0012</td>\n",
       "      <td id=\"T_c2144_row11_col4\" class=\"data row11 col4\" >0.0010</td>\n",
       "      <td id=\"T_c2144_row11_col5\" class=\"data row11 col5\" >0.0021</td>\n",
       "      <td id=\"T_c2144_row11_col6\" class=\"data row11 col6\" >0.0022</td>\n",
       "    </tr>\n",
       "  </tbody>\n",
       "</table>\n"
      ],
      "text/plain": [
       "<pandas.io.formats.style.Styler at 0x7fb64aada6e0>"
      ]
     },
     "metadata": {},
     "output_type": "display_data"
    },
    {
     "data": {
      "text/html": [],
      "text/plain": [
       "<IPython.core.display.HTML object>"
      ]
     },
     "metadata": {},
     "output_type": "display_data"
    }
   ],
   "source": [
    "rf = create_model('rf')"
   ]
  },
  {
   "cell_type": "code",
   "execution_count": 31,
   "metadata": {},
   "outputs": [
    {
     "data": {
      "text/html": [],
      "text/plain": [
       "<IPython.core.display.HTML object>"
      ]
     },
     "metadata": {},
     "output_type": "display_data"
    },
    {
     "data": {
      "image/png": "[encoded data removed]",
      "text/plain": [
       "<Figure size 800x550 with 1 Axes>"
      ]
     },
     "metadata": {},
     "output_type": "display_data"
    }
   ],
   "source": [
    "plot_model(rf, plot = 'confusion_matrix')"
   ]
  },
  {
   "cell_type": "code",
   "execution_count": 32,
   "metadata": {},
   "outputs": [
    {
     "data": {
      "text/html": [],
      "text/plain": [
       "<IPython.core.display.HTML object>"
      ]
     },
     "metadata": {},
     "output_type": "display_data"
    },
    {
     "data": {
      "image/png": "[encoded data removed]",
      "text/plain": [
       "<Figure size 800x550 with 1 Axes>"
      ]
     },
     "metadata": {},
     "output_type": "display_data"
    }
   ],
   "source": [
    "plot_model(rf, plot = 'error')"
   ]
  },
  {
   "cell_type": "code",
   "execution_count": 33,
   "metadata": {},
   "outputs": [
    {
     "data": {
      "text/html": [],
      "text/plain": [
       "<IPython.core.display.HTML object>"
      ]
     },
     "metadata": {},
     "output_type": "display_data"
    },
    {
     "data": {
      "text/html": [
       "<div>\n",
       "<style scoped>\n",
       "    .dataframe tbody tr th:only-of-type {\n",
       "        vertical-align: middle;\n",
       "    }\n",
       "\n",
       "    .dataframe tbody tr th {\n",
       "        vertical-align: top;\n",
       "    }\n",
       "\n",
       "    .dataframe thead th {\n",
       "        text-align: right;\n",
       "    }\n",
       "</style>\n",
       "<table border=\"1\" class=\"dataframe\">\n",
       "  <thead>\n",
       "    <tr style=\"text-align: right;\">\n",
       "      <th></th>\n",
       "      <th>Parameters</th>\n",
       "    </tr>\n",
       "  </thead>\n",
       "  <tbody>\n",
       "    <tr>\n",
       "      <th>bootstrap</th>\n",
       "      <td>True</td>\n",
       "    </tr>\n",
       "    <tr>\n",
       "      <th>ccp_alpha</th>\n",
       "      <td>0.0</td>\n",
       "    </tr>\n",
       "    <tr>\n",
       "      <th>class_weight</th>\n",
       "      <td>None</td>\n",
       "    </tr>\n",
       "    <tr>\n",
       "      <th>criterion</th>\n",
       "      <td>gini</td>\n",
       "    </tr>\n",
       "    <tr>\n",
       "      <th>max_depth</th>\n",
       "      <td>None</td>\n",
       "    </tr>\n",
       "    <tr>\n",
       "      <th>max_features</th>\n",
       "      <td>sqrt</td>\n",
       "    </tr>\n",
       "    <tr>\n",
       "      <th>max_leaf_nodes</th>\n",
       "      <td>None</td>\n",
       "    </tr>\n",
       "    <tr>\n",
       "      <th>max_samples</th>\n",
       "      <td>None</td>\n",
       "    </tr>\n",
       "    <tr>\n",
       "      <th>min_impurity_decrease</th>\n",
       "      <td>0.0</td>\n",
       "    </tr>\n",
       "    <tr>\n",
       "      <th>min_samples_leaf</th>\n",
       "      <td>1</td>\n",
       "    </tr>\n",
       "    <tr>\n",
       "      <th>min_samples_split</th>\n",
       "      <td>2</td>\n",
       "    </tr>\n",
       "    <tr>\n",
       "      <th>min_weight_fraction_leaf</th>\n",
       "      <td>0.0</td>\n",
       "    </tr>\n",
       "    <tr>\n",
       "      <th>n_estimators</th>\n",
       "      <td>100</td>\n",
       "    </tr>\n",
       "    <tr>\n",
       "      <th>n_jobs</th>\n",
       "      <td>-1</td>\n",
       "    </tr>\n",
       "    <tr>\n",
       "      <th>oob_score</th>\n",
       "      <td>False</td>\n",
       "    </tr>\n",
       "    <tr>\n",
       "      <th>random_state</th>\n",
       "      <td>5518</td>\n",
       "    </tr>\n",
       "    <tr>\n",
       "      <th>verbose</th>\n",
       "      <td>0</td>\n",
       "    </tr>\n",
       "    <tr>\n",
       "      <th>warm_start</th>\n",
       "      <td>False</td>\n",
       "    </tr>\n",
       "  </tbody>\n",
       "</table>\n",
       "</div>"
      ],
      "text/plain": [
       "                         Parameters\n",
       "bootstrap                      True\n",
       "ccp_alpha                       0.0\n",
       "class_weight                   None\n",
       "criterion                      gini\n",
       "max_depth                      None\n",
       "max_features                   sqrt\n",
       "max_leaf_nodes                 None\n",
       "max_samples                    None\n",
       "min_impurity_decrease           0.0\n",
       "min_samples_leaf                  1\n",
       "min_samples_split                 2\n",
       "min_weight_fraction_leaf        0.0\n",
       "n_estimators                    100\n",
       "n_jobs                           -1\n",
       "oob_score                     False\n",
       "random_state                   5518\n",
       "verbose                           0\n",
       "warm_start                    False"
      ]
     },
     "metadata": {},
     "output_type": "display_data"
    }
   ],
   "source": [
    "plot_model(rf, plot = 'parameter')"
   ]
  },
  {
   "cell_type": "code",
   "execution_count": 34,
   "metadata": {},
   "outputs": [
    {
     "name": "stdout",
     "output_type": "stream",
     "text": [
      "Transformation Pipeline and Model Successfully Saved\n"
     ]
    },
    {
     "data": {
      "text/plain": [
       "(Pipeline(memory=FastMemory(location=/tmp/joblib),\n",
       "          steps=[('numerical_imputer',\n",
       "                  TransformerWrapper(exclude=None,\n",
       "                                     include=['0', '1', '2', '3', '4', '5', '6',\n",
       "                                              '7', '8', '9', '10', '11', '12',\n",
       "                                              '13', '14', '15', '16', '17', '18',\n",
       "                                              '19', '20', '21', '22', '23', '24',\n",
       "                                              '25', '26', '27', '28', '29', ...],\n",
       "                                     transformer=SimpleImputer(add_indicator=False,\n",
       "                                                               copy=True,\n",
       "                                                               fill_value=None,\n",
       "                                                               keep_empty_feat...\n",
       "                  RandomForestClassifier(bootstrap=True, ccp_alpha=0.0,\n",
       "                                         class_weight=None, criterion='gini',\n",
       "                                         max_depth=None, max_features='sqrt',\n",
       "                                         max_leaf_nodes=None, max_samples=None,\n",
       "                                         min_impurity_decrease=0.0,\n",
       "                                         min_samples_leaf=1, min_samples_split=2,\n",
       "                                         min_weight_fraction_leaf=0.0,\n",
       "                                         n_estimators=100, n_jobs=-1,\n",
       "                                         oob_score=False, random_state=5518,\n",
       "                                         verbose=0, warm_start=False))],\n",
       "          verbose=False),\n",
       " 'models_classif/complex/rf.pkl')"
      ]
     },
     "execution_count": 34,
     "metadata": {},
     "output_type": "execute_result"
    }
   ],
   "source": [
    "save_model(rf, 'models_classif/complex/rf')"
   ]
  },
  {
   "cell_type": "markdown",
   "metadata": {},
   "source": [
    "# Quadratic Discriminant Analysis"
   ]
  },
  {
   "cell_type": "code",
   "execution_count": 35,
   "metadata": {},
   "outputs": [
    {
     "data": {
      "text/html": [],
      "text/plain": [
       "<IPython.core.display.HTML object>"
      ]
     },
     "metadata": {},
     "output_type": "display_data"
    },
    {
     "data": {
      "text/html": [
       "<style type=\"text/css\">\n",
       "#T_78543_row10_col0, #T_78543_row10_col1, #T_78543_row10_col2, #T_78543_row10_col3, #T_78543_row10_col4, #T_78543_row10_col5, #T_78543_row10_col6 {\n",
       "  background: yellow;\n",
       "}\n",
       "</style>\n",
       "<table id=\"T_78543\">\n",
       "  <thead>\n",
       "    <tr>\n",
       "      <th class=\"blank level0\" >&nbsp;</th>\n",
       "      <th id=\"T_78543_level0_col0\" class=\"col_heading level0 col0\" >Accuracy</th>\n",
       "      <th id=\"T_78543_level0_col1\" class=\"col_heading level0 col1\" >AUC</th>\n",
       "      <th id=\"T_78543_level0_col2\" class=\"col_heading level0 col2\" >Recall</th>\n",
       "      <th id=\"T_78543_level0_col3\" class=\"col_heading level0 col3\" >Prec.</th>\n",
       "      <th id=\"T_78543_level0_col4\" class=\"col_heading level0 col4\" >F1</th>\n",
       "      <th id=\"T_78543_level0_col5\" class=\"col_heading level0 col5\" >Kappa</th>\n",
       "      <th id=\"T_78543_level0_col6\" class=\"col_heading level0 col6\" >MCC</th>\n",
       "    </tr>\n",
       "    <tr>\n",
       "      <th class=\"index_name level0\" >Fold</th>\n",
       "      <th class=\"blank col0\" >&nbsp;</th>\n",
       "      <th class=\"blank col1\" >&nbsp;</th>\n",
       "      <th class=\"blank col2\" >&nbsp;</th>\n",
       "      <th class=\"blank col3\" >&nbsp;</th>\n",
       "      <th class=\"blank col4\" >&nbsp;</th>\n",
       "      <th class=\"blank col5\" >&nbsp;</th>\n",
       "      <th class=\"blank col6\" >&nbsp;</th>\n",
       "    </tr>\n",
       "  </thead>\n",
       "  <tbody>\n",
       "    <tr>\n",
       "      <th id=\"T_78543_level0_row0\" class=\"row_heading level0 row0\" >0</th>\n",
       "      <td id=\"T_78543_row0_col0\" class=\"data row0 col0\" >0.8249</td>\n",
       "      <td id=\"T_78543_row0_col1\" class=\"data row0 col1\" >0.8488</td>\n",
       "      <td id=\"T_78543_row0_col2\" class=\"data row0 col2\" >0.9531</td>\n",
       "      <td id=\"T_78543_row0_col3\" class=\"data row0 col3\" >0.7586</td>\n",
       "      <td id=\"T_78543_row0_col4\" class=\"data row0 col4\" >0.8448</td>\n",
       "      <td id=\"T_78543_row0_col5\" class=\"data row0 col5\" >0.6499</td>\n",
       "      <td id=\"T_78543_row0_col6\" class=\"data row0 col6\" >0.6723</td>\n",
       "    </tr>\n",
       "    <tr>\n",
       "      <th id=\"T_78543_level0_row1\" class=\"row_heading level0 row1\" >1</th>\n",
       "      <td id=\"T_78543_row1_col0\" class=\"data row1 col0\" >0.8255</td>\n",
       "      <td id=\"T_78543_row1_col1\" class=\"data row1 col1\" >0.8487</td>\n",
       "      <td id=\"T_78543_row1_col2\" class=\"data row1 col2\" >0.9523</td>\n",
       "      <td id=\"T_78543_row1_col3\" class=\"data row1 col3\" >0.7597</td>\n",
       "      <td id=\"T_78543_row1_col4\" class=\"data row1 col4\" >0.8452</td>\n",
       "      <td id=\"T_78543_row1_col5\" class=\"data row1 col5\" >0.6511</td>\n",
       "      <td id=\"T_78543_row1_col6\" class=\"data row1 col6\" >0.6731</td>\n",
       "    </tr>\n",
       "    <tr>\n",
       "      <th id=\"T_78543_level0_row2\" class=\"row_heading level0 row2\" >2</th>\n",
       "      <td id=\"T_78543_row2_col0\" class=\"data row2 col0\" >0.8265</td>\n",
       "      <td id=\"T_78543_row2_col1\" class=\"data row2 col1\" >0.8502</td>\n",
       "      <td id=\"T_78543_row2_col2\" class=\"data row2 col2\" >0.9537</td>\n",
       "      <td id=\"T_78543_row2_col3\" class=\"data row2 col3\" >0.7603</td>\n",
       "      <td id=\"T_78543_row2_col4\" class=\"data row2 col4\" >0.8461</td>\n",
       "      <td id=\"T_78543_row2_col5\" class=\"data row2 col5\" >0.6530</td>\n",
       "      <td id=\"T_78543_row2_col6\" class=\"data row2 col6\" >0.6752</td>\n",
       "    </tr>\n",
       "    <tr>\n",
       "      <th id=\"T_78543_level0_row3\" class=\"row_heading level0 row3\" >3</th>\n",
       "      <td id=\"T_78543_row3_col0\" class=\"data row3 col0\" >0.8245</td>\n",
       "      <td id=\"T_78543_row3_col1\" class=\"data row3 col1\" >0.8489</td>\n",
       "      <td id=\"T_78543_row3_col2\" class=\"data row3 col2\" >0.9520</td>\n",
       "      <td id=\"T_78543_row3_col3\" class=\"data row3 col3\" >0.7585</td>\n",
       "      <td id=\"T_78543_row3_col4\" class=\"data row3 col4\" >0.8443</td>\n",
       "      <td id=\"T_78543_row3_col5\" class=\"data row3 col5\" >0.6490</td>\n",
       "      <td id=\"T_78543_row3_col6\" class=\"data row3 col6\" >0.6712</td>\n",
       "    </tr>\n",
       "    <tr>\n",
       "      <th id=\"T_78543_level0_row4\" class=\"row_heading level0 row4\" >4</th>\n",
       "      <td id=\"T_78543_row4_col0\" class=\"data row4 col0\" >0.8252</td>\n",
       "      <td id=\"T_78543_row4_col1\" class=\"data row4 col1\" >0.8491</td>\n",
       "      <td id=\"T_78543_row4_col2\" class=\"data row4 col2\" >0.9526</td>\n",
       "      <td id=\"T_78543_row4_col3\" class=\"data row4 col3\" >0.7591</td>\n",
       "      <td id=\"T_78543_row4_col4\" class=\"data row4 col4\" >0.8449</td>\n",
       "      <td id=\"T_78543_row4_col5\" class=\"data row4 col5\" >0.6503</td>\n",
       "      <td id=\"T_78543_row4_col6\" class=\"data row4 col6\" >0.6725</td>\n",
       "    </tr>\n",
       "    <tr>\n",
       "      <th id=\"T_78543_level0_row5\" class=\"row_heading level0 row5\" >5</th>\n",
       "      <td id=\"T_78543_row5_col0\" class=\"data row5 col0\" >0.8284</td>\n",
       "      <td id=\"T_78543_row5_col1\" class=\"data row5 col1\" >0.8520</td>\n",
       "      <td id=\"T_78543_row5_col2\" class=\"data row5 col2\" >0.9543</td>\n",
       "      <td id=\"T_78543_row5_col3\" class=\"data row5 col3\" >0.7623</td>\n",
       "      <td id=\"T_78543_row5_col4\" class=\"data row5 col4\" >0.8476</td>\n",
       "      <td id=\"T_78543_row5_col5\" class=\"data row5 col5\" >0.6567</td>\n",
       "      <td id=\"T_78543_row5_col6\" class=\"data row5 col6\" >0.6786</td>\n",
       "    </tr>\n",
       "    <tr>\n",
       "      <th id=\"T_78543_level0_row6\" class=\"row_heading level0 row6\" >6</th>\n",
       "      <td id=\"T_78543_row6_col0\" class=\"data row6 col0\" >0.8247</td>\n",
       "      <td id=\"T_78543_row6_col1\" class=\"data row6 col1\" >0.8477</td>\n",
       "      <td id=\"T_78543_row6_col2\" class=\"data row6 col2\" >0.9527</td>\n",
       "      <td id=\"T_78543_row6_col3\" class=\"data row6 col3\" >0.7585</td>\n",
       "      <td id=\"T_78543_row6_col4\" class=\"data row6 col4\" >0.8446</td>\n",
       "      <td id=\"T_78543_row6_col5\" class=\"data row6 col5\" >0.6494</td>\n",
       "      <td id=\"T_78543_row6_col6\" class=\"data row6 col6\" >0.6717</td>\n",
       "    </tr>\n",
       "    <tr>\n",
       "      <th id=\"T_78543_level0_row7\" class=\"row_heading level0 row7\" >7</th>\n",
       "      <td id=\"T_78543_row7_col0\" class=\"data row7 col0\" >0.8255</td>\n",
       "      <td id=\"T_78543_row7_col1\" class=\"data row7 col1\" >0.8485</td>\n",
       "      <td id=\"T_78543_row7_col2\" class=\"data row7 col2\" >0.9525</td>\n",
       "      <td id=\"T_78543_row7_col3\" class=\"data row7 col3\" >0.7596</td>\n",
       "      <td id=\"T_78543_row7_col4\" class=\"data row7 col4\" >0.8451</td>\n",
       "      <td id=\"T_78543_row7_col5\" class=\"data row7 col5\" >0.6510</td>\n",
       "      <td id=\"T_78543_row7_col6\" class=\"data row7 col6\" >0.6730</td>\n",
       "    </tr>\n",
       "    <tr>\n",
       "      <th id=\"T_78543_level0_row8\" class=\"row_heading level0 row8\" >8</th>\n",
       "      <td id=\"T_78543_row8_col0\" class=\"data row8 col0\" >0.8244</td>\n",
       "      <td id=\"T_78543_row8_col1\" class=\"data row8 col1\" >0.8489</td>\n",
       "      <td id=\"T_78543_row8_col2\" class=\"data row8 col2\" >0.9514</td>\n",
       "      <td id=\"T_78543_row8_col3\" class=\"data row8 col3\" >0.7587</td>\n",
       "      <td id=\"T_78543_row8_col4\" class=\"data row8 col4\" >0.8442</td>\n",
       "      <td id=\"T_78543_row8_col5\" class=\"data row8 col5\" >0.6489</td>\n",
       "      <td id=\"T_78543_row8_col6\" class=\"data row8 col6\" >0.6709</td>\n",
       "    </tr>\n",
       "    <tr>\n",
       "      <th id=\"T_78543_level0_row9\" class=\"row_heading level0 row9\" >9</th>\n",
       "      <td id=\"T_78543_row9_col0\" class=\"data row9 col0\" >0.8264</td>\n",
       "      <td id=\"T_78543_row9_col1\" class=\"data row9 col1\" >0.8503</td>\n",
       "      <td id=\"T_78543_row9_col2\" class=\"data row9 col2\" >0.9528</td>\n",
       "      <td id=\"T_78543_row9_col3\" class=\"data row9 col3\" >0.7605</td>\n",
       "      <td id=\"T_78543_row9_col4\" class=\"data row9 col4\" >0.8459</td>\n",
       "      <td id=\"T_78543_row9_col5\" class=\"data row9 col5\" >0.6528</td>\n",
       "      <td id=\"T_78543_row9_col6\" class=\"data row9 col6\" >0.6747</td>\n",
       "    </tr>\n",
       "    <tr>\n",
       "      <th id=\"T_78543_level0_row10\" class=\"row_heading level0 row10\" >Mean</th>\n",
       "      <td id=\"T_78543_row10_col0\" class=\"data row10 col0\" >0.8256</td>\n",
       "      <td id=\"T_78543_row10_col1\" class=\"data row10 col1\" >0.8493</td>\n",
       "      <td id=\"T_78543_row10_col2\" class=\"data row10 col2\" >0.9527</td>\n",
       "      <td id=\"T_78543_row10_col3\" class=\"data row10 col3\" >0.7596</td>\n",
       "      <td id=\"T_78543_row10_col4\" class=\"data row10 col4\" >0.8453</td>\n",
       "      <td id=\"T_78543_row10_col5\" class=\"data row10 col5\" >0.6512</td>\n",
       "      <td id=\"T_78543_row10_col6\" class=\"data row10 col6\" >0.6733</td>\n",
       "    </tr>\n",
       "    <tr>\n",
       "      <th id=\"T_78543_level0_row11\" class=\"row_heading level0 row11\" >Std</th>\n",
       "      <td id=\"T_78543_row11_col0\" class=\"data row11 col0\" >0.0011</td>\n",
       "      <td id=\"T_78543_row11_col1\" class=\"data row11 col1\" >0.0011</td>\n",
       "      <td id=\"T_78543_row11_col2\" class=\"data row11 col2\" >0.0008</td>\n",
       "      <td id=\"T_78543_row11_col3\" class=\"data row11 col3\" >0.0011</td>\n",
       "      <td id=\"T_78543_row11_col4\" class=\"data row11 col4\" >0.0010</td>\n",
       "      <td id=\"T_78543_row11_col5\" class=\"data row11 col5\" >0.0023</td>\n",
       "      <td id=\"T_78543_row11_col6\" class=\"data row11 col6\" >0.0022</td>\n",
       "    </tr>\n",
       "  </tbody>\n",
       "</table>\n"
      ],
      "text/plain": [
       "<pandas.io.formats.style.Styler at 0x7fb64aa41b10>"
      ]
     },
     "metadata": {},
     "output_type": "display_data"
    },
    {
     "data": {
      "text/html": [],
      "text/plain": [
       "<IPython.core.display.HTML object>"
      ]
     },
     "metadata": {},
     "output_type": "display_data"
    }
   ],
   "source": [
    "qda = create_model('qda')"
   ]
  },
  {
   "cell_type": "code",
   "execution_count": 36,
   "metadata": {},
   "outputs": [
    {
     "data": {
      "text/html": [],
      "text/plain": [
       "<IPython.core.display.HTML object>"
      ]
     },
     "metadata": {},
     "output_type": "display_data"
    },
    {
     "data": {
      "image/png": "[encoded data removed]",
      "text/plain": [
       "<Figure size 800x550 with 1 Axes>"
      ]
     },
     "metadata": {},
     "output_type": "display_data"
    }
   ],
   "source": [
    "plot_model(qda, plot = 'confusion_matrix')"
   ]
  },
  {
   "cell_type": "code",
   "execution_count": 37,
   "metadata": {},
   "outputs": [
    {
     "data": {
      "text/html": [],
      "text/plain": [
       "<IPython.core.display.HTML object>"
      ]
     },
     "metadata": {},
     "output_type": "display_data"
    },
    {
     "data": {
      "image/png": "[encoded data removed]",
      "text/plain": [
       "<Figure size 800x550 with 1 Axes>"
      ]
     },
     "metadata": {},
     "output_type": "display_data"
    }
   ],
   "source": [
    "plot_model(qda, plot = 'error')"
   ]
  },
  {
   "cell_type": "code",
   "execution_count": 38,
   "metadata": {},
   "outputs": [
    {
     "data": {
      "text/html": [],
      "text/plain": [
       "<IPython.core.display.HTML object>"
      ]
     },
     "metadata": {},
     "output_type": "display_data"
    },
    {
     "data": {
      "text/html": [
       "<div>\n",
       "<style scoped>\n",
       "    .dataframe tbody tr th:only-of-type {\n",
       "        vertical-align: middle;\n",
       "    }\n",
       "\n",
       "    .dataframe tbody tr th {\n",
       "        vertical-align: top;\n",
       "    }\n",
       "\n",
       "    .dataframe thead th {\n",
       "        text-align: right;\n",
       "    }\n",
       "</style>\n",
       "<table border=\"1\" class=\"dataframe\">\n",
       "  <thead>\n",
       "    <tr style=\"text-align: right;\">\n",
       "      <th></th>\n",
       "      <th>Parameters</th>\n",
       "    </tr>\n",
       "  </thead>\n",
       "  <tbody>\n",
       "    <tr>\n",
       "      <th>priors</th>\n",
       "      <td>None</td>\n",
       "    </tr>\n",
       "    <tr>\n",
       "      <th>reg_param</th>\n",
       "      <td>0.0</td>\n",
       "    </tr>\n",
       "    <tr>\n",
       "      <th>store_covariance</th>\n",
       "      <td>False</td>\n",
       "    </tr>\n",
       "    <tr>\n",
       "      <th>tol</th>\n",
       "      <td>0.0001</td>\n",
       "    </tr>\n",
       "  </tbody>\n",
       "</table>\n",
       "</div>"
      ],
      "text/plain": [
       "                 Parameters\n",
       "priors                 None\n",
       "reg_param               0.0\n",
       "store_covariance      False\n",
       "tol                  0.0001"
      ]
     },
     "metadata": {},
     "output_type": "display_data"
    }
   ],
   "source": [
    "plot_model(qda, plot = 'parameter')"
   ]
  },
  {
   "cell_type": "code",
   "execution_count": 39,
   "metadata": {},
   "outputs": [
    {
     "name": "stdout",
     "output_type": "stream",
     "text": [
      "Transformation Pipeline and Model Successfully Saved\n"
     ]
    },
    {
     "data": {
      "text/plain": [
       "(Pipeline(memory=FastMemory(location=/tmp/joblib),\n",
       "          steps=[('numerical_imputer',\n",
       "                  TransformerWrapper(exclude=None,\n",
       "                                     include=['0', '1', '2', '3', '4', '5', '6',\n",
       "                                              '7', '8', '9', '10', '11', '12',\n",
       "                                              '13', '14', '15', '16', '17', '18',\n",
       "                                              '19', '20', '21', '22', '23', '24',\n",
       "                                              '25', '26', '27', '28', '29', ...],\n",
       "                                     transformer=SimpleImputer(add_indicator=False,\n",
       "                                                               copy=True,\n",
       "                                                               fill_value=None,\n",
       "                                                               keep_empty_feat...\n",
       "                 ('categorical_imputer',\n",
       "                  TransformerWrapper(exclude=None, include=[],\n",
       "                                     transformer=SimpleImputer(add_indicator=False,\n",
       "                                                               copy=True,\n",
       "                                                               fill_value=None,\n",
       "                                                               keep_empty_features=False,\n",
       "                                                               missing_values=nan,\n",
       "                                                               strategy='most_frequent',\n",
       "                                                               verbose='deprecated'))),\n",
       "                 ('trained_model',\n",
       "                  QuadraticDiscriminantAnalysis(priors=None, reg_param=0.0,\n",
       "                                                store_covariance=False,\n",
       "                                                tol=0.0001))],\n",
       "          verbose=False),\n",
       " 'models_classif/complex/qda.pkl')"
      ]
     },
     "execution_count": 39,
     "metadata": {},
     "output_type": "execute_result"
    }
   ],
   "source": [
    "save_model(qda, 'models_classif/complex/qda')"
   ]
  },
  {
   "cell_type": "markdown",
   "metadata": {},
   "source": [
    "# Linear Discriminant Analysis"
   ]
  },
  {
   "cell_type": "code",
   "execution_count": 40,
   "metadata": {},
   "outputs": [
    {
     "data": {
      "text/html": [],
      "text/plain": [
       "<IPython.core.display.HTML object>"
      ]
     },
     "metadata": {},
     "output_type": "display_data"
    },
    {
     "data": {
      "text/html": [
       "<style type=\"text/css\">\n",
       "#T_162a5_row10_col0, #T_162a5_row10_col1, #T_162a5_row10_col2, #T_162a5_row10_col3, #T_162a5_row10_col4, #T_162a5_row10_col5, #T_162a5_row10_col6 {\n",
       "  background: yellow;\n",
       "}\n",
       "</style>\n",
       "<table id=\"T_162a5\">\n",
       "  <thead>\n",
       "    <tr>\n",
       "      <th class=\"blank level0\" >&nbsp;</th>\n",
       "      <th id=\"T_162a5_level0_col0\" class=\"col_heading level0 col0\" >Accuracy</th>\n",
       "      <th id=\"T_162a5_level0_col1\" class=\"col_heading level0 col1\" >AUC</th>\n",
       "      <th id=\"T_162a5_level0_col2\" class=\"col_heading level0 col2\" >Recall</th>\n",
       "      <th id=\"T_162a5_level0_col3\" class=\"col_heading level0 col3\" >Prec.</th>\n",
       "      <th id=\"T_162a5_level0_col4\" class=\"col_heading level0 col4\" >F1</th>\n",
       "      <th id=\"T_162a5_level0_col5\" class=\"col_heading level0 col5\" >Kappa</th>\n",
       "      <th id=\"T_162a5_level0_col6\" class=\"col_heading level0 col6\" >MCC</th>\n",
       "    </tr>\n",
       "    <tr>\n",
       "      <th class=\"index_name level0\" >Fold</th>\n",
       "      <th class=\"blank col0\" >&nbsp;</th>\n",
       "      <th class=\"blank col1\" >&nbsp;</th>\n",
       "      <th class=\"blank col2\" >&nbsp;</th>\n",
       "      <th class=\"blank col3\" >&nbsp;</th>\n",
       "      <th class=\"blank col4\" >&nbsp;</th>\n",
       "      <th class=\"blank col5\" >&nbsp;</th>\n",
       "      <th class=\"blank col6\" >&nbsp;</th>\n",
       "    </tr>\n",
       "  </thead>\n",
       "  <tbody>\n",
       "    <tr>\n",
       "      <th id=\"T_162a5_level0_row0\" class=\"row_heading level0 row0\" >0</th>\n",
       "      <td id=\"T_162a5_row0_col0\" class=\"data row0 col0\" >0.8347</td>\n",
       "      <td id=\"T_162a5_row0_col1\" class=\"data row0 col1\" >0.8642</td>\n",
       "      <td id=\"T_162a5_row0_col2\" class=\"data row0 col2\" >0.9818</td>\n",
       "      <td id=\"T_162a5_row0_col3\" class=\"data row0 col3\" >0.7586</td>\n",
       "      <td id=\"T_162a5_row0_col4\" class=\"data row0 col4\" >0.8559</td>\n",
       "      <td id=\"T_162a5_row0_col5\" class=\"data row0 col5\" >0.6694</td>\n",
       "      <td id=\"T_162a5_row0_col6\" class=\"data row0 col6\" >0.7004</td>\n",
       "    </tr>\n",
       "    <tr>\n",
       "      <th id=\"T_162a5_level0_row1\" class=\"row_heading level0 row1\" >1</th>\n",
       "      <td id=\"T_162a5_row1_col0\" class=\"data row1 col0\" >0.8331</td>\n",
       "      <td id=\"T_162a5_row1_col1\" class=\"data row1 col1\" >0.8632</td>\n",
       "      <td id=\"T_162a5_row1_col2\" class=\"data row1 col2\" >0.9808</td>\n",
       "      <td id=\"T_162a5_row1_col3\" class=\"data row1 col3\" >0.7571</td>\n",
       "      <td id=\"T_162a5_row1_col4\" class=\"data row1 col4\" >0.8545</td>\n",
       "      <td id=\"T_162a5_row1_col5\" class=\"data row1 col5\" >0.6661</td>\n",
       "      <td id=\"T_162a5_row1_col6\" class=\"data row1 col6\" >0.6972</td>\n",
       "    </tr>\n",
       "    <tr>\n",
       "      <th id=\"T_162a5_level0_row2\" class=\"row_heading level0 row2\" >2</th>\n",
       "      <td id=\"T_162a5_row2_col0\" class=\"data row2 col0\" >0.8349</td>\n",
       "      <td id=\"T_162a5_row2_col1\" class=\"data row2 col1\" >0.8657</td>\n",
       "      <td id=\"T_162a5_row2_col2\" class=\"data row2 col2\" >0.9824</td>\n",
       "      <td id=\"T_162a5_row2_col3\" class=\"data row2 col3\" >0.7586</td>\n",
       "      <td id=\"T_162a5_row2_col4\" class=\"data row2 col4\" >0.8562</td>\n",
       "      <td id=\"T_162a5_row2_col5\" class=\"data row2 col5\" >0.6699</td>\n",
       "      <td id=\"T_162a5_row2_col6\" class=\"data row2 col6\" >0.7011</td>\n",
       "    </tr>\n",
       "    <tr>\n",
       "      <th id=\"T_162a5_level0_row3\" class=\"row_heading level0 row3\" >3</th>\n",
       "      <td id=\"T_162a5_row3_col0\" class=\"data row3 col0\" >0.8341</td>\n",
       "      <td id=\"T_162a5_row3_col1\" class=\"data row3 col1\" >0.8624</td>\n",
       "      <td id=\"T_162a5_row3_col2\" class=\"data row3 col2\" >0.9819</td>\n",
       "      <td id=\"T_162a5_row3_col3\" class=\"data row3 col3\" >0.7579</td>\n",
       "      <td id=\"T_162a5_row3_col4\" class=\"data row3 col4\" >0.8555</td>\n",
       "      <td id=\"T_162a5_row3_col5\" class=\"data row3 col5\" >0.6683</td>\n",
       "      <td id=\"T_162a5_row3_col6\" class=\"data row3 col6\" >0.6995</td>\n",
       "    </tr>\n",
       "    <tr>\n",
       "      <th id=\"T_162a5_level0_row4\" class=\"row_heading level0 row4\" >4</th>\n",
       "      <td id=\"T_162a5_row4_col0\" class=\"data row4 col0\" >0.8347</td>\n",
       "      <td id=\"T_162a5_row4_col1\" class=\"data row4 col1\" >0.8661</td>\n",
       "      <td id=\"T_162a5_row4_col2\" class=\"data row4 col2\" >0.9823</td>\n",
       "      <td id=\"T_162a5_row4_col3\" class=\"data row4 col3\" >0.7585</td>\n",
       "      <td id=\"T_162a5_row4_col4\" class=\"data row4 col4\" >0.8560</td>\n",
       "      <td id=\"T_162a5_row4_col5\" class=\"data row4 col5\" >0.6694</td>\n",
       "      <td id=\"T_162a5_row4_col6\" class=\"data row4 col6\" >0.7006</td>\n",
       "    </tr>\n",
       "    <tr>\n",
       "      <th id=\"T_162a5_level0_row5\" class=\"row_heading level0 row5\" >5</th>\n",
       "      <td id=\"T_162a5_row5_col0\" class=\"data row5 col0\" >0.8358</td>\n",
       "      <td id=\"T_162a5_row5_col1\" class=\"data row5 col1\" >0.8640</td>\n",
       "      <td id=\"T_162a5_row5_col2\" class=\"data row5 col2\" >0.9811</td>\n",
       "      <td id=\"T_162a5_row5_col3\" class=\"data row5 col3\" >0.7602</td>\n",
       "      <td id=\"T_162a5_row5_col4\" class=\"data row5 col4\" >0.8566</td>\n",
       "      <td id=\"T_162a5_row5_col5\" class=\"data row5 col5\" >0.6715</td>\n",
       "      <td id=\"T_162a5_row5_col6\" class=\"data row5 col6\" >0.7018</td>\n",
       "    </tr>\n",
       "    <tr>\n",
       "      <th id=\"T_162a5_level0_row6\" class=\"row_heading level0 row6\" >6</th>\n",
       "      <td id=\"T_162a5_row6_col0\" class=\"data row6 col0\" >0.8313</td>\n",
       "      <td id=\"T_162a5_row6_col1\" class=\"data row6 col1\" >0.8624</td>\n",
       "      <td id=\"T_162a5_row6_col2\" class=\"data row6 col2\" >0.9790</td>\n",
       "      <td id=\"T_162a5_row6_col3\" class=\"data row6 col3\" >0.7557</td>\n",
       "      <td id=\"T_162a5_row6_col4\" class=\"data row6 col4\" >0.8530</td>\n",
       "      <td id=\"T_162a5_row6_col5\" class=\"data row6 col5\" >0.6626</td>\n",
       "      <td id=\"T_162a5_row6_col6\" class=\"data row6 col6\" >0.6935</td>\n",
       "    </tr>\n",
       "    <tr>\n",
       "      <th id=\"T_162a5_level0_row7\" class=\"row_heading level0 row7\" >7</th>\n",
       "      <td id=\"T_162a5_row7_col0\" class=\"data row7 col0\" >0.8354</td>\n",
       "      <td id=\"T_162a5_row7_col1\" class=\"data row7 col1\" >0.8646</td>\n",
       "      <td id=\"T_162a5_row7_col2\" class=\"data row7 col2\" >0.9805</td>\n",
       "      <td id=\"T_162a5_row7_col3\" class=\"data row7 col3\" >0.7600</td>\n",
       "      <td id=\"T_162a5_row7_col4\" class=\"data row7 col4\" >0.8563</td>\n",
       "      <td id=\"T_162a5_row7_col5\" class=\"data row7 col5\" >0.6709</td>\n",
       "      <td id=\"T_162a5_row7_col6\" class=\"data row7 col6\" >0.7010</td>\n",
       "    </tr>\n",
       "    <tr>\n",
       "      <th id=\"T_162a5_level0_row8\" class=\"row_heading level0 row8\" >8</th>\n",
       "      <td id=\"T_162a5_row8_col0\" class=\"data row8 col0\" >0.8357</td>\n",
       "      <td id=\"T_162a5_row8_col1\" class=\"data row8 col1\" >0.8651</td>\n",
       "      <td id=\"T_162a5_row8_col2\" class=\"data row8 col2\" >0.9817</td>\n",
       "      <td id=\"T_162a5_row8_col3\" class=\"data row8 col3\" >0.7599</td>\n",
       "      <td id=\"T_162a5_row8_col4\" class=\"data row8 col4\" >0.8567</td>\n",
       "      <td id=\"T_162a5_row8_col5\" class=\"data row8 col5\" >0.6715</td>\n",
       "      <td id=\"T_162a5_row8_col6\" class=\"data row8 col6\" >0.7020</td>\n",
       "    </tr>\n",
       "    <tr>\n",
       "      <th id=\"T_162a5_level0_row9\" class=\"row_heading level0 row9\" >9</th>\n",
       "      <td id=\"T_162a5_row9_col0\" class=\"data row9 col0\" >0.8342</td>\n",
       "      <td id=\"T_162a5_row9_col1\" class=\"data row9 col1\" >0.8663</td>\n",
       "      <td id=\"T_162a5_row9_col2\" class=\"data row9 col2\" >0.9821</td>\n",
       "      <td id=\"T_162a5_row9_col3\" class=\"data row9 col3\" >0.7579</td>\n",
       "      <td id=\"T_162a5_row9_col4\" class=\"data row9 col4\" >0.8556</td>\n",
       "      <td id=\"T_162a5_row9_col5\" class=\"data row9 col5\" >0.6684</td>\n",
       "      <td id=\"T_162a5_row9_col6\" class=\"data row9 col6\" >0.6997</td>\n",
       "    </tr>\n",
       "    <tr>\n",
       "      <th id=\"T_162a5_level0_row10\" class=\"row_heading level0 row10\" >Mean</th>\n",
       "      <td id=\"T_162a5_row10_col0\" class=\"data row10 col0\" >0.8344</td>\n",
       "      <td id=\"T_162a5_row10_col1\" class=\"data row10 col1\" >0.8644</td>\n",
       "      <td id=\"T_162a5_row10_col2\" class=\"data row10 col2\" >0.9814</td>\n",
       "      <td id=\"T_162a5_row10_col3\" class=\"data row10 col3\" >0.7584</td>\n",
       "      <td id=\"T_162a5_row10_col4\" class=\"data row10 col4\" >0.8556</td>\n",
       "      <td id=\"T_162a5_row10_col5\" class=\"data row10 col5\" >0.6688</td>\n",
       "      <td id=\"T_162a5_row10_col6\" class=\"data row10 col6\" >0.6997</td>\n",
       "    </tr>\n",
       "    <tr>\n",
       "      <th id=\"T_162a5_level0_row11\" class=\"row_heading level0 row11\" >Std</th>\n",
       "      <td id=\"T_162a5_row11_col0\" class=\"data row11 col0\" >0.0013</td>\n",
       "      <td id=\"T_162a5_row11_col1\" class=\"data row11 col1\" >0.0014</td>\n",
       "      <td id=\"T_162a5_row11_col2\" class=\"data row11 col2\" >0.0010</td>\n",
       "      <td id=\"T_162a5_row11_col3\" class=\"data row11 col3\" >0.0013</td>\n",
       "      <td id=\"T_162a5_row11_col4\" class=\"data row11 col4\" >0.0011</td>\n",
       "      <td id=\"T_162a5_row11_col5\" class=\"data row11 col5\" >0.0026</td>\n",
       "      <td id=\"T_162a5_row11_col6\" class=\"data row11 col6\" >0.0024</td>\n",
       "    </tr>\n",
       "  </tbody>\n",
       "</table>\n"
      ],
      "text/plain": [
       "<pandas.io.formats.style.Styler at 0x7fb64a93e890>"
      ]
     },
     "metadata": {},
     "output_type": "display_data"
    },
    {
     "data": {
      "text/html": [],
      "text/plain": [
       "<IPython.core.display.HTML object>"
      ]
     },
     "metadata": {},
     "output_type": "display_data"
    }
   ],
   "source": [
    "lda = create_model('lda')"
   ]
  },
  {
   "cell_type": "code",
   "execution_count": 41,
   "metadata": {},
   "outputs": [
    {
     "data": {
      "text/html": [],
      "text/plain": [
       "<IPython.core.display.HTML object>"
      ]
     },
     "metadata": {},
     "output_type": "display_data"
    },
    {
     "data": {
      "image/png": "[encoded data removed]",
      "text/plain": [
       "<Figure size 800x550 with 1 Axes>"
      ]
     },
     "metadata": {},
     "output_type": "display_data"
    }
   ],
   "source": [
    "plot_model(lda, plot = 'confusion_matrix')"
   ]
  },
  {
   "cell_type": "code",
   "execution_count": 42,
   "metadata": {},
   "outputs": [
    {
     "data": {
      "text/html": [],
      "text/plain": [
       "<IPython.core.display.HTML object>"
      ]
     },
     "metadata": {},
     "output_type": "display_data"
    },
    {
     "data": {
      "image/png": "[encoded data removed]",
      "text/plain": [
       "<Figure size 800x550 with 1 Axes>"
      ]
     },
     "metadata": {},
     "output_type": "display_data"
    }
   ],
   "source": [
    "plot_model(lda, plot = 'error')"
   ]
  },
  {
   "cell_type": "code",
   "execution_count": 43,
   "metadata": {},
   "outputs": [
    {
     "data": {
      "text/html": [],
      "text/plain": [
       "<IPython.core.display.HTML object>"
      ]
     },
     "metadata": {},
     "output_type": "display_data"
    },
    {
     "data": {
      "text/html": [
       "<div>\n",
       "<style scoped>\n",
       "    .dataframe tbody tr th:only-of-type {\n",
       "        vertical-align: middle;\n",
       "    }\n",
       "\n",
       "    .dataframe tbody tr th {\n",
       "        vertical-align: top;\n",
       "    }\n",
       "\n",
       "    .dataframe thead th {\n",
       "        text-align: right;\n",
       "    }\n",
       "</style>\n",
       "<table border=\"1\" class=\"dataframe\">\n",
       "  <thead>\n",
       "    <tr style=\"text-align: right;\">\n",
       "      <th></th>\n",
       "      <th>Parameters</th>\n",
       "    </tr>\n",
       "  </thead>\n",
       "  <tbody>\n",
       "    <tr>\n",
       "      <th>covariance_estimator</th>\n",
       "      <td>None</td>\n",
       "    </tr>\n",
       "    <tr>\n",
       "      <th>n_components</th>\n",
       "      <td>None</td>\n",
       "    </tr>\n",
       "    <tr>\n",
       "      <th>priors</th>\n",
       "      <td>None</td>\n",
       "    </tr>\n",
       "    <tr>\n",
       "      <th>shrinkage</th>\n",
       "      <td>None</td>\n",
       "    </tr>\n",
       "    <tr>\n",
       "      <th>solver</th>\n",
       "      <td>svd</td>\n",
       "    </tr>\n",
       "    <tr>\n",
       "      <th>store_covariance</th>\n",
       "      <td>False</td>\n",
       "    </tr>\n",
       "    <tr>\n",
       "      <th>tol</th>\n",
       "      <td>0.0001</td>\n",
       "    </tr>\n",
       "  </tbody>\n",
       "</table>\n",
       "</div>"
      ],
      "text/plain": [
       "                     Parameters\n",
       "covariance_estimator       None\n",
       "n_components               None\n",
       "priors                     None\n",
       "shrinkage                  None\n",
       "solver                      svd\n",
       "store_covariance          False\n",
       "tol                      0.0001"
      ]
     },
     "metadata": {},
     "output_type": "display_data"
    }
   ],
   "source": [
    "plot_model(lda, plot = 'parameter')"
   ]
  },
  {
   "cell_type": "code",
   "execution_count": 44,
   "metadata": {},
   "outputs": [
    {
     "name": "stdout",
     "output_type": "stream",
     "text": [
      "Transformation Pipeline and Model Successfully Saved\n"
     ]
    },
    {
     "data": {
      "text/plain": [
       "(Pipeline(memory=FastMemory(location=/tmp/joblib),\n",
       "          steps=[('numerical_imputer',\n",
       "                  TransformerWrapper(exclude=None,\n",
       "                                     include=['0', '1', '2', '3', '4', '5', '6',\n",
       "                                              '7', '8', '9', '10', '11', '12',\n",
       "                                              '13', '14', '15', '16', '17', '18',\n",
       "                                              '19', '20', '21', '22', '23', '24',\n",
       "                                              '25', '26', '27', '28', '29', ...],\n",
       "                                     transformer=SimpleImputer(add_indicator=False,\n",
       "                                                               copy=True,\n",
       "                                                               fill_value=None,\n",
       "                                                               keep_empty_feat...\n",
       "                  TransformerWrapper(exclude=None, include=[],\n",
       "                                     transformer=SimpleImputer(add_indicator=False,\n",
       "                                                               copy=True,\n",
       "                                                               fill_value=None,\n",
       "                                                               keep_empty_features=False,\n",
       "                                                               missing_values=nan,\n",
       "                                                               strategy='most_frequent',\n",
       "                                                               verbose='deprecated'))),\n",
       "                 ('trained_model',\n",
       "                  LinearDiscriminantAnalysis(covariance_estimator=None,\n",
       "                                             n_components=None, priors=None,\n",
       "                                             shrinkage=None, solver='svd',\n",
       "                                             store_covariance=False,\n",
       "                                             tol=0.0001))],\n",
       "          verbose=False),\n",
       " 'models_classif/complex/lda.pkl')"
      ]
     },
     "execution_count": 44,
     "metadata": {},
     "output_type": "execute_result"
    }
   ],
   "source": [
    "save_model(lda, 'models_classif/complex/lda')"
   ]
  },
  {
   "cell_type": "markdown",
   "metadata": {},
   "source": [
    "# Extra Trees"
   ]
  },
  {
   "cell_type": "code",
   "execution_count": 45,
   "metadata": {},
   "outputs": [
    {
     "data": {
      "text/html": [],
      "text/plain": [
       "<IPython.core.display.HTML object>"
      ]
     },
     "metadata": {},
     "output_type": "display_data"
    },
    {
     "data": {
      "text/html": [
       "<style type=\"text/css\">\n",
       "#T_ec478_row10_col0, #T_ec478_row10_col1, #T_ec478_row10_col2, #T_ec478_row10_col3, #T_ec478_row10_col4, #T_ec478_row10_col5, #T_ec478_row10_col6 {\n",
       "  background: yellow;\n",
       "}\n",
       "</style>\n",
       "<table id=\"T_ec478\">\n",
       "  <thead>\n",
       "    <tr>\n",
       "      <th class=\"blank level0\" >&nbsp;</th>\n",
       "      <th id=\"T_ec478_level0_col0\" class=\"col_heading level0 col0\" >Accuracy</th>\n",
       "      <th id=\"T_ec478_level0_col1\" class=\"col_heading level0 col1\" >AUC</th>\n",
       "      <th id=\"T_ec478_level0_col2\" class=\"col_heading level0 col2\" >Recall</th>\n",
       "      <th id=\"T_ec478_level0_col3\" class=\"col_heading level0 col3\" >Prec.</th>\n",
       "      <th id=\"T_ec478_level0_col4\" class=\"col_heading level0 col4\" >F1</th>\n",
       "      <th id=\"T_ec478_level0_col5\" class=\"col_heading level0 col5\" >Kappa</th>\n",
       "      <th id=\"T_ec478_level0_col6\" class=\"col_heading level0 col6\" >MCC</th>\n",
       "    </tr>\n",
       "    <tr>\n",
       "      <th class=\"index_name level0\" >Fold</th>\n",
       "      <th class=\"blank col0\" >&nbsp;</th>\n",
       "      <th class=\"blank col1\" >&nbsp;</th>\n",
       "      <th class=\"blank col2\" >&nbsp;</th>\n",
       "      <th class=\"blank col3\" >&nbsp;</th>\n",
       "      <th class=\"blank col4\" >&nbsp;</th>\n",
       "      <th class=\"blank col5\" >&nbsp;</th>\n",
       "      <th class=\"blank col6\" >&nbsp;</th>\n",
       "    </tr>\n",
       "  </thead>\n",
       "  <tbody>\n",
       "    <tr>\n",
       "      <th id=\"T_ec478_level0_row0\" class=\"row_heading level0 row0\" >0</th>\n",
       "      <td id=\"T_ec478_row0_col0\" class=\"data row0 col0\" >0.8618</td>\n",
       "      <td id=\"T_ec478_row0_col1\" class=\"data row0 col1\" >0.9434</td>\n",
       "      <td id=\"T_ec478_row0_col2\" class=\"data row0 col2\" >0.9346</td>\n",
       "      <td id=\"T_ec478_row0_col3\" class=\"data row0 col3\" >0.8158</td>\n",
       "      <td id=\"T_ec478_row0_col4\" class=\"data row0 col4\" >0.8712</td>\n",
       "      <td id=\"T_ec478_row0_col5\" class=\"data row0 col5\" >0.7236</td>\n",
       "      <td id=\"T_ec478_row0_col6\" class=\"data row0 col6\" >0.7314</td>\n",
       "    </tr>\n",
       "    <tr>\n",
       "      <th id=\"T_ec478_level0_row1\" class=\"row_heading level0 row1\" >1</th>\n",
       "      <td id=\"T_ec478_row1_col0\" class=\"data row1 col0\" >0.8614</td>\n",
       "      <td id=\"T_ec478_row1_col1\" class=\"data row1 col1\" >0.9437</td>\n",
       "      <td id=\"T_ec478_row1_col2\" class=\"data row1 col2\" >0.9349</td>\n",
       "      <td id=\"T_ec478_row1_col3\" class=\"data row1 col3\" >0.8151</td>\n",
       "      <td id=\"T_ec478_row1_col4\" class=\"data row1 col4\" >0.8709</td>\n",
       "      <td id=\"T_ec478_row1_col5\" class=\"data row1 col5\" >0.7229</td>\n",
       "      <td id=\"T_ec478_row1_col6\" class=\"data row1 col6\" >0.7308</td>\n",
       "    </tr>\n",
       "    <tr>\n",
       "      <th id=\"T_ec478_level0_row2\" class=\"row_heading level0 row2\" >2</th>\n",
       "      <td id=\"T_ec478_row2_col0\" class=\"data row2 col0\" >0.8620</td>\n",
       "      <td id=\"T_ec478_row2_col1\" class=\"data row2 col1\" >0.9445</td>\n",
       "      <td id=\"T_ec478_row2_col2\" class=\"data row2 col2\" >0.9341</td>\n",
       "      <td id=\"T_ec478_row2_col3\" class=\"data row2 col3\" >0.8165</td>\n",
       "      <td id=\"T_ec478_row2_col4\" class=\"data row2 col4\" >0.8713</td>\n",
       "      <td id=\"T_ec478_row2_col5\" class=\"data row2 col5\" >0.7241</td>\n",
       "      <td id=\"T_ec478_row2_col6\" class=\"data row2 col6\" >0.7317</td>\n",
       "    </tr>\n",
       "    <tr>\n",
       "      <th id=\"T_ec478_level0_row3\" class=\"row_heading level0 row3\" >3</th>\n",
       "      <td id=\"T_ec478_row3_col0\" class=\"data row3 col0\" >0.8604</td>\n",
       "      <td id=\"T_ec478_row3_col1\" class=\"data row3 col1\" >0.9435</td>\n",
       "      <td id=\"T_ec478_row3_col2\" class=\"data row3 col2\" >0.9332</td>\n",
       "      <td id=\"T_ec478_row3_col3\" class=\"data row3 col3\" >0.8147</td>\n",
       "      <td id=\"T_ec478_row3_col4\" class=\"data row3 col4\" >0.8699</td>\n",
       "      <td id=\"T_ec478_row3_col5\" class=\"data row3 col5\" >0.7209</td>\n",
       "      <td id=\"T_ec478_row3_col6\" class=\"data row3 col6\" >0.7286</td>\n",
       "    </tr>\n",
       "    <tr>\n",
       "      <th id=\"T_ec478_level0_row4\" class=\"row_heading level0 row4\" >4</th>\n",
       "      <td id=\"T_ec478_row4_col0\" class=\"data row4 col0\" >0.8612</td>\n",
       "      <td id=\"T_ec478_row4_col1\" class=\"data row4 col1\" >0.9448</td>\n",
       "      <td id=\"T_ec478_row4_col2\" class=\"data row4 col2\" >0.9314</td>\n",
       "      <td id=\"T_ec478_row4_col3\" class=\"data row4 col3\" >0.8168</td>\n",
       "      <td id=\"T_ec478_row4_col4\" class=\"data row4 col4\" >0.8703</td>\n",
       "      <td id=\"T_ec478_row4_col5\" class=\"data row4 col5\" >0.7224</td>\n",
       "      <td id=\"T_ec478_row4_col6\" class=\"data row4 col6\" >0.7297</td>\n",
       "    </tr>\n",
       "    <tr>\n",
       "      <th id=\"T_ec478_level0_row5\" class=\"row_heading level0 row5\" >5</th>\n",
       "      <td id=\"T_ec478_row5_col0\" class=\"data row5 col0\" >0.8655</td>\n",
       "      <td id=\"T_ec478_row5_col1\" class=\"data row5 col1\" >0.9457</td>\n",
       "      <td id=\"T_ec478_row5_col2\" class=\"data row5 col2\" >0.9402</td>\n",
       "      <td id=\"T_ec478_row5_col3\" class=\"data row5 col3\" >0.8179</td>\n",
       "      <td id=\"T_ec478_row5_col4\" class=\"data row5 col4\" >0.8748</td>\n",
       "      <td id=\"T_ec478_row5_col5\" class=\"data row5 col5\" >0.7309</td>\n",
       "      <td id=\"T_ec478_row5_col6\" class=\"data row5 col6\" >0.7392</td>\n",
       "    </tr>\n",
       "    <tr>\n",
       "      <th id=\"T_ec478_level0_row6\" class=\"row_heading level0 row6\" >6</th>\n",
       "      <td id=\"T_ec478_row6_col0\" class=\"data row6 col0\" >0.8618</td>\n",
       "      <td id=\"T_ec478_row6_col1\" class=\"data row6 col1\" >0.9436</td>\n",
       "      <td id=\"T_ec478_row6_col2\" class=\"data row6 col2\" >0.9328</td>\n",
       "      <td id=\"T_ec478_row6_col3\" class=\"data row6 col3\" >0.8169</td>\n",
       "      <td id=\"T_ec478_row6_col4\" class=\"data row6 col4\" >0.8710</td>\n",
       "      <td id=\"T_ec478_row6_col5\" class=\"data row6 col5\" >0.7237</td>\n",
       "      <td id=\"T_ec478_row6_col6\" class=\"data row6 col6\" >0.7311</td>\n",
       "    </tr>\n",
       "    <tr>\n",
       "      <th id=\"T_ec478_level0_row7\" class=\"row_heading level0 row7\" >7</th>\n",
       "      <td id=\"T_ec478_row7_col0\" class=\"data row7 col0\" >0.8615</td>\n",
       "      <td id=\"T_ec478_row7_col1\" class=\"data row7 col1\" >0.9435</td>\n",
       "      <td id=\"T_ec478_row7_col2\" class=\"data row7 col2\" >0.9310</td>\n",
       "      <td id=\"T_ec478_row7_col3\" class=\"data row7 col3\" >0.8174</td>\n",
       "      <td id=\"T_ec478_row7_col4\" class=\"data row7 col4\" >0.8705</td>\n",
       "      <td id=\"T_ec478_row7_col5\" class=\"data row7 col5\" >0.7230</td>\n",
       "      <td id=\"T_ec478_row7_col6\" class=\"data row7 col6\" >0.7301</td>\n",
       "    </tr>\n",
       "    <tr>\n",
       "      <th id=\"T_ec478_level0_row8\" class=\"row_heading level0 row8\" >8</th>\n",
       "      <td id=\"T_ec478_row8_col0\" class=\"data row8 col0\" >0.8615</td>\n",
       "      <td id=\"T_ec478_row8_col1\" class=\"data row8 col1\" >0.9437</td>\n",
       "      <td id=\"T_ec478_row8_col2\" class=\"data row8 col2\" >0.9357</td>\n",
       "      <td id=\"T_ec478_row8_col3\" class=\"data row8 col3\" >0.8148</td>\n",
       "      <td id=\"T_ec478_row8_col4\" class=\"data row8 col4\" >0.8711</td>\n",
       "      <td id=\"T_ec478_row8_col5\" class=\"data row8 col5\" >0.7230</td>\n",
       "      <td id=\"T_ec478_row8_col6\" class=\"data row8 col6\" >0.7311</td>\n",
       "    </tr>\n",
       "    <tr>\n",
       "      <th id=\"T_ec478_level0_row9\" class=\"row_heading level0 row9\" >9</th>\n",
       "      <td id=\"T_ec478_row9_col0\" class=\"data row9 col0\" >0.8610</td>\n",
       "      <td id=\"T_ec478_row9_col1\" class=\"data row9 col1\" >0.9434</td>\n",
       "      <td id=\"T_ec478_row9_col2\" class=\"data row9 col2\" >0.9307</td>\n",
       "      <td id=\"T_ec478_row9_col3\" class=\"data row9 col3\" >0.8169</td>\n",
       "      <td id=\"T_ec478_row9_col4\" class=\"data row9 col4\" >0.8701</td>\n",
       "      <td id=\"T_ec478_row9_col5\" class=\"data row9 col5\" >0.7221</td>\n",
       "      <td id=\"T_ec478_row9_col6\" class=\"data row9 col6\" >0.7292</td>\n",
       "    </tr>\n",
       "    <tr>\n",
       "      <th id=\"T_ec478_level0_row10\" class=\"row_heading level0 row10\" >Mean</th>\n",
       "      <td id=\"T_ec478_row10_col0\" class=\"data row10 col0\" >0.8618</td>\n",
       "      <td id=\"T_ec478_row10_col1\" class=\"data row10 col1\" >0.9440</td>\n",
       "      <td id=\"T_ec478_row10_col2\" class=\"data row10 col2\" >0.9339</td>\n",
       "      <td id=\"T_ec478_row10_col3\" class=\"data row10 col3\" >0.8163</td>\n",
       "      <td id=\"T_ec478_row10_col4\" class=\"data row10 col4\" >0.8711</td>\n",
       "      <td id=\"T_ec478_row10_col5\" class=\"data row10 col5\" >0.7236</td>\n",
       "      <td id=\"T_ec478_row10_col6\" class=\"data row10 col6\" >0.7313</td>\n",
       "    </tr>\n",
       "    <tr>\n",
       "      <th id=\"T_ec478_level0_row11\" class=\"row_heading level0 row11\" >Std</th>\n",
       "      <td id=\"T_ec478_row11_col0\" class=\"data row11 col0\" >0.0013</td>\n",
       "      <td id=\"T_ec478_row11_col1\" class=\"data row11 col1\" >0.0007</td>\n",
       "      <td id=\"T_ec478_row11_col2\" class=\"data row11 col2\" >0.0027</td>\n",
       "      <td id=\"T_ec478_row11_col3\" class=\"data row11 col3\" >0.0011</td>\n",
       "      <td id=\"T_ec478_row11_col4\" class=\"data row11 col4\" >0.0013</td>\n",
       "      <td id=\"T_ec478_row11_col5\" class=\"data row11 col5\" >0.0026</td>\n",
       "      <td id=\"T_ec478_row11_col6\" class=\"data row11 col6\" >0.0028</td>\n",
       "    </tr>\n",
       "  </tbody>\n",
       "</table>\n"
      ],
      "text/plain": [
       "<pandas.io.formats.style.Styler at 0x7fb64a949f30>"
      ]
     },
     "metadata": {},
     "output_type": "display_data"
    },
    {
     "data": {
      "text/html": [],
      "text/plain": [
       "<IPython.core.display.HTML object>"
      ]
     },
     "metadata": {},
     "output_type": "display_data"
    }
   ],
   "source": [
    "et = create_model('et')"
   ]
  },
  {
   "cell_type": "code",
   "execution_count": 46,
   "metadata": {},
   "outputs": [
    {
     "data": {
      "text/html": [],
      "text/plain": [
       "<IPython.core.display.HTML object>"
      ]
     },
     "metadata": {},
     "output_type": "display_data"
    },
    {
     "data": {
      "image/png": "[encoded data removed]",
      "text/plain": [
       "<Figure size 800x550 with 1 Axes>"
      ]
     },
     "metadata": {},
     "output_type": "display_data"
    }
   ],
   "source": [
    "plot_model(et, plot = 'confusion_matrix')"
   ]
  },
  {
   "cell_type": "code",
   "execution_count": 47,
   "metadata": {},
   "outputs": [
    {
     "data": {
      "text/html": [],
      "text/plain": [
       "<IPython.core.display.HTML object>"
      ]
     },
     "metadata": {},
     "output_type": "display_data"
    },
    {
     "data": {
      "image/png": "[encoded data removed]",
      "text/plain": [
       "<Figure size 800x550 with 1 Axes>"
      ]
     },
     "metadata": {},
     "output_type": "display_data"
    }
   ],
   "source": [
    "plot_model(et, plot = 'error')"
   ]
  },
  {
   "cell_type": "code",
   "execution_count": 48,
   "metadata": {},
   "outputs": [
    {
     "data": {
      "text/html": [],
      "text/plain": [
       "<IPython.core.display.HTML object>"
      ]
     },
     "metadata": {},
     "output_type": "display_data"
    },
    {
     "data": {
      "text/html": [
       "<div>\n",
       "<style scoped>\n",
       "    .dataframe tbody tr th:only-of-type {\n",
       "        vertical-align: middle;\n",
       "    }\n",
       "\n",
       "    .dataframe tbody tr th {\n",
       "        vertical-align: top;\n",
       "    }\n",
       "\n",
       "    .dataframe thead th {\n",
       "        text-align: right;\n",
       "    }\n",
       "</style>\n",
       "<table border=\"1\" class=\"dataframe\">\n",
       "  <thead>\n",
       "    <tr style=\"text-align: right;\">\n",
       "      <th></th>\n",
       "      <th>Parameters</th>\n",
       "    </tr>\n",
       "  </thead>\n",
       "  <tbody>\n",
       "    <tr>\n",
       "      <th>bootstrap</th>\n",
       "      <td>False</td>\n",
       "    </tr>\n",
       "    <tr>\n",
       "      <th>ccp_alpha</th>\n",
       "      <td>0.0</td>\n",
       "    </tr>\n",
       "    <tr>\n",
       "      <th>class_weight</th>\n",
       "      <td>None</td>\n",
       "    </tr>\n",
       "    <tr>\n",
       "      <th>criterion</th>\n",
       "      <td>gini</td>\n",
       "    </tr>\n",
       "    <tr>\n",
       "      <th>max_depth</th>\n",
       "      <td>None</td>\n",
       "    </tr>\n",
       "    <tr>\n",
       "      <th>max_features</th>\n",
       "      <td>sqrt</td>\n",
       "    </tr>\n",
       "    <tr>\n",
       "      <th>max_leaf_nodes</th>\n",
       "      <td>None</td>\n",
       "    </tr>\n",
       "    <tr>\n",
       "      <th>max_samples</th>\n",
       "      <td>None</td>\n",
       "    </tr>\n",
       "    <tr>\n",
       "      <th>min_impurity_decrease</th>\n",
       "      <td>0.0</td>\n",
       "    </tr>\n",
       "    <tr>\n",
       "      <th>min_samples_leaf</th>\n",
       "      <td>1</td>\n",
       "    </tr>\n",
       "    <tr>\n",
       "      <th>min_samples_split</th>\n",
       "      <td>2</td>\n",
       "    </tr>\n",
       "    <tr>\n",
       "      <th>min_weight_fraction_leaf</th>\n",
       "      <td>0.0</td>\n",
       "    </tr>\n",
       "    <tr>\n",
       "      <th>n_estimators</th>\n",
       "      <td>100</td>\n",
       "    </tr>\n",
       "    <tr>\n",
       "      <th>n_jobs</th>\n",
       "      <td>-1</td>\n",
       "    </tr>\n",
       "    <tr>\n",
       "      <th>oob_score</th>\n",
       "      <td>False</td>\n",
       "    </tr>\n",
       "    <tr>\n",
       "      <th>random_state</th>\n",
       "      <td>5518</td>\n",
       "    </tr>\n",
       "    <tr>\n",
       "      <th>verbose</th>\n",
       "      <td>0</td>\n",
       "    </tr>\n",
       "    <tr>\n",
       "      <th>warm_start</th>\n",
       "      <td>False</td>\n",
       "    </tr>\n",
       "  </tbody>\n",
       "</table>\n",
       "</div>"
      ],
      "text/plain": [
       "                         Parameters\n",
       "bootstrap                     False\n",
       "ccp_alpha                       0.0\n",
       "class_weight                   None\n",
       "criterion                      gini\n",
       "max_depth                      None\n",
       "max_features                   sqrt\n",
       "max_leaf_nodes                 None\n",
       "max_samples                    None\n",
       "min_impurity_decrease           0.0\n",
       "min_samples_leaf                  1\n",
       "min_samples_split                 2\n",
       "min_weight_fraction_leaf        0.0\n",
       "n_estimators                    100\n",
       "n_jobs                           -1\n",
       "oob_score                     False\n",
       "random_state                   5518\n",
       "verbose                           0\n",
       "warm_start                    False"
      ]
     },
     "metadata": {},
     "output_type": "display_data"
    }
   ],
   "source": [
    "plot_model(et, plot = 'parameter')"
   ]
  },
  {
   "cell_type": "code",
   "execution_count": 49,
   "metadata": {},
   "outputs": [
    {
     "name": "stdout",
     "output_type": "stream",
     "text": [
      "Transformation Pipeline and Model Successfully Saved\n"
     ]
    },
    {
     "data": {
      "text/plain": [
       "(Pipeline(memory=FastMemory(location=/tmp/joblib),\n",
       "          steps=[('numerical_imputer',\n",
       "                  TransformerWrapper(exclude=None,\n",
       "                                     include=['0', '1', '2', '3', '4', '5', '6',\n",
       "                                              '7', '8', '9', '10', '11', '12',\n",
       "                                              '13', '14', '15', '16', '17', '18',\n",
       "                                              '19', '20', '21', '22', '23', '24',\n",
       "                                              '25', '26', '27', '28', '29', ...],\n",
       "                                     transformer=SimpleImputer(add_indicator=False,\n",
       "                                                               copy=True,\n",
       "                                                               fill_value=None,\n",
       "                                                               keep_empty_feat...\n",
       "                  ExtraTreesClassifier(bootstrap=False, ccp_alpha=0.0,\n",
       "                                       class_weight=None, criterion='gini',\n",
       "                                       max_depth=None, max_features='sqrt',\n",
       "                                       max_leaf_nodes=None, max_samples=None,\n",
       "                                       min_impurity_decrease=0.0,\n",
       "                                       min_samples_leaf=1, min_samples_split=2,\n",
       "                                       min_weight_fraction_leaf=0.0,\n",
       "                                       n_estimators=100, n_jobs=-1,\n",
       "                                       oob_score=False, random_state=5518,\n",
       "                                       verbose=0, warm_start=False))],\n",
       "          verbose=False),\n",
       " 'models_classif/complex/et.pkl')"
      ]
     },
     "execution_count": 49,
     "metadata": {},
     "output_type": "execute_result"
    }
   ],
   "source": [
    "save_model(et, 'models_classif/complex/et')"
   ]
  },
  {
   "cell_type": "markdown",
   "metadata": {},
   "source": [
    "# Light Gradient Boosting Machine"
   ]
  },
  {
   "cell_type": "code",
   "execution_count": 50,
   "metadata": {},
   "outputs": [
    {
     "data": {
      "text/html": [],
      "text/plain": [
       "<IPython.core.display.HTML object>"
      ]
     },
     "metadata": {},
     "output_type": "display_data"
    },
    {
     "data": {
      "text/html": [
       "<style type=\"text/css\">\n",
       "#T_91be2_row10_col0, #T_91be2_row10_col1, #T_91be2_row10_col2, #T_91be2_row10_col3, #T_91be2_row10_col4, #T_91be2_row10_col5, #T_91be2_row10_col6 {\n",
       "  background: yellow;\n",
       "}\n",
       "</style>\n",
       "<table id=\"T_91be2\">\n",
       "  <thead>\n",
       "    <tr>\n",
       "      <th class=\"blank level0\" >&nbsp;</th>\n",
       "      <th id=\"T_91be2_level0_col0\" class=\"col_heading level0 col0\" >Accuracy</th>\n",
       "      <th id=\"T_91be2_level0_col1\" class=\"col_heading level0 col1\" >AUC</th>\n",
       "      <th id=\"T_91be2_level0_col2\" class=\"col_heading level0 col2\" >Recall</th>\n",
       "      <th id=\"T_91be2_level0_col3\" class=\"col_heading level0 col3\" >Prec.</th>\n",
       "      <th id=\"T_91be2_level0_col4\" class=\"col_heading level0 col4\" >F1</th>\n",
       "      <th id=\"T_91be2_level0_col5\" class=\"col_heading level0 col5\" >Kappa</th>\n",
       "      <th id=\"T_91be2_level0_col6\" class=\"col_heading level0 col6\" >MCC</th>\n",
       "    </tr>\n",
       "    <tr>\n",
       "      <th class=\"index_name level0\" >Fold</th>\n",
       "      <th class=\"blank col0\" >&nbsp;</th>\n",
       "      <th class=\"blank col1\" >&nbsp;</th>\n",
       "      <th class=\"blank col2\" >&nbsp;</th>\n",
       "      <th class=\"blank col3\" >&nbsp;</th>\n",
       "      <th class=\"blank col4\" >&nbsp;</th>\n",
       "      <th class=\"blank col5\" >&nbsp;</th>\n",
       "      <th class=\"blank col6\" >&nbsp;</th>\n",
       "    </tr>\n",
       "  </thead>\n",
       "  <tbody>\n",
       "    <tr>\n",
       "      <th id=\"T_91be2_level0_row0\" class=\"row_heading level0 row0\" >0</th>\n",
       "      <td id=\"T_91be2_row0_col0\" class=\"data row0 col0\" >0.8555</td>\n",
       "      <td id=\"T_91be2_row0_col1\" class=\"data row0 col1\" >0.9198</td>\n",
       "      <td id=\"T_91be2_row0_col2\" class=\"data row0 col2\" >0.9835</td>\n",
       "      <td id=\"T_91be2_row0_col3\" class=\"data row0 col3\" >0.7830</td>\n",
       "      <td id=\"T_91be2_row0_col4\" class=\"data row0 col4\" >0.8719</td>\n",
       "      <td id=\"T_91be2_row0_col5\" class=\"data row0 col5\" >0.7110</td>\n",
       "      <td id=\"T_91be2_row0_col6\" class=\"data row0 col6\" >0.7355</td>\n",
       "    </tr>\n",
       "    <tr>\n",
       "      <th id=\"T_91be2_level0_row1\" class=\"row_heading level0 row1\" >1</th>\n",
       "      <td id=\"T_91be2_row1_col0\" class=\"data row1 col0\" >0.8553</td>\n",
       "      <td id=\"T_91be2_row1_col1\" class=\"data row1 col1\" >0.9190</td>\n",
       "      <td id=\"T_91be2_row1_col2\" class=\"data row1 col2\" >0.9816</td>\n",
       "      <td id=\"T_91be2_row1_col3\" class=\"data row1 col3\" >0.7837</td>\n",
       "      <td id=\"T_91be2_row1_col4\" class=\"data row1 col4\" >0.8715</td>\n",
       "      <td id=\"T_91be2_row1_col5\" class=\"data row1 col5\" >0.7106</td>\n",
       "      <td id=\"T_91be2_row1_col6\" class=\"data row1 col6\" >0.7344</td>\n",
       "    </tr>\n",
       "    <tr>\n",
       "      <th id=\"T_91be2_level0_row2\" class=\"row_heading level0 row2\" >2</th>\n",
       "      <td id=\"T_91be2_row2_col0\" class=\"data row2 col0\" >0.8576</td>\n",
       "      <td id=\"T_91be2_row2_col1\" class=\"data row2 col1\" >0.9202</td>\n",
       "      <td id=\"T_91be2_row2_col2\" class=\"data row2 col2\" >0.9837</td>\n",
       "      <td id=\"T_91be2_row2_col3\" class=\"data row2 col3\" >0.7856</td>\n",
       "      <td id=\"T_91be2_row2_col4\" class=\"data row2 col4\" >0.8735</td>\n",
       "      <td id=\"T_91be2_row2_col5\" class=\"data row2 col5\" >0.7152</td>\n",
       "      <td id=\"T_91be2_row2_col6\" class=\"data row2 col6\" >0.7390</td>\n",
       "    </tr>\n",
       "    <tr>\n",
       "      <th id=\"T_91be2_level0_row3\" class=\"row_heading level0 row3\" >3</th>\n",
       "      <td id=\"T_91be2_row3_col0\" class=\"data row3 col0\" >0.8556</td>\n",
       "      <td id=\"T_91be2_row3_col1\" class=\"data row3 col1\" >0.9182</td>\n",
       "      <td id=\"T_91be2_row3_col2\" class=\"data row3 col2\" >0.9835</td>\n",
       "      <td id=\"T_91be2_row3_col3\" class=\"data row3 col3\" >0.7832</td>\n",
       "      <td id=\"T_91be2_row3_col4\" class=\"data row3 col4\" >0.8720</td>\n",
       "      <td id=\"T_91be2_row3_col5\" class=\"data row3 col5\" >0.7112</td>\n",
       "      <td id=\"T_91be2_row3_col6\" class=\"data row3 col6\" >0.7357</td>\n",
       "    </tr>\n",
       "    <tr>\n",
       "      <th id=\"T_91be2_level0_row4\" class=\"row_heading level0 row4\" >4</th>\n",
       "      <td id=\"T_91be2_row4_col0\" class=\"data row4 col0\" >0.8568</td>\n",
       "      <td id=\"T_91be2_row4_col1\" class=\"data row4 col1\" >0.9204</td>\n",
       "      <td id=\"T_91be2_row4_col2\" class=\"data row4 col2\" >0.9830</td>\n",
       "      <td id=\"T_91be2_row4_col3\" class=\"data row4 col3\" >0.7849</td>\n",
       "      <td id=\"T_91be2_row4_col4\" class=\"data row4 col4\" >0.8728</td>\n",
       "      <td id=\"T_91be2_row4_col5\" class=\"data row4 col5\" >0.7136</td>\n",
       "      <td id=\"T_91be2_row4_col6\" class=\"data row4 col6\" >0.7375</td>\n",
       "    </tr>\n",
       "    <tr>\n",
       "      <th id=\"T_91be2_level0_row5\" class=\"row_heading level0 row5\" >5</th>\n",
       "      <td id=\"T_91be2_row5_col0\" class=\"data row5 col0\" >0.8576</td>\n",
       "      <td id=\"T_91be2_row5_col1\" class=\"data row5 col1\" >0.9207</td>\n",
       "      <td id=\"T_91be2_row5_col2\" class=\"data row5 col2\" >0.9833</td>\n",
       "      <td id=\"T_91be2_row5_col3\" class=\"data row5 col3\" >0.7857</td>\n",
       "      <td id=\"T_91be2_row5_col4\" class=\"data row5 col4\" >0.8735</td>\n",
       "      <td id=\"T_91be2_row5_col5\" class=\"data row5 col5\" >0.7151</td>\n",
       "      <td id=\"T_91be2_row5_col6\" class=\"data row5 col6\" >0.7389</td>\n",
       "    </tr>\n",
       "    <tr>\n",
       "      <th id=\"T_91be2_level0_row6\" class=\"row_heading level0 row6\" >6</th>\n",
       "      <td id=\"T_91be2_row6_col0\" class=\"data row6 col0\" >0.8558</td>\n",
       "      <td id=\"T_91be2_row6_col1\" class=\"data row6 col1\" >0.9179</td>\n",
       "      <td id=\"T_91be2_row6_col2\" class=\"data row6 col2\" >0.9832</td>\n",
       "      <td id=\"T_91be2_row6_col3\" class=\"data row6 col3\" >0.7835</td>\n",
       "      <td id=\"T_91be2_row6_col4\" class=\"data row6 col4\" >0.8721</td>\n",
       "      <td id=\"T_91be2_row6_col5\" class=\"data row6 col5\" >0.7116</td>\n",
       "      <td id=\"T_91be2_row6_col6\" class=\"data row6 col6\" >0.7359</td>\n",
       "    </tr>\n",
       "    <tr>\n",
       "      <th id=\"T_91be2_level0_row7\" class=\"row_heading level0 row7\" >7</th>\n",
       "      <td id=\"T_91be2_row7_col0\" class=\"data row7 col0\" >0.8568</td>\n",
       "      <td id=\"T_91be2_row7_col1\" class=\"data row7 col1\" >0.9174</td>\n",
       "      <td id=\"T_91be2_row7_col2\" class=\"data row7 col2\" >0.9823</td>\n",
       "      <td id=\"T_91be2_row7_col3\" class=\"data row7 col3\" >0.7852</td>\n",
       "      <td id=\"T_91be2_row7_col4\" class=\"data row7 col4\" >0.8728</td>\n",
       "      <td id=\"T_91be2_row7_col5\" class=\"data row7 col5\" >0.7136</td>\n",
       "      <td id=\"T_91be2_row7_col6\" class=\"data row7 col6\" >0.7372</td>\n",
       "    </tr>\n",
       "    <tr>\n",
       "      <th id=\"T_91be2_level0_row8\" class=\"row_heading level0 row8\" >8</th>\n",
       "      <td id=\"T_91be2_row8_col0\" class=\"data row8 col0\" >0.8560</td>\n",
       "      <td id=\"T_91be2_row8_col1\" class=\"data row8 col1\" >0.9193</td>\n",
       "      <td id=\"T_91be2_row8_col2\" class=\"data row8 col2\" >0.9823</td>\n",
       "      <td id=\"T_91be2_row8_col3\" class=\"data row8 col3\" >0.7842</td>\n",
       "      <td id=\"T_91be2_row8_col4\" class=\"data row8 col4\" >0.8722</td>\n",
       "      <td id=\"T_91be2_row8_col5\" class=\"data row8 col5\" >0.7120</td>\n",
       "      <td id=\"T_91be2_row8_col6\" class=\"data row8 col6\" >0.7359</td>\n",
       "    </tr>\n",
       "    <tr>\n",
       "      <th id=\"T_91be2_level0_row9\" class=\"row_heading level0 row9\" >9</th>\n",
       "      <td id=\"T_91be2_row9_col0\" class=\"data row9 col0\" >0.8568</td>\n",
       "      <td id=\"T_91be2_row9_col1\" class=\"data row9 col1\" >0.9204</td>\n",
       "      <td id=\"T_91be2_row9_col2\" class=\"data row9 col2\" >0.9808</td>\n",
       "      <td id=\"T_91be2_row9_col3\" class=\"data row9 col3\" >0.7859</td>\n",
       "      <td id=\"T_91be2_row9_col4\" class=\"data row9 col4\" >0.8726</td>\n",
       "      <td id=\"T_91be2_row9_col5\" class=\"data row9 col5\" >0.7136</td>\n",
       "      <td id=\"T_91be2_row9_col6\" class=\"data row9 col6\" >0.7366</td>\n",
       "    </tr>\n",
       "    <tr>\n",
       "      <th id=\"T_91be2_level0_row10\" class=\"row_heading level0 row10\" >Mean</th>\n",
       "      <td id=\"T_91be2_row10_col0\" class=\"data row10 col0\" >0.8564</td>\n",
       "      <td id=\"T_91be2_row10_col1\" class=\"data row10 col1\" >0.9193</td>\n",
       "      <td id=\"T_91be2_row10_col2\" class=\"data row10 col2\" >0.9827</td>\n",
       "      <td id=\"T_91be2_row10_col3\" class=\"data row10 col3\" >0.7845</td>\n",
       "      <td id=\"T_91be2_row10_col4\" class=\"data row10 col4\" >0.8725</td>\n",
       "      <td id=\"T_91be2_row10_col5\" class=\"data row10 col5\" >0.7128</td>\n",
       "      <td id=\"T_91be2_row10_col6\" class=\"data row10 col6\" >0.7367</td>\n",
       "    </tr>\n",
       "    <tr>\n",
       "      <th id=\"T_91be2_level0_row11\" class=\"row_heading level0 row11\" >Std</th>\n",
       "      <td id=\"T_91be2_row11_col0\" class=\"data row11 col0\" >0.0008</td>\n",
       "      <td id=\"T_91be2_row11_col1\" class=\"data row11 col1\" >0.0011</td>\n",
       "      <td id=\"T_91be2_row11_col2\" class=\"data row11 col2\" >0.0009</td>\n",
       "      <td id=\"T_91be2_row11_col3\" class=\"data row11 col3\" >0.0010</td>\n",
       "      <td id=\"T_91be2_row11_col4\" class=\"data row11 col4\" >0.0006</td>\n",
       "      <td id=\"T_91be2_row11_col5\" class=\"data row11 col5\" >0.0016</td>\n",
       "      <td id=\"T_91be2_row11_col6\" class=\"data row11 col6\" >0.0014</td>\n",
       "    </tr>\n",
       "  </tbody>\n",
       "</table>\n"
      ],
      "text/plain": [
       "<pandas.io.formats.style.Styler at 0x7fb65056a0e0>"
      ]
     },
     "metadata": {},
     "output_type": "display_data"
    },
    {
     "data": {
      "text/html": [],
      "text/plain": [
       "<IPython.core.display.HTML object>"
      ]
     },
     "metadata": {},
     "output_type": "display_data"
    }
   ],
   "source": [
    "lightgbm = create_model('lightgbm')"
   ]
  },
  {
   "cell_type": "code",
   "execution_count": 51,
   "metadata": {},
   "outputs": [
    {
     "data": {
      "text/html": [],
      "text/plain": [
       "<IPython.core.display.HTML object>"
      ]
     },
     "metadata": {},
     "output_type": "display_data"
    },
    {
     "data": {
      "image/png": "[encoded data removed]",
      "text/plain": [
       "<Figure size 800x550 with 1 Axes>"
      ]
     },
     "metadata": {},
     "output_type": "display_data"
    }
   ],
   "source": [
    "plot_model(lightgbm, plot = 'confusion_matrix')"
   ]
  },
  {
   "cell_type": "code",
   "execution_count": 52,
   "metadata": {},
   "outputs": [
    {
     "data": {
      "text/html": [],
      "text/plain": [
       "<IPython.core.display.HTML object>"
      ]
     },
     "metadata": {},
     "output_type": "display_data"
    },
    {
     "data": {
      "image/png": "[encoded data removed]",
      "text/plain": [
       "<Figure size 800x550 with 1 Axes>"
      ]
     },
     "metadata": {},
     "output_type": "display_data"
    }
   ],
   "source": [
    "plot_model(lightgbm, plot = 'error')"
   ]
  },
  {
   "cell_type": "code",
   "execution_count": 53,
   "metadata": {},
   "outputs": [
    {
     "data": {
      "text/html": [],
      "text/plain": [
       "<IPython.core.display.HTML object>"
      ]
     },
     "metadata": {},
     "output_type": "display_data"
    },
    {
     "data": {
      "text/html": [
       "<div>\n",
       "<style scoped>\n",
       "    .dataframe tbody tr th:only-of-type {\n",
       "        vertical-align: middle;\n",
       "    }\n",
       "\n",
       "    .dataframe tbody tr th {\n",
       "        vertical-align: top;\n",
       "    }\n",
       "\n",
       "    .dataframe thead th {\n",
       "        text-align: right;\n",
       "    }\n",
       "</style>\n",
       "<table border=\"1\" class=\"dataframe\">\n",
       "  <thead>\n",
       "    <tr style=\"text-align: right;\">\n",
       "      <th></th>\n",
       "      <th>Parameters</th>\n",
       "    </tr>\n",
       "  </thead>\n",
       "  <tbody>\n",
       "    <tr>\n",
       "      <th>boosting_type</th>\n",
       "      <td>gbdt</td>\n",
       "    </tr>\n",
       "    <tr>\n",
       "      <th>class_weight</th>\n",
       "      <td>None</td>\n",
       "    </tr>\n",
       "    <tr>\n",
       "      <th>colsample_bytree</th>\n",
       "      <td>1.0</td>\n",
       "    </tr>\n",
       "    <tr>\n",
       "      <th>importance_type</th>\n",
       "      <td>split</td>\n",
       "    </tr>\n",
       "    <tr>\n",
       "      <th>learning_rate</th>\n",
       "      <td>0.1</td>\n",
       "    </tr>\n",
       "    <tr>\n",
       "      <th>max_depth</th>\n",
       "      <td>-1</td>\n",
       "    </tr>\n",
       "    <tr>\n",
       "      <th>min_child_samples</th>\n",
       "      <td>20</td>\n",
       "    </tr>\n",
       "    <tr>\n",
       "      <th>min_child_weight</th>\n",
       "      <td>0.001</td>\n",
       "    </tr>\n",
       "    <tr>\n",
       "      <th>min_split_gain</th>\n",
       "      <td>0.0</td>\n",
       "    </tr>\n",
       "    <tr>\n",
       "      <th>n_estimators</th>\n",
       "      <td>100</td>\n",
       "    </tr>\n",
       "    <tr>\n",
       "      <th>n_jobs</th>\n",
       "      <td>-1</td>\n",
       "    </tr>\n",
       "    <tr>\n",
       "      <th>num_leaves</th>\n",
       "      <td>31</td>\n",
       "    </tr>\n",
       "    <tr>\n",
       "      <th>objective</th>\n",
       "      <td>None</td>\n",
       "    </tr>\n",
       "    <tr>\n",
       "      <th>random_state</th>\n",
       "      <td>5518</td>\n",
       "    </tr>\n",
       "    <tr>\n",
       "      <th>reg_alpha</th>\n",
       "      <td>0.0</td>\n",
       "    </tr>\n",
       "    <tr>\n",
       "      <th>reg_lambda</th>\n",
       "      <td>0.0</td>\n",
       "    </tr>\n",
       "    <tr>\n",
       "      <th>silent</th>\n",
       "      <td>warn</td>\n",
       "    </tr>\n",
       "    <tr>\n",
       "      <th>subsample</th>\n",
       "      <td>1.0</td>\n",
       "    </tr>\n",
       "    <tr>\n",
       "      <th>subsample_for_bin</th>\n",
       "      <td>200000</td>\n",
       "    </tr>\n",
       "    <tr>\n",
       "      <th>subsample_freq</th>\n",
       "      <td>0</td>\n",
       "    </tr>\n",
       "  </tbody>\n",
       "</table>\n",
       "</div>"
      ],
      "text/plain": [
       "                  Parameters\n",
       "boosting_type           gbdt\n",
       "class_weight            None\n",
       "colsample_bytree         1.0\n",
       "importance_type        split\n",
       "learning_rate            0.1\n",
       "max_depth                 -1\n",
       "min_child_samples         20\n",
       "min_child_weight       0.001\n",
       "min_split_gain           0.0\n",
       "n_estimators             100\n",
       "n_jobs                    -1\n",
       "num_leaves                31\n",
       "objective               None\n",
       "random_state            5518\n",
       "reg_alpha                0.0\n",
       "reg_lambda               0.0\n",
       "silent                  warn\n",
       "subsample                1.0\n",
       "subsample_for_bin     200000\n",
       "subsample_freq             0"
      ]
     },
     "metadata": {},
     "output_type": "display_data"
    }
   ],
   "source": [
    "plot_model(lightgbm, plot = 'parameter')"
   ]
  },
  {
   "cell_type": "code",
   "execution_count": 54,
   "metadata": {},
   "outputs": [
    {
     "name": "stdout",
     "output_type": "stream",
     "text": [
      "Transformation Pipeline and Model Successfully Saved\n"
     ]
    },
    {
     "data": {
      "text/plain": [
       "(Pipeline(memory=FastMemory(location=/tmp/joblib),\n",
       "          steps=[('numerical_imputer',\n",
       "                  TransformerWrapper(exclude=None,\n",
       "                                     include=['0', '1', '2', '3', '4', '5', '6',\n",
       "                                              '7', '8', '9', '10', '11', '12',\n",
       "                                              '13', '14', '15', '16', '17', '18',\n",
       "                                              '19', '20', '21', '22', '23', '24',\n",
       "                                              '25', '26', '27', '28', '29', ...],\n",
       "                                     transformer=SimpleImputer(add_indicator=False,\n",
       "                                                               copy=True,\n",
       "                                                               fill_value=None,\n",
       "                                                               keep_empty_feat...\n",
       "                  LGBMClassifier(boosting_type='gbdt', class_weight=None,\n",
       "                                 colsample_bytree=1.0, importance_type='split',\n",
       "                                 learning_rate=0.1, max_depth=-1,\n",
       "                                 min_child_samples=20, min_child_weight=0.001,\n",
       "                                 min_split_gain=0.0, n_estimators=100, n_jobs=-1,\n",
       "                                 num_leaves=31, objective=None,\n",
       "                                 random_state=5518, reg_alpha=0.0,\n",
       "                                 reg_lambda=0.0, silent='warn', subsample=1.0,\n",
       "                                 subsample_for_bin=200000, subsample_freq=0))],\n",
       "          verbose=False),\n",
       " 'models_classif/complex/lightgbm.pkl')"
      ]
     },
     "execution_count": 54,
     "metadata": {},
     "output_type": "execute_result"
    }
   ],
   "source": [
    "save_model(lightgbm, 'models_classif/complex/lightgbm')"
   ]
  },
  {
   "cell_type": "markdown",
   "metadata": {
    "tags": []
   },
   "source": [
    "# MLP Classifier"
   ]
  },
  {
   "cell_type": "code",
   "execution_count": 55,
   "metadata": {},
   "outputs": [
    {
     "data": {
      "text/html": [],
      "text/plain": [
       "<IPython.core.display.HTML object>"
      ]
     },
     "metadata": {},
     "output_type": "display_data"
    },
    {
     "data": {
      "text/html": [
       "<style type=\"text/css\">\n",
       "#T_cc5a9_row10_col0, #T_cc5a9_row10_col1, #T_cc5a9_row10_col2, #T_cc5a9_row10_col3, #T_cc5a9_row10_col4, #T_cc5a9_row10_col5, #T_cc5a9_row10_col6 {\n",
       "  background: yellow;\n",
       "}\n",
       "</style>\n",
       "<table id=\"T_cc5a9\">\n",
       "  <thead>\n",
       "    <tr>\n",
       "      <th class=\"blank level0\" >&nbsp;</th>\n",
       "      <th id=\"T_cc5a9_level0_col0\" class=\"col_heading level0 col0\" >Accuracy</th>\n",
       "      <th id=\"T_cc5a9_level0_col1\" class=\"col_heading level0 col1\" >AUC</th>\n",
       "      <th id=\"T_cc5a9_level0_col2\" class=\"col_heading level0 col2\" >Recall</th>\n",
       "      <th id=\"T_cc5a9_level0_col3\" class=\"col_heading level0 col3\" >Prec.</th>\n",
       "      <th id=\"T_cc5a9_level0_col4\" class=\"col_heading level0 col4\" >F1</th>\n",
       "      <th id=\"T_cc5a9_level0_col5\" class=\"col_heading level0 col5\" >Kappa</th>\n",
       "      <th id=\"T_cc5a9_level0_col6\" class=\"col_heading level0 col6\" >MCC</th>\n",
       "    </tr>\n",
       "    <tr>\n",
       "      <th class=\"index_name level0\" >Fold</th>\n",
       "      <th class=\"blank col0\" >&nbsp;</th>\n",
       "      <th class=\"blank col1\" >&nbsp;</th>\n",
       "      <th class=\"blank col2\" >&nbsp;</th>\n",
       "      <th class=\"blank col3\" >&nbsp;</th>\n",
       "      <th class=\"blank col4\" >&nbsp;</th>\n",
       "      <th class=\"blank col5\" >&nbsp;</th>\n",
       "      <th class=\"blank col6\" >&nbsp;</th>\n",
       "    </tr>\n",
       "  </thead>\n",
       "  <tbody>\n",
       "    <tr>\n",
       "      <th id=\"T_cc5a9_level0_row0\" class=\"row_heading level0 row0\" >0</th>\n",
       "      <td id=\"T_cc5a9_row0_col0\" class=\"data row0 col0\" >0.8385</td>\n",
       "      <td id=\"T_cc5a9_row0_col1\" class=\"data row0 col1\" >0.9144</td>\n",
       "      <td id=\"T_cc5a9_row0_col2\" class=\"data row0 col2\" >0.8949</td>\n",
       "      <td id=\"T_cc5a9_row0_col3\" class=\"data row0 col3\" >0.8041</td>\n",
       "      <td id=\"T_cc5a9_row0_col4\" class=\"data row0 col4\" >0.8471</td>\n",
       "      <td id=\"T_cc5a9_row0_col5\" class=\"data row0 col5\" >0.6769</td>\n",
       "      <td id=\"T_cc5a9_row0_col6\" class=\"data row0 col6\" >0.6813</td>\n",
       "    </tr>\n",
       "    <tr>\n",
       "      <th id=\"T_cc5a9_level0_row1\" class=\"row_heading level0 row1\" >1</th>\n",
       "      <td id=\"T_cc5a9_row1_col0\" class=\"data row1 col0\" >0.8427</td>\n",
       "      <td id=\"T_cc5a9_row1_col1\" class=\"data row1 col1\" >0.9129</td>\n",
       "      <td id=\"T_cc5a9_row1_col2\" class=\"data row1 col2\" >0.9189</td>\n",
       "      <td id=\"T_cc5a9_row1_col3\" class=\"data row1 col3\" >0.7974</td>\n",
       "      <td id=\"T_cc5a9_row1_col4\" class=\"data row1 col4\" >0.8538</td>\n",
       "      <td id=\"T_cc5a9_row1_col5\" class=\"data row1 col5\" >0.6854</td>\n",
       "      <td id=\"T_cc5a9_row1_col6\" class=\"data row1 col6\" >0.6935</td>\n",
       "    </tr>\n",
       "    <tr>\n",
       "      <th id=\"T_cc5a9_level0_row2\" class=\"row_heading level0 row2\" >2</th>\n",
       "      <td id=\"T_cc5a9_row2_col0\" class=\"data row2 col0\" >0.8452</td>\n",
       "      <td id=\"T_cc5a9_row2_col1\" class=\"data row2 col1\" >0.9141</td>\n",
       "      <td id=\"T_cc5a9_row2_col2\" class=\"data row2 col2\" >0.9187</td>\n",
       "      <td id=\"T_cc5a9_row2_col3\" class=\"data row2 col3\" >0.8010</td>\n",
       "      <td id=\"T_cc5a9_row2_col4\" class=\"data row2 col4\" >0.8558</td>\n",
       "      <td id=\"T_cc5a9_row2_col5\" class=\"data row2 col5\" >0.6904</td>\n",
       "      <td id=\"T_cc5a9_row2_col6\" class=\"data row2 col6\" >0.6980</td>\n",
       "    </tr>\n",
       "    <tr>\n",
       "      <th id=\"T_cc5a9_level0_row3\" class=\"row_heading level0 row3\" >3</th>\n",
       "      <td id=\"T_cc5a9_row3_col0\" class=\"data row3 col0\" >0.8359</td>\n",
       "      <td id=\"T_cc5a9_row3_col1\" class=\"data row3 col1\" >0.9124</td>\n",
       "      <td id=\"T_cc5a9_row3_col2\" class=\"data row3 col2\" >0.8890</td>\n",
       "      <td id=\"T_cc5a9_row3_col3\" class=\"data row3 col3\" >0.8037</td>\n",
       "      <td id=\"T_cc5a9_row3_col4\" class=\"data row3 col4\" >0.8442</td>\n",
       "      <td id=\"T_cc5a9_row3_col5\" class=\"data row3 col5\" >0.6718</td>\n",
       "      <td id=\"T_cc5a9_row3_col6\" class=\"data row3 col6\" >0.6757</td>\n",
       "    </tr>\n",
       "    <tr>\n",
       "      <th id=\"T_cc5a9_level0_row4\" class=\"row_heading level0 row4\" >4</th>\n",
       "      <td id=\"T_cc5a9_row4_col0\" class=\"data row4 col0\" >0.8425</td>\n",
       "      <td id=\"T_cc5a9_row4_col1\" class=\"data row4 col1\" >0.9150</td>\n",
       "      <td id=\"T_cc5a9_row4_col2\" class=\"data row4 col2\" >0.9076</td>\n",
       "      <td id=\"T_cc5a9_row4_col3\" class=\"data row4 col3\" >0.8031</td>\n",
       "      <td id=\"T_cc5a9_row4_col4\" class=\"data row4 col4\" >0.8522</td>\n",
       "      <td id=\"T_cc5a9_row4_col5\" class=\"data row4 col5\" >0.6851</td>\n",
       "      <td id=\"T_cc5a9_row4_col6\" class=\"data row4 col6\" >0.6910</td>\n",
       "    </tr>\n",
       "    <tr>\n",
       "      <th id=\"T_cc5a9_level0_row5\" class=\"row_heading level0 row5\" >5</th>\n",
       "      <td id=\"T_cc5a9_row5_col0\" class=\"data row5 col0\" >0.8423</td>\n",
       "      <td id=\"T_cc5a9_row5_col1\" class=\"data row5 col1\" >0.9138</td>\n",
       "      <td id=\"T_cc5a9_row5_col2\" class=\"data row5 col2\" >0.9104</td>\n",
       "      <td id=\"T_cc5a9_row5_col3\" class=\"data row5 col3\" >0.8013</td>\n",
       "      <td id=\"T_cc5a9_row5_col4\" class=\"data row5 col4\" >0.8524</td>\n",
       "      <td id=\"T_cc5a9_row5_col5\" class=\"data row5 col5\" >0.6847</td>\n",
       "      <td id=\"T_cc5a9_row5_col6\" class=\"data row5 col6\" >0.6911</td>\n",
       "    </tr>\n",
       "    <tr>\n",
       "      <th id=\"T_cc5a9_level0_row6\" class=\"row_heading level0 row6\" >6</th>\n",
       "      <td id=\"T_cc5a9_row6_col0\" class=\"data row6 col0\" >0.8425</td>\n",
       "      <td id=\"T_cc5a9_row6_col1\" class=\"data row6 col1\" >0.9132</td>\n",
       "      <td id=\"T_cc5a9_row6_col2\" class=\"data row6 col2\" >0.9196</td>\n",
       "      <td id=\"T_cc5a9_row6_col3\" class=\"data row6 col3\" >0.7968</td>\n",
       "      <td id=\"T_cc5a9_row6_col4\" class=\"data row6 col4\" >0.8538</td>\n",
       "      <td id=\"T_cc5a9_row6_col5\" class=\"data row6 col5\" >0.6850</td>\n",
       "      <td id=\"T_cc5a9_row6_col6\" class=\"data row6 col6\" >0.6933</td>\n",
       "    </tr>\n",
       "    <tr>\n",
       "      <th id=\"T_cc5a9_level0_row7\" class=\"row_heading level0 row7\" >7</th>\n",
       "      <td id=\"T_cc5a9_row7_col0\" class=\"data row7 col0\" >0.8491</td>\n",
       "      <td id=\"T_cc5a9_row7_col1\" class=\"data row7 col1\" >0.9132</td>\n",
       "      <td id=\"T_cc5a9_row7_col2\" class=\"data row7 col2\" >0.9428</td>\n",
       "      <td id=\"T_cc5a9_row7_col3\" class=\"data row7 col3\" >0.7940</td>\n",
       "      <td id=\"T_cc5a9_row7_col4\" class=\"data row7 col4\" >0.8620</td>\n",
       "      <td id=\"T_cc5a9_row7_col5\" class=\"data row7 col5\" >0.6981</td>\n",
       "      <td id=\"T_cc5a9_row7_col6\" class=\"data row7 col6\" >0.7107</td>\n",
       "    </tr>\n",
       "    <tr>\n",
       "      <th id=\"T_cc5a9_level0_row8\" class=\"row_heading level0 row8\" >8</th>\n",
       "      <td id=\"T_cc5a9_row8_col0\" class=\"data row8 col0\" >0.8413</td>\n",
       "      <td id=\"T_cc5a9_row8_col1\" class=\"data row8 col1\" >0.9149</td>\n",
       "      <td id=\"T_cc5a9_row8_col2\" class=\"data row8 col2\" >0.9011</td>\n",
       "      <td id=\"T_cc5a9_row8_col3\" class=\"data row8 col3\" >0.8048</td>\n",
       "      <td id=\"T_cc5a9_row8_col4\" class=\"data row8 col4\" >0.8502</td>\n",
       "      <td id=\"T_cc5a9_row8_col5\" class=\"data row8 col5\" >0.6825</td>\n",
       "      <td id=\"T_cc5a9_row8_col6\" class=\"data row8 col6\" >0.6875</td>\n",
       "    </tr>\n",
       "    <tr>\n",
       "      <th id=\"T_cc5a9_level0_row9\" class=\"row_heading level0 row9\" >9</th>\n",
       "      <td id=\"T_cc5a9_row9_col0\" class=\"data row9 col0\" >0.8426</td>\n",
       "      <td id=\"T_cc5a9_row9_col1\" class=\"data row9 col1\" >0.9143</td>\n",
       "      <td id=\"T_cc5a9_row9_col2\" class=\"data row9 col2\" >0.9096</td>\n",
       "      <td id=\"T_cc5a9_row9_col3\" class=\"data row9 col3\" >0.8021</td>\n",
       "      <td id=\"T_cc5a9_row9_col4\" class=\"data row9 col4\" >0.8525</td>\n",
       "      <td id=\"T_cc5a9_row9_col5\" class=\"data row9 col5\" >0.6851</td>\n",
       "      <td id=\"T_cc5a9_row9_col6\" class=\"data row9 col6\" >0.6914</td>\n",
       "    </tr>\n",
       "    <tr>\n",
       "      <th id=\"T_cc5a9_level0_row10\" class=\"row_heading level0 row10\" >Mean</th>\n",
       "      <td id=\"T_cc5a9_row10_col0\" class=\"data row10 col0\" >0.8423</td>\n",
       "      <td id=\"T_cc5a9_row10_col1\" class=\"data row10 col1\" >0.9138</td>\n",
       "      <td id=\"T_cc5a9_row10_col2\" class=\"data row10 col2\" >0.9113</td>\n",
       "      <td id=\"T_cc5a9_row10_col3\" class=\"data row10 col3\" >0.8008</td>\n",
       "      <td id=\"T_cc5a9_row10_col4\" class=\"data row10 col4\" >0.8524</td>\n",
       "      <td id=\"T_cc5a9_row10_col5\" class=\"data row10 col5\" >0.6845</td>\n",
       "      <td id=\"T_cc5a9_row10_col6\" class=\"data row10 col6\" >0.6913</td>\n",
       "    </tr>\n",
       "    <tr>\n",
       "      <th id=\"T_cc5a9_level0_row11\" class=\"row_heading level0 row11\" >Std</th>\n",
       "      <td id=\"T_cc5a9_row11_col0\" class=\"data row11 col0\" >0.0033</td>\n",
       "      <td id=\"T_cc5a9_row11_col1\" class=\"data row11 col1\" >0.0008</td>\n",
       "      <td id=\"T_cc5a9_row11_col2\" class=\"data row11 col2\" >0.0143</td>\n",
       "      <td id=\"T_cc5a9_row11_col3\" class=\"data row11 col3\" >0.0034</td>\n",
       "      <td id=\"T_cc5a9_row11_col4\" class=\"data row11 col4\" >0.0046</td>\n",
       "      <td id=\"T_cc5a9_row11_col5\" class=\"data row11 col5\" >0.0067</td>\n",
       "      <td id=\"T_cc5a9_row11_col6\" class=\"data row11 col6\" >0.0089</td>\n",
       "    </tr>\n",
       "  </tbody>\n",
       "</table>\n"
      ],
      "text/plain": [
       "<pandas.io.formats.style.Styler at 0x7fb64aad9480>"
      ]
     },
     "metadata": {},
     "output_type": "display_data"
    },
    {
     "data": {
      "text/html": [],
      "text/plain": [
       "<IPython.core.display.HTML object>"
      ]
     },
     "metadata": {},
     "output_type": "display_data"
    }
   ],
   "source": [
    "mlp = create_model('mlp')"
   ]
  },
  {
   "cell_type": "code",
   "execution_count": 56,
   "metadata": {},
   "outputs": [
    {
     "data": {
      "text/html": [],
      "text/plain": [
       "<IPython.core.display.HTML object>"
      ]
     },
     "metadata": {},
     "output_type": "display_data"
    },
    {
     "data": {
      "image/png": "[encoded data removed]",
      "text/plain": [
       "<Figure size 800x550 with 1 Axes>"
      ]
     },
     "metadata": {},
     "output_type": "display_data"
    }
   ],
   "source": [
    "plot_model(mlp, plot = 'confusion_matrix')"
   ]
  },
  {
   "cell_type": "code",
   "execution_count": 57,
   "metadata": {},
   "outputs": [
    {
     "data": {
      "text/html": [],
      "text/plain": [
       "<IPython.core.display.HTML object>"
      ]
     },
     "metadata": {},
     "output_type": "display_data"
    },
    {
     "data": {
      "image/png": "[encoded data removed]",
      "text/plain": [
       "<Figure size 800x550 with 1 Axes>"
      ]
     },
     "metadata": {},
     "output_type": "display_data"
    }
   ],
   "source": [
    "plot_model(mlp, plot = 'error')"
   ]
  },
  {
   "cell_type": "code",
   "execution_count": 58,
   "metadata": {},
   "outputs": [
    {
     "data": {
      "text/html": [],
      "text/plain": [
       "<IPython.core.display.HTML object>"
      ]
     },
     "metadata": {},
     "output_type": "display_data"
    },
    {
     "data": {
      "text/html": [
       "<div>\n",
       "<style scoped>\n",
       "    .dataframe tbody tr th:only-of-type {\n",
       "        vertical-align: middle;\n",
       "    }\n",
       "\n",
       "    .dataframe tbody tr th {\n",
       "        vertical-align: top;\n",
       "    }\n",
       "\n",
       "    .dataframe thead th {\n",
       "        text-align: right;\n",
       "    }\n",
       "</style>\n",
       "<table border=\"1\" class=\"dataframe\">\n",
       "  <thead>\n",
       "    <tr style=\"text-align: right;\">\n",
       "      <th></th>\n",
       "      <th>Parameters</th>\n",
       "    </tr>\n",
       "  </thead>\n",
       "  <tbody>\n",
       "    <tr>\n",
       "      <th>activation</th>\n",
       "      <td>relu</td>\n",
       "    </tr>\n",
       "    <tr>\n",
       "      <th>alpha</th>\n",
       "      <td>0.0001</td>\n",
       "    </tr>\n",
       "    <tr>\n",
       "      <th>batch_size</th>\n",
       "      <td>auto</td>\n",
       "    </tr>\n",
       "    <tr>\n",
       "      <th>beta_1</th>\n",
       "      <td>0.9</td>\n",
       "    </tr>\n",
       "    <tr>\n",
       "      <th>beta_2</th>\n",
       "      <td>0.999</td>\n",
       "    </tr>\n",
       "    <tr>\n",
       "      <th>early_stopping</th>\n",
       "      <td>False</td>\n",
       "    </tr>\n",
       "    <tr>\n",
       "      <th>epsilon</th>\n",
       "      <td>1e-08</td>\n",
       "    </tr>\n",
       "    <tr>\n",
       "      <th>hidden_layer_sizes</th>\n",
       "      <td>(100,)</td>\n",
       "    </tr>\n",
       "    <tr>\n",
       "      <th>learning_rate</th>\n",
       "      <td>constant</td>\n",
       "    </tr>\n",
       "    <tr>\n",
       "      <th>learning_rate_init</th>\n",
       "      <td>0.001</td>\n",
       "    </tr>\n",
       "    <tr>\n",
       "      <th>max_fun</th>\n",
       "      <td>15000</td>\n",
       "    </tr>\n",
       "    <tr>\n",
       "      <th>max_iter</th>\n",
       "      <td>500</td>\n",
       "    </tr>\n",
       "    <tr>\n",
       "      <th>momentum</th>\n",
       "      <td>0.9</td>\n",
       "    </tr>\n",
       "    <tr>\n",
       "      <th>n_iter_no_change</th>\n",
       "      <td>10</td>\n",
       "    </tr>\n",
       "    <tr>\n",
       "      <th>nesterovs_momentum</th>\n",
       "      <td>True</td>\n",
       "    </tr>\n",
       "    <tr>\n",
       "      <th>power_t</th>\n",
       "      <td>0.5</td>\n",
       "    </tr>\n",
       "    <tr>\n",
       "      <th>random_state</th>\n",
       "      <td>5518</td>\n",
       "    </tr>\n",
       "    <tr>\n",
       "      <th>shuffle</th>\n",
       "      <td>True</td>\n",
       "    </tr>\n",
       "    <tr>\n",
       "      <th>solver</th>\n",
       "      <td>adam</td>\n",
       "    </tr>\n",
       "    <tr>\n",
       "      <th>tol</th>\n",
       "      <td>0.0001</td>\n",
       "    </tr>\n",
       "    <tr>\n",
       "      <th>validation_fraction</th>\n",
       "      <td>0.1</td>\n",
       "    </tr>\n",
       "    <tr>\n",
       "      <th>verbose</th>\n",
       "      <td>False</td>\n",
       "    </tr>\n",
       "    <tr>\n",
       "      <th>warm_start</th>\n",
       "      <td>False</td>\n",
       "    </tr>\n",
       "  </tbody>\n",
       "</table>\n",
       "</div>"
      ],
      "text/plain": [
       "                    Parameters\n",
       "activation                relu\n",
       "alpha                   0.0001\n",
       "batch_size                auto\n",
       "beta_1                     0.9\n",
       "beta_2                   0.999\n",
       "early_stopping           False\n",
       "epsilon                  1e-08\n",
       "hidden_layer_sizes      (100,)\n",
       "learning_rate         constant\n",
       "learning_rate_init       0.001\n",
       "max_fun                  15000\n",
       "max_iter                   500\n",
       "momentum                   0.9\n",
       "n_iter_no_change            10\n",
       "nesterovs_momentum        True\n",
       "power_t                    0.5\n",
       "random_state              5518\n",
       "shuffle                   True\n",
       "solver                    adam\n",
       "tol                     0.0001\n",
       "validation_fraction        0.1\n",
       "verbose                  False\n",
       "warm_start               False"
      ]
     },
     "metadata": {},
     "output_type": "display_data"
    }
   ],
   "source": [
    "plot_model(mlp, plot = 'parameter')"
   ]
  },
  {
   "cell_type": "code",
   "execution_count": 59,
   "metadata": {
    "tags": []
   },
   "outputs": [
    {
     "name": "stdout",
     "output_type": "stream",
     "text": [
      "Transformation Pipeline and Model Successfully Saved\n"
     ]
    },
    {
     "data": {
      "text/plain": [
       "(Pipeline(memory=FastMemory(location=/tmp/joblib),\n",
       "          steps=[('numerical_imputer',\n",
       "                  TransformerWrapper(exclude=None,\n",
       "                                     include=['0', '1', '2', '3', '4', '5', '6',\n",
       "                                              '7', '8', '9', '10', '11', '12',\n",
       "                                              '13', '14', '15', '16', '17', '18',\n",
       "                                              '19', '20', '21', '22', '23', '24',\n",
       "                                              '25', '26', '27', '28', '29', ...],\n",
       "                                     transformer=SimpleImputer(add_indicator=False,\n",
       "                                                               copy=True,\n",
       "                                                               fill_value=None,\n",
       "                                                               keep_empty_feat...\n",
       "                                batch_size='auto', beta_1=0.9, beta_2=0.999,\n",
       "                                early_stopping=False, epsilon=1e-08,\n",
       "                                hidden_layer_sizes=(100,),\n",
       "                                learning_rate='constant',\n",
       "                                learning_rate_init=0.001, max_fun=15000,\n",
       "                                max_iter=500, momentum=0.9, n_iter_no_change=10,\n",
       "                                nesterovs_momentum=True, power_t=0.5,\n",
       "                                random_state=5518, shuffle=True, solver='adam',\n",
       "                                tol=0.0001, validation_fraction=0.1,\n",
       "                                verbose=False, warm_start=False))],\n",
       "          verbose=False),\n",
       " 'models_classif/complex/mlp.pkl')"
      ]
     },
     "execution_count": 59,
     "metadata": {},
     "output_type": "execute_result"
    }
   ],
   "source": [
    "save_model(mlp, 'models_classif/complex/mlp')"
   ]
  }
 ],
 "metadata": {
  "kernelspec": {
   "display_name": "aled",
   "language": "python",
   "name": "aled"
  },
  "language_info": {
   "codemirror_mode": {
    "name": "ipython",
    "version": 3
   },
   "file_extension": ".py",
   "mimetype": "text/x-python",
   "name": "python",
   "nbconvert_exporter": "python",
   "pygments_lexer": "ipython3",
   "version": "3.10.9"
  },
  "vscode": {
   "interpreter": {
    "hash": "bad715aa2aaeb5e6c151df84b54974e4cb5c7f8696a7ce08edfdc275e59caf55"
   }
  }
 },
 "nbformat": 4,
 "nbformat_minor": 4
}
