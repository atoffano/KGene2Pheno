{
 "cells": [
  {
   "cell_type": "code",
   "execution_count": 1,
   "metadata": {
    "tags": []
   },
   "outputs": [
    {
     "name": "stderr",
     "output_type": "stream",
     "text": [
      "\u001b[34m\u001b[1mwandb\u001b[0m: Currently logged in as: \u001b[33mantoine-toffano\u001b[0m (\u001b[33mmlb\u001b[0m). Use \u001b[1m`wandb login --relogin`\u001b[0m to force relogin\n"
     ]
    },
    {
     "data": {
      "text/html": [
       "wandb version 0.15.3 is available!  To upgrade, please run:\n",
       " $ pip install wandb --upgrade"
      ],
      "text/plain": [
       "<IPython.core.display.HTML object>"
      ]
     },
     "metadata": {},
     "output_type": "display_data"
    },
    {
     "data": {
      "text/html": [
       "Tracking run with wandb version 0.14.0"
      ],
      "text/plain": [
       "<IPython.core.display.HTML object>"
      ]
     },
     "metadata": {},
     "output_type": "display_data"
    },
    {
     "data": {
      "text/html": [
       "Run data is saved locally in <code>/home/antoine/gene_pheno_pred/wandb/run-20230602_140830-5rgj0nzy</code>"
      ],
      "text/plain": [
       "<IPython.core.display.HTML object>"
      ]
     },
     "metadata": {},
     "output_type": "display_data"
    },
    {
     "data": {
      "text/html": [
       "Syncing run <strong><a href='https://wandb.ai/mlb/cigap-classif/runs/5rgj0nzy' target=\"_blank\">worldly-salad-56</a></strong> to <a href='https://wandb.ai/mlb/cigap-classif' target=\"_blank\">Weights & Biases</a> (<a href='https://wandb.me/run' target=\"_blank\">docs</a>)<br/>"
      ],
      "text/plain": [
       "<IPython.core.display.HTML object>"
      ]
     },
     "metadata": {},
     "output_type": "display_data"
    },
    {
     "data": {
      "text/html": [
       " View project at <a href='https://wandb.ai/mlb/cigap-classif' target=\"_blank\">https://wandb.ai/mlb/cigap-classif</a>"
      ],
      "text/plain": [
       "<IPython.core.display.HTML object>"
      ]
     },
     "metadata": {},
     "output_type": "display_data"
    },
    {
     "data": {
      "text/html": [
       " View run at <a href='https://wandb.ai/mlb/cigap-classif/runs/5rgj0nzy' target=\"_blank\">https://wandb.ai/mlb/cigap-classif/runs/5rgj0nzy</a>"
      ],
      "text/plain": [
       "<IPython.core.display.HTML object>"
      ]
     },
     "metadata": {},
     "output_type": "display_data"
    },
    {
     "data": {
      "text/html": [
       "<button onClick=\"this.nextSibling.style.display='block';this.style.display='none';\">Display W&B run</button><iframe src='https://wandb.ai/mlb/cigap-classif/runs/5rgj0nzy?jupyter=true' style='border:none;width:100%;height:420px;display:none;'></iframe>"
      ],
      "text/plain": [
       "<wandb.sdk.wandb_run.Run at 0x7f47957a4970>"
      ]
     },
     "execution_count": 1,
     "metadata": {},
     "output_type": "execute_result"
    }
   ],
   "source": [
    "from pycaret.classification import *\n",
    "import pandas as pd\n",
    "import os\n",
    "import wandb\n",
    "\n",
    "os.chdir('/home/antoine/gene_pheno_pred')\n",
    "os.environ[\"CUDA_VISIBLE_DEVICES\"]=\"0\"\n",
    "os.environ[\"WANDB_API_KEY\"]=\"4e5748d6c6f3917c78cdc38a516a1bac776faf58\"\n",
    "wandb.login()\n",
    "wandb.init(\n",
    "    project=\"cigap-classif\",\n",
    ")\n"
   ]
  },
  {
   "cell_type": "code",
   "execution_count": 2,
   "metadata": {
    "tags": []
   },
   "outputs": [],
   "source": [
    "df = pd.read_csv('/home/antoine/gene_pheno_pred/TorusE_2023-03-31_10-18-16_kg_test.csv' , header=0)\n",
    "\n",
    "\n",
    "df['link'] = df['relation'].apply(lambda x: 1 if x != 'no_link_known' else 0)\n"
   ]
  },
  {
   "cell_type": "code",
   "execution_count": 3,
   "metadata": {},
   "outputs": [
    {
     "data": {
      "text/html": [
       "<div>\n",
       "<style scoped>\n",
       "    .dataframe tbody tr th:only-of-type {\n",
       "        vertical-align: middle;\n",
       "    }\n",
       "\n",
       "    .dataframe tbody tr th {\n",
       "        vertical-align: top;\n",
       "    }\n",
       "\n",
       "    .dataframe thead th {\n",
       "        text-align: right;\n",
       "    }\n",
       "</style>\n",
       "<table border=\"1\" class=\"dataframe\">\n",
       "  <thead>\n",
       "    <tr style=\"text-align: right;\">\n",
       "      <th></th>\n",
       "      <th>0</th>\n",
       "      <th>1</th>\n",
       "      <th>2</th>\n",
       "      <th>3</th>\n",
       "      <th>4</th>\n",
       "      <th>5</th>\n",
       "      <th>6</th>\n",
       "      <th>7</th>\n",
       "      <th>8</th>\n",
       "      <th>9</th>\n",
       "      <th>...</th>\n",
       "      <th>91</th>\n",
       "      <th>92</th>\n",
       "      <th>93</th>\n",
       "      <th>94</th>\n",
       "      <th>95</th>\n",
       "      <th>96</th>\n",
       "      <th>97</th>\n",
       "      <th>98</th>\n",
       "      <th>99</th>\n",
       "      <th>link</th>\n",
       "    </tr>\n",
       "  </thead>\n",
       "  <tbody>\n",
       "    <tr>\n",
       "      <th>0</th>\n",
       "      <td>-0.022025</td>\n",
       "      <td>0.016013</td>\n",
       "      <td>0.008182</td>\n",
       "      <td>-0.016668</td>\n",
       "      <td>-0.017219</td>\n",
       "      <td>-0.015423</td>\n",
       "      <td>0.014788</td>\n",
       "      <td>-0.013625</td>\n",
       "      <td>0.004813</td>\n",
       "      <td>-0.010436</td>\n",
       "      <td>...</td>\n",
       "      <td>-0.009033</td>\n",
       "      <td>0.012363</td>\n",
       "      <td>-0.013047</td>\n",
       "      <td>0.012363</td>\n",
       "      <td>0.012363</td>\n",
       "      <td>-0.012363</td>\n",
       "      <td>0.013047</td>\n",
       "      <td>0.012363</td>\n",
       "      <td>-0.009570</td>\n",
       "      <td>0</td>\n",
       "    </tr>\n",
       "    <tr>\n",
       "      <th>1</th>\n",
       "      <td>0.011442</td>\n",
       "      <td>0.023409</td>\n",
       "      <td>0.027197</td>\n",
       "      <td>-0.026088</td>\n",
       "      <td>0.011466</td>\n",
       "      <td>0.011485</td>\n",
       "      <td>-0.011461</td>\n",
       "      <td>-0.027663</td>\n",
       "      <td>-0.021202</td>\n",
       "      <td>-0.024895</td>\n",
       "      <td>...</td>\n",
       "      <td>0.006576</td>\n",
       "      <td>0.009683</td>\n",
       "      <td>-0.019268</td>\n",
       "      <td>0.013770</td>\n",
       "      <td>0.008617</td>\n",
       "      <td>-0.013770</td>\n",
       "      <td>0.019268</td>\n",
       "      <td>0.013770</td>\n",
       "      <td>-0.022629</td>\n",
       "      <td>0</td>\n",
       "    </tr>\n",
       "    <tr>\n",
       "      <th>2</th>\n",
       "      <td>-0.002173</td>\n",
       "      <td>-0.002173</td>\n",
       "      <td>-0.002173</td>\n",
       "      <td>0.002173</td>\n",
       "      <td>-0.002173</td>\n",
       "      <td>-0.002173</td>\n",
       "      <td>0.002173</td>\n",
       "      <td>0.002173</td>\n",
       "      <td>0.002173</td>\n",
       "      <td>0.003111</td>\n",
       "      <td>...</td>\n",
       "      <td>-0.011501</td>\n",
       "      <td>-0.000944</td>\n",
       "      <td>0.000131</td>\n",
       "      <td>-0.000944</td>\n",
       "      <td>0.011679</td>\n",
       "      <td>0.000944</td>\n",
       "      <td>-0.006678</td>\n",
       "      <td>-0.001933</td>\n",
       "      <td>0.000131</td>\n",
       "      <td>0</td>\n",
       "    </tr>\n",
       "    <tr>\n",
       "      <th>3</th>\n",
       "      <td>0.017005</td>\n",
       "      <td>0.017386</td>\n",
       "      <td>0.017313</td>\n",
       "      <td>-0.017392</td>\n",
       "      <td>0.017594</td>\n",
       "      <td>0.017359</td>\n",
       "      <td>-0.017394</td>\n",
       "      <td>-0.017409</td>\n",
       "      <td>-0.017698</td>\n",
       "      <td>-0.016948</td>\n",
       "      <td>...</td>\n",
       "      <td>-0.016629</td>\n",
       "      <td>-0.018851</td>\n",
       "      <td>0.014528</td>\n",
       "      <td>0.018851</td>\n",
       "      <td>0.016371</td>\n",
       "      <td>-0.018774</td>\n",
       "      <td>-0.017279</td>\n",
       "      <td>0.018851</td>\n",
       "      <td>-0.004702</td>\n",
       "      <td>1</td>\n",
       "    </tr>\n",
       "    <tr>\n",
       "      <th>4</th>\n",
       "      <td>-0.009484</td>\n",
       "      <td>0.003228</td>\n",
       "      <td>-0.006519</td>\n",
       "      <td>-0.001198</td>\n",
       "      <td>-0.009484</td>\n",
       "      <td>-0.000704</td>\n",
       "      <td>0.006519</td>\n",
       "      <td>0.000694</td>\n",
       "      <td>0.004623</td>\n",
       "      <td>0.000704</td>\n",
       "      <td>...</td>\n",
       "      <td>0.009857</td>\n",
       "      <td>-0.007542</td>\n",
       "      <td>0.019304</td>\n",
       "      <td>-0.009442</td>\n",
       "      <td>-0.016714</td>\n",
       "      <td>0.013269</td>\n",
       "      <td>-0.011895</td>\n",
       "      <td>-0.011088</td>\n",
       "      <td>0.005852</td>\n",
       "      <td>0</td>\n",
       "    </tr>\n",
       "    <tr>\n",
       "      <th>...</th>\n",
       "      <td>...</td>\n",
       "      <td>...</td>\n",
       "      <td>...</td>\n",
       "      <td>...</td>\n",
       "      <td>...</td>\n",
       "      <td>...</td>\n",
       "      <td>...</td>\n",
       "      <td>...</td>\n",
       "      <td>...</td>\n",
       "      <td>...</td>\n",
       "      <td>...</td>\n",
       "      <td>...</td>\n",
       "      <td>...</td>\n",
       "      <td>...</td>\n",
       "      <td>...</td>\n",
       "      <td>...</td>\n",
       "      <td>...</td>\n",
       "      <td>...</td>\n",
       "      <td>...</td>\n",
       "      <td>...</td>\n",
       "      <td>...</td>\n",
       "    </tr>\n",
       "    <tr>\n",
       "      <th>467595</th>\n",
       "      <td>-0.003296</td>\n",
       "      <td>0.003037</td>\n",
       "      <td>-0.001115</td>\n",
       "      <td>0.007448</td>\n",
       "      <td>-0.001115</td>\n",
       "      <td>-0.007448</td>\n",
       "      <td>-0.003037</td>\n",
       "      <td>0.001115</td>\n",
       "      <td>0.007448</td>\n",
       "      <td>0.007448</td>\n",
       "      <td>...</td>\n",
       "      <td>-0.013422</td>\n",
       "      <td>-0.007389</td>\n",
       "      <td>-0.007389</td>\n",
       "      <td>-0.007389</td>\n",
       "      <td>0.013422</td>\n",
       "      <td>0.002157</td>\n",
       "      <td>-0.013422</td>\n",
       "      <td>-0.007389</td>\n",
       "      <td>-0.007389</td>\n",
       "      <td>0</td>\n",
       "    </tr>\n",
       "    <tr>\n",
       "      <th>467596</th>\n",
       "      <td>0.000480</td>\n",
       "      <td>0.000517</td>\n",
       "      <td>0.000911</td>\n",
       "      <td>0.003378</td>\n",
       "      <td>0.004769</td>\n",
       "      <td>-0.008777</td>\n",
       "      <td>-0.000911</td>\n",
       "      <td>-0.000480</td>\n",
       "      <td>0.008814</td>\n",
       "      <td>0.008777</td>\n",
       "      <td>...</td>\n",
       "      <td>0.007482</td>\n",
       "      <td>0.022879</td>\n",
       "      <td>-0.015594</td>\n",
       "      <td>0.013418</td>\n",
       "      <td>0.009380</td>\n",
       "      <td>-0.017695</td>\n",
       "      <td>0.021031</td>\n",
       "      <td>0.013418</td>\n",
       "      <td>-0.022710</td>\n",
       "      <td>1</td>\n",
       "    </tr>\n",
       "    <tr>\n",
       "      <th>467597</th>\n",
       "      <td>0.001610</td>\n",
       "      <td>0.005263</td>\n",
       "      <td>0.000994</td>\n",
       "      <td>0.000131</td>\n",
       "      <td>0.005880</td>\n",
       "      <td>-0.009614</td>\n",
       "      <td>-0.001610</td>\n",
       "      <td>-0.000994</td>\n",
       "      <td>0.014961</td>\n",
       "      <td>0.010230</td>\n",
       "      <td>...</td>\n",
       "      <td>-0.004721</td>\n",
       "      <td>0.019138</td>\n",
       "      <td>-0.012778</td>\n",
       "      <td>0.019138</td>\n",
       "      <td>0.016125</td>\n",
       "      <td>-0.019138</td>\n",
       "      <td>0.015792</td>\n",
       "      <td>0.016125</td>\n",
       "      <td>-0.004549</td>\n",
       "      <td>1</td>\n",
       "    </tr>\n",
       "    <tr>\n",
       "      <th>467598</th>\n",
       "      <td>-0.029945</td>\n",
       "      <td>-0.008771</td>\n",
       "      <td>0.006061</td>\n",
       "      <td>-0.006316</td>\n",
       "      <td>-0.018599</td>\n",
       "      <td>0.029698</td>\n",
       "      <td>-0.007143</td>\n",
       "      <td>0.017606</td>\n",
       "      <td>-0.015266</td>\n",
       "      <td>-0.025612</td>\n",
       "      <td>...</td>\n",
       "      <td>-0.008700</td>\n",
       "      <td>-0.002534</td>\n",
       "      <td>-0.002534</td>\n",
       "      <td>-0.002534</td>\n",
       "      <td>0.008700</td>\n",
       "      <td>0.002534</td>\n",
       "      <td>-0.008700</td>\n",
       "      <td>-0.002534</td>\n",
       "      <td>-0.002534</td>\n",
       "      <td>0</td>\n",
       "    </tr>\n",
       "    <tr>\n",
       "      <th>467599</th>\n",
       "      <td>-0.002112</td>\n",
       "      <td>0.002888</td>\n",
       "      <td>0.009181</td>\n",
       "      <td>0.001736</td>\n",
       "      <td>0.002861</td>\n",
       "      <td>-0.001701</td>\n",
       "      <td>-0.003187</td>\n",
       "      <td>-0.004163</td>\n",
       "      <td>0.000338</td>\n",
       "      <td>0.006364</td>\n",
       "      <td>...</td>\n",
       "      <td>-0.007399</td>\n",
       "      <td>-0.006587</td>\n",
       "      <td>-0.006410</td>\n",
       "      <td>-0.007576</td>\n",
       "      <td>0.007197</td>\n",
       "      <td>0.007576</td>\n",
       "      <td>-0.007069</td>\n",
       "      <td>-0.008778</td>\n",
       "      <td>-0.002259</td>\n",
       "      <td>0</td>\n",
       "    </tr>\n",
       "  </tbody>\n",
       "</table>\n",
       "<p>467600 rows × 101 columns</p>\n",
       "</div>"
      ],
      "text/plain": [
       "               0         1         2         3         4         5         6  \\\n",
       "0      -0.022025  0.016013  0.008182 -0.016668 -0.017219 -0.015423  0.014788   \n",
       "1       0.011442  0.023409  0.027197 -0.026088  0.011466  0.011485 -0.011461   \n",
       "2      -0.002173 -0.002173 -0.002173  0.002173 -0.002173 -0.002173  0.002173   \n",
       "3       0.017005  0.017386  0.017313 -0.017392  0.017594  0.017359 -0.017394   \n",
       "4      -0.009484  0.003228 -0.006519 -0.001198 -0.009484 -0.000704  0.006519   \n",
       "...          ...       ...       ...       ...       ...       ...       ...   \n",
       "467595 -0.003296  0.003037 -0.001115  0.007448 -0.001115 -0.007448 -0.003037   \n",
       "467596  0.000480  0.000517  0.000911  0.003378  0.004769 -0.008777 -0.000911   \n",
       "467597  0.001610  0.005263  0.000994  0.000131  0.005880 -0.009614 -0.001610   \n",
       "467598 -0.029945 -0.008771  0.006061 -0.006316 -0.018599  0.029698 -0.007143   \n",
       "467599 -0.002112  0.002888  0.009181  0.001736  0.002861 -0.001701 -0.003187   \n",
       "\n",
       "               7         8         9  ...        91        92        93  \\\n",
       "0      -0.013625  0.004813 -0.010436  ... -0.009033  0.012363 -0.013047   \n",
       "1      -0.027663 -0.021202 -0.024895  ...  0.006576  0.009683 -0.019268   \n",
       "2       0.002173  0.002173  0.003111  ... -0.011501 -0.000944  0.000131   \n",
       "3      -0.017409 -0.017698 -0.016948  ... -0.016629 -0.018851  0.014528   \n",
       "4       0.000694  0.004623  0.000704  ...  0.009857 -0.007542  0.019304   \n",
       "...          ...       ...       ...  ...       ...       ...       ...   \n",
       "467595  0.001115  0.007448  0.007448  ... -0.013422 -0.007389 -0.007389   \n",
       "467596 -0.000480  0.008814  0.008777  ...  0.007482  0.022879 -0.015594   \n",
       "467597 -0.000994  0.014961  0.010230  ... -0.004721  0.019138 -0.012778   \n",
       "467598  0.017606 -0.015266 -0.025612  ... -0.008700 -0.002534 -0.002534   \n",
       "467599 -0.004163  0.000338  0.006364  ... -0.007399 -0.006587 -0.006410   \n",
       "\n",
       "              94        95        96        97        98        99  link  \n",
       "0       0.012363  0.012363 -0.012363  0.013047  0.012363 -0.009570     0  \n",
       "1       0.013770  0.008617 -0.013770  0.019268  0.013770 -0.022629     0  \n",
       "2      -0.000944  0.011679  0.000944 -0.006678 -0.001933  0.000131     0  \n",
       "3       0.018851  0.016371 -0.018774 -0.017279  0.018851 -0.004702     1  \n",
       "4      -0.009442 -0.016714  0.013269 -0.011895 -0.011088  0.005852     0  \n",
       "...          ...       ...       ...       ...       ...       ...   ...  \n",
       "467595 -0.007389  0.013422  0.002157 -0.013422 -0.007389 -0.007389     0  \n",
       "467596  0.013418  0.009380 -0.017695  0.021031  0.013418 -0.022710     1  \n",
       "467597  0.019138  0.016125 -0.019138  0.015792  0.016125 -0.004549     1  \n",
       "467598 -0.002534  0.008700  0.002534 -0.008700 -0.002534 -0.002534     0  \n",
       "467599 -0.007576  0.007197  0.007576 -0.007069 -0.008778 -0.002259     0  \n",
       "\n",
       "[467600 rows x 101 columns]"
      ]
     },
     "execution_count": 3,
     "metadata": {},
     "output_type": "execute_result"
    }
   ],
   "source": [
    "df_num = df.drop(['head', 'relation', 'tail'], axis=1)\n",
    "df_num"
   ]
  },
  {
   "cell_type": "code",
   "execution_count": 4,
   "metadata": {
    "tags": []
   },
   "outputs": [
    {
     "data": {
      "text/html": [
       "<style type=\"text/css\">\n",
       "#T_62ac6_row8_col1 {\n",
       "  background-color: lightgreen;\n",
       "}\n",
       "</style>\n",
       "<table id=\"T_62ac6\">\n",
       "  <thead>\n",
       "    <tr>\n",
       "      <th class=\"blank level0\" >&nbsp;</th>\n",
       "      <th id=\"T_62ac6_level0_col0\" class=\"col_heading level0 col0\" >Description</th>\n",
       "      <th id=\"T_62ac6_level0_col1\" class=\"col_heading level0 col1\" >Value</th>\n",
       "    </tr>\n",
       "  </thead>\n",
       "  <tbody>\n",
       "    <tr>\n",
       "      <th id=\"T_62ac6_level0_row0\" class=\"row_heading level0 row0\" >0</th>\n",
       "      <td id=\"T_62ac6_row0_col0\" class=\"data row0 col0\" >Session id</td>\n",
       "      <td id=\"T_62ac6_row0_col1\" class=\"data row0 col1\" >5786</td>\n",
       "    </tr>\n",
       "    <tr>\n",
       "      <th id=\"T_62ac6_level0_row1\" class=\"row_heading level0 row1\" >1</th>\n",
       "      <td id=\"T_62ac6_row1_col0\" class=\"data row1 col0\" >Target</td>\n",
       "      <td id=\"T_62ac6_row1_col1\" class=\"data row1 col1\" >link</td>\n",
       "    </tr>\n",
       "    <tr>\n",
       "      <th id=\"T_62ac6_level0_row2\" class=\"row_heading level0 row2\" >2</th>\n",
       "      <td id=\"T_62ac6_row2_col0\" class=\"data row2 col0\" >Target type</td>\n",
       "      <td id=\"T_62ac6_row2_col1\" class=\"data row2 col1\" >Binary</td>\n",
       "    </tr>\n",
       "    <tr>\n",
       "      <th id=\"T_62ac6_level0_row3\" class=\"row_heading level0 row3\" >3</th>\n",
       "      <td id=\"T_62ac6_row3_col0\" class=\"data row3 col0\" >Original data shape</td>\n",
       "      <td id=\"T_62ac6_row3_col1\" class=\"data row3 col1\" >(467600, 101)</td>\n",
       "    </tr>\n",
       "    <tr>\n",
       "      <th id=\"T_62ac6_level0_row4\" class=\"row_heading level0 row4\" >4</th>\n",
       "      <td id=\"T_62ac6_row4_col0\" class=\"data row4 col0\" >Transformed data shape</td>\n",
       "      <td id=\"T_62ac6_row4_col1\" class=\"data row4 col1\" >(467600, 101)</td>\n",
       "    </tr>\n",
       "    <tr>\n",
       "      <th id=\"T_62ac6_level0_row5\" class=\"row_heading level0 row5\" >5</th>\n",
       "      <td id=\"T_62ac6_row5_col0\" class=\"data row5 col0\" >Transformed train set shape</td>\n",
       "      <td id=\"T_62ac6_row5_col1\" class=\"data row5 col1\" >(374080, 101)</td>\n",
       "    </tr>\n",
       "    <tr>\n",
       "      <th id=\"T_62ac6_level0_row6\" class=\"row_heading level0 row6\" >6</th>\n",
       "      <td id=\"T_62ac6_row6_col0\" class=\"data row6 col0\" >Transformed test set shape</td>\n",
       "      <td id=\"T_62ac6_row6_col1\" class=\"data row6 col1\" >(93520, 101)</td>\n",
       "    </tr>\n",
       "    <tr>\n",
       "      <th id=\"T_62ac6_level0_row7\" class=\"row_heading level0 row7\" >7</th>\n",
       "      <td id=\"T_62ac6_row7_col0\" class=\"data row7 col0\" >Numeric features</td>\n",
       "      <td id=\"T_62ac6_row7_col1\" class=\"data row7 col1\" >100</td>\n",
       "    </tr>\n",
       "    <tr>\n",
       "      <th id=\"T_62ac6_level0_row8\" class=\"row_heading level0 row8\" >8</th>\n",
       "      <td id=\"T_62ac6_row8_col0\" class=\"data row8 col0\" >Preprocess</td>\n",
       "      <td id=\"T_62ac6_row8_col1\" class=\"data row8 col1\" >True</td>\n",
       "    </tr>\n",
       "    <tr>\n",
       "      <th id=\"T_62ac6_level0_row9\" class=\"row_heading level0 row9\" >9</th>\n",
       "      <td id=\"T_62ac6_row9_col0\" class=\"data row9 col0\" >Imputation type</td>\n",
       "      <td id=\"T_62ac6_row9_col1\" class=\"data row9 col1\" >simple</td>\n",
       "    </tr>\n",
       "    <tr>\n",
       "      <th id=\"T_62ac6_level0_row10\" class=\"row_heading level0 row10\" >10</th>\n",
       "      <td id=\"T_62ac6_row10_col0\" class=\"data row10 col0\" >Numeric imputation</td>\n",
       "      <td id=\"T_62ac6_row10_col1\" class=\"data row10 col1\" >mean</td>\n",
       "    </tr>\n",
       "    <tr>\n",
       "      <th id=\"T_62ac6_level0_row11\" class=\"row_heading level0 row11\" >11</th>\n",
       "      <td id=\"T_62ac6_row11_col0\" class=\"data row11 col0\" >Categorical imputation</td>\n",
       "      <td id=\"T_62ac6_row11_col1\" class=\"data row11 col1\" >mode</td>\n",
       "    </tr>\n",
       "    <tr>\n",
       "      <th id=\"T_62ac6_level0_row12\" class=\"row_heading level0 row12\" >12</th>\n",
       "      <td id=\"T_62ac6_row12_col0\" class=\"data row12 col0\" >Fold Generator</td>\n",
       "      <td id=\"T_62ac6_row12_col1\" class=\"data row12 col1\" >StratifiedKFold</td>\n",
       "    </tr>\n",
       "    <tr>\n",
       "      <th id=\"T_62ac6_level0_row13\" class=\"row_heading level0 row13\" >13</th>\n",
       "      <td id=\"T_62ac6_row13_col0\" class=\"data row13 col0\" >Fold Number</td>\n",
       "      <td id=\"T_62ac6_row13_col1\" class=\"data row13 col1\" >10</td>\n",
       "    </tr>\n",
       "    <tr>\n",
       "      <th id=\"T_62ac6_level0_row14\" class=\"row_heading level0 row14\" >14</th>\n",
       "      <td id=\"T_62ac6_row14_col0\" class=\"data row14 col0\" >CPU Jobs</td>\n",
       "      <td id=\"T_62ac6_row14_col1\" class=\"data row14 col1\" >-1</td>\n",
       "    </tr>\n",
       "    <tr>\n",
       "      <th id=\"T_62ac6_level0_row15\" class=\"row_heading level0 row15\" >15</th>\n",
       "      <td id=\"T_62ac6_row15_col0\" class=\"data row15 col0\" >Use GPU</td>\n",
       "      <td id=\"T_62ac6_row15_col1\" class=\"data row15 col1\" >False</td>\n",
       "    </tr>\n",
       "    <tr>\n",
       "      <th id=\"T_62ac6_level0_row16\" class=\"row_heading level0 row16\" >16</th>\n",
       "      <td id=\"T_62ac6_row16_col0\" class=\"data row16 col0\" >Log Experiment</td>\n",
       "      <td id=\"T_62ac6_row16_col1\" class=\"data row16 col1\" >WandbLogger</td>\n",
       "    </tr>\n",
       "    <tr>\n",
       "      <th id=\"T_62ac6_level0_row17\" class=\"row_heading level0 row17\" >17</th>\n",
       "      <td id=\"T_62ac6_row17_col0\" class=\"data row17 col0\" >Experiment Name</td>\n",
       "      <td id=\"T_62ac6_row17_col1\" class=\"data row17 col1\" >clf-default-name</td>\n",
       "    </tr>\n",
       "    <tr>\n",
       "      <th id=\"T_62ac6_level0_row18\" class=\"row_heading level0 row18\" >18</th>\n",
       "      <td id=\"T_62ac6_row18_col0\" class=\"data row18 col0\" >USI</td>\n",
       "      <td id=\"T_62ac6_row18_col1\" class=\"data row18 col1\" >ee57</td>\n",
       "    </tr>\n",
       "  </tbody>\n",
       "</table>\n"
      ],
      "text/plain": [
       "<pandas.io.formats.style.Styler at 0x7f478b759030>"
      ]
     },
     "metadata": {},
     "output_type": "display_data"
    }
   ],
   "source": [
    "# Experiment setup\n",
    "s = setup(df_num, target = 'link', fold_strategy = 'stratifiedkfold', fold=10, train_size = 0.8, n_jobs=-1, system_log=True, use_gpu = False, log_experiment='wandb')\n",
    "exp = ClassificationExperiment()"
   ]
  },
  {
   "cell_type": "markdown",
   "metadata": {},
   "source": [
    "# K Neighbors Classifier"
   ]
  },
  {
   "cell_type": "code",
   "execution_count": 5,
   "metadata": {
    "tags": []
   },
   "outputs": [
    {
     "data": {
      "text/html": [],
      "text/plain": [
       "<IPython.core.display.HTML object>"
      ]
     },
     "metadata": {},
     "output_type": "display_data"
    },
    {
     "data": {
      "text/html": [
       "<style type=\"text/css\">\n",
       "#T_1444b_row10_col0, #T_1444b_row10_col1, #T_1444b_row10_col2, #T_1444b_row10_col3, #T_1444b_row10_col4, #T_1444b_row10_col5, #T_1444b_row10_col6 {\n",
       "  background: yellow;\n",
       "}\n",
       "</style>\n",
       "<table id=\"T_1444b\">\n",
       "  <thead>\n",
       "    <tr>\n",
       "      <th class=\"blank level0\" >&nbsp;</th>\n",
       "      <th id=\"T_1444b_level0_col0\" class=\"col_heading level0 col0\" >Accuracy</th>\n",
       "      <th id=\"T_1444b_level0_col1\" class=\"col_heading level0 col1\" >AUC</th>\n",
       "      <th id=\"T_1444b_level0_col2\" class=\"col_heading level0 col2\" >Recall</th>\n",
       "      <th id=\"T_1444b_level0_col3\" class=\"col_heading level0 col3\" >Prec.</th>\n",
       "      <th id=\"T_1444b_level0_col4\" class=\"col_heading level0 col4\" >F1</th>\n",
       "      <th id=\"T_1444b_level0_col5\" class=\"col_heading level0 col5\" >Kappa</th>\n",
       "      <th id=\"T_1444b_level0_col6\" class=\"col_heading level0 col6\" >MCC</th>\n",
       "    </tr>\n",
       "    <tr>\n",
       "      <th class=\"index_name level0\" >Fold</th>\n",
       "      <th class=\"blank col0\" >&nbsp;</th>\n",
       "      <th class=\"blank col1\" >&nbsp;</th>\n",
       "      <th class=\"blank col2\" >&nbsp;</th>\n",
       "      <th class=\"blank col3\" >&nbsp;</th>\n",
       "      <th class=\"blank col4\" >&nbsp;</th>\n",
       "      <th class=\"blank col5\" >&nbsp;</th>\n",
       "      <th class=\"blank col6\" >&nbsp;</th>\n",
       "    </tr>\n",
       "  </thead>\n",
       "  <tbody>\n",
       "    <tr>\n",
       "      <th id=\"T_1444b_level0_row0\" class=\"row_heading level0 row0\" >0</th>\n",
       "      <td id=\"T_1444b_row0_col0\" class=\"data row0 col0\" >0.8446</td>\n",
       "      <td id=\"T_1444b_row0_col1\" class=\"data row0 col1\" >0.8986</td>\n",
       "      <td id=\"T_1444b_row0_col2\" class=\"data row0 col2\" >0.9329</td>\n",
       "      <td id=\"T_1444b_row0_col3\" class=\"data row0 col3\" >0.7929</td>\n",
       "      <td id=\"T_1444b_row0_col4\" class=\"data row0 col4\" >0.8572</td>\n",
       "      <td id=\"T_1444b_row0_col5\" class=\"data row0 col5\" >0.6893</td>\n",
       "      <td id=\"T_1444b_row0_col6\" class=\"data row0 col6\" >0.7003</td>\n",
       "    </tr>\n",
       "    <tr>\n",
       "      <th id=\"T_1444b_level0_row1\" class=\"row_heading level0 row1\" >1</th>\n",
       "      <td id=\"T_1444b_row1_col0\" class=\"data row1 col0\" >0.8428</td>\n",
       "      <td id=\"T_1444b_row1_col1\" class=\"data row1 col1\" >0.8962</td>\n",
       "      <td id=\"T_1444b_row1_col2\" class=\"data row1 col2\" >0.9346</td>\n",
       "      <td id=\"T_1444b_row1_col3\" class=\"data row1 col3\" >0.7897</td>\n",
       "      <td id=\"T_1444b_row1_col4\" class=\"data row1 col4\" >0.8560</td>\n",
       "      <td id=\"T_1444b_row1_col5\" class=\"data row1 col5\" >0.6856</td>\n",
       "      <td id=\"T_1444b_row1_col6\" class=\"data row1 col6\" >0.6975</td>\n",
       "    </tr>\n",
       "    <tr>\n",
       "      <th id=\"T_1444b_level0_row2\" class=\"row_heading level0 row2\" >2</th>\n",
       "      <td id=\"T_1444b_row2_col0\" class=\"data row2 col0\" >0.8433</td>\n",
       "      <td id=\"T_1444b_row2_col1\" class=\"data row2 col1\" >0.8977</td>\n",
       "      <td id=\"T_1444b_row2_col2\" class=\"data row2 col2\" >0.9350</td>\n",
       "      <td id=\"T_1444b_row2_col3\" class=\"data row2 col3\" >0.7900</td>\n",
       "      <td id=\"T_1444b_row2_col4\" class=\"data row2 col4\" >0.8564</td>\n",
       "      <td id=\"T_1444b_row2_col5\" class=\"data row2 col5\" >0.6865</td>\n",
       "      <td id=\"T_1444b_row2_col6\" class=\"data row2 col6\" >0.6984</td>\n",
       "    </tr>\n",
       "    <tr>\n",
       "      <th id=\"T_1444b_level0_row3\" class=\"row_heading level0 row3\" >3</th>\n",
       "      <td id=\"T_1444b_row3_col0\" class=\"data row3 col0\" >0.8422</td>\n",
       "      <td id=\"T_1444b_row3_col1\" class=\"data row3 col1\" >0.8952</td>\n",
       "      <td id=\"T_1444b_row3_col2\" class=\"data row3 col2\" >0.9350</td>\n",
       "      <td id=\"T_1444b_row3_col3\" class=\"data row3 col3\" >0.7886</td>\n",
       "      <td id=\"T_1444b_row3_col4\" class=\"data row3 col4\" >0.8556</td>\n",
       "      <td id=\"T_1444b_row3_col5\" class=\"data row3 col5\" >0.6844</td>\n",
       "      <td id=\"T_1444b_row3_col6\" class=\"data row3 col6\" >0.6965</td>\n",
       "    </tr>\n",
       "    <tr>\n",
       "      <th id=\"T_1444b_level0_row4\" class=\"row_heading level0 row4\" >4</th>\n",
       "      <td id=\"T_1444b_row4_col0\" class=\"data row4 col0\" >0.8442</td>\n",
       "      <td id=\"T_1444b_row4_col1\" class=\"data row4 col1\" >0.8976</td>\n",
       "      <td id=\"T_1444b_row4_col2\" class=\"data row4 col2\" >0.9341</td>\n",
       "      <td id=\"T_1444b_row4_col3\" class=\"data row4 col3\" >0.7917</td>\n",
       "      <td id=\"T_1444b_row4_col4\" class=\"data row4 col4\" >0.8570</td>\n",
       "      <td id=\"T_1444b_row4_col5\" class=\"data row4 col5\" >0.6884</td>\n",
       "      <td id=\"T_1444b_row4_col6\" class=\"data row4 col6\" >0.6998</td>\n",
       "    </tr>\n",
       "    <tr>\n",
       "      <th id=\"T_1444b_level0_row5\" class=\"row_heading level0 row5\" >5</th>\n",
       "      <td id=\"T_1444b_row5_col0\" class=\"data row5 col0\" >0.8427</td>\n",
       "      <td id=\"T_1444b_row5_col1\" class=\"data row5 col1\" >0.8952</td>\n",
       "      <td id=\"T_1444b_row5_col2\" class=\"data row5 col2\" >0.9337</td>\n",
       "      <td id=\"T_1444b_row5_col3\" class=\"data row5 col3\" >0.7900</td>\n",
       "      <td id=\"T_1444b_row5_col4\" class=\"data row5 col4\" >0.8558</td>\n",
       "      <td id=\"T_1444b_row5_col5\" class=\"data row5 col5\" >0.6855</td>\n",
       "      <td id=\"T_1444b_row5_col6\" class=\"data row5 col6\" >0.6971</td>\n",
       "    </tr>\n",
       "    <tr>\n",
       "      <th id=\"T_1444b_level0_row6\" class=\"row_heading level0 row6\" >6</th>\n",
       "      <td id=\"T_1444b_row6_col0\" class=\"data row6 col0\" >0.8426</td>\n",
       "      <td id=\"T_1444b_row6_col1\" class=\"data row6 col1\" >0.8962</td>\n",
       "      <td id=\"T_1444b_row6_col2\" class=\"data row6 col2\" >0.9352</td>\n",
       "      <td id=\"T_1444b_row6_col3\" class=\"data row6 col3\" >0.7891</td>\n",
       "      <td id=\"T_1444b_row6_col4\" class=\"data row6 col4\" >0.8559</td>\n",
       "      <td id=\"T_1444b_row6_col5\" class=\"data row6 col5\" >0.6852</td>\n",
       "      <td id=\"T_1444b_row6_col6\" class=\"data row6 col6\" >0.6973</td>\n",
       "    </tr>\n",
       "    <tr>\n",
       "      <th id=\"T_1444b_level0_row7\" class=\"row_heading level0 row7\" >7</th>\n",
       "      <td id=\"T_1444b_row7_col0\" class=\"data row7 col0\" >0.8429</td>\n",
       "      <td id=\"T_1444b_row7_col1\" class=\"data row7 col1\" >0.8987</td>\n",
       "      <td id=\"T_1444b_row7_col2\" class=\"data row7 col2\" >0.9319</td>\n",
       "      <td id=\"T_1444b_row7_col3\" class=\"data row7 col3\" >0.7911</td>\n",
       "      <td id=\"T_1444b_row7_col4\" class=\"data row7 col4\" >0.8558</td>\n",
       "      <td id=\"T_1444b_row7_col5\" class=\"data row7 col5\" >0.6858</td>\n",
       "      <td id=\"T_1444b_row7_col6\" class=\"data row7 col6\" >0.6970</td>\n",
       "    </tr>\n",
       "    <tr>\n",
       "      <th id=\"T_1444b_level0_row8\" class=\"row_heading level0 row8\" >8</th>\n",
       "      <td id=\"T_1444b_row8_col0\" class=\"data row8 col0\" >0.8412</td>\n",
       "      <td id=\"T_1444b_row8_col1\" class=\"data row8 col1\" >0.8950</td>\n",
       "      <td id=\"T_1444b_row8_col2\" class=\"data row8 col2\" >0.9327</td>\n",
       "      <td id=\"T_1444b_row8_col3\" class=\"data row8 col3\" >0.7884</td>\n",
       "      <td id=\"T_1444b_row8_col4\" class=\"data row8 col4\" >0.8545</td>\n",
       "      <td id=\"T_1444b_row8_col5\" class=\"data row8 col5\" >0.6824</td>\n",
       "      <td id=\"T_1444b_row8_col6\" class=\"data row8 col6\" >0.6941</td>\n",
       "    </tr>\n",
       "    <tr>\n",
       "      <th id=\"T_1444b_level0_row9\" class=\"row_heading level0 row9\" >9</th>\n",
       "      <td id=\"T_1444b_row9_col0\" class=\"data row9 col0\" >0.8395</td>\n",
       "      <td id=\"T_1444b_row9_col1\" class=\"data row9 col1\" >0.8939</td>\n",
       "      <td id=\"T_1444b_row9_col2\" class=\"data row9 col2\" >0.9315</td>\n",
       "      <td id=\"T_1444b_row9_col3\" class=\"data row9 col3\" >0.7868</td>\n",
       "      <td id=\"T_1444b_row9_col4\" class=\"data row9 col4\" >0.8530</td>\n",
       "      <td id=\"T_1444b_row9_col5\" class=\"data row9 col5\" >0.6790</td>\n",
       "      <td id=\"T_1444b_row9_col6\" class=\"data row9 col6\" >0.6908</td>\n",
       "    </tr>\n",
       "    <tr>\n",
       "      <th id=\"T_1444b_level0_row10\" class=\"row_heading level0 row10\" >Mean</th>\n",
       "      <td id=\"T_1444b_row10_col0\" class=\"data row10 col0\" >0.8426</td>\n",
       "      <td id=\"T_1444b_row10_col1\" class=\"data row10 col1\" >0.8964</td>\n",
       "      <td id=\"T_1444b_row10_col2\" class=\"data row10 col2\" >0.9337</td>\n",
       "      <td id=\"T_1444b_row10_col3\" class=\"data row10 col3\" >0.7898</td>\n",
       "      <td id=\"T_1444b_row10_col4\" class=\"data row10 col4\" >0.8557</td>\n",
       "      <td id=\"T_1444b_row10_col5\" class=\"data row10 col5\" >0.6852</td>\n",
       "      <td id=\"T_1444b_row10_col6\" class=\"data row10 col6\" >0.6969</td>\n",
       "    </tr>\n",
       "    <tr>\n",
       "      <th id=\"T_1444b_level0_row11\" class=\"row_heading level0 row11\" >Std</th>\n",
       "      <td id=\"T_1444b_row11_col0\" class=\"data row11 col0\" >0.0014</td>\n",
       "      <td id=\"T_1444b_row11_col1\" class=\"data row11 col1\" >0.0015</td>\n",
       "      <td id=\"T_1444b_row11_col2\" class=\"data row11 col2\" >0.0013</td>\n",
       "      <td id=\"T_1444b_row11_col3\" class=\"data row11 col3\" >0.0017</td>\n",
       "      <td id=\"T_1444b_row11_col4\" class=\"data row11 col4\" >0.0012</td>\n",
       "      <td id=\"T_1444b_row11_col5\" class=\"data row11 col5\" >0.0028</td>\n",
       "      <td id=\"T_1444b_row11_col6\" class=\"data row11 col6\" >0.0026</td>\n",
       "    </tr>\n",
       "  </tbody>\n",
       "</table>\n"
      ],
      "text/plain": [
       "<pandas.io.formats.style.Styler at 0x7f47955d4970>"
      ]
     },
     "metadata": {},
     "output_type": "display_data"
    },
    {
     "data": {
      "text/html": [],
      "text/plain": [
       "<IPython.core.display.HTML object>"
      ]
     },
     "metadata": {},
     "output_type": "display_data"
    }
   ],
   "source": [
    "knn = create_model('knn')"
   ]
  },
  {
   "cell_type": "code",
   "execution_count": 6,
   "metadata": {},
   "outputs": [
    {
     "data": {
      "text/html": [],
      "text/plain": [
       "<IPython.core.display.HTML object>"
      ]
     },
     "metadata": {},
     "output_type": "display_data"
    },
    {
     "data": {
      "image/png": "[encoded data removed]",
      "text/plain": [
       "<Figure size 800x550 with 1 Axes>"
      ]
     },
     "metadata": {},
     "output_type": "display_data"
    }
   ],
   "source": [
    "plot_model(knn, plot = 'confusion_matrix')"
   ]
  },
  {
   "cell_type": "code",
   "execution_count": 7,
   "metadata": {},
   "outputs": [
    {
     "data": {
      "text/html": [],
      "text/plain": [
       "<IPython.core.display.HTML object>"
      ]
     },
     "metadata": {},
     "output_type": "display_data"
    },
    {
     "data": {
      "image/png": "[encoded data removed]",
      "text/plain": [
       "<Figure size 800x550 with 1 Axes>"
      ]
     },
     "metadata": {},
     "output_type": "display_data"
    }
   ],
   "source": [
    "plot_model(knn, plot = 'error')"
   ]
  },
  {
   "cell_type": "code",
   "execution_count": 8,
   "metadata": {},
   "outputs": [
    {
     "data": {
      "text/html": [],
      "text/plain": [
       "<IPython.core.display.HTML object>"
      ]
     },
     "metadata": {},
     "output_type": "display_data"
    },
    {
     "data": {
      "text/html": [
       "<div>\n",
       "<style scoped>\n",
       "    .dataframe tbody tr th:only-of-type {\n",
       "        vertical-align: middle;\n",
       "    }\n",
       "\n",
       "    .dataframe tbody tr th {\n",
       "        vertical-align: top;\n",
       "    }\n",
       "\n",
       "    .dataframe thead th {\n",
       "        text-align: right;\n",
       "    }\n",
       "</style>\n",
       "<table border=\"1\" class=\"dataframe\">\n",
       "  <thead>\n",
       "    <tr style=\"text-align: right;\">\n",
       "      <th></th>\n",
       "      <th>Parameters</th>\n",
       "    </tr>\n",
       "  </thead>\n",
       "  <tbody>\n",
       "    <tr>\n",
       "      <th>algorithm</th>\n",
       "      <td>auto</td>\n",
       "    </tr>\n",
       "    <tr>\n",
       "      <th>leaf_size</th>\n",
       "      <td>30</td>\n",
       "    </tr>\n",
       "    <tr>\n",
       "      <th>metric</th>\n",
       "      <td>minkowski</td>\n",
       "    </tr>\n",
       "    <tr>\n",
       "      <th>metric_params</th>\n",
       "      <td>None</td>\n",
       "    </tr>\n",
       "    <tr>\n",
       "      <th>n_jobs</th>\n",
       "      <td>-1</td>\n",
       "    </tr>\n",
       "    <tr>\n",
       "      <th>n_neighbors</th>\n",
       "      <td>5</td>\n",
       "    </tr>\n",
       "    <tr>\n",
       "      <th>p</th>\n",
       "      <td>2</td>\n",
       "    </tr>\n",
       "    <tr>\n",
       "      <th>weights</th>\n",
       "      <td>uniform</td>\n",
       "    </tr>\n",
       "  </tbody>\n",
       "</table>\n",
       "</div>"
      ],
      "text/plain": [
       "              Parameters\n",
       "algorithm           auto\n",
       "leaf_size             30\n",
       "metric         minkowski\n",
       "metric_params       None\n",
       "n_jobs                -1\n",
       "n_neighbors            5\n",
       "p                      2\n",
       "weights          uniform"
      ]
     },
     "metadata": {},
     "output_type": "display_data"
    }
   ],
   "source": [
    "plot_model(knn, plot = 'parameter')"
   ]
  },
  {
   "cell_type": "code",
   "execution_count": 9,
   "metadata": {},
   "outputs": [
    {
     "name": "stdout",
     "output_type": "stream",
     "text": [
      "Transformation Pipeline and Model Successfully Saved\n"
     ]
    },
    {
     "data": {
      "text/plain": [
       "(Pipeline(memory=FastMemory(location=/tmp/joblib),\n",
       "          steps=[('numerical_imputer',\n",
       "                  TransformerWrapper(exclude=None,\n",
       "                                     include=['0', '1', '2', '3', '4', '5', '6',\n",
       "                                              '7', '8', '9', '10', '11', '12',\n",
       "                                              '13', '14', '15', '16', '17', '18',\n",
       "                                              '19', '20', '21', '22', '23', '24',\n",
       "                                              '25', '26', '27', '28', '29', ...],\n",
       "                                     transformer=SimpleImputer(add_indicator=False,\n",
       "                                                               copy=True,\n",
       "                                                               fill_value=None,\n",
       "                                                               keep_empty_feat...\n",
       "                  TransformerWrapper(exclude=None, include=[],\n",
       "                                     transformer=SimpleImputer(add_indicator=False,\n",
       "                                                               copy=True,\n",
       "                                                               fill_value=None,\n",
       "                                                               keep_empty_features=False,\n",
       "                                                               missing_values=nan,\n",
       "                                                               strategy='most_frequent',\n",
       "                                                               verbose='deprecated'))),\n",
       "                 ('trained_model',\n",
       "                  KNeighborsClassifier(algorithm='auto', leaf_size=30,\n",
       "                                       metric='minkowski', metric_params=None,\n",
       "                                       n_jobs=-1, n_neighbors=5, p=2,\n",
       "                                       weights='uniform'))],\n",
       "          verbose=False),\n",
       " 'models_classif/toruse/knn.pkl')"
      ]
     },
     "execution_count": 9,
     "metadata": {},
     "output_type": "execute_result"
    }
   ],
   "source": [
    "save_model(knn, 'models_classif/toruse/knn')"
   ]
  },
  {
   "cell_type": "markdown",
   "metadata": {},
   "source": [
    "# Naive Bayes"
   ]
  },
  {
   "cell_type": "code",
   "execution_count": 10,
   "metadata": {
    "tags": []
   },
   "outputs": [
    {
     "data": {
      "text/html": [],
      "text/plain": [
       "<IPython.core.display.HTML object>"
      ]
     },
     "metadata": {},
     "output_type": "display_data"
    },
    {
     "data": {
      "text/html": [
       "<style type=\"text/css\">\n",
       "#T_35c3b_row10_col0, #T_35c3b_row10_col1, #T_35c3b_row10_col2, #T_35c3b_row10_col3, #T_35c3b_row10_col4, #T_35c3b_row10_col5, #T_35c3b_row10_col6 {\n",
       "  background: yellow;\n",
       "}\n",
       "</style>\n",
       "<table id=\"T_35c3b\">\n",
       "  <thead>\n",
       "    <tr>\n",
       "      <th class=\"blank level0\" >&nbsp;</th>\n",
       "      <th id=\"T_35c3b_level0_col0\" class=\"col_heading level0 col0\" >Accuracy</th>\n",
       "      <th id=\"T_35c3b_level0_col1\" class=\"col_heading level0 col1\" >AUC</th>\n",
       "      <th id=\"T_35c3b_level0_col2\" class=\"col_heading level0 col2\" >Recall</th>\n",
       "      <th id=\"T_35c3b_level0_col3\" class=\"col_heading level0 col3\" >Prec.</th>\n",
       "      <th id=\"T_35c3b_level0_col4\" class=\"col_heading level0 col4\" >F1</th>\n",
       "      <th id=\"T_35c3b_level0_col5\" class=\"col_heading level0 col5\" >Kappa</th>\n",
       "      <th id=\"T_35c3b_level0_col6\" class=\"col_heading level0 col6\" >MCC</th>\n",
       "    </tr>\n",
       "    <tr>\n",
       "      <th class=\"index_name level0\" >Fold</th>\n",
       "      <th class=\"blank col0\" >&nbsp;</th>\n",
       "      <th class=\"blank col1\" >&nbsp;</th>\n",
       "      <th class=\"blank col2\" >&nbsp;</th>\n",
       "      <th class=\"blank col3\" >&nbsp;</th>\n",
       "      <th class=\"blank col4\" >&nbsp;</th>\n",
       "      <th class=\"blank col5\" >&nbsp;</th>\n",
       "      <th class=\"blank col6\" >&nbsp;</th>\n",
       "    </tr>\n",
       "  </thead>\n",
       "  <tbody>\n",
       "    <tr>\n",
       "      <th id=\"T_35c3b_level0_row0\" class=\"row_heading level0 row0\" >0</th>\n",
       "      <td id=\"T_35c3b_row0_col0\" class=\"data row0 col0\" >0.8396</td>\n",
       "      <td id=\"T_35c3b_row0_col1\" class=\"data row0 col1\" >0.8571</td>\n",
       "      <td id=\"T_35c3b_row0_col2\" class=\"data row0 col2\" >0.9371</td>\n",
       "      <td id=\"T_35c3b_row0_col3\" class=\"data row0 col3\" >0.7842</td>\n",
       "      <td id=\"T_35c3b_row0_col4\" class=\"data row0 col4\" >0.8538</td>\n",
       "      <td id=\"T_35c3b_row0_col5\" class=\"data row0 col5\" >0.6792</td>\n",
       "      <td id=\"T_35c3b_row0_col6\" class=\"data row0 col6\" >0.6925</td>\n",
       "    </tr>\n",
       "    <tr>\n",
       "      <th id=\"T_35c3b_level0_row1\" class=\"row_heading level0 row1\" >1</th>\n",
       "      <td id=\"T_35c3b_row1_col0\" class=\"data row1 col0\" >0.8375</td>\n",
       "      <td id=\"T_35c3b_row1_col1\" class=\"data row1 col1\" >0.8557</td>\n",
       "      <td id=\"T_35c3b_row1_col2\" class=\"data row1 col2\" >0.9353</td>\n",
       "      <td id=\"T_35c3b_row1_col3\" class=\"data row1 col3\" >0.7823</td>\n",
       "      <td id=\"T_35c3b_row1_col4\" class=\"data row1 col4\" >0.8519</td>\n",
       "      <td id=\"T_35c3b_row1_col5\" class=\"data row1 col5\" >0.6749</td>\n",
       "      <td id=\"T_35c3b_row1_col6\" class=\"data row1 col6\" >0.6882</td>\n",
       "    </tr>\n",
       "    <tr>\n",
       "      <th id=\"T_35c3b_level0_row2\" class=\"row_heading level0 row2\" >2</th>\n",
       "      <td id=\"T_35c3b_row2_col0\" class=\"data row2 col0\" >0.8337</td>\n",
       "      <td id=\"T_35c3b_row2_col1\" class=\"data row2 col1\" >0.8534</td>\n",
       "      <td id=\"T_35c3b_row2_col2\" class=\"data row2 col2\" >0.9305</td>\n",
       "      <td id=\"T_35c3b_row2_col3\" class=\"data row2 col3\" >0.7796</td>\n",
       "      <td id=\"T_35c3b_row2_col4\" class=\"data row2 col4\" >0.8484</td>\n",
       "      <td id=\"T_35c3b_row2_col5\" class=\"data row2 col5\" >0.6674</td>\n",
       "      <td id=\"T_35c3b_row2_col6\" class=\"data row2 col6\" >0.6803</td>\n",
       "    </tr>\n",
       "    <tr>\n",
       "      <th id=\"T_35c3b_level0_row3\" class=\"row_heading level0 row3\" >3</th>\n",
       "      <td id=\"T_35c3b_row3_col0\" class=\"data row3 col0\" >0.8362</td>\n",
       "      <td id=\"T_35c3b_row3_col1\" class=\"data row3 col1\" >0.8544</td>\n",
       "      <td id=\"T_35c3b_row3_col2\" class=\"data row3 col2\" >0.9365</td>\n",
       "      <td id=\"T_35c3b_row3_col3\" class=\"data row3 col3\" >0.7800</td>\n",
       "      <td id=\"T_35c3b_row3_col4\" class=\"data row3 col4\" >0.8511</td>\n",
       "      <td id=\"T_35c3b_row3_col5\" class=\"data row3 col5\" >0.6724</td>\n",
       "      <td id=\"T_35c3b_row3_col6\" class=\"data row3 col6\" >0.6863</td>\n",
       "    </tr>\n",
       "    <tr>\n",
       "      <th id=\"T_35c3b_level0_row4\" class=\"row_heading level0 row4\" >4</th>\n",
       "      <td id=\"T_35c3b_row4_col0\" class=\"data row4 col0\" >0.8397</td>\n",
       "      <td id=\"T_35c3b_row4_col1\" class=\"data row4 col1\" >0.8570</td>\n",
       "      <td id=\"T_35c3b_row4_col2\" class=\"data row4 col2\" >0.9354</td>\n",
       "      <td id=\"T_35c3b_row4_col3\" class=\"data row4 col3\" >0.7851</td>\n",
       "      <td id=\"T_35c3b_row4_col4\" class=\"data row4 col4\" >0.8537</td>\n",
       "      <td id=\"T_35c3b_row4_col5\" class=\"data row4 col5\" >0.6793</td>\n",
       "      <td id=\"T_35c3b_row4_col6\" class=\"data row4 col6\" >0.6921</td>\n",
       "    </tr>\n",
       "    <tr>\n",
       "      <th id=\"T_35c3b_level0_row5\" class=\"row_heading level0 row5\" >5</th>\n",
       "      <td id=\"T_35c3b_row5_col0\" class=\"data row5 col0\" >0.8367</td>\n",
       "      <td id=\"T_35c3b_row5_col1\" class=\"data row5 col1\" >0.8545</td>\n",
       "      <td id=\"T_35c3b_row5_col2\" class=\"data row5 col2\" >0.9331</td>\n",
       "      <td id=\"T_35c3b_row5_col3\" class=\"data row5 col3\" >0.7823</td>\n",
       "      <td id=\"T_35c3b_row5_col4\" class=\"data row5 col4\" >0.8510</td>\n",
       "      <td id=\"T_35c3b_row5_col5\" class=\"data row5 col5\" >0.6734</td>\n",
       "      <td id=\"T_35c3b_row5_col6\" class=\"data row5 col6\" >0.6863</td>\n",
       "    </tr>\n",
       "    <tr>\n",
       "      <th id=\"T_35c3b_level0_row6\" class=\"row_heading level0 row6\" >6</th>\n",
       "      <td id=\"T_35c3b_row6_col0\" class=\"data row6 col0\" >0.8375</td>\n",
       "      <td id=\"T_35c3b_row6_col1\" class=\"data row6 col1\" >0.8560</td>\n",
       "      <td id=\"T_35c3b_row6_col2\" class=\"data row6 col2\" >0.9366</td>\n",
       "      <td id=\"T_35c3b_row6_col3\" class=\"data row6 col3\" >0.7817</td>\n",
       "      <td id=\"T_35c3b_row6_col4\" class=\"data row6 col4\" >0.8522</td>\n",
       "      <td id=\"T_35c3b_row6_col5\" class=\"data row6 col5\" >0.6750</td>\n",
       "      <td id=\"T_35c3b_row6_col6\" class=\"data row6 col6\" >0.6887</td>\n",
       "    </tr>\n",
       "    <tr>\n",
       "      <th id=\"T_35c3b_level0_row7\" class=\"row_heading level0 row7\" >7</th>\n",
       "      <td id=\"T_35c3b_row7_col0\" class=\"data row7 col0\" >0.8389</td>\n",
       "      <td id=\"T_35c3b_row7_col1\" class=\"data row7 col1\" >0.8576</td>\n",
       "      <td id=\"T_35c3b_row7_col2\" class=\"data row7 col2\" >0.9340</td>\n",
       "      <td id=\"T_35c3b_row7_col3\" class=\"data row7 col3\" >0.7847</td>\n",
       "      <td id=\"T_35c3b_row7_col4\" class=\"data row7 col4\" >0.8529</td>\n",
       "      <td id=\"T_35c3b_row7_col5\" class=\"data row7 col5\" >0.6778</td>\n",
       "      <td id=\"T_35c3b_row7_col6\" class=\"data row7 col6\" >0.6904</td>\n",
       "    </tr>\n",
       "    <tr>\n",
       "      <th id=\"T_35c3b_level0_row8\" class=\"row_heading level0 row8\" >8</th>\n",
       "      <td id=\"T_35c3b_row8_col0\" class=\"data row8 col0\" >0.8339</td>\n",
       "      <td id=\"T_35c3b_row8_col1\" class=\"data row8 col1\" >0.8515</td>\n",
       "      <td id=\"T_35c3b_row8_col2\" class=\"data row8 col2\" >0.9326</td>\n",
       "      <td id=\"T_35c3b_row8_col3\" class=\"data row8 col3\" >0.7788</td>\n",
       "      <td id=\"T_35c3b_row8_col4\" class=\"data row8 col4\" >0.8488</td>\n",
       "      <td id=\"T_35c3b_row8_col5\" class=\"data row8 col5\" >0.6678</td>\n",
       "      <td id=\"T_35c3b_row8_col6\" class=\"data row8 col6\" >0.6812</td>\n",
       "    </tr>\n",
       "    <tr>\n",
       "      <th id=\"T_35c3b_level0_row9\" class=\"row_heading level0 row9\" >9</th>\n",
       "      <td id=\"T_35c3b_row9_col0\" class=\"data row9 col0\" >0.8363</td>\n",
       "      <td id=\"T_35c3b_row9_col1\" class=\"data row9 col1\" >0.8558</td>\n",
       "      <td id=\"T_35c3b_row9_col2\" class=\"data row9 col2\" >0.9342</td>\n",
       "      <td id=\"T_35c3b_row9_col3\" class=\"data row9 col3\" >0.7812</td>\n",
       "      <td id=\"T_35c3b_row9_col4\" class=\"data row9 col4\" >0.8509</td>\n",
       "      <td id=\"T_35c3b_row9_col5\" class=\"data row9 col5\" >0.6725</td>\n",
       "      <td id=\"T_35c3b_row9_col6\" class=\"data row9 col6\" >0.6858</td>\n",
       "    </tr>\n",
       "    <tr>\n",
       "      <th id=\"T_35c3b_level0_row10\" class=\"row_heading level0 row10\" >Mean</th>\n",
       "      <td id=\"T_35c3b_row10_col0\" class=\"data row10 col0\" >0.8370</td>\n",
       "      <td id=\"T_35c3b_row10_col1\" class=\"data row10 col1\" >0.8553</td>\n",
       "      <td id=\"T_35c3b_row10_col2\" class=\"data row10 col2\" >0.9345</td>\n",
       "      <td id=\"T_35c3b_row10_col3\" class=\"data row10 col3\" >0.7820</td>\n",
       "      <td id=\"T_35c3b_row10_col4\" class=\"data row10 col4\" >0.8515</td>\n",
       "      <td id=\"T_35c3b_row10_col5\" class=\"data row10 col5\" >0.6740</td>\n",
       "      <td id=\"T_35c3b_row10_col6\" class=\"data row10 col6\" >0.6872</td>\n",
       "    </tr>\n",
       "    <tr>\n",
       "      <th id=\"T_35c3b_level0_row11\" class=\"row_heading level0 row11\" >Std</th>\n",
       "      <td id=\"T_35c3b_row11_col0\" class=\"data row11 col0\" >0.0020</td>\n",
       "      <td id=\"T_35c3b_row11_col1\" class=\"data row11 col1\" >0.0018</td>\n",
       "      <td id=\"T_35c3b_row11_col2\" class=\"data row11 col2\" >0.0020</td>\n",
       "      <td id=\"T_35c3b_row11_col3\" class=\"data row11 col3\" >0.0021</td>\n",
       "      <td id=\"T_35c3b_row11_col4\" class=\"data row11 col4\" >0.0017</td>\n",
       "      <td id=\"T_35c3b_row11_col5\" class=\"data row11 col5\" >0.0040</td>\n",
       "      <td id=\"T_35c3b_row11_col6\" class=\"data row11 col6\" >0.0039</td>\n",
       "    </tr>\n",
       "  </tbody>\n",
       "</table>\n"
      ],
      "text/plain": [
       "<pandas.io.formats.style.Styler at 0x7f478b7581f0>"
      ]
     },
     "metadata": {},
     "output_type": "display_data"
    },
    {
     "data": {
      "text/html": [],
      "text/plain": [
       "<IPython.core.display.HTML object>"
      ]
     },
     "metadata": {},
     "output_type": "display_data"
    }
   ],
   "source": [
    "nb = create_model('nb')"
   ]
  },
  {
   "cell_type": "code",
   "execution_count": 11,
   "metadata": {},
   "outputs": [
    {
     "data": {
      "text/html": [],
      "text/plain": [
       "<IPython.core.display.HTML object>"
      ]
     },
     "metadata": {},
     "output_type": "display_data"
    },
    {
     "data": {
      "image/png": "[encoded data removed]",
      "text/plain": [
       "<Figure size 800x550 with 1 Axes>"
      ]
     },
     "metadata": {},
     "output_type": "display_data"
    }
   ],
   "source": [
    "plot_model(nb, plot = 'confusion_matrix')"
   ]
  },
  {
   "cell_type": "code",
   "execution_count": 12,
   "metadata": {},
   "outputs": [
    {
     "data": {
      "text/html": [],
      "text/plain": [
       "<IPython.core.display.HTML object>"
      ]
     },
     "metadata": {},
     "output_type": "display_data"
    },
    {
     "data": {
      "image/png": "[encoded data removed]",
      "text/plain": [
       "<Figure size 800x550 with 1 Axes>"
      ]
     },
     "metadata": {},
     "output_type": "display_data"
    }
   ],
   "source": [
    "plot_model(nb, plot = 'error')"
   ]
  },
  {
   "cell_type": "code",
   "execution_count": 13,
   "metadata": {},
   "outputs": [
    {
     "data": {
      "text/html": [],
      "text/plain": [
       "<IPython.core.display.HTML object>"
      ]
     },
     "metadata": {},
     "output_type": "display_data"
    },
    {
     "data": {
      "text/html": [
       "<div>\n",
       "<style scoped>\n",
       "    .dataframe tbody tr th:only-of-type {\n",
       "        vertical-align: middle;\n",
       "    }\n",
       "\n",
       "    .dataframe tbody tr th {\n",
       "        vertical-align: top;\n",
       "    }\n",
       "\n",
       "    .dataframe thead th {\n",
       "        text-align: right;\n",
       "    }\n",
       "</style>\n",
       "<table border=\"1\" class=\"dataframe\">\n",
       "  <thead>\n",
       "    <tr style=\"text-align: right;\">\n",
       "      <th></th>\n",
       "      <th>Parameters</th>\n",
       "    </tr>\n",
       "  </thead>\n",
       "  <tbody>\n",
       "    <tr>\n",
       "      <th>priors</th>\n",
       "      <td>None</td>\n",
       "    </tr>\n",
       "    <tr>\n",
       "      <th>var_smoothing</th>\n",
       "      <td>1e-09</td>\n",
       "    </tr>\n",
       "  </tbody>\n",
       "</table>\n",
       "</div>"
      ],
      "text/plain": [
       "              Parameters\n",
       "priors              None\n",
       "var_smoothing      1e-09"
      ]
     },
     "metadata": {},
     "output_type": "display_data"
    }
   ],
   "source": [
    "plot_model(nb, plot = 'parameter')"
   ]
  },
  {
   "cell_type": "code",
   "execution_count": 14,
   "metadata": {},
   "outputs": [
    {
     "name": "stdout",
     "output_type": "stream",
     "text": [
      "Transformation Pipeline and Model Successfully Saved\n"
     ]
    },
    {
     "data": {
      "text/plain": [
       "(Pipeline(memory=FastMemory(location=/tmp/joblib),\n",
       "          steps=[('numerical_imputer',\n",
       "                  TransformerWrapper(exclude=None,\n",
       "                                     include=['0', '1', '2', '3', '4', '5', '6',\n",
       "                                              '7', '8', '9', '10', '11', '12',\n",
       "                                              '13', '14', '15', '16', '17', '18',\n",
       "                                              '19', '20', '21', '22', '23', '24',\n",
       "                                              '25', '26', '27', '28', '29', ...],\n",
       "                                     transformer=SimpleImputer(add_indicator=False,\n",
       "                                                               copy=True,\n",
       "                                                               fill_value=None,\n",
       "                                                               keep_empty_feat...\n",
       "                                                               missing_values=nan,\n",
       "                                                               strategy='mean',\n",
       "                                                               verbose='deprecated'))),\n",
       "                 ('categorical_imputer',\n",
       "                  TransformerWrapper(exclude=None, include=[],\n",
       "                                     transformer=SimpleImputer(add_indicator=False,\n",
       "                                                               copy=True,\n",
       "                                                               fill_value=None,\n",
       "                                                               keep_empty_features=False,\n",
       "                                                               missing_values=nan,\n",
       "                                                               strategy='most_frequent',\n",
       "                                                               verbose='deprecated'))),\n",
       "                 ('trained_model',\n",
       "                  GaussianNB(priors=None, var_smoothing=1e-09))],\n",
       "          verbose=False),\n",
       " 'models_classif/toruse/nb.pkl')"
      ]
     },
     "execution_count": 14,
     "metadata": {},
     "output_type": "execute_result"
    }
   ],
   "source": [
    "save_model(nb, 'models_classif/toruse/nb')"
   ]
  },
  {
   "cell_type": "markdown",
   "metadata": {},
   "source": [
    "# Decision Tree Classifier"
   ]
  },
  {
   "cell_type": "code",
   "execution_count": 15,
   "metadata": {},
   "outputs": [
    {
     "data": {
      "text/html": [],
      "text/plain": [
       "<IPython.core.display.HTML object>"
      ]
     },
     "metadata": {},
     "output_type": "display_data"
    },
    {
     "data": {
      "text/html": [
       "<style type=\"text/css\">\n",
       "#T_c6667_row10_col0, #T_c6667_row10_col1, #T_c6667_row10_col2, #T_c6667_row10_col3, #T_c6667_row10_col4, #T_c6667_row10_col5, #T_c6667_row10_col6 {\n",
       "  background: yellow;\n",
       "}\n",
       "</style>\n",
       "<table id=\"T_c6667\">\n",
       "  <thead>\n",
       "    <tr>\n",
       "      <th class=\"blank level0\" >&nbsp;</th>\n",
       "      <th id=\"T_c6667_level0_col0\" class=\"col_heading level0 col0\" >Accuracy</th>\n",
       "      <th id=\"T_c6667_level0_col1\" class=\"col_heading level0 col1\" >AUC</th>\n",
       "      <th id=\"T_c6667_level0_col2\" class=\"col_heading level0 col2\" >Recall</th>\n",
       "      <th id=\"T_c6667_level0_col3\" class=\"col_heading level0 col3\" >Prec.</th>\n",
       "      <th id=\"T_c6667_level0_col4\" class=\"col_heading level0 col4\" >F1</th>\n",
       "      <th id=\"T_c6667_level0_col5\" class=\"col_heading level0 col5\" >Kappa</th>\n",
       "      <th id=\"T_c6667_level0_col6\" class=\"col_heading level0 col6\" >MCC</th>\n",
       "    </tr>\n",
       "    <tr>\n",
       "      <th class=\"index_name level0\" >Fold</th>\n",
       "      <th class=\"blank col0\" >&nbsp;</th>\n",
       "      <th class=\"blank col1\" >&nbsp;</th>\n",
       "      <th class=\"blank col2\" >&nbsp;</th>\n",
       "      <th class=\"blank col3\" >&nbsp;</th>\n",
       "      <th class=\"blank col4\" >&nbsp;</th>\n",
       "      <th class=\"blank col5\" >&nbsp;</th>\n",
       "      <th class=\"blank col6\" >&nbsp;</th>\n",
       "    </tr>\n",
       "  </thead>\n",
       "  <tbody>\n",
       "    <tr>\n",
       "      <th id=\"T_c6667_level0_row0\" class=\"row_heading level0 row0\" >0</th>\n",
       "      <td id=\"T_c6667_row0_col0\" class=\"data row0 col0\" >0.8238</td>\n",
       "      <td id=\"T_c6667_row0_col1\" class=\"data row0 col1\" >0.8240</td>\n",
       "      <td id=\"T_c6667_row0_col2\" class=\"data row0 col2\" >0.8190</td>\n",
       "      <td id=\"T_c6667_row0_col3\" class=\"data row0 col3\" >0.8269</td>\n",
       "      <td id=\"T_c6667_row0_col4\" class=\"data row0 col4\" >0.8229</td>\n",
       "      <td id=\"T_c6667_row0_col5\" class=\"data row0 col5\" >0.6476</td>\n",
       "      <td id=\"T_c6667_row0_col6\" class=\"data row0 col6\" >0.6476</td>\n",
       "    </tr>\n",
       "    <tr>\n",
       "      <th id=\"T_c6667_level0_row1\" class=\"row_heading level0 row1\" >1</th>\n",
       "      <td id=\"T_c6667_row1_col0\" class=\"data row1 col0\" >0.8237</td>\n",
       "      <td id=\"T_c6667_row1_col1\" class=\"data row1 col1\" >0.8238</td>\n",
       "      <td id=\"T_c6667_row1_col2\" class=\"data row1 col2\" >0.8186</td>\n",
       "      <td id=\"T_c6667_row1_col3\" class=\"data row1 col3\" >0.8270</td>\n",
       "      <td id=\"T_c6667_row1_col4\" class=\"data row1 col4\" >0.8228</td>\n",
       "      <td id=\"T_c6667_row1_col5\" class=\"data row1 col5\" >0.6474</td>\n",
       "      <td id=\"T_c6667_row1_col6\" class=\"data row1 col6\" >0.6474</td>\n",
       "    </tr>\n",
       "    <tr>\n",
       "      <th id=\"T_c6667_level0_row2\" class=\"row_heading level0 row2\" >2</th>\n",
       "      <td id=\"T_c6667_row2_col0\" class=\"data row2 col0\" >0.8201</td>\n",
       "      <td id=\"T_c6667_row2_col1\" class=\"data row2 col1\" >0.8202</td>\n",
       "      <td id=\"T_c6667_row2_col2\" class=\"data row2 col2\" >0.8174</td>\n",
       "      <td id=\"T_c6667_row2_col3\" class=\"data row2 col3\" >0.8218</td>\n",
       "      <td id=\"T_c6667_row2_col4\" class=\"data row2 col4\" >0.8196</td>\n",
       "      <td id=\"T_c6667_row2_col5\" class=\"data row2 col5\" >0.6402</td>\n",
       "      <td id=\"T_c6667_row2_col6\" class=\"data row2 col6\" >0.6402</td>\n",
       "    </tr>\n",
       "    <tr>\n",
       "      <th id=\"T_c6667_level0_row3\" class=\"row_heading level0 row3\" >3</th>\n",
       "      <td id=\"T_c6667_row3_col0\" class=\"data row3 col0\" >0.8179</td>\n",
       "      <td id=\"T_c6667_row3_col1\" class=\"data row3 col1\" >0.8180</td>\n",
       "      <td id=\"T_c6667_row3_col2\" class=\"data row3 col2\" >0.8158</td>\n",
       "      <td id=\"T_c6667_row3_col3\" class=\"data row3 col3\" >0.8192</td>\n",
       "      <td id=\"T_c6667_row3_col4\" class=\"data row3 col4\" >0.8175</td>\n",
       "      <td id=\"T_c6667_row3_col5\" class=\"data row3 col5\" >0.6358</td>\n",
       "      <td id=\"T_c6667_row3_col6\" class=\"data row3 col6\" >0.6358</td>\n",
       "    </tr>\n",
       "    <tr>\n",
       "      <th id=\"T_c6667_level0_row4\" class=\"row_heading level0 row4\" >4</th>\n",
       "      <td id=\"T_c6667_row4_col0\" class=\"data row4 col0\" >0.8233</td>\n",
       "      <td id=\"T_c6667_row4_col1\" class=\"data row4 col1\" >0.8234</td>\n",
       "      <td id=\"T_c6667_row4_col2\" class=\"data row4 col2\" >0.8185</td>\n",
       "      <td id=\"T_c6667_row4_col3\" class=\"data row4 col3\" >0.8265</td>\n",
       "      <td id=\"T_c6667_row4_col4\" class=\"data row4 col4\" >0.8225</td>\n",
       "      <td id=\"T_c6667_row4_col5\" class=\"data row4 col5\" >0.6467</td>\n",
       "      <td id=\"T_c6667_row4_col6\" class=\"data row4 col6\" >0.6467</td>\n",
       "    </tr>\n",
       "    <tr>\n",
       "      <th id=\"T_c6667_level0_row5\" class=\"row_heading level0 row5\" >5</th>\n",
       "      <td id=\"T_c6667_row5_col0\" class=\"data row5 col0\" >0.8198</td>\n",
       "      <td id=\"T_c6667_row5_col1\" class=\"data row5 col1\" >0.8199</td>\n",
       "      <td id=\"T_c6667_row5_col2\" class=\"data row5 col2\" >0.8131</td>\n",
       "      <td id=\"T_c6667_row5_col3\" class=\"data row5 col3\" >0.8242</td>\n",
       "      <td id=\"T_c6667_row5_col4\" class=\"data row5 col4\" >0.8186</td>\n",
       "      <td id=\"T_c6667_row5_col5\" class=\"data row5 col5\" >0.6396</td>\n",
       "      <td id=\"T_c6667_row5_col6\" class=\"data row5 col6\" >0.6397</td>\n",
       "    </tr>\n",
       "    <tr>\n",
       "      <th id=\"T_c6667_level0_row6\" class=\"row_heading level0 row6\" >6</th>\n",
       "      <td id=\"T_c6667_row6_col0\" class=\"data row6 col0\" >0.8213</td>\n",
       "      <td id=\"T_c6667_row6_col1\" class=\"data row6 col1\" >0.8214</td>\n",
       "      <td id=\"T_c6667_row6_col2\" class=\"data row6 col2\" >0.8193</td>\n",
       "      <td id=\"T_c6667_row6_col3\" class=\"data row6 col3\" >0.8226</td>\n",
       "      <td id=\"T_c6667_row6_col4\" class=\"data row6 col4\" >0.8210</td>\n",
       "      <td id=\"T_c6667_row6_col5\" class=\"data row6 col5\" >0.6426</td>\n",
       "      <td id=\"T_c6667_row6_col6\" class=\"data row6 col6\" >0.6426</td>\n",
       "    </tr>\n",
       "    <tr>\n",
       "      <th id=\"T_c6667_level0_row7\" class=\"row_heading level0 row7\" >7</th>\n",
       "      <td id=\"T_c6667_row7_col0\" class=\"data row7 col0\" >0.8204</td>\n",
       "      <td id=\"T_c6667_row7_col1\" class=\"data row7 col1\" >0.8205</td>\n",
       "      <td id=\"T_c6667_row7_col2\" class=\"data row7 col2\" >0.8175</td>\n",
       "      <td id=\"T_c6667_row7_col3\" class=\"data row7 col3\" >0.8223</td>\n",
       "      <td id=\"T_c6667_row7_col4\" class=\"data row7 col4\" >0.8199</td>\n",
       "      <td id=\"T_c6667_row7_col5\" class=\"data row7 col5\" >0.6408</td>\n",
       "      <td id=\"T_c6667_row7_col6\" class=\"data row7 col6\" >0.6408</td>\n",
       "    </tr>\n",
       "    <tr>\n",
       "      <th id=\"T_c6667_level0_row8\" class=\"row_heading level0 row8\" >8</th>\n",
       "      <td id=\"T_c6667_row8_col0\" class=\"data row8 col0\" >0.8215</td>\n",
       "      <td id=\"T_c6667_row8_col1\" class=\"data row8 col1\" >0.8215</td>\n",
       "      <td id=\"T_c6667_row8_col2\" class=\"data row8 col2\" >0.8203</td>\n",
       "      <td id=\"T_c6667_row8_col3\" class=\"data row8 col3\" >0.8222</td>\n",
       "      <td id=\"T_c6667_row8_col4\" class=\"data row8 col4\" >0.8212</td>\n",
       "      <td id=\"T_c6667_row8_col5\" class=\"data row8 col5\" >0.6429</td>\n",
       "      <td id=\"T_c6667_row8_col6\" class=\"data row8 col6\" >0.6429</td>\n",
       "    </tr>\n",
       "    <tr>\n",
       "      <th id=\"T_c6667_level0_row9\" class=\"row_heading level0 row9\" >9</th>\n",
       "      <td id=\"T_c6667_row9_col0\" class=\"data row9 col0\" >0.8201</td>\n",
       "      <td id=\"T_c6667_row9_col1\" class=\"data row9 col1\" >0.8202</td>\n",
       "      <td id=\"T_c6667_row9_col2\" class=\"data row9 col2\" >0.8166</td>\n",
       "      <td id=\"T_c6667_row9_col3\" class=\"data row9 col3\" >0.8224</td>\n",
       "      <td id=\"T_c6667_row9_col4\" class=\"data row9 col4\" >0.8195</td>\n",
       "      <td id=\"T_c6667_row9_col5\" class=\"data row9 col5\" >0.6402</td>\n",
       "      <td id=\"T_c6667_row9_col6\" class=\"data row9 col6\" >0.6402</td>\n",
       "    </tr>\n",
       "    <tr>\n",
       "      <th id=\"T_c6667_level0_row10\" class=\"row_heading level0 row10\" >Mean</th>\n",
       "      <td id=\"T_c6667_row10_col0\" class=\"data row10 col0\" >0.8212</td>\n",
       "      <td id=\"T_c6667_row10_col1\" class=\"data row10 col1\" >0.8213</td>\n",
       "      <td id=\"T_c6667_row10_col2\" class=\"data row10 col2\" >0.8176</td>\n",
       "      <td id=\"T_c6667_row10_col3\" class=\"data row10 col3\" >0.8235</td>\n",
       "      <td id=\"T_c6667_row10_col4\" class=\"data row10 col4\" >0.8205</td>\n",
       "      <td id=\"T_c6667_row10_col5\" class=\"data row10 col5\" >0.6424</td>\n",
       "      <td id=\"T_c6667_row10_col6\" class=\"data row10 col6\" >0.6424</td>\n",
       "    </tr>\n",
       "    <tr>\n",
       "      <th id=\"T_c6667_level0_row11\" class=\"row_heading level0 row11\" >Std</th>\n",
       "      <td id=\"T_c6667_row11_col0\" class=\"data row11 col0\" >0.0018</td>\n",
       "      <td id=\"T_c6667_row11_col1\" class=\"data row11 col1\" >0.0018</td>\n",
       "      <td id=\"T_c6667_row11_col2\" class=\"data row11 col2\" >0.0020</td>\n",
       "      <td id=\"T_c6667_row11_col3\" class=\"data row11 col3\" >0.0024</td>\n",
       "      <td id=\"T_c6667_row11_col4\" class=\"data row11 col4\" >0.0017</td>\n",
       "      <td id=\"T_c6667_row11_col5\" class=\"data row11 col5\" >0.0037</td>\n",
       "      <td id=\"T_c6667_row11_col6\" class=\"data row11 col6\" >0.0037</td>\n",
       "    </tr>\n",
       "  </tbody>\n",
       "</table>\n"
      ],
      "text/plain": [
       "<pandas.io.formats.style.Styler at 0x7f478b9a1b10>"
      ]
     },
     "metadata": {},
     "output_type": "display_data"
    },
    {
     "data": {
      "text/html": [],
      "text/plain": [
       "<IPython.core.display.HTML object>"
      ]
     },
     "metadata": {},
     "output_type": "display_data"
    }
   ],
   "source": [
    "dt = create_model('dt')"
   ]
  },
  {
   "cell_type": "code",
   "execution_count": 16,
   "metadata": {},
   "outputs": [
    {
     "data": {
      "text/html": [],
      "text/plain": [
       "<IPython.core.display.HTML object>"
      ]
     },
     "metadata": {},
     "output_type": "display_data"
    },
    {
     "data": {
      "image/png": "[encoded data removed]",
      "text/plain": [
       "<Figure size 800x550 with 1 Axes>"
      ]
     },
     "metadata": {},
     "output_type": "display_data"
    }
   ],
   "source": [
    "plot_model(dt, plot = 'confusion_matrix')"
   ]
  },
  {
   "cell_type": "code",
   "execution_count": 17,
   "metadata": {},
   "outputs": [
    {
     "data": {
      "text/html": [],
      "text/plain": [
       "<IPython.core.display.HTML object>"
      ]
     },
     "metadata": {},
     "output_type": "display_data"
    },
    {
     "data": {
      "image/png": "[encoded data removed]",
      "text/plain": [
       "<Figure size 800x550 with 1 Axes>"
      ]
     },
     "metadata": {},
     "output_type": "display_data"
    }
   ],
   "source": [
    "plot_model(dt, plot = 'error')"
   ]
  },
  {
   "cell_type": "code",
   "execution_count": 18,
   "metadata": {},
   "outputs": [
    {
     "data": {
      "text/html": [],
      "text/plain": [
       "<IPython.core.display.HTML object>"
      ]
     },
     "metadata": {},
     "output_type": "display_data"
    },
    {
     "data": {
      "text/html": [
       "<div>\n",
       "<style scoped>\n",
       "    .dataframe tbody tr th:only-of-type {\n",
       "        vertical-align: middle;\n",
       "    }\n",
       "\n",
       "    .dataframe tbody tr th {\n",
       "        vertical-align: top;\n",
       "    }\n",
       "\n",
       "    .dataframe thead th {\n",
       "        text-align: right;\n",
       "    }\n",
       "</style>\n",
       "<table border=\"1\" class=\"dataframe\">\n",
       "  <thead>\n",
       "    <tr style=\"text-align: right;\">\n",
       "      <th></th>\n",
       "      <th>Parameters</th>\n",
       "    </tr>\n",
       "  </thead>\n",
       "  <tbody>\n",
       "    <tr>\n",
       "      <th>ccp_alpha</th>\n",
       "      <td>0.0</td>\n",
       "    </tr>\n",
       "    <tr>\n",
       "      <th>class_weight</th>\n",
       "      <td>None</td>\n",
       "    </tr>\n",
       "    <tr>\n",
       "      <th>criterion</th>\n",
       "      <td>gini</td>\n",
       "    </tr>\n",
       "    <tr>\n",
       "      <th>max_depth</th>\n",
       "      <td>None</td>\n",
       "    </tr>\n",
       "    <tr>\n",
       "      <th>max_features</th>\n",
       "      <td>None</td>\n",
       "    </tr>\n",
       "    <tr>\n",
       "      <th>max_leaf_nodes</th>\n",
       "      <td>None</td>\n",
       "    </tr>\n",
       "    <tr>\n",
       "      <th>min_impurity_decrease</th>\n",
       "      <td>0.0</td>\n",
       "    </tr>\n",
       "    <tr>\n",
       "      <th>min_samples_leaf</th>\n",
       "      <td>1</td>\n",
       "    </tr>\n",
       "    <tr>\n",
       "      <th>min_samples_split</th>\n",
       "      <td>2</td>\n",
       "    </tr>\n",
       "    <tr>\n",
       "      <th>min_weight_fraction_leaf</th>\n",
       "      <td>0.0</td>\n",
       "    </tr>\n",
       "    <tr>\n",
       "      <th>random_state</th>\n",
       "      <td>5786</td>\n",
       "    </tr>\n",
       "    <tr>\n",
       "      <th>splitter</th>\n",
       "      <td>best</td>\n",
       "    </tr>\n",
       "  </tbody>\n",
       "</table>\n",
       "</div>"
      ],
      "text/plain": [
       "                         Parameters\n",
       "ccp_alpha                       0.0\n",
       "class_weight                   None\n",
       "criterion                      gini\n",
       "max_depth                      None\n",
       "max_features                   None\n",
       "max_leaf_nodes                 None\n",
       "min_impurity_decrease           0.0\n",
       "min_samples_leaf                  1\n",
       "min_samples_split                 2\n",
       "min_weight_fraction_leaf        0.0\n",
       "random_state                   5786\n",
       "splitter                       best"
      ]
     },
     "metadata": {},
     "output_type": "display_data"
    }
   ],
   "source": [
    "plot_model(dt, plot = 'parameter')"
   ]
  },
  {
   "cell_type": "code",
   "execution_count": 19,
   "metadata": {},
   "outputs": [
    {
     "name": "stdout",
     "output_type": "stream",
     "text": [
      "Transformation Pipeline and Model Successfully Saved\n"
     ]
    },
    {
     "data": {
      "text/plain": [
       "(Pipeline(memory=FastMemory(location=/tmp/joblib),\n",
       "          steps=[('numerical_imputer',\n",
       "                  TransformerWrapper(exclude=None,\n",
       "                                     include=['0', '1', '2', '3', '4', '5', '6',\n",
       "                                              '7', '8', '9', '10', '11', '12',\n",
       "                                              '13', '14', '15', '16', '17', '18',\n",
       "                                              '19', '20', '21', '22', '23', '24',\n",
       "                                              '25', '26', '27', '28', '29', ...],\n",
       "                                     transformer=SimpleImputer(add_indicator=False,\n",
       "                                                               copy=True,\n",
       "                                                               fill_value=None,\n",
       "                                                               keep_empty_feat...\n",
       "                                                               missing_values=nan,\n",
       "                                                               strategy='most_frequent',\n",
       "                                                               verbose='deprecated'))),\n",
       "                 ('trained_model',\n",
       "                  DecisionTreeClassifier(ccp_alpha=0.0, class_weight=None,\n",
       "                                         criterion='gini', max_depth=None,\n",
       "                                         max_features=None, max_leaf_nodes=None,\n",
       "                                         min_impurity_decrease=0.0,\n",
       "                                         min_samples_leaf=1, min_samples_split=2,\n",
       "                                         min_weight_fraction_leaf=0.0,\n",
       "                                         random_state=5786, splitter='best'))],\n",
       "          verbose=False),\n",
       " 'models_classif/toruse/dt.pkl')"
      ]
     },
     "execution_count": 19,
     "metadata": {},
     "output_type": "execute_result"
    }
   ],
   "source": [
    "save_model(dt, 'models_classif/toruse/dt')"
   ]
  },
  {
   "cell_type": "markdown",
   "metadata": {},
   "source": [
    "# SVM - Linear Kernel"
   ]
  },
  {
   "cell_type": "code",
   "execution_count": 20,
   "metadata": {},
   "outputs": [
    {
     "data": {
      "text/html": [],
      "text/plain": [
       "<IPython.core.display.HTML object>"
      ]
     },
     "metadata": {},
     "output_type": "display_data"
    },
    {
     "data": {
      "text/html": [
       "<style type=\"text/css\">\n",
       "#T_335ea_row10_col0, #T_335ea_row10_col1, #T_335ea_row10_col2, #T_335ea_row10_col3, #T_335ea_row10_col4, #T_335ea_row10_col5, #T_335ea_row10_col6 {\n",
       "  background: yellow;\n",
       "}\n",
       "</style>\n",
       "<table id=\"T_335ea\">\n",
       "  <thead>\n",
       "    <tr>\n",
       "      <th class=\"blank level0\" >&nbsp;</th>\n",
       "      <th id=\"T_335ea_level0_col0\" class=\"col_heading level0 col0\" >Accuracy</th>\n",
       "      <th id=\"T_335ea_level0_col1\" class=\"col_heading level0 col1\" >AUC</th>\n",
       "      <th id=\"T_335ea_level0_col2\" class=\"col_heading level0 col2\" >Recall</th>\n",
       "      <th id=\"T_335ea_level0_col3\" class=\"col_heading level0 col3\" >Prec.</th>\n",
       "      <th id=\"T_335ea_level0_col4\" class=\"col_heading level0 col4\" >F1</th>\n",
       "      <th id=\"T_335ea_level0_col5\" class=\"col_heading level0 col5\" >Kappa</th>\n",
       "      <th id=\"T_335ea_level0_col6\" class=\"col_heading level0 col6\" >MCC</th>\n",
       "    </tr>\n",
       "    <tr>\n",
       "      <th class=\"index_name level0\" >Fold</th>\n",
       "      <th class=\"blank col0\" >&nbsp;</th>\n",
       "      <th class=\"blank col1\" >&nbsp;</th>\n",
       "      <th class=\"blank col2\" >&nbsp;</th>\n",
       "      <th class=\"blank col3\" >&nbsp;</th>\n",
       "      <th class=\"blank col4\" >&nbsp;</th>\n",
       "      <th class=\"blank col5\" >&nbsp;</th>\n",
       "      <th class=\"blank col6\" >&nbsp;</th>\n",
       "    </tr>\n",
       "  </thead>\n",
       "  <tbody>\n",
       "    <tr>\n",
       "      <th id=\"T_335ea_level0_row0\" class=\"row_heading level0 row0\" >0</th>\n",
       "      <td id=\"T_335ea_row0_col0\" class=\"data row0 col0\" >0.8411</td>\n",
       "      <td id=\"T_335ea_row0_col1\" class=\"data row0 col1\" >0.0000</td>\n",
       "      <td id=\"T_335ea_row0_col2\" class=\"data row0 col2\" >0.9428</td>\n",
       "      <td id=\"T_335ea_row0_col3\" class=\"data row0 col3\" >0.7835</td>\n",
       "      <td id=\"T_335ea_row0_col4\" class=\"data row0 col4\" >0.8558</td>\n",
       "      <td id=\"T_335ea_row0_col5\" class=\"data row0 col5\" >0.6823</td>\n",
       "      <td id=\"T_335ea_row0_col6\" class=\"data row0 col6\" >0.6968</td>\n",
       "    </tr>\n",
       "    <tr>\n",
       "      <th id=\"T_335ea_level0_row1\" class=\"row_heading level0 row1\" >1</th>\n",
       "      <td id=\"T_335ea_row1_col0\" class=\"data row1 col0\" >0.8390</td>\n",
       "      <td id=\"T_335ea_row1_col1\" class=\"data row1 col1\" >0.0000</td>\n",
       "      <td id=\"T_335ea_row1_col2\" class=\"data row1 col2\" >0.9405</td>\n",
       "      <td id=\"T_335ea_row1_col3\" class=\"data row1 col3\" >0.7818</td>\n",
       "      <td id=\"T_335ea_row1_col4\" class=\"data row1 col4\" >0.8538</td>\n",
       "      <td id=\"T_335ea_row1_col5\" class=\"data row1 col5\" >0.6780</td>\n",
       "      <td id=\"T_335ea_row1_col6\" class=\"data row1 col6\" >0.6924</td>\n",
       "    </tr>\n",
       "    <tr>\n",
       "      <th id=\"T_335ea_level0_row2\" class=\"row_heading level0 row2\" >2</th>\n",
       "      <td id=\"T_335ea_row2_col0\" class=\"data row2 col0\" >0.8354</td>\n",
       "      <td id=\"T_335ea_row2_col1\" class=\"data row2 col1\" >0.0000</td>\n",
       "      <td id=\"T_335ea_row2_col2\" class=\"data row2 col2\" >0.9365</td>\n",
       "      <td id=\"T_335ea_row2_col3\" class=\"data row2 col3\" >0.7790</td>\n",
       "      <td id=\"T_335ea_row2_col4\" class=\"data row2 col4\" >0.8505</td>\n",
       "      <td id=\"T_335ea_row2_col5\" class=\"data row2 col5\" >0.6709</td>\n",
       "      <td id=\"T_335ea_row2_col6\" class=\"data row2 col6\" >0.6850</td>\n",
       "    </tr>\n",
       "    <tr>\n",
       "      <th id=\"T_335ea_level0_row3\" class=\"row_heading level0 row3\" >3</th>\n",
       "      <td id=\"T_335ea_row3_col0\" class=\"data row3 col0\" >0.8381</td>\n",
       "      <td id=\"T_335ea_row3_col1\" class=\"data row3 col1\" >0.0000</td>\n",
       "      <td id=\"T_335ea_row3_col2\" class=\"data row3 col2\" >0.9434</td>\n",
       "      <td id=\"T_335ea_row3_col3\" class=\"data row3 col3\" >0.7792</td>\n",
       "      <td id=\"T_335ea_row3_col4\" class=\"data row3 col4\" >0.8535</td>\n",
       "      <td id=\"T_335ea_row3_col5\" class=\"data row3 col5\" >0.6761</td>\n",
       "      <td id=\"T_335ea_row3_col6\" class=\"data row3 col6\" >0.6916</td>\n",
       "    </tr>\n",
       "    <tr>\n",
       "      <th id=\"T_335ea_level0_row4\" class=\"row_heading level0 row4\" >4</th>\n",
       "      <td id=\"T_335ea_row4_col0\" class=\"data row4 col0\" >0.8409</td>\n",
       "      <td id=\"T_335ea_row4_col1\" class=\"data row4 col1\" >0.0000</td>\n",
       "      <td id=\"T_335ea_row4_col2\" class=\"data row4 col2\" >0.9419</td>\n",
       "      <td id=\"T_335ea_row4_col3\" class=\"data row4 col3\" >0.7836</td>\n",
       "      <td id=\"T_335ea_row4_col4\" class=\"data row4 col4\" >0.8555</td>\n",
       "      <td id=\"T_335ea_row4_col5\" class=\"data row4 col5\" >0.6818</td>\n",
       "      <td id=\"T_335ea_row4_col6\" class=\"data row4 col6\" >0.6962</td>\n",
       "    </tr>\n",
       "    <tr>\n",
       "      <th id=\"T_335ea_level0_row5\" class=\"row_heading level0 row5\" >5</th>\n",
       "      <td id=\"T_335ea_row5_col0\" class=\"data row5 col0\" >0.8377</td>\n",
       "      <td id=\"T_335ea_row5_col1\" class=\"data row5 col1\" >0.0000</td>\n",
       "      <td id=\"T_335ea_row5_col2\" class=\"data row5 col2\" >0.9393</td>\n",
       "      <td id=\"T_335ea_row5_col3\" class=\"data row5 col3\" >0.7806</td>\n",
       "      <td id=\"T_335ea_row5_col4\" class=\"data row5 col4\" >0.8526</td>\n",
       "      <td id=\"T_335ea_row5_col5\" class=\"data row5 col5\" >0.6753</td>\n",
       "      <td id=\"T_335ea_row5_col6\" class=\"data row5 col6\" >0.6897</td>\n",
       "    </tr>\n",
       "    <tr>\n",
       "      <th id=\"T_335ea_level0_row6\" class=\"row_heading level0 row6\" >6</th>\n",
       "      <td id=\"T_335ea_row6_col0\" class=\"data row6 col0\" >0.8386</td>\n",
       "      <td id=\"T_335ea_row6_col1\" class=\"data row6 col1\" >0.0000</td>\n",
       "      <td id=\"T_335ea_row6_col2\" class=\"data row6 col2\" >0.9430</td>\n",
       "      <td id=\"T_335ea_row6_col3\" class=\"data row6 col3\" >0.7801</td>\n",
       "      <td id=\"T_335ea_row6_col4\" class=\"data row6 col4\" >0.8539</td>\n",
       "      <td id=\"T_335ea_row6_col5\" class=\"data row6 col5\" >0.6772</td>\n",
       "      <td id=\"T_335ea_row6_col6\" class=\"data row6 col6\" >0.6924</td>\n",
       "    </tr>\n",
       "    <tr>\n",
       "      <th id=\"T_335ea_level0_row7\" class=\"row_heading level0 row7\" >7</th>\n",
       "      <td id=\"T_335ea_row7_col0\" class=\"data row7 col0\" >0.8405</td>\n",
       "      <td id=\"T_335ea_row7_col1\" class=\"data row7 col1\" >0.0000</td>\n",
       "      <td id=\"T_335ea_row7_col2\" class=\"data row7 col2\" >0.9412</td>\n",
       "      <td id=\"T_335ea_row7_col3\" class=\"data row7 col3\" >0.7834</td>\n",
       "      <td id=\"T_335ea_row7_col4\" class=\"data row7 col4\" >0.8551</td>\n",
       "      <td id=\"T_335ea_row7_col5\" class=\"data row7 col5\" >0.6810</td>\n",
       "      <td id=\"T_335ea_row7_col6\" class=\"data row7 col6\" >0.6953</td>\n",
       "    </tr>\n",
       "    <tr>\n",
       "      <th id=\"T_335ea_level0_row8\" class=\"row_heading level0 row8\" >8</th>\n",
       "      <td id=\"T_335ea_row8_col0\" class=\"data row8 col0\" >0.8357</td>\n",
       "      <td id=\"T_335ea_row8_col1\" class=\"data row8 col1\" >0.0000</td>\n",
       "      <td id=\"T_335ea_row8_col2\" class=\"data row8 col2\" >0.9394</td>\n",
       "      <td id=\"T_335ea_row8_col3\" class=\"data row8 col3\" >0.7780</td>\n",
       "      <td id=\"T_335ea_row8_col4\" class=\"data row8 col4\" >0.8511</td>\n",
       "      <td id=\"T_335ea_row8_col5\" class=\"data row8 col5\" >0.6713</td>\n",
       "      <td id=\"T_335ea_row8_col6\" class=\"data row8 col6\" >0.6862</td>\n",
       "    </tr>\n",
       "    <tr>\n",
       "      <th id=\"T_335ea_level0_row9\" class=\"row_heading level0 row9\" >9</th>\n",
       "      <td id=\"T_335ea_row9_col0\" class=\"data row9 col0\" >0.8376</td>\n",
       "      <td id=\"T_335ea_row9_col1\" class=\"data row9 col1\" >0.0000</td>\n",
       "      <td id=\"T_335ea_row9_col2\" class=\"data row9 col2\" >0.9407</td>\n",
       "      <td id=\"T_335ea_row9_col3\" class=\"data row9 col3\" >0.7799</td>\n",
       "      <td id=\"T_335ea_row9_col4\" class=\"data row9 col4\" >0.8528</td>\n",
       "      <td id=\"T_335ea_row9_col5\" class=\"data row9 col5\" >0.6751</td>\n",
       "      <td id=\"T_335ea_row9_col6\" class=\"data row9 col6\" >0.6900</td>\n",
       "    </tr>\n",
       "    <tr>\n",
       "      <th id=\"T_335ea_level0_row10\" class=\"row_heading level0 row10\" >Mean</th>\n",
       "      <td id=\"T_335ea_row10_col0\" class=\"data row10 col0\" >0.8385</td>\n",
       "      <td id=\"T_335ea_row10_col1\" class=\"data row10 col1\" >0.0000</td>\n",
       "      <td id=\"T_335ea_row10_col2\" class=\"data row10 col2\" >0.9409</td>\n",
       "      <td id=\"T_335ea_row10_col3\" class=\"data row10 col3\" >0.7809</td>\n",
       "      <td id=\"T_335ea_row10_col4\" class=\"data row10 col4\" >0.8535</td>\n",
       "      <td id=\"T_335ea_row10_col5\" class=\"data row10 col5\" >0.6769</td>\n",
       "      <td id=\"T_335ea_row10_col6\" class=\"data row10 col6\" >0.6916</td>\n",
       "    </tr>\n",
       "    <tr>\n",
       "      <th id=\"T_335ea_level0_row11\" class=\"row_heading level0 row11\" >Std</th>\n",
       "      <td id=\"T_335ea_row11_col0\" class=\"data row11 col0\" >0.0019</td>\n",
       "      <td id=\"T_335ea_row11_col1\" class=\"data row11 col1\" >0.0000</td>\n",
       "      <td id=\"T_335ea_row11_col2\" class=\"data row11 col2\" >0.0020</td>\n",
       "      <td id=\"T_335ea_row11_col3\" class=\"data row11 col3\" >0.0019</td>\n",
       "      <td id=\"T_335ea_row11_col4\" class=\"data row11 col4\" >0.0017</td>\n",
       "      <td id=\"T_335ea_row11_col5\" class=\"data row11 col5\" >0.0038</td>\n",
       "      <td id=\"T_335ea_row11_col6\" class=\"data row11 col6\" >0.0038</td>\n",
       "    </tr>\n",
       "  </tbody>\n",
       "</table>\n"
      ],
      "text/plain": [
       "<pandas.io.formats.style.Styler at 0x7f478b9a2620>"
      ]
     },
     "metadata": {},
     "output_type": "display_data"
    },
    {
     "data": {
      "text/html": [],
      "text/plain": [
       "<IPython.core.display.HTML object>"
      ]
     },
     "metadata": {},
     "output_type": "display_data"
    }
   ],
   "source": [
    "svm = create_model('svm')"
   ]
  },
  {
   "cell_type": "code",
   "execution_count": 21,
   "metadata": {},
   "outputs": [
    {
     "data": {
      "text/html": [],
      "text/plain": [
       "<IPython.core.display.HTML object>"
      ]
     },
     "metadata": {},
     "output_type": "display_data"
    },
    {
     "data": {
      "image/png": "[encoded data removed]",
      "text/plain": [
       "<Figure size 800x550 with 1 Axes>"
      ]
     },
     "metadata": {},
     "output_type": "display_data"
    }
   ],
   "source": [
    "plot_model(svm, plot = 'confusion_matrix')"
   ]
  },
  {
   "cell_type": "code",
   "execution_count": 22,
   "metadata": {},
   "outputs": [
    {
     "data": {
      "text/html": [],
      "text/plain": [
       "<IPython.core.display.HTML object>"
      ]
     },
     "metadata": {},
     "output_type": "display_data"
    },
    {
     "data": {
      "image/png": "[encoded data removed]",
      "text/plain": [
       "<Figure size 800x550 with 1 Axes>"
      ]
     },
     "metadata": {},
     "output_type": "display_data"
    }
   ],
   "source": [
    "plot_model(svm, plot = 'error')"
   ]
  },
  {
   "cell_type": "code",
   "execution_count": 23,
   "metadata": {},
   "outputs": [
    {
     "data": {
      "text/html": [],
      "text/plain": [
       "<IPython.core.display.HTML object>"
      ]
     },
     "metadata": {},
     "output_type": "display_data"
    },
    {
     "data": {
      "text/html": [
       "<div>\n",
       "<style scoped>\n",
       "    .dataframe tbody tr th:only-of-type {\n",
       "        vertical-align: middle;\n",
       "    }\n",
       "\n",
       "    .dataframe tbody tr th {\n",
       "        vertical-align: top;\n",
       "    }\n",
       "\n",
       "    .dataframe thead th {\n",
       "        text-align: right;\n",
       "    }\n",
       "</style>\n",
       "<table border=\"1\" class=\"dataframe\">\n",
       "  <thead>\n",
       "    <tr style=\"text-align: right;\">\n",
       "      <th></th>\n",
       "      <th>Parameters</th>\n",
       "    </tr>\n",
       "  </thead>\n",
       "  <tbody>\n",
       "    <tr>\n",
       "      <th>alpha</th>\n",
       "      <td>0.0001</td>\n",
       "    </tr>\n",
       "    <tr>\n",
       "      <th>average</th>\n",
       "      <td>False</td>\n",
       "    </tr>\n",
       "    <tr>\n",
       "      <th>class_weight</th>\n",
       "      <td>None</td>\n",
       "    </tr>\n",
       "    <tr>\n",
       "      <th>early_stopping</th>\n",
       "      <td>False</td>\n",
       "    </tr>\n",
       "    <tr>\n",
       "      <th>epsilon</th>\n",
       "      <td>0.1</td>\n",
       "    </tr>\n",
       "    <tr>\n",
       "      <th>eta0</th>\n",
       "      <td>0.001</td>\n",
       "    </tr>\n",
       "    <tr>\n",
       "      <th>fit_intercept</th>\n",
       "      <td>True</td>\n",
       "    </tr>\n",
       "    <tr>\n",
       "      <th>l1_ratio</th>\n",
       "      <td>0.15</td>\n",
       "    </tr>\n",
       "    <tr>\n",
       "      <th>learning_rate</th>\n",
       "      <td>optimal</td>\n",
       "    </tr>\n",
       "    <tr>\n",
       "      <th>loss</th>\n",
       "      <td>hinge</td>\n",
       "    </tr>\n",
       "    <tr>\n",
       "      <th>max_iter</th>\n",
       "      <td>1000</td>\n",
       "    </tr>\n",
       "    <tr>\n",
       "      <th>n_iter_no_change</th>\n",
       "      <td>5</td>\n",
       "    </tr>\n",
       "    <tr>\n",
       "      <th>n_jobs</th>\n",
       "      <td>-1</td>\n",
       "    </tr>\n",
       "    <tr>\n",
       "      <th>penalty</th>\n",
       "      <td>l2</td>\n",
       "    </tr>\n",
       "    <tr>\n",
       "      <th>power_t</th>\n",
       "      <td>0.5</td>\n",
       "    </tr>\n",
       "    <tr>\n",
       "      <th>random_state</th>\n",
       "      <td>5786</td>\n",
       "    </tr>\n",
       "    <tr>\n",
       "      <th>shuffle</th>\n",
       "      <td>True</td>\n",
       "    </tr>\n",
       "    <tr>\n",
       "      <th>tol</th>\n",
       "      <td>0.001</td>\n",
       "    </tr>\n",
       "    <tr>\n",
       "      <th>validation_fraction</th>\n",
       "      <td>0.1</td>\n",
       "    </tr>\n",
       "    <tr>\n",
       "      <th>verbose</th>\n",
       "      <td>0</td>\n",
       "    </tr>\n",
       "    <tr>\n",
       "      <th>warm_start</th>\n",
       "      <td>False</td>\n",
       "    </tr>\n",
       "  </tbody>\n",
       "</table>\n",
       "</div>"
      ],
      "text/plain": [
       "                    Parameters\n",
       "alpha                   0.0001\n",
       "average                  False\n",
       "class_weight              None\n",
       "early_stopping           False\n",
       "epsilon                    0.1\n",
       "eta0                     0.001\n",
       "fit_intercept             True\n",
       "l1_ratio                  0.15\n",
       "learning_rate          optimal\n",
       "loss                     hinge\n",
       "max_iter                  1000\n",
       "n_iter_no_change             5\n",
       "n_jobs                      -1\n",
       "penalty                     l2\n",
       "power_t                    0.5\n",
       "random_state              5786\n",
       "shuffle                   True\n",
       "tol                      0.001\n",
       "validation_fraction        0.1\n",
       "verbose                      0\n",
       "warm_start               False"
      ]
     },
     "metadata": {},
     "output_type": "display_data"
    }
   ],
   "source": [
    "plot_model(svm, plot = 'parameter')"
   ]
  },
  {
   "cell_type": "code",
   "execution_count": 24,
   "metadata": {},
   "outputs": [
    {
     "name": "stdout",
     "output_type": "stream",
     "text": [
      "Transformation Pipeline and Model Successfully Saved\n"
     ]
    },
    {
     "data": {
      "text/plain": [
       "(Pipeline(memory=FastMemory(location=/tmp/joblib),\n",
       "          steps=[('numerical_imputer',\n",
       "                  TransformerWrapper(exclude=None,\n",
       "                                     include=['0', '1', '2', '3', '4', '5', '6',\n",
       "                                              '7', '8', '9', '10', '11', '12',\n",
       "                                              '13', '14', '15', '16', '17', '18',\n",
       "                                              '19', '20', '21', '22', '23', '24',\n",
       "                                              '25', '26', '27', '28', '29', ...],\n",
       "                                     transformer=SimpleImputer(add_indicator=False,\n",
       "                                                               copy=True,\n",
       "                                                               fill_value=None,\n",
       "                                                               keep_empty_feat...\n",
       "                  SGDClassifier(alpha=0.0001, average=False, class_weight=None,\n",
       "                                early_stopping=False, epsilon=0.1, eta0=0.001,\n",
       "                                fit_intercept=True, l1_ratio=0.15,\n",
       "                                learning_rate='optimal', loss='hinge',\n",
       "                                max_iter=1000, n_iter_no_change=5, n_jobs=-1,\n",
       "                                penalty='l2', power_t=0.5, random_state=5786,\n",
       "                                shuffle=True, tol=0.001, validation_fraction=0.1,\n",
       "                                verbose=0, warm_start=False))],\n",
       "          verbose=False),\n",
       " 'models_classif/toruse/svm.pkl')"
      ]
     },
     "execution_count": 24,
     "metadata": {},
     "output_type": "execute_result"
    }
   ],
   "source": [
    "save_model(svm, 'models_classif/toruse/svm')"
   ]
  },
  {
   "cell_type": "markdown",
   "metadata": {},
   "source": [
    "# Ridge Classifier"
   ]
  },
  {
   "cell_type": "code",
   "execution_count": 25,
   "metadata": {},
   "outputs": [
    {
     "data": {
      "text/html": [],
      "text/plain": [
       "<IPython.core.display.HTML object>"
      ]
     },
     "metadata": {},
     "output_type": "display_data"
    },
    {
     "data": {
      "text/html": [
       "<style type=\"text/css\">\n",
       "#T_bef18_row10_col0, #T_bef18_row10_col1, #T_bef18_row10_col2, #T_bef18_row10_col3, #T_bef18_row10_col4, #T_bef18_row10_col5, #T_bef18_row10_col6 {\n",
       "  background: yellow;\n",
       "}\n",
       "</style>\n",
       "<table id=\"T_bef18\">\n",
       "  <thead>\n",
       "    <tr>\n",
       "      <th class=\"blank level0\" >&nbsp;</th>\n",
       "      <th id=\"T_bef18_level0_col0\" class=\"col_heading level0 col0\" >Accuracy</th>\n",
       "      <th id=\"T_bef18_level0_col1\" class=\"col_heading level0 col1\" >AUC</th>\n",
       "      <th id=\"T_bef18_level0_col2\" class=\"col_heading level0 col2\" >Recall</th>\n",
       "      <th id=\"T_bef18_level0_col3\" class=\"col_heading level0 col3\" >Prec.</th>\n",
       "      <th id=\"T_bef18_level0_col4\" class=\"col_heading level0 col4\" >F1</th>\n",
       "      <th id=\"T_bef18_level0_col5\" class=\"col_heading level0 col5\" >Kappa</th>\n",
       "      <th id=\"T_bef18_level0_col6\" class=\"col_heading level0 col6\" >MCC</th>\n",
       "    </tr>\n",
       "    <tr>\n",
       "      <th class=\"index_name level0\" >Fold</th>\n",
       "      <th class=\"blank col0\" >&nbsp;</th>\n",
       "      <th class=\"blank col1\" >&nbsp;</th>\n",
       "      <th class=\"blank col2\" >&nbsp;</th>\n",
       "      <th class=\"blank col3\" >&nbsp;</th>\n",
       "      <th class=\"blank col4\" >&nbsp;</th>\n",
       "      <th class=\"blank col5\" >&nbsp;</th>\n",
       "      <th class=\"blank col6\" >&nbsp;</th>\n",
       "    </tr>\n",
       "  </thead>\n",
       "  <tbody>\n",
       "    <tr>\n",
       "      <th id=\"T_bef18_level0_row0\" class=\"row_heading level0 row0\" >0</th>\n",
       "      <td id=\"T_bef18_row0_col0\" class=\"data row0 col0\" >0.8440</td>\n",
       "      <td id=\"T_bef18_row0_col1\" class=\"data row0 col1\" >0.0000</td>\n",
       "      <td id=\"T_bef18_row0_col2\" class=\"data row0 col2\" >0.9739</td>\n",
       "      <td id=\"T_bef18_row0_col3\" class=\"data row0 col3\" >0.7731</td>\n",
       "      <td id=\"T_bef18_row0_col4\" class=\"data row0 col4\" >0.8619</td>\n",
       "      <td id=\"T_bef18_row0_col5\" class=\"data row0 col5\" >0.6880</td>\n",
       "      <td id=\"T_bef18_row0_col6\" class=\"data row0 col6\" >0.7124</td>\n",
       "    </tr>\n",
       "    <tr>\n",
       "      <th id=\"T_bef18_level0_row1\" class=\"row_heading level0 row1\" >1</th>\n",
       "      <td id=\"T_bef18_row1_col0\" class=\"data row1 col0\" >0.8435</td>\n",
       "      <td id=\"T_bef18_row1_col1\" class=\"data row1 col1\" >0.0000</td>\n",
       "      <td id=\"T_bef18_row1_col2\" class=\"data row1 col2\" >0.9733</td>\n",
       "      <td id=\"T_bef18_row1_col3\" class=\"data row1 col3\" >0.7727</td>\n",
       "      <td id=\"T_bef18_row1_col4\" class=\"data row1 col4\" >0.8615</td>\n",
       "      <td id=\"T_bef18_row1_col5\" class=\"data row1 col5\" >0.6870</td>\n",
       "      <td id=\"T_bef18_row1_col6\" class=\"data row1 col6\" >0.7114</td>\n",
       "    </tr>\n",
       "    <tr>\n",
       "      <th id=\"T_bef18_level0_row2\" class=\"row_heading level0 row2\" >2</th>\n",
       "      <td id=\"T_bef18_row2_col0\" class=\"data row2 col0\" >0.8401</td>\n",
       "      <td id=\"T_bef18_row2_col1\" class=\"data row2 col1\" >0.0000</td>\n",
       "      <td id=\"T_bef18_row2_col2\" class=\"data row2 col2\" >0.9721</td>\n",
       "      <td id=\"T_bef18_row2_col3\" class=\"data row2 col3\" >0.7690</td>\n",
       "      <td id=\"T_bef18_row2_col4\" class=\"data row2 col4\" >0.8587</td>\n",
       "      <td id=\"T_bef18_row2_col5\" class=\"data row2 col5\" >0.6801</td>\n",
       "      <td id=\"T_bef18_row2_col6\" class=\"data row2 col6\" >0.7052</td>\n",
       "    </tr>\n",
       "    <tr>\n",
       "      <th id=\"T_bef18_level0_row3\" class=\"row_heading level0 row3\" >3</th>\n",
       "      <td id=\"T_bef18_row3_col0\" class=\"data row3 col0\" >0.8419</td>\n",
       "      <td id=\"T_bef18_row3_col1\" class=\"data row3 col1\" >0.0000</td>\n",
       "      <td id=\"T_bef18_row3_col2\" class=\"data row3 col2\" >0.9739</td>\n",
       "      <td id=\"T_bef18_row3_col3\" class=\"data row3 col3\" >0.7705</td>\n",
       "      <td id=\"T_bef18_row3_col4\" class=\"data row3 col4\" >0.8604</td>\n",
       "      <td id=\"T_bef18_row3_col5\" class=\"data row3 col5\" >0.6839</td>\n",
       "      <td id=\"T_bef18_row3_col6\" class=\"data row3 col6\" >0.7090</td>\n",
       "    </tr>\n",
       "    <tr>\n",
       "      <th id=\"T_bef18_level0_row4\" class=\"row_heading level0 row4\" >4</th>\n",
       "      <td id=\"T_bef18_row4_col0\" class=\"data row4 col0\" >0.8430</td>\n",
       "      <td id=\"T_bef18_row4_col1\" class=\"data row4 col1\" >0.0000</td>\n",
       "      <td id=\"T_bef18_row4_col2\" class=\"data row4 col2\" >0.9747</td>\n",
       "      <td id=\"T_bef18_row4_col3\" class=\"data row4 col3\" >0.7715</td>\n",
       "      <td id=\"T_bef18_row4_col4\" class=\"data row4 col4\" >0.8613</td>\n",
       "      <td id=\"T_bef18_row4_col5\" class=\"data row4 col5\" >0.6860</td>\n",
       "      <td id=\"T_bef18_row4_col6\" class=\"data row4 col6\" >0.7111</td>\n",
       "    </tr>\n",
       "    <tr>\n",
       "      <th id=\"T_bef18_level0_row5\" class=\"row_heading level0 row5\" >5</th>\n",
       "      <td id=\"T_bef18_row5_col0\" class=\"data row5 col0\" >0.8415</td>\n",
       "      <td id=\"T_bef18_row5_col1\" class=\"data row5 col1\" >0.0000</td>\n",
       "      <td id=\"T_bef18_row5_col2\" class=\"data row5 col2\" >0.9726</td>\n",
       "      <td id=\"T_bef18_row5_col3\" class=\"data row5 col3\" >0.7705</td>\n",
       "      <td id=\"T_bef18_row5_col4\" class=\"data row5 col4\" >0.8598</td>\n",
       "      <td id=\"T_bef18_row5_col5\" class=\"data row5 col5\" >0.6829</td>\n",
       "      <td id=\"T_bef18_row5_col6\" class=\"data row5 col6\" >0.7077</td>\n",
       "    </tr>\n",
       "    <tr>\n",
       "      <th id=\"T_bef18_level0_row6\" class=\"row_heading level0 row6\" >6</th>\n",
       "      <td id=\"T_bef18_row6_col0\" class=\"data row6 col0\" >0.8431</td>\n",
       "      <td id=\"T_bef18_row6_col1\" class=\"data row6 col1\" >0.0000</td>\n",
       "      <td id=\"T_bef18_row6_col2\" class=\"data row6 col2\" >0.9750</td>\n",
       "      <td id=\"T_bef18_row6_col3\" class=\"data row6 col3\" >0.7715</td>\n",
       "      <td id=\"T_bef18_row6_col4\" class=\"data row6 col4\" >0.8614</td>\n",
       "      <td id=\"T_bef18_row6_col5\" class=\"data row6 col5\" >0.6862</td>\n",
       "      <td id=\"T_bef18_row6_col6\" class=\"data row6 col6\" >0.7114</td>\n",
       "    </tr>\n",
       "    <tr>\n",
       "      <th id=\"T_bef18_level0_row7\" class=\"row_heading level0 row7\" >7</th>\n",
       "      <td id=\"T_bef18_row7_col0\" class=\"data row7 col0\" >0.8440</td>\n",
       "      <td id=\"T_bef18_row7_col1\" class=\"data row7 col1\" >0.0000</td>\n",
       "      <td id=\"T_bef18_row7_col2\" class=\"data row7 col2\" >0.9725</td>\n",
       "      <td id=\"T_bef18_row7_col3\" class=\"data row7 col3\" >0.7736</td>\n",
       "      <td id=\"T_bef18_row7_col4\" class=\"data row7 col4\" >0.8618</td>\n",
       "      <td id=\"T_bef18_row7_col5\" class=\"data row7 col5\" >0.6880</td>\n",
       "      <td id=\"T_bef18_row7_col6\" class=\"data row7 col6\" >0.7119</td>\n",
       "    </tr>\n",
       "    <tr>\n",
       "      <th id=\"T_bef18_level0_row8\" class=\"row_heading level0 row8\" >8</th>\n",
       "      <td id=\"T_bef18_row8_col0\" class=\"data row8 col0\" >0.8406</td>\n",
       "      <td id=\"T_bef18_row8_col1\" class=\"data row8 col1\" >0.0000</td>\n",
       "      <td id=\"T_bef18_row8_col2\" class=\"data row8 col2\" >0.9722</td>\n",
       "      <td id=\"T_bef18_row8_col3\" class=\"data row8 col3\" >0.7696</td>\n",
       "      <td id=\"T_bef18_row8_col4\" class=\"data row8 col4\" >0.8591</td>\n",
       "      <td id=\"T_bef18_row8_col5\" class=\"data row8 col5\" >0.6811</td>\n",
       "      <td id=\"T_bef18_row8_col6\" class=\"data row8 col6\" >0.7060</td>\n",
       "    </tr>\n",
       "    <tr>\n",
       "      <th id=\"T_bef18_level0_row9\" class=\"row_heading level0 row9\" >9</th>\n",
       "      <td id=\"T_bef18_row9_col0\" class=\"data row9 col0\" >0.8416</td>\n",
       "      <td id=\"T_bef18_row9_col1\" class=\"data row9 col1\" >0.0000</td>\n",
       "      <td id=\"T_bef18_row9_col2\" class=\"data row9 col2\" >0.9732</td>\n",
       "      <td id=\"T_bef18_row9_col3\" class=\"data row9 col3\" >0.7705</td>\n",
       "      <td id=\"T_bef18_row9_col4\" class=\"data row9 col4\" >0.8600</td>\n",
       "      <td id=\"T_bef18_row9_col5\" class=\"data row9 col5\" >0.6832</td>\n",
       "      <td id=\"T_bef18_row9_col6\" class=\"data row9 col6\" >0.7082</td>\n",
       "    </tr>\n",
       "    <tr>\n",
       "      <th id=\"T_bef18_level0_row10\" class=\"row_heading level0 row10\" >Mean</th>\n",
       "      <td id=\"T_bef18_row10_col0\" class=\"data row10 col0\" >0.8423</td>\n",
       "      <td id=\"T_bef18_row10_col1\" class=\"data row10 col1\" >0.0000</td>\n",
       "      <td id=\"T_bef18_row10_col2\" class=\"data row10 col2\" >0.9733</td>\n",
       "      <td id=\"T_bef18_row10_col3\" class=\"data row10 col3\" >0.7712</td>\n",
       "      <td id=\"T_bef18_row10_col4\" class=\"data row10 col4\" >0.8606</td>\n",
       "      <td id=\"T_bef18_row10_col5\" class=\"data row10 col5\" >0.6846</td>\n",
       "      <td id=\"T_bef18_row10_col6\" class=\"data row10 col6\" >0.7094</td>\n",
       "    </tr>\n",
       "    <tr>\n",
       "      <th id=\"T_bef18_level0_row11\" class=\"row_heading level0 row11\" >Std</th>\n",
       "      <td id=\"T_bef18_row11_col0\" class=\"data row11 col0\" >0.0013</td>\n",
       "      <td id=\"T_bef18_row11_col1\" class=\"data row11 col1\" >0.0000</td>\n",
       "      <td id=\"T_bef18_row11_col2\" class=\"data row11 col2\" >0.0010</td>\n",
       "      <td id=\"T_bef18_row11_col3\" class=\"data row11 col3\" >0.0014</td>\n",
       "      <td id=\"T_bef18_row11_col4\" class=\"data row11 col4\" >0.0011</td>\n",
       "      <td id=\"T_bef18_row11_col5\" class=\"data row11 col5\" >0.0026</td>\n",
       "      <td id=\"T_bef18_row11_col6\" class=\"data row11 col6\" >0.0024</td>\n",
       "    </tr>\n",
       "  </tbody>\n",
       "</table>\n"
      ],
      "text/plain": [
       "<pandas.io.formats.style.Styler at 0x7f478b78f970>"
      ]
     },
     "metadata": {},
     "output_type": "display_data"
    },
    {
     "data": {
      "text/html": [],
      "text/plain": [
       "<IPython.core.display.HTML object>"
      ]
     },
     "metadata": {},
     "output_type": "display_data"
    }
   ],
   "source": [
    "ridge = create_model('ridge')"
   ]
  },
  {
   "cell_type": "code",
   "execution_count": 26,
   "metadata": {},
   "outputs": [
    {
     "data": {
      "text/html": [],
      "text/plain": [
       "<IPython.core.display.HTML object>"
      ]
     },
     "metadata": {},
     "output_type": "display_data"
    },
    {
     "data": {
      "image/png": "[encoded data removed]",
      "text/plain": [
       "<Figure size 800x550 with 1 Axes>"
      ]
     },
     "metadata": {},
     "output_type": "display_data"
    }
   ],
   "source": [
    "plot_model(ridge, plot = 'confusion_matrix')"
   ]
  },
  {
   "cell_type": "code",
   "execution_count": 27,
   "metadata": {},
   "outputs": [
    {
     "data": {
      "text/html": [],
      "text/plain": [
       "<IPython.core.display.HTML object>"
      ]
     },
     "metadata": {},
     "output_type": "display_data"
    },
    {
     "data": {
      "image/png": "[encoded data removed]",
      "text/plain": [
       "<Figure size 800x550 with 1 Axes>"
      ]
     },
     "metadata": {},
     "output_type": "display_data"
    }
   ],
   "source": [
    "plot_model(ridge, plot = 'error')"
   ]
  },
  {
   "cell_type": "code",
   "execution_count": 28,
   "metadata": {},
   "outputs": [
    {
     "data": {
      "text/html": [],
      "text/plain": [
       "<IPython.core.display.HTML object>"
      ]
     },
     "metadata": {},
     "output_type": "display_data"
    },
    {
     "data": {
      "text/html": [
       "<div>\n",
       "<style scoped>\n",
       "    .dataframe tbody tr th:only-of-type {\n",
       "        vertical-align: middle;\n",
       "    }\n",
       "\n",
       "    .dataframe tbody tr th {\n",
       "        vertical-align: top;\n",
       "    }\n",
       "\n",
       "    .dataframe thead th {\n",
       "        text-align: right;\n",
       "    }\n",
       "</style>\n",
       "<table border=\"1\" class=\"dataframe\">\n",
       "  <thead>\n",
       "    <tr style=\"text-align: right;\">\n",
       "      <th></th>\n",
       "      <th>Parameters</th>\n",
       "    </tr>\n",
       "  </thead>\n",
       "  <tbody>\n",
       "    <tr>\n",
       "      <th>alpha</th>\n",
       "      <td>1.0</td>\n",
       "    </tr>\n",
       "    <tr>\n",
       "      <th>class_weight</th>\n",
       "      <td>None</td>\n",
       "    </tr>\n",
       "    <tr>\n",
       "      <th>copy_X</th>\n",
       "      <td>True</td>\n",
       "    </tr>\n",
       "    <tr>\n",
       "      <th>fit_intercept</th>\n",
       "      <td>True</td>\n",
       "    </tr>\n",
       "    <tr>\n",
       "      <th>max_iter</th>\n",
       "      <td>None</td>\n",
       "    </tr>\n",
       "    <tr>\n",
       "      <th>positive</th>\n",
       "      <td>False</td>\n",
       "    </tr>\n",
       "    <tr>\n",
       "      <th>random_state</th>\n",
       "      <td>5786</td>\n",
       "    </tr>\n",
       "    <tr>\n",
       "      <th>solver</th>\n",
       "      <td>auto</td>\n",
       "    </tr>\n",
       "    <tr>\n",
       "      <th>tol</th>\n",
       "      <td>0.0001</td>\n",
       "    </tr>\n",
       "  </tbody>\n",
       "</table>\n",
       "</div>"
      ],
      "text/plain": [
       "              Parameters\n",
       "alpha                1.0\n",
       "class_weight        None\n",
       "copy_X              True\n",
       "fit_intercept       True\n",
       "max_iter            None\n",
       "positive           False\n",
       "random_state        5786\n",
       "solver              auto\n",
       "tol               0.0001"
      ]
     },
     "metadata": {},
     "output_type": "display_data"
    }
   ],
   "source": [
    "plot_model(ridge, plot = 'parameter')"
   ]
  },
  {
   "cell_type": "code",
   "execution_count": 29,
   "metadata": {},
   "outputs": [
    {
     "name": "stdout",
     "output_type": "stream",
     "text": [
      "Transformation Pipeline and Model Successfully Saved\n"
     ]
    },
    {
     "data": {
      "text/plain": [
       "(Pipeline(memory=FastMemory(location=/tmp/joblib),\n",
       "          steps=[('numerical_imputer',\n",
       "                  TransformerWrapper(exclude=None,\n",
       "                                     include=['0', '1', '2', '3', '4', '5', '6',\n",
       "                                              '7', '8', '9', '10', '11', '12',\n",
       "                                              '13', '14', '15', '16', '17', '18',\n",
       "                                              '19', '20', '21', '22', '23', '24',\n",
       "                                              '25', '26', '27', '28', '29', ...],\n",
       "                                     transformer=SimpleImputer(add_indicator=False,\n",
       "                                                               copy=True,\n",
       "                                                               fill_value=None,\n",
       "                                                               keep_empty_feat...\n",
       "                  TransformerWrapper(exclude=None, include=[],\n",
       "                                     transformer=SimpleImputer(add_indicator=False,\n",
       "                                                               copy=True,\n",
       "                                                               fill_value=None,\n",
       "                                                               keep_empty_features=False,\n",
       "                                                               missing_values=nan,\n",
       "                                                               strategy='most_frequent',\n",
       "                                                               verbose='deprecated'))),\n",
       "                 ('trained_model',\n",
       "                  RidgeClassifier(alpha=1.0, class_weight=None, copy_X=True,\n",
       "                                  fit_intercept=True, max_iter=None,\n",
       "                                  positive=False, random_state=5786,\n",
       "                                  solver='auto', tol=0.0001))],\n",
       "          verbose=False),\n",
       " 'models_classif/toruse/ridge.pkl')"
      ]
     },
     "execution_count": 29,
     "metadata": {},
     "output_type": "execute_result"
    }
   ],
   "source": [
    "save_model(ridge, 'models_classif/toruse/ridge')"
   ]
  },
  {
   "cell_type": "markdown",
   "metadata": {},
   "source": [
    "# Random Forest"
   ]
  },
  {
   "cell_type": "code",
   "execution_count": 30,
   "metadata": {},
   "outputs": [
    {
     "data": {
      "text/html": [],
      "text/plain": [
       "<IPython.core.display.HTML object>"
      ]
     },
     "metadata": {},
     "output_type": "display_data"
    },
    {
     "data": {
      "text/html": [
       "<style type=\"text/css\">\n",
       "#T_99762_row10_col0, #T_99762_row10_col1, #T_99762_row10_col2, #T_99762_row10_col3, #T_99762_row10_col4, #T_99762_row10_col5, #T_99762_row10_col6 {\n",
       "  background: yellow;\n",
       "}\n",
       "</style>\n",
       "<table id=\"T_99762\">\n",
       "  <thead>\n",
       "    <tr>\n",
       "      <th class=\"blank level0\" >&nbsp;</th>\n",
       "      <th id=\"T_99762_level0_col0\" class=\"col_heading level0 col0\" >Accuracy</th>\n",
       "      <th id=\"T_99762_level0_col1\" class=\"col_heading level0 col1\" >AUC</th>\n",
       "      <th id=\"T_99762_level0_col2\" class=\"col_heading level0 col2\" >Recall</th>\n",
       "      <th id=\"T_99762_level0_col3\" class=\"col_heading level0 col3\" >Prec.</th>\n",
       "      <th id=\"T_99762_level0_col4\" class=\"col_heading level0 col4\" >F1</th>\n",
       "      <th id=\"T_99762_level0_col5\" class=\"col_heading level0 col5\" >Kappa</th>\n",
       "      <th id=\"T_99762_level0_col6\" class=\"col_heading level0 col6\" >MCC</th>\n",
       "    </tr>\n",
       "    <tr>\n",
       "      <th class=\"index_name level0\" >Fold</th>\n",
       "      <th class=\"blank col0\" >&nbsp;</th>\n",
       "      <th class=\"blank col1\" >&nbsp;</th>\n",
       "      <th class=\"blank col2\" >&nbsp;</th>\n",
       "      <th class=\"blank col3\" >&nbsp;</th>\n",
       "      <th class=\"blank col4\" >&nbsp;</th>\n",
       "      <th class=\"blank col5\" >&nbsp;</th>\n",
       "      <th class=\"blank col6\" >&nbsp;</th>\n",
       "    </tr>\n",
       "  </thead>\n",
       "  <tbody>\n",
       "    <tr>\n",
       "      <th id=\"T_99762_level0_row0\" class=\"row_heading level0 row0\" >0</th>\n",
       "      <td id=\"T_99762_row0_col0\" class=\"data row0 col0\" >0.8679</td>\n",
       "      <td id=\"T_99762_row0_col1\" class=\"data row0 col1\" >0.9413</td>\n",
       "      <td id=\"T_99762_row0_col2\" class=\"data row0 col2\" >0.9610</td>\n",
       "      <td id=\"T_99762_row0_col3\" class=\"data row0 col3\" >0.8102</td>\n",
       "      <td id=\"T_99762_row0_col4\" class=\"data row0 col4\" >0.8791</td>\n",
       "      <td id=\"T_99762_row0_col5\" class=\"data row0 col5\" >0.7358</td>\n",
       "      <td id=\"T_99762_row0_col6\" class=\"data row0 col6\" >0.7489</td>\n",
       "    </tr>\n",
       "    <tr>\n",
       "      <th id=\"T_99762_level0_row1\" class=\"row_heading level0 row1\" >1</th>\n",
       "      <td id=\"T_99762_row1_col0\" class=\"data row1 col0\" >0.8691</td>\n",
       "      <td id=\"T_99762_row1_col1\" class=\"data row1 col1\" >0.9413</td>\n",
       "      <td id=\"T_99762_row1_col2\" class=\"data row1 col2\" >0.9616</td>\n",
       "      <td id=\"T_99762_row1_col3\" class=\"data row1 col3\" >0.8115</td>\n",
       "      <td id=\"T_99762_row1_col4\" class=\"data row1 col4\" >0.8802</td>\n",
       "      <td id=\"T_99762_row1_col5\" class=\"data row1 col5\" >0.7382</td>\n",
       "      <td id=\"T_99762_row1_col6\" class=\"data row1 col6\" >0.7512</td>\n",
       "    </tr>\n",
       "    <tr>\n",
       "      <th id=\"T_99762_level0_row2\" class=\"row_heading level0 row2\" >2</th>\n",
       "      <td id=\"T_99762_row2_col0\" class=\"data row2 col0\" >0.8644</td>\n",
       "      <td id=\"T_99762_row2_col1\" class=\"data row2 col1\" >0.9382</td>\n",
       "      <td id=\"T_99762_row2_col2\" class=\"data row2 col2\" >0.9570</td>\n",
       "      <td id=\"T_99762_row2_col3\" class=\"data row2 col3\" >0.8075</td>\n",
       "      <td id=\"T_99762_row2_col4\" class=\"data row2 col4\" >0.8759</td>\n",
       "      <td id=\"T_99762_row2_col5\" class=\"data row2 col5\" >0.7288</td>\n",
       "      <td id=\"T_99762_row2_col6\" class=\"data row2 col6\" >0.7416</td>\n",
       "    </tr>\n",
       "    <tr>\n",
       "      <th id=\"T_99762_level0_row3\" class=\"row_heading level0 row3\" >3</th>\n",
       "      <td id=\"T_99762_row3_col0\" class=\"data row3 col0\" >0.8654</td>\n",
       "      <td id=\"T_99762_row3_col1\" class=\"data row3 col1\" >0.9394</td>\n",
       "      <td id=\"T_99762_row3_col2\" class=\"data row3 col2\" >0.9609</td>\n",
       "      <td id=\"T_99762_row3_col3\" class=\"data row3 col3\" >0.8068</td>\n",
       "      <td id=\"T_99762_row3_col4\" class=\"data row3 col4\" >0.8771</td>\n",
       "      <td id=\"T_99762_row3_col5\" class=\"data row3 col5\" >0.7308</td>\n",
       "      <td id=\"T_99762_row3_col6\" class=\"data row3 col6\" >0.7445</td>\n",
       "    </tr>\n",
       "    <tr>\n",
       "      <th id=\"T_99762_level0_row4\" class=\"row_heading level0 row4\" >4</th>\n",
       "      <td id=\"T_99762_row4_col0\" class=\"data row4 col0\" >0.8667</td>\n",
       "      <td id=\"T_99762_row4_col1\" class=\"data row4 col1\" >0.9404</td>\n",
       "      <td id=\"T_99762_row4_col2\" class=\"data row4 col2\" >0.9588</td>\n",
       "      <td id=\"T_99762_row4_col3\" class=\"data row4 col3\" >0.8096</td>\n",
       "      <td id=\"T_99762_row4_col4\" class=\"data row4 col4\" >0.8779</td>\n",
       "      <td id=\"T_99762_row4_col5\" class=\"data row4 col5\" >0.7333</td>\n",
       "      <td id=\"T_99762_row4_col6\" class=\"data row4 col6\" >0.7461</td>\n",
       "    </tr>\n",
       "    <tr>\n",
       "      <th id=\"T_99762_level0_row5\" class=\"row_heading level0 row5\" >5</th>\n",
       "      <td id=\"T_99762_row5_col0\" class=\"data row5 col0\" >0.8667</td>\n",
       "      <td id=\"T_99762_row5_col1\" class=\"data row5 col1\" >0.9398</td>\n",
       "      <td id=\"T_99762_row5_col2\" class=\"data row5 col2\" >0.9593</td>\n",
       "      <td id=\"T_99762_row5_col3\" class=\"data row5 col3\" >0.8094</td>\n",
       "      <td id=\"T_99762_row5_col4\" class=\"data row5 col4\" >0.8780</td>\n",
       "      <td id=\"T_99762_row5_col5\" class=\"data row5 col5\" >0.7334</td>\n",
       "      <td id=\"T_99762_row5_col6\" class=\"data row5 col6\" >0.7463</td>\n",
       "    </tr>\n",
       "    <tr>\n",
       "      <th id=\"T_99762_level0_row6\" class=\"row_heading level0 row6\" >6</th>\n",
       "      <td id=\"T_99762_row6_col0\" class=\"data row6 col0\" >0.8657</td>\n",
       "      <td id=\"T_99762_row6_col1\" class=\"data row6 col1\" >0.9394</td>\n",
       "      <td id=\"T_99762_row6_col2\" class=\"data row6 col2\" >0.9619</td>\n",
       "      <td id=\"T_99762_row6_col3\" class=\"data row6 col3\" >0.8067</td>\n",
       "      <td id=\"T_99762_row6_col4\" class=\"data row6 col4\" >0.8775</td>\n",
       "      <td id=\"T_99762_row6_col5\" class=\"data row6 col5\" >0.7314</td>\n",
       "      <td id=\"T_99762_row6_col6\" class=\"data row6 col6\" >0.7453</td>\n",
       "    </tr>\n",
       "    <tr>\n",
       "      <th id=\"T_99762_level0_row7\" class=\"row_heading level0 row7\" >7</th>\n",
       "      <td id=\"T_99762_row7_col0\" class=\"data row7 col0\" >0.8689</td>\n",
       "      <td id=\"T_99762_row7_col1\" class=\"data row7 col1\" >0.9405</td>\n",
       "      <td id=\"T_99762_row7_col2\" class=\"data row7 col2\" >0.9613</td>\n",
       "      <td id=\"T_99762_row7_col3\" class=\"data row7 col3\" >0.8114</td>\n",
       "      <td id=\"T_99762_row7_col4\" class=\"data row7 col4\" >0.8800</td>\n",
       "      <td id=\"T_99762_row7_col5\" class=\"data row7 col5\" >0.7379</td>\n",
       "      <td id=\"T_99762_row7_col6\" class=\"data row7 col6\" >0.7508</td>\n",
       "    </tr>\n",
       "    <tr>\n",
       "      <th id=\"T_99762_level0_row8\" class=\"row_heading level0 row8\" >8</th>\n",
       "      <td id=\"T_99762_row8_col0\" class=\"data row8 col0\" >0.8642</td>\n",
       "      <td id=\"T_99762_row8_col1\" class=\"data row8 col1\" >0.9391</td>\n",
       "      <td id=\"T_99762_row8_col2\" class=\"data row8 col2\" >0.9579</td>\n",
       "      <td id=\"T_99762_row8_col3\" class=\"data row8 col3\" >0.8067</td>\n",
       "      <td id=\"T_99762_row8_col4\" class=\"data row8 col4\" >0.8758</td>\n",
       "      <td id=\"T_99762_row8_col5\" class=\"data row8 col5\" >0.7283</td>\n",
       "      <td id=\"T_99762_row8_col6\" class=\"data row8 col6\" >0.7415</td>\n",
       "    </tr>\n",
       "    <tr>\n",
       "      <th id=\"T_99762_level0_row9\" class=\"row_heading level0 row9\" >9</th>\n",
       "      <td id=\"T_99762_row9_col0\" class=\"data row9 col0\" >0.8643</td>\n",
       "      <td id=\"T_99762_row9_col1\" class=\"data row9 col1\" >0.9400</td>\n",
       "      <td id=\"T_99762_row9_col2\" class=\"data row9 col2\" >0.9580</td>\n",
       "      <td id=\"T_99762_row9_col3\" class=\"data row9 col3\" >0.8068</td>\n",
       "      <td id=\"T_99762_row9_col4\" class=\"data row9 col4\" >0.8759</td>\n",
       "      <td id=\"T_99762_row9_col5\" class=\"data row9 col5\" >0.7286</td>\n",
       "      <td id=\"T_99762_row9_col6\" class=\"data row9 col6\" >0.7417</td>\n",
       "    </tr>\n",
       "    <tr>\n",
       "      <th id=\"T_99762_level0_row10\" class=\"row_heading level0 row10\" >Mean</th>\n",
       "      <td id=\"T_99762_row10_col0\" class=\"data row10 col0\" >0.8663</td>\n",
       "      <td id=\"T_99762_row10_col1\" class=\"data row10 col1\" >0.9399</td>\n",
       "      <td id=\"T_99762_row10_col2\" class=\"data row10 col2\" >0.9598</td>\n",
       "      <td id=\"T_99762_row10_col3\" class=\"data row10 col3\" >0.8086</td>\n",
       "      <td id=\"T_99762_row10_col4\" class=\"data row10 col4\" >0.8777</td>\n",
       "      <td id=\"T_99762_row10_col5\" class=\"data row10 col5\" >0.7326</td>\n",
       "      <td id=\"T_99762_row10_col6\" class=\"data row10 col6\" >0.7458</td>\n",
       "    </tr>\n",
       "    <tr>\n",
       "      <th id=\"T_99762_level0_row11\" class=\"row_heading level0 row11\" >Std</th>\n",
       "      <td id=\"T_99762_row11_col0\" class=\"data row11 col0\" >0.0018</td>\n",
       "      <td id=\"T_99762_row11_col1\" class=\"data row11 col1\" >0.0009</td>\n",
       "      <td id=\"T_99762_row11_col2\" class=\"data row11 col2\" >0.0017</td>\n",
       "      <td id=\"T_99762_row11_col3\" class=\"data row11 col3\" >0.0019</td>\n",
       "      <td id=\"T_99762_row11_col4\" class=\"data row11 col4\" >0.0016</td>\n",
       "      <td id=\"T_99762_row11_col5\" class=\"data row11 col5\" >0.0035</td>\n",
       "      <td id=\"T_99762_row11_col6\" class=\"data row11 col6\" >0.0034</td>\n",
       "    </tr>\n",
       "  </tbody>\n",
       "</table>\n"
      ],
      "text/plain": [
       "<pandas.io.formats.style.Styler at 0x7f478aab0d30>"
      ]
     },
     "metadata": {},
     "output_type": "display_data"
    },
    {
     "data": {
      "text/html": [],
      "text/plain": [
       "<IPython.core.display.HTML object>"
      ]
     },
     "metadata": {},
     "output_type": "display_data"
    }
   ],
   "source": [
    "rf = create_model('rf')"
   ]
  },
  {
   "cell_type": "code",
   "execution_count": 31,
   "metadata": {},
   "outputs": [
    {
     "data": {
      "text/html": [],
      "text/plain": [
       "<IPython.core.display.HTML object>"
      ]
     },
     "metadata": {},
     "output_type": "display_data"
    },
    {
     "data": {
      "image/png": "[encoded data removed]",
      "text/plain": [
       "<Figure size 800x550 with 1 Axes>"
      ]
     },
     "metadata": {},
     "output_type": "display_data"
    }
   ],
   "source": [
    "plot_model(rf, plot = 'confusion_matrix')"
   ]
  },
  {
   "cell_type": "code",
   "execution_count": 32,
   "metadata": {},
   "outputs": [
    {
     "data": {
      "text/html": [],
      "text/plain": [
       "<IPython.core.display.HTML object>"
      ]
     },
     "metadata": {},
     "output_type": "display_data"
    },
    {
     "data": {
      "image/png": "[encoded data removed]",
      "text/plain": [
       "<Figure size 800x550 with 1 Axes>"
      ]
     },
     "metadata": {},
     "output_type": "display_data"
    }
   ],
   "source": [
    "plot_model(rf, plot = 'error')"
   ]
  },
  {
   "cell_type": "code",
   "execution_count": 33,
   "metadata": {},
   "outputs": [
    {
     "data": {
      "text/html": [],
      "text/plain": [
       "<IPython.core.display.HTML object>"
      ]
     },
     "metadata": {},
     "output_type": "display_data"
    },
    {
     "data": {
      "text/html": [
       "<div>\n",
       "<style scoped>\n",
       "    .dataframe tbody tr th:only-of-type {\n",
       "        vertical-align: middle;\n",
       "    }\n",
       "\n",
       "    .dataframe tbody tr th {\n",
       "        vertical-align: top;\n",
       "    }\n",
       "\n",
       "    .dataframe thead th {\n",
       "        text-align: right;\n",
       "    }\n",
       "</style>\n",
       "<table border=\"1\" class=\"dataframe\">\n",
       "  <thead>\n",
       "    <tr style=\"text-align: right;\">\n",
       "      <th></th>\n",
       "      <th>Parameters</th>\n",
       "    </tr>\n",
       "  </thead>\n",
       "  <tbody>\n",
       "    <tr>\n",
       "      <th>bootstrap</th>\n",
       "      <td>True</td>\n",
       "    </tr>\n",
       "    <tr>\n",
       "      <th>ccp_alpha</th>\n",
       "      <td>0.0</td>\n",
       "    </tr>\n",
       "    <tr>\n",
       "      <th>class_weight</th>\n",
       "      <td>None</td>\n",
       "    </tr>\n",
       "    <tr>\n",
       "      <th>criterion</th>\n",
       "      <td>gini</td>\n",
       "    </tr>\n",
       "    <tr>\n",
       "      <th>max_depth</th>\n",
       "      <td>None</td>\n",
       "    </tr>\n",
       "    <tr>\n",
       "      <th>max_features</th>\n",
       "      <td>sqrt</td>\n",
       "    </tr>\n",
       "    <tr>\n",
       "      <th>max_leaf_nodes</th>\n",
       "      <td>None</td>\n",
       "    </tr>\n",
       "    <tr>\n",
       "      <th>max_samples</th>\n",
       "      <td>None</td>\n",
       "    </tr>\n",
       "    <tr>\n",
       "      <th>min_impurity_decrease</th>\n",
       "      <td>0.0</td>\n",
       "    </tr>\n",
       "    <tr>\n",
       "      <th>min_samples_leaf</th>\n",
       "      <td>1</td>\n",
       "    </tr>\n",
       "    <tr>\n",
       "      <th>min_samples_split</th>\n",
       "      <td>2</td>\n",
       "    </tr>\n",
       "    <tr>\n",
       "      <th>min_weight_fraction_leaf</th>\n",
       "      <td>0.0</td>\n",
       "    </tr>\n",
       "    <tr>\n",
       "      <th>n_estimators</th>\n",
       "      <td>100</td>\n",
       "    </tr>\n",
       "    <tr>\n",
       "      <th>n_jobs</th>\n",
       "      <td>-1</td>\n",
       "    </tr>\n",
       "    <tr>\n",
       "      <th>oob_score</th>\n",
       "      <td>False</td>\n",
       "    </tr>\n",
       "    <tr>\n",
       "      <th>random_state</th>\n",
       "      <td>5786</td>\n",
       "    </tr>\n",
       "    <tr>\n",
       "      <th>verbose</th>\n",
       "      <td>0</td>\n",
       "    </tr>\n",
       "    <tr>\n",
       "      <th>warm_start</th>\n",
       "      <td>False</td>\n",
       "    </tr>\n",
       "  </tbody>\n",
       "</table>\n",
       "</div>"
      ],
      "text/plain": [
       "                         Parameters\n",
       "bootstrap                      True\n",
       "ccp_alpha                       0.0\n",
       "class_weight                   None\n",
       "criterion                      gini\n",
       "max_depth                      None\n",
       "max_features                   sqrt\n",
       "max_leaf_nodes                 None\n",
       "max_samples                    None\n",
       "min_impurity_decrease           0.0\n",
       "min_samples_leaf                  1\n",
       "min_samples_split                 2\n",
       "min_weight_fraction_leaf        0.0\n",
       "n_estimators                    100\n",
       "n_jobs                           -1\n",
       "oob_score                     False\n",
       "random_state                   5786\n",
       "verbose                           0\n",
       "warm_start                    False"
      ]
     },
     "metadata": {},
     "output_type": "display_data"
    }
   ],
   "source": [
    "plot_model(rf, plot = 'parameter')"
   ]
  },
  {
   "cell_type": "code",
   "execution_count": 34,
   "metadata": {},
   "outputs": [
    {
     "name": "stdout",
     "output_type": "stream",
     "text": [
      "Transformation Pipeline and Model Successfully Saved\n"
     ]
    },
    {
     "data": {
      "text/plain": [
       "(Pipeline(memory=FastMemory(location=/tmp/joblib),\n",
       "          steps=[('numerical_imputer',\n",
       "                  TransformerWrapper(exclude=None,\n",
       "                                     include=['0', '1', '2', '3', '4', '5', '6',\n",
       "                                              '7', '8', '9', '10', '11', '12',\n",
       "                                              '13', '14', '15', '16', '17', '18',\n",
       "                                              '19', '20', '21', '22', '23', '24',\n",
       "                                              '25', '26', '27', '28', '29', ...],\n",
       "                                     transformer=SimpleImputer(add_indicator=False,\n",
       "                                                               copy=True,\n",
       "                                                               fill_value=None,\n",
       "                                                               keep_empty_feat...\n",
       "                  RandomForestClassifier(bootstrap=True, ccp_alpha=0.0,\n",
       "                                         class_weight=None, criterion='gini',\n",
       "                                         max_depth=None, max_features='sqrt',\n",
       "                                         max_leaf_nodes=None, max_samples=None,\n",
       "                                         min_impurity_decrease=0.0,\n",
       "                                         min_samples_leaf=1, min_samples_split=2,\n",
       "                                         min_weight_fraction_leaf=0.0,\n",
       "                                         n_estimators=100, n_jobs=-1,\n",
       "                                         oob_score=False, random_state=5786,\n",
       "                                         verbose=0, warm_start=False))],\n",
       "          verbose=False),\n",
       " 'models_classif/toruse/rf.pkl')"
      ]
     },
     "execution_count": 34,
     "metadata": {},
     "output_type": "execute_result"
    }
   ],
   "source": [
    "save_model(rf, 'models_classif/toruse/rf')"
   ]
  },
  {
   "cell_type": "markdown",
   "metadata": {},
   "source": [
    "# Quadratic Discriminant Analysis"
   ]
  },
  {
   "cell_type": "code",
   "execution_count": 35,
   "metadata": {},
   "outputs": [
    {
     "data": {
      "text/html": [],
      "text/plain": [
       "<IPython.core.display.HTML object>"
      ]
     },
     "metadata": {},
     "output_type": "display_data"
    },
    {
     "data": {
      "text/html": [
       "<style type=\"text/css\">\n",
       "#T_d41f0_row10_col0, #T_d41f0_row10_col1, #T_d41f0_row10_col2, #T_d41f0_row10_col3, #T_d41f0_row10_col4, #T_d41f0_row10_col5, #T_d41f0_row10_col6 {\n",
       "  background: yellow;\n",
       "}\n",
       "</style>\n",
       "<table id=\"T_d41f0\">\n",
       "  <thead>\n",
       "    <tr>\n",
       "      <th class=\"blank level0\" >&nbsp;</th>\n",
       "      <th id=\"T_d41f0_level0_col0\" class=\"col_heading level0 col0\" >Accuracy</th>\n",
       "      <th id=\"T_d41f0_level0_col1\" class=\"col_heading level0 col1\" >AUC</th>\n",
       "      <th id=\"T_d41f0_level0_col2\" class=\"col_heading level0 col2\" >Recall</th>\n",
       "      <th id=\"T_d41f0_level0_col3\" class=\"col_heading level0 col3\" >Prec.</th>\n",
       "      <th id=\"T_d41f0_level0_col4\" class=\"col_heading level0 col4\" >F1</th>\n",
       "      <th id=\"T_d41f0_level0_col5\" class=\"col_heading level0 col5\" >Kappa</th>\n",
       "      <th id=\"T_d41f0_level0_col6\" class=\"col_heading level0 col6\" >MCC</th>\n",
       "    </tr>\n",
       "    <tr>\n",
       "      <th class=\"index_name level0\" >Fold</th>\n",
       "      <th class=\"blank col0\" >&nbsp;</th>\n",
       "      <th class=\"blank col1\" >&nbsp;</th>\n",
       "      <th class=\"blank col2\" >&nbsp;</th>\n",
       "      <th class=\"blank col3\" >&nbsp;</th>\n",
       "      <th class=\"blank col4\" >&nbsp;</th>\n",
       "      <th class=\"blank col5\" >&nbsp;</th>\n",
       "      <th class=\"blank col6\" >&nbsp;</th>\n",
       "    </tr>\n",
       "  </thead>\n",
       "  <tbody>\n",
       "    <tr>\n",
       "      <th id=\"T_d41f0_level0_row0\" class=\"row_heading level0 row0\" >0</th>\n",
       "      <td id=\"T_d41f0_row0_col0\" class=\"data row0 col0\" >0.8244</td>\n",
       "      <td id=\"T_d41f0_row0_col1\" class=\"data row0 col1\" >0.8872</td>\n",
       "      <td id=\"T_d41f0_row0_col2\" class=\"data row0 col2\" >0.9006</td>\n",
       "      <td id=\"T_d41f0_row0_col3\" class=\"data row0 col3\" >0.7815</td>\n",
       "      <td id=\"T_d41f0_row0_col4\" class=\"data row0 col4\" >0.8368</td>\n",
       "      <td id=\"T_d41f0_row0_col5\" class=\"data row0 col5\" >0.6488</td>\n",
       "      <td id=\"T_d41f0_row0_col6\" class=\"data row0 col6\" >0.6565</td>\n",
       "    </tr>\n",
       "    <tr>\n",
       "      <th id=\"T_d41f0_level0_row1\" class=\"row_heading level0 row1\" >1</th>\n",
       "      <td id=\"T_d41f0_row1_col0\" class=\"data row1 col0\" >0.8236</td>\n",
       "      <td id=\"T_d41f0_row1_col1\" class=\"data row1 col1\" >0.8846</td>\n",
       "      <td id=\"T_d41f0_row1_col2\" class=\"data row1 col2\" >0.9008</td>\n",
       "      <td id=\"T_d41f0_row1_col3\" class=\"data row1 col3\" >0.7803</td>\n",
       "      <td id=\"T_d41f0_row1_col4\" class=\"data row1 col4\" >0.8362</td>\n",
       "      <td id=\"T_d41f0_row1_col5\" class=\"data row1 col5\" >0.6471</td>\n",
       "      <td id=\"T_d41f0_row1_col6\" class=\"data row1 col6\" >0.6550</td>\n",
       "    </tr>\n",
       "    <tr>\n",
       "      <th id=\"T_d41f0_level0_row2\" class=\"row_heading level0 row2\" >2</th>\n",
       "      <td id=\"T_d41f0_row2_col0\" class=\"data row2 col0\" >0.8192</td>\n",
       "      <td id=\"T_d41f0_row2_col1\" class=\"data row2 col1\" >0.8817</td>\n",
       "      <td id=\"T_d41f0_row2_col2\" class=\"data row2 col2\" >0.8942</td>\n",
       "      <td id=\"T_d41f0_row2_col3\" class=\"data row2 col3\" >0.7776</td>\n",
       "      <td id=\"T_d41f0_row2_col4\" class=\"data row2 col4\" >0.8318</td>\n",
       "      <td id=\"T_d41f0_row2_col5\" class=\"data row2 col5\" >0.6384</td>\n",
       "      <td id=\"T_d41f0_row2_col6\" class=\"data row2 col6\" >0.6457</td>\n",
       "    </tr>\n",
       "    <tr>\n",
       "      <th id=\"T_d41f0_level0_row3\" class=\"row_heading level0 row3\" >3</th>\n",
       "      <td id=\"T_d41f0_row3_col0\" class=\"data row3 col0\" >0.8227</td>\n",
       "      <td id=\"T_d41f0_row3_col1\" class=\"data row3 col1\" >0.8855</td>\n",
       "      <td id=\"T_d41f0_row3_col2\" class=\"data row3 col2\" >0.9008</td>\n",
       "      <td id=\"T_d41f0_row3_col3\" class=\"data row3 col3\" >0.7791</td>\n",
       "      <td id=\"T_d41f0_row3_col4\" class=\"data row3 col4\" >0.8355</td>\n",
       "      <td id=\"T_d41f0_row3_col5\" class=\"data row3 col5\" >0.6454</td>\n",
       "      <td id=\"T_d41f0_row3_col6\" class=\"data row3 col6\" >0.6534</td>\n",
       "    </tr>\n",
       "    <tr>\n",
       "      <th id=\"T_d41f0_level0_row4\" class=\"row_heading level0 row4\" >4</th>\n",
       "      <td id=\"T_d41f0_row4_col0\" class=\"data row4 col0\" >0.8248</td>\n",
       "      <td id=\"T_d41f0_row4_col1\" class=\"data row4 col1\" >0.8847</td>\n",
       "      <td id=\"T_d41f0_row4_col2\" class=\"data row4 col2\" >0.9040</td>\n",
       "      <td id=\"T_d41f0_row4_col3\" class=\"data row4 col3\" >0.7804</td>\n",
       "      <td id=\"T_d41f0_row4_col4\" class=\"data row4 col4\" >0.8377</td>\n",
       "      <td id=\"T_d41f0_row4_col5\" class=\"data row4 col5\" >0.6496</td>\n",
       "      <td id=\"T_d41f0_row4_col6\" class=\"data row4 col6\" >0.6579</td>\n",
       "    </tr>\n",
       "    <tr>\n",
       "      <th id=\"T_d41f0_level0_row5\" class=\"row_heading level0 row5\" >5</th>\n",
       "      <td id=\"T_d41f0_row5_col0\" class=\"data row5 col0\" >0.8236</td>\n",
       "      <td id=\"T_d41f0_row5_col1\" class=\"data row5 col1\" >0.8827</td>\n",
       "      <td id=\"T_d41f0_row5_col2\" class=\"data row5 col2\" >0.9014</td>\n",
       "      <td id=\"T_d41f0_row5_col3\" class=\"data row5 col3\" >0.7801</td>\n",
       "      <td id=\"T_d41f0_row5_col4\" class=\"data row5 col4\" >0.8364</td>\n",
       "      <td id=\"T_d41f0_row5_col5\" class=\"data row5 col5\" >0.6473</td>\n",
       "      <td id=\"T_d41f0_row5_col6\" class=\"data row5 col6\" >0.6553</td>\n",
       "    </tr>\n",
       "    <tr>\n",
       "      <th id=\"T_d41f0_level0_row6\" class=\"row_heading level0 row6\" >6</th>\n",
       "      <td id=\"T_d41f0_row6_col0\" class=\"data row6 col0\" >0.8235</td>\n",
       "      <td id=\"T_d41f0_row6_col1\" class=\"data row6 col1\" >0.8860</td>\n",
       "      <td id=\"T_d41f0_row6_col2\" class=\"data row6 col2\" >0.9022</td>\n",
       "      <td id=\"T_d41f0_row6_col3\" class=\"data row6 col3\" >0.7794</td>\n",
       "      <td id=\"T_d41f0_row6_col4\" class=\"data row6 col4\" >0.8363</td>\n",
       "      <td id=\"T_d41f0_row6_col5\" class=\"data row6 col5\" >0.6469</td>\n",
       "      <td id=\"T_d41f0_row6_col6\" class=\"data row6 col6\" >0.6551</td>\n",
       "    </tr>\n",
       "    <tr>\n",
       "      <th id=\"T_d41f0_level0_row7\" class=\"row_heading level0 row7\" >7</th>\n",
       "      <td id=\"T_d41f0_row7_col0\" class=\"data row7 col0\" >0.8260</td>\n",
       "      <td id=\"T_d41f0_row7_col1\" class=\"data row7 col1\" >0.8867</td>\n",
       "      <td id=\"T_d41f0_row7_col2\" class=\"data row7 col2\" >0.9005</td>\n",
       "      <td id=\"T_d41f0_row7_col3\" class=\"data row7 col3\" >0.7837</td>\n",
       "      <td id=\"T_d41f0_row7_col4\" class=\"data row7 col4\" >0.8381</td>\n",
       "      <td id=\"T_d41f0_row7_col5\" class=\"data row7 col5\" >0.6520</td>\n",
       "      <td id=\"T_d41f0_row7_col6\" class=\"data row7 col6\" >0.6594</td>\n",
       "    </tr>\n",
       "    <tr>\n",
       "      <th id=\"T_d41f0_level0_row8\" class=\"row_heading level0 row8\" >8</th>\n",
       "      <td id=\"T_d41f0_row8_col0\" class=\"data row8 col0\" >0.8199</td>\n",
       "      <td id=\"T_d41f0_row8_col1\" class=\"data row8 col1\" >0.8845</td>\n",
       "      <td id=\"T_d41f0_row8_col2\" class=\"data row8 col2\" >0.8961</td>\n",
       "      <td id=\"T_d41f0_row8_col3\" class=\"data row8 col3\" >0.7776</td>\n",
       "      <td id=\"T_d41f0_row8_col4\" class=\"data row8 col4\" >0.8326</td>\n",
       "      <td id=\"T_d41f0_row8_col5\" class=\"data row8 col5\" >0.6398</td>\n",
       "      <td id=\"T_d41f0_row8_col6\" class=\"data row8 col6\" >0.6473</td>\n",
       "    </tr>\n",
       "    <tr>\n",
       "      <th id=\"T_d41f0_level0_row9\" class=\"row_heading level0 row9\" >9</th>\n",
       "      <td id=\"T_d41f0_row9_col0\" class=\"data row9 col0\" >0.8213</td>\n",
       "      <td id=\"T_d41f0_row9_col1\" class=\"data row9 col1\" >0.8845</td>\n",
       "      <td id=\"T_d41f0_row9_col2\" class=\"data row9 col2\" >0.8978</td>\n",
       "      <td id=\"T_d41f0_row9_col3\" class=\"data row9 col3\" >0.7786</td>\n",
       "      <td id=\"T_d41f0_row9_col4\" class=\"data row9 col4\" >0.8340</td>\n",
       "      <td id=\"T_d41f0_row9_col5\" class=\"data row9 col5\" >0.6425</td>\n",
       "      <td id=\"T_d41f0_row9_col6\" class=\"data row9 col6\" >0.6502</td>\n",
       "    </tr>\n",
       "    <tr>\n",
       "      <th id=\"T_d41f0_level0_row10\" class=\"row_heading level0 row10\" >Mean</th>\n",
       "      <td id=\"T_d41f0_row10_col0\" class=\"data row10 col0\" >0.8229</td>\n",
       "      <td id=\"T_d41f0_row10_col1\" class=\"data row10 col1\" >0.8848</td>\n",
       "      <td id=\"T_d41f0_row10_col2\" class=\"data row10 col2\" >0.8998</td>\n",
       "      <td id=\"T_d41f0_row10_col3\" class=\"data row10 col3\" >0.7798</td>\n",
       "      <td id=\"T_d41f0_row10_col4\" class=\"data row10 col4\" >0.8355</td>\n",
       "      <td id=\"T_d41f0_row10_col5\" class=\"data row10 col5\" >0.6458</td>\n",
       "      <td id=\"T_d41f0_row10_col6\" class=\"data row10 col6\" >0.6536</td>\n",
       "    </tr>\n",
       "    <tr>\n",
       "      <th id=\"T_d41f0_level0_row11\" class=\"row_heading level0 row11\" >Std</th>\n",
       "      <td id=\"T_d41f0_row11_col0\" class=\"data row11 col0\" >0.0021</td>\n",
       "      <td id=\"T_d41f0_row11_col1\" class=\"data row11 col1\" >0.0016</td>\n",
       "      <td id=\"T_d41f0_row11_col2\" class=\"data row11 col2\" >0.0028</td>\n",
       "      <td id=\"T_d41f0_row11_col3\" class=\"data row11 col3\" >0.0018</td>\n",
       "      <td id=\"T_d41f0_row11_col4\" class=\"data row11 col4\" >0.0020</td>\n",
       "      <td id=\"T_d41f0_row11_col5\" class=\"data row11 col5\" >0.0041</td>\n",
       "      <td id=\"T_d41f0_row11_col6\" class=\"data row11 col6\" >0.0042</td>\n",
       "    </tr>\n",
       "  </tbody>\n",
       "</table>\n"
      ],
      "text/plain": [
       "<pandas.io.formats.style.Styler at 0x7f478b70f220>"
      ]
     },
     "metadata": {},
     "output_type": "display_data"
    },
    {
     "data": {
      "text/html": [],
      "text/plain": [
       "<IPython.core.display.HTML object>"
      ]
     },
     "metadata": {},
     "output_type": "display_data"
    }
   ],
   "source": [
    "qda = create_model('qda')"
   ]
  },
  {
   "cell_type": "code",
   "execution_count": 36,
   "metadata": {},
   "outputs": [
    {
     "data": {
      "text/html": [],
      "text/plain": [
       "<IPython.core.display.HTML object>"
      ]
     },
     "metadata": {},
     "output_type": "display_data"
    },
    {
     "data": {
      "image/png": "[encoded data removed]",
      "text/plain": [
       "<Figure size 800x550 with 1 Axes>"
      ]
     },
     "metadata": {},
     "output_type": "display_data"
    }
   ],
   "source": [
    "plot_model(qda, plot = 'confusion_matrix')"
   ]
  },
  {
   "cell_type": "code",
   "execution_count": 37,
   "metadata": {},
   "outputs": [
    {
     "data": {
      "text/html": [],
      "text/plain": [
       "<IPython.core.display.HTML object>"
      ]
     },
     "metadata": {},
     "output_type": "display_data"
    },
    {
     "data": {
      "image/png": "[encoded data removed]",
      "text/plain": [
       "<Figure size 800x550 with 1 Axes>"
      ]
     },
     "metadata": {},
     "output_type": "display_data"
    }
   ],
   "source": [
    "plot_model(qda, plot = 'error')"
   ]
  },
  {
   "cell_type": "code",
   "execution_count": 38,
   "metadata": {},
   "outputs": [
    {
     "data": {
      "text/html": [],
      "text/plain": [
       "<IPython.core.display.HTML object>"
      ]
     },
     "metadata": {},
     "output_type": "display_data"
    },
    {
     "data": {
      "text/html": [
       "<div>\n",
       "<style scoped>\n",
       "    .dataframe tbody tr th:only-of-type {\n",
       "        vertical-align: middle;\n",
       "    }\n",
       "\n",
       "    .dataframe tbody tr th {\n",
       "        vertical-align: top;\n",
       "    }\n",
       "\n",
       "    .dataframe thead th {\n",
       "        text-align: right;\n",
       "    }\n",
       "</style>\n",
       "<table border=\"1\" class=\"dataframe\">\n",
       "  <thead>\n",
       "    <tr style=\"text-align: right;\">\n",
       "      <th></th>\n",
       "      <th>Parameters</th>\n",
       "    </tr>\n",
       "  </thead>\n",
       "  <tbody>\n",
       "    <tr>\n",
       "      <th>priors</th>\n",
       "      <td>None</td>\n",
       "    </tr>\n",
       "    <tr>\n",
       "      <th>reg_param</th>\n",
       "      <td>0.0</td>\n",
       "    </tr>\n",
       "    <tr>\n",
       "      <th>store_covariance</th>\n",
       "      <td>False</td>\n",
       "    </tr>\n",
       "    <tr>\n",
       "      <th>tol</th>\n",
       "      <td>0.0001</td>\n",
       "    </tr>\n",
       "  </tbody>\n",
       "</table>\n",
       "</div>"
      ],
      "text/plain": [
       "                 Parameters\n",
       "priors                 None\n",
       "reg_param               0.0\n",
       "store_covariance      False\n",
       "tol                  0.0001"
      ]
     },
     "metadata": {},
     "output_type": "display_data"
    }
   ],
   "source": [
    "plot_model(qda, plot = 'parameter')"
   ]
  },
  {
   "cell_type": "code",
   "execution_count": 39,
   "metadata": {},
   "outputs": [
    {
     "name": "stdout",
     "output_type": "stream",
     "text": [
      "Transformation Pipeline and Model Successfully Saved\n"
     ]
    },
    {
     "data": {
      "text/plain": [
       "(Pipeline(memory=FastMemory(location=/tmp/joblib),\n",
       "          steps=[('numerical_imputer',\n",
       "                  TransformerWrapper(exclude=None,\n",
       "                                     include=['0', '1', '2', '3', '4', '5', '6',\n",
       "                                              '7', '8', '9', '10', '11', '12',\n",
       "                                              '13', '14', '15', '16', '17', '18',\n",
       "                                              '19', '20', '21', '22', '23', '24',\n",
       "                                              '25', '26', '27', '28', '29', ...],\n",
       "                                     transformer=SimpleImputer(add_indicator=False,\n",
       "                                                               copy=True,\n",
       "                                                               fill_value=None,\n",
       "                                                               keep_empty_feat...\n",
       "                 ('categorical_imputer',\n",
       "                  TransformerWrapper(exclude=None, include=[],\n",
       "                                     transformer=SimpleImputer(add_indicator=False,\n",
       "                                                               copy=True,\n",
       "                                                               fill_value=None,\n",
       "                                                               keep_empty_features=False,\n",
       "                                                               missing_values=nan,\n",
       "                                                               strategy='most_frequent',\n",
       "                                                               verbose='deprecated'))),\n",
       "                 ('trained_model',\n",
       "                  QuadraticDiscriminantAnalysis(priors=None, reg_param=0.0,\n",
       "                                                store_covariance=False,\n",
       "                                                tol=0.0001))],\n",
       "          verbose=False),\n",
       " 'models_classif/toruse/qda.pkl')"
      ]
     },
     "execution_count": 39,
     "metadata": {},
     "output_type": "execute_result"
    }
   ],
   "source": [
    "save_model(qda, 'models_classif/toruse/qda')"
   ]
  },
  {
   "cell_type": "markdown",
   "metadata": {},
   "source": [
    "# Linear Discriminant Analysis"
   ]
  },
  {
   "cell_type": "code",
   "execution_count": 40,
   "metadata": {},
   "outputs": [
    {
     "data": {
      "text/html": [],
      "text/plain": [
       "<IPython.core.display.HTML object>"
      ]
     },
     "metadata": {},
     "output_type": "display_data"
    },
    {
     "data": {
      "text/html": [
       "<style type=\"text/css\">\n",
       "#T_e9489_row10_col0, #T_e9489_row10_col1, #T_e9489_row10_col2, #T_e9489_row10_col3, #T_e9489_row10_col4, #T_e9489_row10_col5, #T_e9489_row10_col6 {\n",
       "  background: yellow;\n",
       "}\n",
       "</style>\n",
       "<table id=\"T_e9489\">\n",
       "  <thead>\n",
       "    <tr>\n",
       "      <th class=\"blank level0\" >&nbsp;</th>\n",
       "      <th id=\"T_e9489_level0_col0\" class=\"col_heading level0 col0\" >Accuracy</th>\n",
       "      <th id=\"T_e9489_level0_col1\" class=\"col_heading level0 col1\" >AUC</th>\n",
       "      <th id=\"T_e9489_level0_col2\" class=\"col_heading level0 col2\" >Recall</th>\n",
       "      <th id=\"T_e9489_level0_col3\" class=\"col_heading level0 col3\" >Prec.</th>\n",
       "      <th id=\"T_e9489_level0_col4\" class=\"col_heading level0 col4\" >F1</th>\n",
       "      <th id=\"T_e9489_level0_col5\" class=\"col_heading level0 col5\" >Kappa</th>\n",
       "      <th id=\"T_e9489_level0_col6\" class=\"col_heading level0 col6\" >MCC</th>\n",
       "    </tr>\n",
       "    <tr>\n",
       "      <th class=\"index_name level0\" >Fold</th>\n",
       "      <th class=\"blank col0\" >&nbsp;</th>\n",
       "      <th class=\"blank col1\" >&nbsp;</th>\n",
       "      <th class=\"blank col2\" >&nbsp;</th>\n",
       "      <th class=\"blank col3\" >&nbsp;</th>\n",
       "      <th class=\"blank col4\" >&nbsp;</th>\n",
       "      <th class=\"blank col5\" >&nbsp;</th>\n",
       "      <th class=\"blank col6\" >&nbsp;</th>\n",
       "    </tr>\n",
       "  </thead>\n",
       "  <tbody>\n",
       "    <tr>\n",
       "      <th id=\"T_e9489_level0_row0\" class=\"row_heading level0 row0\" >0</th>\n",
       "      <td id=\"T_e9489_row0_col0\" class=\"data row0 col0\" >0.8438</td>\n",
       "      <td id=\"T_e9489_row0_col1\" class=\"data row0 col1\" >0.8758</td>\n",
       "      <td id=\"T_e9489_row0_col2\" class=\"data row0 col2\" >0.9726</td>\n",
       "      <td id=\"T_e9489_row0_col3\" class=\"data row0 col3\" >0.7734</td>\n",
       "      <td id=\"T_e9489_row0_col4\" class=\"data row0 col4\" >0.8616</td>\n",
       "      <td id=\"T_e9489_row0_col5\" class=\"data row0 col5\" >0.6877</td>\n",
       "      <td id=\"T_e9489_row0_col6\" class=\"data row0 col6\" >0.7117</td>\n",
       "    </tr>\n",
       "    <tr>\n",
       "      <th id=\"T_e9489_level0_row1\" class=\"row_heading level0 row1\" >1</th>\n",
       "      <td id=\"T_e9489_row1_col0\" class=\"data row1 col0\" >0.8427</td>\n",
       "      <td id=\"T_e9489_row1_col1\" class=\"data row1 col1\" >0.8746</td>\n",
       "      <td id=\"T_e9489_row1_col2\" class=\"data row1 col2\" >0.9716</td>\n",
       "      <td id=\"T_e9489_row1_col3\" class=\"data row1 col3\" >0.7725</td>\n",
       "      <td id=\"T_e9489_row1_col4\" class=\"data row1 col4\" >0.8607</td>\n",
       "      <td id=\"T_e9489_row1_col5\" class=\"data row1 col5\" >0.6855</td>\n",
       "      <td id=\"T_e9489_row1_col6\" class=\"data row1 col6\" >0.7094</td>\n",
       "    </tr>\n",
       "    <tr>\n",
       "      <th id=\"T_e9489_level0_row2\" class=\"row_heading level0 row2\" >2</th>\n",
       "      <td id=\"T_e9489_row2_col0\" class=\"data row2 col0\" >0.8387</td>\n",
       "      <td id=\"T_e9489_row2_col1\" class=\"data row2 col1\" >0.8747</td>\n",
       "      <td id=\"T_e9489_row2_col2\" class=\"data row2 col2\" >0.9697</td>\n",
       "      <td id=\"T_e9489_row2_col3\" class=\"data row2 col3\" >0.7684</td>\n",
       "      <td id=\"T_e9489_row2_col4\" class=\"data row2 col4\" >0.8574</td>\n",
       "      <td id=\"T_e9489_row2_col5\" class=\"data row2 col5\" >0.6773</td>\n",
       "      <td id=\"T_e9489_row2_col6\" class=\"data row2 col6\" >0.7019</td>\n",
       "    </tr>\n",
       "    <tr>\n",
       "      <th id=\"T_e9489_level0_row3\" class=\"row_heading level0 row3\" >3</th>\n",
       "      <td id=\"T_e9489_row3_col0\" class=\"data row3 col0\" >0.8412</td>\n",
       "      <td id=\"T_e9489_row3_col1\" class=\"data row3 col1\" >0.8736</td>\n",
       "      <td id=\"T_e9489_row3_col2\" class=\"data row3 col2\" >0.9722</td>\n",
       "      <td id=\"T_e9489_row3_col3\" class=\"data row3 col3\" >0.7703</td>\n",
       "      <td id=\"T_e9489_row3_col4\" class=\"data row3 col4\" >0.8596</td>\n",
       "      <td id=\"T_e9489_row3_col5\" class=\"data row3 col5\" >0.6824</td>\n",
       "      <td id=\"T_e9489_row3_col6\" class=\"data row3 col6\" >0.7071</td>\n",
       "    </tr>\n",
       "    <tr>\n",
       "      <th id=\"T_e9489_level0_row4\" class=\"row_heading level0 row4\" >4</th>\n",
       "      <td id=\"T_e9489_row4_col0\" class=\"data row4 col0\" >0.8425</td>\n",
       "      <td id=\"T_e9489_row4_col1\" class=\"data row4 col1\" >0.8760</td>\n",
       "      <td id=\"T_e9489_row4_col2\" class=\"data row4 col2\" >0.9725</td>\n",
       "      <td id=\"T_e9489_row4_col3\" class=\"data row4 col3\" >0.7718</td>\n",
       "      <td id=\"T_e9489_row4_col4\" class=\"data row4 col4\" >0.8606</td>\n",
       "      <td id=\"T_e9489_row4_col5\" class=\"data row4 col5\" >0.6850</td>\n",
       "      <td id=\"T_e9489_row4_col6\" class=\"data row4 col6\" >0.7094</td>\n",
       "    </tr>\n",
       "    <tr>\n",
       "      <th id=\"T_e9489_level0_row5\" class=\"row_heading level0 row5\" >5</th>\n",
       "      <td id=\"T_e9489_row5_col0\" class=\"data row5 col0\" >0.8405</td>\n",
       "      <td id=\"T_e9489_row5_col1\" class=\"data row5 col1\" >0.8745</td>\n",
       "      <td id=\"T_e9489_row5_col2\" class=\"data row5 col2\" >0.9712</td>\n",
       "      <td id=\"T_e9489_row5_col3\" class=\"data row5 col3\" >0.7699</td>\n",
       "      <td id=\"T_e9489_row5_col4\" class=\"data row5 col4\" >0.8589</td>\n",
       "      <td id=\"T_e9489_row5_col5\" class=\"data row5 col5\" >0.6810</td>\n",
       "      <td id=\"T_e9489_row5_col6\" class=\"data row5 col6\" >0.7055</td>\n",
       "    </tr>\n",
       "    <tr>\n",
       "      <th id=\"T_e9489_level0_row6\" class=\"row_heading level0 row6\" >6</th>\n",
       "      <td id=\"T_e9489_row6_col0\" class=\"data row6 col0\" >0.8411</td>\n",
       "      <td id=\"T_e9489_row6_col1\" class=\"data row6 col1\" >0.8712</td>\n",
       "      <td id=\"T_e9489_row6_col2\" class=\"data row6 col2\" >0.9728</td>\n",
       "      <td id=\"T_e9489_row6_col3\" class=\"data row6 col3\" >0.7700</td>\n",
       "      <td id=\"T_e9489_row6_col4\" class=\"data row6 col4\" >0.8596</td>\n",
       "      <td id=\"T_e9489_row6_col5\" class=\"data row6 col5\" >0.6823</td>\n",
       "      <td id=\"T_e9489_row6_col6\" class=\"data row6 col6\" >0.7072</td>\n",
       "    </tr>\n",
       "    <tr>\n",
       "      <th id=\"T_e9489_level0_row7\" class=\"row_heading level0 row7\" >7</th>\n",
       "      <td id=\"T_e9489_row7_col0\" class=\"data row7 col0\" >0.8439</td>\n",
       "      <td id=\"T_e9489_row7_col1\" class=\"data row7 col1\" >0.8741</td>\n",
       "      <td id=\"T_e9489_row7_col2\" class=\"data row7 col2\" >0.9710</td>\n",
       "      <td id=\"T_e9489_row7_col3\" class=\"data row7 col3\" >0.7742</td>\n",
       "      <td id=\"T_e9489_row7_col4\" class=\"data row7 col4\" >0.8615</td>\n",
       "      <td id=\"T_e9489_row7_col5\" class=\"data row7 col5\" >0.6877</td>\n",
       "      <td id=\"T_e9489_row7_col6\" class=\"data row7 col6\" >0.7111</td>\n",
       "    </tr>\n",
       "    <tr>\n",
       "      <th id=\"T_e9489_level0_row8\" class=\"row_heading level0 row8\" >8</th>\n",
       "      <td id=\"T_e9489_row8_col0\" class=\"data row8 col0\" >0.8405</td>\n",
       "      <td id=\"T_e9489_row8_col1\" class=\"data row8 col1\" >0.8698</td>\n",
       "      <td id=\"T_e9489_row8_col2\" class=\"data row8 col2\" >0.9715</td>\n",
       "      <td id=\"T_e9489_row8_col3\" class=\"data row8 col3\" >0.7698</td>\n",
       "      <td id=\"T_e9489_row8_col4\" class=\"data row8 col4\" >0.8590</td>\n",
       "      <td id=\"T_e9489_row8_col5\" class=\"data row8 col5\" >0.6810</td>\n",
       "      <td id=\"T_e9489_row8_col6\" class=\"data row8 col6\" >0.7057</td>\n",
       "    </tr>\n",
       "    <tr>\n",
       "      <th id=\"T_e9489_level0_row9\" class=\"row_heading level0 row9\" >9</th>\n",
       "      <td id=\"T_e9489_row9_col0\" class=\"data row9 col0\" >0.8407</td>\n",
       "      <td id=\"T_e9489_row9_col1\" class=\"data row9 col1\" >0.8746</td>\n",
       "      <td id=\"T_e9489_row9_col2\" class=\"data row9 col2\" >0.9717</td>\n",
       "      <td id=\"T_e9489_row9_col3\" class=\"data row9 col3\" >0.7700</td>\n",
       "      <td id=\"T_e9489_row9_col4\" class=\"data row9 col4\" >0.8592</td>\n",
       "      <td id=\"T_e9489_row9_col5\" class=\"data row9 col5\" >0.6814</td>\n",
       "      <td id=\"T_e9489_row9_col6\" class=\"data row9 col6\" >0.7061</td>\n",
       "    </tr>\n",
       "    <tr>\n",
       "      <th id=\"T_e9489_level0_row10\" class=\"row_heading level0 row10\" >Mean</th>\n",
       "      <td id=\"T_e9489_row10_col0\" class=\"data row10 col0\" >0.8416</td>\n",
       "      <td id=\"T_e9489_row10_col1\" class=\"data row10 col1\" >0.8739</td>\n",
       "      <td id=\"T_e9489_row10_col2\" class=\"data row10 col2\" >0.9717</td>\n",
       "      <td id=\"T_e9489_row10_col3\" class=\"data row10 col3\" >0.7710</td>\n",
       "      <td id=\"T_e9489_row10_col4\" class=\"data row10 col4\" >0.8598</td>\n",
       "      <td id=\"T_e9489_row10_col5\" class=\"data row10 col5\" >0.6831</td>\n",
       "      <td id=\"T_e9489_row10_col6\" class=\"data row10 col6\" >0.7075</td>\n",
       "    </tr>\n",
       "    <tr>\n",
       "      <th id=\"T_e9489_level0_row11\" class=\"row_heading level0 row11\" >Std</th>\n",
       "      <td id=\"T_e9489_row11_col0\" class=\"data row11 col0\" >0.0016</td>\n",
       "      <td id=\"T_e9489_row11_col1\" class=\"data row11 col1\" >0.0018</td>\n",
       "      <td id=\"T_e9489_row11_col2\" class=\"data row11 col2\" >0.0009</td>\n",
       "      <td id=\"T_e9489_row11_col3\" class=\"data row11 col3\" >0.0018</td>\n",
       "      <td id=\"T_e9489_row11_col4\" class=\"data row11 col4\" >0.0012</td>\n",
       "      <td id=\"T_e9489_row11_col5\" class=\"data row11 col5\" >0.0031</td>\n",
       "      <td id=\"T_e9489_row11_col6\" class=\"data row11 col6\" >0.0028</td>\n",
       "    </tr>\n",
       "  </tbody>\n",
       "</table>\n"
      ],
      "text/plain": [
       "<pandas.io.formats.style.Styler at 0x7f478b7bbfa0>"
      ]
     },
     "metadata": {},
     "output_type": "display_data"
    },
    {
     "data": {
      "text/html": [],
      "text/plain": [
       "<IPython.core.display.HTML object>"
      ]
     },
     "metadata": {},
     "output_type": "display_data"
    }
   ],
   "source": [
    "lda = create_model('lda')"
   ]
  },
  {
   "cell_type": "code",
   "execution_count": 41,
   "metadata": {},
   "outputs": [
    {
     "data": {
      "text/html": [],
      "text/plain": [
       "<IPython.core.display.HTML object>"
      ]
     },
     "metadata": {},
     "output_type": "display_data"
    },
    {
     "data": {
      "image/png": "[encoded data removed]",
      "text/plain": [
       "<Figure size 800x550 with 1 Axes>"
      ]
     },
     "metadata": {},
     "output_type": "display_data"
    }
   ],
   "source": [
    "plot_model(lda, plot = 'confusion_matrix')"
   ]
  },
  {
   "cell_type": "code",
   "execution_count": 42,
   "metadata": {},
   "outputs": [
    {
     "data": {
      "text/html": [],
      "text/plain": [
       "<IPython.core.display.HTML object>"
      ]
     },
     "metadata": {},
     "output_type": "display_data"
    },
    {
     "data": {
      "image/png": "[encoded data removed]",
      "text/plain": [
       "<Figure size 800x550 with 1 Axes>"
      ]
     },
     "metadata": {},
     "output_type": "display_data"
    }
   ],
   "source": [
    "plot_model(lda, plot = 'error')"
   ]
  },
  {
   "cell_type": "code",
   "execution_count": 43,
   "metadata": {},
   "outputs": [
    {
     "data": {
      "text/html": [],
      "text/plain": [
       "<IPython.core.display.HTML object>"
      ]
     },
     "metadata": {},
     "output_type": "display_data"
    },
    {
     "data": {
      "text/html": [
       "<div>\n",
       "<style scoped>\n",
       "    .dataframe tbody tr th:only-of-type {\n",
       "        vertical-align: middle;\n",
       "    }\n",
       "\n",
       "    .dataframe tbody tr th {\n",
       "        vertical-align: top;\n",
       "    }\n",
       "\n",
       "    .dataframe thead th {\n",
       "        text-align: right;\n",
       "    }\n",
       "</style>\n",
       "<table border=\"1\" class=\"dataframe\">\n",
       "  <thead>\n",
       "    <tr style=\"text-align: right;\">\n",
       "      <th></th>\n",
       "      <th>Parameters</th>\n",
       "    </tr>\n",
       "  </thead>\n",
       "  <tbody>\n",
       "    <tr>\n",
       "      <th>covariance_estimator</th>\n",
       "      <td>None</td>\n",
       "    </tr>\n",
       "    <tr>\n",
       "      <th>n_components</th>\n",
       "      <td>None</td>\n",
       "    </tr>\n",
       "    <tr>\n",
       "      <th>priors</th>\n",
       "      <td>None</td>\n",
       "    </tr>\n",
       "    <tr>\n",
       "      <th>shrinkage</th>\n",
       "      <td>None</td>\n",
       "    </tr>\n",
       "    <tr>\n",
       "      <th>solver</th>\n",
       "      <td>svd</td>\n",
       "    </tr>\n",
       "    <tr>\n",
       "      <th>store_covariance</th>\n",
       "      <td>False</td>\n",
       "    </tr>\n",
       "    <tr>\n",
       "      <th>tol</th>\n",
       "      <td>0.0001</td>\n",
       "    </tr>\n",
       "  </tbody>\n",
       "</table>\n",
       "</div>"
      ],
      "text/plain": [
       "                     Parameters\n",
       "covariance_estimator       None\n",
       "n_components               None\n",
       "priors                     None\n",
       "shrinkage                  None\n",
       "solver                      svd\n",
       "store_covariance          False\n",
       "tol                      0.0001"
      ]
     },
     "metadata": {},
     "output_type": "display_data"
    }
   ],
   "source": [
    "plot_model(lda, plot = 'parameter')"
   ]
  },
  {
   "cell_type": "code",
   "execution_count": 44,
   "metadata": {},
   "outputs": [
    {
     "name": "stdout",
     "output_type": "stream",
     "text": [
      "Transformation Pipeline and Model Successfully Saved\n"
     ]
    },
    {
     "data": {
      "text/plain": [
       "(Pipeline(memory=FastMemory(location=/tmp/joblib),\n",
       "          steps=[('numerical_imputer',\n",
       "                  TransformerWrapper(exclude=None,\n",
       "                                     include=['0', '1', '2', '3', '4', '5', '6',\n",
       "                                              '7', '8', '9', '10', '11', '12',\n",
       "                                              '13', '14', '15', '16', '17', '18',\n",
       "                                              '19', '20', '21', '22', '23', '24',\n",
       "                                              '25', '26', '27', '28', '29', ...],\n",
       "                                     transformer=SimpleImputer(add_indicator=False,\n",
       "                                                               copy=True,\n",
       "                                                               fill_value=None,\n",
       "                                                               keep_empty_feat...\n",
       "                  TransformerWrapper(exclude=None, include=[],\n",
       "                                     transformer=SimpleImputer(add_indicator=False,\n",
       "                                                               copy=True,\n",
       "                                                               fill_value=None,\n",
       "                                                               keep_empty_features=False,\n",
       "                                                               missing_values=nan,\n",
       "                                                               strategy='most_frequent',\n",
       "                                                               verbose='deprecated'))),\n",
       "                 ('trained_model',\n",
       "                  LinearDiscriminantAnalysis(covariance_estimator=None,\n",
       "                                             n_components=None, priors=None,\n",
       "                                             shrinkage=None, solver='svd',\n",
       "                                             store_covariance=False,\n",
       "                                             tol=0.0001))],\n",
       "          verbose=False),\n",
       " 'models_classif/toruse/lda.pkl')"
      ]
     },
     "execution_count": 44,
     "metadata": {},
     "output_type": "execute_result"
    }
   ],
   "source": [
    "save_model(lda, 'models_classif/toruse/lda')"
   ]
  },
  {
   "cell_type": "markdown",
   "metadata": {},
   "source": [
    "# Extra Trees"
   ]
  },
  {
   "cell_type": "code",
   "execution_count": 45,
   "metadata": {},
   "outputs": [
    {
     "data": {
      "text/html": [],
      "text/plain": [
       "<IPython.core.display.HTML object>"
      ]
     },
     "metadata": {},
     "output_type": "display_data"
    },
    {
     "data": {
      "text/html": [
       "<style type=\"text/css\">\n",
       "#T_1845d_row10_col0, #T_1845d_row10_col1, #T_1845d_row10_col2, #T_1845d_row10_col3, #T_1845d_row10_col4, #T_1845d_row10_col5, #T_1845d_row10_col6 {\n",
       "  background: yellow;\n",
       "}\n",
       "</style>\n",
       "<table id=\"T_1845d\">\n",
       "  <thead>\n",
       "    <tr>\n",
       "      <th class=\"blank level0\" >&nbsp;</th>\n",
       "      <th id=\"T_1845d_level0_col0\" class=\"col_heading level0 col0\" >Accuracy</th>\n",
       "      <th id=\"T_1845d_level0_col1\" class=\"col_heading level0 col1\" >AUC</th>\n",
       "      <th id=\"T_1845d_level0_col2\" class=\"col_heading level0 col2\" >Recall</th>\n",
       "      <th id=\"T_1845d_level0_col3\" class=\"col_heading level0 col3\" >Prec.</th>\n",
       "      <th id=\"T_1845d_level0_col4\" class=\"col_heading level0 col4\" >F1</th>\n",
       "      <th id=\"T_1845d_level0_col5\" class=\"col_heading level0 col5\" >Kappa</th>\n",
       "      <th id=\"T_1845d_level0_col6\" class=\"col_heading level0 col6\" >MCC</th>\n",
       "    </tr>\n",
       "    <tr>\n",
       "      <th class=\"index_name level0\" >Fold</th>\n",
       "      <th class=\"blank col0\" >&nbsp;</th>\n",
       "      <th class=\"blank col1\" >&nbsp;</th>\n",
       "      <th class=\"blank col2\" >&nbsp;</th>\n",
       "      <th class=\"blank col3\" >&nbsp;</th>\n",
       "      <th class=\"blank col4\" >&nbsp;</th>\n",
       "      <th class=\"blank col5\" >&nbsp;</th>\n",
       "      <th class=\"blank col6\" >&nbsp;</th>\n",
       "    </tr>\n",
       "  </thead>\n",
       "  <tbody>\n",
       "    <tr>\n",
       "      <th id=\"T_1845d_level0_row0\" class=\"row_heading level0 row0\" >0</th>\n",
       "      <td id=\"T_1845d_row0_col0\" class=\"data row0 col0\" >0.8661</td>\n",
       "      <td id=\"T_1845d_row0_col1\" class=\"data row0 col1\" >0.9427</td>\n",
       "      <td id=\"T_1845d_row0_col2\" class=\"data row0 col2\" >0.9470</td>\n",
       "      <td id=\"T_1845d_row0_col3\" class=\"data row0 col3\" >0.8151</td>\n",
       "      <td id=\"T_1845d_row0_col4\" class=\"data row0 col4\" >0.8761</td>\n",
       "      <td id=\"T_1845d_row0_col5\" class=\"data row0 col5\" >0.7321</td>\n",
       "      <td id=\"T_1845d_row0_col6\" class=\"data row0 col6\" >0.7419</td>\n",
       "    </tr>\n",
       "    <tr>\n",
       "      <th id=\"T_1845d_level0_row1\" class=\"row_heading level0 row1\" >1</th>\n",
       "      <td id=\"T_1845d_row1_col0\" class=\"data row1 col0\" >0.8680</td>\n",
       "      <td id=\"T_1845d_row1_col1\" class=\"data row1 col1\" >0.9425</td>\n",
       "      <td id=\"T_1845d_row1_col2\" class=\"data row1 col2\" >0.9454</td>\n",
       "      <td id=\"T_1845d_row1_col3\" class=\"data row1 col3\" >0.8187</td>\n",
       "      <td id=\"T_1845d_row1_col4\" class=\"data row1 col4\" >0.8775</td>\n",
       "      <td id=\"T_1845d_row1_col5\" class=\"data row1 col5\" >0.7360</td>\n",
       "      <td id=\"T_1845d_row1_col6\" class=\"data row1 col6\" >0.7450</td>\n",
       "    </tr>\n",
       "    <tr>\n",
       "      <th id=\"T_1845d_level0_row2\" class=\"row_heading level0 row2\" >2</th>\n",
       "      <td id=\"T_1845d_row2_col0\" class=\"data row2 col0\" >0.8643</td>\n",
       "      <td id=\"T_1845d_row2_col1\" class=\"data row2 col1\" >0.9399</td>\n",
       "      <td id=\"T_1845d_row2_col2\" class=\"data row2 col2\" >0.9442</td>\n",
       "      <td id=\"T_1845d_row2_col3\" class=\"data row2 col3\" >0.8142</td>\n",
       "      <td id=\"T_1845d_row2_col4\" class=\"data row2 col4\" >0.8744</td>\n",
       "      <td id=\"T_1845d_row2_col5\" class=\"data row2 col5\" >0.7287</td>\n",
       "      <td id=\"T_1845d_row2_col6\" class=\"data row2 col6\" >0.7381</td>\n",
       "    </tr>\n",
       "    <tr>\n",
       "      <th id=\"T_1845d_level0_row3\" class=\"row_heading level0 row3\" >3</th>\n",
       "      <td id=\"T_1845d_row3_col0\" class=\"data row3 col0\" >0.8648</td>\n",
       "      <td id=\"T_1845d_row3_col1\" class=\"data row3 col1\" >0.9410</td>\n",
       "      <td id=\"T_1845d_row3_col2\" class=\"data row3 col2\" >0.9476</td>\n",
       "      <td id=\"T_1845d_row3_col3\" class=\"data row3 col3\" >0.8130</td>\n",
       "      <td id=\"T_1845d_row3_col4\" class=\"data row3 col4\" >0.8751</td>\n",
       "      <td id=\"T_1845d_row3_col5\" class=\"data row3 col5\" >0.7296</td>\n",
       "      <td id=\"T_1845d_row3_col6\" class=\"data row3 col6\" >0.7398</td>\n",
       "    </tr>\n",
       "    <tr>\n",
       "      <th id=\"T_1845d_level0_row4\" class=\"row_heading level0 row4\" >4</th>\n",
       "      <td id=\"T_1845d_row4_col0\" class=\"data row4 col0\" >0.8670</td>\n",
       "      <td id=\"T_1845d_row4_col1\" class=\"data row4 col1\" >0.9429</td>\n",
       "      <td id=\"T_1845d_row4_col2\" class=\"data row4 col2\" >0.9465</td>\n",
       "      <td id=\"T_1845d_row4_col3\" class=\"data row4 col3\" >0.8167</td>\n",
       "      <td id=\"T_1845d_row4_col4\" class=\"data row4 col4\" >0.8768</td>\n",
       "      <td id=\"T_1845d_row4_col5\" class=\"data row4 col5\" >0.7341</td>\n",
       "      <td id=\"T_1845d_row4_col6\" class=\"data row4 col6\" >0.7435</td>\n",
       "    </tr>\n",
       "    <tr>\n",
       "      <th id=\"T_1845d_level0_row5\" class=\"row_heading level0 row5\" >5</th>\n",
       "      <td id=\"T_1845d_row5_col0\" class=\"data row5 col0\" >0.8648</td>\n",
       "      <td id=\"T_1845d_row5_col1\" class=\"data row5 col1\" >0.9408</td>\n",
       "      <td id=\"T_1845d_row5_col2\" class=\"data row5 col2\" >0.9440</td>\n",
       "      <td id=\"T_1845d_row5_col3\" class=\"data row5 col3\" >0.8149</td>\n",
       "      <td id=\"T_1845d_row5_col4\" class=\"data row5 col4\" >0.8747</td>\n",
       "      <td id=\"T_1845d_row5_col5\" class=\"data row5 col5\" >0.7296</td>\n",
       "      <td id=\"T_1845d_row5_col6\" class=\"data row5 col6\" >0.7389</td>\n",
       "    </tr>\n",
       "    <tr>\n",
       "      <th id=\"T_1845d_level0_row6\" class=\"row_heading level0 row6\" >6</th>\n",
       "      <td id=\"T_1845d_row6_col0\" class=\"data row6 col0\" >0.8655</td>\n",
       "      <td id=\"T_1845d_row6_col1\" class=\"data row6 col1\" >0.9412</td>\n",
       "      <td id=\"T_1845d_row6_col2\" class=\"data row6 col2\" >0.9493</td>\n",
       "      <td id=\"T_1845d_row6_col3\" class=\"data row6 col3\" >0.8131</td>\n",
       "      <td id=\"T_1845d_row6_col4\" class=\"data row6 col4\" >0.8759</td>\n",
       "      <td id=\"T_1845d_row6_col5\" class=\"data row6 col5\" >0.7311</td>\n",
       "      <td id=\"T_1845d_row6_col6\" class=\"data row6 col6\" >0.7416</td>\n",
       "    </tr>\n",
       "    <tr>\n",
       "      <th id=\"T_1845d_level0_row7\" class=\"row_heading level0 row7\" >7</th>\n",
       "      <td id=\"T_1845d_row7_col0\" class=\"data row7 col0\" >0.8684</td>\n",
       "      <td id=\"T_1845d_row7_col1\" class=\"data row7 col1\" >0.9424</td>\n",
       "      <td id=\"T_1845d_row7_col2\" class=\"data row7 col2\" >0.9470</td>\n",
       "      <td id=\"T_1845d_row7_col3\" class=\"data row7 col3\" >0.8184</td>\n",
       "      <td id=\"T_1845d_row7_col4\" class=\"data row7 col4\" >0.8780</td>\n",
       "      <td id=\"T_1845d_row7_col5\" class=\"data row7 col5\" >0.7368</td>\n",
       "      <td id=\"T_1845d_row7_col6\" class=\"data row7 col6\" >0.7461</td>\n",
       "    </tr>\n",
       "    <tr>\n",
       "      <th id=\"T_1845d_level0_row8\" class=\"row_heading level0 row8\" >8</th>\n",
       "      <td id=\"T_1845d_row8_col0\" class=\"data row8 col0\" >0.8656</td>\n",
       "      <td id=\"T_1845d_row8_col1\" class=\"data row8 col1\" >0.9407</td>\n",
       "      <td id=\"T_1845d_row8_col2\" class=\"data row8 col2\" >0.9475</td>\n",
       "      <td id=\"T_1845d_row8_col3\" class=\"data row8 col3\" >0.8141</td>\n",
       "      <td id=\"T_1845d_row8_col4\" class=\"data row8 col4\" >0.8758</td>\n",
       "      <td id=\"T_1845d_row8_col5\" class=\"data row8 col5\" >0.7312</td>\n",
       "      <td id=\"T_1845d_row8_col6\" class=\"data row8 col6\" >0.7412</td>\n",
       "    </tr>\n",
       "    <tr>\n",
       "      <th id=\"T_1845d_level0_row9\" class=\"row_heading level0 row9\" >9</th>\n",
       "      <td id=\"T_1845d_row9_col0\" class=\"data row9 col0\" >0.8645</td>\n",
       "      <td id=\"T_1845d_row9_col1\" class=\"data row9 col1\" >0.9410</td>\n",
       "      <td id=\"T_1845d_row9_col2\" class=\"data row9 col2\" >0.9442</td>\n",
       "      <td id=\"T_1845d_row9_col3\" class=\"data row9 col3\" >0.8145</td>\n",
       "      <td id=\"T_1845d_row9_col4\" class=\"data row9 col4\" >0.8745</td>\n",
       "      <td id=\"T_1845d_row9_col5\" class=\"data row9 col5\" >0.7291</td>\n",
       "      <td id=\"T_1845d_row9_col6\" class=\"data row9 col6\" >0.7385</td>\n",
       "    </tr>\n",
       "    <tr>\n",
       "      <th id=\"T_1845d_level0_row10\" class=\"row_heading level0 row10\" >Mean</th>\n",
       "      <td id=\"T_1845d_row10_col0\" class=\"data row10 col0\" >0.8659</td>\n",
       "      <td id=\"T_1845d_row10_col1\" class=\"data row10 col1\" >0.9415</td>\n",
       "      <td id=\"T_1845d_row10_col2\" class=\"data row10 col2\" >0.9463</td>\n",
       "      <td id=\"T_1845d_row10_col3\" class=\"data row10 col3\" >0.8153</td>\n",
       "      <td id=\"T_1845d_row10_col4\" class=\"data row10 col4\" >0.8759</td>\n",
       "      <td id=\"T_1845d_row10_col5\" class=\"data row10 col5\" >0.7318</td>\n",
       "      <td id=\"T_1845d_row10_col6\" class=\"data row10 col6\" >0.7415</td>\n",
       "    </tr>\n",
       "    <tr>\n",
       "      <th id=\"T_1845d_level0_row11\" class=\"row_heading level0 row11\" >Std</th>\n",
       "      <td id=\"T_1845d_row11_col0\" class=\"data row11 col0\" >0.0014</td>\n",
       "      <td id=\"T_1845d_row11_col1\" class=\"data row11 col1\" >0.0010</td>\n",
       "      <td id=\"T_1845d_row11_col2\" class=\"data row11 col2\" >0.0017</td>\n",
       "      <td id=\"T_1845d_row11_col3\" class=\"data row11 col3\" >0.0019</td>\n",
       "      <td id=\"T_1845d_row11_col4\" class=\"data row11 col4\" >0.0012</td>\n",
       "      <td id=\"T_1845d_row11_col5\" class=\"data row11 col5\" >0.0028</td>\n",
       "      <td id=\"T_1845d_row11_col6\" class=\"data row11 col6\" >0.0026</td>\n",
       "    </tr>\n",
       "  </tbody>\n",
       "</table>\n"
      ],
      "text/plain": [
       "<pandas.io.formats.style.Styler at 0x7f478b828970>"
      ]
     },
     "metadata": {},
     "output_type": "display_data"
    },
    {
     "data": {
      "text/html": [],
      "text/plain": [
       "<IPython.core.display.HTML object>"
      ]
     },
     "metadata": {},
     "output_type": "display_data"
    }
   ],
   "source": [
    "et = create_model('et')"
   ]
  },
  {
   "cell_type": "code",
   "execution_count": 46,
   "metadata": {},
   "outputs": [
    {
     "data": {
      "text/html": [],
      "text/plain": [
       "<IPython.core.display.HTML object>"
      ]
     },
     "metadata": {},
     "output_type": "display_data"
    },
    {
     "data": {
      "image/png": "[encoded data removed]",
      "text/plain": [
       "<Figure size 800x550 with 1 Axes>"
      ]
     },
     "metadata": {},
     "output_type": "display_data"
    }
   ],
   "source": [
    "plot_model(et, plot = 'confusion_matrix')"
   ]
  },
  {
   "cell_type": "code",
   "execution_count": 47,
   "metadata": {},
   "outputs": [
    {
     "data": {
      "text/html": [],
      "text/plain": [
       "<IPython.core.display.HTML object>"
      ]
     },
     "metadata": {},
     "output_type": "display_data"
    },
    {
     "data": {
      "image/png": "[encoded data removed]",
      "text/plain": [
       "<Figure size 800x550 with 1 Axes>"
      ]
     },
     "metadata": {},
     "output_type": "display_data"
    }
   ],
   "source": [
    "plot_model(et, plot = 'error')"
   ]
  },
  {
   "cell_type": "code",
   "execution_count": 48,
   "metadata": {},
   "outputs": [
    {
     "data": {
      "text/html": [],
      "text/plain": [
       "<IPython.core.display.HTML object>"
      ]
     },
     "metadata": {},
     "output_type": "display_data"
    },
    {
     "data": {
      "text/html": [
       "<div>\n",
       "<style scoped>\n",
       "    .dataframe tbody tr th:only-of-type {\n",
       "        vertical-align: middle;\n",
       "    }\n",
       "\n",
       "    .dataframe tbody tr th {\n",
       "        vertical-align: top;\n",
       "    }\n",
       "\n",
       "    .dataframe thead th {\n",
       "        text-align: right;\n",
       "    }\n",
       "</style>\n",
       "<table border=\"1\" class=\"dataframe\">\n",
       "  <thead>\n",
       "    <tr style=\"text-align: right;\">\n",
       "      <th></th>\n",
       "      <th>Parameters</th>\n",
       "    </tr>\n",
       "  </thead>\n",
       "  <tbody>\n",
       "    <tr>\n",
       "      <th>bootstrap</th>\n",
       "      <td>False</td>\n",
       "    </tr>\n",
       "    <tr>\n",
       "      <th>ccp_alpha</th>\n",
       "      <td>0.0</td>\n",
       "    </tr>\n",
       "    <tr>\n",
       "      <th>class_weight</th>\n",
       "      <td>None</td>\n",
       "    </tr>\n",
       "    <tr>\n",
       "      <th>criterion</th>\n",
       "      <td>gini</td>\n",
       "    </tr>\n",
       "    <tr>\n",
       "      <th>max_depth</th>\n",
       "      <td>None</td>\n",
       "    </tr>\n",
       "    <tr>\n",
       "      <th>max_features</th>\n",
       "      <td>sqrt</td>\n",
       "    </tr>\n",
       "    <tr>\n",
       "      <th>max_leaf_nodes</th>\n",
       "      <td>None</td>\n",
       "    </tr>\n",
       "    <tr>\n",
       "      <th>max_samples</th>\n",
       "      <td>None</td>\n",
       "    </tr>\n",
       "    <tr>\n",
       "      <th>min_impurity_decrease</th>\n",
       "      <td>0.0</td>\n",
       "    </tr>\n",
       "    <tr>\n",
       "      <th>min_samples_leaf</th>\n",
       "      <td>1</td>\n",
       "    </tr>\n",
       "    <tr>\n",
       "      <th>min_samples_split</th>\n",
       "      <td>2</td>\n",
       "    </tr>\n",
       "    <tr>\n",
       "      <th>min_weight_fraction_leaf</th>\n",
       "      <td>0.0</td>\n",
       "    </tr>\n",
       "    <tr>\n",
       "      <th>n_estimators</th>\n",
       "      <td>100</td>\n",
       "    </tr>\n",
       "    <tr>\n",
       "      <th>n_jobs</th>\n",
       "      <td>-1</td>\n",
       "    </tr>\n",
       "    <tr>\n",
       "      <th>oob_score</th>\n",
       "      <td>False</td>\n",
       "    </tr>\n",
       "    <tr>\n",
       "      <th>random_state</th>\n",
       "      <td>5786</td>\n",
       "    </tr>\n",
       "    <tr>\n",
       "      <th>verbose</th>\n",
       "      <td>0</td>\n",
       "    </tr>\n",
       "    <tr>\n",
       "      <th>warm_start</th>\n",
       "      <td>False</td>\n",
       "    </tr>\n",
       "  </tbody>\n",
       "</table>\n",
       "</div>"
      ],
      "text/plain": [
       "                         Parameters\n",
       "bootstrap                     False\n",
       "ccp_alpha                       0.0\n",
       "class_weight                   None\n",
       "criterion                      gini\n",
       "max_depth                      None\n",
       "max_features                   sqrt\n",
       "max_leaf_nodes                 None\n",
       "max_samples                    None\n",
       "min_impurity_decrease           0.0\n",
       "min_samples_leaf                  1\n",
       "min_samples_split                 2\n",
       "min_weight_fraction_leaf        0.0\n",
       "n_estimators                    100\n",
       "n_jobs                           -1\n",
       "oob_score                     False\n",
       "random_state                   5786\n",
       "verbose                           0\n",
       "warm_start                    False"
      ]
     },
     "metadata": {},
     "output_type": "display_data"
    }
   ],
   "source": [
    "plot_model(et, plot = 'parameter')"
   ]
  },
  {
   "cell_type": "code",
   "execution_count": 49,
   "metadata": {},
   "outputs": [
    {
     "name": "stdout",
     "output_type": "stream",
     "text": [
      "Transformation Pipeline and Model Successfully Saved\n"
     ]
    },
    {
     "data": {
      "text/plain": [
       "(Pipeline(memory=FastMemory(location=/tmp/joblib),\n",
       "          steps=[('numerical_imputer',\n",
       "                  TransformerWrapper(exclude=None,\n",
       "                                     include=['0', '1', '2', '3', '4', '5', '6',\n",
       "                                              '7', '8', '9', '10', '11', '12',\n",
       "                                              '13', '14', '15', '16', '17', '18',\n",
       "                                              '19', '20', '21', '22', '23', '24',\n",
       "                                              '25', '26', '27', '28', '29', ...],\n",
       "                                     transformer=SimpleImputer(add_indicator=False,\n",
       "                                                               copy=True,\n",
       "                                                               fill_value=None,\n",
       "                                                               keep_empty_feat...\n",
       "                  ExtraTreesClassifier(bootstrap=False, ccp_alpha=0.0,\n",
       "                                       class_weight=None, criterion='gini',\n",
       "                                       max_depth=None, max_features='sqrt',\n",
       "                                       max_leaf_nodes=None, max_samples=None,\n",
       "                                       min_impurity_decrease=0.0,\n",
       "                                       min_samples_leaf=1, min_samples_split=2,\n",
       "                                       min_weight_fraction_leaf=0.0,\n",
       "                                       n_estimators=100, n_jobs=-1,\n",
       "                                       oob_score=False, random_state=5786,\n",
       "                                       verbose=0, warm_start=False))],\n",
       "          verbose=False),\n",
       " 'models_classif/toruse/et.pkl')"
      ]
     },
     "execution_count": 49,
     "metadata": {},
     "output_type": "execute_result"
    }
   ],
   "source": [
    "save_model(et, 'models_classif/toruse/et')"
   ]
  },
  {
   "cell_type": "markdown",
   "metadata": {},
   "source": [
    "# Light Gradient Boosting Machine"
   ]
  },
  {
   "cell_type": "code",
   "execution_count": 50,
   "metadata": {},
   "outputs": [
    {
     "data": {
      "text/html": [],
      "text/plain": [
       "<IPython.core.display.HTML object>"
      ]
     },
     "metadata": {},
     "output_type": "display_data"
    },
    {
     "data": {
      "text/html": [
       "<style type=\"text/css\">\n",
       "#T_79a13_row10_col0, #T_79a13_row10_col1, #T_79a13_row10_col2, #T_79a13_row10_col3, #T_79a13_row10_col4, #T_79a13_row10_col5, #T_79a13_row10_col6 {\n",
       "  background: yellow;\n",
       "}\n",
       "</style>\n",
       "<table id=\"T_79a13\">\n",
       "  <thead>\n",
       "    <tr>\n",
       "      <th class=\"blank level0\" >&nbsp;</th>\n",
       "      <th id=\"T_79a13_level0_col0\" class=\"col_heading level0 col0\" >Accuracy</th>\n",
       "      <th id=\"T_79a13_level0_col1\" class=\"col_heading level0 col1\" >AUC</th>\n",
       "      <th id=\"T_79a13_level0_col2\" class=\"col_heading level0 col2\" >Recall</th>\n",
       "      <th id=\"T_79a13_level0_col3\" class=\"col_heading level0 col3\" >Prec.</th>\n",
       "      <th id=\"T_79a13_level0_col4\" class=\"col_heading level0 col4\" >F1</th>\n",
       "      <th id=\"T_79a13_level0_col5\" class=\"col_heading level0 col5\" >Kappa</th>\n",
       "      <th id=\"T_79a13_level0_col6\" class=\"col_heading level0 col6\" >MCC</th>\n",
       "    </tr>\n",
       "    <tr>\n",
       "      <th class=\"index_name level0\" >Fold</th>\n",
       "      <th class=\"blank col0\" >&nbsp;</th>\n",
       "      <th class=\"blank col1\" >&nbsp;</th>\n",
       "      <th class=\"blank col2\" >&nbsp;</th>\n",
       "      <th class=\"blank col3\" >&nbsp;</th>\n",
       "      <th class=\"blank col4\" >&nbsp;</th>\n",
       "      <th class=\"blank col5\" >&nbsp;</th>\n",
       "      <th class=\"blank col6\" >&nbsp;</th>\n",
       "    </tr>\n",
       "  </thead>\n",
       "  <tbody>\n",
       "    <tr>\n",
       "      <th id=\"T_79a13_level0_row0\" class=\"row_heading level0 row0\" >0</th>\n",
       "      <td id=\"T_79a13_row0_col0\" class=\"data row0 col0\" >0.8608</td>\n",
       "      <td id=\"T_79a13_row0_col1\" class=\"data row0 col1\" >0.9201</td>\n",
       "      <td id=\"T_79a13_row0_col2\" class=\"data row0 col2\" >0.9892</td>\n",
       "      <td id=\"T_79a13_row0_col3\" class=\"data row0 col3\" >0.7871</td>\n",
       "      <td id=\"T_79a13_row0_col4\" class=\"data row0 col4\" >0.8766</td>\n",
       "      <td id=\"T_79a13_row0_col5\" class=\"data row0 col5\" >0.7216</td>\n",
       "      <td id=\"T_79a13_row0_col6\" class=\"data row0 col6\" >0.7466</td>\n",
       "    </tr>\n",
       "    <tr>\n",
       "      <th id=\"T_79a13_level0_row1\" class=\"row_heading level0 row1\" >1</th>\n",
       "      <td id=\"T_79a13_row1_col0\" class=\"data row1 col0\" >0.8591</td>\n",
       "      <td id=\"T_79a13_row1_col1\" class=\"data row1 col1\" >0.9203</td>\n",
       "      <td id=\"T_79a13_row1_col2\" class=\"data row1 col2\" >0.9893</td>\n",
       "      <td id=\"T_79a13_row1_col3\" class=\"data row1 col3\" >0.7849</td>\n",
       "      <td id=\"T_79a13_row1_col4\" class=\"data row1 col4\" >0.8753</td>\n",
       "      <td id=\"T_79a13_row1_col5\" class=\"data row1 col5\" >0.7181</td>\n",
       "      <td id=\"T_79a13_row1_col6\" class=\"data row1 col6\" >0.7438</td>\n",
       "    </tr>\n",
       "    <tr>\n",
       "      <th id=\"T_79a13_level0_row2\" class=\"row_heading level0 row2\" >2</th>\n",
       "      <td id=\"T_79a13_row2_col0\" class=\"data row2 col0\" >0.8563</td>\n",
       "      <td id=\"T_79a13_row2_col1\" class=\"data row2 col1\" >0.9184</td>\n",
       "      <td id=\"T_79a13_row2_col2\" class=\"data row2 col2\" >0.9852</td>\n",
       "      <td id=\"T_79a13_row2_col3\" class=\"data row2 col3\" >0.7833</td>\n",
       "      <td id=\"T_79a13_row2_col4\" class=\"data row2 col4\" >0.8727</td>\n",
       "      <td id=\"T_79a13_row2_col5\" class=\"data row2 col5\" >0.7126</td>\n",
       "      <td id=\"T_79a13_row2_col6\" class=\"data row2 col6\" >0.7375</td>\n",
       "    </tr>\n",
       "    <tr>\n",
       "      <th id=\"T_79a13_level0_row3\" class=\"row_heading level0 row3\" >3</th>\n",
       "      <td id=\"T_79a13_row3_col0\" class=\"data row3 col0\" >0.8569</td>\n",
       "      <td id=\"T_79a13_row3_col1\" class=\"data row3 col1\" >0.9178</td>\n",
       "      <td id=\"T_79a13_row3_col2\" class=\"data row3 col2\" >0.9881</td>\n",
       "      <td id=\"T_79a13_row3_col3\" class=\"data row3 col3\" >0.7828</td>\n",
       "      <td id=\"T_79a13_row3_col4\" class=\"data row3 col4\" >0.8735</td>\n",
       "      <td id=\"T_79a13_row3_col5\" class=\"data row3 col5\" >0.7139</td>\n",
       "      <td id=\"T_79a13_row3_col6\" class=\"data row3 col6\" >0.7398</td>\n",
       "    </tr>\n",
       "    <tr>\n",
       "      <th id=\"T_79a13_level0_row4\" class=\"row_heading level0 row4\" >4</th>\n",
       "      <td id=\"T_79a13_row4_col0\" class=\"data row4 col0\" >0.8584</td>\n",
       "      <td id=\"T_79a13_row4_col1\" class=\"data row4 col1\" >0.9214</td>\n",
       "      <td id=\"T_79a13_row4_col2\" class=\"data row4 col2\" >0.9889</td>\n",
       "      <td id=\"T_79a13_row4_col3\" class=\"data row4 col3\" >0.7842</td>\n",
       "      <td id=\"T_79a13_row4_col4\" class=\"data row4 col4\" >0.8747</td>\n",
       "      <td id=\"T_79a13_row4_col5\" class=\"data row4 col5\" >0.7167</td>\n",
       "      <td id=\"T_79a13_row4_col6\" class=\"data row4 col6\" >0.7425</td>\n",
       "    </tr>\n",
       "    <tr>\n",
       "      <th id=\"T_79a13_level0_row5\" class=\"row_heading level0 row5\" >5</th>\n",
       "      <td id=\"T_79a13_row5_col0\" class=\"data row5 col0\" >0.8580</td>\n",
       "      <td id=\"T_79a13_row5_col1\" class=\"data row5 col1\" >0.9178</td>\n",
       "      <td id=\"T_79a13_row5_col2\" class=\"data row5 col2\" >0.9862</td>\n",
       "      <td id=\"T_79a13_row5_col3\" class=\"data row5 col3\" >0.7850</td>\n",
       "      <td id=\"T_79a13_row5_col4\" class=\"data row5 col4\" >0.8741</td>\n",
       "      <td id=\"T_79a13_row5_col5\" class=\"data row5 col5\" >0.7160</td>\n",
       "      <td id=\"T_79a13_row5_col6\" class=\"data row5 col6\" >0.7407</td>\n",
       "    </tr>\n",
       "    <tr>\n",
       "      <th id=\"T_79a13_level0_row6\" class=\"row_heading level0 row6\" >6</th>\n",
       "      <td id=\"T_79a13_row6_col0\" class=\"data row6 col0\" >0.8587</td>\n",
       "      <td id=\"T_79a13_row6_col1\" class=\"data row6 col1\" >0.9197</td>\n",
       "      <td id=\"T_79a13_row6_col2\" class=\"data row6 col2\" >0.9902</td>\n",
       "      <td id=\"T_79a13_row6_col3\" class=\"data row6 col3\" >0.7840</td>\n",
       "      <td id=\"T_79a13_row6_col4\" class=\"data row6 col4\" >0.8751</td>\n",
       "      <td id=\"T_79a13_row6_col5\" class=\"data row6 col5\" >0.7174</td>\n",
       "      <td id=\"T_79a13_row6_col6\" class=\"data row6 col6\" >0.7436</td>\n",
       "    </tr>\n",
       "    <tr>\n",
       "      <th id=\"T_79a13_level0_row7\" class=\"row_heading level0 row7\" >7</th>\n",
       "      <td id=\"T_79a13_row7_col0\" class=\"data row7 col0\" >0.8607</td>\n",
       "      <td id=\"T_79a13_row7_col1\" class=\"data row7 col1\" >0.9218</td>\n",
       "      <td id=\"T_79a13_row7_col2\" class=\"data row7 col2\" >0.9886</td>\n",
       "      <td id=\"T_79a13_row7_col3\" class=\"data row7 col3\" >0.7872</td>\n",
       "      <td id=\"T_79a13_row7_col4\" class=\"data row7 col4\" >0.8765</td>\n",
       "      <td id=\"T_79a13_row7_col5\" class=\"data row7 col5\" >0.7213</td>\n",
       "      <td id=\"T_79a13_row7_col6\" class=\"data row7 col6\" >0.7462</td>\n",
       "    </tr>\n",
       "    <tr>\n",
       "      <th id=\"T_79a13_level0_row8\" class=\"row_heading level0 row8\" >8</th>\n",
       "      <td id=\"T_79a13_row8_col0\" class=\"data row8 col0\" >0.8560</td>\n",
       "      <td id=\"T_79a13_row8_col1\" class=\"data row8 col1\" >0.9174</td>\n",
       "      <td id=\"T_79a13_row8_col2\" class=\"data row8 col2\" >0.9870</td>\n",
       "      <td id=\"T_79a13_row8_col3\" class=\"data row8 col3\" >0.7821</td>\n",
       "      <td id=\"T_79a13_row8_col4\" class=\"data row8 col4\" >0.8727</td>\n",
       "      <td id=\"T_79a13_row8_col5\" class=\"data row8 col5\" >0.7120</td>\n",
       "      <td id=\"T_79a13_row8_col6\" class=\"data row8 col6\" >0.7378</td>\n",
       "    </tr>\n",
       "    <tr>\n",
       "      <th id=\"T_79a13_level0_row9\" class=\"row_heading level0 row9\" >9</th>\n",
       "      <td id=\"T_79a13_row9_col0\" class=\"data row9 col0\" >0.8569</td>\n",
       "      <td id=\"T_79a13_row9_col1\" class=\"data row9 col1\" >0.9191</td>\n",
       "      <td id=\"T_79a13_row9_col2\" class=\"data row9 col2\" >0.9878</td>\n",
       "      <td id=\"T_79a13_row9_col3\" class=\"data row9 col3\" >0.7829</td>\n",
       "      <td id=\"T_79a13_row9_col4\" class=\"data row9 col4\" >0.8735</td>\n",
       "      <td id=\"T_79a13_row9_col5\" class=\"data row9 col5\" >0.7139</td>\n",
       "      <td id=\"T_79a13_row9_col6\" class=\"data row9 col6\" >0.7396</td>\n",
       "    </tr>\n",
       "    <tr>\n",
       "      <th id=\"T_79a13_level0_row10\" class=\"row_heading level0 row10\" >Mean</th>\n",
       "      <td id=\"T_79a13_row10_col0\" class=\"data row10 col0\" >0.8582</td>\n",
       "      <td id=\"T_79a13_row10_col1\" class=\"data row10 col1\" >0.9194</td>\n",
       "      <td id=\"T_79a13_row10_col2\" class=\"data row10 col2\" >0.9880</td>\n",
       "      <td id=\"T_79a13_row10_col3\" class=\"data row10 col3\" >0.7843</td>\n",
       "      <td id=\"T_79a13_row10_col4\" class=\"data row10 col4\" >0.8745</td>\n",
       "      <td id=\"T_79a13_row10_col5\" class=\"data row10 col5\" >0.7164</td>\n",
       "      <td id=\"T_79a13_row10_col6\" class=\"data row10 col6\" >0.7418</td>\n",
       "    </tr>\n",
       "    <tr>\n",
       "      <th id=\"T_79a13_level0_row11\" class=\"row_heading level0 row11\" >Std</th>\n",
       "      <td id=\"T_79a13_row11_col0\" class=\"data row11 col0\" >0.0016</td>\n",
       "      <td id=\"T_79a13_row11_col1\" class=\"data row11 col1\" >0.0014</td>\n",
       "      <td id=\"T_79a13_row11_col2\" class=\"data row11 col2\" >0.0015</td>\n",
       "      <td id=\"T_79a13_row11_col3\" class=\"data row11 col3\" >0.0017</td>\n",
       "      <td id=\"T_79a13_row11_col4\" class=\"data row11 col4\" >0.0013</td>\n",
       "      <td id=\"T_79a13_row11_col5\" class=\"data row11 col5\" >0.0032</td>\n",
       "      <td id=\"T_79a13_row11_col6\" class=\"data row11 col6\" >0.0031</td>\n",
       "    </tr>\n",
       "  </tbody>\n",
       "</table>\n"
      ],
      "text/plain": [
       "<pandas.io.formats.style.Styler at 0x7f478b9a2c20>"
      ]
     },
     "metadata": {},
     "output_type": "display_data"
    },
    {
     "data": {
      "text/html": [],
      "text/plain": [
       "<IPython.core.display.HTML object>"
      ]
     },
     "metadata": {},
     "output_type": "display_data"
    }
   ],
   "source": [
    "lightgbm = create_model('lightgbm')"
   ]
  },
  {
   "cell_type": "code",
   "execution_count": 51,
   "metadata": {},
   "outputs": [
    {
     "data": {
      "text/html": [],
      "text/plain": [
       "<IPython.core.display.HTML object>"
      ]
     },
     "metadata": {},
     "output_type": "display_data"
    },
    {
     "data": {
      "image/png": "[encoded data removed]",
      "text/plain": [
       "<Figure size 800x550 with 1 Axes>"
      ]
     },
     "metadata": {},
     "output_type": "display_data"
    }
   ],
   "source": [
    "plot_model(lightgbm, plot = 'confusion_matrix')"
   ]
  },
  {
   "cell_type": "code",
   "execution_count": 52,
   "metadata": {},
   "outputs": [
    {
     "data": {
      "text/html": [],
      "text/plain": [
       "<IPython.core.display.HTML object>"
      ]
     },
     "metadata": {},
     "output_type": "display_data"
    },
    {
     "data": {
      "image/png": "[encoded data removed]",
      "text/plain": [
       "<Figure size 800x550 with 1 Axes>"
      ]
     },
     "metadata": {},
     "output_type": "display_data"
    }
   ],
   "source": [
    "plot_model(lightgbm, plot = 'error')"
   ]
  },
  {
   "cell_type": "code",
   "execution_count": 53,
   "metadata": {},
   "outputs": [
    {
     "data": {
      "text/html": [],
      "text/plain": [
       "<IPython.core.display.HTML object>"
      ]
     },
     "metadata": {},
     "output_type": "display_data"
    },
    {
     "data": {
      "text/html": [
       "<div>\n",
       "<style scoped>\n",
       "    .dataframe tbody tr th:only-of-type {\n",
       "        vertical-align: middle;\n",
       "    }\n",
       "\n",
       "    .dataframe tbody tr th {\n",
       "        vertical-align: top;\n",
       "    }\n",
       "\n",
       "    .dataframe thead th {\n",
       "        text-align: right;\n",
       "    }\n",
       "</style>\n",
       "<table border=\"1\" class=\"dataframe\">\n",
       "  <thead>\n",
       "    <tr style=\"text-align: right;\">\n",
       "      <th></th>\n",
       "      <th>Parameters</th>\n",
       "    </tr>\n",
       "  </thead>\n",
       "  <tbody>\n",
       "    <tr>\n",
       "      <th>boosting_type</th>\n",
       "      <td>gbdt</td>\n",
       "    </tr>\n",
       "    <tr>\n",
       "      <th>class_weight</th>\n",
       "      <td>None</td>\n",
       "    </tr>\n",
       "    <tr>\n",
       "      <th>colsample_bytree</th>\n",
       "      <td>1.0</td>\n",
       "    </tr>\n",
       "    <tr>\n",
       "      <th>importance_type</th>\n",
       "      <td>split</td>\n",
       "    </tr>\n",
       "    <tr>\n",
       "      <th>learning_rate</th>\n",
       "      <td>0.1</td>\n",
       "    </tr>\n",
       "    <tr>\n",
       "      <th>max_depth</th>\n",
       "      <td>-1</td>\n",
       "    </tr>\n",
       "    <tr>\n",
       "      <th>min_child_samples</th>\n",
       "      <td>20</td>\n",
       "    </tr>\n",
       "    <tr>\n",
       "      <th>min_child_weight</th>\n",
       "      <td>0.001</td>\n",
       "    </tr>\n",
       "    <tr>\n",
       "      <th>min_split_gain</th>\n",
       "      <td>0.0</td>\n",
       "    </tr>\n",
       "    <tr>\n",
       "      <th>n_estimators</th>\n",
       "      <td>100</td>\n",
       "    </tr>\n",
       "    <tr>\n",
       "      <th>n_jobs</th>\n",
       "      <td>-1</td>\n",
       "    </tr>\n",
       "    <tr>\n",
       "      <th>num_leaves</th>\n",
       "      <td>31</td>\n",
       "    </tr>\n",
       "    <tr>\n",
       "      <th>objective</th>\n",
       "      <td>None</td>\n",
       "    </tr>\n",
       "    <tr>\n",
       "      <th>random_state</th>\n",
       "      <td>5786</td>\n",
       "    </tr>\n",
       "    <tr>\n",
       "      <th>reg_alpha</th>\n",
       "      <td>0.0</td>\n",
       "    </tr>\n",
       "    <tr>\n",
       "      <th>reg_lambda</th>\n",
       "      <td>0.0</td>\n",
       "    </tr>\n",
       "    <tr>\n",
       "      <th>silent</th>\n",
       "      <td>warn</td>\n",
       "    </tr>\n",
       "    <tr>\n",
       "      <th>subsample</th>\n",
       "      <td>1.0</td>\n",
       "    </tr>\n",
       "    <tr>\n",
       "      <th>subsample_for_bin</th>\n",
       "      <td>200000</td>\n",
       "    </tr>\n",
       "    <tr>\n",
       "      <th>subsample_freq</th>\n",
       "      <td>0</td>\n",
       "    </tr>\n",
       "  </tbody>\n",
       "</table>\n",
       "</div>"
      ],
      "text/plain": [
       "                  Parameters\n",
       "boosting_type           gbdt\n",
       "class_weight            None\n",
       "colsample_bytree         1.0\n",
       "importance_type        split\n",
       "learning_rate            0.1\n",
       "max_depth                 -1\n",
       "min_child_samples         20\n",
       "min_child_weight       0.001\n",
       "min_split_gain           0.0\n",
       "n_estimators             100\n",
       "n_jobs                    -1\n",
       "num_leaves                31\n",
       "objective               None\n",
       "random_state            5786\n",
       "reg_alpha                0.0\n",
       "reg_lambda               0.0\n",
       "silent                  warn\n",
       "subsample                1.0\n",
       "subsample_for_bin     200000\n",
       "subsample_freq             0"
      ]
     },
     "metadata": {},
     "output_type": "display_data"
    }
   ],
   "source": [
    "plot_model(lightgbm, plot = 'parameter')"
   ]
  },
  {
   "cell_type": "code",
   "execution_count": 54,
   "metadata": {},
   "outputs": [
    {
     "name": "stdout",
     "output_type": "stream",
     "text": [
      "Transformation Pipeline and Model Successfully Saved\n"
     ]
    },
    {
     "data": {
      "text/plain": [
       "(Pipeline(memory=FastMemory(location=/tmp/joblib),\n",
       "          steps=[('numerical_imputer',\n",
       "                  TransformerWrapper(exclude=None,\n",
       "                                     include=['0', '1', '2', '3', '4', '5', '6',\n",
       "                                              '7', '8', '9', '10', '11', '12',\n",
       "                                              '13', '14', '15', '16', '17', '18',\n",
       "                                              '19', '20', '21', '22', '23', '24',\n",
       "                                              '25', '26', '27', '28', '29', ...],\n",
       "                                     transformer=SimpleImputer(add_indicator=False,\n",
       "                                                               copy=True,\n",
       "                                                               fill_value=None,\n",
       "                                                               keep_empty_feat...\n",
       "                  LGBMClassifier(boosting_type='gbdt', class_weight=None,\n",
       "                                 colsample_bytree=1.0, importance_type='split',\n",
       "                                 learning_rate=0.1, max_depth=-1,\n",
       "                                 min_child_samples=20, min_child_weight=0.001,\n",
       "                                 min_split_gain=0.0, n_estimators=100, n_jobs=-1,\n",
       "                                 num_leaves=31, objective=None,\n",
       "                                 random_state=5786, reg_alpha=0.0,\n",
       "                                 reg_lambda=0.0, silent='warn', subsample=1.0,\n",
       "                                 subsample_for_bin=200000, subsample_freq=0))],\n",
       "          verbose=False),\n",
       " 'models_classif/toruse/lightgbm.pkl')"
      ]
     },
     "execution_count": 54,
     "metadata": {},
     "output_type": "execute_result"
    }
   ],
   "source": [
    "save_model(lightgbm, 'models_classif/toruse/lightgbm')"
   ]
  },
  {
   "cell_type": "markdown",
   "metadata": {
    "tags": []
   },
   "source": [
    "# MLP Classifier"
   ]
  },
  {
   "cell_type": "code",
   "execution_count": 60,
   "metadata": {},
   "outputs": [
    {
     "data": {
      "text/html": [],
      "text/plain": [
       "<IPython.core.display.HTML object>"
      ]
     },
     "metadata": {},
     "output_type": "display_data"
    },
    {
     "data": {
      "text/html": [
       "<style type=\"text/css\">\n",
       "#T_2889a_row10_col0, #T_2889a_row10_col1, #T_2889a_row10_col2, #T_2889a_row10_col3, #T_2889a_row10_col4, #T_2889a_row10_col5, #T_2889a_row10_col6 {\n",
       "  background: yellow;\n",
       "}\n",
       "</style>\n",
       "<table id=\"T_2889a\">\n",
       "  <thead>\n",
       "    <tr>\n",
       "      <th class=\"blank level0\" >&nbsp;</th>\n",
       "      <th id=\"T_2889a_level0_col0\" class=\"col_heading level0 col0\" >Accuracy</th>\n",
       "      <th id=\"T_2889a_level0_col1\" class=\"col_heading level0 col1\" >AUC</th>\n",
       "      <th id=\"T_2889a_level0_col2\" class=\"col_heading level0 col2\" >Recall</th>\n",
       "      <th id=\"T_2889a_level0_col3\" class=\"col_heading level0 col3\" >Prec.</th>\n",
       "      <th id=\"T_2889a_level0_col4\" class=\"col_heading level0 col4\" >F1</th>\n",
       "      <th id=\"T_2889a_level0_col5\" class=\"col_heading level0 col5\" >Kappa</th>\n",
       "      <th id=\"T_2889a_level0_col6\" class=\"col_heading level0 col6\" >MCC</th>\n",
       "    </tr>\n",
       "    <tr>\n",
       "      <th class=\"index_name level0\" >Fold</th>\n",
       "      <th class=\"blank col0\" >&nbsp;</th>\n",
       "      <th class=\"blank col1\" >&nbsp;</th>\n",
       "      <th class=\"blank col2\" >&nbsp;</th>\n",
       "      <th class=\"blank col3\" >&nbsp;</th>\n",
       "      <th class=\"blank col4\" >&nbsp;</th>\n",
       "      <th class=\"blank col5\" >&nbsp;</th>\n",
       "      <th class=\"blank col6\" >&nbsp;</th>\n",
       "    </tr>\n",
       "  </thead>\n",
       "  <tbody>\n",
       "    <tr>\n",
       "      <th id=\"T_2889a_level0_row0\" class=\"row_heading level0 row0\" >0</th>\n",
       "      <td id=\"T_2889a_row0_col0\" class=\"data row0 col0\" >0.8579</td>\n",
       "      <td id=\"T_2889a_row0_col1\" class=\"data row0 col1\" >0.9090</td>\n",
       "      <td id=\"T_2889a_row0_col2\" class=\"data row0 col2\" >0.9809</td>\n",
       "      <td id=\"T_2889a_row0_col3\" class=\"data row0 col3\" >0.7872</td>\n",
       "      <td id=\"T_2889a_row0_col4\" class=\"data row0 col4\" >0.8735</td>\n",
       "      <td id=\"T_2889a_row0_col5\" class=\"data row0 col5\" >0.7158</td>\n",
       "      <td id=\"T_2889a_row0_col6\" class=\"data row0 col6\" >0.7385</td>\n",
       "    </tr>\n",
       "    <tr>\n",
       "      <th id=\"T_2889a_level0_row1\" class=\"row_heading level0 row1\" >1</th>\n",
       "      <td id=\"T_2889a_row1_col0\" class=\"data row1 col0\" >0.8547</td>\n",
       "      <td id=\"T_2889a_row1_col1\" class=\"data row1 col1\" >0.9088</td>\n",
       "      <td id=\"T_2889a_row1_col2\" class=\"data row1 col2\" >0.9765</td>\n",
       "      <td id=\"T_2889a_row1_col3\" class=\"data row1 col3\" >0.7852</td>\n",
       "      <td id=\"T_2889a_row1_col4\" class=\"data row1 col4\" >0.8705</td>\n",
       "      <td id=\"T_2889a_row1_col5\" class=\"data row1 col5\" >0.7094</td>\n",
       "      <td id=\"T_2889a_row1_col6\" class=\"data row1 col6\" >0.7315</td>\n",
       "    </tr>\n",
       "    <tr>\n",
       "      <th id=\"T_2889a_level0_row2\" class=\"row_heading level0 row2\" >2</th>\n",
       "      <td id=\"T_2889a_row2_col0\" class=\"data row2 col0\" >0.8541</td>\n",
       "      <td id=\"T_2889a_row2_col1\" class=\"data row2 col1\" >0.9067</td>\n",
       "      <td id=\"T_2889a_row2_col2\" class=\"data row2 col2\" >0.9827</td>\n",
       "      <td id=\"T_2889a_row2_col3\" class=\"data row2 col3\" >0.7817</td>\n",
       "      <td id=\"T_2889a_row2_col4\" class=\"data row2 col4\" >0.8707</td>\n",
       "      <td id=\"T_2889a_row2_col5\" class=\"data row2 col5\" >0.7082</td>\n",
       "      <td id=\"T_2889a_row2_col6\" class=\"data row2 col6\" >0.7329</td>\n",
       "    </tr>\n",
       "    <tr>\n",
       "      <th id=\"T_2889a_level0_row3\" class=\"row_heading level0 row3\" >3</th>\n",
       "      <td id=\"T_2889a_row3_col0\" class=\"data row3 col0\" >0.8533</td>\n",
       "      <td id=\"T_2889a_row3_col1\" class=\"data row3 col1\" >0.9079</td>\n",
       "      <td id=\"T_2889a_row3_col2\" class=\"data row3 col2\" >0.9804</td>\n",
       "      <td id=\"T_2889a_row3_col3\" class=\"data row3 col3\" >0.7817</td>\n",
       "      <td id=\"T_2889a_row3_col4\" class=\"data row3 col4\" >0.8699</td>\n",
       "      <td id=\"T_2889a_row3_col5\" class=\"data row3 col5\" >0.7066</td>\n",
       "      <td id=\"T_2889a_row3_col6\" class=\"data row3 col6\" >0.7306</td>\n",
       "    </tr>\n",
       "    <tr>\n",
       "      <th id=\"T_2889a_level0_row4\" class=\"row_heading level0 row4\" >4</th>\n",
       "      <td id=\"T_2889a_row4_col0\" class=\"data row4 col0\" >0.8536</td>\n",
       "      <td id=\"T_2889a_row4_col1\" class=\"data row4 col1\" >0.9117</td>\n",
       "      <td id=\"T_2889a_row4_col2\" class=\"data row4 col2\" >0.9767</td>\n",
       "      <td id=\"T_2889a_row4_col3\" class=\"data row4 col3\" >0.7838</td>\n",
       "      <td id=\"T_2889a_row4_col4\" class=\"data row4 col4\" >0.8697</td>\n",
       "      <td id=\"T_2889a_row4_col5\" class=\"data row4 col5\" >0.7072</td>\n",
       "      <td id=\"T_2889a_row4_col6\" class=\"data row4 col6\" >0.7297</td>\n",
       "    </tr>\n",
       "    <tr>\n",
       "      <th id=\"T_2889a_level0_row5\" class=\"row_heading level0 row5\" >5</th>\n",
       "      <td id=\"T_2889a_row5_col0\" class=\"data row5 col0\" >0.8521</td>\n",
       "      <td id=\"T_2889a_row5_col1\" class=\"data row5 col1\" >0.9071</td>\n",
       "      <td id=\"T_2889a_row5_col2\" class=\"data row5 col2\" >0.9706</td>\n",
       "      <td id=\"T_2889a_row5_col3\" class=\"data row5 col3\" >0.7847</td>\n",
       "      <td id=\"T_2889a_row5_col4\" class=\"data row5 col4\" >0.8678</td>\n",
       "      <td id=\"T_2889a_row5_col5\" class=\"data row5 col5\" >0.7042</td>\n",
       "      <td id=\"T_2889a_row5_col6\" class=\"data row5 col6\" >0.7249</td>\n",
       "    </tr>\n",
       "    <tr>\n",
       "      <th id=\"T_2889a_level0_row6\" class=\"row_heading level0 row6\" >6</th>\n",
       "      <td id=\"T_2889a_row6_col0\" class=\"data row6 col0\" >0.8542</td>\n",
       "      <td id=\"T_2889a_row6_col1\" class=\"data row6 col1\" >0.9067</td>\n",
       "      <td id=\"T_2889a_row6_col2\" class=\"data row6 col2\" >0.9764</td>\n",
       "      <td id=\"T_2889a_row6_col3\" class=\"data row6 col3\" >0.7847</td>\n",
       "      <td id=\"T_2889a_row6_col4\" class=\"data row6 col4\" >0.8701</td>\n",
       "      <td id=\"T_2889a_row6_col5\" class=\"data row6 col5\" >0.7084</td>\n",
       "      <td id=\"T_2889a_row6_col6\" class=\"data row6 col6\" >0.7305</td>\n",
       "    </tr>\n",
       "    <tr>\n",
       "      <th id=\"T_2889a_level0_row7\" class=\"row_heading level0 row7\" >7</th>\n",
       "      <td id=\"T_2889a_row7_col0\" class=\"data row7 col0\" >0.8562</td>\n",
       "      <td id=\"T_2889a_row7_col1\" class=\"data row7 col1\" >0.9084</td>\n",
       "      <td id=\"T_2889a_row7_col2\" class=\"data row7 col2\" >0.9781</td>\n",
       "      <td id=\"T_2889a_row7_col3\" class=\"data row7 col3\" >0.7863</td>\n",
       "      <td id=\"T_2889a_row7_col4\" class=\"data row7 col4\" >0.8718</td>\n",
       "      <td id=\"T_2889a_row7_col5\" class=\"data row7 col5\" >0.7123</td>\n",
       "      <td id=\"T_2889a_row7_col6\" class=\"data row7 col6\" >0.7345</td>\n",
       "    </tr>\n",
       "    <tr>\n",
       "      <th id=\"T_2889a_level0_row8\" class=\"row_heading level0 row8\" >8</th>\n",
       "      <td id=\"T_2889a_row8_col0\" class=\"data row8 col0\" >0.8521</td>\n",
       "      <td id=\"T_2889a_row8_col1\" class=\"data row8 col1\" >0.9051</td>\n",
       "      <td id=\"T_2889a_row8_col2\" class=\"data row8 col2\" >0.9786</td>\n",
       "      <td id=\"T_2889a_row8_col3\" class=\"data row8 col3\" >0.7810</td>\n",
       "      <td id=\"T_2889a_row8_col4\" class=\"data row8 col4\" >0.8687</td>\n",
       "      <td id=\"T_2889a_row8_col5\" class=\"data row8 col5\" >0.7042</td>\n",
       "      <td id=\"T_2889a_row8_col6\" class=\"data row8 col6\" >0.7279</td>\n",
       "    </tr>\n",
       "    <tr>\n",
       "      <th id=\"T_2889a_level0_row9\" class=\"row_heading level0 row9\" >9</th>\n",
       "      <td id=\"T_2889a_row9_col0\" class=\"data row9 col0\" >0.8540</td>\n",
       "      <td id=\"T_2889a_row9_col1\" class=\"data row9 col1\" >0.9082</td>\n",
       "      <td id=\"T_2889a_row9_col2\" class=\"data row9 col2\" >0.9790</td>\n",
       "      <td id=\"T_2889a_row9_col3\" class=\"data row9 col3\" >0.7833</td>\n",
       "      <td id=\"T_2889a_row9_col4\" class=\"data row9 col4\" >0.8703</td>\n",
       "      <td id=\"T_2889a_row9_col5\" class=\"data row9 col5\" >0.7081</td>\n",
       "      <td id=\"T_2889a_row9_col6\" class=\"data row9 col6\" >0.7313</td>\n",
       "    </tr>\n",
       "    <tr>\n",
       "      <th id=\"T_2889a_level0_row10\" class=\"row_heading level0 row10\" >Mean</th>\n",
       "      <td id=\"T_2889a_row10_col0\" class=\"data row10 col0\" >0.8542</td>\n",
       "      <td id=\"T_2889a_row10_col1\" class=\"data row10 col1\" >0.9080</td>\n",
       "      <td id=\"T_2889a_row10_col2\" class=\"data row10 col2\" >0.9780</td>\n",
       "      <td id=\"T_2889a_row10_col3\" class=\"data row10 col3\" >0.7840</td>\n",
       "      <td id=\"T_2889a_row10_col4\" class=\"data row10 col4\" >0.8703</td>\n",
       "      <td id=\"T_2889a_row10_col5\" class=\"data row10 col5\" >0.7085</td>\n",
       "      <td id=\"T_2889a_row10_col6\" class=\"data row10 col6\" >0.7312</td>\n",
       "    </tr>\n",
       "    <tr>\n",
       "      <th id=\"T_2889a_level0_row11\" class=\"row_heading level0 row11\" >Std</th>\n",
       "      <td id=\"T_2889a_row11_col0\" class=\"data row11 col0\" >0.0017</td>\n",
       "      <td id=\"T_2889a_row11_col1\" class=\"data row11 col1\" >0.0017</td>\n",
       "      <td id=\"T_2889a_row11_col2\" class=\"data row11 col2\" >0.0031</td>\n",
       "      <td id=\"T_2889a_row11_col3\" class=\"data row11 col3\" >0.0020</td>\n",
       "      <td id=\"T_2889a_row11_col4\" class=\"data row11 col4\" >0.0015</td>\n",
       "      <td id=\"T_2889a_row11_col5\" class=\"data row11 col5\" >0.0033</td>\n",
       "      <td id=\"T_2889a_row11_col6\" class=\"data row11 col6\" >0.0035</td>\n",
       "    </tr>\n",
       "  </tbody>\n",
       "</table>\n"
      ],
      "text/plain": [
       "<pandas.io.formats.style.Styler at 0x7f478b828640>"
      ]
     },
     "metadata": {},
     "output_type": "display_data"
    },
    {
     "data": {
      "text/html": [],
      "text/plain": [
       "<IPython.core.display.HTML object>"
      ]
     },
     "metadata": {},
     "output_type": "display_data"
    }
   ],
   "source": [
    "mlp = create_model('mlp')"
   ]
  },
  {
   "cell_type": "code",
   "execution_count": 61,
   "metadata": {},
   "outputs": [
    {
     "data": {
      "text/html": [],
      "text/plain": [
       "<IPython.core.display.HTML object>"
      ]
     },
     "metadata": {},
     "output_type": "display_data"
    },
    {
     "data": {
      "image/png": "[encoded data removed]",
      "text/plain": [
       "<Figure size 800x550 with 1 Axes>"
      ]
     },
     "metadata": {},
     "output_type": "display_data"
    }
   ],
   "source": [
    "plot_model(mlp, plot = 'confusion_matrix')"
   ]
  },
  {
   "cell_type": "code",
   "execution_count": 62,
   "metadata": {},
   "outputs": [
    {
     "data": {
      "text/html": [],
      "text/plain": [
       "<IPython.core.display.HTML object>"
      ]
     },
     "metadata": {},
     "output_type": "display_data"
    },
    {
     "data": {
      "image/png": "[encoded data removed]",
      "text/plain": [
       "<Figure size 800x550 with 1 Axes>"
      ]
     },
     "metadata": {},
     "output_type": "display_data"
    }
   ],
   "source": [
    "plot_model(mlp, plot = 'error')"
   ]
  },
  {
   "cell_type": "code",
   "execution_count": 63,
   "metadata": {},
   "outputs": [
    {
     "data": {
      "text/html": [],
      "text/plain": [
       "<IPython.core.display.HTML object>"
      ]
     },
     "metadata": {},
     "output_type": "display_data"
    },
    {
     "data": {
      "text/html": [
       "<div>\n",
       "<style scoped>\n",
       "    .dataframe tbody tr th:only-of-type {\n",
       "        vertical-align: middle;\n",
       "    }\n",
       "\n",
       "    .dataframe tbody tr th {\n",
       "        vertical-align: top;\n",
       "    }\n",
       "\n",
       "    .dataframe thead th {\n",
       "        text-align: right;\n",
       "    }\n",
       "</style>\n",
       "<table border=\"1\" class=\"dataframe\">\n",
       "  <thead>\n",
       "    <tr style=\"text-align: right;\">\n",
       "      <th></th>\n",
       "      <th>Parameters</th>\n",
       "    </tr>\n",
       "  </thead>\n",
       "  <tbody>\n",
       "    <tr>\n",
       "      <th>activation</th>\n",
       "      <td>relu</td>\n",
       "    </tr>\n",
       "    <tr>\n",
       "      <th>alpha</th>\n",
       "      <td>0.0001</td>\n",
       "    </tr>\n",
       "    <tr>\n",
       "      <th>batch_size</th>\n",
       "      <td>auto</td>\n",
       "    </tr>\n",
       "    <tr>\n",
       "      <th>beta_1</th>\n",
       "      <td>0.9</td>\n",
       "    </tr>\n",
       "    <tr>\n",
       "      <th>beta_2</th>\n",
       "      <td>0.999</td>\n",
       "    </tr>\n",
       "    <tr>\n",
       "      <th>early_stopping</th>\n",
       "      <td>False</td>\n",
       "    </tr>\n",
       "    <tr>\n",
       "      <th>epsilon</th>\n",
       "      <td>1e-08</td>\n",
       "    </tr>\n",
       "    <tr>\n",
       "      <th>hidden_layer_sizes</th>\n",
       "      <td>(100,)</td>\n",
       "    </tr>\n",
       "    <tr>\n",
       "      <th>learning_rate</th>\n",
       "      <td>constant</td>\n",
       "    </tr>\n",
       "    <tr>\n",
       "      <th>learning_rate_init</th>\n",
       "      <td>0.001</td>\n",
       "    </tr>\n",
       "    <tr>\n",
       "      <th>max_fun</th>\n",
       "      <td>15000</td>\n",
       "    </tr>\n",
       "    <tr>\n",
       "      <th>max_iter</th>\n",
       "      <td>500</td>\n",
       "    </tr>\n",
       "    <tr>\n",
       "      <th>momentum</th>\n",
       "      <td>0.9</td>\n",
       "    </tr>\n",
       "    <tr>\n",
       "      <th>n_iter_no_change</th>\n",
       "      <td>10</td>\n",
       "    </tr>\n",
       "    <tr>\n",
       "      <th>nesterovs_momentum</th>\n",
       "      <td>True</td>\n",
       "    </tr>\n",
       "    <tr>\n",
       "      <th>power_t</th>\n",
       "      <td>0.5</td>\n",
       "    </tr>\n",
       "    <tr>\n",
       "      <th>random_state</th>\n",
       "      <td>5786</td>\n",
       "    </tr>\n",
       "    <tr>\n",
       "      <th>shuffle</th>\n",
       "      <td>True</td>\n",
       "    </tr>\n",
       "    <tr>\n",
       "      <th>solver</th>\n",
       "      <td>adam</td>\n",
       "    </tr>\n",
       "    <tr>\n",
       "      <th>tol</th>\n",
       "      <td>0.0001</td>\n",
       "    </tr>\n",
       "    <tr>\n",
       "      <th>validation_fraction</th>\n",
       "      <td>0.1</td>\n",
       "    </tr>\n",
       "    <tr>\n",
       "      <th>verbose</th>\n",
       "      <td>False</td>\n",
       "    </tr>\n",
       "    <tr>\n",
       "      <th>warm_start</th>\n",
       "      <td>False</td>\n",
       "    </tr>\n",
       "  </tbody>\n",
       "</table>\n",
       "</div>"
      ],
      "text/plain": [
       "                    Parameters\n",
       "activation                relu\n",
       "alpha                   0.0001\n",
       "batch_size                auto\n",
       "beta_1                     0.9\n",
       "beta_2                   0.999\n",
       "early_stopping           False\n",
       "epsilon                  1e-08\n",
       "hidden_layer_sizes      (100,)\n",
       "learning_rate         constant\n",
       "learning_rate_init       0.001\n",
       "max_fun                  15000\n",
       "max_iter                   500\n",
       "momentum                   0.9\n",
       "n_iter_no_change            10\n",
       "nesterovs_momentum        True\n",
       "power_t                    0.5\n",
       "random_state              5786\n",
       "shuffle                   True\n",
       "solver                    adam\n",
       "tol                     0.0001\n",
       "validation_fraction        0.1\n",
       "verbose                  False\n",
       "warm_start               False"
      ]
     },
     "metadata": {},
     "output_type": "display_data"
    }
   ],
   "source": [
    "plot_model(mlp, plot = 'parameter')"
   ]
  },
  {
   "cell_type": "code",
   "execution_count": 64,
   "metadata": {
    "tags": []
   },
   "outputs": [
    {
     "name": "stdout",
     "output_type": "stream",
     "text": [
      "Transformation Pipeline and Model Successfully Saved\n"
     ]
    },
    {
     "data": {
      "text/plain": [
       "(Pipeline(memory=FastMemory(location=/tmp/joblib),\n",
       "          steps=[('numerical_imputer',\n",
       "                  TransformerWrapper(exclude=None,\n",
       "                                     include=['0', '1', '2', '3', '4', '5', '6',\n",
       "                                              '7', '8', '9', '10', '11', '12',\n",
       "                                              '13', '14', '15', '16', '17', '18',\n",
       "                                              '19', '20', '21', '22', '23', '24',\n",
       "                                              '25', '26', '27', '28', '29', ...],\n",
       "                                     transformer=SimpleImputer(add_indicator=False,\n",
       "                                                               copy=True,\n",
       "                                                               fill_value=None,\n",
       "                                                               keep_empty_feat...\n",
       "                                batch_size='auto', beta_1=0.9, beta_2=0.999,\n",
       "                                early_stopping=False, epsilon=1e-08,\n",
       "                                hidden_layer_sizes=(100,),\n",
       "                                learning_rate='constant',\n",
       "                                learning_rate_init=0.001, max_fun=15000,\n",
       "                                max_iter=500, momentum=0.9, n_iter_no_change=10,\n",
       "                                nesterovs_momentum=True, power_t=0.5,\n",
       "                                random_state=5786, shuffle=True, solver='adam',\n",
       "                                tol=0.0001, validation_fraction=0.1,\n",
       "                                verbose=False, warm_start=False))],\n",
       "          verbose=False),\n",
       " 'models_classif/toruse/mlp.pkl')"
      ]
     },
     "execution_count": 64,
     "metadata": {},
     "output_type": "execute_result"
    }
   ],
   "source": [
    "save_model(mlp, 'models_classif/toruse/mlp')"
   ]
  }
 ],
 "metadata": {
  "kernelspec": {
   "display_name": "Python 3 (ipykernel)",
   "language": "python",
   "name": "python3"
  },
  "language_info": {
   "codemirror_mode": {
    "name": "ipython",
    "version": 3
   },
   "file_extension": ".py",
   "mimetype": "text/x-python",
   "name": "python",
   "nbconvert_exporter": "python",
   "pygments_lexer": "ipython3",
   "version": "3.10.9"
  },
  "vscode": {
   "interpreter": {
    "hash": "bad715aa2aaeb5e6c151df84b54974e4cb5c7f8696a7ce08edfdc275e59caf55"
   }
  }
 },
 "nbformat": 4,
 "nbformat_minor": 4
}
